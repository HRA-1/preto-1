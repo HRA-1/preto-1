{
 "cells": [
  {
   "cell_type": "code",
   "execution_count": null,
   "id": "1bb4d72a",
   "metadata": {},
   "outputs": [],
   "source": [
    "import pandas as pd"
   ]
  },
  {
   "cell_type": "code",
   "execution_count": null,
   "id": "28ef9f35",
   "metadata": {},
   "outputs": [],
   "source": [
    "# --- 5. ABSENCE TABLE --- (휴직관리)\n",
    "\n",
    "# --- 1. 기본 데이터 정의 ---\n",
    "absence_data = [\n",
    "    {\"ABSENCE_ID\": \"ABS001\", \"ABSENCE_NAME\": \"Parental Leave\", \"ABSENCE_PAY_MIN\": 0.0},\n",
    "    {\"ABSENCE_ID\": \"ABS002\", \"ABSENCE_NAME\": \"Hospital Leave\", \"ABSENCE_PAY_MIN\": 0.0},\n",
    "    {\"ABSENCE_ID\": \"ABS003\", \"ABSENCE_NAME\": \"Educational Leave\", \"ABSENCE_PAY_MIN\": 0.3},\n",
    "    {\"ABSENCE_ID\": \"ABS004\", \"ABSENCE_NAME\": \"General Leave\", \"ABSENCE_PAY_MIN\": 0.0},\n",
    "]\n",
    "\n",
    "# --- 2. 원본 DataFrame (분석용) ---\n",
    "# 데이터 타입을 그대로 유지 (ABSENCE_PAY_MIN은 float)\n",
    "absence_df = pd.DataFrame(absence_data)\n",
    "\n",
    "\n",
    "# --- 3. Google Sheets용 복사본 생성 및 가공 ---\n",
    "absence_df_for_gsheet = absence_df.copy()\n",
    "# 모든 컬럼을 문자열로 변환하고 정리\n",
    "for col in absence_df_for_gsheet.columns:\n",
    "    absence_df_for_gsheet[col] = absence_df_for_gsheet[col].astype(str)\n",
    "absence_df_for_gsheet = absence_df_for_gsheet.replace({'None': '', 'nan': '', 'NaT': ''})\n",
    "\n",
    "\n",
    "# --- 결과 확인 (원본 DataFrame 출력) ---\n",
    "absence_df"
   ]
  }
 ],
 "metadata": {
  "language_info": {
   "name": "python"
  }
 },
 "nbformat": 4,
 "nbformat_minor": 5
}
