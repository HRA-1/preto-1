{
 "cells": [
  {
   "cell_type": "code",
   "execution_count": null,
   "id": "18d6b794",
   "metadata": {},
   "outputs": [],
   "source": [
    "import pandas as pd\n",
    "\n",
    "# ==============================================================================\n",
    "# --- 6. 휴가 유형 관리 (Leave Type Table) ---\n",
    "# ==============================================================================\n",
    "\n",
    "# --- 1. 기본 데이터 정의 ---\n",
    "leave_type_names = [\n",
    "    '연차휴가',\n",
    "    '병휴가',\n",
    "    '경조휴가',\n",
    "    '포상휴가'\n",
    "]\n",
    "\n",
    "# --- 2. 초기 DataFrame 생성 ---\n",
    "leave_type_records = []\n",
    "for i, name in enumerate(leave_type_names, start=1):\n",
    "    record = {\n",
    "        'LEAVE_TYPE_ID': f'LT{i:03d}',\n",
    "        'LEAVE_TYPE_NAME': name\n",
    "    }\n",
    "    leave_type_records.append(record)\n",
    "\n",
    "# --- 3. 원본 DataFrame (분석용) ---\n",
    "leave_type_df = pd.DataFrame(leave_type_records)\n",
    "\n",
    "# --- 4. Google Sheets용 복사본 생성 및 가공 ---\n",
    "leave_type_df_for_gsheet = leave_type_df.copy()\n",
    "for col in leave_type_df_for_gsheet.columns:\n",
    "    leave_type_df_for_gsheet[col] = leave_type_df_for_gsheet[col].astype(str)\n",
    "leave_type_df_for_gsheet = leave_type_df_for_gsheet.replace({'None': '', 'nan': '', 'NaT': ''})"
   ]
  }
 ],
 "metadata": {
  "language_info": {
   "name": "python"
  }
 },
 "nbformat": 4,
 "nbformat_minor": 5
}
