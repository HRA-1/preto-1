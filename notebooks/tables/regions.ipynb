{
 "cells": [
  {
   "cell_type": "code",
   "execution_count": null,
   "id": "1bb4d72a",
   "metadata": {},
   "outputs": [],
   "source": [
    "import pandas as pd"
   ]
  },
  {
   "cell_type": "code",
   "execution_count": null,
   "id": "28ef9f35",
   "metadata": {},
   "outputs": [],
   "source": [
    "# --- 9. REGION TABLE --- (지역관리)\n",
    "\n",
    "# --- 1. 기본 데이터 정의 ---\n",
    "# 국내 지역 (광역시 및 도 기준)\n",
    "domestic_regions = [\n",
    "    \"서울특별시\", \"부산광역시\", \"대구광역시\", \"인천광역시\", \"광주광역시\",\n",
    "    \"대전광역시\", \"울산광역시\", \"세종특별자치시\", \"경기도\", \"강원도\",\n",
    "    \"충청북도\", \"충청남도\", \"전라북도\", \"전라남도\", \"경상북도\",\n",
    "    \"경상남도\", \"제주특별자치도\"\n",
    "]\n",
    "\n",
    "# 해외 국가 예시\n",
    "foreign_regions = [\n",
    "    \"United States\", \"Mexico\", \"Germany\", \"France\",\n",
    "    \"Hungary\", \"China\", \"Vietnam\", \"Philippines\"\n",
    "]\n",
    "\n",
    "# --- 2. 초기 DataFrame 생성 ---\n",
    "regions = []\n",
    "reg_counter = 1\n",
    "\n",
    "for region in domestic_regions:\n",
    "    regions.append({\n",
    "        \"REG_ID\": f\"R{reg_counter:03d}\",\n",
    "        \"REG_NAME\": region,\n",
    "        \"DOMESTIC_YN\": \"Y\"\n",
    "    })\n",
    "    reg_counter += 1\n",
    "\n",
    "for region in foreign_regions:\n",
    "    regions.append({\n",
    "        \"REG_ID\": f\"R{reg_counter:03d}\",\n",
    "        \"REG_NAME\": region,\n",
    "        \"DOMESTIC_YN\": \"N\"\n",
    "    })\n",
    "    reg_counter += 1\n",
    "\n",
    "# --- 3. 원본 DataFrame (분석용) ---\n",
    "# 데이터 타입을 그대로 유지 (모두 문자열)\n",
    "region_df = pd.DataFrame(regions)\n",
    "\n",
    "\n",
    "# --- 4. Google Sheets용 복사본 생성 및 가공 ---\n",
    "region_df_for_gsheet = region_df.copy()\n",
    "# 모든 컬럼을 문자열로 변환하고 정리 (이 테이블은 이미 모두 문자열이지만, 일관성을 위해 추가)\n",
    "for col in region_df_for_gsheet.columns:\n",
    "    region_df_for_gsheet[col] = region_df_for_gsheet[col].astype(str)\n",
    "region_df_for_gsheet = region_df_for_gsheet.replace({'None': '', 'nan': '', 'NaT': ''})\n",
    "\n",
    "\n",
    "# --- 결과 확인 (원본 DataFrame 출력) ---\n",
    "region_df"
   ]
  }
 ],
 "metadata": {
  "language_info": {
   "name": "python"
  }
 },
 "nbformat": 4,
 "nbformat_minor": 5
}
