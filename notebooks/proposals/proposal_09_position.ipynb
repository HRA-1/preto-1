{
 "cells": [
  {
   "cell_type": "code",
   "execution_count": 4,
   "id": "87447cdd",
   "metadata": {},
   "outputs": [
    {
     "data": {
      "application/vnd.plotly.v1+json": {
       "config": {
        "plotlyServerURL": "https://plot.ly"
       },
       "data": [
        {
         "line": {
          "color": "#636EFA"
         },
         "mode": "lines+markers+text",
         "name": "Staff",
         "text": [
          "0.73%",
          "1.66%",
          "1.38%",
          "0.82%",
          "3.37%",
          "4.49%",
          "6.08%",
          "5.26%",
          "3.1%",
          "4.44%",
          "6.47%",
          "6.19%",
          "7.69%",
          "5.19%"
         ],
         "textposition": "top center",
         "type": "scatter",
         "x": {
          "bdata": "3AcAAN0HAADeBwAA3wcAAOAHAADhBwAA4gcAAOMHAADkBwAA5QcAAOYHAADnBwAA6AcAAOkHAAA=",
          "dtype": "i4"
         },
         "y": {
          "bdata": "HCka4o9b5z9Byk1F84T6P7F6WD2sHvY/St5fB2NW6j+ve93rXvcKQCD96Ec/+hFAXWA7ZahVGEDXUF5DeQ0VQDTmjDljzghAvvfee++9EUAJyz2NsNwZQDEMwzAMwxhAT+zETuzEHkDsHVMDe8cUQA==",
          "dtype": "f8"
         }
        },
        {
         "line": {
          "color": "#EF553B"
         },
         "mode": "lines+markers+text",
         "name": "Manager",
         "text": [
          "0.0%",
          "6.9%",
          "0.0%",
          "5.36%",
          "0.0%",
          "2.78%",
          "7.69%",
          "7.19%",
          "8.02%",
          "7.84%",
          "11.59%",
          "8.11%",
          "6.84%",
          "4.91%"
         ],
         "textposition": "top center",
         "type": "scatter",
         "x": {
          "bdata": "3AcAAN0HAADeBwAA3wcAAOAHAADhBwAA4gcAAOMHAADkBwAA5QcAAOYHAADnBwAA6AcAAOkHAAA=",
          "dtype": "i4"
         },
         "y": {
          "bdata": "AAAAAAAAAAAaYbmnEZYbQAAAAAAAAAAA27Zt27ZtFUAAAAAAAAAAAI7jOI7jOAZAT+zETuzEHkCWMgl2Fb4cQAto3K3zCiBAX19fX19fH0BgaPkVDC0nQHaDKfJZNyBAaczicV1gG0ClJhhvZZ8TQA==",
          "dtype": "f8"
         }
        },
        {
         "line": {
          "color": "#00CC96"
         },
         "mode": "lines+markers+text",
         "name": "Director",
         "text": [
          "0.0%",
          "0.0%",
          "33.33%",
          "0.0%",
          "40.0%",
          "8.33%",
          "0.0%",
          "16.0%",
          "2.7%",
          "9.8%",
          "1.67%"
         ],
         "textposition": "top center",
         "type": "scatter",
         "x": {
          "bdata": "3wcAAOAHAADhBwAA4gcAAOMHAADkBwAA5QcAAOYHAADnBwAA6AcAAOkHAAA=",
          "dtype": "i4"
         },
         "y": {
          "bdata": "AAAAAAAAAAAAAAAAAAAAAKqqqqqqqkBAAAAAAAAAAAAAAAAAAABEQKqqqqqqqiBAAAAAAAAAAAAAAAAAAAAwQPJZN5ginwVAnJubm5ubI0Crqqqqqqr6Pw==",
          "dtype": "f8"
         }
        },
        {
         "line": {
          "color": "#636EFA"
         },
         "mode": "lines+markers+text",
         "name": "G1",
         "text": [
          "1.15%",
          "1.77%",
          "0.79%",
          "1.48%",
          "4.23%",
          "3.65%",
          "3.88%",
          "2.59%",
          "0.97%",
          "0.0%",
          "2.47%",
          "3.12%",
          "1.72%",
          "0.0%"
         ],
         "textposition": "top center",
         "type": "scatter",
         "visible": false,
         "x": {
          "bdata": "3AcAAN0HAADeBwAA3wcAAOAHAADhBwAA4gcAAOMHAADkBwAA5QcAAOYHAADnBwAA6AcAAOkHAAA=",
          "dtype": "i4"
         },
         "y": {
          "bdata": "vEAmxQtk8j/sGMW5jlH8P0wmk8lkMuk/Q3sJ7SW09z/YHEi0wuYQQGKzoNpzMg1AwB/wB/wBD0DUCMs9jbAEQBNIJedlEe8/AAAAAAAAAAC35odFysADQAAAAAAAAAlAGmG5pxGW+z8AAAAAAAAAAA==",
          "dtype": "f8"
         }
        },
        {
         "line": {
          "color": "#EF553B"
         },
         "mode": "lines+markers+text",
         "name": "G2",
         "text": [
          "0.0%",
          "1.47%",
          "2.22%",
          "0.0%",
          "2.4%",
          "5.38%",
          "8.21%",
          "7.33%",
          "4.52%",
          "7.14%",
          "8.61%",
          "7.53%",
          "10.22%",
          "7.08%"
         ],
         "textposition": "top center",
         "type": "scatter",
         "visible": false,
         "x": {
          "bdata": "3AcAAN0HAADeBwAA3wcAAOAHAADhBwAA4gcAAOMHAADkBwAA5QcAAOYHAADnBwAA6AcAAOkHAAA=",
          "dtype": "i4"
         },
         "y": {
          "bdata": "AAAAAAAAAACHh4eHh4f3P3Icx3EcxwFAAAAAAAAAAAAzMzMzMzMDQJ7YiZ3YiRVAgsrZLfxqIEBVVVVVVVUdQBBCCCGEEBJAJEmSJEmSHEDK3+Rv8jchQDFixIgRIx5A+ePW5R1wJEDsGMW5jlEcQA==",
          "dtype": "f8"
         }
        },
        {
         "line": {
          "color": "#636EFA"
         },
         "mode": "lines+markers+text",
         "name": "G3",
         "text": [
          "0.0%",
          "7.69%",
          "0.0%",
          "6.12%",
          "0.0%",
          "3.57%",
          "6.45%",
          "5.88%",
          "9.63%",
          "7.46%",
          "11.76%",
          "7.88%",
          "6.83%",
          "6.88%"
         ],
         "textposition": "top center",
         "type": "scatter",
         "visible": false,
         "x": {
          "bdata": "3AcAAN0HAADeBwAA3wcAAOAHAADhBwAA4gcAAOMHAADkBwAA5QcAAOYHAADnBwAA6AcAAOkHAAA=",
          "dtype": "i4"
         },
         "y": {
          "bdata": "AAAAAAAAAABP7MRO7MQeQAAAAAAAAAAAHxrrQ2N9GEAAAAAAAAAAACRJkiRJkgxAzjnnnHPOGUCHh4eHh4cXQCa0l9BeQiNAGhPpgcrZHUCHh4eHh4cnQIMPPvjggx9AI6p19kVUG0ABAAAAAIAbQA==",
          "dtype": "f8"
         }
        },
        {
         "line": {
          "color": "#EF553B"
         },
         "mode": "lines+markers+text",
         "name": "G4",
         "text": [
          "0.0%",
          "0.0%",
          "0.0%",
          "0.0%",
          "0.0%",
          "0.0%",
          "10.81%",
          "10.42%",
          "3.85%",
          "8.57%",
          "11.25%",
          "8.51%",
          "6.86%",
          "1.9%"
         ],
         "textposition": "top center",
         "type": "scatter",
         "visible": false,
         "x": {
          "bdata": "3AcAAN0HAADeBwAA3wcAAOAHAADhBwAA4gcAAOMHAADkBwAA5QcAAOYHAADnBwAA6AcAAOkHAAA=",
          "dtype": "i4"
         },
         "y": {
          "bdata": "AAAAAAAAAAAAAAAAAAAAAAAAAAAAAAAAAAAAAAAAAAAAAAAAAAAAAAAAAAAAAAAA8lk3mCKfJUBWVVVVVdUkQE/sxE7sxA5ASZIkSZIkIUAAAAAAAIAmQMTkCmJyBSFAdHNzc3NzG0Cf53me53n+Pw==",
          "dtype": "f8"
         }
        },
        {
         "line": {
          "color": "#636EFA"
         },
         "mode": "lines+markers+text",
         "name": "G5",
         "text": [
          "0.0%",
          "0.0%",
          "33.33%",
          "0.0%",
          "40.0%",
          "8.33%",
          "0.0%",
          "13.04%",
          "3.12%",
          "9.09%",
          "2.13%"
         ],
         "textposition": "top center",
         "type": "scatter",
         "visible": false,
         "x": {
          "bdata": "3wcAAOAHAADhBwAA4gcAAOMHAADkBwAA5QcAAOYHAADnBwAA6AcAAOkHAAA=",
          "dtype": "i4"
         },
         "y": {
          "bdata": "AAAAAAAAAAAAAAAAAAAAAKqqqqqqqkBAAAAAAAAAAAAAAAAAAABEQKqqqqqqqiBAAAAAAAAAAAAhC1nIQhYqQAAAAAAAAAlAL7rooosuIkDE5ApicgUBQA==",
          "dtype": "f8"
         }
        },
        {
         "line": {
          "color": "#EF553B"
         },
         "mode": "lines+markers+text",
         "name": "G6",
         "text": [
          "0.0%",
          "50.0%",
          "0.0%",
          "14.29%",
          "0.0%"
         ],
         "textposition": "top center",
         "type": "scatter",
         "visible": false,
         "x": {
          "bdata": "5QcAAOYHAADnBwAA6AcAAOkHAAA=",
          "dtype": "i4"
         },
         "y": {
          "bdata": "AAAAAAAAAAAAAAAAAABJQAAAAAAAAAAAJEmSJEmSLEAAAAAAAAAAAA==",
          "dtype": "f8"
         }
        }
       ],
       "layout": {
        "annotations": [
         {
          "align": "left",
          "showarrow": false,
          "text": "직위/직급 선택:",
          "x": 0,
          "y": 1.08,
          "yref": "paper"
         }
        ],
        "font": {
         "size": 14
        },
        "height": 700,
        "legend": {
         "title": {
          "text": "직위"
         }
        },
        "template": {
         "data": {
          "bar": [
           {
            "error_x": {
             "color": "#2a3f5f"
            },
            "error_y": {
             "color": "#2a3f5f"
            },
            "marker": {
             "line": {
              "color": "#E5ECF6",
              "width": 0.5
             },
             "pattern": {
              "fillmode": "overlay",
              "size": 10,
              "solidity": 0.2
             }
            },
            "type": "bar"
           }
          ],
          "barpolar": [
           {
            "marker": {
             "line": {
              "color": "#E5ECF6",
              "width": 0.5
             },
             "pattern": {
              "fillmode": "overlay",
              "size": 10,
              "solidity": 0.2
             }
            },
            "type": "barpolar"
           }
          ],
          "carpet": [
           {
            "aaxis": {
             "endlinecolor": "#2a3f5f",
             "gridcolor": "white",
             "linecolor": "white",
             "minorgridcolor": "white",
             "startlinecolor": "#2a3f5f"
            },
            "baxis": {
             "endlinecolor": "#2a3f5f",
             "gridcolor": "white",
             "linecolor": "white",
             "minorgridcolor": "white",
             "startlinecolor": "#2a3f5f"
            },
            "type": "carpet"
           }
          ],
          "choropleth": [
           {
            "colorbar": {
             "outlinewidth": 0,
             "ticks": ""
            },
            "type": "choropleth"
           }
          ],
          "contour": [
           {
            "colorbar": {
             "outlinewidth": 0,
             "ticks": ""
            },
            "colorscale": [
             [
              0,
              "#0d0887"
             ],
             [
              0.1111111111111111,
              "#46039f"
             ],
             [
              0.2222222222222222,
              "#7201a8"
             ],
             [
              0.3333333333333333,
              "#9c179e"
             ],
             [
              0.4444444444444444,
              "#bd3786"
             ],
             [
              0.5555555555555556,
              "#d8576b"
             ],
             [
              0.6666666666666666,
              "#ed7953"
             ],
             [
              0.7777777777777778,
              "#fb9f3a"
             ],
             [
              0.8888888888888888,
              "#fdca26"
             ],
             [
              1,
              "#f0f921"
             ]
            ],
            "type": "contour"
           }
          ],
          "contourcarpet": [
           {
            "colorbar": {
             "outlinewidth": 0,
             "ticks": ""
            },
            "type": "contourcarpet"
           }
          ],
          "heatmap": [
           {
            "colorbar": {
             "outlinewidth": 0,
             "ticks": ""
            },
            "colorscale": [
             [
              0,
              "#0d0887"
             ],
             [
              0.1111111111111111,
              "#46039f"
             ],
             [
              0.2222222222222222,
              "#7201a8"
             ],
             [
              0.3333333333333333,
              "#9c179e"
             ],
             [
              0.4444444444444444,
              "#bd3786"
             ],
             [
              0.5555555555555556,
              "#d8576b"
             ],
             [
              0.6666666666666666,
              "#ed7953"
             ],
             [
              0.7777777777777778,
              "#fb9f3a"
             ],
             [
              0.8888888888888888,
              "#fdca26"
             ],
             [
              1,
              "#f0f921"
             ]
            ],
            "type": "heatmap"
           }
          ],
          "histogram": [
           {
            "marker": {
             "pattern": {
              "fillmode": "overlay",
              "size": 10,
              "solidity": 0.2
             }
            },
            "type": "histogram"
           }
          ],
          "histogram2d": [
           {
            "colorbar": {
             "outlinewidth": 0,
             "ticks": ""
            },
            "colorscale": [
             [
              0,
              "#0d0887"
             ],
             [
              0.1111111111111111,
              "#46039f"
             ],
             [
              0.2222222222222222,
              "#7201a8"
             ],
             [
              0.3333333333333333,
              "#9c179e"
             ],
             [
              0.4444444444444444,
              "#bd3786"
             ],
             [
              0.5555555555555556,
              "#d8576b"
             ],
             [
              0.6666666666666666,
              "#ed7953"
             ],
             [
              0.7777777777777778,
              "#fb9f3a"
             ],
             [
              0.8888888888888888,
              "#fdca26"
             ],
             [
              1,
              "#f0f921"
             ]
            ],
            "type": "histogram2d"
           }
          ],
          "histogram2dcontour": [
           {
            "colorbar": {
             "outlinewidth": 0,
             "ticks": ""
            },
            "colorscale": [
             [
              0,
              "#0d0887"
             ],
             [
              0.1111111111111111,
              "#46039f"
             ],
             [
              0.2222222222222222,
              "#7201a8"
             ],
             [
              0.3333333333333333,
              "#9c179e"
             ],
             [
              0.4444444444444444,
              "#bd3786"
             ],
             [
              0.5555555555555556,
              "#d8576b"
             ],
             [
              0.6666666666666666,
              "#ed7953"
             ],
             [
              0.7777777777777778,
              "#fb9f3a"
             ],
             [
              0.8888888888888888,
              "#fdca26"
             ],
             [
              1,
              "#f0f921"
             ]
            ],
            "type": "histogram2dcontour"
           }
          ],
          "mesh3d": [
           {
            "colorbar": {
             "outlinewidth": 0,
             "ticks": ""
            },
            "type": "mesh3d"
           }
          ],
          "parcoords": [
           {
            "line": {
             "colorbar": {
              "outlinewidth": 0,
              "ticks": ""
             }
            },
            "type": "parcoords"
           }
          ],
          "pie": [
           {
            "automargin": true,
            "type": "pie"
           }
          ],
          "scatter": [
           {
            "fillpattern": {
             "fillmode": "overlay",
             "size": 10,
             "solidity": 0.2
            },
            "type": "scatter"
           }
          ],
          "scatter3d": [
           {
            "line": {
             "colorbar": {
              "outlinewidth": 0,
              "ticks": ""
             }
            },
            "marker": {
             "colorbar": {
              "outlinewidth": 0,
              "ticks": ""
             }
            },
            "type": "scatter3d"
           }
          ],
          "scattercarpet": [
           {
            "marker": {
             "colorbar": {
              "outlinewidth": 0,
              "ticks": ""
             }
            },
            "type": "scattercarpet"
           }
          ],
          "scattergeo": [
           {
            "marker": {
             "colorbar": {
              "outlinewidth": 0,
              "ticks": ""
             }
            },
            "type": "scattergeo"
           }
          ],
          "scattergl": [
           {
            "marker": {
             "colorbar": {
              "outlinewidth": 0,
              "ticks": ""
             }
            },
            "type": "scattergl"
           }
          ],
          "scattermap": [
           {
            "marker": {
             "colorbar": {
              "outlinewidth": 0,
              "ticks": ""
             }
            },
            "type": "scattermap"
           }
          ],
          "scattermapbox": [
           {
            "marker": {
             "colorbar": {
              "outlinewidth": 0,
              "ticks": ""
             }
            },
            "type": "scattermapbox"
           }
          ],
          "scatterpolar": [
           {
            "marker": {
             "colorbar": {
              "outlinewidth": 0,
              "ticks": ""
             }
            },
            "type": "scatterpolar"
           }
          ],
          "scatterpolargl": [
           {
            "marker": {
             "colorbar": {
              "outlinewidth": 0,
              "ticks": ""
             }
            },
            "type": "scatterpolargl"
           }
          ],
          "scatterternary": [
           {
            "marker": {
             "colorbar": {
              "outlinewidth": 0,
              "ticks": ""
             }
            },
            "type": "scatterternary"
           }
          ],
          "surface": [
           {
            "colorbar": {
             "outlinewidth": 0,
             "ticks": ""
            },
            "colorscale": [
             [
              0,
              "#0d0887"
             ],
             [
              0.1111111111111111,
              "#46039f"
             ],
             [
              0.2222222222222222,
              "#7201a8"
             ],
             [
              0.3333333333333333,
              "#9c179e"
             ],
             [
              0.4444444444444444,
              "#bd3786"
             ],
             [
              0.5555555555555556,
              "#d8576b"
             ],
             [
              0.6666666666666666,
              "#ed7953"
             ],
             [
              0.7777777777777778,
              "#fb9f3a"
             ],
             [
              0.8888888888888888,
              "#fdca26"
             ],
             [
              1,
              "#f0f921"
             ]
            ],
            "type": "surface"
           }
          ],
          "table": [
           {
            "cells": {
             "fill": {
              "color": "#EBF0F8"
             },
             "line": {
              "color": "white"
             }
            },
            "header": {
             "fill": {
              "color": "#C8D4E3"
             },
             "line": {
              "color": "white"
             }
            },
            "type": "table"
           }
          ]
         },
         "layout": {
          "annotationdefaults": {
           "arrowcolor": "#2a3f5f",
           "arrowhead": 0,
           "arrowwidth": 1
          },
          "autotypenumbers": "strict",
          "coloraxis": {
           "colorbar": {
            "outlinewidth": 0,
            "ticks": ""
           }
          },
          "colorscale": {
           "diverging": [
            [
             0,
             "#8e0152"
            ],
            [
             0.1,
             "#c51b7d"
            ],
            [
             0.2,
             "#de77ae"
            ],
            [
             0.3,
             "#f1b6da"
            ],
            [
             0.4,
             "#fde0ef"
            ],
            [
             0.5,
             "#f7f7f7"
            ],
            [
             0.6,
             "#e6f5d0"
            ],
            [
             0.7,
             "#b8e186"
            ],
            [
             0.8,
             "#7fbc41"
            ],
            [
             0.9,
             "#4d9221"
            ],
            [
             1,
             "#276419"
            ]
           ],
           "sequential": [
            [
             0,
             "#0d0887"
            ],
            [
             0.1111111111111111,
             "#46039f"
            ],
            [
             0.2222222222222222,
             "#7201a8"
            ],
            [
             0.3333333333333333,
             "#9c179e"
            ],
            [
             0.4444444444444444,
             "#bd3786"
            ],
            [
             0.5555555555555556,
             "#d8576b"
            ],
            [
             0.6666666666666666,
             "#ed7953"
            ],
            [
             0.7777777777777778,
             "#fb9f3a"
            ],
            [
             0.8888888888888888,
             "#fdca26"
            ],
            [
             1,
             "#f0f921"
            ]
           ],
           "sequentialminus": [
            [
             0,
             "#0d0887"
            ],
            [
             0.1111111111111111,
             "#46039f"
            ],
            [
             0.2222222222222222,
             "#7201a8"
            ],
            [
             0.3333333333333333,
             "#9c179e"
            ],
            [
             0.4444444444444444,
             "#bd3786"
            ],
            [
             0.5555555555555556,
             "#d8576b"
            ],
            [
             0.6666666666666666,
             "#ed7953"
            ],
            [
             0.7777777777777778,
             "#fb9f3a"
            ],
            [
             0.8888888888888888,
             "#fdca26"
            ],
            [
             1,
             "#f0f921"
            ]
           ]
          },
          "colorway": [
           "#636efa",
           "#EF553B",
           "#00cc96",
           "#ab63fa",
           "#FFA15A",
           "#19d3f3",
           "#FF6692",
           "#B6E880",
           "#FF97FF",
           "#FECB52"
          ],
          "font": {
           "color": "#2a3f5f"
          },
          "geo": {
           "bgcolor": "white",
           "lakecolor": "white",
           "landcolor": "#E5ECF6",
           "showlakes": true,
           "showland": true,
           "subunitcolor": "white"
          },
          "hoverlabel": {
           "align": "left"
          },
          "hovermode": "closest",
          "mapbox": {
           "style": "light"
          },
          "paper_bgcolor": "white",
          "plot_bgcolor": "#E5ECF6",
          "polar": {
           "angularaxis": {
            "gridcolor": "white",
            "linecolor": "white",
            "ticks": ""
           },
           "bgcolor": "#E5ECF6",
           "radialaxis": {
            "gridcolor": "white",
            "linecolor": "white",
            "ticks": ""
           }
          },
          "scene": {
           "xaxis": {
            "backgroundcolor": "#E5ECF6",
            "gridcolor": "white",
            "gridwidth": 2,
            "linecolor": "white",
            "showbackground": true,
            "ticks": "",
            "zerolinecolor": "white"
           },
           "yaxis": {
            "backgroundcolor": "#E5ECF6",
            "gridcolor": "white",
            "gridwidth": 2,
            "linecolor": "white",
            "showbackground": true,
            "ticks": "",
            "zerolinecolor": "white"
           },
           "zaxis": {
            "backgroundcolor": "#E5ECF6",
            "gridcolor": "white",
            "gridwidth": 2,
            "linecolor": "white",
            "showbackground": true,
            "ticks": "",
            "zerolinecolor": "white"
           }
          },
          "shapedefaults": {
           "line": {
            "color": "#2a3f5f"
           }
          },
          "ternary": {
           "aaxis": {
            "gridcolor": "white",
            "linecolor": "white",
            "ticks": ""
           },
           "baxis": {
            "gridcolor": "white",
            "linecolor": "white",
            "ticks": ""
           },
           "bgcolor": "#E5ECF6",
           "caxis": {
            "gridcolor": "white",
            "linecolor": "white",
            "ticks": ""
           }
          },
          "title": {
           "x": 0.05
          },
          "xaxis": {
           "automargin": true,
           "gridcolor": "white",
           "linecolor": "white",
           "ticks": "",
           "title": {
            "standoff": 15
           },
           "zerolinecolor": "white",
           "zerolinewidth": 2
          },
          "yaxis": {
           "automargin": true,
           "gridcolor": "white",
           "linecolor": "white",
           "ticks": "",
           "title": {
            "standoff": 15
           },
           "zerolinecolor": "white",
           "zerolinewidth": 2
          }
         }
        },
        "title": {
         "text": "직위/직급별 연간 직무 이동률(%) 변화 추이"
        },
        "updatemenus": [
         {
          "active": 0,
          "buttons": [
           {
            "args": [
             {
              "visible": [
               true,
               true,
               true,
               false,
               false,
               false,
               false,
               false,
               false
              ]
             },
             {
              "legend_title_text": "직위",
              "title": "전체 직위별 연간 직무 이동률(%) 변화 추이"
             }
            ],
            "label": "전체",
            "method": "update"
           },
           {
            "args": [
             {
              "visible": [
               false,
               false,
               false,
               true,
               true,
               false,
               false,
               false,
               false
              ]
             },
             {
              "legend_title_text": "직급",
              "title": "Staff 내 직급별 연간 직무 이동률(%) 변화 추이"
             }
            ],
            "label": "Staff",
            "method": "update"
           },
           {
            "args": [
             {
              "visible": [
               false,
               false,
               false,
               false,
               false,
               true,
               true,
               false,
               false
              ]
             },
             {
              "legend_title_text": "직급",
              "title": "Manager 내 직급별 연간 직무 이동률(%) 변화 추이"
             }
            ],
            "label": "Manager",
            "method": "update"
           },
           {
            "args": [
             {
              "visible": [
               false,
               false,
               false,
               false,
               false,
               false,
               false,
               true,
               true
              ]
             },
             {
              "legend_title_text": "직급",
              "title": "Director 내 직급별 연간 직무 이동률(%) 변화 추이"
             }
            ],
            "label": "Director",
            "method": "update"
           }
          ],
          "direction": "down",
          "pad": {
           "r": 10,
           "t": 10
          },
          "showactive": true,
          "x": 0.01,
          "xanchor": "left",
          "y": 1.1,
          "yanchor": "top"
         }
        ],
        "xaxis": {
         "title": {
          "text": "연도"
         },
         "type": "category"
        },
        "yaxis": {
         "range": [
          0,
          60
         ],
         "ticksuffix": "%",
         "title": {
          "text": "직무 이동률 (%)"
         }
        }
       }
      }
     },
     "metadata": {},
     "output_type": "display_data"
    }
   ],
   "source": [
    "import pandas as pd\n",
    "import numpy as np\n",
    "import plotly.graph_objects as go\n",
    "import plotly.io as pio\n",
    "import plotly.express as px\n",
    "import datetime\n",
    "\n",
    "# --- 1. 데이터 임포트 ---\n",
    "from services.tables.HR_Core.job_info_table import job_info_df\n",
    "from services.tables.HR_Core.basic_info_table import emp_df\n",
    "from services.tables.HR_Core.position_info_table import position_info_df\n",
    "from services.tables.HR_Core.position_table import position_df, position_order, grade_order\n",
    "\n",
    "def create_figure():\n",
    "    \"\"\"\n",
    "    제안 9-3: 직위/직급별 연간 직무 이동률 변화 추이 그래프를 생성합니다.\n",
    "    \"\"\"\n",
    "    # --- 2. 데이터 준비 및 가공 ---\n",
    "    job_changes = job_info_df.copy()\n",
    "    job_changes = pd.merge(job_changes, emp_df[['EMP_ID', 'IN_DATE']], on='EMP_ID', how='left')\n",
    "    job_changes = job_changes[job_changes['JOB_APP_START_DATE'] > job_changes['IN_DATE']]\n",
    "    job_changes['YEAR'] = job_changes['JOB_APP_START_DATE'].dt.year\n",
    "    \n",
    "    # --- 수정된 부분: 리스트 초기화 ---\n",
    "    turnover_records = []\n",
    "    # --- 수정 완료 ---\n",
    "    all_years = sorted(job_changes['YEAR'].unique())\n",
    "    \n",
    "    pos_info_with_name = pd.merge(position_info_df, position_df[['POSITION_ID', 'POSITION_NAME']].drop_duplicates(), on='POSITION_ID')\n",
    "    pos_info_sorted = pos_info_with_name.sort_values('GRADE_START_DATE')\n",
    "\n",
    "    for year in all_years:\n",
    "        year_end = pd.to_datetime(f'{year}-12-31')\n",
    "        \n",
    "        active_in_year = emp_df[(emp_df['IN_DATE'] <= year_end) & (emp_df['OUT_DATE'].isnull() | (emp_df['OUT_DATE'] > year_end))].copy()\n",
    "        active_in_year['DATE_SNAPSHOT'] = year_end\n",
    "        \n",
    "        active_pos = pd.merge_asof(\n",
    "            active_in_year[['EMP_ID', 'DATE_SNAPSHOT']].sort_values('DATE_SNAPSHOT'),\n",
    "            pos_info_sorted,\n",
    "            left_on='DATE_SNAPSHOT', right_on='GRADE_START_DATE', by='EMP_ID', direction='backward'\n",
    "        )\n",
    "        active_pos = active_pos.dropna(subset=['POSITION_NAME', 'GRADE_ID'])\n",
    "        \n",
    "        changes_in_year = job_changes[job_changes['YEAR'] == year].copy()\n",
    "        changes_in_year['DATE_SNAPSHOT'] = year_end\n",
    "        changes_pos = pd.merge_asof(\n",
    "            changes_in_year[['EMP_ID', 'DATE_SNAPSHOT']].sort_values('DATE_SNAPSHOT'),\n",
    "            pos_info_sorted,\n",
    "            left_on='DATE_SNAPSHOT', right_on='GRADE_START_DATE', by='EMP_ID', direction='backward'\n",
    "        )\n",
    "        changes_pos = changes_pos.dropna(subset=['POSITION_NAME', 'GRADE_ID'])\n",
    "\n",
    "        headcount_by_pos = active_pos.groupby('POSITION_NAME', observed=False).size()\n",
    "        changes_by_pos = changes_pos.groupby('POSITION_NAME', observed=False).size()\n",
    "        mobility_pos = (changes_by_pos / headcount_by_pos * 100).fillna(0)\n",
    "        for group_name, rate in mobility_pos.items():\n",
    "            turnover_records.append({'YEAR': year, 'GROUP_TYPE': 'POSITION', 'GROUP_NAME': group_name, 'MOBILITY_RATE': rate})\n",
    "\n",
    "        headcount_by_grade = active_pos.groupby(['POSITION_NAME', 'GRADE_ID'], observed=False).size()\n",
    "        changes_by_grade = changes_pos.groupby(['POSITION_NAME', 'GRADE_ID'], observed=False).size()\n",
    "        mobility_grade = (changes_by_grade / headcount_by_grade * 100).fillna(0)\n",
    "        for (pos_name, grade_name), rate in mobility_grade.items():\n",
    "            turnover_records.append({'YEAR': year, 'GROUP_TYPE': 'GRADE', 'POSITION_NAME': pos_name, 'GROUP_NAME': grade_name, 'MOBILITY_RATE': rate})\n",
    "\n",
    "    analysis_df = pd.DataFrame(turnover_records)\n",
    "    \n",
    "    if analysis_df.empty:\n",
    "        return go.Figure().update_layout(title_text=\"분석할 직무 이동 데이터가 없습니다.\")\n",
    "\n",
    "    y_max = analysis_df['MOBILITY_RATE'].max()\n",
    "    fixed_y_range = [0, y_max * 1.2]\n",
    "\n",
    "    # --- 3. Plotly 인터랙티브 그래프 생성 ---\n",
    "    fig = go.Figure()\n",
    "    colors = px.colors.qualitative.Plotly\n",
    "    \n",
    "    position_filter_list = [p for p in position_order if p != 'C-Level']\n",
    "    \n",
    "    pos_df = analysis_df[analysis_df['GROUP_TYPE'] == 'POSITION']\n",
    "    for i, pos_name in enumerate(position_filter_list):\n",
    "        df_filtered = pos_df[pos_df['GROUP_NAME'] == pos_name].sort_values('YEAR')\n",
    "        if not df_filtered.empty:\n",
    "            fig.add_trace(go.Scatter(\n",
    "                x=df_filtered['YEAR'], y=df_filtered['MOBILITY_RATE'], mode='lines+markers+text', name=pos_name,\n",
    "                line=dict(color=colors[i]), text=df_filtered['MOBILITY_RATE'].round(2).astype(str) + '%', textposition='top center'\n",
    "            ))\n",
    "            \n",
    "    grade_df = analysis_df[analysis_df['GROUP_TYPE'] == 'GRADE']\n",
    "    grade_traces_map = {}\n",
    "    trace_idx_counter = len(fig.data)\n",
    "    for pos_name in position_filter_list:\n",
    "        grade_pos_df = grade_df[grade_df['POSITION_NAME'] == pos_name]\n",
    "        grades_in_pos = [g for g in grade_order if g in grade_pos_df['GROUP_NAME'].unique()]\n",
    "        grade_traces_map[pos_name] = []\n",
    "        for j, grade_name in enumerate(grades_in_pos):\n",
    "            df_filtered = grade_pos_df[grade_pos_df['GROUP_NAME'] == grade_name].sort_values('YEAR')\n",
    "            if not df_filtered.empty:\n",
    "                fig.add_trace(go.Scatter(\n",
    "                    x=df_filtered['YEAR'], y=df_filtered['MOBILITY_RATE'], mode='lines+markers+text', name=grade_name,\n",
    "                    visible=False, line=dict(color=colors[j % len(colors)]),\n",
    "                    text=df_filtered['MOBILITY_RATE'].round(2).astype(str) + '%', textposition='top center'\n",
    "                ))\n",
    "                grade_traces_map[pos_name].append(trace_idx_counter)\n",
    "                trace_idx_counter += 1\n",
    "\n",
    "    # --- 4. 드롭다운 메뉴 및 레이아웃 업데이트 ---\n",
    "    buttons = []\n",
    "    buttons.append(dict(label='전체', method='update', args=[\n",
    "        {'visible': [True]*len(position_filter_list) + [False]*(len(fig.data)-len(position_filter_list))},\n",
    "        {'title': '전체 직위별 연간 직무 이동률(%) 변화 추이', 'legend_title_text': '직위'}\n",
    "    ]))\n",
    "    for pos_name in position_filter_list:\n",
    "        visibility_mask = [False] * len(fig.data)\n",
    "        for trace_idx in grade_traces_map.get(pos_name, []):\n",
    "            visibility_mask[trace_idx] = True\n",
    "        buttons.append(dict(label=f'{pos_name}', method='update', args=[\n",
    "            {'visible': visibility_mask},\n",
    "            {'title': f'{pos_name} 내 직급별 연간 직무 이동률(%) 변화 추이', 'legend_title_text': '직급'}\n",
    "        ]))\n",
    "        \n",
    "    fig.update_layout(\n",
    "        updatemenus=[dict(active=0, buttons=buttons, direction=\"down\", pad={\"r\": 10, \"t\": 10}, showactive=True, x=0.01, xanchor=\"left\", y=1.1, yanchor=\"top\")],\n",
    "        title_text='직위/직급별 연간 직무 이동률(%) 변화 추이',\n",
    "        xaxis_title='연도', yaxis_title='직무 이동률 (%)',\n",
    "        font_size=14, height=700,\n",
    "        legend_title_text='직위',\n",
    "        xaxis=dict(type='category'),\n",
    "        yaxis=dict(ticksuffix=\"%\", range=fixed_y_range),\n",
    "        annotations=[dict(text=\"직위/직급 선택:\", showarrow=False, x=0, y=1.08, yref=\"paper\", align=\"left\")]\n",
    "    )\n",
    "    \n",
    "    return fig\n",
    "\n",
    "# 이 파일을 직접 실행할 경우 그래프를 생성하여 보여줍니다.\n",
    "pio.renderers.default = 'vscode'\n",
    "fig = create_figure()\n",
    "fig.show()"
   ]
  },
  {
   "cell_type": "code",
   "execution_count": null,
   "id": "b8090306",
   "metadata": {},
   "outputs": [],
   "source": []
  }
 ],
 "metadata": {
  "kernelspec": {
   "display_name": "Python 3 (ipykernel)",
   "language": "python",
   "name": "python3"
  },
  "language_info": {
   "codemirror_mode": {
    "name": "ipython",
    "version": 3
   },
   "file_extension": ".py",
   "mimetype": "text/x-python",
   "name": "python",
   "nbconvert_exporter": "python",
   "pygments_lexer": "ipython3",
   "version": "3.12.11"
  }
 },
 "nbformat": 4,
 "nbformat_minor": 5
}
