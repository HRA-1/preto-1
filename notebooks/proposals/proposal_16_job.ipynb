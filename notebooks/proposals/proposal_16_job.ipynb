{
 "cells": [
  {
   "cell_type": "code",
   "execution_count": 1,
   "id": "31d26df9",
   "metadata": {},
   "outputs": [
    {
     "name": "stderr",
     "output_type": "stream",
     "text": [
      "/app/src/services/tables/Time_Attendance/detailed_working_info_table.py:79: FutureWarning: Downcasting object dtype arrays on .fillna, .ffill, .bfill is deprecated and will change in a future version. Call result.infer_objects(copy=False) instead. To opt-in to the future behavior, set `pd.set_option('future.no_silent_downcasting', True)`\n",
      "  df['IS_VACATION'] = df['IS_VACATION'].fillna(False).astype(bool)\n"
     ]
    },
    {
     "data": {
      "application/vnd.plotly.v1+json": {
       "config": {
        "plotlyServerURL": "https://plot.ly"
       },
       "data": [
        {
         "marker": {
          "color": "#636EFA"
         },
         "name": "Staff",
         "text": {
          "bdata": "4XoUrkfhAkAzMzMzMzMDQClcj8L1KAJAj8L1KFyPAkA9CtejcD0CQA==",
          "dtype": "f8"
         },
         "textposition": "outside",
         "type": "bar",
         "x": [
          "IT",
          "Management Support",
          "Planning",
          "Production & Engineering",
          "Sales & Marketing"
         ],
         "y": {
          "bdata": "L8fPU3ncAkAc1xYoHioDQCa7HXWfJAJAq8wSnZ6MAkCE8FQHyDMCQA==",
          "dtype": "f8"
         }
        },
        {
         "marker": {
          "color": "#EF553B"
         },
         "name": "Manager",
         "text": {
          "bdata": "UrgehetRAkCkcD0K16MCQHsUrkfhegJAZmZmZmZmAkCkcD0K16MCQA==",
          "dtype": "f8"
         },
         "textposition": "outside",
         "type": "bar",
         "x": [
          "IT",
          "Management Support",
          "Planning",
          "Production & Engineering",
          "Sales & Marketing"
         ],
         "y": {
          "bdata": "rutjejdaAkDnG3jkW5oCQCNRO/zFdgJAlrwTSb1lAkBSHTBIOJsCQA==",
          "dtype": "f8"
         }
        },
        {
         "marker": {
          "color": "#00CC96"
         },
         "name": "Director",
         "text": {
          "bdata": "MzMzMzMzA0CkcD0K16MCQDMzMzMzMwNAFK5H4XoUAkDhehSuR+ECQA==",
          "dtype": "f8"
         },
         "textposition": "outside",
         "type": "bar",
         "x": [
          "IT",
          "Management Support",
          "Planning",
          "Production & Engineering",
          "Sales & Marketing"
         ],
         "y": {
          "bdata": "86NaTZoxA0BK0RiaD6oCQK23YZTBNgNAfsG5YVUVAkAKW+p+BtoCQA==",
          "dtype": "f8"
         }
        },
        {
         "marker": {
          "color": "#AB63FA"
         },
         "name": "C-Level",
         "text": {
          "bdata": "H4XrUbgeA0A=",
          "dtype": "f8"
         },
         "textposition": "outside",
         "type": "bar",
         "x": [
          "IT"
         ],
         "y": {
          "bdata": "62jzPsUlA0A=",
          "dtype": "f8"
         }
        },
        {
         "marker": {
          "color": "#636EFA"
         },
         "name": "Staff",
         "text": {
          "bdata": "pHA9CtejAkDD9Shcj8IDQD0K16NwPQRA",
          "dtype": "f8"
         },
         "textposition": "outside",
         "type": "bar",
         "visible": false,
         "x": [
          "Data Scientist",
          "Infrastructure",
          "SW Developer"
         ],
         "y": {
          "bdata": "8EI6q9CcAkCi89U90soDQDQzMzMzMwRA",
          "dtype": "f8"
         }
        },
        {
         "marker": {
          "color": "#EF553B"
         },
         "name": "Manager",
         "text": {
          "bdata": "pHA9CtejAkBSuB6F61EAQPYoXI/C9QJA",
          "dtype": "f8"
         },
         "textposition": "outside",
         "type": "bar",
         "visible": false,
         "x": [
          "Data Scientist",
          "Infrastructure",
          "SW Developer"
         ],
         "y": {
          "bdata": "zJvDLDehAkBs7iiF4VQAQCWxZfvp9QJA",
          "dtype": "f8"
         }
        },
        {
         "marker": {
          "color": "#00CC96"
         },
         "name": "Director",
         "text": {
          "bdata": "SOF6FK5HA0BxPQrXo3ADQOxRuB6F6wFA",
          "dtype": "f8"
         },
         "textposition": "outside",
         "type": "bar",
         "visible": false,
         "x": [
          "Data Scientist",
          "Infrastructure",
          "SW Developer"
         ],
         "y": {
          "bdata": "dtgv8dNHA0Bzc3Nzc3MDQFFeQ3kN5QFA",
          "dtype": "f8"
         }
        },
        {
         "marker": {
          "color": "#AB63FA"
         },
         "name": "C-Level",
         "text": {
          "bdata": "H4XrUbgeA0A=",
          "dtype": "f8"
         },
         "textposition": "outside",
         "type": "bar",
         "visible": false,
         "x": [
          "Data Scientist"
         ],
         "y": {
          "bdata": "62jzPsUlA0A=",
          "dtype": "f8"
         }
        },
        {
         "marker": {
          "color": "#636EFA"
         },
         "name": "Staff",
         "text": {
          "bdata": "mpmZmZmZA0DNzMzMzMwCQA==",
          "dtype": "f8"
         },
         "textposition": "outside",
         "type": "bar",
         "visible": false,
         "x": [
          "Finance",
          "HR"
         ],
         "y": {
          "bdata": "jBJgyW+PA0Cum82GzMQCQA==",
          "dtype": "f8"
         }
        },
        {
         "marker": {
          "color": "#EF553B"
         },
         "name": "Manager",
         "text": {
          "bdata": "pHA9CtejAkB7FK5H4XoCQA==",
          "dtype": "f8"
         },
         "textposition": "outside",
         "type": "bar",
         "visible": false,
         "x": [
          "Finance",
          "HR"
         ],
         "y": {
          "bdata": "hO6RYvSpAkCsdkToKnsCQA==",
          "dtype": "f8"
         }
        },
        {
         "marker": {
          "color": "#00CC96"
         },
         "name": "Director",
         "text": {
          "bdata": "cT0K16NwAUD2KFyPwvUCQA==",
          "dtype": "f8"
         },
         "textposition": "outside",
         "type": "bar",
         "visible": false,
         "x": [
          "Finance",
          "HR"
         ],
         "y": {
          "bdata": "dRbTWUxnAUAAQCpqwPoCQA==",
          "dtype": "f8"
         }
        },
        {
         "marker": {
          "color": "#AB63FA"
         },
         "name": "C-Level",
         "text": [],
         "textposition": "outside",
         "type": "bar",
         "visible": false,
         "x": [],
         "y": []
        },
        {
         "marker": {
          "color": "#636EFA"
         },
         "name": "Staff",
         "text": {
          "bdata": "KVyPwvUoAkA=",
          "dtype": "f8"
         },
         "textposition": "outside",
         "type": "bar",
         "visible": false,
         "x": [
          "Business Planning"
         ],
         "y": {
          "bdata": "JrsddZ8kAkA=",
          "dtype": "f8"
         }
        },
        {
         "marker": {
          "color": "#EF553B"
         },
         "name": "Manager",
         "text": {
          "bdata": "exSuR+F6AkA=",
          "dtype": "f8"
         },
         "textposition": "outside",
         "type": "bar",
         "visible": false,
         "x": [
          "Business Planning"
         ],
         "y": {
          "bdata": "I1E7/MV2AkA=",
          "dtype": "f8"
         }
        },
        {
         "marker": {
          "color": "#00CC96"
         },
         "name": "Director",
         "text": {
          "bdata": "MzMzMzMzA0A=",
          "dtype": "f8"
         },
         "textposition": "outside",
         "type": "bar",
         "visible": false,
         "x": [
          "Business Planning"
         ],
         "y": {
          "bdata": "rbdhlME2A0A=",
          "dtype": "f8"
         }
        },
        {
         "marker": {
          "color": "#AB63FA"
         },
         "name": "C-Level",
         "text": [],
         "textposition": "outside",
         "type": "bar",
         "visible": false,
         "x": [],
         "y": []
        },
        {
         "marker": {
          "color": "#636EFA"
         },
         "name": "Staff",
         "text": {
          "bdata": "uB6F61G4AkBmZmZmZmYCQA==",
          "dtype": "f8"
         },
         "textposition": "outside",
         "type": "bar",
         "visible": false,
         "x": [
          "Engineering",
          "Production Management"
         ],
         "y": {
          "bdata": "bCR8+li1AkDovDUBCWYCQA==",
          "dtype": "f8"
         }
        },
        {
         "marker": {
          "color": "#EF553B"
         },
         "name": "Manager",
         "text": {
          "bdata": "uB6F61G4AkDsUbgehesBQA==",
          "dtype": "f8"
         },
         "textposition": "outside",
         "type": "bar",
         "visible": false,
         "x": [
          "Engineering",
          "Production Management"
         ],
         "y": {
          "bdata": "5Lg80wywAkCzq7VxYuUBQA==",
          "dtype": "f8"
         }
        },
        {
         "marker": {
          "color": "#00CC96"
         },
         "name": "Director",
         "text": {
          "bdata": "4XoUrkfhAkD2KFyPwvX8Pw==",
          "dtype": "f8"
         },
         "textposition": "outside",
         "type": "bar",
         "visible": false,
         "x": [
          "Engineering",
          "Production Management"
         ],
         "y": {
          "bdata": "vF3KrNjpAkCN4ziO4/j8Pw==",
          "dtype": "f8"
         }
        },
        {
         "marker": {
          "color": "#AB63FA"
         },
         "name": "C-Level",
         "text": [],
         "textposition": "outside",
         "type": "bar",
         "visible": false,
         "x": [],
         "y": []
        },
        {
         "marker": {
          "color": "#636EFA"
         },
         "name": "Staff",
         "text": {
          "bdata": "CtejcD0KA0DsUbgehesBQA==",
          "dtype": "f8"
         },
         "textposition": "outside",
         "type": "bar",
         "visible": false,
         "x": [
          "Marketing",
          "Sales"
         ],
         "y": {
          "bdata": "jkS+IWETA0A7kWM9BvABQA==",
          "dtype": "f8"
         }
        },
        {
         "marker": {
          "color": "#EF553B"
         },
         "name": "Manager",
         "text": {
          "bdata": "4XoUrkfhAkB7FK5H4XoCQA==",
          "dtype": "f8"
         },
         "textposition": "outside",
         "type": "bar",
         "visible": false,
         "x": [
          "Marketing",
          "Sales"
         ],
         "y": {
          "bdata": "QG6mvunZAkB8mglglHkCQA==",
          "dtype": "f8"
         }
        },
        {
         "marker": {
          "color": "#00CC96"
         },
         "name": "Director",
         "text": {
          "bdata": "AAAAAAAABECkcD0K16MCQA==",
          "dtype": "f8"
         },
         "textposition": "outside",
         "type": "bar",
         "visible": false,
         "x": [
          "Marketing",
          "Sales"
         ],
         "y": {
          "bdata": "ttZaa60FBEDruBsOi6MCQA==",
          "dtype": "f8"
         }
        },
        {
         "marker": {
          "color": "#AB63FA"
         },
         "name": "C-Level",
         "text": [],
         "textposition": "outside",
         "type": "bar",
         "visible": false,
         "x": [],
         "y": []
        }
       ],
       "layout": {
        "annotations": [
         {
          "align": "left",
          "showarrow": false,
          "text": "직무 선택:",
          "x": 0,
          "y": 1.08,
          "yref": "paper"
         }
        ],
        "barmode": "group",
        "font": {
         "size": 14
        },
        "height": 700,
        "legend": {
         "title": {
          "text": "직위"
         }
        },
        "template": {
         "data": {
          "bar": [
           {
            "error_x": {
             "color": "#2a3f5f"
            },
            "error_y": {
             "color": "#2a3f5f"
            },
            "marker": {
             "line": {
              "color": "#E5ECF6",
              "width": 0.5
             },
             "pattern": {
              "fillmode": "overlay",
              "size": 10,
              "solidity": 0.2
             }
            },
            "type": "bar"
           }
          ],
          "barpolar": [
           {
            "marker": {
             "line": {
              "color": "#E5ECF6",
              "width": 0.5
             },
             "pattern": {
              "fillmode": "overlay",
              "size": 10,
              "solidity": 0.2
             }
            },
            "type": "barpolar"
           }
          ],
          "carpet": [
           {
            "aaxis": {
             "endlinecolor": "#2a3f5f",
             "gridcolor": "white",
             "linecolor": "white",
             "minorgridcolor": "white",
             "startlinecolor": "#2a3f5f"
            },
            "baxis": {
             "endlinecolor": "#2a3f5f",
             "gridcolor": "white",
             "linecolor": "white",
             "minorgridcolor": "white",
             "startlinecolor": "#2a3f5f"
            },
            "type": "carpet"
           }
          ],
          "choropleth": [
           {
            "colorbar": {
             "outlinewidth": 0,
             "ticks": ""
            },
            "type": "choropleth"
           }
          ],
          "contour": [
           {
            "colorbar": {
             "outlinewidth": 0,
             "ticks": ""
            },
            "colorscale": [
             [
              0,
              "#0d0887"
             ],
             [
              0.1111111111111111,
              "#46039f"
             ],
             [
              0.2222222222222222,
              "#7201a8"
             ],
             [
              0.3333333333333333,
              "#9c179e"
             ],
             [
              0.4444444444444444,
              "#bd3786"
             ],
             [
              0.5555555555555556,
              "#d8576b"
             ],
             [
              0.6666666666666666,
              "#ed7953"
             ],
             [
              0.7777777777777778,
              "#fb9f3a"
             ],
             [
              0.8888888888888888,
              "#fdca26"
             ],
             [
              1,
              "#f0f921"
             ]
            ],
            "type": "contour"
           }
          ],
          "contourcarpet": [
           {
            "colorbar": {
             "outlinewidth": 0,
             "ticks": ""
            },
            "type": "contourcarpet"
           }
          ],
          "heatmap": [
           {
            "colorbar": {
             "outlinewidth": 0,
             "ticks": ""
            },
            "colorscale": [
             [
              0,
              "#0d0887"
             ],
             [
              0.1111111111111111,
              "#46039f"
             ],
             [
              0.2222222222222222,
              "#7201a8"
             ],
             [
              0.3333333333333333,
              "#9c179e"
             ],
             [
              0.4444444444444444,
              "#bd3786"
             ],
             [
              0.5555555555555556,
              "#d8576b"
             ],
             [
              0.6666666666666666,
              "#ed7953"
             ],
             [
              0.7777777777777778,
              "#fb9f3a"
             ],
             [
              0.8888888888888888,
              "#fdca26"
             ],
             [
              1,
              "#f0f921"
             ]
            ],
            "type": "heatmap"
           }
          ],
          "histogram": [
           {
            "marker": {
             "pattern": {
              "fillmode": "overlay",
              "size": 10,
              "solidity": 0.2
             }
            },
            "type": "histogram"
           }
          ],
          "histogram2d": [
           {
            "colorbar": {
             "outlinewidth": 0,
             "ticks": ""
            },
            "colorscale": [
             [
              0,
              "#0d0887"
             ],
             [
              0.1111111111111111,
              "#46039f"
             ],
             [
              0.2222222222222222,
              "#7201a8"
             ],
             [
              0.3333333333333333,
              "#9c179e"
             ],
             [
              0.4444444444444444,
              "#bd3786"
             ],
             [
              0.5555555555555556,
              "#d8576b"
             ],
             [
              0.6666666666666666,
              "#ed7953"
             ],
             [
              0.7777777777777778,
              "#fb9f3a"
             ],
             [
              0.8888888888888888,
              "#fdca26"
             ],
             [
              1,
              "#f0f921"
             ]
            ],
            "type": "histogram2d"
           }
          ],
          "histogram2dcontour": [
           {
            "colorbar": {
             "outlinewidth": 0,
             "ticks": ""
            },
            "colorscale": [
             [
              0,
              "#0d0887"
             ],
             [
              0.1111111111111111,
              "#46039f"
             ],
             [
              0.2222222222222222,
              "#7201a8"
             ],
             [
              0.3333333333333333,
              "#9c179e"
             ],
             [
              0.4444444444444444,
              "#bd3786"
             ],
             [
              0.5555555555555556,
              "#d8576b"
             ],
             [
              0.6666666666666666,
              "#ed7953"
             ],
             [
              0.7777777777777778,
              "#fb9f3a"
             ],
             [
              0.8888888888888888,
              "#fdca26"
             ],
             [
              1,
              "#f0f921"
             ]
            ],
            "type": "histogram2dcontour"
           }
          ],
          "mesh3d": [
           {
            "colorbar": {
             "outlinewidth": 0,
             "ticks": ""
            },
            "type": "mesh3d"
           }
          ],
          "parcoords": [
           {
            "line": {
             "colorbar": {
              "outlinewidth": 0,
              "ticks": ""
             }
            },
            "type": "parcoords"
           }
          ],
          "pie": [
           {
            "automargin": true,
            "type": "pie"
           }
          ],
          "scatter": [
           {
            "fillpattern": {
             "fillmode": "overlay",
             "size": 10,
             "solidity": 0.2
            },
            "type": "scatter"
           }
          ],
          "scatter3d": [
           {
            "line": {
             "colorbar": {
              "outlinewidth": 0,
              "ticks": ""
             }
            },
            "marker": {
             "colorbar": {
              "outlinewidth": 0,
              "ticks": ""
             }
            },
            "type": "scatter3d"
           }
          ],
          "scattercarpet": [
           {
            "marker": {
             "colorbar": {
              "outlinewidth": 0,
              "ticks": ""
             }
            },
            "type": "scattercarpet"
           }
          ],
          "scattergeo": [
           {
            "marker": {
             "colorbar": {
              "outlinewidth": 0,
              "ticks": ""
             }
            },
            "type": "scattergeo"
           }
          ],
          "scattergl": [
           {
            "marker": {
             "colorbar": {
              "outlinewidth": 0,
              "ticks": ""
             }
            },
            "type": "scattergl"
           }
          ],
          "scattermap": [
           {
            "marker": {
             "colorbar": {
              "outlinewidth": 0,
              "ticks": ""
             }
            },
            "type": "scattermap"
           }
          ],
          "scattermapbox": [
           {
            "marker": {
             "colorbar": {
              "outlinewidth": 0,
              "ticks": ""
             }
            },
            "type": "scattermapbox"
           }
          ],
          "scatterpolar": [
           {
            "marker": {
             "colorbar": {
              "outlinewidth": 0,
              "ticks": ""
             }
            },
            "type": "scatterpolar"
           }
          ],
          "scatterpolargl": [
           {
            "marker": {
             "colorbar": {
              "outlinewidth": 0,
              "ticks": ""
             }
            },
            "type": "scatterpolargl"
           }
          ],
          "scatterternary": [
           {
            "marker": {
             "colorbar": {
              "outlinewidth": 0,
              "ticks": ""
             }
            },
            "type": "scatterternary"
           }
          ],
          "surface": [
           {
            "colorbar": {
             "outlinewidth": 0,
             "ticks": ""
            },
            "colorscale": [
             [
              0,
              "#0d0887"
             ],
             [
              0.1111111111111111,
              "#46039f"
             ],
             [
              0.2222222222222222,
              "#7201a8"
             ],
             [
              0.3333333333333333,
              "#9c179e"
             ],
             [
              0.4444444444444444,
              "#bd3786"
             ],
             [
              0.5555555555555556,
              "#d8576b"
             ],
             [
              0.6666666666666666,
              "#ed7953"
             ],
             [
              0.7777777777777778,
              "#fb9f3a"
             ],
             [
              0.8888888888888888,
              "#fdca26"
             ],
             [
              1,
              "#f0f921"
             ]
            ],
            "type": "surface"
           }
          ],
          "table": [
           {
            "cells": {
             "fill": {
              "color": "#EBF0F8"
             },
             "line": {
              "color": "white"
             }
            },
            "header": {
             "fill": {
              "color": "#C8D4E3"
             },
             "line": {
              "color": "white"
             }
            },
            "type": "table"
           }
          ]
         },
         "layout": {
          "annotationdefaults": {
           "arrowcolor": "#2a3f5f",
           "arrowhead": 0,
           "arrowwidth": 1
          },
          "autotypenumbers": "strict",
          "coloraxis": {
           "colorbar": {
            "outlinewidth": 0,
            "ticks": ""
           }
          },
          "colorscale": {
           "diverging": [
            [
             0,
             "#8e0152"
            ],
            [
             0.1,
             "#c51b7d"
            ],
            [
             0.2,
             "#de77ae"
            ],
            [
             0.3,
             "#f1b6da"
            ],
            [
             0.4,
             "#fde0ef"
            ],
            [
             0.5,
             "#f7f7f7"
            ],
            [
             0.6,
             "#e6f5d0"
            ],
            [
             0.7,
             "#b8e186"
            ],
            [
             0.8,
             "#7fbc41"
            ],
            [
             0.9,
             "#4d9221"
            ],
            [
             1,
             "#276419"
            ]
           ],
           "sequential": [
            [
             0,
             "#0d0887"
            ],
            [
             0.1111111111111111,
             "#46039f"
            ],
            [
             0.2222222222222222,
             "#7201a8"
            ],
            [
             0.3333333333333333,
             "#9c179e"
            ],
            [
             0.4444444444444444,
             "#bd3786"
            ],
            [
             0.5555555555555556,
             "#d8576b"
            ],
            [
             0.6666666666666666,
             "#ed7953"
            ],
            [
             0.7777777777777778,
             "#fb9f3a"
            ],
            [
             0.8888888888888888,
             "#fdca26"
            ],
            [
             1,
             "#f0f921"
            ]
           ],
           "sequentialminus": [
            [
             0,
             "#0d0887"
            ],
            [
             0.1111111111111111,
             "#46039f"
            ],
            [
             0.2222222222222222,
             "#7201a8"
            ],
            [
             0.3333333333333333,
             "#9c179e"
            ],
            [
             0.4444444444444444,
             "#bd3786"
            ],
            [
             0.5555555555555556,
             "#d8576b"
            ],
            [
             0.6666666666666666,
             "#ed7953"
            ],
            [
             0.7777777777777778,
             "#fb9f3a"
            ],
            [
             0.8888888888888888,
             "#fdca26"
            ],
            [
             1,
             "#f0f921"
            ]
           ]
          },
          "colorway": [
           "#636efa",
           "#EF553B",
           "#00cc96",
           "#ab63fa",
           "#FFA15A",
           "#19d3f3",
           "#FF6692",
           "#B6E880",
           "#FF97FF",
           "#FECB52"
          ],
          "font": {
           "color": "#2a3f5f"
          },
          "geo": {
           "bgcolor": "white",
           "lakecolor": "white",
           "landcolor": "#E5ECF6",
           "showlakes": true,
           "showland": true,
           "subunitcolor": "white"
          },
          "hoverlabel": {
           "align": "left"
          },
          "hovermode": "closest",
          "mapbox": {
           "style": "light"
          },
          "paper_bgcolor": "white",
          "plot_bgcolor": "#E5ECF6",
          "polar": {
           "angularaxis": {
            "gridcolor": "white",
            "linecolor": "white",
            "ticks": ""
           },
           "bgcolor": "#E5ECF6",
           "radialaxis": {
            "gridcolor": "white",
            "linecolor": "white",
            "ticks": ""
           }
          },
          "scene": {
           "xaxis": {
            "backgroundcolor": "#E5ECF6",
            "gridcolor": "white",
            "gridwidth": 2,
            "linecolor": "white",
            "showbackground": true,
            "ticks": "",
            "zerolinecolor": "white"
           },
           "yaxis": {
            "backgroundcolor": "#E5ECF6",
            "gridcolor": "white",
            "gridwidth": 2,
            "linecolor": "white",
            "showbackground": true,
            "ticks": "",
            "zerolinecolor": "white"
           },
           "zaxis": {
            "backgroundcolor": "#E5ECF6",
            "gridcolor": "white",
            "gridwidth": 2,
            "linecolor": "white",
            "showbackground": true,
            "ticks": "",
            "zerolinecolor": "white"
           }
          },
          "shapedefaults": {
           "line": {
            "color": "#2a3f5f"
           }
          },
          "ternary": {
           "aaxis": {
            "gridcolor": "white",
            "linecolor": "white",
            "ticks": ""
           },
           "baxis": {
            "gridcolor": "white",
            "linecolor": "white",
            "ticks": ""
           },
           "bgcolor": "#E5ECF6",
           "caxis": {
            "gridcolor": "white",
            "linecolor": "white",
            "ticks": ""
           }
          },
          "title": {
           "x": 0.05
          },
          "xaxis": {
           "automargin": true,
           "gridcolor": "white",
           "linecolor": "white",
           "ticks": "",
           "title": {
            "standoff": 15
           },
           "zerolinecolor": "white",
           "zerolinewidth": 2
          },
          "yaxis": {
           "automargin": true,
           "gridcolor": "white",
           "linecolor": "white",
           "ticks": "",
           "title": {
            "standoff": 15
           },
           "zerolinecolor": "white",
           "zerolinewidth": 2
          }
         }
        },
        "title": {
         "text": "직무별/직위별 월 평균 주말 근무일수"
        },
        "updatemenus": [
         {
          "active": 0,
          "buttons": [
           {
            "args": [
             {
              "visible": [
               true,
               true,
               true,
               true,
               false,
               false,
               false,
               false,
               false,
               false,
               false,
               false,
               false,
               false,
               false,
               false,
               false,
               false,
               false,
               false,
               false,
               false,
               false,
               false
              ]
             },
             {
              "title": "전체 직무별 월 평균 주말 근무일수",
              "xaxis.title": "Job Level 1"
             }
            ],
            "label": "전체",
            "method": "update"
           },
           {
            "args": [
             {
              "visible": [
               false,
               false,
               false,
               false,
               true,
               true,
               true,
               true,
               false,
               false,
               false,
               false,
               false,
               false,
               false,
               false,
               false,
               false,
               false,
               false,
               false,
               false,
               false,
               false
              ]
             },
             {
              "title": "IT 내 직무별 월 평균 주말 근무일수",
              "xaxis.title": "Job Level 2"
             }
            ],
            "label": "IT",
            "method": "update"
           },
           {
            "args": [
             {
              "visible": [
               false,
               false,
               false,
               false,
               false,
               false,
               false,
               false,
               true,
               true,
               true,
               true,
               false,
               false,
               false,
               false,
               false,
               false,
               false,
               false,
               false,
               false,
               false,
               false
              ]
             },
             {
              "title": "Management Support 내 직무별 월 평균 주말 근무일수",
              "xaxis.title": "Job Level 2"
             }
            ],
            "label": "Management Support",
            "method": "update"
           },
           {
            "args": [
             {
              "visible": [
               false,
               false,
               false,
               false,
               false,
               false,
               false,
               false,
               false,
               false,
               false,
               false,
               true,
               true,
               true,
               true,
               false,
               false,
               false,
               false,
               false,
               false,
               false,
               false
              ]
             },
             {
              "title": "Planning 내 직무별 월 평균 주말 근무일수",
              "xaxis.title": "Job Level 2"
             }
            ],
            "label": "Planning",
            "method": "update"
           },
           {
            "args": [
             {
              "visible": [
               false,
               false,
               false,
               false,
               false,
               false,
               false,
               false,
               false,
               false,
               false,
               false,
               false,
               false,
               false,
               false,
               true,
               true,
               true,
               true,
               false,
               false,
               false,
               false
              ]
             },
             {
              "title": "Production & Engineering 내 직무별 월 평균 주말 근무일수",
              "xaxis.title": "Job Level 2"
             }
            ],
            "label": "Production & Engineering",
            "method": "update"
           },
           {
            "args": [
             {
              "visible": [
               false,
               false,
               false,
               false,
               false,
               false,
               false,
               false,
               false,
               false,
               false,
               false,
               false,
               false,
               false,
               false,
               false,
               false,
               false,
               false,
               true,
               true,
               true,
               true
              ]
             },
             {
              "title": "Sales & Marketing 내 직무별 월 평균 주말 근무일수",
              "xaxis.title": "Job Level 2"
             }
            ],
            "label": "Sales & Marketing",
            "method": "update"
           }
          ],
          "direction": "down",
          "pad": {
           "r": 10,
           "t": 10
          },
          "showactive": true,
          "x": 0.01,
          "xanchor": "left",
          "y": 1.1,
          "yanchor": "top"
         }
        ],
        "yaxis": {
         "range": [
          0,
          3.0300000000000002
         ],
         "title": {
          "text": "월 평균 주말 근무일수 (일)"
         }
        }
       }
      }
     },
     "metadata": {},
     "output_type": "display_data"
    }
   ],
   "source": [
    "import pandas as pd\n",
    "import numpy as np\n",
    "import plotly.graph_objects as go\n",
    "import plotly.io as pio\n",
    "import plotly.express as px\n",
    "import datetime\n",
    "\n",
    "# --- 1. 데이터 임포트 ---\n",
    "from services.tables.Time_Attendance.detailed_working_info_table import detailed_work_info_df\n",
    "from services.tables.HR_Core.basic_info_table import emp_df\n",
    "from services.tables.HR_Core.department_info_table import department_info_df\n",
    "from services.tables.HR_Core.position_info_table import position_info_df\n",
    "from services.tables.HR_Core.position_table import position_df, position_order\n",
    "from services.tables.HR_Core.job_info_table import job_info_df\n",
    "from services.tables.HR_Core.job_table import job_df, job_df_indexed, parent_map_job, job_l1_order, job_l2_order\n",
    "from services.helpers.utils import get_level1_ancestor, get_level2_ancestor\n",
    "\n",
    "def create_figure():\n",
    "    \"\"\"\n",
    "    제안 16-2: 직무별/직위별 주말 근무 패턴 분석 그래프를 생성합니다.\n",
    "    \"\"\"\n",
    "    # --- 2. 데이터 준비 및 가공 ---\n",
    "    work_records = detailed_work_info_df.copy()\n",
    "    work_records['DATE'] = pd.to_datetime(work_records['DATE'])\n",
    "    work_records['DAY_OF_WEEK'] = work_records['DATE'].dt.weekday\n",
    "    weekend_work_df = work_records[\n",
    "        (~work_records['WORK_ETC'].isin(['휴가', '주말 휴무', '비번', '휴무'])) &\n",
    "        (work_records['DAY_OF_WEEK'] >= 5)\n",
    "    ].copy()\n",
    "    weekend_work_df['PAY_PERIOD'] = weekend_work_df['DATE'].dt.strftime('%Y-%m')\n",
    "    \n",
    "    monthly_weekend_days = weekend_work_df.groupby(['EMP_ID', 'PAY_PERIOD']).size().reset_index(name='WEEKEND_WORK_DAYS')\n",
    "    avg_weekend_days = monthly_weekend_days.groupby('EMP_ID')['WEEKEND_WORK_DAYS'].mean().reset_index()\n",
    "    \n",
    "    analysis_df = emp_df[emp_df['CURRENT_EMP_YN'] == 'Y'][['EMP_ID']].copy()\n",
    "    analysis_df = pd.merge(analysis_df, avg_weekend_days, on='EMP_ID', how='left').fillna(0)\n",
    "\n",
    "    # 현재 직위 및 직무 정보 추가\n",
    "    current_positions = position_info_df[position_info_df['GRADE_END_DATE'].isnull()]\n",
    "    current_job = job_info_df[job_info_df['JOB_APP_END_DATE'].isnull()]\n",
    "    analysis_df = pd.merge(analysis_df, current_positions[['EMP_ID', 'POSITION_ID']], on='EMP_ID', how='left')\n",
    "    analysis_df = pd.merge(analysis_df, current_job[['EMP_ID', 'JOB_ID']], on='EMP_ID', how='left')\n",
    "    analysis_df = pd.merge(analysis_df, position_df[['POSITION_ID', 'POSITION_NAME']], on='POSITION_ID', how='left')\n",
    "    \n",
    "    job_name_map = job_df.set_index('JOB_ID')['JOB_NAME'].to_dict()\n",
    "    analysis_df['JOB_L1_NAME'] = analysis_df['JOB_ID'].apply(lambda x: job_name_map.get(get_level1_ancestor(x, job_df_indexed, parent_map_job)))\n",
    "    analysis_df['JOB_L2_NAME'] = analysis_df['JOB_ID'].apply(lambda x: job_name_map.get(get_level2_ancestor(x, job_df_indexed, parent_map_job)))\n",
    "\n",
    "    analysis_df = analysis_df.dropna(subset=['JOB_L1_NAME', 'JOB_L2_NAME', 'POSITION_NAME'])\n",
    "\n",
    "    job_l1_summary = analysis_df.groupby(['JOB_L1_NAME', 'POSITION_NAME'], observed=False)['WEEKEND_WORK_DAYS'].mean().reset_index()\n",
    "    job_l2_summary = analysis_df.groupby(['JOB_L1_NAME', 'JOB_L2_NAME', 'POSITION_NAME'], observed=False)['WEEKEND_WORK_DAYS'].mean().reset_index()\n",
    "    \n",
    "    y_max = pd.concat([job_l1_summary['WEEKEND_WORK_DAYS'], job_l2_summary['WEEKEND_WORK_DAYS']]).max()\n",
    "    fixed_y_range = [0, y_max * 1.2]\n",
    "\n",
    "    # --- 3. Plotly 인터랙티브 그래프 생성 ---\n",
    "    fig = go.Figure()\n",
    "    colors = px.colors.qualitative.Plotly\n",
    "    \n",
    "    for i, pos_name in enumerate(position_order):\n",
    "        df_filtered = job_l1_summary[job_l1_summary['POSITION_NAME'] == pos_name]\n",
    "        fig.add_trace(go.Bar(x=df_filtered['JOB_L1_NAME'], y=df_filtered['WEEKEND_WORK_DAYS'], name=pos_name, marker_color=colors[i],\n",
    "                             text=df_filtered['WEEKEND_WORK_DAYS'].round(2), textposition='outside'))\n",
    "    \n",
    "    job_l2_traces_map = {}\n",
    "    trace_idx_counter = len(fig.data)\n",
    "    for job_l1_name in job_l1_order:\n",
    "        job_l1_df = job_l2_summary[job_l2_summary['JOB_L1_NAME'] == job_l1_name]\n",
    "        job_l2_traces_map[job_l1_name] = []\n",
    "        for j, pos_name in enumerate(position_order):\n",
    "            df_filtered = job_l1_df[job_l1_df['POSITION_NAME'] == pos_name]\n",
    "            fig.add_trace(go.Bar(x=df_filtered['JOB_L2_NAME'], y=df_filtered['WEEKEND_WORK_DAYS'], name=pos_name, visible=False, marker_color=colors[j],\n",
    "                                 text=df_filtered['WEEKEND_WORK_DAYS'].round(2), textposition='outside'))\n",
    "            job_l2_traces_map[job_l1_name].append(trace_idx_counter)\n",
    "            trace_idx_counter += 1\n",
    "\n",
    "    # --- 4. 드롭다운 메뉴 및 레이아웃 업데이트 ---\n",
    "    buttons = []\n",
    "    buttons.append(dict(label='전체', method='update', args=[\n",
    "        {'visible': [True]*len(position_order) + [False]*(len(fig.data)-len(position_order))},\n",
    "        {'title': '전체 직무별 월 평균 주말 근무일수', 'xaxis.title': 'Job Level 1'}\n",
    "    ]))\n",
    "    for job_l1_name in job_l1_order:\n",
    "        visibility_mask = [False] * len(fig.data)\n",
    "        for trace_idx in job_l2_traces_map.get(job_l1_name, []):\n",
    "            visibility_mask[trace_idx] = True\n",
    "        buttons.append(dict(label=f'{job_l1_name}', method='update', args=[\n",
    "            {'visible': visibility_mask},\n",
    "            {'title': f'{job_l1_name} 내 직무별 월 평균 주말 근무일수', 'xaxis.title': 'Job Level 2'}\n",
    "        ]))\n",
    "\n",
    "    fig.update_layout(\n",
    "        updatemenus=[dict(active=0, buttons=buttons, direction=\"down\", pad={\"r\": 10, \"t\": 10}, showactive=True, x=0.01, xanchor=\"left\", y=1.1, yanchor=\"top\")],\n",
    "        title_text='직무별/직위별 월 평균 주말 근무일수',\n",
    "        yaxis_title='월 평균 주말 근무일수 (일)',\n",
    "        font_size=14, height=700,\n",
    "        barmode='group',\n",
    "        legend_title_text='직위',\n",
    "        annotations=[dict(text=\"직무 선택:\", showarrow=False, x=0, y=1.08, yref=\"paper\", align=\"left\")],\n",
    "        yaxis_range=fixed_y_range\n",
    "    )\n",
    "    \n",
    "    return fig\n",
    "\n",
    "# 이 파일을 직접 실행할 경우 그래프를 생성하여 보여줍니다.\n",
    "pio.renderers.default = 'vscode'\n",
    "fig = create_figure()\n",
    "fig.show()"
   ]
  },
  {
   "cell_type": "code",
   "execution_count": null,
   "id": "558c17c3",
   "metadata": {},
   "outputs": [],
   "source": []
  }
 ],
 "metadata": {
  "kernelspec": {
   "display_name": "Python 3 (ipykernel)",
   "language": "python",
   "name": "python3"
  },
  "language_info": {
   "codemirror_mode": {
    "name": "ipython",
    "version": 3
   },
   "file_extension": ".py",
   "mimetype": "text/x-python",
   "name": "python",
   "nbconvert_exporter": "python",
   "pygments_lexer": "ipython3",
   "version": "3.12.11"
  }
 },
 "nbformat": 4,
 "nbformat_minor": 5
}
