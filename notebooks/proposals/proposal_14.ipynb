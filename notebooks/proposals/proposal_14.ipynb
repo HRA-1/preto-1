{
 "cells": [
  {
   "cell_type": "code",
   "execution_count": 1,
   "id": "5a0ac263",
   "metadata": {},
   "outputs": [
    {
     "name": "stderr",
     "output_type": "stream",
     "text": [
      "/app/src/services/tables/Time_Attendance/detailed_working_info_table.py:79: FutureWarning: Downcasting object dtype arrays on .fillna, .ffill, .bfill is deprecated and will change in a future version. Call result.infer_objects(copy=False) instead. To opt-in to the future behavior, set `pd.set_option('future.no_silent_downcasting', True)`\n",
      "  df['IS_VACATION'] = df['IS_VACATION'].fillna(False).astype(bool)\n"
     ]
    },
    {
     "data": {
      "application/vnd.plotly.v1+json": {
       "config": {
        "plotlyServerURL": "https://plot.ly"
       },
       "data": [
        {
         "marker": {
          "color": "#636EFA"
         },
         "name": "Staff",
         "text": [
          "0.96%",
          "0.78%",
          "0.82%",
          "1.02%"
         ],
         "textposition": "outside",
         "type": "bar",
         "x": [
          "Planning Division",
          "Sales Division",
          "Development Division",
          "Operating Division"
         ],
         "y": {
          "bdata": "o8OgP8XK7j8xACXj9tjoP9VIEu+OO+o/RjB9dM4+8D8=",
          "dtype": "f8"
         }
        },
        {
         "marker": {
          "color": "#EF553B"
         },
         "name": "Manager",
         "text": [
          "0.52%",
          "0.62%",
          "0.63%",
          "0.59%"
         ],
         "textposition": "outside",
         "type": "bar",
         "x": [
          "Planning Division",
          "Sales Division",
          "Development Division",
          "Operating Division"
         ],
         "y": {
          "bdata": "ngbz4jyd4D+WqEQmEcrjPxtzjtedG+Q/o7/a42fi4j8=",
          "dtype": "f8"
         }
        },
        {
         "marker": {
          "color": "#00CC96"
         },
         "name": "Director",
         "text": [
          "0.36%",
          "0.25%",
          "0.21%",
          "0.5%"
         ],
         "textposition": "outside",
         "type": "bar",
         "x": [
          "Planning Division",
          "Sales Division",
          "Development Division",
          "Operating Division"
         ],
         "y": {
          "bdata": "kZHiWU4z1z8zBFG2LUPQP9clLN4t4Mo/EVBWPaER4D8=",
          "dtype": "f8"
         }
        },
        {
         "marker": {
          "color": "#AB63FA"
         },
         "name": "C-Level",
         "text": [
          "0.0%"
         ],
         "textposition": "outside",
         "type": "bar",
         "x": [
          "Development Division"
         ],
         "y": {
          "bdata": "AAAAAAAAAAA=",
          "dtype": "f8"
         }
        },
        {
         "marker": {
          "color": "#636EFA"
         },
         "name": "Staff",
         "text": [
          "0.95%",
          "0.97%",
          "0.98%"
         ],
         "textposition": "outside",
         "type": "bar",
         "visible": false,
         "x": [
          "Strategy Office",
          "Finance Office",
          "Planning Division (직속)"
         ],
         "y": {
          "bdata": "L4+Sz8R+7j/BbIMiE+/uP69+XIQ/d+8/",
          "dtype": "f8"
         }
        },
        {
         "marker": {
          "color": "#EF553B"
         },
         "name": "Manager",
         "text": [
          "0.54%",
          "0.49%",
          "0.48%"
         ],
         "textposition": "outside",
         "type": "bar",
         "visible": false,
         "x": [
          "Strategy Office",
          "Finance Office",
          "Planning Division (직속)"
         ],
         "y": {
          "bdata": "WbAXAtBX4T8YDJ5wbIzfPx89pB49pN4/",
          "dtype": "f8"
         }
        },
        {
         "marker": {
          "color": "#00CC96"
         },
         "name": "Director",
         "text": [
          "0.37%",
          "0.36%",
          "0.0%"
         ],
         "textposition": "outside",
         "type": "bar",
         "visible": false,
         "x": [
          "Strategy Office",
          "Finance Office",
          "Planning Division (직속)"
         ],
         "y": {
          "bdata": "3iYc7pbW1z/vkgcDzrjWPwAAAAAAAAAA",
          "dtype": "f8"
         }
        },
        {
         "marker": {
          "color": "#AB63FA"
         },
         "name": "C-Level",
         "text": [],
         "textposition": "outside",
         "type": "bar",
         "visible": false,
         "x": [],
         "y": []
        },
        {
         "marker": {
          "color": "#636EFA"
         },
         "name": "Staff",
         "text": [
          "0.72%",
          "0.91%",
          "0.73%",
          "0.64%"
         ],
         "textposition": "outside",
         "type": "bar",
         "visible": false,
         "x": [
          "Marketing Office",
          "Domestic Sales Office",
          "Global Sales Office",
          "Sales Division (직속)"
         ],
         "y": {
          "bdata": "7nWve93r5j/NC1TP5wftPyaa3t2vbuc/ONYK1H+C5D8=",
          "dtype": "f8"
         }
        },
        {
         "marker": {
          "color": "#EF553B"
         },
         "name": "Manager",
         "text": [
          "0.71%",
          "0.62%",
          "0.57%",
          "0.41%"
         ],
         "textposition": "outside",
         "type": "bar",
         "visible": false,
         "x": [
          "Marketing Office",
          "Domestic Sales Office",
          "Global Sales Office",
          "Sales Division (직속)"
         ],
         "y": {
          "bdata": "kHJT0Tyh5j9fIpIXfLnjP8Zn40T3Q+I/Axp367wC2j8=",
          "dtype": "f8"
         }
        },
        {
         "marker": {
          "color": "#00CC96"
         },
         "name": "Director",
         "text": [
          "0.17%",
          "0.31%",
          "0.33%",
          "0.0%"
         ],
         "textposition": "outside",
         "type": "bar",
         "visible": false,
         "x": [
          "Marketing Office",
          "Domestic Sales Office",
          "Global Sales Office",
          "Sales Division (직속)"
         ],
         "y": {
          "bdata": "dkN/ECgYxj/85eJDvaDTP6rEVGIqMdU/AAAAAAAAAAA=",
          "dtype": "f8"
         }
        },
        {
         "marker": {
          "color": "#AB63FA"
         },
         "name": "C-Level",
         "text": [],
         "textposition": "outside",
         "type": "bar",
         "visible": false,
         "x": [],
         "y": []
        },
        {
         "marker": {
          "color": "#636EFA"
         },
         "name": "Staff",
         "text": [
          "0.93%",
          "0.7%",
          "0.76%"
         ],
         "textposition": "outside",
         "type": "bar",
         "visible": false,
         "x": [
          "R&D Office",
          "QA Office",
          "Development Division (직속)"
         ],
         "y": {
          "bdata": "dYFjpnXO7T+Mmr/zcWfmP0Adp0ckYOg/",
          "dtype": "f8"
         }
        },
        {
         "marker": {
          "color": "#EF553B"
         },
         "name": "Manager",
         "text": [
          "0.68%",
          "0.59%",
          "0.36%"
         ],
         "textposition": "outside",
         "type": "bar",
         "visible": false,
         "x": [
          "R&D Office",
          "QA Office",
          "Development Division (직속)"
         ],
         "y": {
          "bdata": "NnhNPeOu5T9S8YQ/6PHiP0YXXXTRRdc/",
          "dtype": "f8"
         }
        },
        {
         "marker": {
          "color": "#00CC96"
         },
         "name": "Director",
         "text": [
          "0.24%",
          "0.0%",
          "0.41%"
         ],
         "textposition": "outside",
         "type": "bar",
         "visible": false,
         "x": [
          "R&D Office",
          "QA Office",
          "Development Division (직속)"
         ],
         "y": {
          "bdata": "Ne4F/lXjzj8AAAAAAAAAADn0N3ZOS9o/",
          "dtype": "f8"
         }
        },
        {
         "marker": {
          "color": "#AB63FA"
         },
         "name": "C-Level",
         "text": [
          "0.0%"
         ],
         "textposition": "outside",
         "type": "bar",
         "visible": false,
         "x": [
          "Development Division (직속)"
         ],
         "y": {
          "bdata": "AAAAAAAAAAA=",
          "dtype": "f8"
         }
        },
        {
         "marker": {
          "color": "#636EFA"
         },
         "name": "Staff",
         "text": [
          "0.94%",
          "1.11%",
          "0.89%"
         ],
         "textposition": "outside",
         "type": "bar",
         "visible": false,
         "x": [
          "Engineering Office",
          "Production Office",
          "Operating Division (직속)"
         ],
         "y": {
          "bdata": "rBrycSYr7j990f+AOr7xPxpE+QXFguw/",
          "dtype": "f8"
         }
        },
        {
         "marker": {
          "color": "#EF553B"
         },
         "name": "Manager",
         "text": [
          "0.73%",
          "0.41%",
          "0.0%"
         ],
         "textposition": "outside",
         "type": "bar",
         "visible": false,
         "x": [
          "Engineering Office",
          "Production Office",
          "Operating Division (직속)"
         ],
         "y": {
          "bdata": "M8Ff3XRA5z9OeIcm7/nZPwAAAAAAAAAA",
          "dtype": "f8"
         }
        },
        {
         "marker": {
          "color": "#00CC96"
         },
         "name": "Director",
         "text": [
          "0.0%",
          "0.0%",
          "2.44%"
         ],
         "textposition": "outside",
         "type": "bar",
         "visible": false,
         "x": [
          "Engineering Office",
          "Production Office",
          "Operating Division (직속)"
         ],
         "y": {
          "bdata": "AAAAAAAAAAAAAAAAAAAAABD3o+XWiwNA",
          "dtype": "f8"
         }
        },
        {
         "marker": {
          "color": "#AB63FA"
         },
         "name": "C-Level",
         "text": [],
         "textposition": "outside",
         "type": "bar",
         "visible": false,
         "x": [],
         "y": []
        }
       ],
       "layout": {
        "annotations": [
         {
          "align": "left",
          "showarrow": false,
          "text": "조직 선택:",
          "x": 0,
          "y": 1.08,
          "yref": "paper"
         }
        ],
        "barmode": "group",
        "font": {
         "size": 14
        },
        "height": 700,
        "legend": {
         "title": {
          "text": "직위"
         }
        },
        "template": {
         "data": {
          "bar": [
           {
            "error_x": {
             "color": "#2a3f5f"
            },
            "error_y": {
             "color": "#2a3f5f"
            },
            "marker": {
             "line": {
              "color": "#E5ECF6",
              "width": 0.5
             },
             "pattern": {
              "fillmode": "overlay",
              "size": 10,
              "solidity": 0.2
             }
            },
            "type": "bar"
           }
          ],
          "barpolar": [
           {
            "marker": {
             "line": {
              "color": "#E5ECF6",
              "width": 0.5
             },
             "pattern": {
              "fillmode": "overlay",
              "size": 10,
              "solidity": 0.2
             }
            },
            "type": "barpolar"
           }
          ],
          "carpet": [
           {
            "aaxis": {
             "endlinecolor": "#2a3f5f",
             "gridcolor": "white",
             "linecolor": "white",
             "minorgridcolor": "white",
             "startlinecolor": "#2a3f5f"
            },
            "baxis": {
             "endlinecolor": "#2a3f5f",
             "gridcolor": "white",
             "linecolor": "white",
             "minorgridcolor": "white",
             "startlinecolor": "#2a3f5f"
            },
            "type": "carpet"
           }
          ],
          "choropleth": [
           {
            "colorbar": {
             "outlinewidth": 0,
             "ticks": ""
            },
            "type": "choropleth"
           }
          ],
          "contour": [
           {
            "colorbar": {
             "outlinewidth": 0,
             "ticks": ""
            },
            "colorscale": [
             [
              0,
              "#0d0887"
             ],
             [
              0.1111111111111111,
              "#46039f"
             ],
             [
              0.2222222222222222,
              "#7201a8"
             ],
             [
              0.3333333333333333,
              "#9c179e"
             ],
             [
              0.4444444444444444,
              "#bd3786"
             ],
             [
              0.5555555555555556,
              "#d8576b"
             ],
             [
              0.6666666666666666,
              "#ed7953"
             ],
             [
              0.7777777777777778,
              "#fb9f3a"
             ],
             [
              0.8888888888888888,
              "#fdca26"
             ],
             [
              1,
              "#f0f921"
             ]
            ],
            "type": "contour"
           }
          ],
          "contourcarpet": [
           {
            "colorbar": {
             "outlinewidth": 0,
             "ticks": ""
            },
            "type": "contourcarpet"
           }
          ],
          "heatmap": [
           {
            "colorbar": {
             "outlinewidth": 0,
             "ticks": ""
            },
            "colorscale": [
             [
              0,
              "#0d0887"
             ],
             [
              0.1111111111111111,
              "#46039f"
             ],
             [
              0.2222222222222222,
              "#7201a8"
             ],
             [
              0.3333333333333333,
              "#9c179e"
             ],
             [
              0.4444444444444444,
              "#bd3786"
             ],
             [
              0.5555555555555556,
              "#d8576b"
             ],
             [
              0.6666666666666666,
              "#ed7953"
             ],
             [
              0.7777777777777778,
              "#fb9f3a"
             ],
             [
              0.8888888888888888,
              "#fdca26"
             ],
             [
              1,
              "#f0f921"
             ]
            ],
            "type": "heatmap"
           }
          ],
          "histogram": [
           {
            "marker": {
             "pattern": {
              "fillmode": "overlay",
              "size": 10,
              "solidity": 0.2
             }
            },
            "type": "histogram"
           }
          ],
          "histogram2d": [
           {
            "colorbar": {
             "outlinewidth": 0,
             "ticks": ""
            },
            "colorscale": [
             [
              0,
              "#0d0887"
             ],
             [
              0.1111111111111111,
              "#46039f"
             ],
             [
              0.2222222222222222,
              "#7201a8"
             ],
             [
              0.3333333333333333,
              "#9c179e"
             ],
             [
              0.4444444444444444,
              "#bd3786"
             ],
             [
              0.5555555555555556,
              "#d8576b"
             ],
             [
              0.6666666666666666,
              "#ed7953"
             ],
             [
              0.7777777777777778,
              "#fb9f3a"
             ],
             [
              0.8888888888888888,
              "#fdca26"
             ],
             [
              1,
              "#f0f921"
             ]
            ],
            "type": "histogram2d"
           }
          ],
          "histogram2dcontour": [
           {
            "colorbar": {
             "outlinewidth": 0,
             "ticks": ""
            },
            "colorscale": [
             [
              0,
              "#0d0887"
             ],
             [
              0.1111111111111111,
              "#46039f"
             ],
             [
              0.2222222222222222,
              "#7201a8"
             ],
             [
              0.3333333333333333,
              "#9c179e"
             ],
             [
              0.4444444444444444,
              "#bd3786"
             ],
             [
              0.5555555555555556,
              "#d8576b"
             ],
             [
              0.6666666666666666,
              "#ed7953"
             ],
             [
              0.7777777777777778,
              "#fb9f3a"
             ],
             [
              0.8888888888888888,
              "#fdca26"
             ],
             [
              1,
              "#f0f921"
             ]
            ],
            "type": "histogram2dcontour"
           }
          ],
          "mesh3d": [
           {
            "colorbar": {
             "outlinewidth": 0,
             "ticks": ""
            },
            "type": "mesh3d"
           }
          ],
          "parcoords": [
           {
            "line": {
             "colorbar": {
              "outlinewidth": 0,
              "ticks": ""
             }
            },
            "type": "parcoords"
           }
          ],
          "pie": [
           {
            "automargin": true,
            "type": "pie"
           }
          ],
          "scatter": [
           {
            "fillpattern": {
             "fillmode": "overlay",
             "size": 10,
             "solidity": 0.2
            },
            "type": "scatter"
           }
          ],
          "scatter3d": [
           {
            "line": {
             "colorbar": {
              "outlinewidth": 0,
              "ticks": ""
             }
            },
            "marker": {
             "colorbar": {
              "outlinewidth": 0,
              "ticks": ""
             }
            },
            "type": "scatter3d"
           }
          ],
          "scattercarpet": [
           {
            "marker": {
             "colorbar": {
              "outlinewidth": 0,
              "ticks": ""
             }
            },
            "type": "scattercarpet"
           }
          ],
          "scattergeo": [
           {
            "marker": {
             "colorbar": {
              "outlinewidth": 0,
              "ticks": ""
             }
            },
            "type": "scattergeo"
           }
          ],
          "scattergl": [
           {
            "marker": {
             "colorbar": {
              "outlinewidth": 0,
              "ticks": ""
             }
            },
            "type": "scattergl"
           }
          ],
          "scattermap": [
           {
            "marker": {
             "colorbar": {
              "outlinewidth": 0,
              "ticks": ""
             }
            },
            "type": "scattermap"
           }
          ],
          "scattermapbox": [
           {
            "marker": {
             "colorbar": {
              "outlinewidth": 0,
              "ticks": ""
             }
            },
            "type": "scattermapbox"
           }
          ],
          "scatterpolar": [
           {
            "marker": {
             "colorbar": {
              "outlinewidth": 0,
              "ticks": ""
             }
            },
            "type": "scatterpolar"
           }
          ],
          "scatterpolargl": [
           {
            "marker": {
             "colorbar": {
              "outlinewidth": 0,
              "ticks": ""
             }
            },
            "type": "scatterpolargl"
           }
          ],
          "scatterternary": [
           {
            "marker": {
             "colorbar": {
              "outlinewidth": 0,
              "ticks": ""
             }
            },
            "type": "scatterternary"
           }
          ],
          "surface": [
           {
            "colorbar": {
             "outlinewidth": 0,
             "ticks": ""
            },
            "colorscale": [
             [
              0,
              "#0d0887"
             ],
             [
              0.1111111111111111,
              "#46039f"
             ],
             [
              0.2222222222222222,
              "#7201a8"
             ],
             [
              0.3333333333333333,
              "#9c179e"
             ],
             [
              0.4444444444444444,
              "#bd3786"
             ],
             [
              0.5555555555555556,
              "#d8576b"
             ],
             [
              0.6666666666666666,
              "#ed7953"
             ],
             [
              0.7777777777777778,
              "#fb9f3a"
             ],
             [
              0.8888888888888888,
              "#fdca26"
             ],
             [
              1,
              "#f0f921"
             ]
            ],
            "type": "surface"
           }
          ],
          "table": [
           {
            "cells": {
             "fill": {
              "color": "#EBF0F8"
             },
             "line": {
              "color": "white"
             }
            },
            "header": {
             "fill": {
              "color": "#C8D4E3"
             },
             "line": {
              "color": "white"
             }
            },
            "type": "table"
           }
          ]
         },
         "layout": {
          "annotationdefaults": {
           "arrowcolor": "#2a3f5f",
           "arrowhead": 0,
           "arrowwidth": 1
          },
          "autotypenumbers": "strict",
          "coloraxis": {
           "colorbar": {
            "outlinewidth": 0,
            "ticks": ""
           }
          },
          "colorscale": {
           "diverging": [
            [
             0,
             "#8e0152"
            ],
            [
             0.1,
             "#c51b7d"
            ],
            [
             0.2,
             "#de77ae"
            ],
            [
             0.3,
             "#f1b6da"
            ],
            [
             0.4,
             "#fde0ef"
            ],
            [
             0.5,
             "#f7f7f7"
            ],
            [
             0.6,
             "#e6f5d0"
            ],
            [
             0.7,
             "#b8e186"
            ],
            [
             0.8,
             "#7fbc41"
            ],
            [
             0.9,
             "#4d9221"
            ],
            [
             1,
             "#276419"
            ]
           ],
           "sequential": [
            [
             0,
             "#0d0887"
            ],
            [
             0.1111111111111111,
             "#46039f"
            ],
            [
             0.2222222222222222,
             "#7201a8"
            ],
            [
             0.3333333333333333,
             "#9c179e"
            ],
            [
             0.4444444444444444,
             "#bd3786"
            ],
            [
             0.5555555555555556,
             "#d8576b"
            ],
            [
             0.6666666666666666,
             "#ed7953"
            ],
            [
             0.7777777777777778,
             "#fb9f3a"
            ],
            [
             0.8888888888888888,
             "#fdca26"
            ],
            [
             1,
             "#f0f921"
            ]
           ],
           "sequentialminus": [
            [
             0,
             "#0d0887"
            ],
            [
             0.1111111111111111,
             "#46039f"
            ],
            [
             0.2222222222222222,
             "#7201a8"
            ],
            [
             0.3333333333333333,
             "#9c179e"
            ],
            [
             0.4444444444444444,
             "#bd3786"
            ],
            [
             0.5555555555555556,
             "#d8576b"
            ],
            [
             0.6666666666666666,
             "#ed7953"
            ],
            [
             0.7777777777777778,
             "#fb9f3a"
            ],
            [
             0.8888888888888888,
             "#fdca26"
            ],
            [
             1,
             "#f0f921"
            ]
           ]
          },
          "colorway": [
           "#636efa",
           "#EF553B",
           "#00cc96",
           "#ab63fa",
           "#FFA15A",
           "#19d3f3",
           "#FF6692",
           "#B6E880",
           "#FF97FF",
           "#FECB52"
          ],
          "font": {
           "color": "#2a3f5f"
          },
          "geo": {
           "bgcolor": "white",
           "lakecolor": "white",
           "landcolor": "#E5ECF6",
           "showlakes": true,
           "showland": true,
           "subunitcolor": "white"
          },
          "hoverlabel": {
           "align": "left"
          },
          "hovermode": "closest",
          "mapbox": {
           "style": "light"
          },
          "paper_bgcolor": "white",
          "plot_bgcolor": "#E5ECF6",
          "polar": {
           "angularaxis": {
            "gridcolor": "white",
            "linecolor": "white",
            "ticks": ""
           },
           "bgcolor": "#E5ECF6",
           "radialaxis": {
            "gridcolor": "white",
            "linecolor": "white",
            "ticks": ""
           }
          },
          "scene": {
           "xaxis": {
            "backgroundcolor": "#E5ECF6",
            "gridcolor": "white",
            "gridwidth": 2,
            "linecolor": "white",
            "showbackground": true,
            "ticks": "",
            "zerolinecolor": "white"
           },
           "yaxis": {
            "backgroundcolor": "#E5ECF6",
            "gridcolor": "white",
            "gridwidth": 2,
            "linecolor": "white",
            "showbackground": true,
            "ticks": "",
            "zerolinecolor": "white"
           },
           "zaxis": {
            "backgroundcolor": "#E5ECF6",
            "gridcolor": "white",
            "gridwidth": 2,
            "linecolor": "white",
            "showbackground": true,
            "ticks": "",
            "zerolinecolor": "white"
           }
          },
          "shapedefaults": {
           "line": {
            "color": "#2a3f5f"
           }
          },
          "ternary": {
           "aaxis": {
            "gridcolor": "white",
            "linecolor": "white",
            "ticks": ""
           },
           "baxis": {
            "gridcolor": "white",
            "linecolor": "white",
            "ticks": ""
           },
           "bgcolor": "#E5ECF6",
           "caxis": {
            "gridcolor": "white",
            "linecolor": "white",
            "ticks": ""
           }
          },
          "title": {
           "x": 0.05
          },
          "xaxis": {
           "automargin": true,
           "gridcolor": "white",
           "linecolor": "white",
           "ticks": "",
           "title": {
            "standoff": 15
           },
           "zerolinecolor": "white",
           "zerolinewidth": 2
          },
          "yaxis": {
           "automargin": true,
           "gridcolor": "white",
           "linecolor": "white",
           "ticks": "",
           "title": {
            "standoff": 15
           },
           "zerolinecolor": "white",
           "zerolinewidth": 2
          }
         }
        },
        "title": {
         "text": "조직별/직위별 지각률(%) 분석"
        },
        "updatemenus": [
         {
          "active": 0,
          "buttons": [
           {
            "args": [
             {
              "text": [
               [
                "0.96%",
                "0.78%",
                "0.82%",
                "1.02%"
               ],
               [
                "0.52%",
                "0.62%",
                "0.63%",
                "0.59%"
               ],
               [
                "0.36%",
                "0.25%",
                "0.21%",
                "0.5%"
               ],
               [
                "0.0%"
               ],
               null,
               null,
               null,
               null,
               null,
               null,
               null,
               null,
               null,
               null,
               null,
               null,
               null,
               null,
               null,
               null
              ],
              "visible": [
               true,
               true,
               true,
               true,
               false,
               false,
               false,
               false,
               false,
               false,
               false,
               false,
               false,
               false,
               false,
               false,
               false,
               false,
               false,
               false
              ]
             },
             {
              "title": "전체 Division별 지각률(%) 분석",
              "xaxis.title": "Division"
             }
            ],
            "label": "전체",
            "method": "update"
           },
           {
            "args": [
             {
              "text": [
               null,
               null,
               null,
               null,
               [
                "0.95%",
                "0.97%",
                "0.98%"
               ],
               [
                "0.54%",
                "0.49%",
                "0.48%"
               ],
               [
                "0.37%",
                "0.36%",
                "0.0%"
               ],
               [],
               null,
               null,
               null,
               null,
               null,
               null,
               null,
               null,
               null,
               null,
               null,
               null
              ],
              "visible": [
               false,
               false,
               false,
               false,
               true,
               true,
               true,
               true,
               false,
               false,
               false,
               false,
               false,
               false,
               false,
               false,
               false,
               false,
               false,
               false
              ]
             },
             {
              "title": "Planning Division 내 Office별 지각률(%) 분석",
              "xaxis.title": "Office"
             }
            ],
            "label": "Planning Division",
            "method": "update"
           },
           {
            "args": [
             {
              "text": [
               null,
               null,
               null,
               null,
               null,
               null,
               null,
               null,
               [
                "0.72%",
                "0.91%",
                "0.73%",
                "0.64%"
               ],
               [
                "0.71%",
                "0.62%",
                "0.57%",
                "0.41%"
               ],
               [
                "0.17%",
                "0.31%",
                "0.33%",
                "0.0%"
               ],
               [],
               null,
               null,
               null,
               null,
               null,
               null,
               null,
               null
              ],
              "visible": [
               false,
               false,
               false,
               false,
               false,
               false,
               false,
               false,
               true,
               true,
               true,
               true,
               false,
               false,
               false,
               false,
               false,
               false,
               false,
               false
              ]
             },
             {
              "title": "Sales Division 내 Office별 지각률(%) 분석",
              "xaxis.title": "Office"
             }
            ],
            "label": "Sales Division",
            "method": "update"
           },
           {
            "args": [
             {
              "text": [
               null,
               null,
               null,
               null,
               null,
               null,
               null,
               null,
               null,
               null,
               null,
               null,
               [
                "0.93%",
                "0.7%",
                "0.76%"
               ],
               [
                "0.68%",
                "0.59%",
                "0.36%"
               ],
               [
                "0.24%",
                "0.0%",
                "0.41%"
               ],
               [
                "0.0%"
               ],
               null,
               null,
               null,
               null
              ],
              "visible": [
               false,
               false,
               false,
               false,
               false,
               false,
               false,
               false,
               false,
               false,
               false,
               false,
               true,
               true,
               true,
               true,
               false,
               false,
               false,
               false
              ]
             },
             {
              "title": "Development Division 내 Office별 지각률(%) 분석",
              "xaxis.title": "Office"
             }
            ],
            "label": "Development Division",
            "method": "update"
           },
           {
            "args": [
             {
              "text": [
               null,
               null,
               null,
               null,
               null,
               null,
               null,
               null,
               null,
               null,
               null,
               null,
               null,
               null,
               null,
               null,
               [
                "0.94%",
                "1.11%",
                "0.89%"
               ],
               [
                "0.73%",
                "0.41%",
                "0.0%"
               ],
               [
                "0.0%",
                "0.0%",
                "2.44%"
               ],
               []
              ],
              "visible": [
               false,
               false,
               false,
               false,
               false,
               false,
               false,
               false,
               false,
               false,
               false,
               false,
               false,
               false,
               false,
               false,
               true,
               true,
               true,
               true
              ]
             },
             {
              "title": "Operating Division 내 Office별 지각률(%) 분석",
              "xaxis.title": "Office"
             }
            ],
            "label": "Operating Division",
            "method": "update"
           }
          ],
          "direction": "down",
          "pad": {
           "r": 10,
           "t": 10
          },
          "showactive": true,
          "x": 0.01,
          "xanchor": "left",
          "y": 1.1,
          "yanchor": "top"
         }
        ],
        "yaxis": {
         "range": [
          0,
          2.9319371727748686
         ],
         "ticksuffix": "%",
         "title": {
          "text": "지각률 (%)"
         }
        }
       }
      }
     },
     "metadata": {},
     "output_type": "display_data"
    }
   ],
   "source": [
    "import pandas as pd\n",
    "import numpy as np\n",
    "import plotly.graph_objects as go\n",
    "import plotly.io as pio\n",
    "import plotly.express as px\n",
    "import datetime\n",
    "\n",
    "# --- 1. 데이터 임포트 ---\n",
    "from services.tables.Time_Attendance.detailed_working_info_table import detailed_work_info_df\n",
    "from services.tables.Time_Attendance.working_info_table import work_info_df\n",
    "from services.tables.HR_Core.department_info_table import department_info_df\n",
    "from services.tables.HR_Core.position_info_table import position_info_df\n",
    "from services.tables.HR_Core.position_table import position_df\n",
    "from services.tables.HR_Core.department_table import (\n",
    "    dept_level_map, parent_map_dept, dept_name_map,\n",
    "    division_order, office_order\n",
    ")\n",
    "from services.helpers.utils import find_parents\n",
    "\n",
    "def create_figure():\n",
    "    \"\"\"\n",
    "    제안 14: 조직별/직위별 지각률(%) 분석 그래프를 생성합니다.\n",
    "    \"\"\"\n",
    "    # --- 2. 데이터 준비 및 가공 ---\n",
    "    work_records = detailed_work_info_df.copy()\n",
    "    work_records = work_records[~work_records['WORK_ETC'].isin(['휴가', '주말 휴무', '비번', '휴무'])]\n",
    "    work_records = work_records[work_records['DATE_START_TIME'] != '-']\n",
    "    normal_work_emp_ids = work_info_df[work_info_df['WORK_SYS_ID'] == 'WS001']['EMP_ID'].unique()\n",
    "    work_records = work_records[work_records['EMP_ID'].isin(normal_work_emp_ids)].copy()\n",
    "    work_records['DATE'] = pd.to_datetime(work_records['DATE'])\n",
    "    \n",
    "    dept_info_sorted = department_info_df.sort_values(['DEP_APP_START_DATE', 'EMP_ID'])\n",
    "    pos_info_sorted = position_info_df.sort_values(['GRADE_START_DATE', 'EMP_ID'])\n",
    "    analysis_df = work_records.sort_values(['DATE', 'EMP_ID'])\n",
    "    analysis_df = pd.merge_asof(analysis_df, dept_info_sorted[['EMP_ID', 'DEP_APP_START_DATE', 'DEP_ID']],left_on='DATE', right_on='DEP_APP_START_DATE', by='EMP_ID', direction='backward')\n",
    "    analysis_df = pd.merge_asof(analysis_df, pos_info_sorted[['EMP_ID', 'GRADE_START_DATE', 'POSITION_ID']],left_on='DATE', right_on='GRADE_START_DATE', by='EMP_ID', direction='backward')\n",
    "    \n",
    "    parent_info = analysis_df['DEP_ID'].apply(lambda x: find_parents(x, dept_level_map, parent_map_dept, dept_name_map))\n",
    "    analysis_df = pd.concat([analysis_df, parent_info], axis=1)\n",
    "    analysis_df = pd.merge(analysis_df, position_df[['POSITION_ID', 'POSITION_NAME']].drop_duplicates(), on='POSITION_ID', how='left')\n",
    "    analysis_df = analysis_df.dropna(subset=['DIVISION_NAME', 'OFFICE_NAME', 'POSITION_NAME'])\n",
    "    analysis_df = analysis_df.copy()\n",
    "    \n",
    "    analysis_df['START_TIME_OBJ'] = pd.to_datetime(analysis_df['DATE_START_TIME'], format='%H:%M', errors='coerce').dt.time\n",
    "    gso_mask = analysis_df['OFFICE_NAME'] == 'Global Sales Office'\n",
    "    analysis_df.loc[gso_mask, 'IS_LATE'] = analysis_df.loc[gso_mask, 'START_TIME_OBJ'] > datetime.time(11, 0)\n",
    "    analysis_df.loc[~gso_mask, 'IS_LATE'] = analysis_df.loc[~gso_mask, 'START_TIME_OBJ'] > datetime.time(10, 0)\n",
    "    \n",
    "    total_days = analysis_df.groupby(['DIVISION_NAME', 'OFFICE_NAME', 'POSITION_NAME'], observed=False).size().reset_index(name='TOTAL_DAYS')\n",
    "    late_days = analysis_df[analysis_df['IS_LATE']].groupby(['DIVISION_NAME', 'OFFICE_NAME', 'POSITION_NAME'], observed=False).size().reset_index(name='LATE_DAYS')\n",
    "    lateness_df = pd.merge(total_days, late_days, on=['DIVISION_NAME', 'OFFICE_NAME', 'POSITION_NAME'], how='left').fillna(0)\n",
    "    lateness_df['LATENESS_RATE'] = (lateness_df['LATE_DAYS'] / lateness_df['TOTAL_DAYS']) * 100\n",
    "    div_lateness_df = lateness_df.groupby(['DIVISION_NAME', 'POSITION_NAME'], observed=False).agg(TOTAL_DAYS=('TOTAL_DAYS', 'sum'), LATE_DAYS=('LATE_DAYS', 'sum')).reset_index()\n",
    "    div_lateness_df['LATENESS_RATE'] = (div_lateness_df['LATE_DAYS'] / div_lateness_df['TOTAL_DAYS']) * 100\n",
    "    \n",
    "    div_lateness_df['DIVISION_NAME'] = pd.Categorical(div_lateness_df['DIVISION_NAME'], categories=division_order, ordered=True)\n",
    "    lateness_df['OFFICE_NAME'] = pd.Categorical(lateness_df['OFFICE_NAME'], categories=office_order, ordered=True)\n",
    "    div_lateness_df = div_lateness_df.sort_values('DIVISION_NAME')\n",
    "    lateness_df = lateness_df.sort_values(['DIVISION_NAME', 'OFFICE_NAME'])\n",
    "\n",
    "    # --- 3. Plotly 인터랙티브 그래프 생성 ---\n",
    "    y_max = pd.concat([div_lateness_df['LATENESS_RATE'], lateness_df['LATENESS_RATE']]).max()\n",
    "    fixed_y_range = [0, y_max * 1.2]\n",
    "\n",
    "    fig = go.Figure()\n",
    "    position_order = ['Staff', 'Manager', 'Director', 'C-Level']\n",
    "    colors = px.colors.qualitative.Plotly\n",
    "    \n",
    "    for i, pos_name in enumerate(position_order):\n",
    "        df_filtered = div_lateness_df[div_lateness_df['POSITION_NAME'] == pos_name]\n",
    "        fig.add_trace(go.Bar(x=df_filtered['DIVISION_NAME'], y=df_filtered['LATENESS_RATE'], name=pos_name, marker_color=colors[i],\n",
    "                             text=df_filtered['LATENESS_RATE'].round(2).astype(str) + '%', textposition='outside'))\n",
    "    \n",
    "    office_traces_map = {}\n",
    "    trace_idx_counter = len(fig.data)\n",
    "    for div_name in division_order:\n",
    "        office_div_df = lateness_df[lateness_df['DIVISION_NAME'] == div_name]\n",
    "        office_traces_map[div_name] = []\n",
    "        for j, pos_name in enumerate(position_order):\n",
    "            df_filtered = office_div_df[office_div_df['POSITION_NAME'] == pos_name]\n",
    "            fig.add_trace(go.Bar(x=df_filtered['OFFICE_NAME'], y=df_filtered['LATENESS_RATE'], name=pos_name, visible=False, marker_color=colors[j],\n",
    "                                     text=df_filtered['LATENESS_RATE'].round(2).astype(str) + '%', textposition='outside'))\n",
    "            office_traces_map[div_name].append(trace_idx_counter)\n",
    "            trace_idx_counter += 1\n",
    "\n",
    "    # --- 4. 드롭다운 메뉴 및 레이아웃 업데이트 ---\n",
    "    buttons = []\n",
    "    visible_div = [True]*len(position_order) + [False]*(len(fig.data)-len(position_order))\n",
    "    text_div = [div_lateness_df[div_lateness_df['POSITION_NAME'] == p]['LATENESS_RATE'].round(2).astype(str) + '%' for p in position_order] + [None]*(len(fig.data)-len(position_order))\n",
    "    buttons.append(dict(label='전체', method='update',\n",
    "                        args=[{'visible': visible_div, 'text': text_div},\n",
    "                              {'title': '전체 Division별 지각률(%) 분석', 'xaxis.title': 'Division'}]))\n",
    "\n",
    "    for div_name in division_order:\n",
    "        visibility_mask = [False] * len(fig.data)\n",
    "        text_mask = [None] * len(fig.data)\n",
    "        for trace_idx in office_traces_map.get(div_name, []):\n",
    "            visibility_mask[trace_idx] = True\n",
    "            pos_name = fig.data[trace_idx].name\n",
    "            office_data = lateness_df[(lateness_df['DIVISION_NAME'] == div_name) & (lateness_df['POSITION_NAME'] == pos_name)]\n",
    "            text_mask[trace_idx] = office_data['LATENESS_RATE'].round(2).astype(str) + '%'\n",
    "        \n",
    "        buttons.append(dict(label=f'{div_name}', method='update',\n",
    "                            args=[{'visible': visibility_mask, 'text': text_mask},\n",
    "                                  {'title': f'{div_name} 내 Office별 지각률(%) 분석', 'xaxis.title': 'Office'}]))\n",
    "    \n",
    "    fig.update_layout(\n",
    "        updatemenus=[dict(active=0, buttons=buttons, direction=\"down\", pad={\"r\": 10, \"t\": 10}, showactive=True, x=0.01, xanchor=\"left\", y=1.1, yanchor=\"top\")],\n",
    "        title_text='조직별/직위별 지각률(%) 분석',\n",
    "        yaxis_title='지각률 (%)',\n",
    "        font_size=14, height=700,\n",
    "        barmode='group',\n",
    "        legend_title_text='직위',\n",
    "        annotations=[dict(text=\"조직 선택:\", showarrow=False, x=0, y=1.08, yref=\"paper\", align=\"left\")],\n",
    "        yaxis=dict(ticksuffix=\"%\", range=fixed_y_range)\n",
    "    )\n",
    "    \n",
    "    return fig\n",
    "\n",
    "# 이 파일을 직접 실행할 경우 그래프를 생성하여 보여줍니다.\n",
    "if __name__ == '__main__':\n",
    "    pio.renderers.default = 'vscode'\n",
    "    fig = create_figure()\n",
    "    fig.show()"
   ]
  },
  {
   "cell_type": "code",
   "execution_count": null,
   "id": "dc2069d6",
   "metadata": {},
   "outputs": [],
   "source": []
  }
 ],
 "metadata": {
  "kernelspec": {
   "display_name": "Python 3 (ipykernel)",
   "language": "python",
   "name": "python3"
  },
  "language_info": {
   "codemirror_mode": {
    "name": "ipython",
    "version": 3
   },
   "file_extension": ".py",
   "mimetype": "text/x-python",
   "name": "python",
   "nbconvert_exporter": "python",
   "pygments_lexer": "ipython3",
   "version": "3.12.11"
  }
 },
 "nbformat": 4,
 "nbformat_minor": 5
}
