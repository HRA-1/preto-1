{
 "cells": [
  {
   "cell_type": "code",
   "execution_count": 2,
   "id": "9b4fae03",
   "metadata": {},
   "outputs": [
    {
     "data": {
      "application/vnd.plotly.v1+json": {
       "config": {
        "plotlyServerURL": "https://plot.ly"
       },
       "data": [
        {
         "line": {
          "color": "#636EFA"
         },
         "mode": "lines+markers",
         "name": "Staff",
         "type": "scatter",
         "x": [
          "2020-01",
          "2020-02",
          "2020-03",
          "2020-04",
          "2020-05",
          "2020-06",
          "2020-07",
          "2020-08",
          "2020-09",
          "2020-10",
          "2020-11",
          "2020-12",
          "2021-01",
          "2021-02",
          "2021-03",
          "2021-04",
          "2021-05",
          "2021-06",
          "2021-07",
          "2021-08",
          "2021-09",
          "2021-10",
          "2021-11",
          "2021-12",
          "2022-01",
          "2022-02",
          "2022-03",
          "2022-04",
          "2022-05",
          "2022-06",
          "2022-07",
          "2022-08",
          "2022-09",
          "2022-10",
          "2022-11",
          "2022-12",
          "2023-01",
          "2023-02",
          "2023-03",
          "2023-04",
          "2023-05",
          "2023-06",
          "2023-07",
          "2023-08",
          "2023-09",
          "2023-10",
          "2023-11",
          "2023-12",
          "2024-01",
          "2024-02",
          "2024-03",
          "2024-04",
          "2024-05",
          "2024-06",
          "2024-07",
          "2024-08",
          "2024-09",
          "2024-10",
          "2024-11",
          "2024-12",
          "2025-01",
          "2025-02",
          "2025-03",
          "2025-04",
          "2025-05",
          "2025-06",
          "2025-07",
          "2025-08"
         ],
         "y": {
          "bdata": "KrhwlIJLJMDexcrJljogwFeWNnFnfiPAuwT+csUDI8DfOReB9t0hwCDjNCm9lSLAFb2fQHbdIsCuxdHXWpwhwBKsRd94kiLA1R3nmicQIsBnJ5JuenYhwMbp12Cc/iLAn+3Znu1ZIcDwgQVTL6ghwPFmxJsR7yLAD3E8gEHXIsB5IU03wvwhwKGsEGMf4CLAcTyAQdezIcDzjTSeOL8iwBX2QK9+7iHAcQ/3cA+3IcBCzG6XIYQhwI2yJTamkSLAfEQdiSBADUBQvFNzXFsMQPPhyUg3Hw5AbWxsbGxsDEB3d3d3d9cOQIU7tiw1EQ5AUcXbrgjVCkAyRrPoYO8OQMV+0U+zTg5AK+MoaXjOD0CuYbOSbBUPQGlVPos1Uw5Aaxjr/77jEECG//UtxSwQQJ4R4BkBng9A4pHwrSgeC0B6MWyPpBcQQP95g3CWCg1A+byMtabaCkCcszmbszkOQGQ8xmM85gxAE/NdwSnkDUDcLDSp+QAQQDBQVmGojg1ALF5jLzfpCEAgaoV0HYQNQESoZpsMJQpAxGfYFSA3DkBzIWlKxVkNQE5iEFg5tAtApy3zO2TRDUDer3ayXLYPQMtzCWQNow9ATuAETuCEDkDxFV/xFd8MQJwXe3B48gxAx2ZbpUQ5DkBDLMRCLMQMQGWHqcvtzxBAcsAF+X3YDEBMcTffK2cQQJdyKZdyKRBA3qEHyO92DkCc88WRMegGQA==",
          "dtype": "f8"
         }
        },
        {
         "line": {
          "color": "#EF553B"
         },
         "mode": "lines+markers",
         "name": "Manager",
         "type": "scatter",
         "x": [
          "2020-01",
          "2020-02",
          "2020-03",
          "2020-04",
          "2020-05",
          "2020-06",
          "2020-07",
          "2020-08",
          "2020-09",
          "2020-10",
          "2020-11",
          "2020-12",
          "2021-01",
          "2021-02",
          "2021-03",
          "2021-04",
          "2021-05",
          "2021-06",
          "2021-07",
          "2021-08",
          "2021-09",
          "2021-10",
          "2021-11",
          "2021-12",
          "2022-01",
          "2022-02",
          "2022-03",
          "2022-04",
          "2022-05",
          "2022-06",
          "2022-07",
          "2022-08",
          "2022-09",
          "2022-10",
          "2022-11",
          "2022-12",
          "2023-01",
          "2023-02",
          "2023-03",
          "2023-04",
          "2023-05",
          "2023-06",
          "2023-07",
          "2023-08",
          "2023-09",
          "2023-10",
          "2023-11",
          "2023-12",
          "2024-01",
          "2024-02",
          "2024-03",
          "2024-04",
          "2024-05",
          "2024-06",
          "2024-07",
          "2024-08",
          "2024-09",
          "2024-10",
          "2024-11",
          "2024-12",
          "2025-01",
          "2025-02",
          "2025-03",
          "2025-04",
          "2025-05",
          "2025-06",
          "2025-07",
          "2025-08"
         ],
         "y": {
          "bdata": "L9s/ZZBpFsDzzaJJgLUTwE1762x41BXAAkE7DZ0bF8AXYQD1Ph4XwBPEySTVmhPART7rBlPkGMDHQCW3/pwZwDABR167LxrALJxfbaQAHMB7RpxuF84YwKYTzRcyBxrAPetpOoyNGMAVvJyClxMXwLy7u7u7uxvApV3apV3aGMARBI4m9JkZwBl9lKrNbhjAOsWVU1w5F8Akkp7rYpMVwJwFPCgYexbAGyd065v7FcA/ZEuxwuEYwCdBhaNb5hvAI6/2tnuMDUD2PyXpoQEKQA9J1L3qkA5A1N8KSP2tDUC0YwXCSLsOQDDxWGWstwtA1BMY1BMYDEAXS36x5JcNQGW3rpRG3A9A0N40CEMhDkB1rjwgWecNQG8KXMfnDg5A9dNPP/20DkA5eoKjJ3gMQL4lMLFXaBFAxXLbWEosEEDXdE3XdE0RQGyEKcQA7xBAJF5F4lUkDkBtHq80YcUSQAfZQXaQHQ5AERERERGlDkCUdHz62uIQQCz3NMJyTw1A8n7mIgYgEEC1GDt4yAENQNogAB2aDQ5AOoBiH7HpDkDnmLLrvyUPQAIbsAEbsAtAMTExMTHxDkBv+qZv+qYQQO3s7OzsLA5AC55XSdR6DkCFDgNEKRYNQDQGTGPA9AxAc+MVTat8D0BzPkLUSfgKQN6CIlxpVw5An6QKN1aHC0DqJWbqNpgNQKtB5wF2lApANMRw5MnLDUD+C4HahMYFQA==",
          "dtype": "f8"
         }
        },
        {
         "line": {
          "color": "#00CC96"
         },
         "mode": "lines+markers",
         "name": "Director",
         "type": "scatter",
         "x": [
          "2020-01",
          "2020-02",
          "2020-03",
          "2020-04",
          "2020-05",
          "2020-06",
          "2020-07",
          "2020-08",
          "2020-09",
          "2020-10",
          "2020-11",
          "2020-12",
          "2021-01",
          "2021-02",
          "2021-03",
          "2021-04",
          "2021-05",
          "2021-06",
          "2021-07",
          "2021-08",
          "2021-09",
          "2021-10",
          "2021-11",
          "2021-12",
          "2022-01",
          "2022-02",
          "2022-03",
          "2022-04",
          "2022-05",
          "2022-06",
          "2022-07",
          "2022-08",
          "2022-09",
          "2022-10",
          "2022-11",
          "2022-12",
          "2023-01",
          "2023-02",
          "2023-03",
          "2023-04",
          "2023-05",
          "2023-06",
          "2023-07",
          "2023-08",
          "2023-09",
          "2023-10",
          "2023-11",
          "2023-12",
          "2024-01",
          "2024-02",
          "2024-03",
          "2024-04",
          "2024-05",
          "2024-06",
          "2024-07",
          "2024-08",
          "2024-09",
          "2024-10",
          "2024-11",
          "2024-12",
          "2025-01",
          "2025-02",
          "2025-03",
          "2025-04",
          "2025-05",
          "2025-06",
          "2025-07",
          "2025-08"
         ],
         "y": {
          "bdata": "7+7u7u7uCkB3d3d3d3cLQD7pkz7pkxBAbMEWbMEW5D+2YAu2YAv4PyIiIiIiIu4/dU3XdE3XAkCf7dme7dkIQJ/t2Z7t2QBA5EZu5EZuDkDA+qu/+qsJQKuqqqqqqg5A7Ovr6+vr9z9Ass6VByQCQPRJn/RJnxFAPSBZ58qDF0CLUcPfphgPQAwMDAwMDBBAoaCgoKCgGEDu7e3t7e0aQGNjY2NjYw1AtLS0tLS0EUAAAAAAACARQFVVVVVVhRFAysnJycnJB0AqRg1/m2IHQAck61x5QBNA1PC3KUYNBkBswRZswRYQQOfKA5J1rg1AvLu7u7t7AEDKL5b8YskHQL+fGi/dJAxAtmALtmCrEEAOdNpApw0RQNBpA5020BBArq2tra2tFkAnJycnJ6cRQICAgICAABRA397e3t7eDkCJiIiIiBASQImIiIiI+BVAc4Blmy8HE0CtG0yRz7oSQMCyzZcDrBFAascKhJH2E0CBMNKOFYgRQGJvVIoe9ghAhDqogzooEEDqkz7pkz4KQHWBTxf4dAVAHt/Y8Y0dC0AJNIVAUwgRQHM2Z3M2ZwdAD+dwDufwB0AZw20Yw20SQMIXbcIXbQxAB7JcB7JcEUA+27M92zMJQD2S5zyS5wxA6TIQqG/GEEDbRMmuTZQOQDPMmv03ww5A1x6Prm/tEEATp37PLXESQB7EdxDfQRBA5YrhS/FHEEBl0rBYEXYEQA==",
          "dtype": "f8"
         }
        },
        {
         "line": {
          "color": "#636EFA"
         },
         "mode": "lines+markers",
         "name": "G1",
         "type": "scatter",
         "visible": false,
         "x": [
          "2020-01",
          "2020-02",
          "2020-03",
          "2020-04",
          "2020-05",
          "2020-06",
          "2020-07",
          "2020-08",
          "2020-09",
          "2020-10",
          "2020-11",
          "2020-12",
          "2021-01",
          "2021-02",
          "2021-03",
          "2021-04",
          "2021-05",
          "2021-06",
          "2021-07",
          "2021-08",
          "2021-09",
          "2021-10",
          "2021-11",
          "2021-12",
          "2022-01",
          "2022-02",
          "2022-03",
          "2022-04",
          "2022-05",
          "2022-06",
          "2022-07",
          "2022-08",
          "2022-09",
          "2022-10",
          "2022-11",
          "2022-12",
          "2023-01",
          "2023-02",
          "2023-03",
          "2023-04",
          "2023-05",
          "2023-06",
          "2023-07",
          "2023-08",
          "2023-09",
          "2023-10",
          "2023-11",
          "2023-12",
          "2024-01",
          "2024-02",
          "2024-03",
          "2024-04",
          "2024-05",
          "2024-06",
          "2024-07",
          "2024-08",
          "2024-09",
          "2024-10",
          "2024-11",
          "2024-12",
          "2025-01",
          "2025-02",
          "2025-03",
          "2025-04",
          "2025-05",
          "2025-06",
          "2025-07",
          "2025-08"
         ],
         "y": {
          "bdata": "GfI9ptU2IcDLC6q8oModwM1iI8rHLCHACpzACZxYIMB2kmgnifYfwAu2YAu24CDABU7gBE7gHcAM4mkwK/wawNavFKj1Kx7AkhC8SevUH8DStWQEMoggwOU6kOU6kCHA5zxd6Z0BIcDujNF32RQgwFcZIUC8rCHAyUB6f66VI8DbMj0RDKIhwHoWsbhxXSHAUQsxf3wbHcCK4mOUZvUfwJ/0SZ/06R7AKH3SJ31yIMCamZmZmbEewNwpJ8YhhCDAXpHE9ypeEEAJ1aFuOwgLQDWhsGkWLw1AAE2m+c9kD0AS8l58dkQRQP7MRQxA3gtAalZw+EKKCkAiIiIiIuIOQB+F61G4ng9AcZATBzlxEEChexG6F6ESQJuUrUnZmhFA/G2KUcNfE0DH8OI8dIwUQNNNYhBYORRA1Z7OZGHEEEBfTTwrGgkWQAAAAAAAABNAd3d3d3dzEEAiIiIiIgITQEREREREUBJAzBBidrsMEEDv7u7u7tIQQHd3d3d3rw9AvLu7u7u7BkDjWdFIwHcQQPNmNW9W8wlAFidpcZIWD0DkkUceeeQNQH5c2MeFfQpAOvKBYqEjA0B+BPcR3EcEQOm0gU4b6AZAIRhND4LRA0A6Ep09H8QEQPMWQzpvMQVA5dAi2/l+BEDqPpTpPpQDQFdXV1dXVwtAgZVDi2znA0Cf9Emf9OkGQMHsdD5UGA9AeZCEigdJCEBVVVVVVVUEQA==",
          "dtype": "f8"
         }
        },
        {
         "line": {
          "color": "#EF553B"
         },
         "mode": "lines+markers",
         "name": "G2",
         "type": "scatter",
         "visible": false,
         "x": [
          "2020-01",
          "2020-02",
          "2020-03",
          "2020-04",
          "2020-05",
          "2020-06",
          "2020-07",
          "2020-08",
          "2020-09",
          "2020-10",
          "2020-11",
          "2020-12",
          "2021-01",
          "2021-02",
          "2021-03",
          "2021-04",
          "2021-05",
          "2021-06",
          "2021-07",
          "2021-08",
          "2021-09",
          "2021-10",
          "2021-11",
          "2021-12",
          "2022-01",
          "2022-02",
          "2022-03",
          "2022-04",
          "2022-05",
          "2022-06",
          "2022-07",
          "2022-08",
          "2022-09",
          "2022-10",
          "2022-11",
          "2022-12",
          "2023-01",
          "2023-02",
          "2023-03",
          "2023-04",
          "2023-05",
          "2023-06",
          "2023-07",
          "2023-08",
          "2023-09",
          "2023-10",
          "2023-11",
          "2023-12",
          "2024-01",
          "2024-02",
          "2024-03",
          "2024-04",
          "2024-05",
          "2024-06",
          "2024-07",
          "2024-08",
          "2024-09",
          "2024-10",
          "2024-11",
          "2024-12",
          "2025-01",
          "2025-02",
          "2025-03",
          "2025-04",
          "2025-05",
          "2025-06",
          "2025-07",
          "2025-08"
         ],
         "y": {
          "bdata": "u2/xP1uDJsAzMzMzMzMhwPtPpfpPJSXAcZIWJ2nxJMAlUzIlUzIjwEb6Y6Q/xiPAWjuRtRNZJcArp3IqpzIkwI7cyI3cyCTA45pNHT90I8Da0jBezA4iwOMqruIq7iPAEtxHcB+RIcDvmBrYO6YiwNxNajGjvyPA37jtjdteIsA8lCtKPTUiwNBpA5021CPA7bioE4WYI8CWA6Wm8WskwBczLk3ecSPA7cu+7Mt+IsCe3/md39kiwLu9OADV1SPAnFcTz4pGC0A+ncnCiBsNQAfAJQI1ow5A458mGTS+CkChLxNM2r0MQAOuWAOuWA9ACdwNpa38CkBdSJpScfYOQHQlG4lJmg1A5Y865Y86D0BUjRv/N8YLQPIWvc8irAtAQbXnZPoqD0CnNC/+RMILQCrpRjH78wpAa/jbFKPGB0AH5SFkWfMJQMxJBdptXwhA/s2CuLYlCED2/AonX88KQHBTjBr+dglAJsB2PR3rDECexBGs4EkPQHJJcLowngxAUzN8TV7dCUAm1J/buwQMQMcbl+WLOwpATVixebzSDUAyBaF/dBsNQKTbmILQPwxAus8uIDYVEUDv7u7u7i4SQImIiIiIiBFAvkbmNxqCEUBq9HpzVy4QQAcvrH6mIxBAhbwuUon7EEBXmeOB5ysQQEPekDfkDRJAujDyURchEEAD5XMsUD4SQDMzMzMzYxBAOe8RerJbEEDkAIIk0tgHQA==",
          "dtype": "f8"
         }
        },
        {
         "line": {
          "color": "#636EFA"
         },
         "mode": "lines+markers",
         "name": "G3",
         "type": "scatter",
         "visible": false,
         "x": [
          "2020-01",
          "2020-02",
          "2020-03",
          "2020-04",
          "2020-05",
          "2020-06",
          "2020-07",
          "2020-08",
          "2020-09",
          "2020-10",
          "2020-11",
          "2020-12",
          "2021-01",
          "2021-02",
          "2021-03",
          "2021-04",
          "2021-05",
          "2021-06",
          "2021-07",
          "2021-08",
          "2021-09",
          "2021-10",
          "2021-11",
          "2021-12",
          "2022-01",
          "2022-02",
          "2022-03",
          "2022-04",
          "2022-05",
          "2022-06",
          "2022-07",
          "2022-08",
          "2022-09",
          "2022-10",
          "2022-11",
          "2022-12",
          "2023-01",
          "2023-02",
          "2023-03",
          "2023-04",
          "2023-05",
          "2023-06",
          "2023-07",
          "2023-08",
          "2023-09",
          "2023-10",
          "2023-11",
          "2023-12",
          "2024-01",
          "2024-02",
          "2024-03",
          "2024-04",
          "2024-05",
          "2024-06",
          "2024-07",
          "2024-08",
          "2024-09",
          "2024-10",
          "2024-11",
          "2024-12",
          "2025-01",
          "2025-02",
          "2025-03",
          "2025-04",
          "2025-05",
          "2025-06",
          "2025-07",
          "2025-08"
         ],
         "y": {
          "bdata": "K1anYnUqHMC/xudrfP4ZwDtwzojS3h3AhQPj2lg4H8DPvDPvzDsdwMpCf50s9BvAD++VruNfIMAJCQkJCWkgwIG1eZlQfx/AAAvBIS1jIsACDs3n+uMewDNpj2FlOiHAsdcuP9L9HcDv1Ra5zoQcwNqe7dme7SDAbe86oBvzHsDuOFHs8cYewH6jIWjxEB/AXlL5MO5XGsAWCf7POk0XwDW9n89ByBnAaRp0xLHrGMCh2nMyfZUdwKA8Gt2MUx/A/ZS3VsxPDkCj98r8k5wLQJMxGZMxGRBALtIbr9UiEUBhncYODcoOQDO239ErYwxAqS8ECeyZCkB9X4ZSQq0NQJfXcnktlw1A9bwuSxKEDECzzZcDLJsNQNO+mhu9VwxAUQJLZNyWD0A9X8SkjmUMQGyWW2A9kxBABBSfM7VcEEDZhoDic6YRQAA/a73DYRJApDqqozpqEEAbBM1r7ZUTQHd3d3d39xBAXsODqzL+EEANj8vwuAwTQNsuse0S2w5ADAnkJ1YBEEATnYfJ7NsOQHW2VGdLdQ5AMpIN1jsBD0DESqzESuwNQOpPthyD6QtAs7SHoNBdD0A06nHOJLEQQP3Qa1ltQhBAXEDzVfZ6D0DD79amGRgNQPCBg3jFqgtAsrdTxfIEDUCF9BbSW0gJQBFF3K0KUQ5Ap0kGjX+aCkAaGhoaGhoMQKzW3CafQgpAT7fmh0XKDECLUcPfphgFQA==",
          "dtype": "f8"
         }
        },
        {
         "line": {
          "color": "#EF553B"
         },
         "mode": "lines+markers",
         "name": "G4",
         "type": "scatter",
         "visible": false,
         "x": [
          "2020-01",
          "2020-02",
          "2020-03",
          "2020-04",
          "2020-05",
          "2020-06",
          "2020-07",
          "2020-08",
          "2020-09",
          "2020-10",
          "2020-11",
          "2020-12",
          "2021-01",
          "2021-02",
          "2021-03",
          "2021-04",
          "2021-05",
          "2021-06",
          "2021-07",
          "2021-08",
          "2021-09",
          "2021-10",
          "2021-11",
          "2021-12",
          "2022-01",
          "2022-02",
          "2022-03",
          "2022-04",
          "2022-05",
          "2022-06",
          "2022-07",
          "2022-08",
          "2022-09",
          "2022-10",
          "2022-11",
          "2022-12",
          "2023-01",
          "2023-02",
          "2023-03",
          "2023-04",
          "2023-05",
          "2023-06",
          "2023-07",
          "2023-08",
          "2023-09",
          "2023-10",
          "2023-11",
          "2023-12",
          "2024-01",
          "2024-02",
          "2024-03",
          "2024-04",
          "2024-05",
          "2024-06",
          "2024-07",
          "2024-08",
          "2024-09",
          "2024-10",
          "2024-11",
          "2024-12",
          "2025-01",
          "2025-02",
          "2025-03",
          "2025-04",
          "2025-05",
          "2025-06",
          "2025-07",
          "2025-08"
         ],
         "y": {
          "bdata": "F1100UUXA8AJZ6kkLhv1v+/u7u7u7ua/wzmcwzmc67+0lkQxpe0AwE4dP3Q1rrk/N0IZvS1r7b+jt2Wtjgn4v6xjggfzRAfAy3Ugy3Ug87+ioaGhoaEBwGe8EWe8Ee+/wYvKUSYrBMAqA0+35ocBwJfQXkJ7CQfADMMwDMNwA8AP6qAO6uAJwHbrSmnE1QHAIYANl4vMEMCjgEPzuf4RwPf29vb2dg/Ana/ukVYmEMDcUrNhfxcPwA9vHTvTPhXAs1C/jJwnDEBq9IgKsg0HQO6n3RxJmwtALfnFkl9MBUBy8EfTbp8OQMuWhvFidgpA/WDRDxb9DkBvmuumuW4NQBTennIgGhJAkrcheRuSEEB02EiHjXQOQKHTBjptoBBAKrhwlIILDUAAs1kGMJsMQPz7+/v7+xJAoDnTbAagD0CkcD0K16MQQBf8rhGyNgxAsXm80oSVCUBCkI0siGoRQFD6pE/61AdAuY/gPoL7CEBPV3pnwEEKQHd3d3d3pwpAQ9Yk8nVSEEABbh9SzvEJQMKMfQs0ZA1AFu691P/CDkBRqcKAkpcQQDPBYkxbUQtAzSV3kbBJDkA3VDAdNZcQQPnzpcXAcgpAX/nnSAjeDEAiW4oVDhMNQKQi2TFLCQ9AYZ6ofyPUEUBUeF5MWeINQPyp8dJNYg5ANheSplQcDUDt1arnrw0QQE/LzXZbGAtAjNc/bxBOD0D0Tl3Lwc0GQA==",
          "dtype": "f8"
         }
        },
        {
         "line": {
          "color": "#636EFA"
         },
         "mode": "lines+markers",
         "name": "G5",
         "type": "scatter",
         "visible": false,
         "x": [
          "2020-01",
          "2020-02",
          "2020-03",
          "2020-04",
          "2020-05",
          "2020-06",
          "2020-07",
          "2020-08",
          "2020-09",
          "2020-10",
          "2020-11",
          "2020-12",
          "2021-01",
          "2021-02",
          "2021-03",
          "2021-04",
          "2021-05",
          "2021-06",
          "2021-07",
          "2021-08",
          "2021-09",
          "2021-10",
          "2021-11",
          "2021-12",
          "2022-01",
          "2022-02",
          "2022-03",
          "2022-04",
          "2022-05",
          "2022-06",
          "2022-07",
          "2022-08",
          "2022-09",
          "2022-10",
          "2022-11",
          "2022-12",
          "2023-01",
          "2023-02",
          "2023-03",
          "2023-04",
          "2023-05",
          "2023-06",
          "2023-07",
          "2023-08",
          "2023-09",
          "2023-10",
          "2023-11",
          "2023-12",
          "2024-01",
          "2024-02",
          "2024-03",
          "2024-04",
          "2024-05",
          "2024-06",
          "2024-07",
          "2024-08",
          "2024-09",
          "2024-10",
          "2024-11",
          "2024-12",
          "2025-01",
          "2025-02",
          "2025-03",
          "2025-04",
          "2025-05",
          "2025-06",
          "2025-07",
          "2025-08"
         ],
         "y": {
          "bdata": "IiIiIiLiGEAAAAAAAAAYQGAs+cWSXxpAQacNdNpACUDGkl8s+cUQQFK4HoXrUQpAAAAAAAAADEALtmALtuAQQFVVVVVV1QlAlD7pkz6pFEBswRZswRYRQLAFW7AFmxJA7Ovr6+vr9z9Ass6VByQCQPRJn/RJnxFAPSBZ58qDF0CLUcPfphgPQAwMDAwMDBBAiYiIiIiIGEBVVVVVVZUaQM3MzMzMrApAiYiIiIioEUC9mnhWNBIQQPYHGSo7TBFAhetRuB6FBUAzMzMzM1MEQKuqqqqqKhRAmpmZmZm5A0C8u7u7u1sNQKuqqqqqSg1AjQHTGDCNA0AsTVixebwKQBM/o8TPKBBAcSsUt0JxFECamZmZmZkTQKc3velNbxNABreTZ3A7GEAraPWlglYTQOtLBa2+VBdA6bzFkM5bEUCC6hm7eP0UQEBvEM5SSRlAZmZmZmZeFUBVVVVVVeURQFRz79+hqRJAQZ4S5ClBFUBZ+4a1b1gRQHErFLdCcQtAVVVVVVXVC0AREREREZEKQFYG/4k5MgVAPB5KCOsWC0DcLDSp+QAQQJJ1rjwg2QZAo5GAb15NCEBUgjwlyNMTQB988MEHnw1AJchTgjzlEkCrqqqqqqoKQF9H6nWk3gxAAgICAgICEkBScfbhM+wNQMTymXpgdQ9A0hqt0RqtEEDPMa8XxNMSQJSJK90bUBFAjcd4jMd4D0De3d3d3f0CQA==",
          "dtype": "f8"
         }
        },
        {
         "line": {
          "color": "#EF553B"
         },
         "mode": "lines+markers",
         "name": "G6",
         "type": "scatter",
         "visible": false,
         "x": [
          "2020-01",
          "2020-02",
          "2020-03",
          "2020-04",
          "2020-05",
          "2020-06",
          "2020-07",
          "2020-08",
          "2020-09",
          "2020-10",
          "2020-11",
          "2020-12",
          "2021-07",
          "2021-08",
          "2021-09",
          "2021-10",
          "2021-11",
          "2021-12",
          "2022-01",
          "2022-02",
          "2022-03",
          "2022-04",
          "2022-05",
          "2022-06",
          "2022-07",
          "2022-08",
          "2022-09",
          "2022-10",
          "2022-11",
          "2022-12",
          "2023-01",
          "2023-02",
          "2023-03",
          "2023-04",
          "2023-05",
          "2023-06",
          "2023-07",
          "2023-08",
          "2023-09",
          "2023-10",
          "2023-11",
          "2023-12",
          "2024-01",
          "2024-02",
          "2024-03",
          "2024-04",
          "2024-05",
          "2024-06",
          "2024-07",
          "2024-08",
          "2024-09",
          "2024-10",
          "2024-11",
          "2024-12",
          "2025-01",
          "2025-02",
          "2025-03",
          "2025-04",
          "2025-05",
          "2025-06",
          "2025-07",
          "2025-08"
         ],
         "y": {
          "bdata": "mpmZmZkZIMBVVVVVVVUbwDMzMzMzMyDAiYiIiIgIKMBmZmZmZuYnwJqZmZmZmSXARERERETEJsAAAAAAAIAkwLy7u7u7uybAERERERERKcCamZmZmRkjwO/u7u7u7hfAIiIiIiIiGkC8u7u7uzsgQDMzMzMzMyJAd3d3d3d3EkB3d3d3d3cgQN7d3d3d3RRAZmZmZmZmFEDv7u7u7u4XQN7d3d3d3QdAVVVVVVVVFEDe3d3d3V0bQGZmZmZmZhBAREREREREAcBERERERET0v97d3d3d3QPAVVVVVVXVGMB3d3d3d3cIwKuqqqqqqgrAVVVVVVVVC0CF61G4HoX/PzCW/GLJL8Y/H4XrUbge8T8iIiIiIiLiP0RERERERPA/2YIt2IIt+j8REREREREYQERERERERAZA4XoUrkfhBkDC9Shcj8ISQC35xZJfLPE/mpmZmZmZHUD7pE/6pE8IQKVP+qRP+gZAREREREREC0CJiIiIiAgXQLy7u7u7uwpA53me53meBUBstEZrtEYDQKEO6qAO6gRAUy7lUi7l/j9MuZRLuZT/P/uxH/uxHw1AVVVVVVXVAUB3d3d3d1cRQAAAAAAAgApAd3d3d3d3EkBVVVVVVRUQQFVVVVVVlQNAYid2Yid2EkAyHuMxHuMJQA==",
          "dtype": "f8"
         }
        }
       ],
       "layout": {
        "annotations": [
         {
          "align": "left",
          "showarrow": false,
          "text": "직위/직급 선택:",
          "x": 0,
          "y": 1.08,
          "yref": "paper"
         }
        ],
        "font": {
         "size": 14
        },
        "height": 700,
        "legend": {
         "title": {
          "text": "직위/직급"
         }
        },
        "template": {
         "data": {
          "bar": [
           {
            "error_x": {
             "color": "#2a3f5f"
            },
            "error_y": {
             "color": "#2a3f5f"
            },
            "marker": {
             "line": {
              "color": "#E5ECF6",
              "width": 0.5
             },
             "pattern": {
              "fillmode": "overlay",
              "size": 10,
              "solidity": 0.2
             }
            },
            "type": "bar"
           }
          ],
          "barpolar": [
           {
            "marker": {
             "line": {
              "color": "#E5ECF6",
              "width": 0.5
             },
             "pattern": {
              "fillmode": "overlay",
              "size": 10,
              "solidity": 0.2
             }
            },
            "type": "barpolar"
           }
          ],
          "carpet": [
           {
            "aaxis": {
             "endlinecolor": "#2a3f5f",
             "gridcolor": "white",
             "linecolor": "white",
             "minorgridcolor": "white",
             "startlinecolor": "#2a3f5f"
            },
            "baxis": {
             "endlinecolor": "#2a3f5f",
             "gridcolor": "white",
             "linecolor": "white",
             "minorgridcolor": "white",
             "startlinecolor": "#2a3f5f"
            },
            "type": "carpet"
           }
          ],
          "choropleth": [
           {
            "colorbar": {
             "outlinewidth": 0,
             "ticks": ""
            },
            "type": "choropleth"
           }
          ],
          "contour": [
           {
            "colorbar": {
             "outlinewidth": 0,
             "ticks": ""
            },
            "colorscale": [
             [
              0,
              "#0d0887"
             ],
             [
              0.1111111111111111,
              "#46039f"
             ],
             [
              0.2222222222222222,
              "#7201a8"
             ],
             [
              0.3333333333333333,
              "#9c179e"
             ],
             [
              0.4444444444444444,
              "#bd3786"
             ],
             [
              0.5555555555555556,
              "#d8576b"
             ],
             [
              0.6666666666666666,
              "#ed7953"
             ],
             [
              0.7777777777777778,
              "#fb9f3a"
             ],
             [
              0.8888888888888888,
              "#fdca26"
             ],
             [
              1,
              "#f0f921"
             ]
            ],
            "type": "contour"
           }
          ],
          "contourcarpet": [
           {
            "colorbar": {
             "outlinewidth": 0,
             "ticks": ""
            },
            "type": "contourcarpet"
           }
          ],
          "heatmap": [
           {
            "colorbar": {
             "outlinewidth": 0,
             "ticks": ""
            },
            "colorscale": [
             [
              0,
              "#0d0887"
             ],
             [
              0.1111111111111111,
              "#46039f"
             ],
             [
              0.2222222222222222,
              "#7201a8"
             ],
             [
              0.3333333333333333,
              "#9c179e"
             ],
             [
              0.4444444444444444,
              "#bd3786"
             ],
             [
              0.5555555555555556,
              "#d8576b"
             ],
             [
              0.6666666666666666,
              "#ed7953"
             ],
             [
              0.7777777777777778,
              "#fb9f3a"
             ],
             [
              0.8888888888888888,
              "#fdca26"
             ],
             [
              1,
              "#f0f921"
             ]
            ],
            "type": "heatmap"
           }
          ],
          "histogram": [
           {
            "marker": {
             "pattern": {
              "fillmode": "overlay",
              "size": 10,
              "solidity": 0.2
             }
            },
            "type": "histogram"
           }
          ],
          "histogram2d": [
           {
            "colorbar": {
             "outlinewidth": 0,
             "ticks": ""
            },
            "colorscale": [
             [
              0,
              "#0d0887"
             ],
             [
              0.1111111111111111,
              "#46039f"
             ],
             [
              0.2222222222222222,
              "#7201a8"
             ],
             [
              0.3333333333333333,
              "#9c179e"
             ],
             [
              0.4444444444444444,
              "#bd3786"
             ],
             [
              0.5555555555555556,
              "#d8576b"
             ],
             [
              0.6666666666666666,
              "#ed7953"
             ],
             [
              0.7777777777777778,
              "#fb9f3a"
             ],
             [
              0.8888888888888888,
              "#fdca26"
             ],
             [
              1,
              "#f0f921"
             ]
            ],
            "type": "histogram2d"
           }
          ],
          "histogram2dcontour": [
           {
            "colorbar": {
             "outlinewidth": 0,
             "ticks": ""
            },
            "colorscale": [
             [
              0,
              "#0d0887"
             ],
             [
              0.1111111111111111,
              "#46039f"
             ],
             [
              0.2222222222222222,
              "#7201a8"
             ],
             [
              0.3333333333333333,
              "#9c179e"
             ],
             [
              0.4444444444444444,
              "#bd3786"
             ],
             [
              0.5555555555555556,
              "#d8576b"
             ],
             [
              0.6666666666666666,
              "#ed7953"
             ],
             [
              0.7777777777777778,
              "#fb9f3a"
             ],
             [
              0.8888888888888888,
              "#fdca26"
             ],
             [
              1,
              "#f0f921"
             ]
            ],
            "type": "histogram2dcontour"
           }
          ],
          "mesh3d": [
           {
            "colorbar": {
             "outlinewidth": 0,
             "ticks": ""
            },
            "type": "mesh3d"
           }
          ],
          "parcoords": [
           {
            "line": {
             "colorbar": {
              "outlinewidth": 0,
              "ticks": ""
             }
            },
            "type": "parcoords"
           }
          ],
          "pie": [
           {
            "automargin": true,
            "type": "pie"
           }
          ],
          "scatter": [
           {
            "fillpattern": {
             "fillmode": "overlay",
             "size": 10,
             "solidity": 0.2
            },
            "type": "scatter"
           }
          ],
          "scatter3d": [
           {
            "line": {
             "colorbar": {
              "outlinewidth": 0,
              "ticks": ""
             }
            },
            "marker": {
             "colorbar": {
              "outlinewidth": 0,
              "ticks": ""
             }
            },
            "type": "scatter3d"
           }
          ],
          "scattercarpet": [
           {
            "marker": {
             "colorbar": {
              "outlinewidth": 0,
              "ticks": ""
             }
            },
            "type": "scattercarpet"
           }
          ],
          "scattergeo": [
           {
            "marker": {
             "colorbar": {
              "outlinewidth": 0,
              "ticks": ""
             }
            },
            "type": "scattergeo"
           }
          ],
          "scattergl": [
           {
            "marker": {
             "colorbar": {
              "outlinewidth": 0,
              "ticks": ""
             }
            },
            "type": "scattergl"
           }
          ],
          "scattermap": [
           {
            "marker": {
             "colorbar": {
              "outlinewidth": 0,
              "ticks": ""
             }
            },
            "type": "scattermap"
           }
          ],
          "scattermapbox": [
           {
            "marker": {
             "colorbar": {
              "outlinewidth": 0,
              "ticks": ""
             }
            },
            "type": "scattermapbox"
           }
          ],
          "scatterpolar": [
           {
            "marker": {
             "colorbar": {
              "outlinewidth": 0,
              "ticks": ""
             }
            },
            "type": "scatterpolar"
           }
          ],
          "scatterpolargl": [
           {
            "marker": {
             "colorbar": {
              "outlinewidth": 0,
              "ticks": ""
             }
            },
            "type": "scatterpolargl"
           }
          ],
          "scatterternary": [
           {
            "marker": {
             "colorbar": {
              "outlinewidth": 0,
              "ticks": ""
             }
            },
            "type": "scatterternary"
           }
          ],
          "surface": [
           {
            "colorbar": {
             "outlinewidth": 0,
             "ticks": ""
            },
            "colorscale": [
             [
              0,
              "#0d0887"
             ],
             [
              0.1111111111111111,
              "#46039f"
             ],
             [
              0.2222222222222222,
              "#7201a8"
             ],
             [
              0.3333333333333333,
              "#9c179e"
             ],
             [
              0.4444444444444444,
              "#bd3786"
             ],
             [
              0.5555555555555556,
              "#d8576b"
             ],
             [
              0.6666666666666666,
              "#ed7953"
             ],
             [
              0.7777777777777778,
              "#fb9f3a"
             ],
             [
              0.8888888888888888,
              "#fdca26"
             ],
             [
              1,
              "#f0f921"
             ]
            ],
            "type": "surface"
           }
          ],
          "table": [
           {
            "cells": {
             "fill": {
              "color": "#EBF0F8"
             },
             "line": {
              "color": "white"
             }
            },
            "header": {
             "fill": {
              "color": "#C8D4E3"
             },
             "line": {
              "color": "white"
             }
            },
            "type": "table"
           }
          ]
         },
         "layout": {
          "annotationdefaults": {
           "arrowcolor": "#2a3f5f",
           "arrowhead": 0,
           "arrowwidth": 1
          },
          "autotypenumbers": "strict",
          "coloraxis": {
           "colorbar": {
            "outlinewidth": 0,
            "ticks": ""
           }
          },
          "colorscale": {
           "diverging": [
            [
             0,
             "#8e0152"
            ],
            [
             0.1,
             "#c51b7d"
            ],
            [
             0.2,
             "#de77ae"
            ],
            [
             0.3,
             "#f1b6da"
            ],
            [
             0.4,
             "#fde0ef"
            ],
            [
             0.5,
             "#f7f7f7"
            ],
            [
             0.6,
             "#e6f5d0"
            ],
            [
             0.7,
             "#b8e186"
            ],
            [
             0.8,
             "#7fbc41"
            ],
            [
             0.9,
             "#4d9221"
            ],
            [
             1,
             "#276419"
            ]
           ],
           "sequential": [
            [
             0,
             "#0d0887"
            ],
            [
             0.1111111111111111,
             "#46039f"
            ],
            [
             0.2222222222222222,
             "#7201a8"
            ],
            [
             0.3333333333333333,
             "#9c179e"
            ],
            [
             0.4444444444444444,
             "#bd3786"
            ],
            [
             0.5555555555555556,
             "#d8576b"
            ],
            [
             0.6666666666666666,
             "#ed7953"
            ],
            [
             0.7777777777777778,
             "#fb9f3a"
            ],
            [
             0.8888888888888888,
             "#fdca26"
            ],
            [
             1,
             "#f0f921"
            ]
           ],
           "sequentialminus": [
            [
             0,
             "#0d0887"
            ],
            [
             0.1111111111111111,
             "#46039f"
            ],
            [
             0.2222222222222222,
             "#7201a8"
            ],
            [
             0.3333333333333333,
             "#9c179e"
            ],
            [
             0.4444444444444444,
             "#bd3786"
            ],
            [
             0.5555555555555556,
             "#d8576b"
            ],
            [
             0.6666666666666666,
             "#ed7953"
            ],
            [
             0.7777777777777778,
             "#fb9f3a"
            ],
            [
             0.8888888888888888,
             "#fdca26"
            ],
            [
             1,
             "#f0f921"
            ]
           ]
          },
          "colorway": [
           "#636efa",
           "#EF553B",
           "#00cc96",
           "#ab63fa",
           "#FFA15A",
           "#19d3f3",
           "#FF6692",
           "#B6E880",
           "#FF97FF",
           "#FECB52"
          ],
          "font": {
           "color": "#2a3f5f"
          },
          "geo": {
           "bgcolor": "white",
           "lakecolor": "white",
           "landcolor": "#E5ECF6",
           "showlakes": true,
           "showland": true,
           "subunitcolor": "white"
          },
          "hoverlabel": {
           "align": "left"
          },
          "hovermode": "closest",
          "mapbox": {
           "style": "light"
          },
          "paper_bgcolor": "white",
          "plot_bgcolor": "#E5ECF6",
          "polar": {
           "angularaxis": {
            "gridcolor": "white",
            "linecolor": "white",
            "ticks": ""
           },
           "bgcolor": "#E5ECF6",
           "radialaxis": {
            "gridcolor": "white",
            "linecolor": "white",
            "ticks": ""
           }
          },
          "scene": {
           "xaxis": {
            "backgroundcolor": "#E5ECF6",
            "gridcolor": "white",
            "gridwidth": 2,
            "linecolor": "white",
            "showbackground": true,
            "ticks": "",
            "zerolinecolor": "white"
           },
           "yaxis": {
            "backgroundcolor": "#E5ECF6",
            "gridcolor": "white",
            "gridwidth": 2,
            "linecolor": "white",
            "showbackground": true,
            "ticks": "",
            "zerolinecolor": "white"
           },
           "zaxis": {
            "backgroundcolor": "#E5ECF6",
            "gridcolor": "white",
            "gridwidth": 2,
            "linecolor": "white",
            "showbackground": true,
            "ticks": "",
            "zerolinecolor": "white"
           }
          },
          "shapedefaults": {
           "line": {
            "color": "#2a3f5f"
           }
          },
          "ternary": {
           "aaxis": {
            "gridcolor": "white",
            "linecolor": "white",
            "ticks": ""
           },
           "baxis": {
            "gridcolor": "white",
            "linecolor": "white",
            "ticks": ""
           },
           "bgcolor": "#E5ECF6",
           "caxis": {
            "gridcolor": "white",
            "linecolor": "white",
            "ticks": ""
           }
          },
          "title": {
           "x": 0.05
          },
          "xaxis": {
           "automargin": true,
           "gridcolor": "white",
           "linecolor": "white",
           "ticks": "",
           "title": {
            "standoff": 15
           },
           "zerolinecolor": "white",
           "zerolinewidth": 2
          },
          "yaxis": {
           "automargin": true,
           "gridcolor": "white",
           "linecolor": "white",
           "ticks": "",
           "title": {
            "standoff": 15
           },
           "zerolinecolor": "white",
           "zerolinewidth": 2
          }
         }
        },
        "title": {
         "text": "직위/직급별 월 평균 1인당 초과근무 시간 드릴다운 분석"
        },
        "updatemenus": [
         {
          "active": 0,
          "buttons": [
           {
            "args": [
             {
              "visible": [
               true,
               true,
               true,
               false,
               false,
               false,
               false,
               false,
               false
              ]
             },
             {
              "title": "전체 직위별 월 평균 초과근무 시간 추이"
             }
            ],
            "label": "전체",
            "method": "update"
           },
           {
            "args": [
             {
              "visible": [
               false,
               false,
               false,
               true,
               true,
               false,
               false,
               false,
               false
              ]
             },
             {
              "title": "Staff 내 직급별 월 평균 초과근무 시간 추이"
             }
            ],
            "label": "Staff",
            "method": "update"
           },
           {
            "args": [
             {
              "visible": [
               false,
               false,
               false,
               false,
               false,
               true,
               true,
               false,
               false
              ]
             },
             {
              "title": "Manager 내 직급별 월 평균 초과근무 시간 추이"
             }
            ],
            "label": "Manager",
            "method": "update"
           },
           {
            "args": [
             {
              "visible": [
               false,
               false,
               false,
               false,
               false,
               false,
               false,
               true,
               true
              ]
             },
             {
              "title": "Director 내 직급별 월 평균 초과근무 시간 추이"
             }
            ],
            "label": "Director",
            "method": "update"
           }
          ],
          "direction": "down",
          "pad": {
           "r": 10,
           "t": 10
          },
          "showactive": true,
          "x": 0.01,
          "xanchor": "left",
          "y": 1.1,
          "yanchor": "top"
         }
        ],
        "xaxis": {
         "range": [
          "2019-12",
          "2026-01"
         ],
         "title": {
          "text": "월(YYYY-MM)"
         }
        },
        "yaxis": {
         "range": [
          -15.535,
          20.485
         ],
         "title": {
          "text": "1인당 평균 초과근무 (시간)"
         }
        }
       }
      }
     },
     "metadata": {},
     "output_type": "display_data"
    }
   ],
   "source": [
    "import pandas as pd\n",
    "import numpy as np\n",
    "import plotly.graph_objects as go\n",
    "import plotly.io as pio\n",
    "import plotly.express as px\n",
    "import datetime\n",
    "\n",
    "# --- 1. 데이터 임포트 ---\n",
    "from services.tables.Time_Attendance.daily_working_info_table import daily_work_info_df\n",
    "from services.tables.HR_Core.position_info_table import position_info_df\n",
    "from services.tables.HR_Core.position_table import position_df, position_order, grade_order\n",
    "\n",
    "def create_figure():\n",
    "    \"\"\"\n",
    "    제안 13-3: 직위별 워라밸 변화 추이 그래프를 생성합니다.\n",
    "    \"\"\"\n",
    "    # --- 2. 데이터 준비 및 가공 ---\n",
    "    daily_work_df = daily_work_info_df.copy()\n",
    "    daily_work_df['DATE'] = pd.to_datetime(daily_work_df['DATE'])\n",
    "    daily_work_df['PAY_PERIOD'] = daily_work_df['DATE'].dt.strftime('%Y-%m')\n",
    "\n",
    "    # 날짜별 직위/직급 정보 추가\n",
    "    pos_info_with_name = pd.merge(position_info_df, position_df[['POSITION_ID', 'POSITION_NAME']].drop_duplicates(), on='POSITION_ID')\n",
    "    pos_info_sorted = pos_info_with_name.sort_values('GRADE_START_DATE')\n",
    "    analysis_df = daily_work_df.sort_values('DATE')\n",
    "    analysis_df = pd.merge_asof(\n",
    "        analysis_df, pos_info_sorted[['EMP_ID', 'GRADE_START_DATE', 'POSITION_NAME', 'GRADE_ID']],\n",
    "        left_on='DATE', right_on='GRADE_START_DATE', by='EMP_ID', direction='backward'\n",
    "    )\n",
    "    analysis_df = analysis_df.dropna(subset=['POSITION_NAME', 'GRADE_ID'])\n",
    "\n",
    "    # --- 3. 계층별 데이터 집계 ---\n",
    "    pos_monthly_summary = analysis_df.groupby(['POSITION_NAME', 'PAY_PERIOD'], observed=False).agg(\n",
    "        TOTAL_OVERTIME_MINUTES=('OVERTIME_MINUTES', 'sum'), HEADCOUNT=('EMP_ID', 'nunique')\n",
    "    ).reset_index()\n",
    "    pos_monthly_summary['AVG_OVERTIME_PER_PERSON'] = (pos_monthly_summary['TOTAL_OVERTIME_MINUTES'] / pos_monthly_summary['HEADCOUNT']) / 60\n",
    "\n",
    "    grade_monthly_summary = analysis_df.groupby(['POSITION_NAME', 'GRADE_ID', 'PAY_PERIOD'], observed=False).agg(\n",
    "        TOTAL_OVERTIME_MINUTES=('OVERTIME_MINUTES', 'sum'), HEADCOUNT=('EMP_ID', 'nunique')\n",
    "    ).reset_index()\n",
    "    grade_monthly_summary['AVG_OVERTIME_PER_PERSON'] = (grade_monthly_summary['TOTAL_OVERTIME_MINUTES'] / grade_monthly_summary['HEADCOUNT']) / 60\n",
    "    \n",
    "    all_overtime_values = pd.concat([pos_monthly_summary['AVG_OVERTIME_PER_PERSON'], grade_monthly_summary['AVG_OVERTIME_PER_PERSON']])\n",
    "    y_min, y_max = (all_overtime_values.min(), all_overtime_values.max()) if not all_overtime_values.empty else (0, 0)\n",
    "    y_padding = (y_max - y_min) * 0.1 if (y_max - y_min) > 0 else 10\n",
    "    fixed_y_range = [y_min - y_padding, y_max + y_padding]\n",
    "\n",
    "    # --- 4. Plotly 인터랙티브 그래프 생성 ---\n",
    "    fig = go.Figure()\n",
    "    colors = px.colors.qualitative.Plotly\n",
    "    position_filter_list = [p for p in position_order if p != 'C-Level']\n",
    "    \n",
    "    for i, pos_name in enumerate(position_filter_list):\n",
    "        df_filtered = pos_monthly_summary[pos_monthly_summary['POSITION_NAME'] == pos_name]\n",
    "        if not df_filtered.empty:\n",
    "            fig.add_trace(go.Scatter(x=df_filtered['PAY_PERIOD'], y=df_filtered['AVG_OVERTIME_PER_PERSON'], mode='lines+markers', name=pos_name, line=dict(color=colors[i])))\n",
    "\n",
    "    grade_traces_map = {}\n",
    "    trace_idx_counter = len(fig.data)\n",
    "    for pos_name in position_filter_list:\n",
    "        grade_df = grade_monthly_summary[grade_monthly_summary['POSITION_NAME'] == pos_name]\n",
    "        grades_in_pos = [g for g in grade_order if g in grade_df['GRADE_ID'].unique()]\n",
    "        grade_traces_map[pos_name] = []\n",
    "        for j, grade_id in enumerate(grades_in_pos):\n",
    "            df_filtered = grade_df[grade_df['GRADE_ID'] == grade_id]\n",
    "            if not df_filtered.empty:\n",
    "                fig.add_trace(go.Scatter(x=df_filtered['PAY_PERIOD'], y=df_filtered['AVG_OVERTIME_PER_PERSON'], mode='lines+markers', name=grade_id, visible=False, line=dict(color=colors[j % len(colors)])))\n",
    "                grade_traces_map[pos_name].append(trace_idx_counter)\n",
    "                trace_idx_counter += 1\n",
    "    \n",
    "    buttons = []\n",
    "    buttons.append(dict(label='전체', method='update', args=[\n",
    "        {'visible': [True]*len(position_filter_list) + [False]*(len(fig.data)-len(position_filter_list))},\n",
    "        {'title': '전체 직위별 월 평균 초과근무 시간 추이'}\n",
    "    ]))\n",
    "    for pos_name in position_filter_list:\n",
    "        visibility_mask = [False] * len(fig.data)\n",
    "        for trace_idx in grade_traces_map.get(pos_name, []):\n",
    "            visibility_mask[trace_idx] = True\n",
    "        buttons.append(dict(label=f'{pos_name}', method='update', args=[\n",
    "            {'visible': visibility_mask},\n",
    "            {'title': f'{pos_name} 내 직급별 월 평균 초과근무 시간 추이'}\n",
    "        ]))\n",
    "\n",
    "    fig.update_layout(\n",
    "        updatemenus=[dict(active=0, buttons=buttons, direction=\"down\", pad={\"r\": 10, \"t\": 10}, showactive=True, x=0.01, xanchor=\"left\", y=1.1, yanchor=\"top\")],\n",
    "        title_text='직위/직급별 월 평균 1인당 초과근무 시간 드릴다운 분석',\n",
    "        xaxis_title='월(YYYY-MM)', yaxis_title='1인당 평균 초과근무 (시간)',\n",
    "        font_size=14, height=700,\n",
    "        legend_title_text='직위/직급',\n",
    "        annotations=[dict(text=\"직위/직급 선택:\", showarrow=False, x=0, y=1.08, yref=\"paper\", align=\"left\")],\n",
    "        xaxis_range=['2019-12', '2026-01'],\n",
    "        yaxis_range=fixed_y_range\n",
    "    )\n",
    "    \n",
    "    return fig\n",
    "\n",
    "# 이 파일을 직접 실행할 경우 그래프를 생성하여 보여줍니다.\n",
    "pio.renderers.default = 'vscode'\n",
    "fig = create_figure()\n",
    "fig.show()"
   ]
  },
  {
   "cell_type": "code",
   "execution_count": null,
   "id": "b472fa1f",
   "metadata": {},
   "outputs": [],
   "source": []
  }
 ],
 "metadata": {
  "kernelspec": {
   "display_name": "Python 3 (ipykernel)",
   "language": "python",
   "name": "python3"
  },
  "language_info": {
   "codemirror_mode": {
    "name": "ipython",
    "version": 3
   },
   "file_extension": ".py",
   "mimetype": "text/x-python",
   "name": "python",
   "nbconvert_exporter": "python",
   "pygments_lexer": "ipython3",
   "version": "3.12.11"
  }
 },
 "nbformat": 4,
 "nbformat_minor": 5
}
