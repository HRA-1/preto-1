{
 "cells": [
  {
   "cell_type": "code",
   "execution_count": 2,
   "id": "fad5517f",
   "metadata": {},
   "outputs": [
    {
     "data": {
      "application/vnd.plotly.v1+json": {
       "config": {
        "plotlyServerURL": "https://plot.ly"
       },
       "data": [
        {
         "box": {
          "visible": true
         },
         "meanline": {
          "visible": true
         },
         "name": "전체",
         "type": "violin",
         "visible": true,
         "x": [
          "Staff",
          "Staff",
          "Staff",
          "Staff",
          "Staff",
          "Staff",
          "Staff",
          "Staff",
          "Staff",
          "Staff",
          "Staff",
          "Staff",
          "Staff",
          "Staff",
          "Staff",
          "Staff",
          "Staff",
          "Staff",
          "Staff",
          "Staff",
          "Staff",
          "Staff",
          "Staff",
          "Staff",
          "Staff",
          "Staff",
          "Staff",
          "Staff",
          "Staff",
          "Staff",
          "Staff",
          "Staff",
          "Staff",
          "Staff",
          "Staff",
          "Staff",
          "Staff",
          "Staff",
          "Staff",
          "Staff",
          "Staff",
          "Staff",
          "Staff",
          "Staff",
          "Staff",
          "Staff",
          "Staff",
          "Staff",
          "Staff",
          "Staff",
          "Staff",
          "Staff",
          "Staff",
          "Staff",
          "Staff",
          "Staff",
          "Staff",
          "Staff",
          "Staff",
          "Staff",
          "Staff",
          "Staff",
          "Staff",
          "Staff",
          "Staff",
          "Staff",
          "Staff",
          "Staff",
          "Staff",
          "Staff",
          "Staff",
          "Staff",
          "Staff",
          "Staff",
          "Staff",
          "Staff",
          "Staff",
          "Staff",
          "Staff",
          "Staff",
          "Staff",
          "Staff",
          "Staff",
          "Staff",
          "Staff",
          "Staff",
          "Staff",
          "Staff",
          "Staff",
          "Staff",
          "Staff",
          "Staff",
          "Staff",
          "Staff",
          "Staff",
          "Staff",
          "Staff",
          "Staff",
          "Staff",
          "Staff",
          "Staff",
          "Staff",
          "Staff",
          "Staff",
          "Staff",
          "Staff",
          "Staff",
          "Staff",
          "Staff",
          "Staff",
          "Staff",
          "Staff",
          "Staff",
          "Staff",
          "Staff",
          "Staff",
          "Staff",
          "Staff",
          "Staff",
          "Staff",
          "Staff",
          "Staff",
          "Staff",
          "Staff",
          "Staff",
          "Staff",
          "Staff",
          "Staff",
          "Staff",
          "Staff",
          "Staff",
          "Staff",
          "Staff",
          "Staff",
          "Staff",
          "Staff",
          "Staff",
          "Staff",
          "Staff",
          "Staff",
          "Staff",
          "Staff",
          "Staff",
          "Staff",
          "Staff",
          "Staff",
          "Staff",
          "Staff",
          "Staff",
          "Staff",
          "Staff",
          "Staff",
          "Staff",
          "Staff",
          "Staff",
          "Staff",
          "Staff",
          "Staff",
          "Staff",
          "Staff",
          "Staff",
          "Staff",
          "Manager",
          "Manager",
          "Manager",
          "Manager",
          "Manager",
          "Manager",
          "Manager",
          "Manager",
          "Manager",
          "Manager",
          "Manager",
          "Manager",
          "Manager",
          "Manager",
          "Manager",
          "Manager",
          "Manager",
          "Manager",
          "Manager",
          "Manager",
          "Manager",
          "Manager",
          "Manager",
          "Manager",
          "Manager",
          "Manager",
          "Manager",
          "Manager",
          "Manager",
          "Manager",
          "Manager",
          "Manager",
          "Manager",
          "Manager",
          "Manager",
          "Manager",
          "Manager",
          "Manager",
          "Manager",
          "Manager",
          "Manager",
          "Manager",
          "Manager",
          "Manager",
          "Manager",
          "Manager",
          "Manager",
          "Manager",
          "Manager",
          "Manager",
          "Manager",
          "Manager",
          "Manager",
          "Manager",
          "Manager",
          "Manager",
          "Manager",
          "Manager",
          "Manager",
          "Manager",
          "Manager",
          "Manager",
          "Manager",
          "Manager",
          "Manager",
          "Manager",
          "Manager",
          "Manager",
          "Manager",
          "Manager",
          "Manager",
          "Manager",
          "Manager",
          "Manager",
          "Manager",
          "Manager",
          "Manager",
          "Manager",
          "Manager",
          "Manager",
          "Manager",
          "Manager",
          "Manager",
          "Manager",
          "Manager",
          "Manager",
          "Manager",
          "Manager",
          "Manager",
          "Manager",
          "Manager",
          "Manager",
          "Manager",
          "Manager",
          "Manager",
          "Manager",
          "Manager",
          "Manager",
          "Manager",
          "Manager",
          "Manager",
          "Manager",
          "Manager",
          "Manager",
          "Manager",
          "Manager",
          "Manager",
          "Manager",
          "Manager",
          "Manager",
          "Manager",
          "Manager",
          "Manager",
          "Manager",
          "Manager",
          "Manager",
          "Manager",
          "Manager",
          "Manager",
          "Manager",
          "Manager",
          "Manager",
          "Manager",
          "Manager",
          "Manager",
          "Manager",
          "Manager",
          "Manager",
          "Manager",
          "Manager",
          "Manager",
          "Manager",
          "Manager",
          "Manager",
          "Manager",
          "Manager",
          "Manager",
          "Manager",
          "Manager",
          "Manager",
          "Manager",
          "Manager",
          "Manager",
          "Manager",
          "Manager",
          "Manager",
          "Manager",
          "Manager",
          "Manager",
          "Manager",
          "Manager",
          "Manager",
          "Manager",
          "Manager",
          "Manager",
          "Manager",
          "Manager",
          "Manager",
          "Manager",
          "Manager",
          "Manager",
          "Manager",
          "Manager",
          "Manager",
          "Manager",
          "Manager",
          "Manager",
          "Manager",
          "Manager",
          "Manager",
          "Manager",
          "Manager",
          "Manager",
          "Manager",
          "Manager",
          "Manager",
          "Manager",
          "Manager",
          "Manager",
          "Manager",
          "Manager",
          "Manager",
          "Manager",
          "Manager",
          "Manager",
          "Manager",
          "Manager",
          "Manager",
          "Manager",
          "Manager",
          "Manager",
          "Manager",
          "Manager",
          "Manager",
          "Manager",
          "Manager",
          "Manager",
          "Manager",
          "Manager",
          "Manager",
          "Manager",
          "Manager",
          "Manager",
          "Manager",
          "Manager",
          "Manager",
          "Manager",
          "Manager",
          "Manager",
          "Manager",
          "Manager",
          "Manager",
          "Manager",
          "Manager",
          "Manager",
          "Manager",
          "Manager",
          "Manager",
          "Manager",
          "Manager",
          "Manager",
          "Manager",
          "Manager",
          "Manager",
          "Manager",
          "Manager",
          "Manager",
          "Manager",
          "Manager",
          "Manager",
          "Manager",
          "Manager",
          "Manager",
          "Manager",
          "Manager",
          "Manager",
          "Manager",
          "Manager",
          "Manager",
          "Manager",
          "Manager",
          "Manager",
          "Manager",
          "Manager",
          "Manager",
          "Manager",
          "Manager",
          "Manager",
          "Manager",
          "Manager",
          "Manager",
          "Manager",
          "Manager",
          "Director",
          "Director",
          "Director",
          "Director",
          "Director",
          "Director",
          "Director",
          "Director",
          "Director",
          "Director",
          "Director",
          "Director",
          "Director",
          "Director",
          "Director",
          "Director",
          "Director",
          "Director",
          "Director",
          "Director",
          "Director",
          "Director",
          "Director",
          "Director",
          "Director",
          "Director",
          "Director",
          "Director",
          "Director",
          "Director",
          "Director",
          "Director",
          "Director",
          "Director",
          "Director",
          "Director",
          "Director",
          "Director",
          "Director",
          "Director",
          "Director",
          "Director",
          "Director",
          "Director",
          "Director",
          "Director",
          "Director",
          "Director",
          "Director",
          "Director",
          "Director",
          "Director",
          "Director",
          "C-Level"
         ],
         "y": {
          "bdata": "Gx4iGh4jIh0bHR8dHh8dHB4ZHiQmGyQoGR4mGhskISMhHyIjGhodIB0eHiMgGhsdIRsiHyofIx4bIhwaGh8gGR0hGSQhHCAaIRwdIxogHBooIBwmGxsZHSQeIykdJCUdHygjIhoaHhscHR4cHhojHB8pGSYgGxwgHR4iGSIfIyIaIhojIyAhHx8tISAmICAdJh8eGhsjGxobHxwbKhooGRofLSMqJh4tJSEnJSckJCklICcfKiYkHCgZKy0gKCkjJSMqLCMjISUnKykmKSItJysjLCgnHSgtLB4oISYfJSknJCEiKyoeJSocIicqJhopGikmKSogJCwqKSMfKicrJCksKy0kKR8ZKxolHCcmHCMaGScoJikdGx4iJiYoISglJCoqISosIhwpJSQqLSMfIR0bIigqGh4cJC0qKykmKyQeKyIfLBosIB0cIykmJywiIB0cLC0qIx8oIiEaICAbKx0sIiwhKCorKi4dJCwqKC0sLRsgKCgqKyQrLS4mKSgcKysiKCgnGSslLiMmIx4bGyMtGh0hIiwfKywhJhwoJycpLCcrKykpGislKSsqJSsqJyokICwnKyceLSsZHiAjJi0nLSkhKyssLSYsKyggKxsrIy0mLg==",
          "dtype": "i1"
         }
        },
        {
         "box": {
          "visible": true
         },
         "meanline": {
          "visible": true
         },
         "name": "Planning Division",
         "type": "violin",
         "visible": false,
         "x": [
          "Staff",
          "Staff",
          "Staff",
          "Staff",
          "Staff",
          "Staff",
          "Staff",
          "Staff",
          "Staff",
          "Staff",
          "Staff",
          "Staff",
          "Staff",
          "Staff",
          "Staff",
          "Staff",
          "Staff",
          "Staff",
          "Staff",
          "Staff",
          "Staff",
          "Staff",
          "Staff",
          "Staff",
          "Staff",
          "Staff",
          "Staff",
          "Staff",
          "Staff",
          "Staff",
          "Staff",
          "Manager",
          "Manager",
          "Manager",
          "Manager",
          "Manager",
          "Manager",
          "Manager",
          "Manager",
          "Manager",
          "Manager",
          "Manager",
          "Manager",
          "Manager",
          "Manager",
          "Manager",
          "Manager",
          "Manager",
          "Manager",
          "Manager",
          "Manager",
          "Manager",
          "Manager",
          "Manager",
          "Manager",
          "Manager",
          "Manager",
          "Manager",
          "Manager",
          "Manager",
          "Manager",
          "Manager",
          "Manager",
          "Manager",
          "Manager",
          "Manager",
          "Manager",
          "Manager",
          "Manager",
          "Manager",
          "Manager",
          "Manager",
          "Manager",
          "Manager",
          "Manager",
          "Manager",
          "Manager",
          "Manager",
          "Manager",
          "Manager",
          "Manager",
          "Manager",
          "Manager",
          "Manager",
          "Manager",
          "Manager",
          "Manager",
          "Manager",
          "Manager",
          "Manager",
          "Manager",
          "Manager",
          "Manager",
          "Director",
          "Director",
          "Director",
          "Director",
          "Director",
          "Director",
          "Director",
          "Director",
          "Director",
          "Director",
          "Director"
         ],
         "y": {
          "bdata": "Gh0kIyEaIB0jHhoZIxooJhsZJCMgIB0eIiMiLR4bIy0jJCYoKyMjKS0rIycoJSknJCsqKSorJCklHCcaGSYdKi0oHCYfLCwjIC0fKCsdLCorLC0kLSkrKC4jJhofKRonJCstIyYpKC0=",
          "dtype": "i1"
         }
        },
        {
         "box": {
          "visible": true
         },
         "meanline": {
          "visible": true
         },
         "name": "Sales Division",
         "type": "violin",
         "visible": false,
         "x": [
          "Staff",
          "Staff",
          "Staff",
          "Staff",
          "Staff",
          "Staff",
          "Staff",
          "Staff",
          "Staff",
          "Staff",
          "Staff",
          "Staff",
          "Staff",
          "Staff",
          "Staff",
          "Staff",
          "Staff",
          "Staff",
          "Staff",
          "Staff",
          "Staff",
          "Staff",
          "Staff",
          "Staff",
          "Staff",
          "Staff",
          "Staff",
          "Staff",
          "Staff",
          "Staff",
          "Staff",
          "Staff",
          "Staff",
          "Staff",
          "Staff",
          "Staff",
          "Staff",
          "Staff",
          "Staff",
          "Staff",
          "Staff",
          "Staff",
          "Staff",
          "Staff",
          "Staff",
          "Staff",
          "Staff",
          "Staff",
          "Staff",
          "Staff",
          "Staff",
          "Staff",
          "Manager",
          "Manager",
          "Manager",
          "Manager",
          "Manager",
          "Manager",
          "Manager",
          "Manager",
          "Manager",
          "Manager",
          "Manager",
          "Manager",
          "Manager",
          "Manager",
          "Manager",
          "Manager",
          "Manager",
          "Manager",
          "Manager",
          "Manager",
          "Manager",
          "Manager",
          "Manager",
          "Manager",
          "Manager",
          "Manager",
          "Manager",
          "Manager",
          "Manager",
          "Manager",
          "Manager",
          "Manager",
          "Manager",
          "Manager",
          "Manager",
          "Manager",
          "Manager",
          "Manager",
          "Manager",
          "Manager",
          "Manager",
          "Manager",
          "Manager",
          "Manager",
          "Manager",
          "Manager",
          "Manager",
          "Manager",
          "Manager",
          "Manager",
          "Manager",
          "Manager",
          "Manager",
          "Manager",
          "Manager",
          "Manager",
          "Manager",
          "Manager",
          "Manager",
          "Manager",
          "Manager",
          "Manager",
          "Manager",
          "Manager",
          "Manager",
          "Manager",
          "Manager",
          "Manager",
          "Manager",
          "Manager",
          "Manager",
          "Manager",
          "Director",
          "Director",
          "Director",
          "Director",
          "Director",
          "Director",
          "Director",
          "Director",
          "Director",
          "Director",
          "Director",
          "Director",
          "Director",
          "Director",
          "Director",
          "Director",
          "Director",
          "Director",
          "Director"
         ],
         "y": {
          "bdata": "Gx4iHR8cGSQoGR4aGyQaHR4dIiAdJBwdGhwdKR0lHSIaGh4eHykmHCMgISYgHxofGxooGS0lJSclICcfJCApJSMhJyYdKCYlIhogJCkfJCYoKRsiJiohKiwiKSQhIi0rIhocKSciHRwsGhsiISgtKCorLigrKCcrHismJycpLCsrKSslKicnHiEsICsbKyM=",
          "dtype": "i1"
         }
        },
        {
         "box": {
          "visible": true
         },
         "meanline": {
          "visible": true
         },
         "name": "Development Division",
         "type": "violin",
         "visible": false,
         "x": [
          "Staff",
          "Staff",
          "Staff",
          "Staff",
          "Staff",
          "Staff",
          "Staff",
          "Staff",
          "Staff",
          "Staff",
          "Staff",
          "Staff",
          "Staff",
          "Staff",
          "Staff",
          "Staff",
          "Staff",
          "Staff",
          "Staff",
          "Staff",
          "Staff",
          "Staff",
          "Staff",
          "Staff",
          "Staff",
          "Staff",
          "Staff",
          "Staff",
          "Staff",
          "Staff",
          "Staff",
          "Staff",
          "Staff",
          "Staff",
          "Staff",
          "Staff",
          "Staff",
          "Staff",
          "Staff",
          "Staff",
          "Manager",
          "Manager",
          "Manager",
          "Manager",
          "Manager",
          "Manager",
          "Manager",
          "Manager",
          "Manager",
          "Manager",
          "Manager",
          "Manager",
          "Manager",
          "Manager",
          "Manager",
          "Manager",
          "Manager",
          "Manager",
          "Manager",
          "Manager",
          "Manager",
          "Manager",
          "Manager",
          "Manager",
          "Manager",
          "Manager",
          "Manager",
          "Manager",
          "Manager",
          "Manager",
          "Manager",
          "Manager",
          "Manager",
          "Manager",
          "Manager",
          "Manager",
          "Manager",
          "Manager",
          "Manager",
          "Manager",
          "Manager",
          "Manager",
          "Manager",
          "Manager",
          "Manager",
          "Manager",
          "Manager",
          "Director",
          "Director",
          "Director",
          "Director",
          "Director",
          "Director",
          "Director",
          "Director",
          "Director",
          "Director",
          "C-Level"
         ],
         "y": {
          "bdata": "HRsfHh0eGyYhIx4bIRsbGh8ZIBohHBwbHhwdGhkZIhojISAmGxscKickHBktLCsiHiIqHhopIy0fKxocIycoJR0qJCokKx0qIyAsLigsGxwZJRsdLCEoJyUqKyAnKywrJi4=",
          "dtype": "i1"
         }
        },
        {
         "box": {
          "visible": true
         },
         "meanline": {
          "visible": true
         },
         "name": "Operating Division",
         "type": "violin",
         "visible": false,
         "x": [
          "Staff",
          "Staff",
          "Staff",
          "Staff",
          "Staff",
          "Staff",
          "Staff",
          "Staff",
          "Staff",
          "Staff",
          "Staff",
          "Staff",
          "Staff",
          "Staff",
          "Staff",
          "Staff",
          "Staff",
          "Staff",
          "Staff",
          "Staff",
          "Staff",
          "Staff",
          "Staff",
          "Staff",
          "Staff",
          "Staff",
          "Staff",
          "Staff",
          "Staff",
          "Staff",
          "Staff",
          "Staff",
          "Staff",
          "Staff",
          "Staff",
          "Staff",
          "Staff",
          "Staff",
          "Staff",
          "Manager",
          "Manager",
          "Manager",
          "Manager",
          "Manager",
          "Manager",
          "Manager",
          "Manager",
          "Manager",
          "Manager",
          "Manager",
          "Manager",
          "Manager",
          "Manager",
          "Manager",
          "Manager",
          "Manager",
          "Manager",
          "Manager",
          "Manager",
          "Manager",
          "Manager",
          "Manager",
          "Manager",
          "Manager",
          "Manager",
          "Manager",
          "Manager",
          "Manager",
          "Manager",
          "Manager",
          "Manager",
          "Manager",
          "Manager",
          "Manager",
          "Manager",
          "Manager",
          "Manager",
          "Manager",
          "Manager",
          "Manager",
          "Manager",
          "Manager",
          "Manager",
          "Manager",
          "Manager",
          "Manager",
          "Manager",
          "Manager",
          "Manager",
          "Manager",
          "Manager",
          "Manager",
          "Manager",
          "Manager",
          "Manager",
          "Manager",
          "Manager",
          "Manager",
          "Manager",
          "Manager",
          "Manager",
          "Manager",
          "Manager",
          "Manager",
          "Manager",
          "Manager",
          "Manager",
          "Manager",
          "Manager",
          "Manager",
          "Manager",
          "Director",
          "Director",
          "Director",
          "Director",
          "Director",
          "Director",
          "Director",
          "Director",
          "Director",
          "Director",
          "Director",
          "Director",
          "Director"
         ],
         "y": {
          "bdata": "Ih4jHiYfIiMgGh8qHyIcISEgICQeIx8oIxscHBsfIhofHyAdGhofKiYeISkqKCMqJSknLCgtLCEfISocJyYmKSosKicsKykZHiYhKCQqHCUjHxsaHispHiAmLCIhICodJCogKCsmIiMbIy0hIiwcKSsrKiAsGR4tLSstJg==",
          "dtype": "i1"
         }
        }
       ],
       "layout": {
        "annotations": [
         {
          "align": "left",
          "showarrow": false,
          "text": "조직 선택:",
          "x": 0,
          "y": 1.08,
          "yref": "paper"
         }
        ],
        "font": {
         "size": 14
        },
        "height": 700,
        "legend": {
         "title": {
          "text": "Division"
         }
        },
        "template": {
         "data": {
          "bar": [
           {
            "error_x": {
             "color": "#2a3f5f"
            },
            "error_y": {
             "color": "#2a3f5f"
            },
            "marker": {
             "line": {
              "color": "#E5ECF6",
              "width": 0.5
             },
             "pattern": {
              "fillmode": "overlay",
              "size": 10,
              "solidity": 0.2
             }
            },
            "type": "bar"
           }
          ],
          "barpolar": [
           {
            "marker": {
             "line": {
              "color": "#E5ECF6",
              "width": 0.5
             },
             "pattern": {
              "fillmode": "overlay",
              "size": 10,
              "solidity": 0.2
             }
            },
            "type": "barpolar"
           }
          ],
          "carpet": [
           {
            "aaxis": {
             "endlinecolor": "#2a3f5f",
             "gridcolor": "white",
             "linecolor": "white",
             "minorgridcolor": "white",
             "startlinecolor": "#2a3f5f"
            },
            "baxis": {
             "endlinecolor": "#2a3f5f",
             "gridcolor": "white",
             "linecolor": "white",
             "minorgridcolor": "white",
             "startlinecolor": "#2a3f5f"
            },
            "type": "carpet"
           }
          ],
          "choropleth": [
           {
            "colorbar": {
             "outlinewidth": 0,
             "ticks": ""
            },
            "type": "choropleth"
           }
          ],
          "contour": [
           {
            "colorbar": {
             "outlinewidth": 0,
             "ticks": ""
            },
            "colorscale": [
             [
              0,
              "#0d0887"
             ],
             [
              0.1111111111111111,
              "#46039f"
             ],
             [
              0.2222222222222222,
              "#7201a8"
             ],
             [
              0.3333333333333333,
              "#9c179e"
             ],
             [
              0.4444444444444444,
              "#bd3786"
             ],
             [
              0.5555555555555556,
              "#d8576b"
             ],
             [
              0.6666666666666666,
              "#ed7953"
             ],
             [
              0.7777777777777778,
              "#fb9f3a"
             ],
             [
              0.8888888888888888,
              "#fdca26"
             ],
             [
              1,
              "#f0f921"
             ]
            ],
            "type": "contour"
           }
          ],
          "contourcarpet": [
           {
            "colorbar": {
             "outlinewidth": 0,
             "ticks": ""
            },
            "type": "contourcarpet"
           }
          ],
          "heatmap": [
           {
            "colorbar": {
             "outlinewidth": 0,
             "ticks": ""
            },
            "colorscale": [
             [
              0,
              "#0d0887"
             ],
             [
              0.1111111111111111,
              "#46039f"
             ],
             [
              0.2222222222222222,
              "#7201a8"
             ],
             [
              0.3333333333333333,
              "#9c179e"
             ],
             [
              0.4444444444444444,
              "#bd3786"
             ],
             [
              0.5555555555555556,
              "#d8576b"
             ],
             [
              0.6666666666666666,
              "#ed7953"
             ],
             [
              0.7777777777777778,
              "#fb9f3a"
             ],
             [
              0.8888888888888888,
              "#fdca26"
             ],
             [
              1,
              "#f0f921"
             ]
            ],
            "type": "heatmap"
           }
          ],
          "histogram": [
           {
            "marker": {
             "pattern": {
              "fillmode": "overlay",
              "size": 10,
              "solidity": 0.2
             }
            },
            "type": "histogram"
           }
          ],
          "histogram2d": [
           {
            "colorbar": {
             "outlinewidth": 0,
             "ticks": ""
            },
            "colorscale": [
             [
              0,
              "#0d0887"
             ],
             [
              0.1111111111111111,
              "#46039f"
             ],
             [
              0.2222222222222222,
              "#7201a8"
             ],
             [
              0.3333333333333333,
              "#9c179e"
             ],
             [
              0.4444444444444444,
              "#bd3786"
             ],
             [
              0.5555555555555556,
              "#d8576b"
             ],
             [
              0.6666666666666666,
              "#ed7953"
             ],
             [
              0.7777777777777778,
              "#fb9f3a"
             ],
             [
              0.8888888888888888,
              "#fdca26"
             ],
             [
              1,
              "#f0f921"
             ]
            ],
            "type": "histogram2d"
           }
          ],
          "histogram2dcontour": [
           {
            "colorbar": {
             "outlinewidth": 0,
             "ticks": ""
            },
            "colorscale": [
             [
              0,
              "#0d0887"
             ],
             [
              0.1111111111111111,
              "#46039f"
             ],
             [
              0.2222222222222222,
              "#7201a8"
             ],
             [
              0.3333333333333333,
              "#9c179e"
             ],
             [
              0.4444444444444444,
              "#bd3786"
             ],
             [
              0.5555555555555556,
              "#d8576b"
             ],
             [
              0.6666666666666666,
              "#ed7953"
             ],
             [
              0.7777777777777778,
              "#fb9f3a"
             ],
             [
              0.8888888888888888,
              "#fdca26"
             ],
             [
              1,
              "#f0f921"
             ]
            ],
            "type": "histogram2dcontour"
           }
          ],
          "mesh3d": [
           {
            "colorbar": {
             "outlinewidth": 0,
             "ticks": ""
            },
            "type": "mesh3d"
           }
          ],
          "parcoords": [
           {
            "line": {
             "colorbar": {
              "outlinewidth": 0,
              "ticks": ""
             }
            },
            "type": "parcoords"
           }
          ],
          "pie": [
           {
            "automargin": true,
            "type": "pie"
           }
          ],
          "scatter": [
           {
            "fillpattern": {
             "fillmode": "overlay",
             "size": 10,
             "solidity": 0.2
            },
            "type": "scatter"
           }
          ],
          "scatter3d": [
           {
            "line": {
             "colorbar": {
              "outlinewidth": 0,
              "ticks": ""
             }
            },
            "marker": {
             "colorbar": {
              "outlinewidth": 0,
              "ticks": ""
             }
            },
            "type": "scatter3d"
           }
          ],
          "scattercarpet": [
           {
            "marker": {
             "colorbar": {
              "outlinewidth": 0,
              "ticks": ""
             }
            },
            "type": "scattercarpet"
           }
          ],
          "scattergeo": [
           {
            "marker": {
             "colorbar": {
              "outlinewidth": 0,
              "ticks": ""
             }
            },
            "type": "scattergeo"
           }
          ],
          "scattergl": [
           {
            "marker": {
             "colorbar": {
              "outlinewidth": 0,
              "ticks": ""
             }
            },
            "type": "scattergl"
           }
          ],
          "scattermap": [
           {
            "marker": {
             "colorbar": {
              "outlinewidth": 0,
              "ticks": ""
             }
            },
            "type": "scattermap"
           }
          ],
          "scattermapbox": [
           {
            "marker": {
             "colorbar": {
              "outlinewidth": 0,
              "ticks": ""
             }
            },
            "type": "scattermapbox"
           }
          ],
          "scatterpolar": [
           {
            "marker": {
             "colorbar": {
              "outlinewidth": 0,
              "ticks": ""
             }
            },
            "type": "scatterpolar"
           }
          ],
          "scatterpolargl": [
           {
            "marker": {
             "colorbar": {
              "outlinewidth": 0,
              "ticks": ""
             }
            },
            "type": "scatterpolargl"
           }
          ],
          "scatterternary": [
           {
            "marker": {
             "colorbar": {
              "outlinewidth": 0,
              "ticks": ""
             }
            },
            "type": "scatterternary"
           }
          ],
          "surface": [
           {
            "colorbar": {
             "outlinewidth": 0,
             "ticks": ""
            },
            "colorscale": [
             [
              0,
              "#0d0887"
             ],
             [
              0.1111111111111111,
              "#46039f"
             ],
             [
              0.2222222222222222,
              "#7201a8"
             ],
             [
              0.3333333333333333,
              "#9c179e"
             ],
             [
              0.4444444444444444,
              "#bd3786"
             ],
             [
              0.5555555555555556,
              "#d8576b"
             ],
             [
              0.6666666666666666,
              "#ed7953"
             ],
             [
              0.7777777777777778,
              "#fb9f3a"
             ],
             [
              0.8888888888888888,
              "#fdca26"
             ],
             [
              1,
              "#f0f921"
             ]
            ],
            "type": "surface"
           }
          ],
          "table": [
           {
            "cells": {
             "fill": {
              "color": "#EBF0F8"
             },
             "line": {
              "color": "white"
             }
            },
            "header": {
             "fill": {
              "color": "#C8D4E3"
             },
             "line": {
              "color": "white"
             }
            },
            "type": "table"
           }
          ]
         },
         "layout": {
          "annotationdefaults": {
           "arrowcolor": "#2a3f5f",
           "arrowhead": 0,
           "arrowwidth": 1
          },
          "autotypenumbers": "strict",
          "coloraxis": {
           "colorbar": {
            "outlinewidth": 0,
            "ticks": ""
           }
          },
          "colorscale": {
           "diverging": [
            [
             0,
             "#8e0152"
            ],
            [
             0.1,
             "#c51b7d"
            ],
            [
             0.2,
             "#de77ae"
            ],
            [
             0.3,
             "#f1b6da"
            ],
            [
             0.4,
             "#fde0ef"
            ],
            [
             0.5,
             "#f7f7f7"
            ],
            [
             0.6,
             "#e6f5d0"
            ],
            [
             0.7,
             "#b8e186"
            ],
            [
             0.8,
             "#7fbc41"
            ],
            [
             0.9,
             "#4d9221"
            ],
            [
             1,
             "#276419"
            ]
           ],
           "sequential": [
            [
             0,
             "#0d0887"
            ],
            [
             0.1111111111111111,
             "#46039f"
            ],
            [
             0.2222222222222222,
             "#7201a8"
            ],
            [
             0.3333333333333333,
             "#9c179e"
            ],
            [
             0.4444444444444444,
             "#bd3786"
            ],
            [
             0.5555555555555556,
             "#d8576b"
            ],
            [
             0.6666666666666666,
             "#ed7953"
            ],
            [
             0.7777777777777778,
             "#fb9f3a"
            ],
            [
             0.8888888888888888,
             "#fdca26"
            ],
            [
             1,
             "#f0f921"
            ]
           ],
           "sequentialminus": [
            [
             0,
             "#0d0887"
            ],
            [
             0.1111111111111111,
             "#46039f"
            ],
            [
             0.2222222222222222,
             "#7201a8"
            ],
            [
             0.3333333333333333,
             "#9c179e"
            ],
            [
             0.4444444444444444,
             "#bd3786"
            ],
            [
             0.5555555555555556,
             "#d8576b"
            ],
            [
             0.6666666666666666,
             "#ed7953"
            ],
            [
             0.7777777777777778,
             "#fb9f3a"
            ],
            [
             0.8888888888888888,
             "#fdca26"
            ],
            [
             1,
             "#f0f921"
            ]
           ]
          },
          "colorway": [
           "#636efa",
           "#EF553B",
           "#00cc96",
           "#ab63fa",
           "#FFA15A",
           "#19d3f3",
           "#FF6692",
           "#B6E880",
           "#FF97FF",
           "#FECB52"
          ],
          "font": {
           "color": "#2a3f5f"
          },
          "geo": {
           "bgcolor": "white",
           "lakecolor": "white",
           "landcolor": "#E5ECF6",
           "showlakes": true,
           "showland": true,
           "subunitcolor": "white"
          },
          "hoverlabel": {
           "align": "left"
          },
          "hovermode": "closest",
          "mapbox": {
           "style": "light"
          },
          "paper_bgcolor": "white",
          "plot_bgcolor": "#E5ECF6",
          "polar": {
           "angularaxis": {
            "gridcolor": "white",
            "linecolor": "white",
            "ticks": ""
           },
           "bgcolor": "#E5ECF6",
           "radialaxis": {
            "gridcolor": "white",
            "linecolor": "white",
            "ticks": ""
           }
          },
          "scene": {
           "xaxis": {
            "backgroundcolor": "#E5ECF6",
            "gridcolor": "white",
            "gridwidth": 2,
            "linecolor": "white",
            "showbackground": true,
            "ticks": "",
            "zerolinecolor": "white"
           },
           "yaxis": {
            "backgroundcolor": "#E5ECF6",
            "gridcolor": "white",
            "gridwidth": 2,
            "linecolor": "white",
            "showbackground": true,
            "ticks": "",
            "zerolinecolor": "white"
           },
           "zaxis": {
            "backgroundcolor": "#E5ECF6",
            "gridcolor": "white",
            "gridwidth": 2,
            "linecolor": "white",
            "showbackground": true,
            "ticks": "",
            "zerolinecolor": "white"
           }
          },
          "shapedefaults": {
           "line": {
            "color": "#2a3f5f"
           }
          },
          "ternary": {
           "aaxis": {
            "gridcolor": "white",
            "linecolor": "white",
            "ticks": ""
           },
           "baxis": {
            "gridcolor": "white",
            "linecolor": "white",
            "ticks": ""
           },
           "bgcolor": "#E5ECF6",
           "caxis": {
            "gridcolor": "white",
            "linecolor": "white",
            "ticks": ""
           }
          },
          "title": {
           "x": 0.05
          },
          "xaxis": {
           "automargin": true,
           "gridcolor": "white",
           "linecolor": "white",
           "ticks": "",
           "title": {
            "standoff": 15
           },
           "zerolinecolor": "white",
           "zerolinewidth": 2
          },
          "yaxis": {
           "automargin": true,
           "gridcolor": "white",
           "linecolor": "white",
           "ticks": "",
           "title": {
            "standoff": 15
           },
           "zerolinecolor": "white",
           "zerolinewidth": 2
          }
         }
        },
        "title": {
         "text": "직위별 연령 분포 현황"
        },
        "updatemenus": [
         {
          "active": 0,
          "buttons": [
           {
            "args": [
             {
              "visible": [
               true,
               false,
               false,
               false,
               false
              ]
             }
            ],
            "label": "전체",
            "method": "update"
           },
           {
            "args": [
             {
              "visible": [
               false,
               true,
               false,
               false,
               false
              ]
             }
            ],
            "label": "Planning Division",
            "method": "update"
           },
           {
            "args": [
             {
              "visible": [
               false,
               false,
               true,
               false,
               false
              ]
             }
            ],
            "label": "Sales Division",
            "method": "update"
           },
           {
            "args": [
             {
              "visible": [
               false,
               false,
               false,
               true,
               false
              ]
             }
            ],
            "label": "Development Division",
            "method": "update"
           },
           {
            "args": [
             {
              "visible": [
               false,
               false,
               false,
               false,
               true
              ]
             }
            ],
            "label": "Operating Division",
            "method": "update"
           }
          ],
          "direction": "down",
          "pad": {
           "r": 10,
           "t": 10
          },
          "showactive": true,
          "x": 0.01,
          "xanchor": "left",
          "y": 1.1,
          "yanchor": "top"
         }
        ],
        "xaxis": {
         "title": {
          "text": "직위"
         }
        },
        "yaxis": {
         "range": [
          20,
          51
         ],
         "title": {
          "text": "연령"
         }
        }
       }
      }
     },
     "metadata": {},
     "output_type": "display_data"
    }
   ],
   "source": [
    "import pandas as pd\n",
    "import numpy as np\n",
    "import plotly.graph_objects as go\n",
    "import plotly.io as pio\n",
    "import datetime\n",
    "\n",
    "# --- 1. 데이터 임포트 ---\n",
    "from services.tables.HR_Core.basic_info_table import emp_df\n",
    "from services.tables.HR_Core.position_info_table import position_info_df\n",
    "from services.tables.HR_Core.department_info_table import department_info_df\n",
    "from services.tables.HR_Core.position_table import position_df\n",
    "from services.tables.HR_Core.department_table import division_order, dept_level_map, parent_map_dept, dept_name_map\n",
    "from services.helpers.utils import calculate_age, find_division_name_for_dept\n",
    "\n",
    "def create_figure():\n",
    "    \"\"\"\n",
    "    제안 3: 조직 세대교체 현황 분석 그래프를 생성합니다.\n",
    "    \"\"\"\n",
    "    # --- 2. 데이터 준비 및 가공 ---\n",
    "    current_emps_df = emp_df[emp_df['CURRENT_EMP_YN'] == 'Y'].copy()\n",
    "    current_emps_df['AGE'] = current_emps_df['PERSONAL_ID'].apply(calculate_age)\n",
    "\n",
    "    current_positions = position_info_df[position_info_df['GRADE_END_DATE'].isnull()][['EMP_ID', 'POSITION_ID']]\n",
    "    current_depts = department_info_df[department_info_df['DEP_APP_END_DATE'].isnull()][['EMP_ID', 'DEP_ID']]\n",
    "\n",
    "    analysis_df = pd.merge(current_emps_df, current_positions, on='EMP_ID', how='left')\n",
    "    analysis_df = pd.merge(analysis_df, current_depts, on='EMP_ID', how='left')\n",
    "    analysis_df = pd.merge(analysis_df, position_df[['POSITION_ID', 'POSITION_NAME']].drop_duplicates(), on='POSITION_ID', how='left')\n",
    "\n",
    "    # --- 수정된 부분 2: 함수 호출 시 모든 인수를 전달하도록 lambda 함수 사용 ---\n",
    "    analysis_df['DIVISION_NAME'] = analysis_df['DEP_ID'].apply(lambda x: find_division_name_for_dept(x, dept_level_map, parent_map_dept, dept_name_map))\n",
    "    # --- 수정 완료 ---\n",
    "    analysis_df = analysis_df.dropna(subset=['POSITION_NAME', 'DIVISION_NAME', 'AGE'])\n",
    "\n",
    "    position_order = ['Staff', 'Manager', 'Director', 'C-Level']\n",
    "    analysis_df['POSITION_NAME'] = pd.Categorical(analysis_df['POSITION_NAME'], categories=position_order, ordered=True)\n",
    "    analysis_df = analysis_df.sort_values('POSITION_NAME')\n",
    "\n",
    "    y_min = analysis_df['AGE'].min()\n",
    "    y_max = analysis_df['AGE'].max()\n",
    "    fixed_y_range = [y_min - 5, y_max + 5]\n",
    "\n",
    "    # --- 3. Plotly 인터랙티브 그래프 생성 ---\n",
    "    fig = go.Figure()\n",
    "    division_list = ['전체'] + division_order\n",
    "\n",
    "    for i, div_name in enumerate(division_list):\n",
    "        is_visible = (i == 0)\n",
    "        df_filtered = analysis_df if div_name == '전체' else analysis_df[analysis_df['DIVISION_NAME'] == div_name]\n",
    "        fig.add_trace(\n",
    "            go.Violin(\n",
    "                x=df_filtered['POSITION_NAME'], y=df_filtered['AGE'], name=div_name,\n",
    "                box_visible=True, meanline_visible=True, visible=is_visible\n",
    "            )\n",
    "        )\n",
    "\n",
    "    # --- 4. 드롭다운 메뉴 생성 및 레이아웃 업데이트 ---\n",
    "    buttons = []\n",
    "    for i, div_name in enumerate(division_list):\n",
    "        visibility_mask = [False] * len(division_list)\n",
    "        visibility_mask[i] = True\n",
    "        buttons.append(dict(label=div_name, method='update', args=[{'visible': visibility_mask}]))\n",
    "\n",
    "    fig.update_layout(\n",
    "        updatemenus=[dict(\n",
    "            active=0, buttons=buttons, direction=\"down\",\n",
    "            pad={\"r\": 10, \"t\": 10}, showactive=True,\n",
    "            x=0.01, xanchor=\"left\", y=1.1, yanchor=\"top\"\n",
    "        )],\n",
    "        title_text='직위별 연령 분포 현황',\n",
    "        xaxis_title='직위', yaxis_title='연령',\n",
    "        font_size=14, height=700,\n",
    "        legend_title_text='Division',\n",
    "        annotations=[dict(text=\"조직 선택:\", showarrow=False, x=0, y=1.08, yref=\"paper\", align=\"left\")],\n",
    "        yaxis_range=fixed_y_range\n",
    "    )\n",
    "    \n",
    "    return fig\n",
    "\n",
    "\n",
    "\n",
    "    pio.renderers.default = 'vscode'\n",
    "    fig = create_figure()\n",
    "    fig.show()"
   ]
  },
  {
   "cell_type": "code",
   "execution_count": null,
   "id": "e173eae7",
   "metadata": {},
   "outputs": [],
   "source": []
  }
 ],
 "metadata": {
  "kernelspec": {
   "display_name": "Python 3 (ipykernel)",
   "language": "python",
   "name": "python3"
  },
  "language_info": {
   "codemirror_mode": {
    "name": "ipython",
    "version": 3
   },
   "file_extension": ".py",
   "mimetype": "text/x-python",
   "name": "python",
   "nbconvert_exporter": "python",
   "pygments_lexer": "ipython3",
   "version": "3.12.11"
  }
 },
 "nbformat": 4,
 "nbformat_minor": 5
}
