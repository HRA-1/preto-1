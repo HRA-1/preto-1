{
 "cells": [
  {
   "cell_type": "code",
   "execution_count": 1,
   "id": "ce960ba9",
   "metadata": {},
   "outputs": [
    {
     "data": {
      "application/vnd.plotly.v1+json": {
       "config": {
        "plotlyServerURL": "https://plot.ly"
       },
       "data": [
        {
         "box": {
          "visible": true
         },
         "meanline": {
          "visible": true
         },
         "name": "전체",
         "type": "violin",
         "visible": true,
         "x": [
          "Staff",
          "Staff",
          "Staff",
          "Staff",
          "Staff",
          "Staff",
          "Staff",
          "Staff",
          "Staff",
          "Staff",
          "Staff",
          "Staff",
          "Staff",
          "Staff",
          "Staff",
          "Staff",
          "Staff",
          "Staff",
          "Staff",
          "Staff",
          "Staff",
          "Staff",
          "Staff",
          "Staff",
          "Staff",
          "Staff",
          "Staff",
          "Staff",
          "Staff",
          "Staff",
          "Staff",
          "Staff",
          "Staff",
          "Staff",
          "Staff",
          "Staff",
          "Staff",
          "Staff",
          "Staff",
          "Staff",
          "Staff",
          "Staff",
          "Staff",
          "Staff",
          "Staff",
          "Staff",
          "Staff",
          "Staff",
          "Staff",
          "Staff",
          "Staff",
          "Staff",
          "Staff",
          "Staff",
          "Staff",
          "Staff",
          "Staff",
          "Staff",
          "Staff",
          "Staff",
          "Staff",
          "Staff",
          "Staff",
          "Staff",
          "Staff",
          "Staff",
          "Staff",
          "Staff",
          "Staff",
          "Staff",
          "Staff",
          "Staff",
          "Staff",
          "Staff",
          "Staff",
          "Staff",
          "Staff",
          "Staff",
          "Staff",
          "Staff",
          "Staff",
          "Staff",
          "Staff",
          "Staff",
          "Staff",
          "Staff",
          "Staff",
          "Staff",
          "Staff",
          "Staff",
          "Staff",
          "Staff",
          "Staff",
          "Staff",
          "Staff",
          "Staff",
          "Staff",
          "Staff",
          "Staff",
          "Staff",
          "Staff",
          "Staff",
          "Staff",
          "Staff",
          "Staff",
          "Staff",
          "Staff",
          "Staff",
          "Staff",
          "Staff",
          "Staff",
          "Staff",
          "Staff",
          "Staff",
          "Staff",
          "Staff",
          "Staff",
          "Staff",
          "Staff",
          "Staff",
          "Staff",
          "Staff",
          "Staff",
          "Staff",
          "Staff",
          "Staff",
          "Staff",
          "Staff",
          "Staff",
          "Staff",
          "Staff",
          "Staff",
          "Staff",
          "Staff",
          "Staff",
          "Staff",
          "Staff",
          "Staff",
          "Staff",
          "Staff",
          "Staff",
          "Staff",
          "Staff",
          "Staff",
          "Staff",
          "Staff",
          "Staff",
          "Staff",
          "Staff",
          "Staff",
          "Staff",
          "Staff",
          "Staff",
          "Staff",
          "Staff",
          "Staff",
          "Staff",
          "Staff",
          "Staff",
          "Staff",
          "Staff",
          "Staff",
          "Manager",
          "Manager",
          "Manager",
          "Manager",
          "Manager",
          "Manager",
          "Manager",
          "Manager",
          "Manager",
          "Manager",
          "Manager",
          "Manager",
          "Manager",
          "Manager",
          "Manager",
          "Manager",
          "Manager",
          "Manager",
          "Manager",
          "Manager",
          "Manager",
          "Manager",
          "Manager",
          "Manager",
          "Manager",
          "Manager",
          "Manager",
          "Manager",
          "Manager",
          "Manager",
          "Manager",
          "Manager",
          "Manager",
          "Manager",
          "Manager",
          "Manager",
          "Manager",
          "Manager",
          "Manager",
          "Manager",
          "Manager",
          "Manager",
          "Manager",
          "Manager",
          "Manager",
          "Manager",
          "Manager",
          "Manager",
          "Manager",
          "Manager",
          "Manager",
          "Manager",
          "Manager",
          "Manager",
          "Manager",
          "Manager",
          "Manager",
          "Manager",
          "Manager",
          "Manager",
          "Manager",
          "Manager",
          "Manager",
          "Manager",
          "Manager",
          "Manager",
          "Manager",
          "Manager",
          "Manager",
          "Manager",
          "Manager",
          "Manager",
          "Manager",
          "Manager",
          "Manager",
          "Manager",
          "Manager",
          "Manager",
          "Manager",
          "Manager",
          "Manager",
          "Manager",
          "Manager",
          "Manager",
          "Manager",
          "Manager",
          "Manager",
          "Manager",
          "Manager",
          "Manager",
          "Manager",
          "Manager",
          "Manager",
          "Manager",
          "Manager",
          "Manager",
          "Manager",
          "Manager",
          "Manager",
          "Manager",
          "Manager",
          "Manager",
          "Manager",
          "Manager",
          "Manager",
          "Manager",
          "Manager",
          "Manager",
          "Manager",
          "Manager",
          "Manager",
          "Manager",
          "Manager",
          "Manager",
          "Manager",
          "Manager",
          "Manager",
          "Manager",
          "Manager",
          "Manager",
          "Manager",
          "Manager",
          "Manager",
          "Manager",
          "Manager",
          "Manager",
          "Manager",
          "Manager",
          "Manager",
          "Manager",
          "Manager",
          "Manager",
          "Manager",
          "Manager",
          "Manager",
          "Manager",
          "Manager",
          "Manager",
          "Manager",
          "Manager",
          "Manager",
          "Manager",
          "Manager",
          "Manager",
          "Manager",
          "Manager",
          "Manager",
          "Manager",
          "Manager",
          "Manager",
          "Manager",
          "Manager",
          "Manager",
          "Manager",
          "Manager",
          "Manager",
          "Manager",
          "Manager",
          "Manager",
          "Manager",
          "Manager",
          "Manager",
          "Manager",
          "Manager",
          "Manager",
          "Manager",
          "Manager",
          "Manager",
          "Manager",
          "Manager",
          "Manager",
          "Manager",
          "Manager",
          "Manager",
          "Manager",
          "Manager",
          "Manager",
          "Manager",
          "Manager",
          "Manager",
          "Manager",
          "Manager",
          "Manager",
          "Manager",
          "Manager",
          "Manager",
          "Manager",
          "Manager",
          "Manager",
          "Manager",
          "Manager",
          "Manager",
          "Manager",
          "Manager",
          "Manager",
          "Manager",
          "Manager",
          "Manager",
          "Manager",
          "Manager",
          "Manager",
          "Manager",
          "Manager",
          "Manager",
          "Manager",
          "Manager",
          "Manager",
          "Manager",
          "Manager",
          "Manager",
          "Manager",
          "Manager",
          "Manager",
          "Manager",
          "Manager",
          "Manager",
          "Manager",
          "Manager",
          "Manager",
          "Manager",
          "Manager",
          "Manager",
          "Manager",
          "Manager",
          "Manager",
          "Manager",
          "Manager",
          "Manager",
          "Manager",
          "Manager",
          "Manager",
          "Manager",
          "Manager",
          "Manager",
          "Manager",
          "Manager",
          "Manager",
          "Manager",
          "Manager",
          "Manager",
          "Manager",
          "Manager",
          "Manager",
          "Manager",
          "Manager",
          "Manager",
          "Manager",
          "Manager",
          "Manager",
          "Manager",
          "Manager",
          "Manager",
          "Manager",
          "Manager",
          "Manager",
          "Manager",
          "Manager",
          "Manager",
          "Manager",
          "Director",
          "Director",
          "Director",
          "Director",
          "Director",
          "Director",
          "Director",
          "Director",
          "Director",
          "Director",
          "Director",
          "Director",
          "Director",
          "Director",
          "Director",
          "Director",
          "Director",
          "Director",
          "Director",
          "Director",
          "Director",
          "Director",
          "Director",
          "Director",
          "Director",
          "Director",
          "Director",
          "Director",
          "Director",
          "Director",
          "Director",
          "Director",
          "Director",
          "Director",
          "Director",
          "Director",
          "Director",
          "Director",
          "Director",
          "Director",
          "Director",
          "Director",
          "Director",
          "Director",
          "Director",
          "Director",
          "Director",
          "Director",
          "Director",
          "Director",
          "Director",
          "Director",
          "Director",
          "Director",
          "Director",
          "Director",
          "Director",
          "C-Level",
          "C-Level"
         ],
         "y": {
          "bdata": "GxsjHhkeIiEeIh0jGyYiHigfHRoaHBkdJB0aICYtHB8aGyMhIh0hISMaIB0dHiAaGx8mHx0cIx4iGx0iHxoaGigaGSQhHBohISMdGRsaGR4eJiAqJhsbLB0eGhkeHSolHR8cIBsbIR4dIyQoHiMjGiIdGSkmHx4aICIcGRobHyMiIBkaGhwaGh0hGxwcIBseKiMhHyAgHxsbHh8jHR8mHyIhJCshHCkkJiMlIiktKiQjKSEgKiwZIyMtKRwpJB8iKCMmJyUgJScqKiwhJSMgIRwrHy0lIBkeKyorHCcmJyslJyQoKyoeJCwqJyofJS0mLCcoHyUkJyYqIhoiJCkpLSQpIyogJiktHyMaKiwoJx0rHCcsJSIcGikbJCotIx8hHRsqJCMqGyAiJScoJxkcKBomIC0gKiMlKC0mKCwcIigqGiwpJicdLCYiIh4mKCYcIxofGScoKSEdIBsqGy4eHSoqKygtHyQaIygiJCspHCEtLiwcHSAjKCsmIR4gHywaIissIh4rLSQqKBwsKyMmJCsrIxwrISstIB0eKiwrJCspLiotKSknKxonKSEsJSkrLSkrLS0kJywbKCssKCwpKS0oKyksKywmKyYlKysmKCgjLSwnICcnHikZKx4jKysu",
          "dtype": "i1"
         }
        },
        {
         "box": {
          "visible": true
         },
         "meanline": {
          "visible": true
         },
         "name": "Planning Division",
         "type": "violin",
         "visible": false,
         "x": [
          "Staff",
          "Staff",
          "Staff",
          "Staff",
          "Staff",
          "Staff",
          "Staff",
          "Staff",
          "Staff",
          "Staff",
          "Staff",
          "Staff",
          "Staff",
          "Staff",
          "Staff",
          "Staff",
          "Staff",
          "Staff",
          "Staff",
          "Staff",
          "Staff",
          "Staff",
          "Staff",
          "Staff",
          "Staff",
          "Staff",
          "Staff",
          "Staff",
          "Staff",
          "Staff",
          "Staff",
          "Staff",
          "Staff",
          "Staff",
          "Staff",
          "Staff",
          "Staff",
          "Staff",
          "Staff",
          "Staff",
          "Staff",
          "Staff",
          "Staff",
          "Staff",
          "Staff",
          "Manager",
          "Manager",
          "Manager",
          "Manager",
          "Manager",
          "Manager",
          "Manager",
          "Manager",
          "Manager",
          "Manager",
          "Manager",
          "Manager",
          "Manager",
          "Manager",
          "Manager",
          "Manager",
          "Manager",
          "Manager",
          "Manager",
          "Manager",
          "Manager",
          "Manager",
          "Manager",
          "Manager",
          "Manager",
          "Manager",
          "Manager",
          "Manager",
          "Manager",
          "Manager",
          "Manager",
          "Manager",
          "Manager",
          "Manager",
          "Manager",
          "Manager",
          "Manager",
          "Manager",
          "Manager",
          "Manager",
          "Manager",
          "Manager",
          "Manager",
          "Manager",
          "Manager",
          "Manager",
          "Manager",
          "Manager",
          "Manager",
          "Manager",
          "Manager",
          "Manager",
          "Manager",
          "Manager",
          "Manager",
          "Manager",
          "Manager",
          "Manager",
          "Manager",
          "Manager",
          "Manager",
          "Manager",
          "Manager",
          "Manager",
          "Manager",
          "Manager",
          "Director",
          "Director",
          "Director",
          "Director",
          "Director",
          "Director",
          "Director",
          "Director",
          "Director",
          "Director",
          "Director"
         ],
         "y": {
          "bdata": "GSEdIh8cHRwfGyEjHSYcGiEhHSYdGiUcGyEjIikmHx4aGyAaGhwaHCAgGyYhJCYjJSMhICosGSMtIiUqLBwrJSQkLCUtKSAmIyosIhwpLR8bKiItIyYsKCweKSEqLi0dIysgHywaHiorKyssKykqGiUtLSwrKysrIys=",
          "dtype": "i1"
         }
        },
        {
         "box": {
          "visible": true
         },
         "meanline": {
          "visible": true
         },
         "name": "Sales Division",
         "type": "violin",
         "visible": false,
         "x": [
          "Staff",
          "Staff",
          "Staff",
          "Staff",
          "Staff",
          "Staff",
          "Staff",
          "Staff",
          "Staff",
          "Staff",
          "Staff",
          "Staff",
          "Staff",
          "Staff",
          "Staff",
          "Staff",
          "Staff",
          "Staff",
          "Staff",
          "Staff",
          "Staff",
          "Staff",
          "Staff",
          "Staff",
          "Staff",
          "Staff",
          "Staff",
          "Staff",
          "Staff",
          "Staff",
          "Staff",
          "Staff",
          "Staff",
          "Staff",
          "Staff",
          "Staff",
          "Staff",
          "Staff",
          "Staff",
          "Staff",
          "Staff",
          "Staff",
          "Staff",
          "Manager",
          "Manager",
          "Manager",
          "Manager",
          "Manager",
          "Manager",
          "Manager",
          "Manager",
          "Manager",
          "Manager",
          "Manager",
          "Manager",
          "Manager",
          "Manager",
          "Manager",
          "Manager",
          "Manager",
          "Manager",
          "Manager",
          "Manager",
          "Manager",
          "Manager",
          "Manager",
          "Manager",
          "Manager",
          "Manager",
          "Manager",
          "Manager",
          "Manager",
          "Manager",
          "Manager",
          "Manager",
          "Manager",
          "Manager",
          "Manager",
          "Manager",
          "Manager",
          "Manager",
          "Manager",
          "Manager",
          "Manager",
          "Manager",
          "Manager",
          "Manager",
          "Manager",
          "Manager",
          "Manager",
          "Manager",
          "Manager",
          "Manager",
          "Manager",
          "Manager",
          "Manager",
          "Manager",
          "Manager",
          "Manager",
          "Manager",
          "Manager",
          "Manager",
          "Manager",
          "Manager",
          "Manager",
          "Manager",
          "Manager",
          "Manager",
          "Manager",
          "Manager",
          "Manager",
          "Manager",
          "Manager",
          "Director",
          "Director",
          "Director",
          "Director",
          "Director",
          "Director",
          "Director",
          "Director",
          "Director",
          "Director",
          "Director",
          "Director",
          "Director",
          "Director",
          "Director",
          "Director",
          "Director",
          "Director",
          "C-Level"
         ],
         "y": {
          "bdata": "IiIaJCMhIhodHiAbHx0jHSIoGiMZHiAbGR0dJCMdICIcGRoiIRwjHxseIyQiKS0qJCMpHCkfKiElLRkrJx8mKCUqJCkjHCQjIyolJxwmKi0iJicdLCYiHBonIBseKC0kGiQrHCEuLCAoHisoLCErHSQpKSsbLCkpLSgrLCsoLCceHiMu",
          "dtype": "i1"
         }
        },
        {
         "box": {
          "visible": true
         },
         "meanline": {
          "visible": true
         },
         "name": "Development Division",
         "type": "violin",
         "visible": false,
         "x": [
          "Staff",
          "Staff",
          "Staff",
          "Staff",
          "Staff",
          "Staff",
          "Staff",
          "Staff",
          "Staff",
          "Staff",
          "Staff",
          "Staff",
          "Staff",
          "Staff",
          "Staff",
          "Staff",
          "Staff",
          "Staff",
          "Staff",
          "Staff",
          "Staff",
          "Staff",
          "Staff",
          "Staff",
          "Staff",
          "Staff",
          "Staff",
          "Staff",
          "Staff",
          "Staff",
          "Staff",
          "Staff",
          "Manager",
          "Manager",
          "Manager",
          "Manager",
          "Manager",
          "Manager",
          "Manager",
          "Manager",
          "Manager",
          "Manager",
          "Manager",
          "Manager",
          "Manager",
          "Manager",
          "Manager",
          "Manager",
          "Manager",
          "Manager",
          "Manager",
          "Manager",
          "Manager",
          "Manager",
          "Manager",
          "Manager",
          "Manager",
          "Manager",
          "Manager",
          "Manager",
          "Manager",
          "Manager",
          "Manager",
          "Manager",
          "Manager",
          "Manager",
          "Manager",
          "Manager",
          "Manager",
          "Manager",
          "Manager",
          "Manager",
          "Manager",
          "Manager",
          "Manager",
          "Manager",
          "Manager",
          "Manager",
          "Manager",
          "Manager",
          "Manager",
          "Manager",
          "Manager",
          "Manager",
          "Manager",
          "Manager",
          "Manager",
          "Manager",
          "Manager",
          "Manager",
          "Manager",
          "Manager",
          "Manager",
          "Manager",
          "Manager",
          "Manager",
          "Manager",
          "Manager",
          "Manager",
          "Manager",
          "Manager",
          "Manager",
          "Manager",
          "Director",
          "Director",
          "Director",
          "Director",
          "Director",
          "Director",
          "Director",
          "Director",
          "Director",
          "Director",
          "Director",
          "Director",
          "Director",
          "Director",
          "Director",
          "Director",
          "Director",
          "Director",
          "Director",
          "Director",
          "C-Level"
         ],
         "y": {
          "bdata": "HiMbKB0aGR0gLSEaGhoZJBwbGh4qLB4qHR8eHxkbHx8hKSkoIyYjIBwqKyYnKCsqHicfJCcmIhotKi0fGignHSssGhsdIBkoGiUoHBopJiYjGx0qHyMpISwiKy0kHCsjJCMcLSouKScrISwrLSQnKCwoKSYmKC0gJxkrKw==",
          "dtype": "i1"
         }
        },
        {
         "box": {
          "visible": true
         },
         "meanline": {
          "visible": true
         },
         "name": "Operating Division",
         "type": "violin",
         "visible": false,
         "x": [
          "Staff",
          "Staff",
          "Staff",
          "Staff",
          "Staff",
          "Staff",
          "Staff",
          "Staff",
          "Staff",
          "Staff",
          "Staff",
          "Staff",
          "Staff",
          "Staff",
          "Staff",
          "Staff",
          "Staff",
          "Staff",
          "Staff",
          "Staff",
          "Staff",
          "Staff",
          "Staff",
          "Staff",
          "Staff",
          "Staff",
          "Staff",
          "Staff",
          "Staff",
          "Staff",
          "Staff",
          "Staff",
          "Staff",
          "Staff",
          "Staff",
          "Staff",
          "Staff",
          "Staff",
          "Staff",
          "Staff",
          "Staff",
          "Staff",
          "Manager",
          "Manager",
          "Manager",
          "Manager",
          "Manager",
          "Manager",
          "Manager",
          "Manager",
          "Manager",
          "Manager",
          "Manager",
          "Manager",
          "Manager",
          "Manager",
          "Manager",
          "Manager",
          "Manager",
          "Manager",
          "Manager",
          "Manager",
          "Manager",
          "Manager",
          "Manager",
          "Manager",
          "Manager",
          "Manager",
          "Manager",
          "Manager",
          "Manager",
          "Manager",
          "Manager",
          "Manager",
          "Manager",
          "Manager",
          "Manager",
          "Manager",
          "Manager",
          "Manager",
          "Manager",
          "Manager",
          "Manager",
          "Manager",
          "Manager",
          "Manager",
          "Manager",
          "Manager",
          "Manager",
          "Manager",
          "Manager",
          "Manager",
          "Manager",
          "Manager",
          "Director",
          "Director",
          "Director",
          "Director",
          "Director",
          "Director",
          "Director",
          "Director"
         ],
         "y": {
          "bdata": "GxsjHh4mHhomGh0gHx4iGx8aIRkmGx4gGygeIxoZIxodGx4qISAfHR8iKxwkJyUgJyErHyUgHicqKiwnIiQpKSclKiEkGygnICAoKiIoHxkoHSorKCIcJiImIB4rLScpKSwmJScp",
          "dtype": "i1"
         }
        }
       ],
       "layout": {
        "annotations": [
         {
          "align": "left",
          "showarrow": false,
          "text": "조직 선택:",
          "x": 0,
          "y": 1.08,
          "yref": "paper"
         }
        ],
        "font": {
         "size": 14
        },
        "height": 700,
        "legend": {
         "title": {
          "text": "Division"
         }
        },
        "template": {
         "data": {
          "bar": [
           {
            "error_x": {
             "color": "#2a3f5f"
            },
            "error_y": {
             "color": "#2a3f5f"
            },
            "marker": {
             "line": {
              "color": "#E5ECF6",
              "width": 0.5
             },
             "pattern": {
              "fillmode": "overlay",
              "size": 10,
              "solidity": 0.2
             }
            },
            "type": "bar"
           }
          ],
          "barpolar": [
           {
            "marker": {
             "line": {
              "color": "#E5ECF6",
              "width": 0.5
             },
             "pattern": {
              "fillmode": "overlay",
              "size": 10,
              "solidity": 0.2
             }
            },
            "type": "barpolar"
           }
          ],
          "carpet": [
           {
            "aaxis": {
             "endlinecolor": "#2a3f5f",
             "gridcolor": "white",
             "linecolor": "white",
             "minorgridcolor": "white",
             "startlinecolor": "#2a3f5f"
            },
            "baxis": {
             "endlinecolor": "#2a3f5f",
             "gridcolor": "white",
             "linecolor": "white",
             "minorgridcolor": "white",
             "startlinecolor": "#2a3f5f"
            },
            "type": "carpet"
           }
          ],
          "choropleth": [
           {
            "colorbar": {
             "outlinewidth": 0,
             "ticks": ""
            },
            "type": "choropleth"
           }
          ],
          "contour": [
           {
            "colorbar": {
             "outlinewidth": 0,
             "ticks": ""
            },
            "colorscale": [
             [
              0,
              "#0d0887"
             ],
             [
              0.1111111111111111,
              "#46039f"
             ],
             [
              0.2222222222222222,
              "#7201a8"
             ],
             [
              0.3333333333333333,
              "#9c179e"
             ],
             [
              0.4444444444444444,
              "#bd3786"
             ],
             [
              0.5555555555555556,
              "#d8576b"
             ],
             [
              0.6666666666666666,
              "#ed7953"
             ],
             [
              0.7777777777777778,
              "#fb9f3a"
             ],
             [
              0.8888888888888888,
              "#fdca26"
             ],
             [
              1,
              "#f0f921"
             ]
            ],
            "type": "contour"
           }
          ],
          "contourcarpet": [
           {
            "colorbar": {
             "outlinewidth": 0,
             "ticks": ""
            },
            "type": "contourcarpet"
           }
          ],
          "heatmap": [
           {
            "colorbar": {
             "outlinewidth": 0,
             "ticks": ""
            },
            "colorscale": [
             [
              0,
              "#0d0887"
             ],
             [
              0.1111111111111111,
              "#46039f"
             ],
             [
              0.2222222222222222,
              "#7201a8"
             ],
             [
              0.3333333333333333,
              "#9c179e"
             ],
             [
              0.4444444444444444,
              "#bd3786"
             ],
             [
              0.5555555555555556,
              "#d8576b"
             ],
             [
              0.6666666666666666,
              "#ed7953"
             ],
             [
              0.7777777777777778,
              "#fb9f3a"
             ],
             [
              0.8888888888888888,
              "#fdca26"
             ],
             [
              1,
              "#f0f921"
             ]
            ],
            "type": "heatmap"
           }
          ],
          "histogram": [
           {
            "marker": {
             "pattern": {
              "fillmode": "overlay",
              "size": 10,
              "solidity": 0.2
             }
            },
            "type": "histogram"
           }
          ],
          "histogram2d": [
           {
            "colorbar": {
             "outlinewidth": 0,
             "ticks": ""
            },
            "colorscale": [
             [
              0,
              "#0d0887"
             ],
             [
              0.1111111111111111,
              "#46039f"
             ],
             [
              0.2222222222222222,
              "#7201a8"
             ],
             [
              0.3333333333333333,
              "#9c179e"
             ],
             [
              0.4444444444444444,
              "#bd3786"
             ],
             [
              0.5555555555555556,
              "#d8576b"
             ],
             [
              0.6666666666666666,
              "#ed7953"
             ],
             [
              0.7777777777777778,
              "#fb9f3a"
             ],
             [
              0.8888888888888888,
              "#fdca26"
             ],
             [
              1,
              "#f0f921"
             ]
            ],
            "type": "histogram2d"
           }
          ],
          "histogram2dcontour": [
           {
            "colorbar": {
             "outlinewidth": 0,
             "ticks": ""
            },
            "colorscale": [
             [
              0,
              "#0d0887"
             ],
             [
              0.1111111111111111,
              "#46039f"
             ],
             [
              0.2222222222222222,
              "#7201a8"
             ],
             [
              0.3333333333333333,
              "#9c179e"
             ],
             [
              0.4444444444444444,
              "#bd3786"
             ],
             [
              0.5555555555555556,
              "#d8576b"
             ],
             [
              0.6666666666666666,
              "#ed7953"
             ],
             [
              0.7777777777777778,
              "#fb9f3a"
             ],
             [
              0.8888888888888888,
              "#fdca26"
             ],
             [
              1,
              "#f0f921"
             ]
            ],
            "type": "histogram2dcontour"
           }
          ],
          "mesh3d": [
           {
            "colorbar": {
             "outlinewidth": 0,
             "ticks": ""
            },
            "type": "mesh3d"
           }
          ],
          "parcoords": [
           {
            "line": {
             "colorbar": {
              "outlinewidth": 0,
              "ticks": ""
             }
            },
            "type": "parcoords"
           }
          ],
          "pie": [
           {
            "automargin": true,
            "type": "pie"
           }
          ],
          "scatter": [
           {
            "fillpattern": {
             "fillmode": "overlay",
             "size": 10,
             "solidity": 0.2
            },
            "type": "scatter"
           }
          ],
          "scatter3d": [
           {
            "line": {
             "colorbar": {
              "outlinewidth": 0,
              "ticks": ""
             }
            },
            "marker": {
             "colorbar": {
              "outlinewidth": 0,
              "ticks": ""
             }
            },
            "type": "scatter3d"
           }
          ],
          "scattercarpet": [
           {
            "marker": {
             "colorbar": {
              "outlinewidth": 0,
              "ticks": ""
             }
            },
            "type": "scattercarpet"
           }
          ],
          "scattergeo": [
           {
            "marker": {
             "colorbar": {
              "outlinewidth": 0,
              "ticks": ""
             }
            },
            "type": "scattergeo"
           }
          ],
          "scattergl": [
           {
            "marker": {
             "colorbar": {
              "outlinewidth": 0,
              "ticks": ""
             }
            },
            "type": "scattergl"
           }
          ],
          "scattermap": [
           {
            "marker": {
             "colorbar": {
              "outlinewidth": 0,
              "ticks": ""
             }
            },
            "type": "scattermap"
           }
          ],
          "scattermapbox": [
           {
            "marker": {
             "colorbar": {
              "outlinewidth": 0,
              "ticks": ""
             }
            },
            "type": "scattermapbox"
           }
          ],
          "scatterpolar": [
           {
            "marker": {
             "colorbar": {
              "outlinewidth": 0,
              "ticks": ""
             }
            },
            "type": "scatterpolar"
           }
          ],
          "scatterpolargl": [
           {
            "marker": {
             "colorbar": {
              "outlinewidth": 0,
              "ticks": ""
             }
            },
            "type": "scatterpolargl"
           }
          ],
          "scatterternary": [
           {
            "marker": {
             "colorbar": {
              "outlinewidth": 0,
              "ticks": ""
             }
            },
            "type": "scatterternary"
           }
          ],
          "surface": [
           {
            "colorbar": {
             "outlinewidth": 0,
             "ticks": ""
            },
            "colorscale": [
             [
              0,
              "#0d0887"
             ],
             [
              0.1111111111111111,
              "#46039f"
             ],
             [
              0.2222222222222222,
              "#7201a8"
             ],
             [
              0.3333333333333333,
              "#9c179e"
             ],
             [
              0.4444444444444444,
              "#bd3786"
             ],
             [
              0.5555555555555556,
              "#d8576b"
             ],
             [
              0.6666666666666666,
              "#ed7953"
             ],
             [
              0.7777777777777778,
              "#fb9f3a"
             ],
             [
              0.8888888888888888,
              "#fdca26"
             ],
             [
              1,
              "#f0f921"
             ]
            ],
            "type": "surface"
           }
          ],
          "table": [
           {
            "cells": {
             "fill": {
              "color": "#EBF0F8"
             },
             "line": {
              "color": "white"
             }
            },
            "header": {
             "fill": {
              "color": "#C8D4E3"
             },
             "line": {
              "color": "white"
             }
            },
            "type": "table"
           }
          ]
         },
         "layout": {
          "annotationdefaults": {
           "arrowcolor": "#2a3f5f",
           "arrowhead": 0,
           "arrowwidth": 1
          },
          "autotypenumbers": "strict",
          "coloraxis": {
           "colorbar": {
            "outlinewidth": 0,
            "ticks": ""
           }
          },
          "colorscale": {
           "diverging": [
            [
             0,
             "#8e0152"
            ],
            [
             0.1,
             "#c51b7d"
            ],
            [
             0.2,
             "#de77ae"
            ],
            [
             0.3,
             "#f1b6da"
            ],
            [
             0.4,
             "#fde0ef"
            ],
            [
             0.5,
             "#f7f7f7"
            ],
            [
             0.6,
             "#e6f5d0"
            ],
            [
             0.7,
             "#b8e186"
            ],
            [
             0.8,
             "#7fbc41"
            ],
            [
             0.9,
             "#4d9221"
            ],
            [
             1,
             "#276419"
            ]
           ],
           "sequential": [
            [
             0,
             "#0d0887"
            ],
            [
             0.1111111111111111,
             "#46039f"
            ],
            [
             0.2222222222222222,
             "#7201a8"
            ],
            [
             0.3333333333333333,
             "#9c179e"
            ],
            [
             0.4444444444444444,
             "#bd3786"
            ],
            [
             0.5555555555555556,
             "#d8576b"
            ],
            [
             0.6666666666666666,
             "#ed7953"
            ],
            [
             0.7777777777777778,
             "#fb9f3a"
            ],
            [
             0.8888888888888888,
             "#fdca26"
            ],
            [
             1,
             "#f0f921"
            ]
           ],
           "sequentialminus": [
            [
             0,
             "#0d0887"
            ],
            [
             0.1111111111111111,
             "#46039f"
            ],
            [
             0.2222222222222222,
             "#7201a8"
            ],
            [
             0.3333333333333333,
             "#9c179e"
            ],
            [
             0.4444444444444444,
             "#bd3786"
            ],
            [
             0.5555555555555556,
             "#d8576b"
            ],
            [
             0.6666666666666666,
             "#ed7953"
            ],
            [
             0.7777777777777778,
             "#fb9f3a"
            ],
            [
             0.8888888888888888,
             "#fdca26"
            ],
            [
             1,
             "#f0f921"
            ]
           ]
          },
          "colorway": [
           "#636efa",
           "#EF553B",
           "#00cc96",
           "#ab63fa",
           "#FFA15A",
           "#19d3f3",
           "#FF6692",
           "#B6E880",
           "#FF97FF",
           "#FECB52"
          ],
          "font": {
           "color": "#2a3f5f"
          },
          "geo": {
           "bgcolor": "white",
           "lakecolor": "white",
           "landcolor": "#E5ECF6",
           "showlakes": true,
           "showland": true,
           "subunitcolor": "white"
          },
          "hoverlabel": {
           "align": "left"
          },
          "hovermode": "closest",
          "mapbox": {
           "style": "light"
          },
          "paper_bgcolor": "white",
          "plot_bgcolor": "#E5ECF6",
          "polar": {
           "angularaxis": {
            "gridcolor": "white",
            "linecolor": "white",
            "ticks": ""
           },
           "bgcolor": "#E5ECF6",
           "radialaxis": {
            "gridcolor": "white",
            "linecolor": "white",
            "ticks": ""
           }
          },
          "scene": {
           "xaxis": {
            "backgroundcolor": "#E5ECF6",
            "gridcolor": "white",
            "gridwidth": 2,
            "linecolor": "white",
            "showbackground": true,
            "ticks": "",
            "zerolinecolor": "white"
           },
           "yaxis": {
            "backgroundcolor": "#E5ECF6",
            "gridcolor": "white",
            "gridwidth": 2,
            "linecolor": "white",
            "showbackground": true,
            "ticks": "",
            "zerolinecolor": "white"
           },
           "zaxis": {
            "backgroundcolor": "#E5ECF6",
            "gridcolor": "white",
            "gridwidth": 2,
            "linecolor": "white",
            "showbackground": true,
            "ticks": "",
            "zerolinecolor": "white"
           }
          },
          "shapedefaults": {
           "line": {
            "color": "#2a3f5f"
           }
          },
          "ternary": {
           "aaxis": {
            "gridcolor": "white",
            "linecolor": "white",
            "ticks": ""
           },
           "baxis": {
            "gridcolor": "white",
            "linecolor": "white",
            "ticks": ""
           },
           "bgcolor": "#E5ECF6",
           "caxis": {
            "gridcolor": "white",
            "linecolor": "white",
            "ticks": ""
           }
          },
          "title": {
           "x": 0.05
          },
          "xaxis": {
           "automargin": true,
           "gridcolor": "white",
           "linecolor": "white",
           "ticks": "",
           "title": {
            "standoff": 15
           },
           "zerolinecolor": "white",
           "zerolinewidth": 2
          },
          "yaxis": {
           "automargin": true,
           "gridcolor": "white",
           "linecolor": "white",
           "ticks": "",
           "title": {
            "standoff": 15
           },
           "zerolinecolor": "white",
           "zerolinewidth": 2
          }
         }
        },
        "title": {
         "text": "직위별 연령 분포 현황"
        },
        "updatemenus": [
         {
          "active": 0,
          "buttons": [
           {
            "args": [
             {
              "visible": [
               true,
               false,
               false,
               false,
               false
              ]
             }
            ],
            "label": "전체",
            "method": "update"
           },
           {
            "args": [
             {
              "visible": [
               false,
               true,
               false,
               false,
               false
              ]
             }
            ],
            "label": "Planning Division",
            "method": "update"
           },
           {
            "args": [
             {
              "visible": [
               false,
               false,
               true,
               false,
               false
              ]
             }
            ],
            "label": "Sales Division",
            "method": "update"
           },
           {
            "args": [
             {
              "visible": [
               false,
               false,
               false,
               true,
               false
              ]
             }
            ],
            "label": "Development Division",
            "method": "update"
           },
           {
            "args": [
             {
              "visible": [
               false,
               false,
               false,
               false,
               true
              ]
             }
            ],
            "label": "Operating Division",
            "method": "update"
           }
          ],
          "direction": "down",
          "pad": {
           "r": 10,
           "t": 10
          },
          "showactive": true,
          "x": 0.01,
          "xanchor": "left",
          "y": 1.1,
          "yanchor": "top"
         }
        ],
        "xaxis": {
         "title": {
          "text": "직위"
         }
        },
        "yaxis": {
         "range": [
          20,
          51
         ],
         "title": {
          "text": "연령"
         }
        }
       }
      }
     },
     "metadata": {},
     "output_type": "display_data"
    }
   ],
   "source": [
    "import pandas as pd\n",
    "import numpy as np\n",
    "import plotly.graph_objects as go\n",
    "import plotly.io as pio\n",
    "import datetime\n",
    "\n",
    "# --- 1. 데이터 임포트 ---\n",
    "from services.tables.HR_Core.basic_info_table import emp_df\n",
    "from services.tables.HR_Core.position_info_table import position_info_df\n",
    "from services.tables.HR_Core.department_info_table import department_info_df\n",
    "from services.tables.HR_Core.position_table import position_df\n",
    "from services.tables.HR_Core.department_table import division_order, dept_level_map, parent_map_dept, dept_name_map\n",
    "from services.helpers.utils import calculate_age, find_division_name_for_dept\n",
    "\n",
    "def create_figure():\n",
    "    \"\"\"\n",
    "    제안 3: 조직 세대교체 현황 분석 그래프를 생성합니다.\n",
    "    \"\"\"\n",
    "    # --- 2. 데이터 준비 및 가공 ---\n",
    "    current_emps_df = emp_df[emp_df['CURRENT_EMP_YN'] == 'Y'].copy()\n",
    "    \n",
    "    current_emps_df['AGE'] = current_emps_df['PERSONAL_ID'].apply(calculate_age)\n",
    "    \n",
    "    current_positions = position_info_df[position_info_df['GRADE_END_DATE'].isnull()][['EMP_ID', 'POSITION_ID']]\n",
    "    current_depts = department_info_df[department_info_df['DEP_APP_END_DATE'].isnull()][['EMP_ID', 'DEP_ID']]\n",
    "    \n",
    "    analysis_df = pd.merge(current_emps_df, current_positions, on='EMP_ID', how='left')\n",
    "    analysis_df = pd.merge(analysis_df, current_depts, on='EMP_ID', how='left')\n",
    "    analysis_df = pd.merge(analysis_df, position_df[['POSITION_ID', 'POSITION_NAME']].drop_duplicates(), on='POSITION_ID', how='left')\n",
    "    \n",
    "    analysis_df['DIVISION_NAME'] = analysis_df['DEP_ID'].apply(lambda x: find_division_name_for_dept(x, dept_level_map, parent_map_dept, dept_name_map))\n",
    "    \n",
    "    analysis_df = analysis_df.dropna(subset=['POSITION_NAME', 'DIVISION_NAME', 'AGE'])\n",
    "    \n",
    "    position_order = ['Staff', 'Manager', 'Director', 'C-Level']\n",
    "    analysis_df['POSITION_NAME'] = pd.Categorical(analysis_df['POSITION_NAME'], categories=position_order, ordered=True)\n",
    "    analysis_df = analysis_df.sort_values('POSITION_NAME')\n",
    "    \n",
    "    y_min = analysis_df['AGE'].min()\n",
    "    y_max = analysis_df['AGE'].max()\n",
    "    fixed_y_range = [y_min - 5, y_max + 5]\n",
    "    \n",
    "    # --- 3. Plotly 인터랙티브 그래프 생성 ---\n",
    "    fig = go.Figure()\n",
    "    division_list = ['전체'] + division_order\n",
    "    \n",
    "    for i, div_name in enumerate(division_list):\n",
    "        is_visible = (i == 0)\n",
    "        df_filtered = analysis_df if div_name == '전체' else analysis_df[analysis_df['DIVISION_NAME'] == div_name]\n",
    "        \n",
    "        fig.add_trace(\n",
    "            go.Violin(\n",
    "                x=df_filtered['POSITION_NAME'], y=df_filtered['AGE'], name=div_name,\n",
    "                box_visible=True, meanline_visible=True, visible=is_visible\n",
    "            )\n",
    "        )\n",
    "        \n",
    "    # --- 4. 드롭다운 메뉴 생성 ---\n",
    "    buttons = []\n",
    "    for i, div_name in enumerate(division_list):\n",
    "        visibility_mask = [False] * len(division_list)\n",
    "        visibility_mask[i] = True\n",
    "        buttons.append(dict(label=div_name, method='update', args=[{'visible': visibility_mask}]))\n",
    "        \n",
    "    # --- 5. 레이아웃 업데이트 및 그래프 표시 ---\n",
    "    fig.update_layout(\n",
    "        updatemenus=[dict(\n",
    "            active=0, buttons=buttons, direction=\"down\",\n",
    "            pad={\"r\": 10, \"t\": 10}, showactive=True,\n",
    "            x=0.01, xanchor=\"left\", y=1.1, yanchor=\"top\"\n",
    "        )],\n",
    "        title_text='직위별 연령 분포 현황',\n",
    "        xaxis_title='직위',\n",
    "        yaxis_title='연령',\n",
    "        font_size=14, height=700,\n",
    "        legend_title_text='Division',\n",
    "        annotations=[dict(text=\"조직 선택:\", showarrow=False,\n",
    "                          x=0, y=1.08, yref=\"paper\", align=\"left\")],\n",
    "        yaxis_range=fixed_y_range\n",
    "    )\n",
    "    \n",
    "    return fig\n",
    "\n",
    "# 이 파일을 직접 실행할 경우 그래프를 생성하여 보여줍니다.\n",
    "pio.renderers.default = 'vscode'\n",
    "fig = create_figure()\n",
    "fig.show()"
   ]
  },
  {
   "cell_type": "code",
   "execution_count": 2,
   "id": "1b9df795",
   "metadata": {},
   "outputs": [
    {
     "data": {
      "application/vnd.plotly.v1+json": {
       "config": {
        "plotlyServerURL": "https://plot.ly"
       },
       "data": [
        {
         "box": {
          "visible": true
         },
         "meanline": {
          "visible": true
         },
         "name": "전체",
         "type": "violin",
         "visible": true,
         "x": [
          "Staff",
          "Staff",
          "Staff",
          "Staff",
          "Staff",
          "Staff",
          "Staff",
          "Staff",
          "Staff",
          "Staff",
          "Staff",
          "Staff",
          "Staff",
          "Staff",
          "Staff",
          "Staff",
          "Staff",
          "Staff",
          "Staff",
          "Staff",
          "Staff",
          "Staff",
          "Staff",
          "Staff",
          "Staff",
          "Staff",
          "Staff",
          "Staff",
          "Staff",
          "Staff",
          "Staff",
          "Staff",
          "Staff",
          "Staff",
          "Staff",
          "Staff",
          "Staff",
          "Staff",
          "Staff",
          "Staff",
          "Staff",
          "Staff",
          "Staff",
          "Staff",
          "Staff",
          "Staff",
          "Staff",
          "Staff",
          "Staff",
          "Staff",
          "Staff",
          "Staff",
          "Staff",
          "Staff",
          "Staff",
          "Staff",
          "Staff",
          "Staff",
          "Staff",
          "Staff",
          "Staff",
          "Staff",
          "Staff",
          "Staff",
          "Staff",
          "Staff",
          "Staff",
          "Staff",
          "Staff",
          "Staff",
          "Staff",
          "Staff",
          "Staff",
          "Staff",
          "Staff",
          "Staff",
          "Staff",
          "Staff",
          "Staff",
          "Staff",
          "Staff",
          "Staff",
          "Staff",
          "Staff",
          "Staff",
          "Staff",
          "Staff",
          "Staff",
          "Staff",
          "Staff",
          "Staff",
          "Staff",
          "Staff",
          "Staff",
          "Staff",
          "Staff",
          "Staff",
          "Staff",
          "Staff",
          "Staff",
          "Staff",
          "Staff",
          "Staff",
          "Staff",
          "Staff",
          "Staff",
          "Staff",
          "Staff",
          "Staff",
          "Staff",
          "Staff",
          "Staff",
          "Staff",
          "Staff",
          "Staff",
          "Staff",
          "Staff",
          "Staff",
          "Staff",
          "Staff",
          "Staff",
          "Staff",
          "Staff",
          "Staff",
          "Staff",
          "Staff",
          "Staff",
          "Staff",
          "Staff",
          "Staff",
          "Staff",
          "Staff",
          "Staff",
          "Staff",
          "Staff",
          "Staff",
          "Staff",
          "Staff",
          "Staff",
          "Staff",
          "Staff",
          "Staff",
          "Staff",
          "Staff",
          "Staff",
          "Staff",
          "Staff",
          "Staff",
          "Staff",
          "Staff",
          "Staff",
          "Staff",
          "Staff",
          "Staff",
          "Staff",
          "Staff",
          "Staff",
          "Staff",
          "Staff",
          "Staff",
          "Staff",
          "Staff",
          "Manager",
          "Manager",
          "Manager",
          "Manager",
          "Manager",
          "Manager",
          "Manager",
          "Manager",
          "Manager",
          "Manager",
          "Manager",
          "Manager",
          "Manager",
          "Manager",
          "Manager",
          "Manager",
          "Manager",
          "Manager",
          "Manager",
          "Manager",
          "Manager",
          "Manager",
          "Manager",
          "Manager",
          "Manager",
          "Manager",
          "Manager",
          "Manager",
          "Manager",
          "Manager",
          "Manager",
          "Manager",
          "Manager",
          "Manager",
          "Manager",
          "Manager",
          "Manager",
          "Manager",
          "Manager",
          "Manager",
          "Manager",
          "Manager",
          "Manager",
          "Manager",
          "Manager",
          "Manager",
          "Manager",
          "Manager",
          "Manager",
          "Manager",
          "Manager",
          "Manager",
          "Manager",
          "Manager",
          "Manager",
          "Manager",
          "Manager",
          "Manager",
          "Manager",
          "Manager",
          "Manager",
          "Manager",
          "Manager",
          "Manager",
          "Manager",
          "Manager",
          "Manager",
          "Manager",
          "Manager",
          "Manager",
          "Manager",
          "Manager",
          "Manager",
          "Manager",
          "Manager",
          "Manager",
          "Manager",
          "Manager",
          "Manager",
          "Manager",
          "Manager",
          "Manager",
          "Manager",
          "Manager",
          "Manager",
          "Manager",
          "Manager",
          "Manager",
          "Manager",
          "Manager",
          "Manager",
          "Manager",
          "Manager",
          "Manager",
          "Manager",
          "Manager",
          "Manager",
          "Manager",
          "Manager",
          "Manager",
          "Manager",
          "Manager",
          "Manager",
          "Manager",
          "Manager",
          "Manager",
          "Manager",
          "Manager",
          "Manager",
          "Manager",
          "Manager",
          "Manager",
          "Manager",
          "Manager",
          "Manager",
          "Manager",
          "Manager",
          "Manager",
          "Manager",
          "Manager",
          "Manager",
          "Manager",
          "Manager",
          "Manager",
          "Manager",
          "Manager",
          "Manager",
          "Manager",
          "Manager",
          "Manager",
          "Manager",
          "Manager",
          "Manager",
          "Manager",
          "Manager",
          "Manager",
          "Manager",
          "Manager",
          "Manager",
          "Manager",
          "Manager",
          "Manager",
          "Manager",
          "Manager",
          "Manager",
          "Manager",
          "Manager",
          "Manager",
          "Manager",
          "Manager",
          "Manager",
          "Manager",
          "Manager",
          "Manager",
          "Manager",
          "Manager",
          "Manager",
          "Manager",
          "Manager",
          "Manager",
          "Manager",
          "Manager",
          "Manager",
          "Manager",
          "Manager",
          "Manager",
          "Manager",
          "Manager",
          "Manager",
          "Manager",
          "Manager",
          "Manager",
          "Manager",
          "Manager",
          "Manager",
          "Manager",
          "Manager",
          "Manager",
          "Manager",
          "Manager",
          "Manager",
          "Manager",
          "Manager",
          "Manager",
          "Manager",
          "Manager",
          "Manager",
          "Manager",
          "Manager",
          "Manager",
          "Manager",
          "Manager",
          "Manager",
          "Manager",
          "Manager",
          "Manager",
          "Manager",
          "Manager",
          "Manager",
          "Manager",
          "Manager",
          "Manager",
          "Manager",
          "Manager",
          "Manager",
          "Manager",
          "Manager",
          "Manager",
          "Manager",
          "Manager",
          "Manager",
          "Manager",
          "Manager",
          "Manager",
          "Manager",
          "Manager",
          "Manager",
          "Manager",
          "Manager",
          "Manager",
          "Manager",
          "Manager",
          "Manager",
          "Manager",
          "Manager",
          "Manager",
          "Manager",
          "Manager",
          "Manager",
          "Manager",
          "Manager",
          "Manager",
          "Manager",
          "Manager",
          "Manager",
          "Manager",
          "Manager",
          "Manager",
          "Manager",
          "Manager",
          "Manager",
          "Manager",
          "Manager",
          "Manager",
          "Manager",
          "Manager",
          "Manager",
          "Manager",
          "Manager",
          "Manager",
          "Manager",
          "Manager",
          "Manager",
          "Manager",
          "Manager",
          "Manager",
          "Manager",
          "Manager",
          "Manager",
          "Director",
          "Director",
          "Director",
          "Director",
          "Director",
          "Director",
          "Director",
          "Director",
          "Director",
          "Director",
          "Director",
          "Director",
          "Director",
          "Director",
          "Director",
          "Director",
          "Director",
          "Director",
          "Director",
          "Director",
          "Director",
          "Director",
          "Director",
          "Director",
          "Director",
          "Director",
          "Director",
          "Director",
          "Director",
          "Director",
          "Director",
          "Director",
          "Director",
          "Director",
          "Director",
          "Director",
          "Director",
          "Director",
          "Director",
          "Director",
          "Director",
          "Director",
          "Director",
          "Director",
          "Director",
          "Director",
          "Director",
          "Director",
          "Director",
          "Director",
          "Director",
          "Director",
          "Director",
          "Director",
          "Director",
          "Director",
          "Director",
          "C-Level",
          "C-Level"
         ],
         "y": {
          "bdata": "GxsjHhkeIiEeIh0jGyYiHigfHRoaHBkdJB0aICYtHB8aGyMhIh0hISMaIB0dHiAaGx8mHx0cIx4iGx0iHxoaGigaGSQhHBohISMdGRsaGR4eJiAqJhsbLB0eGhkeHSolHR8cIBsbIR4dIyQoHiMjGiIdGSkmHx4aICIcGRobHyMiIBkaGhwaGh0hGxwcIBseKiMhHyAgHxsbHh8jHR8mHyIhJCshHCkkJiMlIiktKiQjKSEgKiwZIyMtKRwpJB8iKCMmJyUgJScqKiwhJSMgIRwrHy0lIBkeKyorHCcmJyslJyQoKyoeJCwqJyofJS0mLCcoHyUkJyYqIhoiJCkpLSQpIyogJiktHyMaKiwoJx0rHCcsJSIcGikbJCotIx8hHRsqJCMqGyAiJScoJxkcKBomIC0gKiMlKC0mKCwcIigqGiwpJicdLCYiIh4mKCYcIxofGScoKSEdIBsqGy4eHSoqKygtHyQaIygiJCspHCEtLiwcHSAjKCsmIR4gHywaIissIh4rLSQqKBwsKyMmJCsrIxwrISstIB0eKiwrJCspLiotKSknKxonKSEsJSkrLSkrLS0kJywbKCssKCwpKS0oKyksKywmKyYlKysmKCgjLSwnICcnHikZKx4jKysu",
          "dtype": "i1"
         }
        },
        {
         "box": {
          "visible": true
         },
         "meanline": {
          "visible": true
         },
         "name": "Planning Division",
         "type": "violin",
         "visible": false,
         "x": [
          "Staff",
          "Staff",
          "Staff",
          "Staff",
          "Staff",
          "Staff",
          "Staff",
          "Staff",
          "Staff",
          "Staff",
          "Staff",
          "Staff",
          "Staff",
          "Staff",
          "Staff",
          "Staff",
          "Staff",
          "Staff",
          "Staff",
          "Staff",
          "Staff",
          "Staff",
          "Staff",
          "Staff",
          "Staff",
          "Staff",
          "Staff",
          "Staff",
          "Staff",
          "Staff",
          "Staff",
          "Staff",
          "Staff",
          "Staff",
          "Staff",
          "Staff",
          "Staff",
          "Staff",
          "Staff",
          "Staff",
          "Staff",
          "Staff",
          "Staff",
          "Staff",
          "Staff",
          "Manager",
          "Manager",
          "Manager",
          "Manager",
          "Manager",
          "Manager",
          "Manager",
          "Manager",
          "Manager",
          "Manager",
          "Manager",
          "Manager",
          "Manager",
          "Manager",
          "Manager",
          "Manager",
          "Manager",
          "Manager",
          "Manager",
          "Manager",
          "Manager",
          "Manager",
          "Manager",
          "Manager",
          "Manager",
          "Manager",
          "Manager",
          "Manager",
          "Manager",
          "Manager",
          "Manager",
          "Manager",
          "Manager",
          "Manager",
          "Manager",
          "Manager",
          "Manager",
          "Manager",
          "Manager",
          "Manager",
          "Manager",
          "Manager",
          "Manager",
          "Manager",
          "Manager",
          "Manager",
          "Manager",
          "Manager",
          "Manager",
          "Manager",
          "Manager",
          "Manager",
          "Manager",
          "Manager",
          "Manager",
          "Manager",
          "Manager",
          "Manager",
          "Manager",
          "Manager",
          "Manager",
          "Manager",
          "Manager",
          "Manager",
          "Manager",
          "Manager",
          "Director",
          "Director",
          "Director",
          "Director",
          "Director",
          "Director",
          "Director",
          "Director",
          "Director",
          "Director",
          "Director"
         ],
         "y": {
          "bdata": "GSEdIh8cHRwfGyEjHSYcGiEhHSYdGiUcGyEjIikmHx4aGyAaGhwaHCAgGyYhJCYjJSMhICosGSMtIiUqLBwrJSQkLCUtKSAmIyosIhwpLR8bKiItIyYsKCweKSEqLi0dIysgHywaHiorKyssKykqGiUtLSwrKysrIys=",
          "dtype": "i1"
         }
        },
        {
         "box": {
          "visible": true
         },
         "meanline": {
          "visible": true
         },
         "name": "Sales Division",
         "type": "violin",
         "visible": false,
         "x": [
          "Staff",
          "Staff",
          "Staff",
          "Staff",
          "Staff",
          "Staff",
          "Staff",
          "Staff",
          "Staff",
          "Staff",
          "Staff",
          "Staff",
          "Staff",
          "Staff",
          "Staff",
          "Staff",
          "Staff",
          "Staff",
          "Staff",
          "Staff",
          "Staff",
          "Staff",
          "Staff",
          "Staff",
          "Staff",
          "Staff",
          "Staff",
          "Staff",
          "Staff",
          "Staff",
          "Staff",
          "Staff",
          "Staff",
          "Staff",
          "Staff",
          "Staff",
          "Staff",
          "Staff",
          "Staff",
          "Staff",
          "Staff",
          "Staff",
          "Staff",
          "Manager",
          "Manager",
          "Manager",
          "Manager",
          "Manager",
          "Manager",
          "Manager",
          "Manager",
          "Manager",
          "Manager",
          "Manager",
          "Manager",
          "Manager",
          "Manager",
          "Manager",
          "Manager",
          "Manager",
          "Manager",
          "Manager",
          "Manager",
          "Manager",
          "Manager",
          "Manager",
          "Manager",
          "Manager",
          "Manager",
          "Manager",
          "Manager",
          "Manager",
          "Manager",
          "Manager",
          "Manager",
          "Manager",
          "Manager",
          "Manager",
          "Manager",
          "Manager",
          "Manager",
          "Manager",
          "Manager",
          "Manager",
          "Manager",
          "Manager",
          "Manager",
          "Manager",
          "Manager",
          "Manager",
          "Manager",
          "Manager",
          "Manager",
          "Manager",
          "Manager",
          "Manager",
          "Manager",
          "Manager",
          "Manager",
          "Manager",
          "Manager",
          "Manager",
          "Manager",
          "Manager",
          "Manager",
          "Manager",
          "Manager",
          "Manager",
          "Manager",
          "Manager",
          "Manager",
          "Manager",
          "Manager",
          "Director",
          "Director",
          "Director",
          "Director",
          "Director",
          "Director",
          "Director",
          "Director",
          "Director",
          "Director",
          "Director",
          "Director",
          "Director",
          "Director",
          "Director",
          "Director",
          "Director",
          "Director",
          "C-Level"
         ],
         "y": {
          "bdata": "IiIaJCMhIhodHiAbHx0jHSIoGiMZHiAbGR0dJCMdICIcGRoiIRwjHxseIyQiKS0qJCMpHCkfKiElLRkrJx8mKCUqJCkjHCQjIyolJxwmKi0iJicdLCYiHBonIBseKC0kGiQrHCEuLCAoHisoLCErHSQpKSsbLCkpLSgrLCsoLCceHiMu",
          "dtype": "i1"
         }
        },
        {
         "box": {
          "visible": true
         },
         "meanline": {
          "visible": true
         },
         "name": "Development Division",
         "type": "violin",
         "visible": false,
         "x": [
          "Staff",
          "Staff",
          "Staff",
          "Staff",
          "Staff",
          "Staff",
          "Staff",
          "Staff",
          "Staff",
          "Staff",
          "Staff",
          "Staff",
          "Staff",
          "Staff",
          "Staff",
          "Staff",
          "Staff",
          "Staff",
          "Staff",
          "Staff",
          "Staff",
          "Staff",
          "Staff",
          "Staff",
          "Staff",
          "Staff",
          "Staff",
          "Staff",
          "Staff",
          "Staff",
          "Staff",
          "Staff",
          "Manager",
          "Manager",
          "Manager",
          "Manager",
          "Manager",
          "Manager",
          "Manager",
          "Manager",
          "Manager",
          "Manager",
          "Manager",
          "Manager",
          "Manager",
          "Manager",
          "Manager",
          "Manager",
          "Manager",
          "Manager",
          "Manager",
          "Manager",
          "Manager",
          "Manager",
          "Manager",
          "Manager",
          "Manager",
          "Manager",
          "Manager",
          "Manager",
          "Manager",
          "Manager",
          "Manager",
          "Manager",
          "Manager",
          "Manager",
          "Manager",
          "Manager",
          "Manager",
          "Manager",
          "Manager",
          "Manager",
          "Manager",
          "Manager",
          "Manager",
          "Manager",
          "Manager",
          "Manager",
          "Manager",
          "Manager",
          "Manager",
          "Manager",
          "Manager",
          "Manager",
          "Manager",
          "Manager",
          "Manager",
          "Manager",
          "Manager",
          "Manager",
          "Manager",
          "Manager",
          "Manager",
          "Manager",
          "Manager",
          "Manager",
          "Manager",
          "Manager",
          "Manager",
          "Manager",
          "Manager",
          "Manager",
          "Manager",
          "Director",
          "Director",
          "Director",
          "Director",
          "Director",
          "Director",
          "Director",
          "Director",
          "Director",
          "Director",
          "Director",
          "Director",
          "Director",
          "Director",
          "Director",
          "Director",
          "Director",
          "Director",
          "Director",
          "Director",
          "C-Level"
         ],
         "y": {
          "bdata": "HiMbKB0aGR0gLSEaGhoZJBwbGh4qLB4qHR8eHxkbHx8hKSkoIyYjIBwqKyYnKCsqHicfJCcmIhotKi0fGignHSssGhsdIBkoGiUoHBopJiYjGx0qHyMpISwiKy0kHCsjJCMcLSouKScrISwrLSQnKCwoKSYmKC0gJxkrKw==",
          "dtype": "i1"
         }
        },
        {
         "box": {
          "visible": true
         },
         "meanline": {
          "visible": true
         },
         "name": "Operating Division",
         "type": "violin",
         "visible": false,
         "x": [
          "Staff",
          "Staff",
          "Staff",
          "Staff",
          "Staff",
          "Staff",
          "Staff",
          "Staff",
          "Staff",
          "Staff",
          "Staff",
          "Staff",
          "Staff",
          "Staff",
          "Staff",
          "Staff",
          "Staff",
          "Staff",
          "Staff",
          "Staff",
          "Staff",
          "Staff",
          "Staff",
          "Staff",
          "Staff",
          "Staff",
          "Staff",
          "Staff",
          "Staff",
          "Staff",
          "Staff",
          "Staff",
          "Staff",
          "Staff",
          "Staff",
          "Staff",
          "Staff",
          "Staff",
          "Staff",
          "Staff",
          "Staff",
          "Staff",
          "Manager",
          "Manager",
          "Manager",
          "Manager",
          "Manager",
          "Manager",
          "Manager",
          "Manager",
          "Manager",
          "Manager",
          "Manager",
          "Manager",
          "Manager",
          "Manager",
          "Manager",
          "Manager",
          "Manager",
          "Manager",
          "Manager",
          "Manager",
          "Manager",
          "Manager",
          "Manager",
          "Manager",
          "Manager",
          "Manager",
          "Manager",
          "Manager",
          "Manager",
          "Manager",
          "Manager",
          "Manager",
          "Manager",
          "Manager",
          "Manager",
          "Manager",
          "Manager",
          "Manager",
          "Manager",
          "Manager",
          "Manager",
          "Manager",
          "Manager",
          "Manager",
          "Manager",
          "Manager",
          "Manager",
          "Manager",
          "Manager",
          "Manager",
          "Manager",
          "Manager",
          "Director",
          "Director",
          "Director",
          "Director",
          "Director",
          "Director",
          "Director",
          "Director"
         ],
         "y": {
          "bdata": "GxsjHh4mHhomGh0gHx4iGx8aIRkmGx4gGygeIxoZIxodGx4qISAfHR8iKxwkJyUgJyErHyUgHicqKiwnIiQpKSclKiEkGygnICAoKiIoHxkoHSorKCIcJiImIB4rLScpKSwmJScp",
          "dtype": "i1"
         }
        }
       ],
       "layout": {
        "annotations": [
         {
          "align": "left",
          "showarrow": false,
          "text": "조직 선택:",
          "x": 0,
          "y": 1.08,
          "yref": "paper"
         }
        ],
        "font": {
         "size": 14
        },
        "height": 700,
        "legend": {
         "title": {
          "text": "Division"
         }
        },
        "template": {
         "data": {
          "bar": [
           {
            "error_x": {
             "color": "#2a3f5f"
            },
            "error_y": {
             "color": "#2a3f5f"
            },
            "marker": {
             "line": {
              "color": "#E5ECF6",
              "width": 0.5
             },
             "pattern": {
              "fillmode": "overlay",
              "size": 10,
              "solidity": 0.2
             }
            },
            "type": "bar"
           }
          ],
          "barpolar": [
           {
            "marker": {
             "line": {
              "color": "#E5ECF6",
              "width": 0.5
             },
             "pattern": {
              "fillmode": "overlay",
              "size": 10,
              "solidity": 0.2
             }
            },
            "type": "barpolar"
           }
          ],
          "carpet": [
           {
            "aaxis": {
             "endlinecolor": "#2a3f5f",
             "gridcolor": "white",
             "linecolor": "white",
             "minorgridcolor": "white",
             "startlinecolor": "#2a3f5f"
            },
            "baxis": {
             "endlinecolor": "#2a3f5f",
             "gridcolor": "white",
             "linecolor": "white",
             "minorgridcolor": "white",
             "startlinecolor": "#2a3f5f"
            },
            "type": "carpet"
           }
          ],
          "choropleth": [
           {
            "colorbar": {
             "outlinewidth": 0,
             "ticks": ""
            },
            "type": "choropleth"
           }
          ],
          "contour": [
           {
            "colorbar": {
             "outlinewidth": 0,
             "ticks": ""
            },
            "colorscale": [
             [
              0,
              "#0d0887"
             ],
             [
              0.1111111111111111,
              "#46039f"
             ],
             [
              0.2222222222222222,
              "#7201a8"
             ],
             [
              0.3333333333333333,
              "#9c179e"
             ],
             [
              0.4444444444444444,
              "#bd3786"
             ],
             [
              0.5555555555555556,
              "#d8576b"
             ],
             [
              0.6666666666666666,
              "#ed7953"
             ],
             [
              0.7777777777777778,
              "#fb9f3a"
             ],
             [
              0.8888888888888888,
              "#fdca26"
             ],
             [
              1,
              "#f0f921"
             ]
            ],
            "type": "contour"
           }
          ],
          "contourcarpet": [
           {
            "colorbar": {
             "outlinewidth": 0,
             "ticks": ""
            },
            "type": "contourcarpet"
           }
          ],
          "heatmap": [
           {
            "colorbar": {
             "outlinewidth": 0,
             "ticks": ""
            },
            "colorscale": [
             [
              0,
              "#0d0887"
             ],
             [
              0.1111111111111111,
              "#46039f"
             ],
             [
              0.2222222222222222,
              "#7201a8"
             ],
             [
              0.3333333333333333,
              "#9c179e"
             ],
             [
              0.4444444444444444,
              "#bd3786"
             ],
             [
              0.5555555555555556,
              "#d8576b"
             ],
             [
              0.6666666666666666,
              "#ed7953"
             ],
             [
              0.7777777777777778,
              "#fb9f3a"
             ],
             [
              0.8888888888888888,
              "#fdca26"
             ],
             [
              1,
              "#f0f921"
             ]
            ],
            "type": "heatmap"
           }
          ],
          "histogram": [
           {
            "marker": {
             "pattern": {
              "fillmode": "overlay",
              "size": 10,
              "solidity": 0.2
             }
            },
            "type": "histogram"
           }
          ],
          "histogram2d": [
           {
            "colorbar": {
             "outlinewidth": 0,
             "ticks": ""
            },
            "colorscale": [
             [
              0,
              "#0d0887"
             ],
             [
              0.1111111111111111,
              "#46039f"
             ],
             [
              0.2222222222222222,
              "#7201a8"
             ],
             [
              0.3333333333333333,
              "#9c179e"
             ],
             [
              0.4444444444444444,
              "#bd3786"
             ],
             [
              0.5555555555555556,
              "#d8576b"
             ],
             [
              0.6666666666666666,
              "#ed7953"
             ],
             [
              0.7777777777777778,
              "#fb9f3a"
             ],
             [
              0.8888888888888888,
              "#fdca26"
             ],
             [
              1,
              "#f0f921"
             ]
            ],
            "type": "histogram2d"
           }
          ],
          "histogram2dcontour": [
           {
            "colorbar": {
             "outlinewidth": 0,
             "ticks": ""
            },
            "colorscale": [
             [
              0,
              "#0d0887"
             ],
             [
              0.1111111111111111,
              "#46039f"
             ],
             [
              0.2222222222222222,
              "#7201a8"
             ],
             [
              0.3333333333333333,
              "#9c179e"
             ],
             [
              0.4444444444444444,
              "#bd3786"
             ],
             [
              0.5555555555555556,
              "#d8576b"
             ],
             [
              0.6666666666666666,
              "#ed7953"
             ],
             [
              0.7777777777777778,
              "#fb9f3a"
             ],
             [
              0.8888888888888888,
              "#fdca26"
             ],
             [
              1,
              "#f0f921"
             ]
            ],
            "type": "histogram2dcontour"
           }
          ],
          "mesh3d": [
           {
            "colorbar": {
             "outlinewidth": 0,
             "ticks": ""
            },
            "type": "mesh3d"
           }
          ],
          "parcoords": [
           {
            "line": {
             "colorbar": {
              "outlinewidth": 0,
              "ticks": ""
             }
            },
            "type": "parcoords"
           }
          ],
          "pie": [
           {
            "automargin": true,
            "type": "pie"
           }
          ],
          "scatter": [
           {
            "fillpattern": {
             "fillmode": "overlay",
             "size": 10,
             "solidity": 0.2
            },
            "type": "scatter"
           }
          ],
          "scatter3d": [
           {
            "line": {
             "colorbar": {
              "outlinewidth": 0,
              "ticks": ""
             }
            },
            "marker": {
             "colorbar": {
              "outlinewidth": 0,
              "ticks": ""
             }
            },
            "type": "scatter3d"
           }
          ],
          "scattercarpet": [
           {
            "marker": {
             "colorbar": {
              "outlinewidth": 0,
              "ticks": ""
             }
            },
            "type": "scattercarpet"
           }
          ],
          "scattergeo": [
           {
            "marker": {
             "colorbar": {
              "outlinewidth": 0,
              "ticks": ""
             }
            },
            "type": "scattergeo"
           }
          ],
          "scattergl": [
           {
            "marker": {
             "colorbar": {
              "outlinewidth": 0,
              "ticks": ""
             }
            },
            "type": "scattergl"
           }
          ],
          "scattermap": [
           {
            "marker": {
             "colorbar": {
              "outlinewidth": 0,
              "ticks": ""
             }
            },
            "type": "scattermap"
           }
          ],
          "scattermapbox": [
           {
            "marker": {
             "colorbar": {
              "outlinewidth": 0,
              "ticks": ""
             }
            },
            "type": "scattermapbox"
           }
          ],
          "scatterpolar": [
           {
            "marker": {
             "colorbar": {
              "outlinewidth": 0,
              "ticks": ""
             }
            },
            "type": "scatterpolar"
           }
          ],
          "scatterpolargl": [
           {
            "marker": {
             "colorbar": {
              "outlinewidth": 0,
              "ticks": ""
             }
            },
            "type": "scatterpolargl"
           }
          ],
          "scatterternary": [
           {
            "marker": {
             "colorbar": {
              "outlinewidth": 0,
              "ticks": ""
             }
            },
            "type": "scatterternary"
           }
          ],
          "surface": [
           {
            "colorbar": {
             "outlinewidth": 0,
             "ticks": ""
            },
            "colorscale": [
             [
              0,
              "#0d0887"
             ],
             [
              0.1111111111111111,
              "#46039f"
             ],
             [
              0.2222222222222222,
              "#7201a8"
             ],
             [
              0.3333333333333333,
              "#9c179e"
             ],
             [
              0.4444444444444444,
              "#bd3786"
             ],
             [
              0.5555555555555556,
              "#d8576b"
             ],
             [
              0.6666666666666666,
              "#ed7953"
             ],
             [
              0.7777777777777778,
              "#fb9f3a"
             ],
             [
              0.8888888888888888,
              "#fdca26"
             ],
             [
              1,
              "#f0f921"
             ]
            ],
            "type": "surface"
           }
          ],
          "table": [
           {
            "cells": {
             "fill": {
              "color": "#EBF0F8"
             },
             "line": {
              "color": "white"
             }
            },
            "header": {
             "fill": {
              "color": "#C8D4E3"
             },
             "line": {
              "color": "white"
             }
            },
            "type": "table"
           }
          ]
         },
         "layout": {
          "annotationdefaults": {
           "arrowcolor": "#2a3f5f",
           "arrowhead": 0,
           "arrowwidth": 1
          },
          "autotypenumbers": "strict",
          "coloraxis": {
           "colorbar": {
            "outlinewidth": 0,
            "ticks": ""
           }
          },
          "colorscale": {
           "diverging": [
            [
             0,
             "#8e0152"
            ],
            [
             0.1,
             "#c51b7d"
            ],
            [
             0.2,
             "#de77ae"
            ],
            [
             0.3,
             "#f1b6da"
            ],
            [
             0.4,
             "#fde0ef"
            ],
            [
             0.5,
             "#f7f7f7"
            ],
            [
             0.6,
             "#e6f5d0"
            ],
            [
             0.7,
             "#b8e186"
            ],
            [
             0.8,
             "#7fbc41"
            ],
            [
             0.9,
             "#4d9221"
            ],
            [
             1,
             "#276419"
            ]
           ],
           "sequential": [
            [
             0,
             "#0d0887"
            ],
            [
             0.1111111111111111,
             "#46039f"
            ],
            [
             0.2222222222222222,
             "#7201a8"
            ],
            [
             0.3333333333333333,
             "#9c179e"
            ],
            [
             0.4444444444444444,
             "#bd3786"
            ],
            [
             0.5555555555555556,
             "#d8576b"
            ],
            [
             0.6666666666666666,
             "#ed7953"
            ],
            [
             0.7777777777777778,
             "#fb9f3a"
            ],
            [
             0.8888888888888888,
             "#fdca26"
            ],
            [
             1,
             "#f0f921"
            ]
           ],
           "sequentialminus": [
            [
             0,
             "#0d0887"
            ],
            [
             0.1111111111111111,
             "#46039f"
            ],
            [
             0.2222222222222222,
             "#7201a8"
            ],
            [
             0.3333333333333333,
             "#9c179e"
            ],
            [
             0.4444444444444444,
             "#bd3786"
            ],
            [
             0.5555555555555556,
             "#d8576b"
            ],
            [
             0.6666666666666666,
             "#ed7953"
            ],
            [
             0.7777777777777778,
             "#fb9f3a"
            ],
            [
             0.8888888888888888,
             "#fdca26"
            ],
            [
             1,
             "#f0f921"
            ]
           ]
          },
          "colorway": [
           "#636efa",
           "#EF553B",
           "#00cc96",
           "#ab63fa",
           "#FFA15A",
           "#19d3f3",
           "#FF6692",
           "#B6E880",
           "#FF97FF",
           "#FECB52"
          ],
          "font": {
           "color": "#2a3f5f"
          },
          "geo": {
           "bgcolor": "white",
           "lakecolor": "white",
           "landcolor": "#E5ECF6",
           "showlakes": true,
           "showland": true,
           "subunitcolor": "white"
          },
          "hoverlabel": {
           "align": "left"
          },
          "hovermode": "closest",
          "mapbox": {
           "style": "light"
          },
          "paper_bgcolor": "white",
          "plot_bgcolor": "#E5ECF6",
          "polar": {
           "angularaxis": {
            "gridcolor": "white",
            "linecolor": "white",
            "ticks": ""
           },
           "bgcolor": "#E5ECF6",
           "radialaxis": {
            "gridcolor": "white",
            "linecolor": "white",
            "ticks": ""
           }
          },
          "scene": {
           "xaxis": {
            "backgroundcolor": "#E5ECF6",
            "gridcolor": "white",
            "gridwidth": 2,
            "linecolor": "white",
            "showbackground": true,
            "ticks": "",
            "zerolinecolor": "white"
           },
           "yaxis": {
            "backgroundcolor": "#E5ECF6",
            "gridcolor": "white",
            "gridwidth": 2,
            "linecolor": "white",
            "showbackground": true,
            "ticks": "",
            "zerolinecolor": "white"
           },
           "zaxis": {
            "backgroundcolor": "#E5ECF6",
            "gridcolor": "white",
            "gridwidth": 2,
            "linecolor": "white",
            "showbackground": true,
            "ticks": "",
            "zerolinecolor": "white"
           }
          },
          "shapedefaults": {
           "line": {
            "color": "#2a3f5f"
           }
          },
          "ternary": {
           "aaxis": {
            "gridcolor": "white",
            "linecolor": "white",
            "ticks": ""
           },
           "baxis": {
            "gridcolor": "white",
            "linecolor": "white",
            "ticks": ""
           },
           "bgcolor": "#E5ECF6",
           "caxis": {
            "gridcolor": "white",
            "linecolor": "white",
            "ticks": ""
           }
          },
          "title": {
           "x": 0.05
          },
          "xaxis": {
           "automargin": true,
           "gridcolor": "white",
           "linecolor": "white",
           "ticks": "",
           "title": {
            "standoff": 15
           },
           "zerolinecolor": "white",
           "zerolinewidth": 2
          },
          "yaxis": {
           "automargin": true,
           "gridcolor": "white",
           "linecolor": "white",
           "ticks": "",
           "title": {
            "standoff": 15
           },
           "zerolinecolor": "white",
           "zerolinewidth": 2
          }
         }
        },
        "title": {
         "text": "직위별 연령 분포 현황"
        },
        "updatemenus": [
         {
          "active": 0,
          "buttons": [
           {
            "args": [
             {
              "visible": [
               true,
               false,
               false,
               false,
               false
              ]
             }
            ],
            "label": "전체",
            "method": "update"
           },
           {
            "args": [
             {
              "visible": [
               false,
               true,
               false,
               false,
               false
              ]
             }
            ],
            "label": "Planning Division",
            "method": "update"
           },
           {
            "args": [
             {
              "visible": [
               false,
               false,
               true,
               false,
               false
              ]
             }
            ],
            "label": "Sales Division",
            "method": "update"
           },
           {
            "args": [
             {
              "visible": [
               false,
               false,
               false,
               true,
               false
              ]
             }
            ],
            "label": "Development Division",
            "method": "update"
           },
           {
            "args": [
             {
              "visible": [
               false,
               false,
               false,
               false,
               true
              ]
             }
            ],
            "label": "Operating Division",
            "method": "update"
           }
          ],
          "direction": "down",
          "pad": {
           "r": 10,
           "t": 10
          },
          "showactive": true,
          "x": 0.01,
          "xanchor": "left",
          "y": 1.1,
          "yanchor": "top"
         }
        ],
        "xaxis": {
         "title": {
          "text": "직위"
         }
        },
        "yaxis": {
         "range": [
          20,
          51
         ],
         "title": {
          "text": "연령"
         }
        }
       }
      }
     },
     "metadata": {},
     "output_type": "display_data"
    }
   ],
   "source": [
    "# --- 2. 데이터 준비 및 가공 ---\n",
    "current_emps_df = emp_df[emp_df['CURRENT_EMP_YN'] == 'Y'].copy()\n",
    "\n",
    "# (calculate_age 함수가 공통 함수 블록에 정의되어 있다고 가정)\n",
    "current_emps_df['AGE'] = current_emps_df['PERSONAL_ID'].apply(calculate_age)\n",
    "\n",
    "current_positions = position_info_df[position_info_df['GRADE_END_DATE'].isnull()][['EMP_ID', 'POSITION_ID']]\n",
    "current_depts = department_info_df[department_info_df['DEP_APP_END_DATE'].isnull()][['EMP_ID', 'DEP_ID']]\n",
    "\n",
    "analysis_df = pd.merge(current_emps_df, current_positions, on='EMP_ID', how='left')\n",
    "analysis_df = pd.merge(analysis_df, current_depts, on='EMP_ID', how='left')\n",
    "analysis_df = pd.merge(analysis_df, position_df[['POSITION_ID', 'POSITION_NAME']].drop_duplicates(), on='POSITION_ID', how='left')\n",
    "\n",
    "# (find_division_name_for_dept 함수가 공통 함수 블록에 정의되어 있다고 가정)\n",
    "analysis_df['DIVISION_NAME'] = analysis_df['DEP_ID'].apply(lambda x: find_division_name_for_dept(x, dept_level_map, parent_map_dept, dept_name_map))\n",
    "\n",
    "# --- 수정된 부분: inplace=True 제거 ---\n",
    "analysis_df = analysis_df.dropna(subset=['POSITION_NAME', 'DIVISION_NAME', 'AGE'])\n",
    "# --- 수정 완료 ---\n",
    "\n",
    "position_order = ['Staff', 'Manager', 'Director', 'C-Level']\n",
    "analysis_df['POSITION_NAME'] = pd.Categorical(analysis_df['POSITION_NAME'], categories=position_order, ordered=True)\n",
    "analysis_df = analysis_df.sort_values('POSITION_NAME')\n",
    "\n",
    "y_min = analysis_df['AGE'].min()\n",
    "y_max = analysis_df['AGE'].max()\n",
    "fixed_y_range = [y_min - 5, y_max + 5]\n",
    "\n",
    "# --- 3. Plotly 인터랙티브 그래프 생성 ---\n",
    "fig = go.Figure()\n",
    "division_list = ['전체'] + division_order\n",
    "\n",
    "for i, div_name in enumerate(division_list):\n",
    "    is_visible = (i == 0)\n",
    "    df_filtered = analysis_df if div_name == '전체' else analysis_df[analysis_df['DIVISION_NAME'] == div_name]\n",
    "\n",
    "    fig.add_trace(\n",
    "        go.Violin(\n",
    "            x=df_filtered['POSITION_NAME'], y=df_filtered['AGE'], name=div_name,\n",
    "            box_visible=True, meanline_visible=True, visible=is_visible\n",
    "        )\n",
    "    )\n",
    "\n",
    "# --- 4. 드롭다운 메뉴 생성 ---\n",
    "buttons = []\n",
    "for i, div_name in enumerate(division_list):\n",
    "    visibility_mask = [False] * len(division_list)\n",
    "    visibility_mask[i] = True\n",
    "    buttons.append(dict(label=div_name, method='update', args=[{'visible': visibility_mask}]))\n",
    "\n",
    "# --- 5. 레이아웃 업데이트 및 그래프 표시 ---\n",
    "fig.update_layout(\n",
    "    updatemenus=[dict(\n",
    "        active=0, buttons=buttons, direction=\"down\",\n",
    "        pad={\"r\": 10, \"t\": 10}, showactive=True,\n",
    "        x=0.01, xanchor=\"left\", y=1.1, yanchor=\"top\"\n",
    "    )],\n",
    "    title_text='직위별 연령 분포 현황',\n",
    "    xaxis_title='직위',\n",
    "    yaxis_title='연령',\n",
    "    font_size=14, height=700,\n",
    "    legend_title_text='Division',\n",
    "    annotations=[dict(text=\"조직 선택:\", showarrow=False,\n",
    "                      x=0, y=1.08, yref=\"paper\", align=\"left\")],\n",
    "    yaxis_range=fixed_y_range\n",
    ")\n",
    "fig.show()"
   ]
  },
  {
   "cell_type": "code",
   "execution_count": 5,
   "id": "99b72baf",
   "metadata": {},
   "outputs": [
    {
     "data": {
      "text/html": [
       "<div>\n",
       "<style scoped>\n",
       "    .dataframe tbody tr th:only-of-type {\n",
       "        vertical-align: middle;\n",
       "    }\n",
       "\n",
       "    .dataframe tbody tr th {\n",
       "        vertical-align: top;\n",
       "    }\n",
       "\n",
       "    .dataframe thead th {\n",
       "        text-align: right;\n",
       "    }\n",
       "</style>\n",
       "<table border=\"1\" class=\"dataframe\">\n",
       "  <thead>\n",
       "    <tr style=\"text-align: right;\">\n",
       "      <th></th>\n",
       "      <th>EMP_ID</th>\n",
       "      <th>NAME</th>\n",
       "      <th>ENG_NAME</th>\n",
       "      <th>NICKNAME</th>\n",
       "      <th>PERSONAL_ID</th>\n",
       "      <th>GENDER</th>\n",
       "      <th>EMAIL</th>\n",
       "      <th>PHONE_NUM</th>\n",
       "      <th>IN_DATE</th>\n",
       "      <th>GROUP_IN_DATE</th>\n",
       "      <th>...</th>\n",
       "      <th>ADDRESS</th>\n",
       "      <th>CURRENT_EMP_YN</th>\n",
       "      <th>OUT_DATE</th>\n",
       "      <th>DURATION</th>\n",
       "      <th>PROB_YN</th>\n",
       "      <th>AGE</th>\n",
       "      <th>POSITION_ID</th>\n",
       "      <th>DEP_ID</th>\n",
       "      <th>POSITION_NAME</th>\n",
       "      <th>DIVISION_NAME</th>\n",
       "    </tr>\n",
       "  </thead>\n",
       "  <tbody>\n",
       "    <tr>\n",
       "      <th>239</th>\n",
       "      <td>E00475</td>\n",
       "      <td>김현우</td>\n",
       "      <td>Kenneth Adams</td>\n",
       "      <td>Christina</td>\n",
       "      <td>980424-1134913</td>\n",
       "      <td>M</td>\n",
       "      <td>mscott@example.com</td>\n",
       "      <td>02-1693-4292</td>\n",
       "      <td>2022-10-12</td>\n",
       "      <td>2021-09-03</td>\n",
       "      <td>...</td>\n",
       "      <td>인천광역시 광진구 언주길 701-51</td>\n",
       "      <td>Y</td>\n",
       "      <td>NaT</td>\n",
       "      <td>1042</td>\n",
       "      <td>N</td>\n",
       "      <td>27</td>\n",
       "      <td>POS001</td>\n",
       "      <td>DEP013</td>\n",
       "      <td>Staff</td>\n",
       "      <td>Operating Division</td>\n",
       "    </tr>\n",
       "    <tr>\n",
       "      <th>149</th>\n",
       "      <td>E00293</td>\n",
       "      <td>이성민</td>\n",
       "      <td>Melinda Mcdaniel</td>\n",
       "      <td>Jennifer</td>\n",
       "      <td>980726-1693169</td>\n",
       "      <td>M</td>\n",
       "      <td>hjackson@example.org</td>\n",
       "      <td>033-451-9515</td>\n",
       "      <td>2024-05-28</td>\n",
       "      <td>2024-05-28</td>\n",
       "      <td>...</td>\n",
       "      <td>서울특별시 동작구 역삼가 615</td>\n",
       "      <td>Y</td>\n",
       "      <td>NaT</td>\n",
       "      <td>448</td>\n",
       "      <td>N</td>\n",
       "      <td>27</td>\n",
       "      <td>POS001</td>\n",
       "      <td>DEP035</td>\n",
       "      <td>Staff</td>\n",
       "      <td>Operating Division</td>\n",
       "    </tr>\n",
       "    <tr>\n",
       "      <th>358</th>\n",
       "      <td>E00743</td>\n",
       "      <td>이영환</td>\n",
       "      <td>Todd Wright</td>\n",
       "      <td>Ryan</td>\n",
       "      <td>901111-1475394</td>\n",
       "      <td>M</td>\n",
       "      <td>crystallandry@example.org</td>\n",
       "      <td>063-818-7109</td>\n",
       "      <td>2020-08-24</td>\n",
       "      <td>2020-08-24</td>\n",
       "      <td>...</td>\n",
       "      <td>울산광역시 도봉구 삼성가 658-71 (성수이마을)</td>\n",
       "      <td>Y</td>\n",
       "      <td>NaT</td>\n",
       "      <td>1821</td>\n",
       "      <td>N</td>\n",
       "      <td>35</td>\n",
       "      <td>POS001</td>\n",
       "      <td>DEP031</td>\n",
       "      <td>Staff</td>\n",
       "      <td>Operating Division</td>\n",
       "    </tr>\n",
       "    <tr>\n",
       "      <th>151</th>\n",
       "      <td>E00296</td>\n",
       "      <td>전영철</td>\n",
       "      <td>Jennifer Clark</td>\n",
       "      <td>Jeffrey</td>\n",
       "      <td>950427-2551640</td>\n",
       "      <td>F</td>\n",
       "      <td>haydenjane@example.com</td>\n",
       "      <td>070-0650-1917</td>\n",
       "      <td>2023-02-15</td>\n",
       "      <td>2023-02-15</td>\n",
       "      <td>...</td>\n",
       "      <td>경기도 평택시 테헤란3로 852-54</td>\n",
       "      <td>Y</td>\n",
       "      <td>NaT</td>\n",
       "      <td>916</td>\n",
       "      <td>N</td>\n",
       "      <td>30</td>\n",
       "      <td>POS001</td>\n",
       "      <td>DEP014</td>\n",
       "      <td>Staff</td>\n",
       "      <td>Operating Division</td>\n",
       "    </tr>\n",
       "    <tr>\n",
       "      <th>153</th>\n",
       "      <td>E00299</td>\n",
       "      <td>최광수</td>\n",
       "      <td>Mrs. Amber Davis</td>\n",
       "      <td>Kyle</td>\n",
       "      <td>000322-4480292</td>\n",
       "      <td>F</td>\n",
       "      <td>susan83@example.com</td>\n",
       "      <td>055-521-5681</td>\n",
       "      <td>2018-02-14</td>\n",
       "      <td>2018-02-14</td>\n",
       "      <td>...</td>\n",
       "      <td>경기도 논산시 서초중앙042길 지하81</td>\n",
       "      <td>Y</td>\n",
       "      <td>NaT</td>\n",
       "      <td>2743</td>\n",
       "      <td>N</td>\n",
       "      <td>25</td>\n",
       "      <td>POS001</td>\n",
       "      <td>DEP016</td>\n",
       "      <td>Staff</td>\n",
       "      <td>Planning Division</td>\n",
       "    </tr>\n",
       "    <tr>\n",
       "      <th>...</th>\n",
       "      <td>...</td>\n",
       "      <td>...</td>\n",
       "      <td>...</td>\n",
       "      <td>...</td>\n",
       "      <td>...</td>\n",
       "      <td>...</td>\n",
       "      <td>...</td>\n",
       "      <td>...</td>\n",
       "      <td>...</td>\n",
       "      <td>...</td>\n",
       "      <td>...</td>\n",
       "      <td>...</td>\n",
       "      <td>...</td>\n",
       "      <td>...</td>\n",
       "      <td>...</td>\n",
       "      <td>...</td>\n",
       "      <td>...</td>\n",
       "      <td>...</td>\n",
       "      <td>...</td>\n",
       "      <td>...</td>\n",
       "      <td>...</td>\n",
       "    </tr>\n",
       "    <tr>\n",
       "      <th>362</th>\n",
       "      <td>E00749</td>\n",
       "      <td>한영순</td>\n",
       "      <td>Shirley Ray</td>\n",
       "      <td>Pamela</td>\n",
       "      <td>950504-1275722</td>\n",
       "      <td>M</td>\n",
       "      <td>keithrich@example.net</td>\n",
       "      <td>055-792-4157</td>\n",
       "      <td>2011-11-07</td>\n",
       "      <td>2011-11-07</td>\n",
       "      <td>...</td>\n",
       "      <td>경상북도 고양시 삼성거리 421 (명자이장동)</td>\n",
       "      <td>Y</td>\n",
       "      <td>NaT</td>\n",
       "      <td>5034</td>\n",
       "      <td>N</td>\n",
       "      <td>30</td>\n",
       "      <td>POS003</td>\n",
       "      <td>DEP030</td>\n",
       "      <td>Director</td>\n",
       "      <td>Sales Division</td>\n",
       "    </tr>\n",
       "    <tr>\n",
       "      <th>360</th>\n",
       "      <td>E00746</td>\n",
       "      <td>성정호</td>\n",
       "      <td>Sarah Wilson</td>\n",
       "      <td>Jared</td>\n",
       "      <td>901106-2175073</td>\n",
       "      <td>F</td>\n",
       "      <td>jeffreygarcia@example.org</td>\n",
       "      <td>017-252-8613</td>\n",
       "      <td>2012-12-28</td>\n",
       "      <td>2012-12-28</td>\n",
       "      <td>...</td>\n",
       "      <td>대전광역시 서구 오금52길 513-52 (은경이박동)</td>\n",
       "      <td>Y</td>\n",
       "      <td>NaT</td>\n",
       "      <td>4617</td>\n",
       "      <td>N</td>\n",
       "      <td>35</td>\n",
       "      <td>POS003</td>\n",
       "      <td>DEP012</td>\n",
       "      <td>Director</td>\n",
       "      <td>Sales Division</td>\n",
       "    </tr>\n",
       "    <tr>\n",
       "      <th>158</th>\n",
       "      <td>E00314</td>\n",
       "      <td>이상철</td>\n",
       "      <td>Kathleen Mooney</td>\n",
       "      <td>Robert</td>\n",
       "      <td>820327-2910260</td>\n",
       "      <td>F</td>\n",
       "      <td>carolyngarza@example.org</td>\n",
       "      <td>011-040-9074</td>\n",
       "      <td>2012-08-02</td>\n",
       "      <td>2012-08-02</td>\n",
       "      <td>...</td>\n",
       "      <td>경기도 양양군 삼성로 98-54 (예준권이마을)</td>\n",
       "      <td>Y</td>\n",
       "      <td>NaT</td>\n",
       "      <td>4765</td>\n",
       "      <td>N</td>\n",
       "      <td>43</td>\n",
       "      <td>POS003</td>\n",
       "      <td>DEP021</td>\n",
       "      <td>Director</td>\n",
       "      <td>Development Division</td>\n",
       "    </tr>\n",
       "    <tr>\n",
       "      <th>190</th>\n",
       "      <td>E00389</td>\n",
       "      <td>김명숙</td>\n",
       "      <td>Craig Wise</td>\n",
       "      <td>Brittany</td>\n",
       "      <td>820401-2829822</td>\n",
       "      <td>F</td>\n",
       "      <td>williamlane@example.net</td>\n",
       "      <td>033-231-7955</td>\n",
       "      <td>2016-10-28</td>\n",
       "      <td>2016-10-28</td>\n",
       "      <td>...</td>\n",
       "      <td>강원도 화천군 서초중앙81가 390-54</td>\n",
       "      <td>Y</td>\n",
       "      <td>NaT</td>\n",
       "      <td>3217</td>\n",
       "      <td>N</td>\n",
       "      <td>43</td>\n",
       "      <td>POS004</td>\n",
       "      <td>DEP022</td>\n",
       "      <td>C-Level</td>\n",
       "      <td>Development Division</td>\n",
       "    </tr>\n",
       "    <tr>\n",
       "      <th>168</th>\n",
       "      <td>E00338</td>\n",
       "      <td>김수민</td>\n",
       "      <td>David Delgado</td>\n",
       "      <td>Kelsey</td>\n",
       "      <td>791121-2303578</td>\n",
       "      <td>F</td>\n",
       "      <td>ashley54@example.org</td>\n",
       "      <td>062-707-0705</td>\n",
       "      <td>2017-10-17</td>\n",
       "      <td>2017-10-17</td>\n",
       "      <td>...</td>\n",
       "      <td>경상북도 성남시 중원구 강남대거리 185</td>\n",
       "      <td>Y</td>\n",
       "      <td>NaT</td>\n",
       "      <td>2863</td>\n",
       "      <td>N</td>\n",
       "      <td>46</td>\n",
       "      <td>POS004</td>\n",
       "      <td>DEP026</td>\n",
       "      <td>C-Level</td>\n",
       "      <td>Sales Division</td>\n",
       "    </tr>\n",
       "  </tbody>\n",
       "</table>\n",
       "<p>480 rows × 21 columns</p>\n",
       "</div>"
      ],
      "text/plain": [
       "     EMP_ID NAME          ENG_NAME   NICKNAME     PERSONAL_ID GENDER  \\\n",
       "239  E00475  김현우     Kenneth Adams  Christina  980424-1134913      M   \n",
       "149  E00293  이성민  Melinda Mcdaniel   Jennifer  980726-1693169      M   \n",
       "358  E00743  이영환       Todd Wright       Ryan  901111-1475394      M   \n",
       "151  E00296  전영철    Jennifer Clark    Jeffrey  950427-2551640      F   \n",
       "153  E00299  최광수  Mrs. Amber Davis       Kyle  000322-4480292      F   \n",
       "..      ...  ...               ...        ...             ...    ...   \n",
       "362  E00749  한영순       Shirley Ray     Pamela  950504-1275722      M   \n",
       "360  E00746  성정호      Sarah Wilson      Jared  901106-2175073      F   \n",
       "158  E00314  이상철   Kathleen Mooney     Robert  820327-2910260      F   \n",
       "190  E00389  김명숙        Craig Wise   Brittany  820401-2829822      F   \n",
       "168  E00338  김수민     David Delgado     Kelsey  791121-2303578      F   \n",
       "\n",
       "                         EMAIL      PHONE_NUM    IN_DATE GROUP_IN_DATE  ...  \\\n",
       "239         mscott@example.com   02-1693-4292 2022-10-12    2021-09-03  ...   \n",
       "149       hjackson@example.org   033-451-9515 2024-05-28    2024-05-28  ...   \n",
       "358  crystallandry@example.org   063-818-7109 2020-08-24    2020-08-24  ...   \n",
       "151     haydenjane@example.com  070-0650-1917 2023-02-15    2023-02-15  ...   \n",
       "153        susan83@example.com   055-521-5681 2018-02-14    2018-02-14  ...   \n",
       "..                         ...            ...        ...           ...  ...   \n",
       "362      keithrich@example.net   055-792-4157 2011-11-07    2011-11-07  ...   \n",
       "360  jeffreygarcia@example.org   017-252-8613 2012-12-28    2012-12-28  ...   \n",
       "158   carolyngarza@example.org   011-040-9074 2012-08-02    2012-08-02  ...   \n",
       "190    williamlane@example.net   033-231-7955 2016-10-28    2016-10-28  ...   \n",
       "168       ashley54@example.org   062-707-0705 2017-10-17    2017-10-17  ...   \n",
       "\n",
       "                           ADDRESS CURRENT_EMP_YN OUT_DATE DURATION  PROB_YN  \\\n",
       "239           인천광역시 광진구 언주길 701-51              Y      NaT     1042        N   \n",
       "149              서울특별시 동작구 역삼가 615              Y      NaT      448        N   \n",
       "358   울산광역시 도봉구 삼성가 658-71 (성수이마을)              Y      NaT     1821        N   \n",
       "151           경기도 평택시 테헤란3로 852-54              Y      NaT      916        N   \n",
       "153          경기도 논산시 서초중앙042길 지하81              Y      NaT     2743        N   \n",
       "..                             ...            ...      ...      ...      ...   \n",
       "362      경상북도 고양시 삼성거리 421 (명자이장동)              Y      NaT     5034        N   \n",
       "360  대전광역시 서구 오금52길 513-52 (은경이박동)              Y      NaT     4617        N   \n",
       "158     경기도 양양군 삼성로 98-54 (예준권이마을)              Y      NaT     4765        N   \n",
       "190         강원도 화천군 서초중앙81가 390-54              Y      NaT     3217        N   \n",
       "168         경상북도 성남시 중원구 강남대거리 185              Y      NaT     2863        N   \n",
       "\n",
       "    AGE  POSITION_ID  DEP_ID POSITION_NAME         DIVISION_NAME  \n",
       "239  27       POS001  DEP013         Staff    Operating Division  \n",
       "149  27       POS001  DEP035         Staff    Operating Division  \n",
       "358  35       POS001  DEP031         Staff    Operating Division  \n",
       "151  30       POS001  DEP014         Staff    Operating Division  \n",
       "153  25       POS001  DEP016         Staff     Planning Division  \n",
       "..   ..          ...     ...           ...                   ...  \n",
       "362  30       POS003  DEP030      Director        Sales Division  \n",
       "360  35       POS003  DEP012      Director        Sales Division  \n",
       "158  43       POS003  DEP021      Director  Development Division  \n",
       "190  43       POS004  DEP022       C-Level  Development Division  \n",
       "168  46       POS004  DEP026       C-Level        Sales Division  \n",
       "\n",
       "[480 rows x 21 columns]"
      ]
     },
     "execution_count": 5,
     "metadata": {},
     "output_type": "execute_result"
    }
   ],
   "source": [
    "analysis_df"
   ]
  },
  {
   "cell_type": "code",
   "execution_count": 8,
   "id": "86d40619",
   "metadata": {},
   "outputs": [
    {
     "data": {
      "application/vnd.plotly.v1+json": {
       "config": {
        "plotlyServerURL": "https://plot.ly"
       },
       "data": [
        {
         "marker": {
          "color": "#636EFA"
         },
         "name": "Planning Division",
         "type": "box",
         "x": [
          "Staff",
          "Staff",
          "Staff",
          "Staff",
          "Staff",
          "Staff",
          "Manager",
          "Manager",
          "Manager",
          "Manager",
          "Manager",
          "Manager",
          "Manager",
          "Manager",
          "Manager",
          "Manager",
          "Director",
          "Director",
          "Staff",
          "Staff",
          "Staff",
          "Staff",
          "Staff",
          "Staff",
          "Staff",
          "Staff",
          "Staff",
          "Manager",
          "Manager",
          "Manager",
          "Manager",
          "Manager",
          "Manager",
          "Manager",
          "Manager",
          "Manager",
          "Director",
          "Director",
          "Staff",
          "Staff",
          "Staff",
          "Staff",
          "Staff",
          "Staff",
          "Staff",
          "Staff",
          "Staff",
          "Staff",
          "Staff",
          "Staff",
          "Staff",
          "Staff",
          "Staff",
          "Staff",
          "Staff",
          "Staff",
          "Staff",
          "Staff",
          "Staff",
          "Staff",
          "Staff",
          "Staff",
          "Staff",
          "Staff",
          "Staff",
          "Staff",
          "Staff",
          "Staff",
          "Manager",
          "Manager",
          "Manager",
          "Manager",
          "Manager",
          "Manager",
          "Manager",
          "Manager",
          "Manager",
          "Manager",
          "Manager",
          "Manager",
          "Manager",
          "Manager",
          "Manager",
          "Manager",
          "Manager",
          "Manager",
          "Manager",
          "Manager",
          "Manager",
          "Manager",
          "Manager",
          "Manager",
          "Manager",
          "Manager",
          "Manager",
          "Manager",
          "Manager",
          "Manager",
          "Manager",
          "Manager",
          "Manager",
          "Manager",
          "Manager",
          "Manager",
          "Manager",
          "Manager",
          "Manager",
          "Manager",
          "Manager",
          "Manager",
          "Manager",
          "Manager",
          "Manager",
          "Manager",
          "Manager",
          "Director",
          "Director",
          "Director",
          "Director",
          "Director",
          "Director",
          "Director"
         ],
         "y": {
          "bdata": "JhwdHxwmLCoqIyAjLCwgKisrIB4hHBofGxojIikrIC0lKSolLSUgKRobICImIRkdHSUbISEdHBomIiEdIxscIRoaHB8aKykqLCwoJh4hKRsfLRwiLS4tKysqLB4fKyMdISwjIiMjJRwlJCQrKiYmJCwtGRorIysrLC0=",
          "dtype": "i1"
         }
        },
        {
         "marker": {
          "color": "#EF553B"
         },
         "name": "Sales Division",
         "type": "box",
         "x": [
          "Staff",
          "Staff",
          "Manager",
          "Manager",
          "Manager",
          "Manager",
          "Manager",
          "Manager",
          "Manager",
          "Manager",
          "Director",
          "Director",
          "Staff",
          "Staff",
          "Staff",
          "Staff",
          "Manager",
          "Manager",
          "Manager",
          "Manager",
          "Manager",
          "Manager",
          "Manager",
          "Director",
          "Staff",
          "Staff",
          "Staff",
          "Staff",
          "Staff",
          "Staff",
          "Staff",
          "Staff",
          "Staff",
          "Staff",
          "Manager",
          "Manager",
          "Manager",
          "Manager",
          "Manager",
          "Manager",
          "Director",
          "Director",
          "Director",
          "Staff",
          "Staff",
          "Staff",
          "Staff",
          "Staff",
          "Staff",
          "Staff",
          "Staff",
          "Staff",
          "Staff",
          "Staff",
          "Staff",
          "Staff",
          "Staff",
          "Staff",
          "Staff",
          "Staff",
          "Staff",
          "Staff",
          "Staff",
          "Staff",
          "Staff",
          "Staff",
          "Staff",
          "Staff",
          "Staff",
          "Staff",
          "Manager",
          "Manager",
          "Manager",
          "Manager",
          "Manager",
          "Manager",
          "Manager",
          "Manager",
          "Manager",
          "Manager",
          "Manager",
          "Manager",
          "Manager",
          "Manager",
          "Manager",
          "Manager",
          "Manager",
          "Manager",
          "Manager",
          "Manager",
          "Manager",
          "Manager",
          "Manager",
          "Manager",
          "Manager",
          "Manager",
          "Manager",
          "Manager",
          "Manager",
          "Manager",
          "Manager",
          "Manager",
          "Manager",
          "Manager",
          "Manager",
          "Manager",
          "Manager",
          "Manager",
          "Manager",
          "Manager",
          "Manager",
          "Manager",
          "Manager",
          "Manager",
          "Manager",
          "Manager",
          "Manager",
          "Manager",
          "Manager",
          "Director",
          "Director",
          "Director",
          "Director",
          "Director",
          "Director",
          "Director",
          "Director",
          "Director",
          "Director",
          "Director",
          "Director",
          "C-Level"
         ],
         "y": {
          "bdata": "HSEsJyMjJSopIygbIxoiHR4dJigkLicpHCEiHSAdHigbIi0aKCgpHyktIx4gHSQcIiMjGiAbIiIaJB0jIxkZHh8bHyMaGRwrJBwjIiYiGyAnGhwkKiomJyUhLCsdHCEtLCseIBwpKiQiKSYoJB8rGS0lKi0hJCQrKycsKywpKR4eLCgu",
          "dtype": "i1"
         }
        },
        {
         "marker": {
          "color": "#00CC96"
         },
         "name": "Development Division",
         "type": "box",
         "x": [
          "Staff",
          "Staff",
          "Staff",
          "Staff",
          "Manager",
          "Manager",
          "Manager",
          "Manager",
          "Manager",
          "Manager",
          "Manager",
          "Manager",
          "Manager",
          "Director",
          "Staff",
          "Staff",
          "Staff",
          "Staff",
          "Staff",
          "Staff",
          "Manager",
          "Manager",
          "Manager",
          "Manager",
          "Manager",
          "Manager",
          "Manager",
          "Manager",
          "Manager",
          "Manager",
          "Director",
          "Director",
          "Director",
          "Director",
          "Director",
          "Staff",
          "Staff",
          "Staff",
          "Staff",
          "Staff",
          "Staff",
          "Staff",
          "Staff",
          "Staff",
          "Staff",
          "Staff",
          "Staff",
          "Staff",
          "Staff",
          "Staff",
          "Staff",
          "Staff",
          "Staff",
          "Staff",
          "Staff",
          "Staff",
          "Staff",
          "Manager",
          "Manager",
          "Manager",
          "Manager",
          "Manager",
          "Manager",
          "Manager",
          "Manager",
          "Manager",
          "Manager",
          "Manager",
          "Manager",
          "Manager",
          "Manager",
          "Manager",
          "Manager",
          "Manager",
          "Manager",
          "Manager",
          "Manager",
          "Manager",
          "Manager",
          "Manager",
          "Manager",
          "Manager",
          "Manager",
          "Manager",
          "Manager",
          "Manager",
          "Manager",
          "Manager",
          "Manager",
          "Manager",
          "Manager",
          "Manager",
          "Manager",
          "Manager",
          "Manager",
          "Manager",
          "Manager",
          "Manager",
          "Manager",
          "Manager",
          "Manager",
          "Manager",
          "Manager",
          "Manager",
          "Manager",
          "Manager",
          "Manager",
          "Manager",
          "Manager",
          "Director",
          "Director",
          "Director",
          "Director",
          "Director",
          "Director",
          "Director",
          "Director",
          "Director",
          "Director",
          "Director",
          "Director",
          "Director",
          "Director",
          "C-Level"
         ],
         "y": {
          "bdata": "GR4hHxwuJB0hHCsrKSkoLB8aJC0aKSMqKyMqIisnKy0kJysbHyAaIx4bHRkbKh0aGRwaHioeGh0fLB8tHCMgHBooJiYlHRssGigZGyMkKyktKSEpJiAjIx8kIi0tKB0mJyoeJygqGh8qGiYnKCwhJy0ZKygsKCYnICgmKw==",
          "dtype": "i1"
         }
        },
        {
         "marker": {
          "color": "#AB63FA"
         },
         "name": "Operating Division",
         "type": "box",
         "x": [
          "Staff",
          "Staff",
          "Staff",
          "Staff",
          "Staff",
          "Staff",
          "Staff",
          "Staff",
          "Manager",
          "Manager",
          "Manager",
          "Manager",
          "Manager",
          "Manager",
          "Manager",
          "Manager",
          "Manager",
          "Manager",
          "Director",
          "Director",
          "Staff",
          "Staff",
          "Staff",
          "Staff",
          "Staff",
          "Staff",
          "Manager",
          "Manager",
          "Manager",
          "Director",
          "Director",
          "Director",
          "Director",
          "Staff",
          "Staff",
          "Staff",
          "Staff",
          "Staff",
          "Staff",
          "Staff",
          "Staff",
          "Staff",
          "Staff",
          "Staff",
          "Staff",
          "Staff",
          "Staff",
          "Staff",
          "Staff",
          "Staff",
          "Staff",
          "Staff",
          "Staff",
          "Staff",
          "Staff",
          "Staff",
          "Staff",
          "Staff",
          "Staff",
          "Staff",
          "Staff",
          "Manager",
          "Manager",
          "Manager",
          "Manager",
          "Manager",
          "Manager",
          "Manager",
          "Manager",
          "Manager",
          "Manager",
          "Manager",
          "Manager",
          "Manager",
          "Manager",
          "Manager",
          "Manager",
          "Manager",
          "Manager",
          "Manager",
          "Manager",
          "Manager",
          "Manager",
          "Manager",
          "Manager",
          "Manager",
          "Manager",
          "Manager",
          "Manager",
          "Manager",
          "Manager",
          "Manager",
          "Manager",
          "Manager",
          "Manager",
          "Manager",
          "Manager",
          "Manager",
          "Manager",
          "Manager",
          "Director",
          "Director"
         ],
         "y": {
          "bdata": "IxsiHyEbHxoeIBkhKCYkJyciKSwjHhkbGh4nJSEnJSkmHygZHSAdGx4eJhsgHh4aJiMaGiYhKhseIh0fICIrICIoHyodKCgkKiAnGy0oKyoiJhwlHCQpJSAeKionHyssKSsnICcp",
          "dtype": "i1"
         }
        },
        {
         "marker": {
          "color": "#636EFA"
         },
         "name": "Strategy Office",
         "type": "box",
         "visible": false,
         "x": [
          "Staff",
          "Staff",
          "Staff",
          "Staff",
          "Staff",
          "Staff",
          "Manager",
          "Manager",
          "Manager",
          "Manager",
          "Manager",
          "Manager",
          "Manager",
          "Manager",
          "Manager",
          "Manager",
          "Director",
          "Director"
         ],
         "y": {
          "bdata": "JhwdHxwmLCoqIyAjLCwgKisr",
          "dtype": "i1"
         }
        },
        {
         "marker": {
          "color": "#EF553B"
         },
         "name": "Finance Office",
         "type": "box",
         "visible": false,
         "x": [
          "Staff",
          "Staff",
          "Staff",
          "Staff",
          "Staff",
          "Staff",
          "Staff",
          "Staff",
          "Staff",
          "Manager",
          "Manager",
          "Manager",
          "Manager",
          "Manager",
          "Manager",
          "Manager",
          "Manager",
          "Manager",
          "Director",
          "Director"
         ],
         "y": {
          "bdata": "IB4hHBofGxojIikrIC0lKSolLSU=",
          "dtype": "i1"
         }
        },
        {
         "marker": {
          "color": "#00CC96"
         },
         "name": "Planning Division (직속)",
         "type": "box",
         "visible": false,
         "x": [
          "Staff",
          "Staff",
          "Staff",
          "Staff",
          "Staff",
          "Staff",
          "Staff",
          "Staff",
          "Staff",
          "Staff",
          "Staff",
          "Staff",
          "Staff",
          "Staff",
          "Staff",
          "Staff",
          "Staff",
          "Staff",
          "Staff",
          "Staff",
          "Staff",
          "Staff",
          "Staff",
          "Staff",
          "Staff",
          "Staff",
          "Staff",
          "Staff",
          "Staff",
          "Staff",
          "Manager",
          "Manager",
          "Manager",
          "Manager",
          "Manager",
          "Manager",
          "Manager",
          "Manager",
          "Manager",
          "Manager",
          "Manager",
          "Manager",
          "Manager",
          "Manager",
          "Manager",
          "Manager",
          "Manager",
          "Manager",
          "Manager",
          "Manager",
          "Manager",
          "Manager",
          "Manager",
          "Manager",
          "Manager",
          "Manager",
          "Manager",
          "Manager",
          "Manager",
          "Manager",
          "Manager",
          "Manager",
          "Manager",
          "Manager",
          "Manager",
          "Manager",
          "Manager",
          "Manager",
          "Manager",
          "Manager",
          "Manager",
          "Manager",
          "Manager",
          "Manager",
          "Manager",
          "Manager",
          "Manager",
          "Director",
          "Director",
          "Director",
          "Director",
          "Director",
          "Director",
          "Director"
         ],
         "y": {
          "bdata": "ICkaGyAiJiEZHR0lGyEhHRwaJiIhHSMbHCEaGhwfGispKiwsKCYeISkbHy0cIi0uLSsrKiweHysjHSEsIyIjIyUcJSQkKyomJiQsLRkaKyMrKywt",
          "dtype": "i1"
         }
        },
        {
         "marker": {
          "color": "#636EFA"
         },
         "name": "Marketing Office",
         "type": "box",
         "visible": false,
         "x": [
          "Staff",
          "Staff",
          "Manager",
          "Manager",
          "Manager",
          "Manager",
          "Manager",
          "Manager",
          "Manager",
          "Manager",
          "Director",
          "Director"
         ],
         "y": {
          "bdata": "HSEsJyMjJSopIygb",
          "dtype": "i1"
         }
        },
        {
         "marker": {
          "color": "#EF553B"
         },
         "name": "Domestic Sales Office",
         "type": "box",
         "visible": false,
         "x": [
          "Staff",
          "Staff",
          "Staff",
          "Staff",
          "Manager",
          "Manager",
          "Manager",
          "Manager",
          "Manager",
          "Manager",
          "Manager",
          "Director"
         ],
         "y": {
          "bdata": "IxoiHR4dJigkLicp",
          "dtype": "i1"
         }
        },
        {
         "marker": {
          "color": "#00CC96"
         },
         "name": "Global Sales Office",
         "type": "box",
         "visible": false,
         "x": [
          "Staff",
          "Staff",
          "Staff",
          "Staff",
          "Staff",
          "Staff",
          "Staff",
          "Staff",
          "Staff",
          "Staff",
          "Manager",
          "Manager",
          "Manager",
          "Manager",
          "Manager",
          "Manager",
          "Director",
          "Director",
          "Director"
         ],
         "y": {
          "bdata": "HCEiHSAdHigbIi0aKCgpHyktIw==",
          "dtype": "i1"
         }
        },
        {
         "marker": {
          "color": "#AB63FA"
         },
         "name": "Sales Division (직속)",
         "type": "box",
         "visible": false,
         "x": [
          "Staff",
          "Staff",
          "Staff",
          "Staff",
          "Staff",
          "Staff",
          "Staff",
          "Staff",
          "Staff",
          "Staff",
          "Staff",
          "Staff",
          "Staff",
          "Staff",
          "Staff",
          "Staff",
          "Staff",
          "Staff",
          "Staff",
          "Staff",
          "Staff",
          "Staff",
          "Staff",
          "Staff",
          "Staff",
          "Staff",
          "Staff",
          "Manager",
          "Manager",
          "Manager",
          "Manager",
          "Manager",
          "Manager",
          "Manager",
          "Manager",
          "Manager",
          "Manager",
          "Manager",
          "Manager",
          "Manager",
          "Manager",
          "Manager",
          "Manager",
          "Manager",
          "Manager",
          "Manager",
          "Manager",
          "Manager",
          "Manager",
          "Manager",
          "Manager",
          "Manager",
          "Manager",
          "Manager",
          "Manager",
          "Manager",
          "Manager",
          "Manager",
          "Manager",
          "Manager",
          "Manager",
          "Manager",
          "Manager",
          "Manager",
          "Manager",
          "Manager",
          "Manager",
          "Manager",
          "Manager",
          "Manager",
          "Manager",
          "Manager",
          "Manager",
          "Manager",
          "Manager",
          "Manager",
          "Director",
          "Director",
          "Director",
          "Director",
          "Director",
          "Director",
          "Director",
          "Director",
          "Director",
          "Director",
          "Director",
          "Director",
          "C-Level"
         ],
         "y": {
          "bdata": "HiAdJBwiIyMaIBsiIhokHSMjGRkeHxsfIxoZHCskHCMiJiIbICcaHCQqKiYnJSEsKx0cIS0sKx4gHCkqJCIpJigkHysZLSUqLSEkJCsrJywrLCkpHh4sKC4=",
          "dtype": "i1"
         }
        },
        {
         "marker": {
          "color": "#636EFA"
         },
         "name": "R&D Office",
         "type": "box",
         "visible": false,
         "x": [
          "Staff",
          "Staff",
          "Staff",
          "Staff",
          "Manager",
          "Manager",
          "Manager",
          "Manager",
          "Manager",
          "Manager",
          "Manager",
          "Manager",
          "Manager",
          "Director"
         ],
         "y": {
          "bdata": "GR4hHxwuJB0hHCsrKSk=",
          "dtype": "i1"
         }
        },
        {
         "marker": {
          "color": "#EF553B"
         },
         "name": "QA Office",
         "type": "box",
         "visible": false,
         "x": [
          "Staff",
          "Staff",
          "Staff",
          "Staff",
          "Staff",
          "Staff",
          "Manager",
          "Manager",
          "Manager",
          "Manager",
          "Manager",
          "Manager",
          "Manager",
          "Manager",
          "Manager",
          "Manager",
          "Director",
          "Director",
          "Director",
          "Director",
          "Director"
         ],
         "y": {
          "bdata": "KCwfGiQtGikjKisjKiIrJystJCcr",
          "dtype": "i1"
         }
        },
        {
         "marker": {
          "color": "#00CC96"
         },
         "name": "Development Division (직속)",
         "type": "box",
         "visible": false,
         "x": [
          "Staff",
          "Staff",
          "Staff",
          "Staff",
          "Staff",
          "Staff",
          "Staff",
          "Staff",
          "Staff",
          "Staff",
          "Staff",
          "Staff",
          "Staff",
          "Staff",
          "Staff",
          "Staff",
          "Staff",
          "Staff",
          "Staff",
          "Staff",
          "Staff",
          "Staff",
          "Manager",
          "Manager",
          "Manager",
          "Manager",
          "Manager",
          "Manager",
          "Manager",
          "Manager",
          "Manager",
          "Manager",
          "Manager",
          "Manager",
          "Manager",
          "Manager",
          "Manager",
          "Manager",
          "Manager",
          "Manager",
          "Manager",
          "Manager",
          "Manager",
          "Manager",
          "Manager",
          "Manager",
          "Manager",
          "Manager",
          "Manager",
          "Manager",
          "Manager",
          "Manager",
          "Manager",
          "Manager",
          "Manager",
          "Manager",
          "Manager",
          "Manager",
          "Manager",
          "Manager",
          "Manager",
          "Manager",
          "Manager",
          "Manager",
          "Manager",
          "Manager",
          "Manager",
          "Manager",
          "Manager",
          "Manager",
          "Manager",
          "Manager",
          "Manager",
          "Manager",
          "Director",
          "Director",
          "Director",
          "Director",
          "Director",
          "Director",
          "Director",
          "Director",
          "Director",
          "Director",
          "Director",
          "Director",
          "Director",
          "Director",
          "C-Level"
         ],
         "y": {
          "bdata": "Gx8gGiMeGx0ZGyodGhkcGh4qHhodHywfLRwjIBwaKCYmJR0bLBooGRsjJCspLSkhKSYgIyMfJCItLSgdJicqHicoKhofKhomJygsISctGSsoLCgmJyAoJis=",
          "dtype": "i1"
         }
        },
        {
         "marker": {
          "color": "#636EFA"
         },
         "name": "Engineering Office",
         "type": "box",
         "visible": false,
         "x": [
          "Staff",
          "Staff",
          "Staff",
          "Staff",
          "Staff",
          "Staff",
          "Staff",
          "Staff",
          "Manager",
          "Manager",
          "Manager",
          "Manager",
          "Manager",
          "Manager",
          "Manager",
          "Manager",
          "Manager",
          "Manager",
          "Director",
          "Director"
         ],
         "y": {
          "bdata": "IxsiHyEbHxoeIBkhKCYkJyciKSw=",
          "dtype": "i1"
         }
        },
        {
         "marker": {
          "color": "#EF553B"
         },
         "name": "Production Office",
         "type": "box",
         "visible": false,
         "x": [
          "Staff",
          "Staff",
          "Staff",
          "Staff",
          "Staff",
          "Staff",
          "Manager",
          "Manager",
          "Manager",
          "Director",
          "Director",
          "Director",
          "Director"
         ],
         "y": {
          "bdata": "Ix4ZGxoeJyUhJyUpJg==",
          "dtype": "i1"
         }
        },
        {
         "marker": {
          "color": "#00CC96"
         },
         "name": "Operating Division (직속)",
         "type": "box",
         "visible": false,
         "x": [
          "Staff",
          "Staff",
          "Staff",
          "Staff",
          "Staff",
          "Staff",
          "Staff",
          "Staff",
          "Staff",
          "Staff",
          "Staff",
          "Staff",
          "Staff",
          "Staff",
          "Staff",
          "Staff",
          "Staff",
          "Staff",
          "Staff",
          "Staff",
          "Staff",
          "Staff",
          "Staff",
          "Staff",
          "Staff",
          "Staff",
          "Staff",
          "Staff",
          "Manager",
          "Manager",
          "Manager",
          "Manager",
          "Manager",
          "Manager",
          "Manager",
          "Manager",
          "Manager",
          "Manager",
          "Manager",
          "Manager",
          "Manager",
          "Manager",
          "Manager",
          "Manager",
          "Manager",
          "Manager",
          "Manager",
          "Manager",
          "Manager",
          "Manager",
          "Manager",
          "Manager",
          "Manager",
          "Manager",
          "Manager",
          "Manager",
          "Manager",
          "Manager",
          "Manager",
          "Manager",
          "Manager",
          "Manager",
          "Manager",
          "Manager",
          "Manager",
          "Manager",
          "Manager",
          "Director",
          "Director"
         ],
         "y": {
          "bdata": "HygZHSAdGx4eJhsgHh4aJiMaGiYhKhseIh0fICIrICIoHyodKCgkKiAnGy0oKyoiJhwlHCQpJSAeKionHyssKSsnICcp",
          "dtype": "i1"
         }
        }
       ],
       "layout": {
        "annotations": [
         {
          "align": "left",
          "showarrow": false,
          "text": "조직 선택:",
          "x": 0,
          "y": 1.08,
          "yref": "paper"
         }
        ],
        "boxmode": "group",
        "font": {
         "size": 14
        },
        "height": 700,
        "legend": {
         "title": {
          "text": "Division"
         }
        },
        "template": {
         "data": {
          "bar": [
           {
            "error_x": {
             "color": "#2a3f5f"
            },
            "error_y": {
             "color": "#2a3f5f"
            },
            "marker": {
             "line": {
              "color": "#E5ECF6",
              "width": 0.5
             },
             "pattern": {
              "fillmode": "overlay",
              "size": 10,
              "solidity": 0.2
             }
            },
            "type": "bar"
           }
          ],
          "barpolar": [
           {
            "marker": {
             "line": {
              "color": "#E5ECF6",
              "width": 0.5
             },
             "pattern": {
              "fillmode": "overlay",
              "size": 10,
              "solidity": 0.2
             }
            },
            "type": "barpolar"
           }
          ],
          "carpet": [
           {
            "aaxis": {
             "endlinecolor": "#2a3f5f",
             "gridcolor": "white",
             "linecolor": "white",
             "minorgridcolor": "white",
             "startlinecolor": "#2a3f5f"
            },
            "baxis": {
             "endlinecolor": "#2a3f5f",
             "gridcolor": "white",
             "linecolor": "white",
             "minorgridcolor": "white",
             "startlinecolor": "#2a3f5f"
            },
            "type": "carpet"
           }
          ],
          "choropleth": [
           {
            "colorbar": {
             "outlinewidth": 0,
             "ticks": ""
            },
            "type": "choropleth"
           }
          ],
          "contour": [
           {
            "colorbar": {
             "outlinewidth": 0,
             "ticks": ""
            },
            "colorscale": [
             [
              0,
              "#0d0887"
             ],
             [
              0.1111111111111111,
              "#46039f"
             ],
             [
              0.2222222222222222,
              "#7201a8"
             ],
             [
              0.3333333333333333,
              "#9c179e"
             ],
             [
              0.4444444444444444,
              "#bd3786"
             ],
             [
              0.5555555555555556,
              "#d8576b"
             ],
             [
              0.6666666666666666,
              "#ed7953"
             ],
             [
              0.7777777777777778,
              "#fb9f3a"
             ],
             [
              0.8888888888888888,
              "#fdca26"
             ],
             [
              1,
              "#f0f921"
             ]
            ],
            "type": "contour"
           }
          ],
          "contourcarpet": [
           {
            "colorbar": {
             "outlinewidth": 0,
             "ticks": ""
            },
            "type": "contourcarpet"
           }
          ],
          "heatmap": [
           {
            "colorbar": {
             "outlinewidth": 0,
             "ticks": ""
            },
            "colorscale": [
             [
              0,
              "#0d0887"
             ],
             [
              0.1111111111111111,
              "#46039f"
             ],
             [
              0.2222222222222222,
              "#7201a8"
             ],
             [
              0.3333333333333333,
              "#9c179e"
             ],
             [
              0.4444444444444444,
              "#bd3786"
             ],
             [
              0.5555555555555556,
              "#d8576b"
             ],
             [
              0.6666666666666666,
              "#ed7953"
             ],
             [
              0.7777777777777778,
              "#fb9f3a"
             ],
             [
              0.8888888888888888,
              "#fdca26"
             ],
             [
              1,
              "#f0f921"
             ]
            ],
            "type": "heatmap"
           }
          ],
          "histogram": [
           {
            "marker": {
             "pattern": {
              "fillmode": "overlay",
              "size": 10,
              "solidity": 0.2
             }
            },
            "type": "histogram"
           }
          ],
          "histogram2d": [
           {
            "colorbar": {
             "outlinewidth": 0,
             "ticks": ""
            },
            "colorscale": [
             [
              0,
              "#0d0887"
             ],
             [
              0.1111111111111111,
              "#46039f"
             ],
             [
              0.2222222222222222,
              "#7201a8"
             ],
             [
              0.3333333333333333,
              "#9c179e"
             ],
             [
              0.4444444444444444,
              "#bd3786"
             ],
             [
              0.5555555555555556,
              "#d8576b"
             ],
             [
              0.6666666666666666,
              "#ed7953"
             ],
             [
              0.7777777777777778,
              "#fb9f3a"
             ],
             [
              0.8888888888888888,
              "#fdca26"
             ],
             [
              1,
              "#f0f921"
             ]
            ],
            "type": "histogram2d"
           }
          ],
          "histogram2dcontour": [
           {
            "colorbar": {
             "outlinewidth": 0,
             "ticks": ""
            },
            "colorscale": [
             [
              0,
              "#0d0887"
             ],
             [
              0.1111111111111111,
              "#46039f"
             ],
             [
              0.2222222222222222,
              "#7201a8"
             ],
             [
              0.3333333333333333,
              "#9c179e"
             ],
             [
              0.4444444444444444,
              "#bd3786"
             ],
             [
              0.5555555555555556,
              "#d8576b"
             ],
             [
              0.6666666666666666,
              "#ed7953"
             ],
             [
              0.7777777777777778,
              "#fb9f3a"
             ],
             [
              0.8888888888888888,
              "#fdca26"
             ],
             [
              1,
              "#f0f921"
             ]
            ],
            "type": "histogram2dcontour"
           }
          ],
          "mesh3d": [
           {
            "colorbar": {
             "outlinewidth": 0,
             "ticks": ""
            },
            "type": "mesh3d"
           }
          ],
          "parcoords": [
           {
            "line": {
             "colorbar": {
              "outlinewidth": 0,
              "ticks": ""
             }
            },
            "type": "parcoords"
           }
          ],
          "pie": [
           {
            "automargin": true,
            "type": "pie"
           }
          ],
          "scatter": [
           {
            "fillpattern": {
             "fillmode": "overlay",
             "size": 10,
             "solidity": 0.2
            },
            "type": "scatter"
           }
          ],
          "scatter3d": [
           {
            "line": {
             "colorbar": {
              "outlinewidth": 0,
              "ticks": ""
             }
            },
            "marker": {
             "colorbar": {
              "outlinewidth": 0,
              "ticks": ""
             }
            },
            "type": "scatter3d"
           }
          ],
          "scattercarpet": [
           {
            "marker": {
             "colorbar": {
              "outlinewidth": 0,
              "ticks": ""
             }
            },
            "type": "scattercarpet"
           }
          ],
          "scattergeo": [
           {
            "marker": {
             "colorbar": {
              "outlinewidth": 0,
              "ticks": ""
             }
            },
            "type": "scattergeo"
           }
          ],
          "scattergl": [
           {
            "marker": {
             "colorbar": {
              "outlinewidth": 0,
              "ticks": ""
             }
            },
            "type": "scattergl"
           }
          ],
          "scattermap": [
           {
            "marker": {
             "colorbar": {
              "outlinewidth": 0,
              "ticks": ""
             }
            },
            "type": "scattermap"
           }
          ],
          "scattermapbox": [
           {
            "marker": {
             "colorbar": {
              "outlinewidth": 0,
              "ticks": ""
             }
            },
            "type": "scattermapbox"
           }
          ],
          "scatterpolar": [
           {
            "marker": {
             "colorbar": {
              "outlinewidth": 0,
              "ticks": ""
             }
            },
            "type": "scatterpolar"
           }
          ],
          "scatterpolargl": [
           {
            "marker": {
             "colorbar": {
              "outlinewidth": 0,
              "ticks": ""
             }
            },
            "type": "scatterpolargl"
           }
          ],
          "scatterternary": [
           {
            "marker": {
             "colorbar": {
              "outlinewidth": 0,
              "ticks": ""
             }
            },
            "type": "scatterternary"
           }
          ],
          "surface": [
           {
            "colorbar": {
             "outlinewidth": 0,
             "ticks": ""
            },
            "colorscale": [
             [
              0,
              "#0d0887"
             ],
             [
              0.1111111111111111,
              "#46039f"
             ],
             [
              0.2222222222222222,
              "#7201a8"
             ],
             [
              0.3333333333333333,
              "#9c179e"
             ],
             [
              0.4444444444444444,
              "#bd3786"
             ],
             [
              0.5555555555555556,
              "#d8576b"
             ],
             [
              0.6666666666666666,
              "#ed7953"
             ],
             [
              0.7777777777777778,
              "#fb9f3a"
             ],
             [
              0.8888888888888888,
              "#fdca26"
             ],
             [
              1,
              "#f0f921"
             ]
            ],
            "type": "surface"
           }
          ],
          "table": [
           {
            "cells": {
             "fill": {
              "color": "#EBF0F8"
             },
             "line": {
              "color": "white"
             }
            },
            "header": {
             "fill": {
              "color": "#C8D4E3"
             },
             "line": {
              "color": "white"
             }
            },
            "type": "table"
           }
          ]
         },
         "layout": {
          "annotationdefaults": {
           "arrowcolor": "#2a3f5f",
           "arrowhead": 0,
           "arrowwidth": 1
          },
          "autotypenumbers": "strict",
          "coloraxis": {
           "colorbar": {
            "outlinewidth": 0,
            "ticks": ""
           }
          },
          "colorscale": {
           "diverging": [
            [
             0,
             "#8e0152"
            ],
            [
             0.1,
             "#c51b7d"
            ],
            [
             0.2,
             "#de77ae"
            ],
            [
             0.3,
             "#f1b6da"
            ],
            [
             0.4,
             "#fde0ef"
            ],
            [
             0.5,
             "#f7f7f7"
            ],
            [
             0.6,
             "#e6f5d0"
            ],
            [
             0.7,
             "#b8e186"
            ],
            [
             0.8,
             "#7fbc41"
            ],
            [
             0.9,
             "#4d9221"
            ],
            [
             1,
             "#276419"
            ]
           ],
           "sequential": [
            [
             0,
             "#0d0887"
            ],
            [
             0.1111111111111111,
             "#46039f"
            ],
            [
             0.2222222222222222,
             "#7201a8"
            ],
            [
             0.3333333333333333,
             "#9c179e"
            ],
            [
             0.4444444444444444,
             "#bd3786"
            ],
            [
             0.5555555555555556,
             "#d8576b"
            ],
            [
             0.6666666666666666,
             "#ed7953"
            ],
            [
             0.7777777777777778,
             "#fb9f3a"
            ],
            [
             0.8888888888888888,
             "#fdca26"
            ],
            [
             1,
             "#f0f921"
            ]
           ],
           "sequentialminus": [
            [
             0,
             "#0d0887"
            ],
            [
             0.1111111111111111,
             "#46039f"
            ],
            [
             0.2222222222222222,
             "#7201a8"
            ],
            [
             0.3333333333333333,
             "#9c179e"
            ],
            [
             0.4444444444444444,
             "#bd3786"
            ],
            [
             0.5555555555555556,
             "#d8576b"
            ],
            [
             0.6666666666666666,
             "#ed7953"
            ],
            [
             0.7777777777777778,
             "#fb9f3a"
            ],
            [
             0.8888888888888888,
             "#fdca26"
            ],
            [
             1,
             "#f0f921"
            ]
           ]
          },
          "colorway": [
           "#636efa",
           "#EF553B",
           "#00cc96",
           "#ab63fa",
           "#FFA15A",
           "#19d3f3",
           "#FF6692",
           "#B6E880",
           "#FF97FF",
           "#FECB52"
          ],
          "font": {
           "color": "#2a3f5f"
          },
          "geo": {
           "bgcolor": "white",
           "lakecolor": "white",
           "landcolor": "#E5ECF6",
           "showlakes": true,
           "showland": true,
           "subunitcolor": "white"
          },
          "hoverlabel": {
           "align": "left"
          },
          "hovermode": "closest",
          "mapbox": {
           "style": "light"
          },
          "paper_bgcolor": "white",
          "plot_bgcolor": "#E5ECF6",
          "polar": {
           "angularaxis": {
            "gridcolor": "white",
            "linecolor": "white",
            "ticks": ""
           },
           "bgcolor": "#E5ECF6",
           "radialaxis": {
            "gridcolor": "white",
            "linecolor": "white",
            "ticks": ""
           }
          },
          "scene": {
           "xaxis": {
            "backgroundcolor": "#E5ECF6",
            "gridcolor": "white",
            "gridwidth": 2,
            "linecolor": "white",
            "showbackground": true,
            "ticks": "",
            "zerolinecolor": "white"
           },
           "yaxis": {
            "backgroundcolor": "#E5ECF6",
            "gridcolor": "white",
            "gridwidth": 2,
            "linecolor": "white",
            "showbackground": true,
            "ticks": "",
            "zerolinecolor": "white"
           },
           "zaxis": {
            "backgroundcolor": "#E5ECF6",
            "gridcolor": "white",
            "gridwidth": 2,
            "linecolor": "white",
            "showbackground": true,
            "ticks": "",
            "zerolinecolor": "white"
           }
          },
          "shapedefaults": {
           "line": {
            "color": "#2a3f5f"
           }
          },
          "ternary": {
           "aaxis": {
            "gridcolor": "white",
            "linecolor": "white",
            "ticks": ""
           },
           "baxis": {
            "gridcolor": "white",
            "linecolor": "white",
            "ticks": ""
           },
           "bgcolor": "#E5ECF6",
           "caxis": {
            "gridcolor": "white",
            "linecolor": "white",
            "ticks": ""
           }
          },
          "title": {
           "x": 0.05
          },
          "xaxis": {
           "automargin": true,
           "gridcolor": "white",
           "linecolor": "white",
           "ticks": "",
           "title": {
            "standoff": 15
           },
           "zerolinecolor": "white",
           "zerolinewidth": 2
          },
          "yaxis": {
           "automargin": true,
           "gridcolor": "white",
           "linecolor": "white",
           "ticks": "",
           "title": {
            "standoff": 15
           },
           "zerolinecolor": "white",
           "zerolinewidth": 2
          }
         }
        },
        "title": {
         "text": "직위별 연령 분포 현황"
        },
        "updatemenus": [
         {
          "active": 0,
          "buttons": [
           {
            "args": [
             {
              "visible": [
               true,
               true,
               true,
               true,
               false,
               false,
               false,
               false,
               false,
               false,
               false,
               false,
               false,
               false,
               false,
               false,
               false
              ]
             },
             {
              "legend_title_text": "Division",
              "title": "전체 조직의 직위별 연령 분포"
             }
            ],
            "label": "전체",
            "method": "update"
           },
           {
            "args": [
             {
              "visible": [
               false,
               false,
               false,
               false,
               true,
               true,
               true,
               false,
               false,
               false,
               false,
               false,
               false,
               false,
               false,
               false,
               false
              ]
             },
             {
              "legend_title_text": "Office",
              "title": "Planning Division 내 직위별 연령 분포"
             }
            ],
            "label": "Planning Division",
            "method": "update"
           },
           {
            "args": [
             {
              "visible": [
               false,
               false,
               false,
               false,
               false,
               false,
               false,
               true,
               true,
               true,
               true,
               false,
               false,
               false,
               false,
               false,
               false
              ]
             },
             {
              "legend_title_text": "Office",
              "title": "Sales Division 내 직위별 연령 분포"
             }
            ],
            "label": "Sales Division",
            "method": "update"
           },
           {
            "args": [
             {
              "visible": [
               false,
               false,
               false,
               false,
               false,
               false,
               false,
               false,
               false,
               false,
               false,
               true,
               true,
               true,
               false,
               false,
               false
              ]
             },
             {
              "legend_title_text": "Office",
              "title": "Development Division 내 직위별 연령 분포"
             }
            ],
            "label": "Development Division",
            "method": "update"
           },
           {
            "args": [
             {
              "visible": [
               false,
               false,
               false,
               false,
               false,
               false,
               false,
               false,
               false,
               false,
               false,
               false,
               false,
               false,
               true,
               true,
               true
              ]
             },
             {
              "legend_title_text": "Office",
              "title": "Operating Division 내 직위별 연령 분포"
             }
            ],
            "label": "Operating Division",
            "method": "update"
           }
          ],
          "direction": "down",
          "pad": {
           "r": 10,
           "t": 10
          },
          "showactive": true,
          "x": 0.01,
          "xanchor": "left",
          "y": 1.1,
          "yanchor": "top"
         }
        ],
        "xaxis": {
         "title": {
          "text": "직위"
         }
        },
        "yaxis": {
         "range": [
          20,
          51
         ],
         "title": {
          "text": "연령"
         }
        }
       }
      }
     },
     "metadata": {},
     "output_type": "display_data"
    }
   ],
   "source": [
    "import pandas as pd\n",
    "import numpy as np\n",
    "import plotly.graph_objects as go\n",
    "import plotly.io as pio\n",
    "import plotly.express as px\n",
    "import datetime\n",
    "\n",
    "# --- 1. 데이터 임포트 ---\n",
    "from services.tables.HR_Core.basic_info_table import emp_df\n",
    "from services.tables.HR_Core.position_info_table import position_info_df\n",
    "from services.tables.HR_Core.department_info_table import department_info_df\n",
    "from services.tables.HR_Core.position_table import position_df\n",
    "from services.tables.HR_Core.department_table import division_order, office_order, department_df\n",
    "from services.helpers.utils import calculate_age\n",
    "\n",
    "def create_figure():\n",
    "    \"\"\"\n",
    "    제안 3: 조직 세대교체 현황 분석 그래프를 생성합니다. (Office 드릴다운 추가)\n",
    "    \"\"\"\n",
    "    # --- 2. 데이터 준비 및 가공 ---\n",
    "    current_emps_df = emp_df[emp_df['CURRENT_EMP_YN'] == 'Y'].copy()\n",
    "    current_emps_df['AGE'] = current_emps_df['PERSONAL_ID'].apply(calculate_age)\n",
    "\n",
    "    current_positions = position_info_df[position_info_df['GRADE_END_DATE'].isnull()][['EMP_ID', 'POSITION_ID']]\n",
    "    current_depts = department_info_df[department_info_df['DEP_APP_END_DATE'].isnull()][['EMP_ID', 'DEP_ID']]\n",
    "    \n",
    "    analysis_df = pd.merge(current_emps_df, current_positions, on='EMP_ID', how='left')\n",
    "    analysis_df = pd.merge(analysis_df, current_depts, on='EMP_ID', how='left')\n",
    "    analysis_df = pd.merge(analysis_df, position_df[['POSITION_ID', 'POSITION_NAME']].drop_duplicates(), on='POSITION_ID', how='left')\n",
    "\n",
    "    div_map = department_df[department_df['DEP_LEVEL'] == 2][['DEP_ID', 'DEP_NAME']].rename(columns={'DEP_NAME': 'DIVISION_NAME'})\n",
    "    office_map = pd.merge(department_df[department_df['DEP_LEVEL'] == 3], div_map, left_on='UP_DEP_ID', right_on='DEP_ID', suffixes=('', '_div'))[['DEP_ID', 'DIVISION_NAME']]\n",
    "    team_map = pd.merge(department_df[department_df['DEP_LEVEL'] == 4], office_map, left_on='UP_DEP_ID', right_on='DEP_ID', suffixes=('', '_office'))[['DEP_ID', 'DIVISION_NAME']]\n",
    "    dept_to_div_map = pd.concat([\n",
    "        div_map.rename(columns={'DEP_ID': 'DEP_ID_MAP'}),\n",
    "        office_map.rename(columns={'DEP_ID': 'DEP_ID_MAP'}),\n",
    "        team_map.rename(columns={'DEP_ID': 'DEP_ID_MAP'})\n",
    "    ]).rename(columns={'DEP_ID_MAP': 'DEP_ID'})\n",
    "    analysis_df = pd.merge(analysis_df, dept_to_div_map[['DEP_ID', 'DIVISION_NAME']], on='DEP_ID', how='left')\n",
    "    \n",
    "    # Office 이름을 붙이기 위해 department_df와 merge\n",
    "    analysis_df = pd.merge(analysis_df, department_df[['DEP_ID', 'DEP_NAME']], on='DEP_ID', how='left')\n",
    "    analysis_df['OFFICE_NAME'] = np.where(analysis_df['DEP_NAME'].str.contains('Office'), analysis_df['DEP_NAME'], analysis_df['DIVISION_NAME'] + ' (직속)')\n",
    "    \n",
    "    analysis_df = analysis_df.dropna(subset=['POSITION_NAME', 'DIVISION_NAME', 'AGE', 'OFFICE_NAME'])\n",
    "    \n",
    "    position_order = ['Staff', 'Manager', 'Director', 'C-Level']\n",
    "    analysis_df['POSITION_NAME'] = pd.Categorical(analysis_df['POSITION_NAME'], categories=position_order, ordered=True)\n",
    "    analysis_df['DIVISION_NAME'] = pd.Categorical(analysis_df['DIVISION_NAME'], categories=division_order, ordered=True)\n",
    "    analysis_df['OFFICE_NAME'] = pd.Categorical(analysis_df['OFFICE_NAME'], categories=office_order, ordered=True)\n",
    "    analysis_df = analysis_df.sort_values(['DIVISION_NAME', 'OFFICE_NAME', 'POSITION_NAME'])\n",
    "\n",
    "    y_min, y_max = analysis_df['AGE'].min(), analysis_df['AGE'].max()\n",
    "    fixed_y_range = [y_min - 5, y_max + 5]\n",
    "\n",
    "    # --- 3. Plotly 인터랙티브 그래프 생성 ---\n",
    "    fig = go.Figure()\n",
    "    colors = px.colors.qualitative.Plotly\n",
    "    \n",
    "    # 1. '전체' 뷰 트레이스 추가 (Division 기준)\n",
    "    for i, div_name in enumerate(division_order):\n",
    "        df_filtered = analysis_df[analysis_df['DIVISION_NAME'] == div_name]\n",
    "        fig.add_trace(go.Box(x=df_filtered['POSITION_NAME'], y=df_filtered['AGE'], name=div_name, marker_color=colors[i]))\n",
    "\n",
    "    # 2. '상세' 뷰 트레이스 추가 (Office 기준, 초기는 숨김)\n",
    "    office_traces_map = {}\n",
    "    trace_idx_counter = len(fig.data)\n",
    "    for i, div_name in enumerate(division_order):\n",
    "        office_div_df = analysis_df[analysis_df['DIVISION_NAME'] == div_name]\n",
    "        offices_in_div = [o for o in office_order if o in office_div_df['OFFICE_NAME'].unique()]\n",
    "        office_traces_map[div_name] = []\n",
    "        for j, office_name in enumerate(offices_in_div):\n",
    "            df_filtered = office_div_df[office_div_df['OFFICE_NAME'] == office_name]\n",
    "            fig.add_trace(go.Box(\n",
    "                x=df_filtered['POSITION_NAME'], y=df_filtered['AGE'], name=office_name, \n",
    "                visible=False, marker_color=colors[j % len(colors)]\n",
    "            ))\n",
    "            office_traces_map[div_name].append(trace_idx_counter)\n",
    "            trace_idx_counter += 1\n",
    "\n",
    "    # --- 4. 드롭다운 메뉴 및 레이아웃 업데이트 ---\n",
    "    buttons = []\n",
    "    buttons.append(dict(label='전체', method='update', \n",
    "                        args=[{'visible': [True]*len(division_order) + [False]*(len(fig.data)-len(division_order))},\n",
    "                              {'title': '전체 조직의 직위별 연령 분포', 'legend_title_text': 'Division'}]))\n",
    "\n",
    "    for div_name in division_order:\n",
    "        visibility_mask = [False] * len(fig.data)\n",
    "        for trace_idx in office_traces_map.get(div_name, []):\n",
    "            visibility_mask[trace_idx] = True\n",
    "        buttons.append(dict(label=f'{div_name}', method='update',\n",
    "                            args=[{'visible': visibility_mask},\n",
    "                                  {'title': f'{div_name} 내 직위별 연령 분포', 'legend_title_text': 'Office'}]))\n",
    "\n",
    "    fig.update_layout(\n",
    "        updatemenus=[dict(\n",
    "            active=0, buttons=buttons, direction=\"down\",\n",
    "            pad={\"r\": 10, \"t\": 10}, showactive=True,\n",
    "            x=0.01, xanchor=\"left\", y=1.1, yanchor=\"top\"\n",
    "        )],\n",
    "        title_text='직위별 연령 분포 현황',\n",
    "        xaxis_title='직위', yaxis_title='연령',\n",
    "        font_size=14, height=700,\n",
    "        boxmode='group',\n",
    "        legend_title_text='Division',\n",
    "        annotations=[dict(text=\"조직 선택:\", showarrow=False, x=0, y=1.08, yref=\"paper\", align=\"left\")],\n",
    "        yaxis_range=fixed_y_range\n",
    "    )\n",
    "    \n",
    "    return fig\n",
    "\n",
    "# 이 파일을 직접 실행할 경우 그래프를 생성하여 보여줍니다.\n",
    "if __name__ == '__main__':\n",
    "    pio.renderers.default = 'vscode'\n",
    "    fig = create_figure()\n",
    "    fig.show()"
   ]
  },
  {
   "cell_type": "code",
   "execution_count": null,
   "id": "95bc2e7d",
   "metadata": {},
   "outputs": [],
   "source": []
  }
 ],
 "metadata": {
  "kernelspec": {
   "display_name": "Python 3 (ipykernel)",
   "language": "python",
   "name": "python3"
  },
  "language_info": {
   "codemirror_mode": {
    "name": "ipython",
    "version": 3
   },
   "file_extension": ".py",
   "mimetype": "text/x-python",
   "name": "python",
   "nbconvert_exporter": "python",
   "pygments_lexer": "ipython3",
   "version": "3.12.11"
  }
 },
 "nbformat": 4,
 "nbformat_minor": 5
}
