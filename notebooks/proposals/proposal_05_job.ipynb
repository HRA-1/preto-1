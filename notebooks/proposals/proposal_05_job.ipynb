{
 "cells": [
  {
   "cell_type": "code",
   "execution_count": 2,
   "id": "afe2856d",
   "metadata": {},
   "outputs": [
    {
     "data": {
      "application/vnd.plotly.v1+json": {
       "config": {
        "plotlyServerURL": "https://plot.ly"
       },
       "data": [
        {
         "line": {
          "color": "black",
          "dash": "dot"
         },
         "mode": "lines+markers+text",
         "name": "전사 평균",
         "text": [
          "7.95%",
          "5.56%",
          "3.67%",
          "4.83%",
          "7.98%",
          "8.06%",
          "7.35%",
          "8.55%",
          "7.58%",
          "7.47%",
          "10.29%",
          "8.24%",
          "10.93%",
          "11.52%"
         ],
         "textposition": "top center",
         "type": "scatter",
         "visible": true,
         "x": {
          "bdata": "2wcAANwHAADdBwAA3gcAAN8HAADgBwAA4QcAAOIHAADjBwAA5AcAAOUHAADmBwAA5wcAAOgHAAA=",
          "dtype": "i4"
         },
         "y": {
          "bdata": "0UUXXXTRH0CO4ziO4zgWQLrVGamYWw1A2Ywc6rJUE0AeL7YE3+YfQCGEEEIIISBAamlpaWlpHUCPbtXHDhchQA7lNZTXUB5AkJi3MyTmHUAkSZIkSZIkQAfo6gG6eiBAlAj7zJbeJUAvY8rXYQknQA==",
          "dtype": "f8"
         }
        },
        {
         "line": {
          "color": "#636EFA"
         },
         "mode": "lines+markers+text",
         "name": "IT",
         "text": [
          "15.38%",
          "2.86%",
          "2.22%",
          "3.45%",
          "10.13%",
          "9.64%",
          "5.56%",
          "12.5%",
          "8.82%",
          "7.69%",
          "4.46%",
          "5.98%",
          "12.71%",
          "10.57%"
         ],
         "textposition": "top center",
         "type": "scatter",
         "visible": false,
         "x": {
          "bdata": "2wcAANwHAADdBwAA3gcAAN8HAADgBwAA4QcAAOIHAADjBwAA5AcAAOUHAADmBwAA5wcAAOgHAAA=",
          "dtype": "i4"
         },
         "y": {
          "bdata": "T+zETuzELkC3bdu2bdsGQHIcx3EcxwFAGmG5pxGWC0CCqHRkz0AkQF1WDJTwRiNAjuM4juM4FkAAAAAAAAApQKalpaWlpSFAT+zETuzEHkC3bdu2bdsRQOh+7ud+7hdANJzUfXlsKUAkHTbSYSMlQA==",
          "dtype": "f8"
         }
        },
        {
         "line": {
          "color": "#EF553B"
         },
         "mode": "lines+markers+text",
         "name": "Management Support",
         "text": [
          "0.0%",
          "25.0%",
          "7.14%",
          "0.0%",
          "8.0%",
          "3.7%",
          "6.25%",
          "10.81%",
          "4.88%",
          "7.5%",
          "18.18%",
          "19.57%",
          "4.65%",
          "11.11%"
         ],
         "textposition": "top center",
         "type": "scatter",
         "visible": false,
         "x": {
          "bdata": "2wcAANwHAADdBwAA3gcAAN8HAADgBwAA4QcAAOIHAADjBwAA5AcAAOUHAADmBwAA5wcAAOgHAAA=",
          "dtype": "i4"
         },
         "y": {
          "bdata": "AAAAAAAAAAAAAAAAAAA5QCRJkiRJkhxAAAAAAAAAAAAAAAAAAAAgQBLaS2gvoQ1AAAAAAAAAGUDyWTeYIp8lQIPzMTgfgxNAAAAAAAAAHkAvuuiiiy4yQFnIQhaykDNAp6wpa8qaEkCO4ziO4zgmQA==",
          "dtype": "f8"
         }
        },
        {
         "line": {
          "color": "#00CC96"
         },
         "mode": "lines+markers+text",
         "name": "Planning",
         "text": [
          "9.09%",
          "2.7%",
          "1.75%",
          "4.35%",
          "3.7%",
          "6.93%",
          "7.48%",
          "8.04%",
          "7.96%",
          "8.4%",
          "7.09%",
          "6.56%",
          "10.64%",
          "12.59%"
         ],
         "textposition": "top center",
         "type": "scatter",
         "visible": false,
         "x": {
          "bdata": "2wcAANwHAADdBwAA3gcAAN8HAADgBwAA4QcAAOIHAADjBwAA5AcAAOUHAADmBwAA5wcAAOgHAAA=",
          "dtype": "i4"
         },
         "y": {
          "bdata": "L7rooosuIkDyWTeYIp8FQB/BfQT3Efw/FrKQhSxkEUAS2ktoL6ENQAYmnZoHuRtAKkrjIxPoHUAlSZIkSRIgQAm8/ZDA2x9AYYXOYIXOIEAWi8VisVgcQPwUlwzBOhpA9Z2N+s5GJUBBZLhXwSwpQA==",
          "dtype": "f8"
         }
        },
        {
         "line": {
          "color": "#AB63FA"
         },
         "mode": "lines+markers+text",
         "name": "Production & Engineering",
         "text": [
          "6.67%",
          "2.94%",
          "2.27%",
          "5.56%",
          "10.29%",
          "9.09%",
          "6.33%",
          "4.6%",
          "9.71%",
          "7.27%",
          "11.21%",
          "9.48%",
          "9.84%",
          "12.1%"
         ],
         "textposition": "top center",
         "type": "scatter",
         "visible": false,
         "x": {
          "bdata": "2wcAANwHAADdBwAA3gcAAN8HAADgBwAA4QcAAOIHAADjBwAA5AcAAOUHAADmBwAA5wcAAOgHAAA=",
          "dtype": "i4"
         },
         "y": {
          "bdata": "q6qqqqqqGkCHh4eHh4cHQC+66KKLLgJAjuM4juM4FkCWlpaWlpYkQC+66KKLLiJAotKRPQNRGUC8QCbFC2QSQAxNd7DfaiNAF1100UUXHUDmnkZY7mkmQMJyTyMs9yJAvU9xyRCsI0AyxhhjjDEoQA==",
          "dtype": "f8"
         }
        },
        {
         "line": {
          "color": "#FFA15A"
         },
         "mode": "lines+markers+text",
         "name": "Sales & Marketing",
         "text": [
          "0.0%",
          "6.82%",
          "6.9%",
          "7.35%",
          "8.22%",
          "8.33%",
          "10.0%",
          "7.92%",
          "5.17%",
          "6.56%",
          "15.08%",
          "6.77%",
          "12.59%",
          "10.87%"
         ],
         "textposition": "top center",
         "type": "scatter",
         "visible": false,
         "x": {
          "bdata": "2wcAANwHAADdBwAA3gcAAN8HAADgBwAA4QcAAOIHAADjBwAA5AcAAOUHAADmBwAA5wcAAOgHAAA=",
          "dtype": "i4"
         },
         "y": {
          "bdata": "AAAAAAAAAABFF1100UUbQBphuacRlhtAamlpaWlpHUADBw4cOHAgQKqqqqqqqiBAAAAAAAAAJECYdGoe5K4fQNQIyz2NsBRA/BSXDME6GkCKoiiKoiguQBWxVMRSERtAQWS4V8EsKUCc3vSmN70lQA==",
          "dtype": "f8"
         }
        },
        {
         "line": {
          "color": "#636EFA"
         },
         "mode": "lines+markers+text",
         "name": "SW Developer",
         "text": [
          "0.0%",
          "0.0%",
          "0.0%",
          "0.0%",
          "50.0%",
          "0.0%",
          "0.0%",
          "0.0%",
          "25.0%",
          "0.0%",
          "0.0%",
          "8.33%",
          "14.29%",
          "7.69%"
         ],
         "textposition": "top center",
         "type": "scatter",
         "visible": false,
         "x": {
          "bdata": "2wcAANwHAADdBwAA3gcAAN8HAADgBwAA4QcAAOIHAADjBwAA5AcAAOUHAADmBwAA5wcAAOgHAAA=",
          "dtype": "i4"
         },
         "y": {
          "bdata": "AAAAAAAAAAAAAAAAAAAAAAAAAAAAAAAAAAAAAAAAAAAAAAAAAABJQAAAAAAAAAAAAAAAAAAAAAAAAAAAAAAAAAAAAAAAADlAAAAAAAAAAAAAAAAAAAAAAKqqqqqqqiBAJEmSJEmSLEBP7MRO7MQeQA==",
          "dtype": "f8"
         }
        },
        {
         "line": {
          "color": "#EF553B"
         },
         "mode": "lines+markers+text",
         "name": "Infrastructure",
         "text": [
          "0.0%",
          "25.0%",
          "16.67%",
          "0.0%",
          "22.22%",
          "14.29%",
          "0.0%",
          "20.0%",
          "10.0%",
          "18.18%",
          "0.0%",
          "8.33%",
          "0.0%",
          "25.0%"
         ],
         "textposition": "top center",
         "type": "scatter",
         "visible": false,
         "x": {
          "bdata": "2wcAANwHAADdBwAA3gcAAN8HAADgBwAA4QcAAOIHAADjBwAA5AcAAOUHAADmBwAA5wcAAOgHAAA=",
          "dtype": "i4"
         },
         "y": {
          "bdata": "AAAAAAAAAAAAAAAAAAA5QKqqqqqqqjBAAAAAAAAAAACO4ziO4zg2QCRJkiRJkixAAAAAAAAAAAAAAAAAAAA0QAAAAAAAACRAL7rooosuMkAAAAAAAAAAAKqqqqqqqiBAAAAAAAAAAAAAAAAAAAA5QA==",
          "dtype": "f8"
         }
        },
        {
         "line": {
          "color": "#00CC96"
         },
         "mode": "lines+markers+text",
         "name": "Data Scientist",
         "text": [
          "18.18%",
          "0.0%",
          "0.0%",
          "4.08%",
          "7.35%",
          "9.59%",
          "6.33%",
          "12.2%",
          "7.95%",
          "6.82%",
          "5.56%",
          "5.38%",
          "14.44%",
          "8.51%"
         ],
         "textposition": "top center",
         "type": "scatter",
         "visible": false,
         "x": {
          "bdata": "2wcAANwHAADdBwAA3gcAAN8HAADgBwAA4QcAAOIHAADjBwAA5AcAAOUHAADmBwAA5wcAAOgHAAA=",
          "dtype": "i4"
         },
         "y": {
          "bdata": "L7rooosuMkAAAAAAAAAAAAAAAAAAAAAAFbycgpdTEEBqaWlpaWkdQNmyZcuWLSNAotKRPQNRGUBkcD4G52MoQNFFF1100R9ARRdddNFFG0CO4ziO4zgWQIEFFlhggRVAOI7jOI7jLEDE5ApicgUhQA==",
          "dtype": "f8"
         }
        },
        {
         "line": {
          "color": "#636EFA"
         },
         "mode": "lines+markers+text",
         "name": "HR",
         "text": [
          "0.0%",
          "33.33%",
          "16.67%",
          "0.0%",
          "0.0%",
          "0.0%",
          "20.0%",
          "10.0%",
          "8.33%",
          "9.09%",
          "8.33%",
          "14.29%",
          "6.67%",
          "7.14%"
         ],
         "textposition": "top center",
         "type": "scatter",
         "visible": false,
         "x": {
          "bdata": "2wcAANwHAADdBwAA3gcAAN8HAADgBwAA4QcAAOIHAADjBwAA5AcAAOUHAADmBwAA5wcAAOgHAAA=",
          "dtype": "i4"
         },
         "y": {
          "bdata": "AAAAAAAAAACqqqqqqqpAQKqqqqqqqjBAAAAAAAAAAAAAAAAAAAAAAAAAAAAAAAAAAAAAAAAANEAAAAAAAAAkQKqqqqqqqiBAL7rooosuIkCqqqqqqqogQCRJkiRJkixAq6qqqqqqGkAkSZIkSZIcQA==",
          "dtype": "f8"
         }
        },
        {
         "line": {
          "color": "#EF553B"
         },
         "mode": "lines+markers+text",
         "name": "Finance",
         "text": [
          "0.0%",
          "22.22%",
          "0.0%",
          "0.0%",
          "11.76%",
          "5.88%",
          "0.0%",
          "11.11%",
          "3.45%",
          "6.9%",
          "21.88%",
          "21.88%",
          "3.57%",
          "12.9%"
         ],
         "textposition": "top center",
         "type": "scatter",
         "visible": false,
         "x": {
          "bdata": "2wcAANwHAADdBwAA3gcAAN8HAADgBwAA4QcAAOIHAADjBwAA5AcAAOUHAADmBwAA5wcAAOgHAAA=",
          "dtype": "i4"
         },
         "y": {
          "bdata": "AAAAAAAAAACO4ziO4zg2QAAAAAAAAAAAAAAAAAAAAACHh4eHh4cnQIeHh4eHhxdAAAAAAAAAAACO4ziO4zgmQBphuacRlgtAGmG5pxGWG0AAAAAAAOA1QAAAAAAA4DVAJEmSJEmSDEDOOeecc84pQA==",
          "dtype": "f8"
         }
        },
        {
         "line": {
          "color": "#636EFA"
         },
         "mode": "lines+markers+text",
         "name": "Business Planning",
         "text": [
          "9.09%",
          "2.7%",
          "1.75%",
          "4.35%",
          "3.7%",
          "6.93%",
          "7.48%",
          "8.04%",
          "7.96%",
          "8.4%",
          "7.09%",
          "6.56%",
          "10.64%",
          "12.59%"
         ],
         "textposition": "top center",
         "type": "scatter",
         "visible": false,
         "x": {
          "bdata": "2wcAANwHAADdBwAA3gcAAN8HAADgBwAA4QcAAOIHAADjBwAA5AcAAOUHAADmBwAA5wcAAOgHAAA=",
          "dtype": "i4"
         },
         "y": {
          "bdata": "L7rooosuIkDyWTeYIp8FQB/BfQT3Efw/FrKQhSxkEUAS2ktoL6ENQAYmnZoHuRtAKkrjIxPoHUAlSZIkSRIgQAm8/ZDA2x9AYYXOYIXOIEAWi8VisVgcQPwUlwzBOhpA9Z2N+s5GJUBBZLhXwSwpQA==",
          "dtype": "f8"
         }
        },
        {
         "line": {
          "color": "#636EFA"
         },
         "mode": "lines+markers+text",
         "name": "Production Management",
         "text": [
          "0.0%",
          "0.0%",
          "7.14%",
          "11.11%",
          "8.7%",
          "3.57%",
          "6.67%",
          "3.03%",
          "10.81%",
          "0.0%",
          "18.18%",
          "9.76%",
          "4.55%",
          "14.29%"
         ],
         "textposition": "top center",
         "type": "scatter",
         "visible": false,
         "x": {
          "bdata": "2wcAANwHAADdBwAA3gcAAN8HAADgBwAA4QcAAOIHAADjBwAA5AcAAOUHAADmBwAA5wcAAOgHAAA=",
          "dtype": "i4"
         },
         "y": {
          "bdata": "AAAAAAAAAAAAAAAAAAAAACRJkiRJkhxAjuM4juM4JkAWspCFLGQhQCRJkiRJkgxAq6qqqqqqGkA++OCDDz4IQPJZN5ginyVAAAAAAAAAAAAvuuiiiy4yQIPzMTgfgyNAL7rooosuEkAkSZIkSZIsQA==",
          "dtype": "f8"
         }
        },
        {
         "line": {
          "color": "#EF553B"
         },
         "mode": "lines+markers+text",
         "name": "Engineering",
         "text": [
          "9.09%",
          "4.0%",
          "0.0%",
          "2.78%",
          "11.11%",
          "12.24%",
          "6.12%",
          "5.56%",
          "9.09%",
          "11.27%",
          "6.94%",
          "9.33%",
          "12.82%",
          "10.67%"
         ],
         "textposition": "top center",
         "type": "scatter",
         "visible": false,
         "x": {
          "bdata": "2wcAANwHAADdBwAA3gcAAN8HAADgBwAA4QcAAOIHAADjBwAA5AcAAOUHAADmBwAA5wcAAOgHAAA=",
          "dtype": "i4"
         },
         "y": {
          "bdata": "L7rooosuIkAAAAAAAAAQQAAAAAAAAAAAjuM4juM4BkCO4ziO4zgmQB8a60NjfShAHxrrQ2N9GECO4ziO4zgWQC+66KKLLiJAIdEKmwOJJkByHMdxHMcbQKuqqqqqqiJAQRqkQRqkKUBWVVVVVVUlQA==",
          "dtype": "f8"
         }
        },
        {
         "line": {
          "color": "#636EFA"
         },
         "mode": "lines+markers+text",
         "name": "Marketing",
         "text": [
          "0.0%",
          "28.57%",
          "0.0%",
          "8.33%",
          "16.67%",
          "16.67%",
          "18.75%",
          "0.0%",
          "25.0%",
          "5.56%",
          "21.05%",
          "13.64%",
          "11.11%",
          "19.23%"
         ],
         "textposition": "top center",
         "type": "scatter",
         "visible": false,
         "x": {
          "bdata": "2wcAANwHAADdBwAA3gcAAN8HAADgBwAA4QcAAOIHAADjBwAA5AcAAOUHAADmBwAA5wcAAOgHAAA=",
          "dtype": "i4"
         },
         "y": {
          "bdata": "AAAAAAAAAAAkSZIkSZI8QAAAAAAAAAAAqqqqqqqqIECqqqqqqqowQKqqqqqqqjBAAAAAAADAMkAAAAAAAAAAAAAAAAAAADlAjuM4juM4FkDXUF5DeQ01QEUXXXTRRStAjuM4juM4JkCyEzuxEzszQA==",
          "dtype": "f8"
         }
        },
        {
         "line": {
          "color": "#EF553B"
         },
         "mode": "lines+markers+text",
         "name": "Sales",
         "text": [
          "0.0%",
          "2.7%",
          "8.16%",
          "7.14%",
          "6.56%",
          "6.94%",
          "8.33%",
          "9.3%",
          "1.04%",
          "6.73%",
          "14.02%",
          "5.41%",
          "12.93%",
          "8.93%"
         ],
         "textposition": "top center",
         "type": "scatter",
         "visible": false,
         "x": {
          "bdata": "2wcAANwHAADdBwAA3gcAAN8HAADgBwAA4QcAAOIHAADjBwAA5AcAAOUHAADmBwAA5wcAAOgHAAA=",
          "dtype": "i4"
         },
         "y": {
          "bdata": "AAAAAAAAAADyWTeYIp8FQBW8nIKXUyBAJEmSJEmSHED8FJcMwToaQHIcx3EcxxtAqqqqqqqqIECnrClrypoiQKqqqqqqqvA/xU7sxE7sGkCIFaXxkQksQPJZN5ginxVACcs9jbDcKUC3bdu2bdshQA==",
          "dtype": "f8"
         }
        }
       ],
       "layout": {
        "annotations": [
         {
          "align": "left",
          "showarrow": false,
          "text": "직무 선택:",
          "x": 0,
          "y": 1.08,
          "yref": "paper"
         }
        ],
        "font": {
         "size": 14
        },
        "height": 700,
        "legend": {
         "title": {
          "text": "직무"
         }
        },
        "template": {
         "data": {
          "bar": [
           {
            "error_x": {
             "color": "#2a3f5f"
            },
            "error_y": {
             "color": "#2a3f5f"
            },
            "marker": {
             "line": {
              "color": "#E5ECF6",
              "width": 0.5
             },
             "pattern": {
              "fillmode": "overlay",
              "size": 10,
              "solidity": 0.2
             }
            },
            "type": "bar"
           }
          ],
          "barpolar": [
           {
            "marker": {
             "line": {
              "color": "#E5ECF6",
              "width": 0.5
             },
             "pattern": {
              "fillmode": "overlay",
              "size": 10,
              "solidity": 0.2
             }
            },
            "type": "barpolar"
           }
          ],
          "carpet": [
           {
            "aaxis": {
             "endlinecolor": "#2a3f5f",
             "gridcolor": "white",
             "linecolor": "white",
             "minorgridcolor": "white",
             "startlinecolor": "#2a3f5f"
            },
            "baxis": {
             "endlinecolor": "#2a3f5f",
             "gridcolor": "white",
             "linecolor": "white",
             "minorgridcolor": "white",
             "startlinecolor": "#2a3f5f"
            },
            "type": "carpet"
           }
          ],
          "choropleth": [
           {
            "colorbar": {
             "outlinewidth": 0,
             "ticks": ""
            },
            "type": "choropleth"
           }
          ],
          "contour": [
           {
            "colorbar": {
             "outlinewidth": 0,
             "ticks": ""
            },
            "colorscale": [
             [
              0,
              "#0d0887"
             ],
             [
              0.1111111111111111,
              "#46039f"
             ],
             [
              0.2222222222222222,
              "#7201a8"
             ],
             [
              0.3333333333333333,
              "#9c179e"
             ],
             [
              0.4444444444444444,
              "#bd3786"
             ],
             [
              0.5555555555555556,
              "#d8576b"
             ],
             [
              0.6666666666666666,
              "#ed7953"
             ],
             [
              0.7777777777777778,
              "#fb9f3a"
             ],
             [
              0.8888888888888888,
              "#fdca26"
             ],
             [
              1,
              "#f0f921"
             ]
            ],
            "type": "contour"
           }
          ],
          "contourcarpet": [
           {
            "colorbar": {
             "outlinewidth": 0,
             "ticks": ""
            },
            "type": "contourcarpet"
           }
          ],
          "heatmap": [
           {
            "colorbar": {
             "outlinewidth": 0,
             "ticks": ""
            },
            "colorscale": [
             [
              0,
              "#0d0887"
             ],
             [
              0.1111111111111111,
              "#46039f"
             ],
             [
              0.2222222222222222,
              "#7201a8"
             ],
             [
              0.3333333333333333,
              "#9c179e"
             ],
             [
              0.4444444444444444,
              "#bd3786"
             ],
             [
              0.5555555555555556,
              "#d8576b"
             ],
             [
              0.6666666666666666,
              "#ed7953"
             ],
             [
              0.7777777777777778,
              "#fb9f3a"
             ],
             [
              0.8888888888888888,
              "#fdca26"
             ],
             [
              1,
              "#f0f921"
             ]
            ],
            "type": "heatmap"
           }
          ],
          "histogram": [
           {
            "marker": {
             "pattern": {
              "fillmode": "overlay",
              "size": 10,
              "solidity": 0.2
             }
            },
            "type": "histogram"
           }
          ],
          "histogram2d": [
           {
            "colorbar": {
             "outlinewidth": 0,
             "ticks": ""
            },
            "colorscale": [
             [
              0,
              "#0d0887"
             ],
             [
              0.1111111111111111,
              "#46039f"
             ],
             [
              0.2222222222222222,
              "#7201a8"
             ],
             [
              0.3333333333333333,
              "#9c179e"
             ],
             [
              0.4444444444444444,
              "#bd3786"
             ],
             [
              0.5555555555555556,
              "#d8576b"
             ],
             [
              0.6666666666666666,
              "#ed7953"
             ],
             [
              0.7777777777777778,
              "#fb9f3a"
             ],
             [
              0.8888888888888888,
              "#fdca26"
             ],
             [
              1,
              "#f0f921"
             ]
            ],
            "type": "histogram2d"
           }
          ],
          "histogram2dcontour": [
           {
            "colorbar": {
             "outlinewidth": 0,
             "ticks": ""
            },
            "colorscale": [
             [
              0,
              "#0d0887"
             ],
             [
              0.1111111111111111,
              "#46039f"
             ],
             [
              0.2222222222222222,
              "#7201a8"
             ],
             [
              0.3333333333333333,
              "#9c179e"
             ],
             [
              0.4444444444444444,
              "#bd3786"
             ],
             [
              0.5555555555555556,
              "#d8576b"
             ],
             [
              0.6666666666666666,
              "#ed7953"
             ],
             [
              0.7777777777777778,
              "#fb9f3a"
             ],
             [
              0.8888888888888888,
              "#fdca26"
             ],
             [
              1,
              "#f0f921"
             ]
            ],
            "type": "histogram2dcontour"
           }
          ],
          "mesh3d": [
           {
            "colorbar": {
             "outlinewidth": 0,
             "ticks": ""
            },
            "type": "mesh3d"
           }
          ],
          "parcoords": [
           {
            "line": {
             "colorbar": {
              "outlinewidth": 0,
              "ticks": ""
             }
            },
            "type": "parcoords"
           }
          ],
          "pie": [
           {
            "automargin": true,
            "type": "pie"
           }
          ],
          "scatter": [
           {
            "fillpattern": {
             "fillmode": "overlay",
             "size": 10,
             "solidity": 0.2
            },
            "type": "scatter"
           }
          ],
          "scatter3d": [
           {
            "line": {
             "colorbar": {
              "outlinewidth": 0,
              "ticks": ""
             }
            },
            "marker": {
             "colorbar": {
              "outlinewidth": 0,
              "ticks": ""
             }
            },
            "type": "scatter3d"
           }
          ],
          "scattercarpet": [
           {
            "marker": {
             "colorbar": {
              "outlinewidth": 0,
              "ticks": ""
             }
            },
            "type": "scattercarpet"
           }
          ],
          "scattergeo": [
           {
            "marker": {
             "colorbar": {
              "outlinewidth": 0,
              "ticks": ""
             }
            },
            "type": "scattergeo"
           }
          ],
          "scattergl": [
           {
            "marker": {
             "colorbar": {
              "outlinewidth": 0,
              "ticks": ""
             }
            },
            "type": "scattergl"
           }
          ],
          "scattermap": [
           {
            "marker": {
             "colorbar": {
              "outlinewidth": 0,
              "ticks": ""
             }
            },
            "type": "scattermap"
           }
          ],
          "scattermapbox": [
           {
            "marker": {
             "colorbar": {
              "outlinewidth": 0,
              "ticks": ""
             }
            },
            "type": "scattermapbox"
           }
          ],
          "scatterpolar": [
           {
            "marker": {
             "colorbar": {
              "outlinewidth": 0,
              "ticks": ""
             }
            },
            "type": "scatterpolar"
           }
          ],
          "scatterpolargl": [
           {
            "marker": {
             "colorbar": {
              "outlinewidth": 0,
              "ticks": ""
             }
            },
            "type": "scatterpolargl"
           }
          ],
          "scatterternary": [
           {
            "marker": {
             "colorbar": {
              "outlinewidth": 0,
              "ticks": ""
             }
            },
            "type": "scatterternary"
           }
          ],
          "surface": [
           {
            "colorbar": {
             "outlinewidth": 0,
             "ticks": ""
            },
            "colorscale": [
             [
              0,
              "#0d0887"
             ],
             [
              0.1111111111111111,
              "#46039f"
             ],
             [
              0.2222222222222222,
              "#7201a8"
             ],
             [
              0.3333333333333333,
              "#9c179e"
             ],
             [
              0.4444444444444444,
              "#bd3786"
             ],
             [
              0.5555555555555556,
              "#d8576b"
             ],
             [
              0.6666666666666666,
              "#ed7953"
             ],
             [
              0.7777777777777778,
              "#fb9f3a"
             ],
             [
              0.8888888888888888,
              "#fdca26"
             ],
             [
              1,
              "#f0f921"
             ]
            ],
            "type": "surface"
           }
          ],
          "table": [
           {
            "cells": {
             "fill": {
              "color": "#EBF0F8"
             },
             "line": {
              "color": "white"
             }
            },
            "header": {
             "fill": {
              "color": "#C8D4E3"
             },
             "line": {
              "color": "white"
             }
            },
            "type": "table"
           }
          ]
         },
         "layout": {
          "annotationdefaults": {
           "arrowcolor": "#2a3f5f",
           "arrowhead": 0,
           "arrowwidth": 1
          },
          "autotypenumbers": "strict",
          "coloraxis": {
           "colorbar": {
            "outlinewidth": 0,
            "ticks": ""
           }
          },
          "colorscale": {
           "diverging": [
            [
             0,
             "#8e0152"
            ],
            [
             0.1,
             "#c51b7d"
            ],
            [
             0.2,
             "#de77ae"
            ],
            [
             0.3,
             "#f1b6da"
            ],
            [
             0.4,
             "#fde0ef"
            ],
            [
             0.5,
             "#f7f7f7"
            ],
            [
             0.6,
             "#e6f5d0"
            ],
            [
             0.7,
             "#b8e186"
            ],
            [
             0.8,
             "#7fbc41"
            ],
            [
             0.9,
             "#4d9221"
            ],
            [
             1,
             "#276419"
            ]
           ],
           "sequential": [
            [
             0,
             "#0d0887"
            ],
            [
             0.1111111111111111,
             "#46039f"
            ],
            [
             0.2222222222222222,
             "#7201a8"
            ],
            [
             0.3333333333333333,
             "#9c179e"
            ],
            [
             0.4444444444444444,
             "#bd3786"
            ],
            [
             0.5555555555555556,
             "#d8576b"
            ],
            [
             0.6666666666666666,
             "#ed7953"
            ],
            [
             0.7777777777777778,
             "#fb9f3a"
            ],
            [
             0.8888888888888888,
             "#fdca26"
            ],
            [
             1,
             "#f0f921"
            ]
           ],
           "sequentialminus": [
            [
             0,
             "#0d0887"
            ],
            [
             0.1111111111111111,
             "#46039f"
            ],
            [
             0.2222222222222222,
             "#7201a8"
            ],
            [
             0.3333333333333333,
             "#9c179e"
            ],
            [
             0.4444444444444444,
             "#bd3786"
            ],
            [
             0.5555555555555556,
             "#d8576b"
            ],
            [
             0.6666666666666666,
             "#ed7953"
            ],
            [
             0.7777777777777778,
             "#fb9f3a"
            ],
            [
             0.8888888888888888,
             "#fdca26"
            ],
            [
             1,
             "#f0f921"
            ]
           ]
          },
          "colorway": [
           "#636efa",
           "#EF553B",
           "#00cc96",
           "#ab63fa",
           "#FFA15A",
           "#19d3f3",
           "#FF6692",
           "#B6E880",
           "#FF97FF",
           "#FECB52"
          ],
          "font": {
           "color": "#2a3f5f"
          },
          "geo": {
           "bgcolor": "white",
           "lakecolor": "white",
           "landcolor": "#E5ECF6",
           "showlakes": true,
           "showland": true,
           "subunitcolor": "white"
          },
          "hoverlabel": {
           "align": "left"
          },
          "hovermode": "closest",
          "mapbox": {
           "style": "light"
          },
          "paper_bgcolor": "white",
          "plot_bgcolor": "#E5ECF6",
          "polar": {
           "angularaxis": {
            "gridcolor": "white",
            "linecolor": "white",
            "ticks": ""
           },
           "bgcolor": "#E5ECF6",
           "radialaxis": {
            "gridcolor": "white",
            "linecolor": "white",
            "ticks": ""
           }
          },
          "scene": {
           "xaxis": {
            "backgroundcolor": "#E5ECF6",
            "gridcolor": "white",
            "gridwidth": 2,
            "linecolor": "white",
            "showbackground": true,
            "ticks": "",
            "zerolinecolor": "white"
           },
           "yaxis": {
            "backgroundcolor": "#E5ECF6",
            "gridcolor": "white",
            "gridwidth": 2,
            "linecolor": "white",
            "showbackground": true,
            "ticks": "",
            "zerolinecolor": "white"
           },
           "zaxis": {
            "backgroundcolor": "#E5ECF6",
            "gridcolor": "white",
            "gridwidth": 2,
            "linecolor": "white",
            "showbackground": true,
            "ticks": "",
            "zerolinecolor": "white"
           }
          },
          "shapedefaults": {
           "line": {
            "color": "#2a3f5f"
           }
          },
          "ternary": {
           "aaxis": {
            "gridcolor": "white",
            "linecolor": "white",
            "ticks": ""
           },
           "baxis": {
            "gridcolor": "white",
            "linecolor": "white",
            "ticks": ""
           },
           "bgcolor": "#E5ECF6",
           "caxis": {
            "gridcolor": "white",
            "linecolor": "white",
            "ticks": ""
           }
          },
          "title": {
           "x": 0.05
          },
          "xaxis": {
           "automargin": true,
           "gridcolor": "white",
           "linecolor": "white",
           "ticks": "",
           "title": {
            "standoff": 15
           },
           "zerolinecolor": "white",
           "zerolinewidth": 2
          },
          "yaxis": {
           "automargin": true,
           "gridcolor": "white",
           "linecolor": "white",
           "ticks": "",
           "title": {
            "standoff": 15
           },
           "zerolinecolor": "white",
           "zerolinewidth": 2
          }
         }
        },
        "title": {
         "text": "직무별 연간 퇴사율 변화 추이"
        },
        "updatemenus": [
         {
          "active": 0,
          "buttons": [
           {
            "args": [
             {
              "visible": [
               true,
               false,
               false,
               false,
               false,
               false,
               false,
               false,
               false,
               false,
               false,
               false,
               false,
               false,
               false,
               false
              ]
             }
            ],
            "label": "전사 평균",
            "method": "update"
           },
           {
            "args": [
             {
              "visible": [
               false,
               true,
               true,
               true,
               true,
               true,
               false,
               false,
               false,
               false,
               false,
               false,
               false,
               false,
               false,
               false
              ]
             }
            ],
            "label": "전체",
            "method": "update"
           },
           {
            "args": [
             {
              "visible": [
               false,
               false,
               false,
               false,
               false,
               false,
               true,
               true,
               true,
               false,
               false,
               false,
               false,
               false,
               false,
               false
              ]
             }
            ],
            "label": "IT",
            "method": "update"
           },
           {
            "args": [
             {
              "visible": [
               false,
               false,
               false,
               false,
               false,
               false,
               false,
               false,
               false,
               true,
               true,
               false,
               false,
               false,
               false,
               false
              ]
             }
            ],
            "label": "Management Support",
            "method": "update"
           },
           {
            "args": [
             {
              "visible": [
               false,
               false,
               false,
               false,
               false,
               false,
               false,
               false,
               false,
               false,
               false,
               true,
               false,
               false,
               false,
               false
              ]
             }
            ],
            "label": "Planning",
            "method": "update"
           },
           {
            "args": [
             {
              "visible": [
               false,
               false,
               false,
               false,
               false,
               false,
               false,
               false,
               false,
               false,
               false,
               false,
               true,
               true,
               false,
               false
              ]
             }
            ],
            "label": "Production & Engineering",
            "method": "update"
           },
           {
            "args": [
             {
              "visible": [
               false,
               false,
               false,
               false,
               false,
               false,
               false,
               false,
               false,
               false,
               false,
               false,
               false,
               false,
               true,
               true
              ]
             }
            ],
            "label": "Sales & Marketing",
            "method": "update"
           }
          ],
          "direction": "down",
          "pad": {
           "r": 10,
           "t": 10
          },
          "showactive": true,
          "x": 0.01,
          "xanchor": "left",
          "y": 1.1,
          "yanchor": "top"
         }
        ],
        "xaxis": {
         "title": {
          "text": "연도"
         },
         "type": "category"
        },
        "yaxis": {
         "range": [
          0,
          57.49999999999999
         ],
         "tickformat": ".2f",
         "ticksuffix": "%",
         "title": {
          "text": "연간 퇴사율 (%)"
         }
        }
       }
      }
     },
     "metadata": {},
     "output_type": "display_data"
    }
   ],
   "source": [
    "import pandas as pd\n",
    "import numpy as np\n",
    "import plotly.graph_objects as go\n",
    "import plotly.io as pio\n",
    "import plotly.express as px\n",
    "import datetime\n",
    "\n",
    "# --- 1. 데이터 임포트 ---\n",
    "from services.tables.HR_Core.basic_info_table import emp_df\n",
    "from services.tables.HR_Core.department_info_table import department_info_df\n",
    "from services.tables.HR_Core.job_info_table import job_info_df\n",
    "from services.tables.HR_Core.job_table import job_df, job_df_indexed, parent_map_job, job_l1_order, job_l2_order\n",
    "from services.helpers.utils import get_level1_ancestor, get_level2_ancestor\n",
    "\n",
    "def create_figure():\n",
    "    \"\"\"\n",
    "    제안 5-2: 직무별 연간 퇴사율 변화 추이 그래프를 생성합니다.\n",
    "    \"\"\"\n",
    "    # --- 2. 데이터 준비 및 가공 ---\n",
    "    leaver_years = emp_df.dropna(subset=['OUT_DATE'])['OUT_DATE'].dt.year.unique()\n",
    "    analysis_years = sorted([y for y in leaver_years if y < datetime.datetime.now().year])\n",
    "    \n",
    "    turnover_records = []\n",
    "    overall_turnover_records = []\n",
    "\n",
    "    job_info_sorted = job_info_df.sort_values('JOB_APP_START_DATE')\n",
    "    job_name_map = job_df.set_index('JOB_ID')['JOB_NAME'].to_dict()\n",
    "    \n",
    "    for year in analysis_years:\n",
    "        year_start, year_end = pd.to_datetime(f'{year}-01-01'), pd.to_datetime(f'{year}-12-31')\n",
    "        \n",
    "        leavers_in_year = emp_df[(emp_df['OUT_DATE'] >= year_start) & (emp_df['OUT_DATE'] <= year_end)]\n",
    "        active_in_year = emp_df[(emp_df['IN_DATE'] <= year_end) & (emp_df['OUT_DATE'].isnull() | (emp_df['OUT_DATE'] >= year_start))]\n",
    "        \n",
    "        if not active_in_year.empty:\n",
    "            overall_rate = (len(leavers_in_year) / len(active_in_year)) * 100 if len(active_in_year) > 0 else 0\n",
    "            overall_turnover_records.append({'YEAR': year, 'TURNOVER_RATE': overall_rate})\n",
    "            \n",
    "        if leavers_in_year.empty: continue\n",
    "            \n",
    "        leavers_job = pd.merge_asof(leavers_in_year[['EMP_ID', 'OUT_DATE']].sort_values('OUT_DATE'), job_info_sorted, left_on='OUT_DATE', right_on='JOB_APP_START_DATE', by='EMP_ID', direction='backward')\n",
    "        active_job = pd.merge_asof(active_in_year[['EMP_ID', 'IN_DATE']].sort_values('IN_DATE'), job_info_sorted, left_on='IN_DATE', right_on='JOB_APP_START_DATE', by='EMP_ID', direction='backward')\n",
    "\n",
    "        for df in [leavers_job, active_job]:\n",
    "            if not df.empty and 'JOB_ID' in df.columns:\n",
    "                df['JOB_L1_NAME'] = df['JOB_ID'].apply(lambda x: job_name_map.get(get_level1_ancestor(x, job_df_indexed, parent_map_job)))\n",
    "                df['JOB_L2_NAME'] = df['JOB_ID'].apply(lambda x: job_name_map.get(get_level2_ancestor(x, job_df_indexed, parent_map_job)))\n",
    "        \n",
    "        leavers_job = leavers_job.dropna(subset=['JOB_L1_NAME', 'JOB_L2_NAME'])\n",
    "        active_job = active_job.dropna(subset=['JOB_L1_NAME', 'JOB_L2_NAME'])\n",
    "\n",
    "        leavers_by_l1 = leavers_job.groupby('JOB_L1_NAME', observed=False).size()\n",
    "        headcount_by_l1 = active_job.groupby('JOB_L1_NAME', observed=False).size()\n",
    "        turnover_l1 = (leavers_by_l1 / headcount_by_l1 * 100).fillna(0)\n",
    "        for group_name, rate in turnover_l1.items():\n",
    "            turnover_records.append({'YEAR': year, 'GROUP_TYPE': 'JOB_L1_NAME', 'GROUP_NAME': group_name, 'TURNOVER_RATE': rate})\n",
    "            \n",
    "        leavers_by_l2 = leavers_job.groupby(['JOB_L1_NAME', 'JOB_L2_NAME'], observed=False).size()\n",
    "        headcount_by_l2 = active_job.groupby(['JOB_L1_NAME', 'JOB_L2_NAME'], observed=False).size()\n",
    "        turnover_l2 = (leavers_by_l2 / headcount_by_l2 * 100).fillna(0)\n",
    "        for (l1_name, l2_name), rate in turnover_l2.items():\n",
    "            turnover_records.append({'YEAR': year, 'GROUP_TYPE': 'JOB_L2_NAME', 'JOB_L1_NAME': l1_name, 'GROUP_NAME': l2_name, 'TURNOVER_RATE': rate})\n",
    "\n",
    "    analysis_df = pd.DataFrame(turnover_records)\n",
    "    overall_turnover_df = pd.DataFrame(overall_turnover_records)\n",
    "\n",
    "    if analysis_df.empty and overall_turnover_df.empty:\n",
    "        return go.Figure().update_layout(title_text=\"분석할 퇴사율 데이터가 없습니다.\")\n",
    "\n",
    "    all_rates = pd.concat([analysis_df['TURNOVER_RATE'], overall_turnover_df['TURNOVER_RATE']])\n",
    "    y_max = all_rates.max()\n",
    "    fixed_y_range = [0, y_max * 1.15]\n",
    "\n",
    "    # --- 3. Plotly 인터랙티브 그래프 생성 ---\n",
    "    fig = go.Figure()\n",
    "    colors = px.colors.qualitative.Plotly\n",
    "    \n",
    "    fig.add_trace(go.Scatter(x=overall_turnover_df['YEAR'], y=overall_turnover_df['TURNOVER_RATE'], mode='lines+markers+text', name='전사 평균', line=dict(color='black', dash='dot'), text=overall_turnover_df['TURNOVER_RATE'].round(2).astype(str) + '%', textposition='top center', visible=True))\n",
    "    \n",
    "    job_l1_df = analysis_df[analysis_df['GROUP_TYPE'] == 'JOB_L1_NAME']\n",
    "    for i, job_l1_name in enumerate(job_l1_order):\n",
    "        df_filtered = job_l1_df[job_l1_df['GROUP_NAME'] == job_l1_name].sort_values('YEAR')\n",
    "        if not df_filtered.empty:\n",
    "            fig.add_trace(go.Scatter(x=df_filtered['YEAR'], y=df_filtered['TURNOVER_RATE'], mode='lines+markers+text', name=job_l1_name, line=dict(color=colors[i]), text=df_filtered['TURNOVER_RATE'].round(2).astype(str) + '%', textposition='top center', visible=False))\n",
    "            \n",
    "    job_l2_df = analysis_df[analysis_df['GROUP_TYPE'] == 'JOB_L2_NAME']\n",
    "    job_l2_traces_map = {}\n",
    "    trace_idx_counter = 1 + len(job_l1_order)\n",
    "    for job_l1_name in job_l1_order:\n",
    "        jobs_in_l1 = job_l2_df[job_l2_df['JOB_L1_NAME'] == job_l1_name]['GROUP_NAME'].unique()\n",
    "        job_l2_traces_map[job_l1_name] = []\n",
    "        sorted_jobs_in_l1 = [j for j in job_l2_order if j in jobs_in_l1]\n",
    "        for j, job_l2_name in enumerate(sorted_jobs_in_l1):\n",
    "            df_filtered = job_l2_df[job_l2_df['GROUP_NAME'] == job_l2_name].sort_values('YEAR')\n",
    "            if not df_filtered.empty:\n",
    "                fig.add_trace(go.Scatter(x=df_filtered['YEAR'], y=df_filtered['TURNOVER_RATE'], mode='lines+markers+text', name=job_l2_name, visible=False, line=dict(color=colors[j % len(colors)]), text=df_filtered['TURNOVER_RATE'].round(2).astype(str) + '%', textposition='top center'))\n",
    "                job_l2_traces_map[job_l1_name].append(trace_idx_counter)\n",
    "                trace_idx_counter += 1\n",
    "\n",
    "    # --- 4. 드롭다운 메뉴 생성 ---\n",
    "    buttons = []\n",
    "    num_l1_traces = len(job_l1_order)\n",
    "    buttons.append(dict(label='전사 평균', method='update', args=[{'visible': [True] + [False]*(len(fig.data)-1)}]))\n",
    "    buttons.append(dict(label='전체', method='update', args=[{'visible': [False] + [True]*num_l1_traces + [False]*(len(fig.data)-1-num_l1_traces)}]))\n",
    "    for job_l1_name in job_l1_order:\n",
    "        visibility_mask = [False] * len(fig.data)\n",
    "        for trace_idx in job_l2_traces_map.get(job_l1_name, []):\n",
    "            visibility_mask[trace_idx] = True\n",
    "        buttons.append(dict(label=f'{job_l1_name}', method='update', args=[{'visible': visibility_mask}]))\n",
    "\n",
    "    # --- 5. 레이아웃 업데이트 ---\n",
    "    fig.update_layout(\n",
    "        updatemenus=[dict(active=0, buttons=buttons, direction=\"down\", pad={\"r\": 10, \"t\": 10}, showactive=True, x=0.01, xanchor=\"left\", y=1.1, yanchor=\"top\")],\n",
    "        title_text='직무별 연간 퇴사율 변화 추이',\n",
    "        xaxis_title='연도', yaxis_title='연간 퇴사율 (%)',\n",
    "        font_size=14, height=700,\n",
    "        legend_title_text='직무',\n",
    "        annotations=[dict(text=\"직무 선택:\", showarrow=False, x=0, y=1.08, yref=\"paper\", align=\"left\")],\n",
    "        xaxis=dict(type='category'),\n",
    "        yaxis=dict(ticksuffix=\"%\", tickformat='.2f', range=fixed_y_range)\n",
    "    )\n",
    "    \n",
    "    return fig\n",
    "\n",
    "# 이 파일을 직접 실행할 경우 그래프를 생성하여 보여줍니다.\n",
    "pio.renderers.default = 'vscode'\n",
    "fig = create_figure()\n",
    "fig.show()"
   ]
  },
  {
   "cell_type": "code",
   "execution_count": null,
   "id": "bcaf3d8c",
   "metadata": {},
   "outputs": [],
   "source": []
  }
 ],
 "metadata": {
  "kernelspec": {
   "display_name": "Python 3 (ipykernel)",
   "language": "python",
   "name": "python3"
  },
  "language_info": {
   "codemirror_mode": {
    "name": "ipython",
    "version": 3
   },
   "file_extension": ".py",
   "mimetype": "text/x-python",
   "name": "python",
   "nbconvert_exporter": "python",
   "pygments_lexer": "ipython3",
   "version": "3.12.11"
  }
 },
 "nbformat": 4,
 "nbformat_minor": 5
}
