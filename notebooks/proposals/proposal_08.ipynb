{
 "cells": [
  {
   "cell_type": "code",
   "execution_count": 1,
   "id": "fd6d2271",
   "metadata": {},
   "outputs": [
    {
     "data": {
      "application/vnd.plotly.v1+json": {
       "config": {
        "plotlyServerURL": "https://plot.ly"
       },
       "data": [
        {
         "customdata": {
          "bdata": "ViN5Zn0=",
          "dtype": "i1"
         },
         "hovertemplate": "평균 재직기간: %{x:.2f}년<br>인원: %{customdata}명<extra></extra>",
         "name": "재직자",
         "orientation": "h",
         "text": {
          "bdata": "KVyPwvUoFkDD9Shcj8IWQHsUrkfhehNA16NwPQrXEkAzMzMzMzMWQA==",
          "dtype": "f8"
         },
         "textposition": "outside",
         "type": "bar",
         "visible": true,
         "x": {
          "bdata": "Ku6jzKUsFkA02/Rex8YWQAkam7dHfxNAzm/GhsXSEkC28G0s2C8WQA==",
          "dtype": "f8"
         },
         "y": [
          "IT",
          "Management Support",
          "Planning",
          "Production & Engineering",
          "Sales & Marketing"
         ]
        },
        {
         "customdata": {
          "bdata": "dQAmAHUAWwCSAA==",
          "dtype": "i2"
         },
         "hovertemplate": "평균 재직기간: %{x:.2f}년<br>인원: %{customdata}명<extra></extra>",
         "name": "퇴사자",
         "orientation": "h",
         "text": {
          "bdata": "hetRuB6FFEAUrkfhehQYQI/C9ShcjxNAj8L1KFyPEkDhehSuR+ESQA==",
          "dtype": "f8"
         },
         "textposition": "outside",
         "type": "bar",
         "visible": true,
         "x": {
          "bdata": "evkEoIGAFEAgGMfw7xYYQIA7P7ujkxNAq6jbZDKSEkBJ6LHgkuQSQA==",
          "dtype": "f8"
         },
         "y": [
          "IT",
          "Management Support",
          "Planning",
          "Production & Engineering",
          "Sales & Marketing"
         ]
        },
        {
         "customdata": {
          "bdata": "CR05AwY=",
          "dtype": "i1"
         },
         "hovertemplate": "평균 재직기간: %{x:.2f}년<br>인원: %{customdata}명<extra></extra>",
         "name": "재직자",
         "orientation": "h",
         "text": {
          "bdata": "uB6F61G4FEDNzMzMzMwZQArXo3A9ChdAPQrXo3A9EUAAAAAAAAAaQA==",
          "dtype": "f8"
         },
         "textposition": "outside",
         "type": "bar",
         "visible": false,
         "x": {
          "bdata": "DDE9DTi1FEBds4svw9AZQJVGC1wyChdAgG8VT4pAEUDz1S+T2PwZQA==",
          "dtype": "f8"
         },
         "y": [
          "IT",
          "Management Support",
          "Planning",
          "Production & Engineering",
          "Sales & Marketing"
         ]
        },
        {
         "customdata": {
          "bdata": "DxsxBgQ=",
          "dtype": "i1"
         },
         "hovertemplate": "평균 재직기간: %{x:.2f}년<br>인원: %{customdata}명<extra></extra>",
         "name": "퇴사자",
         "orientation": "h",
         "text": {
          "bdata": "16NwPQrXG0AUrkfhehQQQK5H4XoUrhVAXI/C9ShcFUDXo3A9CtcXQA==",
          "dtype": "f8"
         },
         "textposition": "outside",
         "type": "bar",
         "visible": false,
         "x": {
          "bdata": "dtQc1FbVG0B0Y9VJSRUQQKt4cFRHsRVAf1caI3laFUBj4qTnPtUXQA==",
          "dtype": "f8"
         },
         "y": [
          "IT",
          "Management Support",
          "Planning",
          "Production & Engineering",
          "Sales & Marketing"
         ]
        },
        {
         "customdata": {
          "bdata": "DAMdBV4=",
          "dtype": "i1"
         },
         "hovertemplate": "평균 재직기간: %{x:.2f}년<br>인원: %{customdata}명<extra></extra>",
         "name": "재직자",
         "orientation": "h",
         "text": {
          "bdata": "SOF6FK5HGUA9CtejcD0QQFK4HoXrURVA7FG4HoXrEkB7FK5H4XoWQA==",
          "dtype": "f8"
         },
         "textposition": "outside",
         "type": "bar",
         "visible": false,
         "x": {
          "bdata": "JYh7o89DGUCwjuvhnD4QQFY1BaLBURVAAlL84IzsEkDI/ci4+XsWQA==",
          "dtype": "f8"
         },
         "y": [
          "IT",
          "Management Support",
          "Planning",
          "Production & Engineering",
          "Sales & Marketing"
         ]
        },
        {
         "customdata": {
          "bdata": "GAMUA2U=",
          "dtype": "i1"
         },
         "hovertemplate": "평균 재직기간: %{x:.2f}년<br>인원: %{customdata}명<extra></extra>",
         "name": "퇴사자",
         "orientation": "h",
         "text": {
          "bdata": "4XoUrkfhEkCPwvUoXI8gQKRwPQrXoxFAuB6F61G4BkCPwvUoXI8QQA==",
          "dtype": "f8"
         },
         "textposition": "outside",
         "type": "bar",
         "visible": false,
         "x": {
          "bdata": "0Xx5IKzjEkCDPIyB6o8gQF4sHst8nxFA4EpCT+2/BkAx8n5z+40QQA==",
          "dtype": "f8"
         },
         "y": [
          "IT",
          "Management Support",
          "Planning",
          "Production & Engineering",
          "Sales & Marketing"
         ]
        },
        {
         "customdata": {
          "bdata": "IAIYJQM=",
          "dtype": "i1"
         },
         "hovertemplate": "평균 재직기간: %{x:.2f}년<br>인원: %{customdata}명<extra></extra>",
         "name": "재직자",
         "orientation": "h",
         "text": {
          "bdata": "hetRuB6FEkB7FK5H4XoRQLgehetRuBRAKVyPwvUoEUCPwvUoXI8QQA==",
          "dtype": "f8"
         },
         "textposition": "outside",
         "type": "bar",
         "visible": false,
         "x": {
          "bdata": "N9G+I+SCEkAAKX5wRnYRQFeOJeNRuhRAUnDKfQ4sEUD/Ui0IDI4QQA==",
          "dtype": "f8"
         },
         "y": [
          "IT",
          "Management Support",
          "Planning",
          "Production & Engineering",
          "Sales & Marketing"
         ]
        },
        {
         "customdata": {
          "bdata": "NAMeIAo=",
          "dtype": "i1"
         },
         "hovertemplate": "평균 재직기간: %{x:.2f}년<br>인원: %{customdata}명<extra></extra>",
         "name": "퇴사자",
         "orientation": "h",
         "text": {
          "bdata": "AAAAAAAAFECPwvUoXI8UQB+F61G4HhNA4XoUrkfhEkCkcD0K16MSQA==",
          "dtype": "f8"
         },
         "textposition": "outside",
         "type": "bar",
         "visible": false,
         "x": {
          "bdata": "YPsGGoX9E0D4d8YG9JIUQEc1/TwBIhNAvLnsdUPjEkDbj3+IQaISQA==",
          "dtype": "f8"
         },
         "y": [
          "IT",
          "Management Support",
          "Planning",
          "Production & Engineering",
          "Sales & Marketing"
         ]
        },
        {
         "customdata": {
          "bdata": "IQELORY=",
          "dtype": "i1"
         },
         "hovertemplate": "평균 재직기간: %{x:.2f}년<br>인원: %{customdata}명<extra></extra>",
         "name": "재직자",
         "orientation": "h",
         "text": {
          "bdata": "MzMzMzMzGECamZmZmZkfQNejcD0K1wlA9ihcj8L1FUC4HoXrUbgXQA==",
          "dtype": "f8"
         },
         "textposition": "outside",
         "type": "bar",
         "visible": false,
         "x": {
          "bdata": "Qi4YXqs2GEDBAd75dpUfQMa7bPqxzQlAYo09bfDxFUAgnJFdgrgXQA==",
          "dtype": "f8"
         },
         "y": [
          "IT",
          "Management Support",
          "Planning",
          "Production & Engineering",
          "Sales & Marketing"
         ]
        },
        {
         "customdata": {
          "bdata": "GgUSMh8=",
          "dtype": "i1"
         },
         "hovertemplate": "평균 재직기간: %{x:.2f}년<br>인원: %{customdata}명<extra></extra>",
         "name": "퇴사자",
         "orientation": "h",
         "text": {
          "bdata": "j8L1KFyPDkCPwvUoXI8aQNejcD0K1xNArkfhehSuFkCPwvUoXI8QQA==",
          "dtype": "f8"
         },
         "textposition": "outside",
         "type": "bar",
         "visible": false,
         "x": {
          "bdata": "gTLt4vyWDkAODGhvrZMaQK8TcZDJ2xNAAWzGUharFkC1PCSfz4wQQA==",
          "dtype": "f8"
         },
         "y": [
          "IT",
          "Management Support",
          "Planning",
          "Production & Engineering",
          "Sales & Marketing"
         ]
        }
       ],
       "layout": {
        "annotations": [
         {
          "align": "left",
          "showarrow": false,
          "text": "조직 선택:",
          "x": 0,
          "y": 1.08,
          "yref": "paper"
         }
        ],
        "barmode": "group",
        "font": {
         "size": 14
        },
        "height": 700,
        "legend": {
         "title": {
          "text": "상태"
         }
        },
        "template": {
         "data": {
          "bar": [
           {
            "error_x": {
             "color": "#2a3f5f"
            },
            "error_y": {
             "color": "#2a3f5f"
            },
            "marker": {
             "line": {
              "color": "#E5ECF6",
              "width": 0.5
             },
             "pattern": {
              "fillmode": "overlay",
              "size": 10,
              "solidity": 0.2
             }
            },
            "type": "bar"
           }
          ],
          "barpolar": [
           {
            "marker": {
             "line": {
              "color": "#E5ECF6",
              "width": 0.5
             },
             "pattern": {
              "fillmode": "overlay",
              "size": 10,
              "solidity": 0.2
             }
            },
            "type": "barpolar"
           }
          ],
          "carpet": [
           {
            "aaxis": {
             "endlinecolor": "#2a3f5f",
             "gridcolor": "white",
             "linecolor": "white",
             "minorgridcolor": "white",
             "startlinecolor": "#2a3f5f"
            },
            "baxis": {
             "endlinecolor": "#2a3f5f",
             "gridcolor": "white",
             "linecolor": "white",
             "minorgridcolor": "white",
             "startlinecolor": "#2a3f5f"
            },
            "type": "carpet"
           }
          ],
          "choropleth": [
           {
            "colorbar": {
             "outlinewidth": 0,
             "ticks": ""
            },
            "type": "choropleth"
           }
          ],
          "contour": [
           {
            "colorbar": {
             "outlinewidth": 0,
             "ticks": ""
            },
            "colorscale": [
             [
              0,
              "#0d0887"
             ],
             [
              0.1111111111111111,
              "#46039f"
             ],
             [
              0.2222222222222222,
              "#7201a8"
             ],
             [
              0.3333333333333333,
              "#9c179e"
             ],
             [
              0.4444444444444444,
              "#bd3786"
             ],
             [
              0.5555555555555556,
              "#d8576b"
             ],
             [
              0.6666666666666666,
              "#ed7953"
             ],
             [
              0.7777777777777778,
              "#fb9f3a"
             ],
             [
              0.8888888888888888,
              "#fdca26"
             ],
             [
              1,
              "#f0f921"
             ]
            ],
            "type": "contour"
           }
          ],
          "contourcarpet": [
           {
            "colorbar": {
             "outlinewidth": 0,
             "ticks": ""
            },
            "type": "contourcarpet"
           }
          ],
          "heatmap": [
           {
            "colorbar": {
             "outlinewidth": 0,
             "ticks": ""
            },
            "colorscale": [
             [
              0,
              "#0d0887"
             ],
             [
              0.1111111111111111,
              "#46039f"
             ],
             [
              0.2222222222222222,
              "#7201a8"
             ],
             [
              0.3333333333333333,
              "#9c179e"
             ],
             [
              0.4444444444444444,
              "#bd3786"
             ],
             [
              0.5555555555555556,
              "#d8576b"
             ],
             [
              0.6666666666666666,
              "#ed7953"
             ],
             [
              0.7777777777777778,
              "#fb9f3a"
             ],
             [
              0.8888888888888888,
              "#fdca26"
             ],
             [
              1,
              "#f0f921"
             ]
            ],
            "type": "heatmap"
           }
          ],
          "histogram": [
           {
            "marker": {
             "pattern": {
              "fillmode": "overlay",
              "size": 10,
              "solidity": 0.2
             }
            },
            "type": "histogram"
           }
          ],
          "histogram2d": [
           {
            "colorbar": {
             "outlinewidth": 0,
             "ticks": ""
            },
            "colorscale": [
             [
              0,
              "#0d0887"
             ],
             [
              0.1111111111111111,
              "#46039f"
             ],
             [
              0.2222222222222222,
              "#7201a8"
             ],
             [
              0.3333333333333333,
              "#9c179e"
             ],
             [
              0.4444444444444444,
              "#bd3786"
             ],
             [
              0.5555555555555556,
              "#d8576b"
             ],
             [
              0.6666666666666666,
              "#ed7953"
             ],
             [
              0.7777777777777778,
              "#fb9f3a"
             ],
             [
              0.8888888888888888,
              "#fdca26"
             ],
             [
              1,
              "#f0f921"
             ]
            ],
            "type": "histogram2d"
           }
          ],
          "histogram2dcontour": [
           {
            "colorbar": {
             "outlinewidth": 0,
             "ticks": ""
            },
            "colorscale": [
             [
              0,
              "#0d0887"
             ],
             [
              0.1111111111111111,
              "#46039f"
             ],
             [
              0.2222222222222222,
              "#7201a8"
             ],
             [
              0.3333333333333333,
              "#9c179e"
             ],
             [
              0.4444444444444444,
              "#bd3786"
             ],
             [
              0.5555555555555556,
              "#d8576b"
             ],
             [
              0.6666666666666666,
              "#ed7953"
             ],
             [
              0.7777777777777778,
              "#fb9f3a"
             ],
             [
              0.8888888888888888,
              "#fdca26"
             ],
             [
              1,
              "#f0f921"
             ]
            ],
            "type": "histogram2dcontour"
           }
          ],
          "mesh3d": [
           {
            "colorbar": {
             "outlinewidth": 0,
             "ticks": ""
            },
            "type": "mesh3d"
           }
          ],
          "parcoords": [
           {
            "line": {
             "colorbar": {
              "outlinewidth": 0,
              "ticks": ""
             }
            },
            "type": "parcoords"
           }
          ],
          "pie": [
           {
            "automargin": true,
            "type": "pie"
           }
          ],
          "scatter": [
           {
            "fillpattern": {
             "fillmode": "overlay",
             "size": 10,
             "solidity": 0.2
            },
            "type": "scatter"
           }
          ],
          "scatter3d": [
           {
            "line": {
             "colorbar": {
              "outlinewidth": 0,
              "ticks": ""
             }
            },
            "marker": {
             "colorbar": {
              "outlinewidth": 0,
              "ticks": ""
             }
            },
            "type": "scatter3d"
           }
          ],
          "scattercarpet": [
           {
            "marker": {
             "colorbar": {
              "outlinewidth": 0,
              "ticks": ""
             }
            },
            "type": "scattercarpet"
           }
          ],
          "scattergeo": [
           {
            "marker": {
             "colorbar": {
              "outlinewidth": 0,
              "ticks": ""
             }
            },
            "type": "scattergeo"
           }
          ],
          "scattergl": [
           {
            "marker": {
             "colorbar": {
              "outlinewidth": 0,
              "ticks": ""
             }
            },
            "type": "scattergl"
           }
          ],
          "scattermap": [
           {
            "marker": {
             "colorbar": {
              "outlinewidth": 0,
              "ticks": ""
             }
            },
            "type": "scattermap"
           }
          ],
          "scattermapbox": [
           {
            "marker": {
             "colorbar": {
              "outlinewidth": 0,
              "ticks": ""
             }
            },
            "type": "scattermapbox"
           }
          ],
          "scatterpolar": [
           {
            "marker": {
             "colorbar": {
              "outlinewidth": 0,
              "ticks": ""
             }
            },
            "type": "scatterpolar"
           }
          ],
          "scatterpolargl": [
           {
            "marker": {
             "colorbar": {
              "outlinewidth": 0,
              "ticks": ""
             }
            },
            "type": "scatterpolargl"
           }
          ],
          "scatterternary": [
           {
            "marker": {
             "colorbar": {
              "outlinewidth": 0,
              "ticks": ""
             }
            },
            "type": "scatterternary"
           }
          ],
          "surface": [
           {
            "colorbar": {
             "outlinewidth": 0,
             "ticks": ""
            },
            "colorscale": [
             [
              0,
              "#0d0887"
             ],
             [
              0.1111111111111111,
              "#46039f"
             ],
             [
              0.2222222222222222,
              "#7201a8"
             ],
             [
              0.3333333333333333,
              "#9c179e"
             ],
             [
              0.4444444444444444,
              "#bd3786"
             ],
             [
              0.5555555555555556,
              "#d8576b"
             ],
             [
              0.6666666666666666,
              "#ed7953"
             ],
             [
              0.7777777777777778,
              "#fb9f3a"
             ],
             [
              0.8888888888888888,
              "#fdca26"
             ],
             [
              1,
              "#f0f921"
             ]
            ],
            "type": "surface"
           }
          ],
          "table": [
           {
            "cells": {
             "fill": {
              "color": "#EBF0F8"
             },
             "line": {
              "color": "white"
             }
            },
            "header": {
             "fill": {
              "color": "#C8D4E3"
             },
             "line": {
              "color": "white"
             }
            },
            "type": "table"
           }
          ]
         },
         "layout": {
          "annotationdefaults": {
           "arrowcolor": "#2a3f5f",
           "arrowhead": 0,
           "arrowwidth": 1
          },
          "autotypenumbers": "strict",
          "coloraxis": {
           "colorbar": {
            "outlinewidth": 0,
            "ticks": ""
           }
          },
          "colorscale": {
           "diverging": [
            [
             0,
             "#8e0152"
            ],
            [
             0.1,
             "#c51b7d"
            ],
            [
             0.2,
             "#de77ae"
            ],
            [
             0.3,
             "#f1b6da"
            ],
            [
             0.4,
             "#fde0ef"
            ],
            [
             0.5,
             "#f7f7f7"
            ],
            [
             0.6,
             "#e6f5d0"
            ],
            [
             0.7,
             "#b8e186"
            ],
            [
             0.8,
             "#7fbc41"
            ],
            [
             0.9,
             "#4d9221"
            ],
            [
             1,
             "#276419"
            ]
           ],
           "sequential": [
            [
             0,
             "#0d0887"
            ],
            [
             0.1111111111111111,
             "#46039f"
            ],
            [
             0.2222222222222222,
             "#7201a8"
            ],
            [
             0.3333333333333333,
             "#9c179e"
            ],
            [
             0.4444444444444444,
             "#bd3786"
            ],
            [
             0.5555555555555556,
             "#d8576b"
            ],
            [
             0.6666666666666666,
             "#ed7953"
            ],
            [
             0.7777777777777778,
             "#fb9f3a"
            ],
            [
             0.8888888888888888,
             "#fdca26"
            ],
            [
             1,
             "#f0f921"
            ]
           ],
           "sequentialminus": [
            [
             0,
             "#0d0887"
            ],
            [
             0.1111111111111111,
             "#46039f"
            ],
            [
             0.2222222222222222,
             "#7201a8"
            ],
            [
             0.3333333333333333,
             "#9c179e"
            ],
            [
             0.4444444444444444,
             "#bd3786"
            ],
            [
             0.5555555555555556,
             "#d8576b"
            ],
            [
             0.6666666666666666,
             "#ed7953"
            ],
            [
             0.7777777777777778,
             "#fb9f3a"
            ],
            [
             0.8888888888888888,
             "#fdca26"
            ],
            [
             1,
             "#f0f921"
            ]
           ]
          },
          "colorway": [
           "#636efa",
           "#EF553B",
           "#00cc96",
           "#ab63fa",
           "#FFA15A",
           "#19d3f3",
           "#FF6692",
           "#B6E880",
           "#FF97FF",
           "#FECB52"
          ],
          "font": {
           "color": "#2a3f5f"
          },
          "geo": {
           "bgcolor": "white",
           "lakecolor": "white",
           "landcolor": "#E5ECF6",
           "showlakes": true,
           "showland": true,
           "subunitcolor": "white"
          },
          "hoverlabel": {
           "align": "left"
          },
          "hovermode": "closest",
          "mapbox": {
           "style": "light"
          },
          "paper_bgcolor": "white",
          "plot_bgcolor": "#E5ECF6",
          "polar": {
           "angularaxis": {
            "gridcolor": "white",
            "linecolor": "white",
            "ticks": ""
           },
           "bgcolor": "#E5ECF6",
           "radialaxis": {
            "gridcolor": "white",
            "linecolor": "white",
            "ticks": ""
           }
          },
          "scene": {
           "xaxis": {
            "backgroundcolor": "#E5ECF6",
            "gridcolor": "white",
            "gridwidth": 2,
            "linecolor": "white",
            "showbackground": true,
            "ticks": "",
            "zerolinecolor": "white"
           },
           "yaxis": {
            "backgroundcolor": "#E5ECF6",
            "gridcolor": "white",
            "gridwidth": 2,
            "linecolor": "white",
            "showbackground": true,
            "ticks": "",
            "zerolinecolor": "white"
           },
           "zaxis": {
            "backgroundcolor": "#E5ECF6",
            "gridcolor": "white",
            "gridwidth": 2,
            "linecolor": "white",
            "showbackground": true,
            "ticks": "",
            "zerolinecolor": "white"
           }
          },
          "shapedefaults": {
           "line": {
            "color": "#2a3f5f"
           }
          },
          "ternary": {
           "aaxis": {
            "gridcolor": "white",
            "linecolor": "white",
            "ticks": ""
           },
           "baxis": {
            "gridcolor": "white",
            "linecolor": "white",
            "ticks": ""
           },
           "bgcolor": "#E5ECF6",
           "caxis": {
            "gridcolor": "white",
            "linecolor": "white",
            "ticks": ""
           }
          },
          "title": {
           "x": 0.05
          },
          "xaxis": {
           "automargin": true,
           "gridcolor": "white",
           "linecolor": "white",
           "ticks": "",
           "title": {
            "standoff": 15
           },
           "zerolinecolor": "white",
           "zerolinewidth": 2
          },
          "yaxis": {
           "automargin": true,
           "gridcolor": "white",
           "linecolor": "white",
           "ticks": "",
           "title": {
            "standoff": 15
           },
           "zerolinecolor": "white",
           "zerolinewidth": 2
          }
         }
        },
        "title": {
         "text": "직무별 평균 재직기간 비교 (재직자 vs 퇴사자)"
        },
        "updatemenus": [
         {
          "active": 0,
          "buttons": [
           {
            "args": [
             {
              "visible": [
               true,
               true,
               false,
               false,
               false,
               false,
               false,
               false,
               false,
               false
              ]
             }
            ],
            "label": "전체",
            "method": "update"
           },
           {
            "args": [
             {
              "visible": [
               false,
               false,
               true,
               true,
               false,
               false,
               false,
               false,
               false,
               false
              ]
             }
            ],
            "label": "Planning Division",
            "method": "update"
           },
           {
            "args": [
             {
              "visible": [
               false,
               false,
               false,
               false,
               true,
               true,
               false,
               false,
               false,
               false
              ]
             }
            ],
            "label": "Sales Division",
            "method": "update"
           },
           {
            "args": [
             {
              "visible": [
               false,
               false,
               false,
               false,
               false,
               false,
               true,
               true,
               false,
               false
              ]
             }
            ],
            "label": "Development Division",
            "method": "update"
           },
           {
            "args": [
             {
              "visible": [
               false,
               false,
               false,
               false,
               false,
               false,
               false,
               false,
               true,
               true
              ]
             }
            ],
            "label": "Operating Division",
            "method": "update"
           }
          ],
          "direction": "down",
          "pad": {
           "r": 10,
           "t": 10
          },
          "showactive": true,
          "x": 0.01,
          "xanchor": "left",
          "y": 1.1,
          "yanchor": "top"
         }
        ],
        "xaxis": {
         "range": [
          0,
          9.523248916267397
         ],
         "title": {
          "text": "평균 재직 기간 (년)"
         }
        },
        "yaxis": {
         "categoryarray": [
          "Production & Engineering",
          "Planning",
          "IT",
          "Sales & Marketing",
          "Management Support"
         ],
         "categoryorder": "array",
         "title": {
          "text": "직무 대분류"
         }
        }
       }
      }
     },
     "metadata": {},
     "output_type": "display_data"
    }
   ],
   "source": [
    "import pandas as pd\n",
    "import numpy as np\n",
    "import plotly.graph_objects as go\n",
    "import plotly.io as pio\n",
    "import plotly.express as px\n",
    "\n",
    "# --- 1. 데이터 임포트 ---\n",
    "from services.tables.HR_Core.basic_info_table import emp_df\n",
    "from services.tables.HR_Core.job_info_table import job_info_df\n",
    "from services.tables.HR_Core.department_info_table import department_info_df\n",
    "from services.tables.HR_Core.job_table import job_df, job_df_indexed, parent_map_job\n",
    "from services.tables.HR_Core.department_table import division_order, dept_level_map, parent_map_dept, dept_name_map\n",
    "from services.helpers.utils import get_level1_ancestor, find_division_name_for_dept\n",
    "\n",
    "def create_figure():\n",
    "    \"\"\"\n",
    "    제안 8: 직무별 인력 유지 현황 분석 그래프를 생성합니다.\n",
    "    \"\"\"\n",
    "    # --- 2. 데이터 준비 및 가공 ---\n",
    "    emp_base_df = emp_df[['EMP_ID', 'CURRENT_EMP_YN', 'DURATION']].copy()\n",
    "    emp_base_df['TENURE_YEARS'] = emp_base_df['DURATION'] / 365.25\n",
    "\n",
    "    last_job = job_info_df.sort_values('JOB_APP_START_DATE').groupby('EMP_ID').last()\n",
    "    last_dept = department_info_df.sort_values('DEP_APP_START_DATE').groupby('EMP_ID').last()\n",
    "\n",
    "    job_l1_map = job_df[job_df['JOB_LEVEL'] == 1].set_index('JOB_ID')['JOB_NAME'].to_dict()\n",
    "    last_job['JOB_CATEGORY'] = last_job['JOB_ID'].apply(lambda x: job_l1_map.get(get_level1_ancestor(x, job_df_indexed, parent_map_job)))\n",
    "    last_dept['DIVISION_NAME'] = last_dept['DEP_ID'].apply(lambda x: find_division_name_for_dept(x, dept_level_map, parent_map_dept, dept_name_map))\n",
    "\n",
    "    analysis_df = pd.merge(emp_base_df, last_job[['JOB_CATEGORY']], on='EMP_ID', how='left')\n",
    "    analysis_df = pd.merge(analysis_df, last_dept[['DIVISION_NAME']], on='EMP_ID', how='left')\n",
    "    analysis_df = analysis_df.dropna(subset=['JOB_CATEGORY', 'DIVISION_NAME'])\n",
    "    analysis_df['STATUS'] = np.where(analysis_df['CURRENT_EMP_YN'] == 'Y', '재직자', '퇴사자')\n",
    "\n",
    "    summary_df = analysis_df.groupby(['DIVISION_NAME', 'JOB_CATEGORY', 'STATUS'], observed=False).agg(\n",
    "        AVG_TENURE=('TENURE_YEARS', 'mean'),\n",
    "        HEADCOUNT=('EMP_ID', 'nunique')\n",
    "    ).unstack(level='STATUS').fillna(0)\n",
    "\n",
    "    summary_df.columns = [f'{val}_{stat}' for val, stat in summary_df.columns]\n",
    "    summary_df = summary_df.reset_index()\n",
    "\n",
    "    global_job_order = summary_df.groupby('JOB_CATEGORY')['AVG_TENURE_재직자'].mean().sort_values(ascending=True).index.tolist()\n",
    "    x_max = pd.concat([summary_df['AVG_TENURE_재직자'], summary_df['AVG_TENURE_퇴사자']]).max()\n",
    "    fixed_x_range = [0, x_max * 1.15]\n",
    "\n",
    "    # --- 3. Plotly 인터랙티브 그래프 생성 ---\n",
    "    fig = go.Figure()\n",
    "    division_list = ['전체'] + division_order\n",
    "\n",
    "    for i, div_name in enumerate(division_list):\n",
    "        is_visible = (i == 0)\n",
    "        if div_name == '전체':\n",
    "            df_grouped = summary_df.groupby('JOB_CATEGORY', observed=False).agg({\n",
    "                'AVG_TENURE_재직자': 'mean', 'HEADCOUNT_재직자': 'sum',\n",
    "                'AVG_TENURE_퇴사자': 'mean', 'HEADCOUNT_퇴사자': 'sum'\n",
    "            }).reset_index()\n",
    "        else:\n",
    "            df_grouped = summary_df[summary_df['DIVISION_NAME'] == div_name]\n",
    "\n",
    "        fig.add_trace(go.Bar(\n",
    "            y=df_grouped['JOB_CATEGORY'], x=df_grouped['AVG_TENURE_재직자'],\n",
    "            name='재직자', orientation='h', visible=is_visible,\n",
    "            customdata=df_grouped['HEADCOUNT_재직자'], text=df_grouped['AVG_TENURE_재직자'].round(2),\n",
    "            textposition='outside', hovertemplate='평균 재직기간: %{x:.2f}년<br>인원: %{customdata}명<extra></extra>'\n",
    "        ))\n",
    "        fig.add_trace(go.Bar(\n",
    "            y=df_grouped['JOB_CATEGORY'], x=df_grouped['AVG_TENURE_퇴사자'],\n",
    "            name='퇴사자', orientation='h', visible=is_visible,\n",
    "            customdata=df_grouped['HEADCOUNT_퇴사자'], text=df_grouped['AVG_TENURE_퇴사자'].round(2),\n",
    "            textposition='outside', hovertemplate='평균 재직기간: %{x:.2f}년<br>인원: %{customdata}명<extra></extra>'\n",
    "        ))\n",
    "\n",
    "    # --- 4. 드롭다운 메뉴 생성 및 레이아웃 업데이트 ---\n",
    "    buttons = []\n",
    "    for i, div_name in enumerate(division_list):\n",
    "        visibility_mask = [False] * (len(division_list) * 2)\n",
    "        visibility_mask[i*2], visibility_mask[i*2 + 1] = True, True\n",
    "        buttons.append(\n",
    "            dict(label=div_name, method='update', args=[{'visible': visibility_mask}])\n",
    "        )\n",
    "\n",
    "    fig.update_layout(\n",
    "        updatemenus=[dict(\n",
    "            active=0, buttons=buttons, direction=\"down\",\n",
    "            pad={\"r\": 10, \"t\": 10}, showactive=True,\n",
    "            x=0.01, xanchor=\"left\", y=1.1, yanchor=\"top\"\n",
    "        )],\n",
    "        title_text='직무별 평균 재직기간 비교 (재직자 vs 퇴사자)',\n",
    "        xaxis_title='평균 재직 기간 (년)',\n",
    "        font_size=14, height=700,\n",
    "        barmode='group',\n",
    "        legend_title_text='상태',\n",
    "        annotations=[dict(text=\"조직 선택:\", showarrow=False, x=0, y=1.08, yref=\"paper\", align=\"left\")],\n",
    "        xaxis_range=fixed_x_range,\n",
    "        yaxis=dict(\n",
    "            title='직무 대분류',\n",
    "            categoryorder='array',\n",
    "            categoryarray=global_job_order\n",
    "        )\n",
    "    )\n",
    "    \n",
    "    return fig\n",
    "\n",
    "\n",
    "\n",
    "    pio.renderers.default = 'vscode'\n",
    "    fig = create_figure()\n",
    "    fig.show()"
   ]
  },
  {
   "cell_type": "code",
   "execution_count": null,
   "id": "2e1557be",
   "metadata": {},
   "outputs": [],
   "source": []
  }
 ],
 "metadata": {
  "kernelspec": {
   "display_name": "Python 3 (ipykernel)",
   "language": "python",
   "name": "python3"
  },
  "language_info": {
   "codemirror_mode": {
    "name": "ipython",
    "version": 3
   },
   "file_extension": ".py",
   "mimetype": "text/x-python",
   "name": "python",
   "nbconvert_exporter": "python",
   "pygments_lexer": "ipython3",
   "version": "3.12.11"
  }
 },
 "nbformat": 4,
 "nbformat_minor": 5
}
