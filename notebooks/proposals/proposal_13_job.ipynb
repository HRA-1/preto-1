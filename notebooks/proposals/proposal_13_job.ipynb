{
 "cells": [
  {
   "cell_type": "code",
   "execution_count": 4,
   "id": "9a33dccf",
   "metadata": {},
   "outputs": [
    {
     "data": {
      "application/vnd.plotly.v1+json": {
       "config": {
        "plotlyServerURL": "https://plot.ly"
       },
       "data": [
        {
         "line": {
          "color": "#636EFA"
         },
         "mode": "lines+markers",
         "name": "IT",
         "type": "scatter",
         "x": [
          "2020-01",
          "2020-02",
          "2020-03",
          "2020-04",
          "2020-05",
          "2020-06",
          "2020-07",
          "2020-08",
          "2020-09",
          "2020-10",
          "2020-11",
          "2020-12",
          "2021-01",
          "2021-02",
          "2021-03",
          "2021-04",
          "2021-05",
          "2021-06",
          "2021-07",
          "2021-08",
          "2021-09",
          "2021-10",
          "2021-11",
          "2021-12",
          "2022-01",
          "2022-02",
          "2022-03",
          "2022-04",
          "2022-05",
          "2022-06",
          "2022-07",
          "2022-08",
          "2022-09",
          "2022-10",
          "2022-11",
          "2022-12",
          "2023-01",
          "2023-02",
          "2023-03",
          "2023-04",
          "2023-05",
          "2023-06",
          "2023-07",
          "2023-08",
          "2023-09",
          "2023-10",
          "2023-11",
          "2023-12",
          "2024-01",
          "2024-02",
          "2024-03",
          "2024-04",
          "2024-05",
          "2024-06",
          "2024-07",
          "2024-08",
          "2024-09",
          "2024-10",
          "2024-11",
          "2024-12",
          "2025-01",
          "2025-02",
          "2025-03",
          "2025-04",
          "2025-05",
          "2025-06",
          "2025-07",
          "2025-08"
         ],
         "y": {
          "bdata": "Xir3w5BdEsCRkZGRkZERwL6KVyTxvRPAIAiCIAgCE8AHdVAHddARwFEURVEUxQ7A5RZPbvHkDcBGssF6J0ASwOJE5WmhOxTAszmbszmbD8COvOftN7AQwPtWrblNPhHAVLQv+F0jDsCd5MDSSY4QwJTPsUD5HBTAkl4r+MSRE8B00UUXXZQSwOSEjdL6PBHAkLc0By+sFsBdeUCyzpUOwAD1Pt7SHBTAVsATr4leD8CrqqqqqqoQwIQPPvjgwxXAQobKDlMXEEBRBEVQBEUQQML1KFyPwhFAMAMzMAMzEEClCSs2j1cOQA0PGkb2thFAxcJjBwppEECP2Vq1dMcPQHxeSVFugxJA8bK62VVGEkDxgT28cssVQPPjcZrKsxJAwiRMwiRsFECyzpUHJOsSQBnVKABz4xJAPmaxEeVjFUCKDgUY8r0XQLSe+Qd2bBVACQSLQLCIEUChh8IIeigVQKJVlypadRVAYQu2YAu2E0DSl5VQ9ecVQMVhNrQtGhVAT+EFT+EFFkC2kUi2kUgUQGZxhHO7CRJASp/0SZ9UE0AksWE+EpsTQOpBMJoehBNAI0iRI0iREkAKYGRxmA0UQHRZ+D6XhRJAkMSG+UhsEkD9zu/8zu8OQJVp52DNEhBAI4vDbGjbEkD8XBa+z+UQQCYV/XtqUhNAtg79ZuuQEECBxx8OeLwRQEt+seQXSxFAVl8qaPUlEkBTEPpHtzELQA==",
          "dtype": "f8"
         }
        },
        {
         "line": {
          "color": "#EF553B"
         },
         "mode": "lines+markers",
         "name": "Management Support",
         "type": "scatter",
         "x": [
          "2020-01",
          "2020-02",
          "2020-03",
          "2020-04",
          "2020-05",
          "2020-06",
          "2020-07",
          "2020-08",
          "2020-09",
          "2020-10",
          "2020-11",
          "2020-12",
          "2021-01",
          "2021-02",
          "2021-03",
          "2021-04",
          "2021-05",
          "2021-06",
          "2021-07",
          "2021-08",
          "2021-09",
          "2021-10",
          "2021-11",
          "2021-12",
          "2022-01",
          "2022-02",
          "2022-03",
          "2022-04",
          "2022-05",
          "2022-06",
          "2022-07",
          "2022-08",
          "2022-09",
          "2022-10",
          "2022-11",
          "2022-12",
          "2023-01",
          "2023-02",
          "2023-03",
          "2023-04",
          "2023-05",
          "2023-06",
          "2023-07",
          "2023-08",
          "2023-09",
          "2023-10",
          "2023-11",
          "2023-12",
          "2024-01",
          "2024-02",
          "2024-03",
          "2024-04",
          "2024-05",
          "2024-06",
          "2024-07",
          "2024-08",
          "2024-09",
          "2024-10",
          "2024-11",
          "2024-12",
          "2025-01",
          "2025-02",
          "2025-03",
          "2025-04",
          "2025-05",
          "2025-06",
          "2025-07",
          "2025-08"
         ],
         "y": {
          "bdata": "+hwLlM+x6D+LB0moeJDwP/DBBx988O0/nhLkKUGeoj8GTGPANAb1P+JWKG6F4vU/krO+F+Ai7T8+dTIcatn5P97d3d3dnfY/+6RP+qRP8T8gZ+RL760BQPGpLMUhY/s/FYpbobgVCUAB1Pt4S3MIQPx1SeXDuAlA7+7u7u7uCUDd/iBDZYcDQHLW9wJcJARAgy3Ygi14CUCJiIiIiGgEQOeY1wviafw/XCdRyQII9z9mZmZmZib4PwGjVJPHnfk/ReeY1wviBUBglGryuLMAQI95vSCeBgtAxvrQWB8aAUDgI4cEbRkDQLAFW7AF+wNA9Emf9Ek/BkDfYflMPbAGQJm63P4gQw9AK7ESK7ESD0BPxepUrE4RQHRLnPo9twtAbrPx3OM2C0APe6NS9LASQHRLnPo9NxRAF0t+seRXD0D8uZ/7uZ8TQMEP/MAP/A5AHvZGpehhEEDUJIPGP80XQCp62BuVohFAq6qqqqoKFECnxTZ+WmwVQPEgCRUPkhFATGPANAbMD0AlyFOCPKUNQERPBWZxJw5ALeNDTwVmDUDs9ljL0AEQQPArRzzaZw5Aey6AXzniDUDH3KCFkPIQQCIiIiIiMhBAxtuXNLdOEkDA8KksxSESQOcIFG01eA5AIx7tM7EYE0DF4NVzAfwOQBc+laU4ZBJA8WificXgEUCf9Emf9JkUQO/u7u7unhJA7+7u7u5+EkDHcRzHcZwNQA==",
          "dtype": "f8"
         }
        },
        {
         "line": {
          "color": "#00CC96"
         },
         "mode": "lines+markers",
         "name": "Planning",
         "type": "scatter",
         "x": [
          "2020-01",
          "2020-02",
          "2020-03",
          "2020-04",
          "2020-05",
          "2020-06",
          "2020-07",
          "2020-08",
          "2020-09",
          "2020-10",
          "2020-11",
          "2020-12",
          "2021-01",
          "2021-02",
          "2021-03",
          "2021-04",
          "2021-05",
          "2021-06",
          "2021-07",
          "2021-08",
          "2021-09",
          "2021-10",
          "2021-11",
          "2021-12",
          "2022-01",
          "2022-02",
          "2022-03",
          "2022-04",
          "2022-05",
          "2022-06",
          "2022-07",
          "2022-08",
          "2022-09",
          "2022-10",
          "2022-11",
          "2022-12",
          "2023-01",
          "2023-02",
          "2023-03",
          "2023-04",
          "2023-05",
          "2023-06",
          "2023-07",
          "2023-08",
          "2023-09",
          "2023-10",
          "2023-11",
          "2023-12",
          "2024-01",
          "2024-02",
          "2024-03",
          "2024-04",
          "2024-05",
          "2024-06",
          "2024-07",
          "2024-08",
          "2024-09",
          "2024-10",
          "2024-11",
          "2024-12",
          "2025-01",
          "2025-02",
          "2025-03",
          "2025-04",
          "2025-05",
          "2025-06",
          "2025-07",
          "2025-08"
         ],
         "y": {
          "bdata": "HiUgzgSLAcCmO9hvtTEAwB4tn3ZGXfy/4Ahl9LYsAcAOLbKd76f1v1VVVVVVVfq/oYzelrU6AsC7SQwCKwcGwLNWxwQP5gHAdcL40TbKB8CVEQLEy+oAwOF5MWWJbwHAdb2JZX+RBMCUPumTPukIwDoyvWxl8AnA13RN13QNAsAzMzMzM3MCwAoOiC/ewwLAwZ5pqC8E9b8sbxtE0WABwHNWeo11E+6/Qrb+S3xa9b9pB0u1Nynyv6mDOqiDOvi/PtNQXwgSEkCupm907pURQEEVGv2qlxFAKZMVB15UEkA2guoZu7gWQLZgC7ZgCxNAX5WCqvVVD0Bc88MiZSAUQPaeIl0FiRFAYafRtw52EUCLlIGnWzMSQCk05Ye8+hJA+R7TajvaEUBHWkLgmjESQASBmKZIEBRAbgudJ+G2DkALoB0s1d4SQPz2E2Z5hRNAntiJndhpEUDBYkxbUa0UQAFWqwBWKxNAAAAAAADgE0DE4bX3FOkWQFslZOu/RBFAvuZC0pQKEUC+5kLSlAoOQMymdGeMvg1AozVaozVaEEDUSLPRtWQQQEOY7UKY7QtAgzRIgzQIEkASyuhtWasRQCn0HZbP1BBAGaWaPO6sEUCL5+SFKSwRQFQY/QdqXBFAU/b4V7SxFEDxGXYFyD0SQMOuALnX3BJAGnYFyL0mEEDm7QyJeTsSQESACVYZkBBAvvTeGjYrD0BcwRVcwRUKQA==",
          "dtype": "f8"
         }
        },
        {
         "line": {
          "color": "#AB63FA"
         },
         "mode": "lines+markers",
         "name": "Production & Engineering",
         "type": "scatter",
         "x": [
          "2020-01",
          "2020-02",
          "2020-03",
          "2020-04",
          "2020-05",
          "2020-06",
          "2020-07",
          "2020-08",
          "2020-09",
          "2020-10",
          "2020-11",
          "2020-12",
          "2021-01",
          "2021-02",
          "2021-03",
          "2021-04",
          "2021-05",
          "2021-06",
          "2021-07",
          "2021-08",
          "2021-09",
          "2021-10",
          "2021-11",
          "2021-12",
          "2022-01",
          "2022-02",
          "2022-03",
          "2022-04",
          "2022-05",
          "2022-06",
          "2022-07",
          "2022-08",
          "2022-09",
          "2022-10",
          "2022-11",
          "2022-12",
          "2023-01",
          "2023-02",
          "2023-03",
          "2023-04",
          "2023-05",
          "2023-06",
          "2023-07",
          "2023-08",
          "2023-09",
          "2023-10",
          "2023-11",
          "2023-12",
          "2024-01",
          "2024-02",
          "2024-03",
          "2024-04",
          "2024-05",
          "2024-06",
          "2024-07",
          "2024-08",
          "2024-09",
          "2024-10",
          "2024-11",
          "2024-12",
          "2025-01",
          "2025-02",
          "2025-03",
          "2025-04",
          "2025-05",
          "2025-06",
          "2025-07",
          "2025-08"
         ],
         "y": {
          "bdata": "q6qqqqoONsCJiIiIiMgxwOQqnEquQjXAIZ23GNJ5NMCEQiiEQmg0wFkscK2BRTTAAAAAAADgNMDjMBvaFg0zwBcXFxcXFzTA27xPccmwNMC21y93EoozwMIHH3zwgTXArHSFMdUCNMB2flQmDQszwOkk3qM3UzXA/IIQhV0mNcBK8Fn0moQ0wC4opeOCUjXAgSnwO3P8MsC8xtnIEJ80wBOhBleBDTTAoZhk355LM8CWkA96NqszwF03zXXTnDTAs1bHBA/mC0DD0ytlGeIEQL/G52t8Pg1AEp3Ee/RmCkDlH/q2BngKQPQIoKxtqAZASvBZ9JoEBkAWbMEWbMEHQAR7OdnzIgpAbK211lrrCUDaNKBNA9oFQFuAXu6KcQdAAoXXOBsZDEDgm1cTz0oHQEWlqe9PVApAbCJFreWOB0AveAoveAoLQAAHcAAHcAhATEtLS0tLB0CqMPF+5DQNQF7jbGSILwVAm9+vIHNqCEAxdbn9QUYFQNaV0oirEwRAb+lfaESdBUDzqlxpszgGQBo7qw4ovAZAenl5eXl5CUBdl3Eufu8KQFJKKaWUUglAhBBCCCEEC0CClqAlaAkOQLzq3iFRRQ5A1QyW1zcdDEA17zhFR3IJQPQER09w9A1AXB9moAyxCkDUHkjtgdQGQGtXonYlaglAy1+y/CXLC0CeEeAZAR4LQJ020GkD3QhACoPvNAV2CkCb48OxOT4CQA==",
          "dtype": "f8"
         }
        },
        {
         "line": {
          "color": "#FFA15A"
         },
         "mode": "lines+markers",
         "name": "Sales & Marketing",
         "type": "scatter",
         "x": [
          "2020-01",
          "2020-02",
          "2020-03",
          "2020-04",
          "2020-05",
          "2020-06",
          "2020-07",
          "2020-08",
          "2020-09",
          "2020-10",
          "2020-11",
          "2020-12",
          "2021-01",
          "2021-02",
          "2021-03",
          "2021-04",
          "2021-05",
          "2021-06",
          "2021-07",
          "2021-08",
          "2021-09",
          "2021-10",
          "2021-11",
          "2021-12",
          "2022-01",
          "2022-02",
          "2022-03",
          "2022-04",
          "2022-05",
          "2022-06",
          "2022-07",
          "2022-08",
          "2022-09",
          "2022-10",
          "2022-11",
          "2022-12",
          "2023-01",
          "2023-02",
          "2023-03",
          "2023-04",
          "2023-05",
          "2023-06",
          "2023-07",
          "2023-08",
          "2023-09",
          "2023-10",
          "2023-11",
          "2023-12",
          "2024-01",
          "2024-02",
          "2024-03",
          "2024-04",
          "2024-05",
          "2024-06",
          "2024-07",
          "2024-08",
          "2024-09",
          "2024-10",
          "2024-11",
          "2024-12",
          "2025-01",
          "2025-02",
          "2025-03",
          "2025-04",
          "2025-05",
          "2025-06",
          "2025-07",
          "2025-08"
         ],
         "y": {
          "bdata": "UanCgJKXFcAdl/C03GwRwGVZlmVZlhTAERERERFRFcBteCnMAD8VwMnWf4lPqxPALZwBoeTOFMAXlaNMVhwVwJ6ihTMglBbAW7AFW7BFE8CQabUdTa4TwCOonrGL1xLA1eJNLd7UD8C9jtTrSD0QwDnyx+GKIw/AF0t+seQXDMCcVu1wDAoLwH0057bYDQzACGepJC7bEMBLGGKCsIQNwHd3d3d3BxHAENMUCQIxEsBrS1CefoMUwCshW/8lPhXAje139MrYCEAncAIncAIKQNIardEaTQlA/80wa/bfCUApi7Ioi7IKQDo1KAGMLAlA30Z/KCQXCEB8F80mwncLQEt+seQXywpAvLu7u7u7C0C09Z7PwD8GQLWo56zSFQlAdz3RLGkiDkAlirxVosgHQOPGuDFujA1AfXTy0clHB0BMHYa61GEGQMSMA8JhfAlAQk4c5MRBCEAbuAaugWsGQDMzMzMzRwJAscHFBhcbA0DfSOOJ840EQL0RPNEbwQFAS8XZh8+wAUCdc8455xwHQOzjwj4u7AVAlQck61x5CUBGvBnxZsQHQJs8jbXJ0wBAxgX2+TgpBUD8d2gqMtEKQImIiIiI9AVAAeJldbOrBkAmm2yyySYGQERERERErANALocdg9xyA0CDOqiDOqgDQG/UkfHHwwdAc/8w9w/zA0Bwlf9W+W8HQJkqOVQ97gVA1R2lMqd/CEDzozJpWKz8Pw==",
          "dtype": "f8"
         }
        },
        {
         "line": {
          "color": "#636EFA"
         },
         "mode": "lines+markers",
         "name": "SW Developer",
         "type": "scatter",
         "visible": false,
         "x": [
          "2020-01",
          "2020-02",
          "2020-03",
          "2020-04",
          "2020-05",
          "2020-06",
          "2020-07",
          "2020-08",
          "2020-09",
          "2020-10",
          "2020-11",
          "2020-12",
          "2021-01",
          "2021-02",
          "2021-03",
          "2021-04",
          "2021-05",
          "2021-06",
          "2021-07",
          "2021-08",
          "2021-09",
          "2021-10",
          "2021-11",
          "2021-12",
          "2022-01",
          "2022-02",
          "2022-03",
          "2022-04",
          "2022-05",
          "2022-06",
          "2022-07",
          "2022-08",
          "2022-09",
          "2022-10",
          "2022-11",
          "2022-12",
          "2023-01",
          "2023-02",
          "2023-03",
          "2023-04",
          "2023-05",
          "2023-06",
          "2023-07",
          "2023-08",
          "2023-09",
          "2023-10",
          "2023-11",
          "2023-12",
          "2024-01",
          "2024-02",
          "2024-03",
          "2024-04",
          "2024-05",
          "2024-06",
          "2024-07",
          "2024-08",
          "2024-09",
          "2024-10",
          "2024-11",
          "2024-12",
          "2025-01",
          "2025-02",
          "2025-03",
          "2025-04",
          "2025-05",
          "2025-06",
          "2025-07",
          "2025-08"
         ],
         "y": {
          "bdata": "MzMzMzMzDUDNzMzMzMwTQDMzMzMzMwFARERERERE7D8zMzMzMzMJQAAAAAAAAPS/ERERERERAUBmZmZmZmbWPxEREREREek/d3d3d3d3EEDv7u7u7u4IQLy7u7u7uxlAzczMzMzM9D/NzMzMzMwMQGZmZmZmJiFAzczMzMzM1L93d3d3d/cMQERERERERA9Ad3d3d3d3p7+TXyz5xRIlQI/C9ShcDylAvLu7u7s7G0BkP/ZjP/YaQPmKr/iKrxVAmpmZmZmZH0BmZmZmZiYhQBERERER4SNAERERERGxG0C8u7u7u/saQAAAAAAAsCFAQLLOlQckHEBa58oDknUOQLy7u7u7GxdAIiIiIiKCHUDe3d3d3V0eQCIiIiIighFAiYiIiIgI9D/e3d3d3f0SQM3MzMzMjAxAq6qqqqpqEkAzMzMzM1MUQN7d3d3d3RFA7+7u7u7u/T9fQnsJ7SX0P0xoL6G9hP4/U4wa/jbFAECwBVuwBVv4P6G9hPYS2hFA7+7u7u7uEECrqqqqqqoXQHd3d3d3twVA7+7u7u4uDEDe3d3d3V0BQN7d3d3dHRFAa/jbFKOGA0Avob2E9hIMQD0gWefKAxdAJrSX0F5CEEBhC7ZgC7YMQDMzMzMzMxFAXXlAss6VD0A+6ZM+6ZMQQEYNf5ti1BRA7SW0l9BeBEBVVVVVVdUSQPEVX/EVX/U/tm3btm3bEkBVVVVVVVX1Pw==",
          "dtype": "f8"
         }
        },
        {
         "line": {
          "color": "#EF553B"
         },
         "mode": "lines+markers",
         "name": "Infrastructure",
         "type": "scatter",
         "visible": false,
         "x": [
          "2020-01",
          "2020-02",
          "2020-03",
          "2020-04",
          "2020-05",
          "2020-06",
          "2020-07",
          "2020-08",
          "2020-09",
          "2020-10",
          "2020-11",
          "2020-12",
          "2021-01",
          "2021-02",
          "2021-03",
          "2021-04",
          "2021-05",
          "2021-06",
          "2021-07",
          "2021-08",
          "2021-09",
          "2021-10",
          "2021-11",
          "2021-12",
          "2022-01",
          "2022-02",
          "2022-03",
          "2022-04",
          "2022-05",
          "2022-06",
          "2022-07",
          "2022-08",
          "2022-09",
          "2022-10",
          "2022-11",
          "2022-12",
          "2023-01",
          "2023-02",
          "2023-03",
          "2023-04",
          "2023-05",
          "2023-06",
          "2023-07",
          "2023-08",
          "2023-09",
          "2023-10",
          "2023-11",
          "2023-12",
          "2024-01",
          "2024-02",
          "2024-03",
          "2024-04",
          "2024-05",
          "2024-06",
          "2024-07",
          "2024-08",
          "2024-09",
          "2024-10",
          "2024-11",
          "2024-12",
          "2025-01",
          "2025-02",
          "2025-03",
          "2025-04",
          "2025-05",
          "2025-06",
          "2025-07",
          "2025-08"
         ],
         "y": {
          "bdata": "ozVaozUaPcCJiIiIiHg6wJqZmZmZiTzA4ARO4AROP8CyH/uxHzs6wEREREREpDrAsAVbsAV7PMDZj/3Yj/04wE7gBE7ghDjAQh3UQR2UPsBKkiRJkiQ7wOMrvuIrfjzAV3zFV3xFN8Bu27Zt2/Y6wH/sx37sp0DA9DzP8zzPPsATOIETOME+wH/sx37sRz7AyH7sx34sQMCJiIiIiAg8wJdyKZdyaUDAEziBEzjBNMB3d3d3dzc6wKVcyqVcSjzAmpmZmZnZAUAzMzMzM7MIQHd3d3d3dwNAwE0xavjbBkAsD0jWufIKQPukT/qkTwxAq6qqqqqqDkAiIiIiIiIAQKYYNfxtigVAQacNdNpAB0CrqqqqqqoLQLWBThvotAJAq6qqqqoqEUAXS36x5BcHQBSuR+F6FBNAKkGeEuQpC0AlyFOCPCUMQGLtG9a+YQtA4QRO4ATOEEBpjdZojdYVQE7gBE7ghBdAbLRGa7TGHECcwAmcwEkgQBERERERERlAlEu5lEu5GUAREREREZEWQH/sx37sxxZABVuwBVuwF0CsiWdFIwEeQBmGYRiGYRtA1miN1mgNFUCFSZiESZgQQLZgC7ZgCwRAtmALtmCLBEDe3d3d3d36P8dxHMdxHAdApU/6pE96AEALtmALtuAAQG3P9mzP9gJAnMM5nMM5AkA+27M927MBQAQ/8AM/8AFAFVABFVABCUDlW77lW74PQA==",
          "dtype": "f8"
         }
        },
        {
         "line": {
          "color": "#00CC96"
         },
         "mode": "lines+markers",
         "name": "Data Scientist",
         "type": "scatter",
         "visible": false,
         "x": [
          "2020-01",
          "2020-02",
          "2020-03",
          "2020-04",
          "2020-05",
          "2020-06",
          "2020-07",
          "2020-08",
          "2020-09",
          "2020-10",
          "2020-11",
          "2020-12",
          "2021-01",
          "2021-02",
          "2021-03",
          "2021-04",
          "2021-05",
          "2021-06",
          "2021-07",
          "2021-08",
          "2021-09",
          "2021-10",
          "2021-11",
          "2021-12",
          "2022-01",
          "2022-02",
          "2022-03",
          "2022-04",
          "2022-05",
          "2022-06",
          "2022-07",
          "2022-08",
          "2022-09",
          "2022-10",
          "2022-11",
          "2022-12",
          "2023-01",
          "2023-02",
          "2023-03",
          "2023-04",
          "2023-05",
          "2023-06",
          "2023-07",
          "2023-08",
          "2023-09",
          "2023-10",
          "2023-11",
          "2023-12",
          "2024-01",
          "2024-02",
          "2024-03",
          "2024-04",
          "2024-05",
          "2024-06",
          "2024-07",
          "2024-08",
          "2024-09",
          "2024-10",
          "2024-11",
          "2024-12",
          "2025-01",
          "2025-02",
          "2025-03",
          "2025-04",
          "2025-05",
          "2025-06",
          "2025-07",
          "2025-08"
         ],
         "y": {
          "bdata": "56QIc9PCA8BzgGWbL4cBwKx14Qm5WgTAs5jOYjoLA8Af9kal6GEEwIuEjv9V1ADAtKKRgG9e/b+j3UrrvsUFwEtYzKbnjgrAuVoXnpCr+b9nHz7DrgABwBw0f/2ukwHAY1witRRBAMCNrXtGlh4CwOohTYytewbADrBs8+UABcBSBfgL7poFwDujMzqjMwPA42QNgua1DMAUSZEUSZEEwGAERmAERg3A4HNLnPq9CcD3EdxHcB8JwK0bTJHPOhHAN4lBYOXQDkDd/iBDZYcNQP4LsnriPxBAlwEFotioDkChjN6WtToMQG9Uih72RhBAJb9Y8otlDkCmkrhsBNUQQM3MzMzM7BJAjmEPCWv8EUAKbzR1fu0VQAcBtz6b8RNAFcLrViE8FkDl9gcZKrsTQISbUxQaSBNA8axoJOCbFkBkQS2Mgz4ZQPYNa9+wthZAkKcEeUqQEkDU5fYHGaoWQCIt40NPhRZA/cZv/MZvE0CKn1HiZ9QVQB0y9trlxxRAC96ObJnoFUD2WnUrx6wTQJ0wfrSN8hFAMeeCaLIWE0CJEjnTO94SQMOnshSHjBJAfdInfdIHE0De3d3d3RUVQB5JWZ95KxNA7OBcy1SoE0CrqqqqqqoQQAETrDIghxBAtv0CwXl0FEDyT5MMGv8RQDUFM6SOhhRA0EJIeTI1EkDBfQT3EdwSQDVYRZ4fUBNAx3Ecx3HcEkDHcRzHcZwLQA==",
          "dtype": "f8"
         }
        },
        {
         "line": {
          "color": "#636EFA"
         },
         "mode": "lines+markers",
         "name": "HR",
         "type": "scatter",
         "visible": false,
         "x": [
          "2020-01",
          "2020-02",
          "2020-03",
          "2020-04",
          "2020-05",
          "2020-06",
          "2020-07",
          "2020-08",
          "2020-09",
          "2020-10",
          "2020-11",
          "2020-12",
          "2021-01",
          "2021-02",
          "2021-03",
          "2021-04",
          "2021-05",
          "2021-06",
          "2021-07",
          "2021-08",
          "2021-09",
          "2021-10",
          "2021-11",
          "2021-12",
          "2022-01",
          "2022-02",
          "2022-03",
          "2022-04",
          "2022-05",
          "2022-06",
          "2022-07",
          "2022-08",
          "2022-09",
          "2022-10",
          "2022-11",
          "2022-12",
          "2023-01",
          "2023-02",
          "2023-03",
          "2023-04",
          "2023-05",
          "2023-06",
          "2023-07",
          "2023-08",
          "2023-09",
          "2023-10",
          "2023-11",
          "2023-12",
          "2024-01",
          "2024-02",
          "2024-03",
          "2024-04",
          "2024-05",
          "2024-06",
          "2024-07",
          "2024-08",
          "2024-09",
          "2024-10",
          "2024-11",
          "2024-12",
          "2025-01",
          "2025-02",
          "2025-03",
          "2025-04",
          "2025-05",
          "2025-06",
          "2025-07",
          "2025-08"
         ],
         "y": {
          "bdata": "SpIkSZKkIUCGYRiGYRgaQCD7sR/7sRdAep7neZ7nEkCEOqiDOiggQPZjP/ZjPyBA9DzP8zzPHEBVVVVVVVUWQGZmZmZmRhtAqeFvU4waFUCamZmZmZkfQM3MzMzMrBhAERERERFxIUAREREREZETQLy7u7u7mxxAuvKAZJ0rHkB1rjwgWecaQB+F61G4HhhAKVyPwvWoGEDQaQOdNlAbQNs3rH3D2hlA9g1r37D2FUDwwQcffPAbQI7jOI7jeBlAOY7jOI5jDkA/6ZM+6ZMLQGELtmALNhJAVVVVVVVVCEBWaqVWaqUOQPzAD/zADxVAnMM5nMM5EkDUQR3UQR0RQIZhGIZhmBVApVzKpVzKCECGXuiFXugUQM3MzMzMDBZA+6RP+qTPD0D8wA/8wA8bQJIbuZEbuRlA4yu+4is+GUC2bdu2bVsZQM3MzMzMTBlA3LZt27ZtFECjNVqjNVobQAIncAIn8BZAHOi0gU4bGkAAAAAAAFAaQCIiIiIiAhBAL7c/yFDZEkD0SZ/0SZ8MQGZmZmZmRhFA7+7u7u5eE0AxavjbFKMTQDfFqOFvUxRAN8Wo4W9TFUAeKxBG2rEUQG2g0wY6rRZA7+7u7u6uFkBEREREREQXQERERERExBZAHWDZ5ssBGED9YskvlnwWQEREREREBBpA8oslv1iyFkDe3d3d3d0aQNzDPdzDPRhAEh7hER7hFkBLrMRKrMQSQA==",
          "dtype": "f8"
         }
        },
        {
         "line": {
          "color": "#EF553B"
         },
         "mode": "lines+markers",
         "name": "Finance",
         "type": "scatter",
         "visible": false,
         "x": [
          "2020-01",
          "2020-02",
          "2020-03",
          "2020-04",
          "2020-05",
          "2020-06",
          "2020-07",
          "2020-08",
          "2020-09",
          "2020-10",
          "2020-11",
          "2020-12",
          "2021-01",
          "2021-02",
          "2021-03",
          "2021-04",
          "2021-05",
          "2021-06",
          "2021-07",
          "2021-08",
          "2021-09",
          "2021-10",
          "2021-11",
          "2021-12",
          "2022-01",
          "2022-02",
          "2022-03",
          "2022-04",
          "2022-05",
          "2022-06",
          "2022-07",
          "2022-08",
          "2022-09",
          "2022-10",
          "2022-11",
          "2022-12",
          "2023-01",
          "2023-02",
          "2023-03",
          "2023-04",
          "2023-05",
          "2023-06",
          "2023-07",
          "2023-08",
          "2023-09",
          "2023-10",
          "2023-11",
          "2023-12",
          "2024-01",
          "2024-02",
          "2024-03",
          "2024-04",
          "2024-05",
          "2024-06",
          "2024-07",
          "2024-08",
          "2024-09",
          "2024-10",
          "2024-11",
          "2024-12",
          "2025-01",
          "2025-02",
          "2025-03",
          "2025-04",
          "2025-05",
          "2025-06",
          "2025-07",
          "2025-08"
         ],
         "y": {
          "bdata": "Sda58oBk6b+xBVuwBVugv7AJQdn7moC/qjOwhpQ6679yGOFIJoehPypvrZif8rY/HMABHMABzL+NzuiMzujsP0fhehSuR9U/XdM1XdM1vT/xCq/wCq/wP0qYhEmYhOk/+6RP+qRP/j9qVFuukkYFQHXhCblaFwNABlk98V+QAUCyzpUHJOv1P8k6Vx6QrPg/FtNZTGcxA0DqLKazmM72P+osprOYzto/ERERERER0T8/5a0V81O+vzHCkUwOI6w//RELuNMfA0CXpUsUfFn6P6c/YgF3+gdAN5gin3WD/T/WkFJnYA39P82R6WUrg/c/i6/4iq/4AEBcVN+OhxICQOAZAZ4R4AlAtm3btm0bEUBXfMVXfEUPQHZiJ3ZiJwRANV66SQwCCUBHKKO3Za0MQCYxCKwcWhFAkzAJkzAJBUBqA5020GkQQAAAAAAAAARAtmALtmALDECwBVuwBbsVQFVVVVVVFQ1AzYWkKRVnEEBr+NsUo4YSQPG3KUYNfxJA0OpLBa2+DECgy8L3uSwOQOaoG2uOugtAG+YjsWE+CED1IBhND4ILQFK8QCbFCwhAglZfKmj1BUD0PM/zPM8MQCIiIiIiIgdA20TJrk2UDkC6lEu5lEsNQJIkSZIkyQRAdVAHdVCHD0D0SZ/0SZ8EQHOiQwGGfAlANT8sUgaeDED6YZEy8HQPQFA9YxevfwxAGni6NT8sDkB8TKvtaHIHQA==",
          "dtype": "f8"
         }
        },
        {
         "line": {
          "color": "#636EFA"
         },
         "mode": "lines+markers",
         "name": "Business Planning",
         "type": "scatter",
         "visible": false,
         "x": [
          "2020-01",
          "2020-02",
          "2020-03",
          "2020-04",
          "2020-05",
          "2020-06",
          "2020-07",
          "2020-08",
          "2020-09",
          "2020-10",
          "2020-11",
          "2020-12",
          "2021-01",
          "2021-02",
          "2021-03",
          "2021-04",
          "2021-05",
          "2021-06",
          "2021-07",
          "2021-08",
          "2021-09",
          "2021-10",
          "2021-11",
          "2021-12",
          "2022-01",
          "2022-02",
          "2022-03",
          "2022-04",
          "2022-05",
          "2022-06",
          "2022-07",
          "2022-08",
          "2022-09",
          "2022-10",
          "2022-11",
          "2022-12",
          "2023-01",
          "2023-02",
          "2023-03",
          "2023-04",
          "2023-05",
          "2023-06",
          "2023-07",
          "2023-08",
          "2023-09",
          "2023-10",
          "2023-11",
          "2023-12",
          "2024-01",
          "2024-02",
          "2024-03",
          "2024-04",
          "2024-05",
          "2024-06",
          "2024-07",
          "2024-08",
          "2024-09",
          "2024-10",
          "2024-11",
          "2024-12",
          "2025-01",
          "2025-02",
          "2025-03",
          "2025-04",
          "2025-05",
          "2025-06",
          "2025-07",
          "2025-08"
         ],
         "y": {
          "bdata": "HiUgzgSLAcCmO9hvtTEAwB4tn3ZGXfy/4Ahl9LYsAcAOLbKd76f1v1VVVVVVVfq/oYzelrU6AsC7SQwCKwcGwLNWxwQP5gHAdcL40TbKB8CVEQLEy+oAwOF5MWWJbwHAdb2JZX+RBMCUPumTPukIwDoyvWxl8AnA13RN13QNAsAzMzMzM3MCwAoOiC/ewwLAwZ5pqC8E9b8sbxtE0WABwHNWeo11E+6/Qrb+S3xa9b9pB0u1Nynyv6mDOqiDOvi/PtNQXwgSEkCupm907pURQEEVGv2qlxFAKZMVB15UEkA2guoZu7gWQLZgC7ZgCxNAX5WCqvVVD0Bc88MiZSAUQPaeIl0FiRFAYafRtw52EUCLlIGnWzMSQCk05Ye8+hJA+R7TajvaEUBHWkLgmjESQASBmKZIEBRAbgudJ+G2DkALoB0s1d4SQPz2E2Z5hRNAntiJndhpEUDBYkxbUa0UQAFWqwBWKxNAAAAAAADgE0DE4bX3FOkWQFslZOu/RBFAvuZC0pQKEUC+5kLSlAoOQMymdGeMvg1AozVaozVaEEDUSLPRtWQQQEOY7UKY7QtAgzRIgzQIEkASyuhtWasRQCn0HZbP1BBAGaWaPO6sEUCL5+SFKSwRQFQY/QdqXBFAU/b4V7SxFEDxGXYFyD0SQMOuALnX3BJAGnYFyL0mEEDm7QyJeTsSQESACVYZkBBAvvTeGjYrD0BcwRVcwRUKQA==",
          "dtype": "f8"
         }
        },
        {
         "line": {
          "color": "#636EFA"
         },
         "mode": "lines+markers",
         "name": "Production Management",
         "type": "scatter",
         "visible": false,
         "x": [
          "2020-01",
          "2020-02",
          "2020-03",
          "2020-04",
          "2020-05",
          "2020-06",
          "2020-07",
          "2020-08",
          "2020-09",
          "2020-10",
          "2020-11",
          "2020-12",
          "2021-01",
          "2021-02",
          "2021-03",
          "2021-04",
          "2021-05",
          "2021-06",
          "2021-07",
          "2021-08",
          "2021-09",
          "2021-10",
          "2021-11",
          "2021-12",
          "2022-01",
          "2022-02",
          "2022-03",
          "2022-04",
          "2022-05",
          "2022-06",
          "2022-07",
          "2022-08",
          "2022-09",
          "2022-10",
          "2022-11",
          "2022-12",
          "2023-01",
          "2023-02",
          "2023-03",
          "2023-04",
          "2023-05",
          "2023-06",
          "2023-07",
          "2023-08",
          "2023-09",
          "2023-10",
          "2023-11",
          "2023-12",
          "2024-01",
          "2024-02",
          "2024-03",
          "2024-04",
          "2024-05",
          "2024-06",
          "2024-07",
          "2024-08",
          "2024-09",
          "2024-10",
          "2024-11",
          "2024-12",
          "2025-01",
          "2025-02",
          "2025-03",
          "2025-04",
          "2025-05",
          "2025-06",
          "2025-07",
          "2025-08"
         ],
         "y": {
          "bdata": "vtVbvdXLQcApiqIoioI9wDMzMzMzk0DAso2fFtsYQMCcGFq5iQFAwBJjHjHmUUHAonYlalfCQsAakzEZk3E/wGUAs1kGMEHA/iznz3KeQMBi7RvWvuFAwJCnBHlKSEPA84BknSuvQcAJA6j38RZBwK4dmGsHRkLAu6TyYdy/QsDHcRzHcQ5CwJvW8eaEEkPAXk08KxoJQcCdP8v5s/RBwGsXQax2sUHAgyIXYQD1QMDcYy1DB+xAwFK4HoXrUULAPEegaKvBAkC7jSkI/aP5P9yYgtA/ugpA2TxeacKKBkB90id90icHQNJtTEHoHwZA7ahFyF+zB0BVVVVVVZUHQOqgDuqgDgZAMzMzMzOzBkAFW7AFW/ADQDHu1yWVDwlAcahlT50MC0AhC1nIQhYIQPnm1cSzog1AkmrtGvN1BUDe6J7/CsEHQGQhC1nIQgdAJ4iTSaq1BUB0G1MQ+kcIQC+hvYT2EgJAo4suuuii/z/AN68mnhX9P0422WSTTfg/f6Yj9h2b+T8xavjbFKPyP2rZUyfDofo/D1OX2x9k/D9zgxZCypP9PzMzMzMzkwFASp/0SZ80/z/lydQ2qa4DQBZswRZsQQFApDyZ2ibVB0BuEdCD1bQCQGZmZmZmxgFAMvba5Ue6A0AZSO/PtcoAQMyPdH/hUwdA7+7u7u4uBUBBen+uVTYCQNXJcKhlTwFAzcELq5/pBEBxKxS3QnH6Pw==",
          "dtype": "f8"
         }
        },
        {
         "line": {
          "color": "#EF553B"
         },
         "mode": "lines+markers",
         "name": "Engineering",
         "type": "scatter",
         "visible": false,
         "x": [
          "2020-01",
          "2020-02",
          "2020-03",
          "2020-04",
          "2020-05",
          "2020-06",
          "2020-07",
          "2020-08",
          "2020-09",
          "2020-10",
          "2020-11",
          "2020-12",
          "2021-01",
          "2021-02",
          "2021-03",
          "2021-04",
          "2021-05",
          "2021-06",
          "2021-07",
          "2021-08",
          "2021-09",
          "2021-10",
          "2021-11",
          "2021-12",
          "2022-01",
          "2022-02",
          "2022-03",
          "2022-04",
          "2022-05",
          "2022-06",
          "2022-07",
          "2022-08",
          "2022-09",
          "2022-10",
          "2022-11",
          "2022-12",
          "2023-01",
          "2023-02",
          "2023-03",
          "2023-04",
          "2023-05",
          "2023-06",
          "2023-07",
          "2023-08",
          "2023-09",
          "2023-10",
          "2023-11",
          "2023-12",
          "2024-01",
          "2024-02",
          "2024-03",
          "2024-04",
          "2024-05",
          "2024-06",
          "2024-07",
          "2024-08",
          "2024-09",
          "2024-10",
          "2024-11",
          "2024-12",
          "2025-01",
          "2025-02",
          "2025-03",
          "2025-04",
          "2025-05",
          "2025-06",
          "2025-07",
          "2025-08"
         ],
         "y": {
          "bdata": "KSGsW1TfK8BRQli3qH4lwJyfKH9XdCzAWUou9oUlK8B//a6Tq/YqwKXoYW9UCinAmRrYO6YGKMB8bolTv2cowEEYaccKBCjAm6d5mqc5K8B+4Ad+4AcnwIXiVihuhSfAynxvg2USJsCu+gf0EWUkwK2msCF4dijA+9yJhgvEJsB6oRd6odclwEGnDXTa4CbAoNMGOm0AJcAy39tgmcQnwDD7si/7MifAkhu5kRu5JcB7yGBAFvklwLZne7ZnuybAKEhyj2icEEB9POit+5MJQKZruqZrug5AcRVXcRVXDEAf0sTYumcMQLE3KkUP+wZA3Lqt27qtBEDJjdzIjdwHQERERERExAxAPrfEqd/zC0D0sDcqRQ8HQC9wFyWZcwZA8Rl2Bci9DEDF/JS3VswGQDX8bYpRQwhAnk2saeTZCECi4MvSJQoNQDMzMzMzMwlAHzQt2vVBCEDbfDnAss0PQHOAZZsvBwdAchjhSCaHDUBhxI29U1AJQKDsfU0IyghATv2eW+LUCkDJ1brwhNwNQFCNl24SgwxAq6qqqqoqEEBX7elMFkYRQHRLnPo9Nw5Am8KG4NnjEECPwvUoXA8SQPKNHd/Y8RJAFCS5RzRODkAg+IEf+IENQHVN13RNVxJA+adJBo3/DkAL/YiubcYKQEk7ViCMtApAf88tcer3D0CaLIy4sXcQQPDolbH9jg1AGt5meJvhDUBColBuBnIFQA==",
          "dtype": "f8"
         }
        },
        {
         "line": {
          "color": "#636EFA"
         },
         "mode": "lines+markers",
         "name": "Marketing",
         "type": "scatter",
         "visible": false,
         "x": [
          "2020-01",
          "2020-02",
          "2020-03",
          "2020-04",
          "2020-05",
          "2020-06",
          "2020-07",
          "2020-08",
          "2020-09",
          "2020-10",
          "2020-11",
          "2020-12",
          "2021-01",
          "2021-02",
          "2021-03",
          "2021-04",
          "2021-05",
          "2021-06",
          "2021-07",
          "2021-08",
          "2021-09",
          "2021-10",
          "2021-11",
          "2021-12",
          "2022-01",
          "2022-02",
          "2022-03",
          "2022-04",
          "2022-05",
          "2022-06",
          "2022-07",
          "2022-08",
          "2022-09",
          "2022-10",
          "2022-11",
          "2022-12",
          "2023-01",
          "2023-02",
          "2023-03",
          "2023-04",
          "2023-05",
          "2023-06",
          "2023-07",
          "2023-08",
          "2023-09",
          "2023-10",
          "2023-11",
          "2023-12",
          "2024-01",
          "2024-02",
          "2024-03",
          "2024-04",
          "2024-05",
          "2024-06",
          "2024-07",
          "2024-08",
          "2024-09",
          "2024-10",
          "2024-11",
          "2024-12",
          "2025-01",
          "2025-02",
          "2025-03",
          "2025-04",
          "2025-05",
          "2025-06",
          "2025-07",
          "2025-08"
         ],
         "y": {
          "bdata": "Xrz+eYNw1j98n8vC97n4Pzv0m61Dv/U/E0000UQT8T/WvFnNm9XwP3/66aeffvo/p59++umnzz/htxJ+K+HHP7+V8FsJv6U/gqMnOHqC4z+GG2644Ybbv97d3d3d3dS/TxvotIFO07+p7DB1uf3ZPzEfiQ3zkbi/BVuwBVuw3b89CEbTg2DUv+d5nud5nu2/Jp4VjQR867+5HoXrUbi+vw+k9kBqD+S/GZSDQTkYtL+iiSaaaKLZP7OaN6t5s+I/KqWUUkopB0DG52t8vsYLQJaObenYlg5Agk4b6LSBDUBR2WHqcvsPQOJZ0UjANwtAwWh6EIymCUA5juM4juMOQDevJp4VjQlAdJ1C1yl0C0Aepi63P8j+P+2B1B5I7f0/ERERERFx+T+F4lYoboX6P9avFKj1KwdAqteReh2pAUCKW6G4FYr7P/x3aCoyUQVAtzMk5u0MA0CP1OtIvY4EQMP40TbKFwBAFYpbobgVCEANiXk7Q2IIQADxsrrZVQxACwsLCwsLDEC/vr6+vr4LQA16LPYcuBBA+rOcP8v5FEC8u7u7u/MQQIiX1c2uMhBAGBgYGBgYEEDVt+OhhLASQPPGCCb6OwdAFaOGv01xEEBr+NsUowYMQCA2lYac+wJAIiIiIiIiAECJiIiIiIgEQFVVVVVVVQlA2tnZ2dnZB0Bf8RVf8RUFQI+HEsK6RQVA1tbW1tbWBkCPjo6Ojo70Pw==",
          "dtype": "f8"
         }
        },
        {
         "line": {
          "color": "#EF553B"
         },
         "mode": "lines+markers",
         "name": "Sales",
         "type": "scatter",
         "visible": false,
         "x": [
          "2020-01",
          "2020-02",
          "2020-03",
          "2020-04",
          "2020-05",
          "2020-06",
          "2020-07",
          "2020-08",
          "2020-09",
          "2020-10",
          "2020-11",
          "2020-12",
          "2021-01",
          "2021-02",
          "2021-03",
          "2021-04",
          "2021-05",
          "2021-06",
          "2021-07",
          "2021-08",
          "2021-09",
          "2021-10",
          "2021-11",
          "2021-12",
          "2022-01",
          "2022-02",
          "2022-03",
          "2022-04",
          "2022-05",
          "2022-06",
          "2022-07",
          "2022-08",
          "2022-09",
          "2022-10",
          "2022-11",
          "2022-12",
          "2023-01",
          "2023-02",
          "2023-03",
          "2023-04",
          "2023-05",
          "2023-06",
          "2023-07",
          "2023-08",
          "2023-09",
          "2023-10",
          "2023-11",
          "2023-12",
          "2024-01",
          "2024-02",
          "2024-03",
          "2024-04",
          "2024-05",
          "2024-06",
          "2024-07",
          "2024-08",
          "2024-09",
          "2024-10",
          "2024-11",
          "2024-12",
          "2025-01",
          "2025-02",
          "2025-03",
          "2025-04",
          "2025-05",
          "2025-06",
          "2025-07",
          "2025-08"
         ],
         "y": {
          "bdata": "tt/RK2P7HcDTol0fNK0awEdwH8F9hB7AVaspbAieH8AQRtqxAqEfwBJd24xxiR7AfPNq4lnRHcDhVC9wFyUewC8kTak4+x/AdmIndmKnG8DF2LpnZOkawJ9b4tTvORrATxvotIFuFcDQaQOdNvAWwGPJL5b8EhXAfrHkF0ueEsAqmZIpmRISwLy7u7u7uxHA4Y+m3T69FcDgZ613OAwUwPJ8EZM6lhbAv+zLvuxLGcB0DC/OQ8cdwGOCB/NE/R7AAAAAAACACUBVVVVVVVUJQI3bknkBRwdAP+mTPumTCEC6VQNHBuAIQOMZz3jGMwhAGmS6bP+UB0DRRi9nwkkKQFHD36YYNQtAdTIcatnTC0ApiIIoiIIIQImIiIiIiAxAEAIhEAIhEkCLAjkjX3oLQFcQkyuIyQ9A8eW5CUlGCUDwK0c82mcJQKdOhkMt+wpADmkZH3oqCkD9B2rc4RIHQDJKs3qFCQNAASjCKs1WAUAylSFTGTIDQIbNSrJVFPw/UzqlUzql+z/PlQck61wFQPIbv/EbvwFATIJez5KgA0C5BLPT+VAEQAticgUxufY/FmzBFmxBAUA5BJhglQEHQM9+P0JNeQVAchzHcRzXAkAu2IIt2PIDQJpUQfS/7gNA/xWCQ1rGBEBPG+i0gU4DQFK33AdhKgdAz4pGAr55AkDfsPYNa18IQHErFLdCMQZAkiruCvEhCUBPCfKUIM//Pw==",
          "dtype": "f8"
         }
        }
       ],
       "layout": {
        "annotations": [
         {
          "align": "left",
          "showarrow": false,
          "text": "직무 선택:",
          "x": 0,
          "y": 1.08,
          "yref": "paper"
         }
        ],
        "font": {
         "size": 14
        },
        "height": 700,
        "legend": {
         "title": {
          "text": "직무"
         }
        },
        "template": {
         "data": {
          "bar": [
           {
            "error_x": {
             "color": "#2a3f5f"
            },
            "error_y": {
             "color": "#2a3f5f"
            },
            "marker": {
             "line": {
              "color": "#E5ECF6",
              "width": 0.5
             },
             "pattern": {
              "fillmode": "overlay",
              "size": 10,
              "solidity": 0.2
             }
            },
            "type": "bar"
           }
          ],
          "barpolar": [
           {
            "marker": {
             "line": {
              "color": "#E5ECF6",
              "width": 0.5
             },
             "pattern": {
              "fillmode": "overlay",
              "size": 10,
              "solidity": 0.2
             }
            },
            "type": "barpolar"
           }
          ],
          "carpet": [
           {
            "aaxis": {
             "endlinecolor": "#2a3f5f",
             "gridcolor": "white",
             "linecolor": "white",
             "minorgridcolor": "white",
             "startlinecolor": "#2a3f5f"
            },
            "baxis": {
             "endlinecolor": "#2a3f5f",
             "gridcolor": "white",
             "linecolor": "white",
             "minorgridcolor": "white",
             "startlinecolor": "#2a3f5f"
            },
            "type": "carpet"
           }
          ],
          "choropleth": [
           {
            "colorbar": {
             "outlinewidth": 0,
             "ticks": ""
            },
            "type": "choropleth"
           }
          ],
          "contour": [
           {
            "colorbar": {
             "outlinewidth": 0,
             "ticks": ""
            },
            "colorscale": [
             [
              0,
              "#0d0887"
             ],
             [
              0.1111111111111111,
              "#46039f"
             ],
             [
              0.2222222222222222,
              "#7201a8"
             ],
             [
              0.3333333333333333,
              "#9c179e"
             ],
             [
              0.4444444444444444,
              "#bd3786"
             ],
             [
              0.5555555555555556,
              "#d8576b"
             ],
             [
              0.6666666666666666,
              "#ed7953"
             ],
             [
              0.7777777777777778,
              "#fb9f3a"
             ],
             [
              0.8888888888888888,
              "#fdca26"
             ],
             [
              1,
              "#f0f921"
             ]
            ],
            "type": "contour"
           }
          ],
          "contourcarpet": [
           {
            "colorbar": {
             "outlinewidth": 0,
             "ticks": ""
            },
            "type": "contourcarpet"
           }
          ],
          "heatmap": [
           {
            "colorbar": {
             "outlinewidth": 0,
             "ticks": ""
            },
            "colorscale": [
             [
              0,
              "#0d0887"
             ],
             [
              0.1111111111111111,
              "#46039f"
             ],
             [
              0.2222222222222222,
              "#7201a8"
             ],
             [
              0.3333333333333333,
              "#9c179e"
             ],
             [
              0.4444444444444444,
              "#bd3786"
             ],
             [
              0.5555555555555556,
              "#d8576b"
             ],
             [
              0.6666666666666666,
              "#ed7953"
             ],
             [
              0.7777777777777778,
              "#fb9f3a"
             ],
             [
              0.8888888888888888,
              "#fdca26"
             ],
             [
              1,
              "#f0f921"
             ]
            ],
            "type": "heatmap"
           }
          ],
          "histogram": [
           {
            "marker": {
             "pattern": {
              "fillmode": "overlay",
              "size": 10,
              "solidity": 0.2
             }
            },
            "type": "histogram"
           }
          ],
          "histogram2d": [
           {
            "colorbar": {
             "outlinewidth": 0,
             "ticks": ""
            },
            "colorscale": [
             [
              0,
              "#0d0887"
             ],
             [
              0.1111111111111111,
              "#46039f"
             ],
             [
              0.2222222222222222,
              "#7201a8"
             ],
             [
              0.3333333333333333,
              "#9c179e"
             ],
             [
              0.4444444444444444,
              "#bd3786"
             ],
             [
              0.5555555555555556,
              "#d8576b"
             ],
             [
              0.6666666666666666,
              "#ed7953"
             ],
             [
              0.7777777777777778,
              "#fb9f3a"
             ],
             [
              0.8888888888888888,
              "#fdca26"
             ],
             [
              1,
              "#f0f921"
             ]
            ],
            "type": "histogram2d"
           }
          ],
          "histogram2dcontour": [
           {
            "colorbar": {
             "outlinewidth": 0,
             "ticks": ""
            },
            "colorscale": [
             [
              0,
              "#0d0887"
             ],
             [
              0.1111111111111111,
              "#46039f"
             ],
             [
              0.2222222222222222,
              "#7201a8"
             ],
             [
              0.3333333333333333,
              "#9c179e"
             ],
             [
              0.4444444444444444,
              "#bd3786"
             ],
             [
              0.5555555555555556,
              "#d8576b"
             ],
             [
              0.6666666666666666,
              "#ed7953"
             ],
             [
              0.7777777777777778,
              "#fb9f3a"
             ],
             [
              0.8888888888888888,
              "#fdca26"
             ],
             [
              1,
              "#f0f921"
             ]
            ],
            "type": "histogram2dcontour"
           }
          ],
          "mesh3d": [
           {
            "colorbar": {
             "outlinewidth": 0,
             "ticks": ""
            },
            "type": "mesh3d"
           }
          ],
          "parcoords": [
           {
            "line": {
             "colorbar": {
              "outlinewidth": 0,
              "ticks": ""
             }
            },
            "type": "parcoords"
           }
          ],
          "pie": [
           {
            "automargin": true,
            "type": "pie"
           }
          ],
          "scatter": [
           {
            "fillpattern": {
             "fillmode": "overlay",
             "size": 10,
             "solidity": 0.2
            },
            "type": "scatter"
           }
          ],
          "scatter3d": [
           {
            "line": {
             "colorbar": {
              "outlinewidth": 0,
              "ticks": ""
             }
            },
            "marker": {
             "colorbar": {
              "outlinewidth": 0,
              "ticks": ""
             }
            },
            "type": "scatter3d"
           }
          ],
          "scattercarpet": [
           {
            "marker": {
             "colorbar": {
              "outlinewidth": 0,
              "ticks": ""
             }
            },
            "type": "scattercarpet"
           }
          ],
          "scattergeo": [
           {
            "marker": {
             "colorbar": {
              "outlinewidth": 0,
              "ticks": ""
             }
            },
            "type": "scattergeo"
           }
          ],
          "scattergl": [
           {
            "marker": {
             "colorbar": {
              "outlinewidth": 0,
              "ticks": ""
             }
            },
            "type": "scattergl"
           }
          ],
          "scattermap": [
           {
            "marker": {
             "colorbar": {
              "outlinewidth": 0,
              "ticks": ""
             }
            },
            "type": "scattermap"
           }
          ],
          "scattermapbox": [
           {
            "marker": {
             "colorbar": {
              "outlinewidth": 0,
              "ticks": ""
             }
            },
            "type": "scattermapbox"
           }
          ],
          "scatterpolar": [
           {
            "marker": {
             "colorbar": {
              "outlinewidth": 0,
              "ticks": ""
             }
            },
            "type": "scatterpolar"
           }
          ],
          "scatterpolargl": [
           {
            "marker": {
             "colorbar": {
              "outlinewidth": 0,
              "ticks": ""
             }
            },
            "type": "scatterpolargl"
           }
          ],
          "scatterternary": [
           {
            "marker": {
             "colorbar": {
              "outlinewidth": 0,
              "ticks": ""
             }
            },
            "type": "scatterternary"
           }
          ],
          "surface": [
           {
            "colorbar": {
             "outlinewidth": 0,
             "ticks": ""
            },
            "colorscale": [
             [
              0,
              "#0d0887"
             ],
             [
              0.1111111111111111,
              "#46039f"
             ],
             [
              0.2222222222222222,
              "#7201a8"
             ],
             [
              0.3333333333333333,
              "#9c179e"
             ],
             [
              0.4444444444444444,
              "#bd3786"
             ],
             [
              0.5555555555555556,
              "#d8576b"
             ],
             [
              0.6666666666666666,
              "#ed7953"
             ],
             [
              0.7777777777777778,
              "#fb9f3a"
             ],
             [
              0.8888888888888888,
              "#fdca26"
             ],
             [
              1,
              "#f0f921"
             ]
            ],
            "type": "surface"
           }
          ],
          "table": [
           {
            "cells": {
             "fill": {
              "color": "#EBF0F8"
             },
             "line": {
              "color": "white"
             }
            },
            "header": {
             "fill": {
              "color": "#C8D4E3"
             },
             "line": {
              "color": "white"
             }
            },
            "type": "table"
           }
          ]
         },
         "layout": {
          "annotationdefaults": {
           "arrowcolor": "#2a3f5f",
           "arrowhead": 0,
           "arrowwidth": 1
          },
          "autotypenumbers": "strict",
          "coloraxis": {
           "colorbar": {
            "outlinewidth": 0,
            "ticks": ""
           }
          },
          "colorscale": {
           "diverging": [
            [
             0,
             "#8e0152"
            ],
            [
             0.1,
             "#c51b7d"
            ],
            [
             0.2,
             "#de77ae"
            ],
            [
             0.3,
             "#f1b6da"
            ],
            [
             0.4,
             "#fde0ef"
            ],
            [
             0.5,
             "#f7f7f7"
            ],
            [
             0.6,
             "#e6f5d0"
            ],
            [
             0.7,
             "#b8e186"
            ],
            [
             0.8,
             "#7fbc41"
            ],
            [
             0.9,
             "#4d9221"
            ],
            [
             1,
             "#276419"
            ]
           ],
           "sequential": [
            [
             0,
             "#0d0887"
            ],
            [
             0.1111111111111111,
             "#46039f"
            ],
            [
             0.2222222222222222,
             "#7201a8"
            ],
            [
             0.3333333333333333,
             "#9c179e"
            ],
            [
             0.4444444444444444,
             "#bd3786"
            ],
            [
             0.5555555555555556,
             "#d8576b"
            ],
            [
             0.6666666666666666,
             "#ed7953"
            ],
            [
             0.7777777777777778,
             "#fb9f3a"
            ],
            [
             0.8888888888888888,
             "#fdca26"
            ],
            [
             1,
             "#f0f921"
            ]
           ],
           "sequentialminus": [
            [
             0,
             "#0d0887"
            ],
            [
             0.1111111111111111,
             "#46039f"
            ],
            [
             0.2222222222222222,
             "#7201a8"
            ],
            [
             0.3333333333333333,
             "#9c179e"
            ],
            [
             0.4444444444444444,
             "#bd3786"
            ],
            [
             0.5555555555555556,
             "#d8576b"
            ],
            [
             0.6666666666666666,
             "#ed7953"
            ],
            [
             0.7777777777777778,
             "#fb9f3a"
            ],
            [
             0.8888888888888888,
             "#fdca26"
            ],
            [
             1,
             "#f0f921"
            ]
           ]
          },
          "colorway": [
           "#636efa",
           "#EF553B",
           "#00cc96",
           "#ab63fa",
           "#FFA15A",
           "#19d3f3",
           "#FF6692",
           "#B6E880",
           "#FF97FF",
           "#FECB52"
          ],
          "font": {
           "color": "#2a3f5f"
          },
          "geo": {
           "bgcolor": "white",
           "lakecolor": "white",
           "landcolor": "#E5ECF6",
           "showlakes": true,
           "showland": true,
           "subunitcolor": "white"
          },
          "hoverlabel": {
           "align": "left"
          },
          "hovermode": "closest",
          "mapbox": {
           "style": "light"
          },
          "paper_bgcolor": "white",
          "plot_bgcolor": "#E5ECF6",
          "polar": {
           "angularaxis": {
            "gridcolor": "white",
            "linecolor": "white",
            "ticks": ""
           },
           "bgcolor": "#E5ECF6",
           "radialaxis": {
            "gridcolor": "white",
            "linecolor": "white",
            "ticks": ""
           }
          },
          "scene": {
           "xaxis": {
            "backgroundcolor": "#E5ECF6",
            "gridcolor": "white",
            "gridwidth": 2,
            "linecolor": "white",
            "showbackground": true,
            "ticks": "",
            "zerolinecolor": "white"
           },
           "yaxis": {
            "backgroundcolor": "#E5ECF6",
            "gridcolor": "white",
            "gridwidth": 2,
            "linecolor": "white",
            "showbackground": true,
            "ticks": "",
            "zerolinecolor": "white"
           },
           "zaxis": {
            "backgroundcolor": "#E5ECF6",
            "gridcolor": "white",
            "gridwidth": 2,
            "linecolor": "white",
            "showbackground": true,
            "ticks": "",
            "zerolinecolor": "white"
           }
          },
          "shapedefaults": {
           "line": {
            "color": "#2a3f5f"
           }
          },
          "ternary": {
           "aaxis": {
            "gridcolor": "white",
            "linecolor": "white",
            "ticks": ""
           },
           "baxis": {
            "gridcolor": "white",
            "linecolor": "white",
            "ticks": ""
           },
           "bgcolor": "#E5ECF6",
           "caxis": {
            "gridcolor": "white",
            "linecolor": "white",
            "ticks": ""
           }
          },
          "title": {
           "x": 0.05
          },
          "xaxis": {
           "automargin": true,
           "gridcolor": "white",
           "linecolor": "white",
           "ticks": "",
           "title": {
            "standoff": 15
           },
           "zerolinecolor": "white",
           "zerolinewidth": 2
          },
          "yaxis": {
           "automargin": true,
           "gridcolor": "white",
           "linecolor": "white",
           "ticks": "",
           "title": {
            "standoff": 15
           },
           "zerolinecolor": "white",
           "zerolinewidth": 2
          }
         }
        },
        "title": {
         "text": "직무별 월 평균 1인당 초과근무 시간 드릴다운 분석"
        },
        "updatemenus": [
         {
          "active": 0,
          "buttons": [
           {
            "args": [
             {
              "visible": [
               true,
               true,
               true,
               true,
               true,
               false,
               false,
               false,
               false,
               false,
               false,
               false,
               false,
               false,
               false
              ]
             },
             {
              "title": "전체 직무별 월 평균 초과근무 시간 추이"
             }
            ],
            "label": "전체",
            "method": "update"
           },
           {
            "args": [
             {
              "visible": [
               false,
               false,
               false,
               false,
               false,
               true,
               true,
               true,
               false,
               false,
               false,
               false,
               false,
               false,
               false
              ]
             },
             {
              "title": "IT 내 직무별 월 평균 초과근무 시간 추이"
             }
            ],
            "label": "IT",
            "method": "update"
           },
           {
            "args": [
             {
              "visible": [
               false,
               false,
               false,
               false,
               false,
               false,
               false,
               false,
               true,
               true,
               false,
               false,
               false,
               false,
               false
              ]
             },
             {
              "title": "Management Support 내 직무별 월 평균 초과근무 시간 추이"
             }
            ],
            "label": "Management Support",
            "method": "update"
           },
           {
            "args": [
             {
              "visible": [
               false,
               false,
               false,
               false,
               false,
               false,
               false,
               false,
               false,
               false,
               true,
               false,
               false,
               false,
               false
              ]
             },
             {
              "title": "Planning 내 직무별 월 평균 초과근무 시간 추이"
             }
            ],
            "label": "Planning",
            "method": "update"
           },
           {
            "args": [
             {
              "visible": [
               false,
               false,
               false,
               false,
               false,
               false,
               false,
               false,
               false,
               false,
               false,
               true,
               true,
               false,
               false
              ]
             },
             {
              "title": "Production & Engineering 내 직무별 월 평균 초과근무 시간 추이"
             }
            ],
            "label": "Production & Engineering",
            "method": "update"
           },
           {
            "args": [
             {
              "visible": [
               false,
               false,
               false,
               false,
               false,
               false,
               false,
               false,
               false,
               false,
               false,
               false,
               false,
               true,
               true
              ]
             },
             {
              "title": "Sales & Marketing 내 직무별 월 평균 초과근무 시간 추이"
             }
            ],
            "label": "Sales & Marketing",
            "method": "update"
           }
          ],
          "direction": "down",
          "pad": {
           "r": 10,
           "t": 10
          },
          "showactive": true,
          "x": 0.01,
          "xanchor": "left",
          "y": 1.1,
          "yanchor": "top"
         }
        ],
        "xaxis": {
         "range": [
          "2019-12",
          "2026-01"
         ],
         "title": {
          "text": "월(YYYY-MM)"
         }
        },
        "yaxis": {
         "range": [
          -43.67425,
          17.639477272727273
         ],
         "title": {
          "text": "1인당 평균 초과근무 (시간)"
         }
        }
       }
      }
     },
     "metadata": {},
     "output_type": "display_data"
    }
   ],
   "source": [
    "import pandas as pd\n",
    "import numpy as np\n",
    "import plotly.graph_objects as go\n",
    "import plotly.io as pio\n",
    "import plotly.express as px\n",
    "import datetime\n",
    "\n",
    "# --- 1. 데이터 임포트 ---\n",
    "from services.tables.Time_Attendance.daily_working_info_table import daily_work_info_df\n",
    "from services.tables.HR_Core.job_info_table import job_info_df\n",
    "from services.tables.HR_Core.job_table import job_df, job_df_indexed, parent_map_job, job_l1_order, job_l2_order\n",
    "from services.helpers.utils import get_level1_ancestor, get_level2_ancestor\n",
    "\n",
    "def create_figure():\n",
    "    \"\"\"\n",
    "    제안 13-2: 직무별 워라밸 변화 추이 그래프를 생성합니다.\n",
    "    \"\"\"\n",
    "    # --- 2. 데이터 준비 및 가공 ---\n",
    "    daily_work_df = daily_work_info_df.copy()\n",
    "    daily_work_df['DATE'] = pd.to_datetime(daily_work_df['DATE'])\n",
    "    daily_work_df['PAY_PERIOD'] = daily_work_df['DATE'].dt.strftime('%Y-%m')\n",
    "\n",
    "    # 날짜별 직무 정보 추가\n",
    "    job_info_sorted = job_info_df.sort_values('JOB_APP_START_DATE')\n",
    "    analysis_df = daily_work_df.sort_values('DATE')\n",
    "    analysis_df = pd.merge_asof(\n",
    "        analysis_df, job_info_sorted[['EMP_ID', 'JOB_APP_START_DATE', 'JOB_ID']],\n",
    "        left_on='DATE', right_on='JOB_APP_START_DATE', by='EMP_ID', direction='backward'\n",
    "    )\n",
    "    job_name_map = job_df.set_index('JOB_ID')['JOB_NAME'].to_dict()\n",
    "    analysis_df['JOB_L1_NAME'] = analysis_df['JOB_ID'].apply(lambda x: job_name_map.get(get_level1_ancestor(x, job_df_indexed, parent_map_job)))\n",
    "    analysis_df['JOB_L2_NAME'] = analysis_df['JOB_ID'].apply(lambda x: job_name_map.get(get_level2_ancestor(x, job_df_indexed, parent_map_job)))\n",
    "    analysis_df = analysis_df.dropna(subset=['JOB_L1_NAME', 'JOB_L2_NAME'])\n",
    "\n",
    "    # --- 3. 계층별 데이터 집계 ---\n",
    "    job_l1_monthly_summary = analysis_df.groupby(['JOB_L1_NAME', 'PAY_PERIOD'], observed=False).agg(\n",
    "        TOTAL_OVERTIME_MINUTES=('OVERTIME_MINUTES', 'sum'), HEADCOUNT=('EMP_ID', 'nunique')\n",
    "    ).reset_index()\n",
    "    job_l1_monthly_summary['AVG_OVERTIME_PER_PERSON'] = (job_l1_monthly_summary['TOTAL_OVERTIME_MINUTES'] / job_l1_monthly_summary['HEADCOUNT']) / 60\n",
    "\n",
    "    job_l2_monthly_summary = analysis_df.groupby(['JOB_L1_NAME', 'JOB_L2_NAME', 'PAY_PERIOD'], observed=False).agg(\n",
    "        TOTAL_OVERTIME_MINUTES=('OVERTIME_MINUTES', 'sum'), HEADCOUNT=('EMP_ID', 'nunique')\n",
    "    ).reset_index()\n",
    "    job_l2_monthly_summary['AVG_OVERTIME_PER_PERSON'] = (job_l2_monthly_summary['TOTAL_OVERTIME_MINUTES'] / job_l2_monthly_summary['HEADCOUNT']) / 60\n",
    "    \n",
    "    all_overtime_values = pd.concat([job_l1_monthly_summary['AVG_OVERTIME_PER_PERSON'], job_l2_monthly_summary['AVG_OVERTIME_PER_PERSON']])\n",
    "    y_min, y_max = (all_overtime_values.min(), all_overtime_values.max()) if not all_overtime_values.empty else (0, 0)\n",
    "    y_padding = (y_max - y_min) * 0.1 if (y_max - y_min) > 0 else 10\n",
    "    fixed_y_range = [y_min - y_padding, y_max + y_padding]\n",
    "\n",
    "    # --- 4. Plotly 인터랙티브 그래프 생성 ---\n",
    "    fig = go.Figure()\n",
    "    colors = px.colors.qualitative.Plotly\n",
    "\n",
    "    for i, job_l1_name in enumerate(job_l1_order):\n",
    "        df_filtered = job_l1_monthly_summary[job_l1_monthly_summary['JOB_L1_NAME'] == job_l1_name]\n",
    "        if not df_filtered.empty:\n",
    "            fig.add_trace(go.Scatter(x=df_filtered['PAY_PERIOD'], y=df_filtered['AVG_OVERTIME_PER_PERSON'], mode='lines+markers', name=job_l1_name, line=dict(color=colors[i])))\n",
    "\n",
    "    job_l2_traces_map = {}\n",
    "    trace_idx_counter = len(fig.data)\n",
    "    for job_l1_name in job_l1_order:\n",
    "        job_l2_df = job_l2_monthly_summary[job_l2_monthly_summary['JOB_L1_NAME'] == job_l1_name]\n",
    "        jobs_in_l1 = [j for j in job_l2_order if j in job_l2_df['JOB_L2_NAME'].unique()]\n",
    "        job_l2_traces_map[job_l1_name] = []\n",
    "        for j, job_l2_name in enumerate(jobs_in_l1):\n",
    "            df_filtered = job_l2_df[job_l2_df['JOB_L2_NAME'] == job_l2_name]\n",
    "            if not df_filtered.empty:\n",
    "                fig.add_trace(go.Scatter(x=df_filtered['PAY_PERIOD'], y=df_filtered['AVG_OVERTIME_PER_PERSON'], mode='lines+markers', name=job_l2_name, visible=False, line=dict(color=colors[j % len(colors)])))\n",
    "                job_l2_traces_map[job_l1_name].append(trace_idx_counter)\n",
    "                trace_idx_counter += 1\n",
    "    \n",
    "    buttons = []\n",
    "    buttons.append(dict(label='전체', method='update', args=[\n",
    "        {'visible': [True]*len(job_l1_order) + [False]*(len(fig.data)-len(job_l1_order))},\n",
    "        {'title': '전체 직무별 월 평균 초과근무 시간 추이'}\n",
    "    ]))\n",
    "    for job_l1_name in job_l1_order:\n",
    "        visibility_mask = [False] * len(fig.data)\n",
    "        for trace_idx in job_l2_traces_map.get(job_l1_name, []):\n",
    "            visibility_mask[trace_idx] = True\n",
    "        buttons.append(dict(label=f'{job_l1_name}', method='update', args=[\n",
    "            {'visible': visibility_mask},\n",
    "            {'title': f'{job_l1_name} 내 직무별 월 평균 초과근무 시간 추이'}\n",
    "        ]))\n",
    "\n",
    "    fig.update_layout(\n",
    "        updatemenus=[dict(active=0, buttons=buttons, direction=\"down\", pad={\"r\": 10, \"t\": 10}, showactive=True, x=0.01, xanchor=\"left\", y=1.1, yanchor=\"top\")],\n",
    "        title_text='직무별 월 평균 1인당 초과근무 시간 드릴다운 분석',\n",
    "        xaxis_title='월(YYYY-MM)', yaxis_title='1인당 평균 초과근무 (시간)',\n",
    "        font_size=14, height=700,\n",
    "        legend_title_text='직무',\n",
    "        annotations=[dict(text=\"직무 선택:\", showarrow=False, x=0, y=1.08, yref=\"paper\", align=\"left\")],\n",
    "        xaxis_range=['2019-12', '2026-01'],\n",
    "        yaxis_range=fixed_y_range\n",
    "    )\n",
    "    \n",
    "    return fig\n",
    "\n",
    "# 이 파일을 직접 실행할 경우 그래프를 생성하여 보여줍니다.\n",
    "pio.renderers.default = 'vscode'\n",
    "fig = create_figure()\n",
    "fig.show()"
   ]
  },
  {
   "cell_type": "code",
   "execution_count": null,
   "id": "5ff308ce",
   "metadata": {},
   "outputs": [],
   "source": []
  }
 ],
 "metadata": {
  "kernelspec": {
   "display_name": "Python 3 (ipykernel)",
   "language": "python",
   "name": "python3"
  },
  "language_info": {
   "codemirror_mode": {
    "name": "ipython",
    "version": 3
   },
   "file_extension": ".py",
   "mimetype": "text/x-python",
   "name": "python",
   "nbconvert_exporter": "python",
   "pygments_lexer": "ipython3",
   "version": "3.12.11"
  }
 },
 "nbformat": 4,
 "nbformat_minor": 5
}
