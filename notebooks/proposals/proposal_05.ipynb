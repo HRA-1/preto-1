{
 "cells": [
  {
   "cell_type": "code",
   "execution_count": 1,
   "id": "cde7b69e",
   "metadata": {},
   "outputs": [
    {
     "data": {
      "application/vnd.plotly.v1+json": {
       "config": {
        "plotlyServerURL": "https://plot.ly"
       },
       "data": [
        {
         "line": {
          "color": "#636EFA"
         },
         "mode": "lines+markers+text",
         "name": "Planning Division",
         "text": [
          "12.5%",
          "6.25%",
          "2.38%",
          "3.57%",
          "5.63%",
          "10.59%",
          "10.75%",
          "4.95%",
          "7.27%",
          "3.36%",
          "5.56%",
          "4.55%",
          "8.63%",
          "10.87%"
         ],
         "textposition": "top center",
         "type": "scatter",
         "x": {
          "bdata": "2wcAANwHAADdBwAA3gcAAN8HAADgBwAA4QcAAOIHAADjBwAA5AcAAOUHAADmBwAA5wcAAOgHAAA=",
          "dtype": "i4"
         },
         "y": {
          "bdata": "AAAAAAAAKUAAAAAAAAAZQMMwDMMwDANAJEmSJEmSDEAh0QqbA4kWQC0tLS0tLSVAgQUWWGCBJUDfiAKTTs0TQBdddNFFFx1AmwjkmgjkCkCO4ziO4zgWQC+66KKLLhJA5umj1SREIUCc3vSmN70lQA==",
          "dtype": "f8"
         }
        },
        {
         "line": {
          "color": "#EF553B"
         },
         "mode": "lines+markers+text",
         "name": "Sales Division",
         "text": [
          "17.39%",
          "2.33%",
          "6.56%",
          "6.33%",
          "14.13%",
          "7.29%",
          "7.41%",
          "11.3%",
          "6.92%",
          "9.02%",
          "10.14%",
          "8.22%",
          "12.0%",
          "11.64%"
         ],
         "textposition": "top center",
         "type": "scatter",
         "x": {
          "bdata": "2wcAANwHAADdBwAA3gcAAN8HAADgBwAA4QcAAOIHAADjBwAA5AcAAOUHAADmBwAA5wcAAOgHAAA=",
          "dtype": "i4"
         },
         "y": {
          "bdata": "FrKQhSxkMUCnrClrypoCQPwUlwzBOhpAotKRPQNRGUBkIQtZyEIsQKuqqqqqKh1AEtpLaC+hHUDqTW9605smQBQ7sRM7sRtAuCDjgowLIkDFzyjxM0okQAMHDhw4cCBAAAAAAAAAKECaNGnSpEknQA==",
          "dtype": "f8"
         }
        },
        {
         "line": {
          "color": "#00CC96"
         },
         "mode": "lines+markers+text",
         "name": "Development Division",
         "text": [
          "4.0%",
          "7.69%",
          "6.52%",
          "1.79%",
          "5.48%",
          "8.14%",
          "7.69%",
          "9.0%",
          "6.6%",
          "8.04%",
          "11.81%",
          "9.09%",
          "15.27%",
          "10.69%"
         ],
         "textposition": "top center",
         "type": "scatter",
         "x": {
          "bdata": "2wcAANwHAADdBwAA3gcAAN8HAADgBwAA4QcAAOIHAADjBwAA5AcAAOUHAADmBwAA5wcAAOgHAAA=",
          "dtype": "i4"
         },
         "y": {
          "bdata": "AAAAAAAAEEBP7MRO7MQeQCELWchCFhpAJEmSJEmS/D+vXr169eoVQBJ3xB1xRyBAT+zETuzEHkAAAAAAAAAiQBhvZZ9DahpAJUmSJEkSIEDo8/l8Pp8nQC+66KKLLiJA44SUPMuILkBrwzR3wV8lQA==",
          "dtype": "f8"
         }
        },
        {
         "line": {
          "color": "#AB63FA"
         },
         "mode": "lines+markers+text",
         "name": "Operating Division",
         "text": [
          "0.0%",
          "4.35%",
          "0.0%",
          "6.85%",
          "4.94%",
          "7.53%",
          "5.83%",
          "8.41%",
          "9.57%",
          "11.67%",
          "12.4%",
          "11.81%",
          "7.46%",
          "12.5%"
         ],
         "textposition": "top center",
         "type": "scatter",
         "x": {
          "bdata": "2wcAANwHAADdBwAA3gcAAN8HAADgBwAA4QcAAOIHAADjBwAA5AcAAOUHAADmBwAA5wcAAOgHAAA=",
          "dtype": "i4"
         },
         "y": {
          "bdata": "AAAAAAAAAAAWspCFLGQRQAAAAAAAAAAAW7Zs2bJlG0C35odFysATQBxuuOGGGx5AD/ZbbQxNF0C42S/EitIgQLKQhSxkISNAVVVVVVVVJ0BXzw6BG8soQOjz+Xw+nydAGhPpgcrZHUAAAAAAAAApQA==",
          "dtype": "f8"
         }
        },
        {
         "line": {
          "color": "#636EFA"
         },
         "mode": "lines+markers+text",
         "name": "Strategy Office",
         "text": [
          "12.5%",
          "5.0%",
          "0.0%",
          "3.12%",
          "7.89%",
          "4.55%",
          "12.24%",
          "1.96%",
          "7.55%",
          "1.72%",
          "3.28%",
          "4.69%",
          "9.23%",
          "15.15%"
         ],
         "textposition": "top center",
         "type": "scatter",
         "visible": false,
         "x": {
          "bdata": "2wcAANwHAADdBwAA3gcAAN8HAADgBwAA4QcAAOIHAADjBwAA5AcAAOUHAADmBwAA5wcAAOgHAAA=",
          "dtype": "i4"
         },
         "y": {
          "bdata": "AAAAAAAAKUAAAAAAAAAUQAAAAAAAAAAAAAAAAAAACUBDeQ3lNZQfQC+66KKLLhJAHxrrQ2N9KEBfX19fX1//P67sc0hNMB5AGmG5pxGW+z/8FJcMwToKQAAAAAAAwBJAYyd2Yid2IkBONtlkk00uQA==",
          "dtype": "f8"
         }
        },
        {
         "line": {
          "color": "#EF553B"
         },
         "mode": "lines+markers+text",
         "name": "Finance Office",
         "text": [
          "14.29%",
          "10.0%",
          "7.69%",
          "4.55%",
          "3.57%",
          "20.59%",
          "8.11%",
          "7.5%",
          "4.55%",
          "6.52%",
          "8.33%",
          "6.12%",
          "7.84%",
          "8.0%"
         ],
         "textposition": "top center",
         "type": "scatter",
         "visible": false,
         "x": {
          "bdata": "2wcAANwHAADdBwAA3gcAAN8HAADgBwAA4QcAAOIHAADjBwAA5AcAAOUHAADmBwAA5wcAAOgHAAA=",
          "dtype": "i4"
         },
         "y": {
          "bdata": "JEmSJEmSLEAAAAAAAAAkQE/sxE7sxB5AL7rooosuEkAkSZIkSZIMQJaWlpaWljRAdoMp8lk3IEAAAAAAAAAeQC+66KKLLhJAIQtZyEIWGkCqqqqqqqogQB8a60NjfRhAX19fX19fH0AAAAAAAAAgQA==",
          "dtype": "f8"
         }
        },
        {
         "line": {
          "color": "#00CC96"
         },
         "mode": "lines+markers+text",
         "name": "Planning Division (직속)",
         "text": [
          "0.0%",
          "0.0%",
          "0.0%",
          "0.0%",
          "0.0%",
          "0.0%",
          "14.29%",
          "10.0%",
          "15.38%",
          "0.0%",
          "5.88%",
          "0.0%",
          "8.7%",
          "4.55%"
         ],
         "textposition": "top center",
         "type": "scatter",
         "visible": false,
         "x": {
          "bdata": "2wcAANwHAADdBwAA3gcAAN8HAADgBwAA4QcAAOIHAADjBwAA5AcAAOUHAADmBwAA5wcAAOgHAAA=",
          "dtype": "i4"
         },
         "y": {
          "bdata": "AAAAAAAAAAAAAAAAAAAAAAAAAAAAAAAAAAAAAAAAAAAAAAAAAAAAAAAAAAAAAAAAJEmSJEmSLEAAAAAAAAAkQE/sxE7sxC5AAAAAAAAAAACHh4eHh4cXQAAAAAAAAAAAFrKQhSxkIUAvuuiiiy4SQA==",
          "dtype": "f8"
         }
        },
        {
         "line": {
          "color": "#636EFA"
         },
         "mode": "lines+markers+text",
         "name": "Marketing Office",
         "text": [
          "11.11%",
          "0.0%",
          "5.56%",
          "10.53%",
          "13.64%",
          "7.14%",
          "6.67%",
          "15.62%",
          "5.13%",
          "12.5%",
          "10.53%",
          "14.63%",
          "9.52%",
          "11.36%"
         ],
         "textposition": "top center",
         "type": "scatter",
         "visible": false,
         "x": {
          "bdata": "2wcAANwHAADdBwAA3gcAAN8HAADgBwAA4QcAAOIHAADjBwAA5AcAAOUHAADmBwAA5wcAAOgHAAA=",
          "dtype": "i4"
         },
         "y": {
          "bdata": "juM4juM4JkAAAAAAAAAAAI7jOI7jOBZA11BeQ3kNJUBFF1100UUrQCRJkiRJkhxAq6qqqqqqGkAAAAAAAEAvQDRIgzRIgxRAAAAAAAAAKUDXUF5DeQ0lQETtStSuRC1AwzAMwzAMI0C66KKLLromQA==",
          "dtype": "f8"
         }
        },
        {
         "line": {
          "color": "#EF553B"
         },
         "mode": "lines+markers+text",
         "name": "Domestic Sales Office",
         "text": [
          "14.29%",
          "7.14%",
          "9.52%",
          "3.57%",
          "8.57%",
          "12.12%",
          "5.41%",
          "9.76%",
          "8.7%",
          "8.7%",
          "9.09%",
          "2.08%",
          "18.37%",
          "8.7%"
         ],
         "textposition": "top center",
         "type": "scatter",
         "visible": false,
         "x": {
          "bdata": "2wcAANwHAADdBwAA3gcAAN8HAADgBwAA4QcAAOIHAADjBwAA5AcAAOUHAADmBwAA5wcAAOgHAAA=",
          "dtype": "i4"
         },
         "y": {
          "bdata": "JEmSJEmSLEAkSZIkSZIcQMMwDMMwDCNAJEmSJEmSDEBJkiRJkiQhQD744IMPPihA8lk3mCKfFUCD8zE4H4MjQBaykIUsZCFAFrKQhSxkIUAvuuiiiy4iQKqqqqqqqgBAmFPwcgpeMkAWspCFLGQhQA==",
          "dtype": "f8"
         }
        },
        {
         "line": {
          "color": "#00CC96"
         },
         "mode": "lines+markers+text",
         "name": "Global Sales Office",
         "text": [
          "28.57%",
          "0.0%",
          "5.56%",
          "8.7%",
          "16.0%",
          "0.0%",
          "12.12%",
          "11.76%",
          "2.86%",
          "5.26%",
          "8.7%",
          "8.7%",
          "8.33%",
          "17.78%"
         ],
         "textposition": "top center",
         "type": "scatter",
         "visible": false,
         "x": {
          "bdata": "2wcAANwHAADdBwAA3gcAAN8HAADgBwAA4QcAAOIHAADjBwAA5AcAAOUHAADmBwAA5wcAAOgHAAA=",
          "dtype": "i4"
         },
         "y": {
          "bdata": "JEmSJEmSPEAAAAAAAAAAAI7jOI7jOBZAFrKQhSxkIUAAAAAAAAAwQAAAAAAAAAAAPvjggw8+KECHh4eHh4cnQLdt27Zt2wZA11BeQ3kNFUAWspCFLGQhQBaykIUsZCFAqqqqqqqqIEByHMdxHMcxQA==",
          "dtype": "f8"
         }
        },
        {
         "line": {
          "color": "#AB63FA"
         },
         "mode": "lines+markers+text",
         "name": "Sales Division (직속)",
         "text": [
          "0.0%",
          "0.0%",
          "0.0%",
          "30.0%",
          "11.11%",
          "0.0%",
          "0.0%",
          "20.0%",
          "11.11%",
          "20.0%",
          "9.09%",
          "9.09%",
          "0.0%"
         ],
         "textposition": "top center",
         "type": "scatter",
         "visible": false,
         "x": {
          "bdata": "3AcAAN0HAADeBwAA3wcAAOAHAADhBwAA4gcAAOMHAADkBwAA5QcAAOYHAADnBwAA6AcAAA==",
          "dtype": "i4"
         },
         "y": {
          "bdata": "AAAAAAAAAAAAAAAAAAAAAAAAAAAAAAAAAAAAAAAAPkCO4ziO4zgmQAAAAAAAAAAAAAAAAAAAAAAAAAAAAAA0QI7jOI7jOCZAAAAAAAAANEAvuuiiiy4iQC+66KKLLiJAAAAAAAAAAAA=",
          "dtype": "f8"
         }
        },
        {
         "line": {
          "color": "#636EFA"
         },
         "mode": "lines+markers+text",
         "name": "R&D Office",
         "text": [
          "0.0%",
          "0.0%",
          "3.85%",
          "2.94%",
          "4.55%",
          "8.16%",
          "5.88%",
          "6.9%",
          "4.84%",
          "9.23%",
          "11.59%",
          "10.61%",
          "15.28%",
          "9.59%"
         ],
         "textposition": "top center",
         "type": "scatter",
         "visible": false,
         "x": {
          "bdata": "2wcAANwHAADdBwAA3gcAAN8HAADgBwAA4QcAAOIHAADjBwAA5AcAAOUHAADmBwAA5wcAAOgHAAA=",
          "dtype": "i4"
         },
         "y": {
          "bdata": "AAAAAAAAAAAAAAAAAAAAAE/sxE7sxA5Ah4eHh4eHB0Avuuiiiy4SQBW8nIKXUyBAh4eHh4eHF0AaYbmnEZYbQFtrrbXWWhNAYyd2Yid2IkBz7cBcOzAnQDbZZJNNNiVA5DiO4ziOLkDZsmXLli0jQA==",
          "dtype": "f8"
         }
        },
        {
         "line": {
          "color": "#EF553B"
         },
         "mode": "lines+markers+text",
         "name": "QA Office",
         "text": [
          "9.09%",
          "13.33%",
          "13.33%",
          "0.0%",
          "9.52%",
          "11.11%",
          "13.79%",
          "14.29%",
          "12.9%",
          "9.09%",
          "14.63%",
          "7.14%",
          "20.0%",
          "13.95%"
         ],
         "textposition": "top center",
         "type": "scatter",
         "visible": false,
         "x": {
          "bdata": "2wcAANwHAADdBwAA3gcAAN8HAADgBwAA4QcAAOIHAADjBwAA5AcAAOUHAADmBwAA5wcAAOgHAAA=",
          "dtype": "i4"
         },
         "y": {
          "bdata": "L7rooosuIkCrqqqqqqoqQKuqqqqqqipAAAAAAAAAAADDMAzDMAwjQI7jOI7jOCZAGmG5pxGWK0AkSZIkSZIsQM4555xzzilAL7rooosuIkBE7UrUrkQtQCRJkiRJkhxAAAAAAAAANED6gr6gL+grQA==",
          "dtype": "f8"
         }
        },
        {
         "line": {
          "color": "#00CC96"
         },
         "mode": "lines+markers+text",
         "name": "Development Division (직속)",
         "text": [
          "0.0%",
          "20.0%",
          "0.0%",
          "0.0%",
          "0.0%",
          "0.0%",
          "0.0%",
          "7.14%",
          "0.0%",
          "0.0%",
          "5.88%",
          "7.69%",
          "0.0%",
          "6.67%"
         ],
         "textposition": "top center",
         "type": "scatter",
         "visible": false,
         "x": {
          "bdata": "2wcAANwHAADdBwAA3gcAAN8HAADgBwAA4QcAAOIHAADjBwAA5AcAAOUHAADmBwAA5wcAAOgHAAA=",
          "dtype": "i4"
         },
         "y": {
          "bdata": "AAAAAAAAAAAAAAAAAAA0QAAAAAAAAAAAAAAAAAAAAAAAAAAAAAAAAAAAAAAAAAAAAAAAAAAAAAAkSZIkSZIcQAAAAAAAAAAAAAAAAAAAAACHh4eHh4cXQE/sxE7sxB5AAAAAAAAAAACrqqqqqqoaQA==",
          "dtype": "f8"
         }
        },
        {
         "line": {
          "color": "#636EFA"
         },
         "mode": "lines+markers+text",
         "name": "Engineering Office",
         "text": [
          "0.0%",
          "0.0%",
          "0.0%",
          "7.69%",
          "3.57%",
          "11.76%",
          "8.82%",
          "10.81%",
          "14.29%",
          "12.82%",
          "13.89%",
          "18.18%",
          "16.67%",
          "16.67%"
         ],
         "textposition": "top center",
         "type": "scatter",
         "visible": false,
         "x": {
          "bdata": "2wcAANwHAADdBwAA3gcAAN8HAADgBwAA4QcAAOIHAADjBwAA5AcAAOUHAADmBwAA5wcAAOgHAAA=",
          "dtype": "i4"
         },
         "y": {
          "bdata": "AAAAAAAAAAAAAAAAAAAAAAAAAAAAAAAAT+zETuzEHkAkSZIkSZIMQIeHh4eHhydApqWlpaWlIUDyWTeYIp8lQCRJkiRJkixAQRqkQRqkKUByHMdxHMcrQC+66KKLLjJAqqqqqqqqMECqqqqqqqowQA==",
          "dtype": "f8"
         }
        },
        {
         "line": {
          "color": "#EF553B"
         },
         "mode": "lines+markers+text",
         "name": "Production Office",
         "text": [
          "0.0%",
          "4.17%",
          "0.0%",
          "8.11%",
          "4.76%",
          "6.25%",
          "5.08%",
          "5.0%",
          "7.81%",
          "12.86%",
          "13.89%",
          "8.7%",
          "2.86%",
          "12.68%"
         ],
         "textposition": "top center",
         "type": "scatter",
         "visible": false,
         "x": {
          "bdata": "2wcAANwHAADdBwAA3gcAAN8HAADgBwAA4QcAAOIHAADjBwAA5AcAAOUHAADmBwAA5wcAAOgHAAA=",
          "dtype": "i4"
         },
         "y": {
          "bdata": "AAAAAAAAAACqqqqqqqoQQAAAAAAAAAAAdoMp8lk3IEDDMAzDMAwTQAAAAAAAABlAxEndl8dWFEAAAAAAAAAUQAAAAAAAQB9Abdu2bdu2KUByHMdxHMcrQBaykIUsZCFAt23btm3bBkBEK2wOJFopQA==",
          "dtype": "f8"
         }
        },
        {
         "line": {
          "color": "#00CC96"
         },
         "mode": "lines+markers+text",
         "name": "Operating Division (직속)",
         "text": [
          "0.0%",
          "20.0%",
          "0.0%",
          "0.0%",
          "9.09%",
          "0.0%",
          "0.0%",
          "20.0%",
          "0.0%",
          "0.0%",
          "0.0%",
          "7.14%",
          "0.0%",
          "0.0%"
         ],
         "textposition": "top center",
         "type": "scatter",
         "visible": false,
         "x": {
          "bdata": "2wcAANwHAADdBwAA3gcAAN8HAADgBwAA4QcAAOIHAADjBwAA5AcAAOUHAADmBwAA5wcAAOgHAAA=",
          "dtype": "i4"
         },
         "y": {
          "bdata": "AAAAAAAAAAAAAAAAAAA0QAAAAAAAAAAAAAAAAAAAAAAvuuiiiy4iQAAAAAAAAAAAAAAAAAAAAAAAAAAAAAA0QAAAAAAAAAAAAAAAAAAAAAAAAAAAAAAAACRJkiRJkhxAAAAAAAAAAAAAAAAAAAAAAA==",
          "dtype": "f8"
         }
        }
       ],
       "layout": {
        "annotations": [
         {
          "align": "left",
          "showarrow": false,
          "text": "조직 선택:",
          "x": 0,
          "y": 1.08,
          "yref": "paper"
         }
        ],
        "font": {
         "size": 14
        },
        "height": 700,
        "legend": {
         "title": {
          "text": "조직"
         }
        },
        "template": {
         "data": {
          "bar": [
           {
            "error_x": {
             "color": "#2a3f5f"
            },
            "error_y": {
             "color": "#2a3f5f"
            },
            "marker": {
             "line": {
              "color": "#E5ECF6",
              "width": 0.5
             },
             "pattern": {
              "fillmode": "overlay",
              "size": 10,
              "solidity": 0.2
             }
            },
            "type": "bar"
           }
          ],
          "barpolar": [
           {
            "marker": {
             "line": {
              "color": "#E5ECF6",
              "width": 0.5
             },
             "pattern": {
              "fillmode": "overlay",
              "size": 10,
              "solidity": 0.2
             }
            },
            "type": "barpolar"
           }
          ],
          "carpet": [
           {
            "aaxis": {
             "endlinecolor": "#2a3f5f",
             "gridcolor": "white",
             "linecolor": "white",
             "minorgridcolor": "white",
             "startlinecolor": "#2a3f5f"
            },
            "baxis": {
             "endlinecolor": "#2a3f5f",
             "gridcolor": "white",
             "linecolor": "white",
             "minorgridcolor": "white",
             "startlinecolor": "#2a3f5f"
            },
            "type": "carpet"
           }
          ],
          "choropleth": [
           {
            "colorbar": {
             "outlinewidth": 0,
             "ticks": ""
            },
            "type": "choropleth"
           }
          ],
          "contour": [
           {
            "colorbar": {
             "outlinewidth": 0,
             "ticks": ""
            },
            "colorscale": [
             [
              0,
              "#0d0887"
             ],
             [
              0.1111111111111111,
              "#46039f"
             ],
             [
              0.2222222222222222,
              "#7201a8"
             ],
             [
              0.3333333333333333,
              "#9c179e"
             ],
             [
              0.4444444444444444,
              "#bd3786"
             ],
             [
              0.5555555555555556,
              "#d8576b"
             ],
             [
              0.6666666666666666,
              "#ed7953"
             ],
             [
              0.7777777777777778,
              "#fb9f3a"
             ],
             [
              0.8888888888888888,
              "#fdca26"
             ],
             [
              1,
              "#f0f921"
             ]
            ],
            "type": "contour"
           }
          ],
          "contourcarpet": [
           {
            "colorbar": {
             "outlinewidth": 0,
             "ticks": ""
            },
            "type": "contourcarpet"
           }
          ],
          "heatmap": [
           {
            "colorbar": {
             "outlinewidth": 0,
             "ticks": ""
            },
            "colorscale": [
             [
              0,
              "#0d0887"
             ],
             [
              0.1111111111111111,
              "#46039f"
             ],
             [
              0.2222222222222222,
              "#7201a8"
             ],
             [
              0.3333333333333333,
              "#9c179e"
             ],
             [
              0.4444444444444444,
              "#bd3786"
             ],
             [
              0.5555555555555556,
              "#d8576b"
             ],
             [
              0.6666666666666666,
              "#ed7953"
             ],
             [
              0.7777777777777778,
              "#fb9f3a"
             ],
             [
              0.8888888888888888,
              "#fdca26"
             ],
             [
              1,
              "#f0f921"
             ]
            ],
            "type": "heatmap"
           }
          ],
          "histogram": [
           {
            "marker": {
             "pattern": {
              "fillmode": "overlay",
              "size": 10,
              "solidity": 0.2
             }
            },
            "type": "histogram"
           }
          ],
          "histogram2d": [
           {
            "colorbar": {
             "outlinewidth": 0,
             "ticks": ""
            },
            "colorscale": [
             [
              0,
              "#0d0887"
             ],
             [
              0.1111111111111111,
              "#46039f"
             ],
             [
              0.2222222222222222,
              "#7201a8"
             ],
             [
              0.3333333333333333,
              "#9c179e"
             ],
             [
              0.4444444444444444,
              "#bd3786"
             ],
             [
              0.5555555555555556,
              "#d8576b"
             ],
             [
              0.6666666666666666,
              "#ed7953"
             ],
             [
              0.7777777777777778,
              "#fb9f3a"
             ],
             [
              0.8888888888888888,
              "#fdca26"
             ],
             [
              1,
              "#f0f921"
             ]
            ],
            "type": "histogram2d"
           }
          ],
          "histogram2dcontour": [
           {
            "colorbar": {
             "outlinewidth": 0,
             "ticks": ""
            },
            "colorscale": [
             [
              0,
              "#0d0887"
             ],
             [
              0.1111111111111111,
              "#46039f"
             ],
             [
              0.2222222222222222,
              "#7201a8"
             ],
             [
              0.3333333333333333,
              "#9c179e"
             ],
             [
              0.4444444444444444,
              "#bd3786"
             ],
             [
              0.5555555555555556,
              "#d8576b"
             ],
             [
              0.6666666666666666,
              "#ed7953"
             ],
             [
              0.7777777777777778,
              "#fb9f3a"
             ],
             [
              0.8888888888888888,
              "#fdca26"
             ],
             [
              1,
              "#f0f921"
             ]
            ],
            "type": "histogram2dcontour"
           }
          ],
          "mesh3d": [
           {
            "colorbar": {
             "outlinewidth": 0,
             "ticks": ""
            },
            "type": "mesh3d"
           }
          ],
          "parcoords": [
           {
            "line": {
             "colorbar": {
              "outlinewidth": 0,
              "ticks": ""
             }
            },
            "type": "parcoords"
           }
          ],
          "pie": [
           {
            "automargin": true,
            "type": "pie"
           }
          ],
          "scatter": [
           {
            "fillpattern": {
             "fillmode": "overlay",
             "size": 10,
             "solidity": 0.2
            },
            "type": "scatter"
           }
          ],
          "scatter3d": [
           {
            "line": {
             "colorbar": {
              "outlinewidth": 0,
              "ticks": ""
             }
            },
            "marker": {
             "colorbar": {
              "outlinewidth": 0,
              "ticks": ""
             }
            },
            "type": "scatter3d"
           }
          ],
          "scattercarpet": [
           {
            "marker": {
             "colorbar": {
              "outlinewidth": 0,
              "ticks": ""
             }
            },
            "type": "scattercarpet"
           }
          ],
          "scattergeo": [
           {
            "marker": {
             "colorbar": {
              "outlinewidth": 0,
              "ticks": ""
             }
            },
            "type": "scattergeo"
           }
          ],
          "scattergl": [
           {
            "marker": {
             "colorbar": {
              "outlinewidth": 0,
              "ticks": ""
             }
            },
            "type": "scattergl"
           }
          ],
          "scattermap": [
           {
            "marker": {
             "colorbar": {
              "outlinewidth": 0,
              "ticks": ""
             }
            },
            "type": "scattermap"
           }
          ],
          "scattermapbox": [
           {
            "marker": {
             "colorbar": {
              "outlinewidth": 0,
              "ticks": ""
             }
            },
            "type": "scattermapbox"
           }
          ],
          "scatterpolar": [
           {
            "marker": {
             "colorbar": {
              "outlinewidth": 0,
              "ticks": ""
             }
            },
            "type": "scatterpolar"
           }
          ],
          "scatterpolargl": [
           {
            "marker": {
             "colorbar": {
              "outlinewidth": 0,
              "ticks": ""
             }
            },
            "type": "scatterpolargl"
           }
          ],
          "scatterternary": [
           {
            "marker": {
             "colorbar": {
              "outlinewidth": 0,
              "ticks": ""
             }
            },
            "type": "scatterternary"
           }
          ],
          "surface": [
           {
            "colorbar": {
             "outlinewidth": 0,
             "ticks": ""
            },
            "colorscale": [
             [
              0,
              "#0d0887"
             ],
             [
              0.1111111111111111,
              "#46039f"
             ],
             [
              0.2222222222222222,
              "#7201a8"
             ],
             [
              0.3333333333333333,
              "#9c179e"
             ],
             [
              0.4444444444444444,
              "#bd3786"
             ],
             [
              0.5555555555555556,
              "#d8576b"
             ],
             [
              0.6666666666666666,
              "#ed7953"
             ],
             [
              0.7777777777777778,
              "#fb9f3a"
             ],
             [
              0.8888888888888888,
              "#fdca26"
             ],
             [
              1,
              "#f0f921"
             ]
            ],
            "type": "surface"
           }
          ],
          "table": [
           {
            "cells": {
             "fill": {
              "color": "#EBF0F8"
             },
             "line": {
              "color": "white"
             }
            },
            "header": {
             "fill": {
              "color": "#C8D4E3"
             },
             "line": {
              "color": "white"
             }
            },
            "type": "table"
           }
          ]
         },
         "layout": {
          "annotationdefaults": {
           "arrowcolor": "#2a3f5f",
           "arrowhead": 0,
           "arrowwidth": 1
          },
          "autotypenumbers": "strict",
          "coloraxis": {
           "colorbar": {
            "outlinewidth": 0,
            "ticks": ""
           }
          },
          "colorscale": {
           "diverging": [
            [
             0,
             "#8e0152"
            ],
            [
             0.1,
             "#c51b7d"
            ],
            [
             0.2,
             "#de77ae"
            ],
            [
             0.3,
             "#f1b6da"
            ],
            [
             0.4,
             "#fde0ef"
            ],
            [
             0.5,
             "#f7f7f7"
            ],
            [
             0.6,
             "#e6f5d0"
            ],
            [
             0.7,
             "#b8e186"
            ],
            [
             0.8,
             "#7fbc41"
            ],
            [
             0.9,
             "#4d9221"
            ],
            [
             1,
             "#276419"
            ]
           ],
           "sequential": [
            [
             0,
             "#0d0887"
            ],
            [
             0.1111111111111111,
             "#46039f"
            ],
            [
             0.2222222222222222,
             "#7201a8"
            ],
            [
             0.3333333333333333,
             "#9c179e"
            ],
            [
             0.4444444444444444,
             "#bd3786"
            ],
            [
             0.5555555555555556,
             "#d8576b"
            ],
            [
             0.6666666666666666,
             "#ed7953"
            ],
            [
             0.7777777777777778,
             "#fb9f3a"
            ],
            [
             0.8888888888888888,
             "#fdca26"
            ],
            [
             1,
             "#f0f921"
            ]
           ],
           "sequentialminus": [
            [
             0,
             "#0d0887"
            ],
            [
             0.1111111111111111,
             "#46039f"
            ],
            [
             0.2222222222222222,
             "#7201a8"
            ],
            [
             0.3333333333333333,
             "#9c179e"
            ],
            [
             0.4444444444444444,
             "#bd3786"
            ],
            [
             0.5555555555555556,
             "#d8576b"
            ],
            [
             0.6666666666666666,
             "#ed7953"
            ],
            [
             0.7777777777777778,
             "#fb9f3a"
            ],
            [
             0.8888888888888888,
             "#fdca26"
            ],
            [
             1,
             "#f0f921"
            ]
           ]
          },
          "colorway": [
           "#636efa",
           "#EF553B",
           "#00cc96",
           "#ab63fa",
           "#FFA15A",
           "#19d3f3",
           "#FF6692",
           "#B6E880",
           "#FF97FF",
           "#FECB52"
          ],
          "font": {
           "color": "#2a3f5f"
          },
          "geo": {
           "bgcolor": "white",
           "lakecolor": "white",
           "landcolor": "#E5ECF6",
           "showlakes": true,
           "showland": true,
           "subunitcolor": "white"
          },
          "hoverlabel": {
           "align": "left"
          },
          "hovermode": "closest",
          "mapbox": {
           "style": "light"
          },
          "paper_bgcolor": "white",
          "plot_bgcolor": "#E5ECF6",
          "polar": {
           "angularaxis": {
            "gridcolor": "white",
            "linecolor": "white",
            "ticks": ""
           },
           "bgcolor": "#E5ECF6",
           "radialaxis": {
            "gridcolor": "white",
            "linecolor": "white",
            "ticks": ""
           }
          },
          "scene": {
           "xaxis": {
            "backgroundcolor": "#E5ECF6",
            "gridcolor": "white",
            "gridwidth": 2,
            "linecolor": "white",
            "showbackground": true,
            "ticks": "",
            "zerolinecolor": "white"
           },
           "yaxis": {
            "backgroundcolor": "#E5ECF6",
            "gridcolor": "white",
            "gridwidth": 2,
            "linecolor": "white",
            "showbackground": true,
            "ticks": "",
            "zerolinecolor": "white"
           },
           "zaxis": {
            "backgroundcolor": "#E5ECF6",
            "gridcolor": "white",
            "gridwidth": 2,
            "linecolor": "white",
            "showbackground": true,
            "ticks": "",
            "zerolinecolor": "white"
           }
          },
          "shapedefaults": {
           "line": {
            "color": "#2a3f5f"
           }
          },
          "ternary": {
           "aaxis": {
            "gridcolor": "white",
            "linecolor": "white",
            "ticks": ""
           },
           "baxis": {
            "gridcolor": "white",
            "linecolor": "white",
            "ticks": ""
           },
           "bgcolor": "#E5ECF6",
           "caxis": {
            "gridcolor": "white",
            "linecolor": "white",
            "ticks": ""
           }
          },
          "title": {
           "x": 0.05
          },
          "xaxis": {
           "automargin": true,
           "gridcolor": "white",
           "linecolor": "white",
           "ticks": "",
           "title": {
            "standoff": 15
           },
           "zerolinecolor": "white",
           "zerolinewidth": 2
          },
          "yaxis": {
           "automargin": true,
           "gridcolor": "white",
           "linecolor": "white",
           "ticks": "",
           "title": {
            "standoff": 15
           },
           "zerolinecolor": "white",
           "zerolinewidth": 2
          }
         }
        },
        "title": {
         "text": "연간 퇴사율 변화 추이"
        },
        "updatemenus": [
         {
          "active": 0,
          "buttons": [
           {
            "args": [
             {
              "visible": [
               true,
               true,
               true,
               true,
               false,
               false,
               false,
               false,
               false,
               false,
               false,
               false,
               false,
               false,
               false,
               false,
               false
              ]
             }
            ],
            "label": "전체",
            "method": "update"
           },
           {
            "args": [
             {
              "visible": [
               false,
               false,
               false,
               false,
               true,
               true,
               true,
               false,
               false,
               false,
               false,
               false,
               false,
               false,
               false,
               false,
               false
              ]
             }
            ],
            "label": "Planning Division",
            "method": "update"
           },
           {
            "args": [
             {
              "visible": [
               false,
               false,
               false,
               false,
               false,
               false,
               false,
               true,
               true,
               true,
               true,
               false,
               false,
               false,
               false,
               false,
               false
              ]
             }
            ],
            "label": "Sales Division",
            "method": "update"
           },
           {
            "args": [
             {
              "visible": [
               false,
               false,
               false,
               false,
               false,
               false,
               false,
               false,
               false,
               false,
               false,
               true,
               true,
               true,
               false,
               false,
               false
              ]
             }
            ],
            "label": "Development Division",
            "method": "update"
           },
           {
            "args": [
             {
              "visible": [
               false,
               false,
               false,
               false,
               false,
               false,
               false,
               false,
               false,
               false,
               false,
               false,
               false,
               false,
               true,
               true,
               true
              ]
             }
            ],
            "label": "Operating Division",
            "method": "update"
           }
          ],
          "direction": "down",
          "pad": {
           "r": 10,
           "t": 10
          },
          "showactive": true,
          "x": 0.01,
          "xanchor": "left",
          "y": 1.1,
          "yanchor": "top"
         }
        ],
        "xaxis": {
         "title": {
          "text": "연도"
         },
         "type": "category"
        },
        "yaxis": {
         "range": [
          0,
          34.5
         ],
         "tickformat": ".2f",
         "ticksuffix": "%",
         "title": {
          "text": "연간 퇴사율 (%)"
         }
        }
       }
      }
     },
     "metadata": {},
     "output_type": "display_data"
    }
   ],
   "source": [
    "import pandas as pd\n",
    "import numpy as np\n",
    "import plotly.graph_objects as go\n",
    "import plotly.io as pio\n",
    "import plotly.express as px\n",
    "import datetime\n",
    "\n",
    "# --- 1. 데이터 임포트 ---\n",
    "from services.tables.HR_Core.basic_info_table import emp_df\n",
    "from services.tables.HR_Core.department_info_table import department_info_df\n",
    "from services.tables.HR_Core.department_table import (\n",
    "    department_df, dept_level_map, parent_map_dept, dept_name_map,\n",
    "    division_order, office_order\n",
    ")\n",
    "from services.helpers.utils import find_parents\n",
    "\n",
    "def create_figure():\n",
    "    \"\"\"\n",
    "    제안 5: 조직 건강도 위험 신호 탐지 (연간 퇴사율 변화 추이) 그래프를 생성합니다.\n",
    "    \"\"\"\n",
    "    # --- 2. 데이터 준비 및 가공 ---\n",
    "    analysis_years = [y for y in emp_df['IN_DATE'].dt.year.unique() if y < datetime.datetime.now().year]\n",
    "    turnover_records = []\n",
    "    \n",
    "    for year in analysis_years:\n",
    "        year_start, year_end = pd.to_datetime(f'{year}-01-01'), pd.to_datetime(f'{year}-12-31')\n",
    "        \n",
    "        leavers_in_year = emp_df[(emp_df['OUT_DATE'] >= year_start) & (emp_df['OUT_DATE'] <= year_end)]\n",
    "        if leavers_in_year.empty: continue\n",
    "        \n",
    "        leavers_dept = pd.merge_asof(\n",
    "            leavers_in_year[['EMP_ID', 'OUT_DATE']].sort_values('OUT_DATE'),\n",
    "            department_info_df.sort_values('DEP_APP_START_DATE'),\n",
    "            left_on='OUT_DATE', right_on='DEP_APP_START_DATE', by='EMP_ID', direction='backward'\n",
    "        )\n",
    "        parent_info_leavers = leavers_dept['DEP_ID'].apply(lambda x: find_parents(x, dept_level_map, parent_map_dept, dept_name_map))\n",
    "        leavers_dept = pd.concat([leavers_dept, parent_info_leavers], axis=1)\n",
    "        leavers_dept = leavers_dept.dropna(subset=['DIVISION_NAME', 'OFFICE_NAME'])\n",
    "        \n",
    "        active_in_year = emp_df[(emp_df['IN_DATE'] <= year_end) & (emp_df['OUT_DATE'].isnull() | (emp_df['OUT_DATE'] >= year_start))]\n",
    "        active_dept = pd.merge_asof(\n",
    "            active_in_year[['EMP_ID', 'IN_DATE']].sort_values('IN_DATE'),\n",
    "            department_info_df.sort_values('DEP_APP_START_DATE'),\n",
    "            left_on='IN_DATE', right_on='DEP_APP_START_DATE', by='EMP_ID', direction='backward'\n",
    "        )\n",
    "        parent_info_active = active_dept['DEP_ID'].apply(lambda x: find_parents(x, dept_level_map, parent_map_dept, dept_name_map))\n",
    "        active_dept = pd.concat([active_dept, parent_info_active], axis=1)\n",
    "        active_dept = active_dept.dropna(subset=['DIVISION_NAME', 'OFFICE_NAME'])\n",
    "\n",
    "        # Division / Office 별 퇴사율 계산\n",
    "        leavers_by_div = leavers_dept.groupby('DIVISION_NAME', observed=False).size()\n",
    "        headcount_by_div = active_dept.groupby('DIVISION_NAME', observed=False).size()\n",
    "        turnover_div = (leavers_by_div / headcount_by_div * 100).fillna(0)\n",
    "        for group_name, rate in turnover_div.items():\n",
    "            turnover_records.append({'YEAR': year, 'GROUP_TYPE': 'DIVISION_NAME', 'GROUP_NAME': group_name, 'TURNOVER_RATE': rate})\n",
    "\n",
    "        leavers_by_office = leavers_dept.groupby(['DIVISION_NAME', 'OFFICE_NAME'], observed=False).size()\n",
    "        headcount_by_office = active_dept.groupby(['DIVISION_NAME', 'OFFICE_NAME'], observed=False).size()\n",
    "        turnover_office = (leavers_by_office / headcount_by_office * 100).fillna(0)\n",
    "        for (div_name, office_name), rate in turnover_office.items():\n",
    "            turnover_records.append({'YEAR': year, 'GROUP_TYPE': 'OFFICE_NAME', 'DIVISION_NAME': div_name, 'GROUP_NAME': office_name, 'TURNOVER_RATE': rate})\n",
    "\n",
    "    analysis_df = pd.DataFrame(turnover_records)\n",
    "    if analysis_df.empty:\n",
    "        return go.Figure().update_layout(title_text=\"분석할 퇴사율 데이터가 없습니다.\")\n",
    "\n",
    "    # y축 범위 미리 계산\n",
    "    y_max = analysis_df['TURNOVER_RATE'].max()\n",
    "    fixed_y_range = [0, y_max * 1.15]\n",
    "\n",
    "    # --- 3. Plotly 인터랙티브 그래프 생성 ---\n",
    "    fig = go.Figure()\n",
    "    colors = px.colors.qualitative.Plotly\n",
    "    \n",
    "    div_df = analysis_df[analysis_df['GROUP_TYPE'] == 'DIVISION_NAME']\n",
    "    for i, div_name in enumerate(division_order):\n",
    "        df_filtered = div_df[div_df['GROUP_NAME'] == div_name].sort_values('YEAR')\n",
    "        if not df_filtered.empty:\n",
    "            fig.add_trace(go.Scatter(\n",
    "                x=df_filtered['YEAR'], y=df_filtered['TURNOVER_RATE'], mode='lines+markers+text', name=div_name, \n",
    "                line=dict(color=colors[i]), text=df_filtered['TURNOVER_RATE'].round(2).astype(str) + '%', textposition='top center'\n",
    "            ))\n",
    "\n",
    "    office_df = analysis_df[analysis_df['GROUP_TYPE'] == 'OFFICE_NAME']\n",
    "    office_traces_map = {}\n",
    "    trace_idx_counter = len(fig.data)\n",
    "    for div_name in division_order:\n",
    "        offices_in_div = office_df[office_df['DIVISION_NAME'] == div_name]['GROUP_NAME'].unique()\n",
    "        office_traces_map[div_name] = []\n",
    "        sorted_offices_in_div = [o for o in office_order if o in offices_in_div]\n",
    "        for j, office_name in enumerate(sorted_offices_in_div):\n",
    "            df_filtered = office_df[office_df['GROUP_NAME'] == office_name].sort_values('YEAR')\n",
    "            if not df_filtered.empty:\n",
    "                fig.add_trace(go.Scatter(\n",
    "                    x=df_filtered['YEAR'], y=df_filtered['TURNOVER_RATE'], mode='lines+markers+text', name=office_name, \n",
    "                    visible=False, line=dict(color=colors[j % len(colors)]), text=df_filtered['TURNOVER_RATE'].round(2).astype(str) + '%', textposition='top center'\n",
    "                ))\n",
    "                office_traces_map[div_name].append(trace_idx_counter)\n",
    "                trace_idx_counter += 1\n",
    "\n",
    "    buttons = []\n",
    "    num_div_traces = len(division_order)\n",
    "    buttons.append(dict(label='전체', method='update', args=[{'visible': [True]*num_div_traces + [False]*(len(fig.data) - num_div_traces)}]))\n",
    "    for div_name in division_order:\n",
    "        visibility_mask = [False] * len(fig.data)\n",
    "        for trace_idx in office_traces_map.get(div_name, []):\n",
    "            visibility_mask[trace_idx] = True\n",
    "        buttons.append(dict(label=f'{div_name}', method='update', args=[{'visible': visibility_mask}]))\n",
    "\n",
    "    # --- 4. 레이아웃 업데이트 ---\n",
    "    fig.update_layout(\n",
    "        updatemenus=[dict(active=0, buttons=buttons, direction=\"down\", pad={\"r\": 10, \"t\": 10}, showactive=True, x=0.01, xanchor=\"left\", y=1.1, yanchor=\"top\")],\n",
    "        title_text='연간 퇴사율 변화 추이',\n",
    "        xaxis_title='연도', yaxis_title='연간 퇴사율 (%)',\n",
    "        font_size=14, height=700,\n",
    "        legend_title_text='조직',\n",
    "        annotations=[dict(text=\"조직 선택:\", showarrow=False, x=0, y=1.08, yref=\"paper\", align=\"left\")],\n",
    "        xaxis=dict(type='category'),\n",
    "        yaxis=dict(ticksuffix=\"%\", tickformat='.2f', range=fixed_y_range)\n",
    "    )\n",
    "    \n",
    "    return fig\n",
    "\n",
    "\n",
    "\n",
    "    pio.renderers.default = 'vscode'\n",
    "    fig = create_figure()\n",
    "    fig.show()"
   ]
  },
  {
   "cell_type": "code",
   "execution_count": null,
   "id": "b7c37d71",
   "metadata": {},
   "outputs": [],
   "source": []
  }
 ],
 "metadata": {
  "kernelspec": {
   "display_name": "Python 3 (ipykernel)",
   "language": "python",
   "name": "python3"
  },
  "language_info": {
   "codemirror_mode": {
    "name": "ipython",
    "version": 3
   },
   "file_extension": ".py",
   "mimetype": "text/x-python",
   "name": "python",
   "nbconvert_exporter": "python",
   "pygments_lexer": "ipython3",
   "version": "3.12.11"
  }
 },
 "nbformat": 4,
 "nbformat_minor": 5
}
