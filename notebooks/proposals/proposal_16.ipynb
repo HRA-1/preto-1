{
 "cells": [
  {
   "cell_type": "code",
   "execution_count": 1,
   "id": "251a64e7",
   "metadata": {},
   "outputs": [
    {
     "name": "stderr",
     "output_type": "stream",
     "text": [
      "/app/src/services/tables/Time_Attendance/detailed_working_info_table.py:79: FutureWarning: Downcasting object dtype arrays on .fillna, .ffill, .bfill is deprecated and will change in a future version. Call result.infer_objects(copy=False) instead. To opt-in to the future behavior, set `pd.set_option('future.no_silent_downcasting', True)`\n",
      "  df['IS_VACATION'] = df['IS_VACATION'].fillna(False).astype(bool)\n"
     ]
    },
    {
     "data": {
      "application/vnd.plotly.v1+json": {
       "config": {
        "plotlyServerURL": "https://plot.ly"
       },
       "data": [
        {
         "marker": {
          "color": "#636EFA"
         },
         "name": "Staff",
         "text": {
          "bdata": "MzMzMzMzA0B7FK5H4XoCQEjhehSuRwNAAAAAAAAAAkA=",
          "dtype": "f8"
         },
         "textposition": "outside",
         "type": "bar",
         "x": [
          "Planning Division",
          "Sales Division",
          "Development Division",
          "Operating Division"
         ],
         "y": {
          "bdata": "n5muQ6c7A0AnAygcmHoCQNXQTRwNTANAEVW0OEr6AUA=",
          "dtype": "f8"
         }
        },
        {
         "marker": {
          "color": "#EF553B"
         },
         "name": "Manager",
         "text": {
          "bdata": "uB6F61G4AkDhehSuR+ECQI/C9ShcjwJAPQrXo3A9AkA=",
          "dtype": "f8"
         },
         "textposition": "outside",
         "type": "bar",
         "x": [
          "Planning Division",
          "Sales Division",
          "Development Division",
          "Operating Division"
         ],
         "y": {
          "bdata": "WBW/hfS+AkDl16WT+N8CQFNb5h3ekwJA4MImhB5GAkA=",
          "dtype": "f8"
         }
        },
        {
         "marker": {
          "color": "#00CC96"
         },
         "name": "Director",
         "text": {
          "bdata": "zczMzMzMAkBxPQrXo3ADQIXrUbgehQNAmpmZmZmZAUA=",
          "dtype": "f8"
         },
         "textposition": "outside",
         "type": "bar",
         "x": [
          "Planning Division",
          "Sales Division",
          "Development Division",
          "Operating Division"
         ],
         "y": {
          "bdata": "AymkoUzWAkC7dsVpR3kDQA4bVL3OewNA2yMQteKdAUA=",
          "dtype": "f8"
         }
        },
        {
         "marker": {
          "color": "#AB63FA"
         },
         "name": "C-Level",
         "text": {
          "bdata": "mpmZmZmZAUA=",
          "dtype": "f8"
         },
         "textposition": "outside",
         "type": "bar",
         "x": [
          "Development Division"
         ],
         "y": {
          "bdata": "AAAAAACgAUA=",
          "dtype": "f8"
         }
        },
        {
         "marker": {
          "color": "#636EFA"
         },
         "name": "Staff",
         "text": {
          "bdata": "w/UoXI/CA0CPwvUoXI8CQOxRuB6F6wNA",
          "dtype": "f8"
         },
         "textposition": "outside",
         "type": "bar",
         "visible": false,
         "x": [
          "Strategy Office",
          "Finance Office",
          "Planning Division (직속)"
         ],
         "y": {
          "bdata": "zEqtm7m6A0AII+ZGMZYCQN54cJrI4QNA",
          "dtype": "f8"
         }
        },
        {
         "marker": {
          "color": "#EF553B"
         },
         "name": "Manager",
         "text": {
          "bdata": "UrgehetRAkBI4XoUrkcDQGZmZmZmZgRA",
          "dtype": "f8"
         },
         "textposition": "outside",
         "type": "bar",
         "visible": false,
         "x": [
          "Strategy Office",
          "Finance Office",
          "Planning Division (직속)"
         ],
         "y": {
          "bdata": "suIBy6xYAkBumg5I10cDQDnbnZwGYARA",
          "dtype": "f8"
         }
        },
        {
         "marker": {
          "color": "#00CC96"
         },
         "name": "Director",
         "text": {
          "bdata": "UrgehetRAkBI4XoUrkcDQIXrUbgehQFA",
          "dtype": "f8"
         },
         "textposition": "outside",
         "type": "bar",
         "visible": false,
         "x": [
          "Strategy Office",
          "Finance Office",
          "Planning Division (직속)"
         ],
         "y": {
          "bdata": "+GgsOnFNAkB2Ezgu2kEDQAAAAAAAgAFA",
          "dtype": "f8"
         }
        },
        {
         "marker": {
          "color": "#AB63FA"
         },
         "name": "C-Level",
         "text": [],
         "textposition": "outside",
         "type": "bar",
         "visible": false,
         "x": [],
         "y": []
        },
        {
         "marker": {
          "color": "#636EFA"
         },
         "name": "Staff",
         "text": {
          "bdata": "16NwPQrXAUAfhetRuB4DQGZmZmZmZgJAzczMzMzMAkA=",
          "dtype": "f8"
         },
         "textposition": "outside",
         "type": "bar",
         "visible": false,
         "x": [
          "Marketing Office",
          "Domestic Sales Office",
          "Global Sales Office",
          "Sales Division (직속)"
         ],
         "y": {
          "bdata": "k8Y5GgbdAUA/zTgejyIDQMryfu/ZaQJAbbjhUqvTAkA=",
          "dtype": "f8"
         }
        },
        {
         "marker": {
          "color": "#EF553B"
         },
         "name": "Manager",
         "text": {
          "bdata": "zczMzMzMAkDhehSuR+ECQArXo3A9CgNACtejcD0KA0A=",
          "dtype": "f8"
         },
         "textposition": "outside",
         "type": "bar",
         "visible": false,
         "x": [
          "Marketing Office",
          "Domestic Sales Office",
          "Global Sales Office",
          "Sales Division (직속)"
         ],
         "y": {
          "bdata": "j91p11/GAkCBdAe3QdkCQHiClho3AwNAbP3yagcAA0A=",
          "dtype": "f8"
         }
        },
        {
         "marker": {
          "color": "#00CC96"
         },
         "name": "Director",
         "text": {
          "bdata": "H4XrUbgeA0C4HoXrUbgCQFK4HoXrUQRAmpmZmZmZA0A=",
          "dtype": "f8"
         },
         "textposition": "outside",
         "type": "bar",
         "visible": false,
         "x": [
          "Marketing Office",
          "Domestic Sales Office",
          "Global Sales Office",
          "Sales Division (직속)"
         ],
         "y": {
          "bdata": "E7eBXeAmA0DLRjFKprgCQGWntZy3UwRAAAAAAACgA0A=",
          "dtype": "f8"
         }
        },
        {
         "marker": {
          "color": "#AB63FA"
         },
         "name": "C-Level",
         "text": [],
         "textposition": "outside",
         "type": "bar",
         "visible": false,
         "x": [],
         "y": []
        },
        {
         "marker": {
          "color": "#636EFA"
         },
         "name": "Staff",
         "text": {
          "bdata": "MzMzMzMzA0BxPQrXo3ADQOF6FK5H4QJA",
          "dtype": "f8"
         },
         "textposition": "outside",
         "type": "bar",
         "visible": false,
         "x": [
          "R&D Office",
          "QA Office",
          "Development Division (직속)"
         ],
         "y": {
          "bdata": "27jwwV03A0CRNsKGqnQDQKqqqqqq6gJA",
          "dtype": "f8"
         }
        },
        {
         "marker": {
          "color": "#EF553B"
         },
         "name": "Manager",
         "text": {
          "bdata": "9ihcj8L1AkBmZmZmZmYCQM3MzMzMzPw/",
          "dtype": "f8"
         },
         "textposition": "outside",
         "type": "bar",
         "visible": false,
         "x": [
          "R&D Office",
          "QA Office",
          "Development Division (직속)"
         ],
         "y": {
          "bdata": "hG/eALDuAkBjMLzei2cCQM3MzMzMzPw/",
          "dtype": "f8"
         }
        },
        {
         "marker": {
          "color": "#00CC96"
         },
         "name": "Director",
         "text": {
          "bdata": "hetRuB6FA0CuR+F6FK4DQHsUrkfhegJA",
          "dtype": "f8"
         },
         "textposition": "outside",
         "type": "bar",
         "visible": false,
         "x": [
          "R&D Office",
          "QA Office",
          "Development Division (직속)"
         ],
         "y": {
          "bdata": "wpoyaMaFA0DoUxn0MaYDQAAAAAAAgAJA",
          "dtype": "f8"
         }
        },
        {
         "marker": {
          "color": "#AB63FA"
         },
         "name": "C-Level",
         "text": {
          "bdata": "mpmZmZmZAUA=",
          "dtype": "f8"
         },
         "textposition": "outside",
         "type": "bar",
         "visible": false,
         "x": [
          "Development Division (직속)"
         ],
         "y": {
          "bdata": "AAAAAACgAUA=",
          "dtype": "f8"
         }
        },
        {
         "marker": {
          "color": "#636EFA"
         },
         "name": "Staff",
         "text": {
          "bdata": "w/UoXI/CAUA9CtejcD0CQI/C9ShcjwBA",
          "dtype": "f8"
         },
         "textposition": "outside",
         "type": "bar",
         "visible": false,
         "x": [
          "Engineering Office",
          "Production Office",
          "Operating Division (직속)"
         ],
         "y": {
          "bdata": "nuvNEXS5AUDHhlRsOUcCQCRJkiRJkgBA",
          "dtype": "f8"
         }
        },
        {
         "marker": {
          "color": "#EF553B"
         },
         "name": "Manager",
         "text": {
          "bdata": "FK5H4XoUAkBSuB6F61ECQIXrUbgehQNA",
          "dtype": "f8"
         },
         "textposition": "outside",
         "type": "bar",
         "visible": false,
         "x": [
          "Engineering Office",
          "Production Office",
          "Operating Division (직속)"
         ],
         "y": {
          "bdata": "8t0mTB0XAkCW8Pn/9EsCQONOuemdiQNA",
          "dtype": "f8"
         }
        },
        {
         "marker": {
          "color": "#00CC96"
         },
         "name": "Director",
         "text": {
          "bdata": "9ihcj8L1AkAK16NwPQoBQA==",
          "dtype": "f8"
         },
         "textposition": "outside",
         "type": "bar",
         "visible": false,
         "x": [
          "Engineering Office",
          "Production Office"
         ],
         "y": {
          "bdata": "5HTbZ1r6AkCecWDXAgMBQA==",
          "dtype": "f8"
         }
        },
        {
         "marker": {
          "color": "#AB63FA"
         },
         "name": "C-Level",
         "text": [],
         "textposition": "outside",
         "type": "bar",
         "visible": false,
         "x": [],
         "y": []
        }
       ],
       "layout": {
        "annotations": [
         {
          "align": "left",
          "showarrow": false,
          "text": "조직 선택:",
          "x": 0,
          "y": 1.08,
          "yref": "paper"
         }
        ],
        "barmode": "group",
        "font": {
         "size": 14
        },
        "height": 700,
        "legend": {
         "title": {
          "text": "직위"
         }
        },
        "template": {
         "data": {
          "bar": [
           {
            "error_x": {
             "color": "#2a3f5f"
            },
            "error_y": {
             "color": "#2a3f5f"
            },
            "marker": {
             "line": {
              "color": "#E5ECF6",
              "width": 0.5
             },
             "pattern": {
              "fillmode": "overlay",
              "size": 10,
              "solidity": 0.2
             }
            },
            "type": "bar"
           }
          ],
          "barpolar": [
           {
            "marker": {
             "line": {
              "color": "#E5ECF6",
              "width": 0.5
             },
             "pattern": {
              "fillmode": "overlay",
              "size": 10,
              "solidity": 0.2
             }
            },
            "type": "barpolar"
           }
          ],
          "carpet": [
           {
            "aaxis": {
             "endlinecolor": "#2a3f5f",
             "gridcolor": "white",
             "linecolor": "white",
             "minorgridcolor": "white",
             "startlinecolor": "#2a3f5f"
            },
            "baxis": {
             "endlinecolor": "#2a3f5f",
             "gridcolor": "white",
             "linecolor": "white",
             "minorgridcolor": "white",
             "startlinecolor": "#2a3f5f"
            },
            "type": "carpet"
           }
          ],
          "choropleth": [
           {
            "colorbar": {
             "outlinewidth": 0,
             "ticks": ""
            },
            "type": "choropleth"
           }
          ],
          "contour": [
           {
            "colorbar": {
             "outlinewidth": 0,
             "ticks": ""
            },
            "colorscale": [
             [
              0,
              "#0d0887"
             ],
             [
              0.1111111111111111,
              "#46039f"
             ],
             [
              0.2222222222222222,
              "#7201a8"
             ],
             [
              0.3333333333333333,
              "#9c179e"
             ],
             [
              0.4444444444444444,
              "#bd3786"
             ],
             [
              0.5555555555555556,
              "#d8576b"
             ],
             [
              0.6666666666666666,
              "#ed7953"
             ],
             [
              0.7777777777777778,
              "#fb9f3a"
             ],
             [
              0.8888888888888888,
              "#fdca26"
             ],
             [
              1,
              "#f0f921"
             ]
            ],
            "type": "contour"
           }
          ],
          "contourcarpet": [
           {
            "colorbar": {
             "outlinewidth": 0,
             "ticks": ""
            },
            "type": "contourcarpet"
           }
          ],
          "heatmap": [
           {
            "colorbar": {
             "outlinewidth": 0,
             "ticks": ""
            },
            "colorscale": [
             [
              0,
              "#0d0887"
             ],
             [
              0.1111111111111111,
              "#46039f"
             ],
             [
              0.2222222222222222,
              "#7201a8"
             ],
             [
              0.3333333333333333,
              "#9c179e"
             ],
             [
              0.4444444444444444,
              "#bd3786"
             ],
             [
              0.5555555555555556,
              "#d8576b"
             ],
             [
              0.6666666666666666,
              "#ed7953"
             ],
             [
              0.7777777777777778,
              "#fb9f3a"
             ],
             [
              0.8888888888888888,
              "#fdca26"
             ],
             [
              1,
              "#f0f921"
             ]
            ],
            "type": "heatmap"
           }
          ],
          "histogram": [
           {
            "marker": {
             "pattern": {
              "fillmode": "overlay",
              "size": 10,
              "solidity": 0.2
             }
            },
            "type": "histogram"
           }
          ],
          "histogram2d": [
           {
            "colorbar": {
             "outlinewidth": 0,
             "ticks": ""
            },
            "colorscale": [
             [
              0,
              "#0d0887"
             ],
             [
              0.1111111111111111,
              "#46039f"
             ],
             [
              0.2222222222222222,
              "#7201a8"
             ],
             [
              0.3333333333333333,
              "#9c179e"
             ],
             [
              0.4444444444444444,
              "#bd3786"
             ],
             [
              0.5555555555555556,
              "#d8576b"
             ],
             [
              0.6666666666666666,
              "#ed7953"
             ],
             [
              0.7777777777777778,
              "#fb9f3a"
             ],
             [
              0.8888888888888888,
              "#fdca26"
             ],
             [
              1,
              "#f0f921"
             ]
            ],
            "type": "histogram2d"
           }
          ],
          "histogram2dcontour": [
           {
            "colorbar": {
             "outlinewidth": 0,
             "ticks": ""
            },
            "colorscale": [
             [
              0,
              "#0d0887"
             ],
             [
              0.1111111111111111,
              "#46039f"
             ],
             [
              0.2222222222222222,
              "#7201a8"
             ],
             [
              0.3333333333333333,
              "#9c179e"
             ],
             [
              0.4444444444444444,
              "#bd3786"
             ],
             [
              0.5555555555555556,
              "#d8576b"
             ],
             [
              0.6666666666666666,
              "#ed7953"
             ],
             [
              0.7777777777777778,
              "#fb9f3a"
             ],
             [
              0.8888888888888888,
              "#fdca26"
             ],
             [
              1,
              "#f0f921"
             ]
            ],
            "type": "histogram2dcontour"
           }
          ],
          "mesh3d": [
           {
            "colorbar": {
             "outlinewidth": 0,
             "ticks": ""
            },
            "type": "mesh3d"
           }
          ],
          "parcoords": [
           {
            "line": {
             "colorbar": {
              "outlinewidth": 0,
              "ticks": ""
             }
            },
            "type": "parcoords"
           }
          ],
          "pie": [
           {
            "automargin": true,
            "type": "pie"
           }
          ],
          "scatter": [
           {
            "fillpattern": {
             "fillmode": "overlay",
             "size": 10,
             "solidity": 0.2
            },
            "type": "scatter"
           }
          ],
          "scatter3d": [
           {
            "line": {
             "colorbar": {
              "outlinewidth": 0,
              "ticks": ""
             }
            },
            "marker": {
             "colorbar": {
              "outlinewidth": 0,
              "ticks": ""
             }
            },
            "type": "scatter3d"
           }
          ],
          "scattercarpet": [
           {
            "marker": {
             "colorbar": {
              "outlinewidth": 0,
              "ticks": ""
             }
            },
            "type": "scattercarpet"
           }
          ],
          "scattergeo": [
           {
            "marker": {
             "colorbar": {
              "outlinewidth": 0,
              "ticks": ""
             }
            },
            "type": "scattergeo"
           }
          ],
          "scattergl": [
           {
            "marker": {
             "colorbar": {
              "outlinewidth": 0,
              "ticks": ""
             }
            },
            "type": "scattergl"
           }
          ],
          "scattermap": [
           {
            "marker": {
             "colorbar": {
              "outlinewidth": 0,
              "ticks": ""
             }
            },
            "type": "scattermap"
           }
          ],
          "scattermapbox": [
           {
            "marker": {
             "colorbar": {
              "outlinewidth": 0,
              "ticks": ""
             }
            },
            "type": "scattermapbox"
           }
          ],
          "scatterpolar": [
           {
            "marker": {
             "colorbar": {
              "outlinewidth": 0,
              "ticks": ""
             }
            },
            "type": "scatterpolar"
           }
          ],
          "scatterpolargl": [
           {
            "marker": {
             "colorbar": {
              "outlinewidth": 0,
              "ticks": ""
             }
            },
            "type": "scatterpolargl"
           }
          ],
          "scatterternary": [
           {
            "marker": {
             "colorbar": {
              "outlinewidth": 0,
              "ticks": ""
             }
            },
            "type": "scatterternary"
           }
          ],
          "surface": [
           {
            "colorbar": {
             "outlinewidth": 0,
             "ticks": ""
            },
            "colorscale": [
             [
              0,
              "#0d0887"
             ],
             [
              0.1111111111111111,
              "#46039f"
             ],
             [
              0.2222222222222222,
              "#7201a8"
             ],
             [
              0.3333333333333333,
              "#9c179e"
             ],
             [
              0.4444444444444444,
              "#bd3786"
             ],
             [
              0.5555555555555556,
              "#d8576b"
             ],
             [
              0.6666666666666666,
              "#ed7953"
             ],
             [
              0.7777777777777778,
              "#fb9f3a"
             ],
             [
              0.8888888888888888,
              "#fdca26"
             ],
             [
              1,
              "#f0f921"
             ]
            ],
            "type": "surface"
           }
          ],
          "table": [
           {
            "cells": {
             "fill": {
              "color": "#EBF0F8"
             },
             "line": {
              "color": "white"
             }
            },
            "header": {
             "fill": {
              "color": "#C8D4E3"
             },
             "line": {
              "color": "white"
             }
            },
            "type": "table"
           }
          ]
         },
         "layout": {
          "annotationdefaults": {
           "arrowcolor": "#2a3f5f",
           "arrowhead": 0,
           "arrowwidth": 1
          },
          "autotypenumbers": "strict",
          "coloraxis": {
           "colorbar": {
            "outlinewidth": 0,
            "ticks": ""
           }
          },
          "colorscale": {
           "diverging": [
            [
             0,
             "#8e0152"
            ],
            [
             0.1,
             "#c51b7d"
            ],
            [
             0.2,
             "#de77ae"
            ],
            [
             0.3,
             "#f1b6da"
            ],
            [
             0.4,
             "#fde0ef"
            ],
            [
             0.5,
             "#f7f7f7"
            ],
            [
             0.6,
             "#e6f5d0"
            ],
            [
             0.7,
             "#b8e186"
            ],
            [
             0.8,
             "#7fbc41"
            ],
            [
             0.9,
             "#4d9221"
            ],
            [
             1,
             "#276419"
            ]
           ],
           "sequential": [
            [
             0,
             "#0d0887"
            ],
            [
             0.1111111111111111,
             "#46039f"
            ],
            [
             0.2222222222222222,
             "#7201a8"
            ],
            [
             0.3333333333333333,
             "#9c179e"
            ],
            [
             0.4444444444444444,
             "#bd3786"
            ],
            [
             0.5555555555555556,
             "#d8576b"
            ],
            [
             0.6666666666666666,
             "#ed7953"
            ],
            [
             0.7777777777777778,
             "#fb9f3a"
            ],
            [
             0.8888888888888888,
             "#fdca26"
            ],
            [
             1,
             "#f0f921"
            ]
           ],
           "sequentialminus": [
            [
             0,
             "#0d0887"
            ],
            [
             0.1111111111111111,
             "#46039f"
            ],
            [
             0.2222222222222222,
             "#7201a8"
            ],
            [
             0.3333333333333333,
             "#9c179e"
            ],
            [
             0.4444444444444444,
             "#bd3786"
            ],
            [
             0.5555555555555556,
             "#d8576b"
            ],
            [
             0.6666666666666666,
             "#ed7953"
            ],
            [
             0.7777777777777778,
             "#fb9f3a"
            ],
            [
             0.8888888888888888,
             "#fdca26"
            ],
            [
             1,
             "#f0f921"
            ]
           ]
          },
          "colorway": [
           "#636efa",
           "#EF553B",
           "#00cc96",
           "#ab63fa",
           "#FFA15A",
           "#19d3f3",
           "#FF6692",
           "#B6E880",
           "#FF97FF",
           "#FECB52"
          ],
          "font": {
           "color": "#2a3f5f"
          },
          "geo": {
           "bgcolor": "white",
           "lakecolor": "white",
           "landcolor": "#E5ECF6",
           "showlakes": true,
           "showland": true,
           "subunitcolor": "white"
          },
          "hoverlabel": {
           "align": "left"
          },
          "hovermode": "closest",
          "mapbox": {
           "style": "light"
          },
          "paper_bgcolor": "white",
          "plot_bgcolor": "#E5ECF6",
          "polar": {
           "angularaxis": {
            "gridcolor": "white",
            "linecolor": "white",
            "ticks": ""
           },
           "bgcolor": "#E5ECF6",
           "radialaxis": {
            "gridcolor": "white",
            "linecolor": "white",
            "ticks": ""
           }
          },
          "scene": {
           "xaxis": {
            "backgroundcolor": "#E5ECF6",
            "gridcolor": "white",
            "gridwidth": 2,
            "linecolor": "white",
            "showbackground": true,
            "ticks": "",
            "zerolinecolor": "white"
           },
           "yaxis": {
            "backgroundcolor": "#E5ECF6",
            "gridcolor": "white",
            "gridwidth": 2,
            "linecolor": "white",
            "showbackground": true,
            "ticks": "",
            "zerolinecolor": "white"
           },
           "zaxis": {
            "backgroundcolor": "#E5ECF6",
            "gridcolor": "white",
            "gridwidth": 2,
            "linecolor": "white",
            "showbackground": true,
            "ticks": "",
            "zerolinecolor": "white"
           }
          },
          "shapedefaults": {
           "line": {
            "color": "#2a3f5f"
           }
          },
          "ternary": {
           "aaxis": {
            "gridcolor": "white",
            "linecolor": "white",
            "ticks": ""
           },
           "baxis": {
            "gridcolor": "white",
            "linecolor": "white",
            "ticks": ""
           },
           "bgcolor": "#E5ECF6",
           "caxis": {
            "gridcolor": "white",
            "linecolor": "white",
            "ticks": ""
           }
          },
          "title": {
           "x": 0.05
          },
          "xaxis": {
           "automargin": true,
           "gridcolor": "white",
           "linecolor": "white",
           "ticks": "",
           "title": {
            "standoff": 15
           },
           "zerolinecolor": "white",
           "zerolinewidth": 2
          },
          "yaxis": {
           "automargin": true,
           "gridcolor": "white",
           "linecolor": "white",
           "ticks": "",
           "title": {
            "standoff": 15
           },
           "zerolinecolor": "white",
           "zerolinewidth": 2
          }
         }
        },
        "title": {
         "text": "조직별/직위별 월 평균 주말 근무일수"
        },
        "updatemenus": [
         {
          "active": 0,
          "buttons": [
           {
            "args": [
             {
              "text": [
               [
                2.4,
                2.31,
                2.41,
                2.25
               ],
               [
                2.34,
                2.36,
                2.32,
                2.28
               ],
               [
                2.35,
                2.43,
                2.44,
                2.2
               ],
               [
                2.2
               ],
               null,
               null,
               null,
               null,
               null,
               null,
               null,
               null,
               null,
               null,
               null,
               null,
               null,
               null,
               null,
               null
              ],
              "visible": [
               true,
               true,
               true,
               true,
               false,
               false,
               false,
               false,
               false,
               false,
               false,
               false,
               false,
               false,
               false,
               false,
               false,
               false,
               false,
               false
              ]
             },
             {
              "title": "전체 Division별 월 평균 주말 근무일수"
             }
            ],
            "label": "전체",
            "method": "update"
           },
           {
            "args": [
             {
              "text": [
               null,
               null,
               null,
               null,
               [
                2.47,
                2.32,
                2.49
               ],
               [
                2.29,
                2.41,
                2.55
               ],
               [
                2.29,
                2.41,
                2.19
               ],
               [],
               null,
               null,
               null,
               null,
               null,
               null,
               null,
               null,
               null,
               null,
               null,
               null
              ],
              "visible": [
               false,
               false,
               false,
               false,
               true,
               true,
               true,
               true,
               false,
               false,
               false,
               false,
               false,
               false,
               false,
               false,
               false,
               false,
               false,
               false
              ]
             },
             {
              "title": "Planning Division 내 Office별 월 평균 주말 근무일수"
             }
            ],
            "label": "Planning Division",
            "method": "update"
           },
           {
            "args": [
             {
              "text": [
               null,
               null,
               null,
               null,
               null,
               null,
               null,
               null,
               [
                2.23,
                2.39,
                2.3,
                2.35
               ],
               [
                2.35,
                2.36,
                2.38,
                2.38
               ],
               [
                2.39,
                2.34,
                2.54,
                2.45
               ],
               [],
               null,
               null,
               null,
               null,
               null,
               null,
               null,
               null
              ],
              "visible": [
               false,
               false,
               false,
               false,
               false,
               false,
               false,
               false,
               true,
               true,
               true,
               true,
               false,
               false,
               false,
               false,
               false,
               false,
               false,
               false
              ]
             },
             {
              "title": "Sales Division 내 Office별 월 평균 주말 근무일수"
             }
            ],
            "label": "Sales Division",
            "method": "update"
           },
           {
            "args": [
             {
              "text": [
               null,
               null,
               null,
               null,
               null,
               null,
               null,
               null,
               null,
               null,
               null,
               null,
               [
                2.4,
                2.43,
                2.36
               ],
               [
                2.37,
                2.3,
                1.8
               ],
               [
                2.44,
                2.46,
                2.31
               ],
               [
                2.2
               ],
               null,
               null,
               null,
               null
              ],
              "visible": [
               false,
               false,
               false,
               false,
               false,
               false,
               false,
               false,
               false,
               false,
               false,
               false,
               true,
               true,
               true,
               true,
               false,
               false,
               false,
               false
              ]
             },
             {
              "title": "Development Division 내 Office별 월 평균 주말 근무일수"
             }
            ],
            "label": "Development Division",
            "method": "update"
           },
           {
            "args": [
             {
              "text": [
               null,
               null,
               null,
               null,
               null,
               null,
               null,
               null,
               null,
               null,
               null,
               null,
               null,
               null,
               null,
               null,
               [
                2.22,
                2.28,
                2.07
               ],
               [
                2.26,
                2.29,
                2.44
               ],
               [
                2.37,
                2.13
               ],
               []
              ],
              "visible": [
               false,
               false,
               false,
               false,
               false,
               false,
               false,
               false,
               false,
               false,
               false,
               false,
               false,
               false,
               false,
               false,
               true,
               true,
               true,
               true
              ]
             },
             {
              "title": "Operating Division 내 Office별 월 평균 주말 근무일수"
             }
            ],
            "label": "Operating Division",
            "method": "update"
           }
          ],
          "direction": "down",
          "pad": {
           "r": 10,
           "t": 10
          },
          "showactive": true,
          "x": 0.01,
          "xanchor": "left",
          "y": 1.1,
          "yanchor": "top"
         }
        ],
        "yaxis": {
         "range": [
          0,
          3.056265133171913
         ],
         "title": {
          "text": "월 평균 주말 근무일수 (일)"
         }
        }
       }
      }
     },
     "metadata": {},
     "output_type": "display_data"
    }
   ],
   "source": [
    "import pandas as pd\n",
    "import numpy as np\n",
    "import plotly.graph_objects as go\n",
    "import plotly.io as pio\n",
    "import plotly.express as px\n",
    "import datetime\n",
    "\n",
    "# --- 1. 데이터 임포트 ---\n",
    "from services.tables.Time_Attendance.detailed_working_info_table import detailed_work_info_df\n",
    "from services.tables.HR_Core.basic_info_table import emp_df\n",
    "from services.tables.HR_Core.department_info_table import department_info_df\n",
    "from services.tables.HR_Core.position_info_table import position_info_df\n",
    "from services.tables.HR_Core.position_table import position_df\n",
    "from services.tables.HR_Core.department_table import (\n",
    "    dept_level_map, parent_map_dept, dept_name_map,\n",
    "    division_order, office_order\n",
    ")\n",
    "from services.helpers.utils import find_parents\n",
    "\n",
    "def create_figure():\n",
    "    \"\"\"\n",
    "    제안 16: 주말 근무 패턴 분석 그래프를 생성합니다.\n",
    "    \"\"\"\n",
    "    # --- 2. 데이터 준비 및 가공 ---\n",
    "    work_records = detailed_work_info_df.copy()\n",
    "    work_records['DATE'] = pd.to_datetime(work_records['DATE'])\n",
    "    work_records['DAY_OF_WEEK'] = work_records['DATE'].dt.weekday\n",
    "    weekend_work_df = work_records[\n",
    "        (~work_records['WORK_ETC'].isin(['휴가', '주말 휴무', '비번', '휴무'])) &\n",
    "        (work_records['DAY_OF_WEEK'] >= 5)\n",
    "    ].copy()\n",
    "    weekend_work_df['PAY_PERIOD'] = weekend_work_df['DATE'].dt.strftime('%Y-%m')\n",
    "    \n",
    "    monthly_weekend_days = weekend_work_df.groupby(['EMP_ID', 'PAY_PERIOD']).size().reset_index(name='WEEKEND_WORK_DAYS')\n",
    "    avg_weekend_days = monthly_weekend_days.groupby('EMP_ID')['WEEKEND_WORK_DAYS'].mean().reset_index()\n",
    "    \n",
    "    analysis_df = emp_df[emp_df['CURRENT_EMP_YN'] == 'Y'][['EMP_ID']].copy()\n",
    "    analysis_df = pd.merge(analysis_df, avg_weekend_days, on='EMP_ID', how='left').fillna(0)\n",
    "\n",
    "    current_depts = department_info_df[department_info_df['DEP_APP_END_DATE'].isnull()]\n",
    "    current_positions = position_info_df[position_info_df['GRADE_END_DATE'].isnull()]\n",
    "    analysis_df = pd.merge(analysis_df, current_depts[['EMP_ID', 'DEP_ID']], on='EMP_ID', how='left')\n",
    "    analysis_df = pd.merge(analysis_df, current_positions[['EMP_ID', 'POSITION_ID']], on='EMP_ID', how='left')\n",
    "    \n",
    "    parent_info = analysis_df['DEP_ID'].apply(lambda x: find_parents(x, dept_level_map, parent_map_dept, dept_name_map))\n",
    "    analysis_df = pd.concat([analysis_df, parent_info], axis=1)\n",
    "    analysis_df['OFFICE_NAME'] = analysis_df['OFFICE_NAME'].fillna('(Division 직속)')\n",
    "    analysis_df = pd.merge(analysis_df, position_df[['POSITION_ID', 'POSITION_NAME']], on='POSITION_ID', how='left')\n",
    "    analysis_df = analysis_df.dropna(subset=['DIVISION_NAME', 'OFFICE_NAME', 'POSITION_NAME'])\n",
    "\n",
    "    div_summary = analysis_df.groupby(['DIVISION_NAME', 'POSITION_NAME'], observed=False)['WEEKEND_WORK_DAYS'].mean().reset_index()\n",
    "    office_summary = analysis_df.groupby(['DIVISION_NAME', 'OFFICE_NAME', 'POSITION_NAME'], observed=False)['WEEKEND_WORK_DAYS'].mean().reset_index()\n",
    "    \n",
    "    position_order = ['Staff', 'Manager', 'Director', 'C-Level']\n",
    "    div_summary['DIVISION_NAME'] = pd.Categorical(div_summary['DIVISION_NAME'], categories=division_order, ordered=True)\n",
    "    office_summary['OFFICE_NAME'] = pd.Categorical(office_summary['OFFICE_NAME'], categories=office_order, ordered=True)\n",
    "    div_summary = div_summary.sort_values('DIVISION_NAME')\n",
    "    office_summary = office_summary.sort_values('OFFICE_NAME')\n",
    "\n",
    "    # --- 3. Plotly 인터랙티브 그래프 생성 ---\n",
    "    y_max = pd.concat([div_summary['WEEKEND_WORK_DAYS'], office_summary['WEEKEND_WORK_DAYS']]).max()\n",
    "    fixed_y_range = [0, y_max * 1.2]\n",
    "\n",
    "    fig = go.Figure()\n",
    "    colors = px.colors.qualitative.Plotly\n",
    "    \n",
    "    for i, pos_name in enumerate(position_order):\n",
    "        df_filtered = div_summary[div_summary['POSITION_NAME'] == pos_name]\n",
    "        fig.add_trace(go.Bar(\n",
    "            x=df_filtered['DIVISION_NAME'], y=df_filtered['WEEKEND_WORK_DAYS'], name=pos_name, marker_color=colors[i],\n",
    "            text=df_filtered['WEEKEND_WORK_DAYS'].round(2), textposition='outside'\n",
    "        ))\n",
    "    \n",
    "    office_traces_map = {}\n",
    "    trace_idx_counter = len(fig.data)\n",
    "    for div_name in division_order:\n",
    "        office_div_df = office_summary[office_summary['DIVISION_NAME'] == div_name]\n",
    "        office_traces_map[div_name] = []\n",
    "        for j, pos_name in enumerate(position_order):\n",
    "            df_filtered = office_div_df[office_div_df['POSITION_NAME'] == pos_name]\n",
    "            fig.add_trace(go.Bar(\n",
    "                x=df_filtered['OFFICE_NAME'], y=df_filtered['WEEKEND_WORK_DAYS'], name=pos_name, visible=False, marker_color=colors[j],\n",
    "                text=df_filtered['WEEKEND_WORK_DAYS'].round(2), textposition='outside'\n",
    "            ))\n",
    "            office_traces_map[div_name].append(trace_idx_counter)\n",
    "            trace_idx_counter += 1\n",
    "\n",
    "    # --- 4. 드롭다운 메뉴 및 레이아웃 업데이트 ---\n",
    "    buttons = []\n",
    "    visible_div = [True]*len(position_order) + [False]*(len(fig.data)-len(position_order))\n",
    "    text_div = [div_summary[div_summary['POSITION_NAME'] == p]['WEEKEND_WORK_DAYS'].round(2) for p in position_order] + [None]*(len(fig.data)-len(position_order))\n",
    "    buttons.append(dict(label='전체', method='update', \n",
    "                        args=[{'visible': visible_div, 'text': text_div},\n",
    "                              {'title': '전체 Division별 월 평균 주말 근무일수'}]))\n",
    "\n",
    "    for div_name in division_order:\n",
    "        visibility_mask = [False] * len(fig.data)\n",
    "        text_mask = [None] * len(fig.data)\n",
    "        for trace_idx in office_traces_map.get(div_name, []):\n",
    "            visibility_mask[trace_idx] = True\n",
    "            pos_name = fig.data[trace_idx].name\n",
    "            office_data = office_summary[(office_summary['DIVISION_NAME'] == div_name) & (office_summary['POSITION_NAME'] == pos_name)]\n",
    "            text_mask[trace_idx] = office_data['WEEKEND_WORK_DAYS'].round(2)\n",
    "        \n",
    "        buttons.append(dict(label=f'{div_name}', method='update', \n",
    "                            args=[{'visible': visibility_mask, 'text': text_mask},\n",
    "                                  {'title': f'{div_name} 내 Office별 월 평균 주말 근무일수'}]))\n",
    "\n",
    "    fig.update_layout(\n",
    "        updatemenus=[dict(active=0, buttons=buttons, direction=\"down\", pad={\"r\": 10, \"t\": 10}, showactive=True, x=0.01, xanchor=\"left\", y=1.1, yanchor=\"top\")],\n",
    "        title_text='조직별/직위별 월 평균 주말 근무일수',\n",
    "        yaxis_title='월 평균 주말 근무일수 (일)',\n",
    "        font_size=14, height=700,\n",
    "        barmode='group',\n",
    "        legend_title_text='직위',\n",
    "        annotations=[dict(text=\"조직 선택:\", showarrow=False, x=0, y=1.08, yref=\"paper\", align=\"left\")],\n",
    "        yaxis_range=fixed_y_range\n",
    "    )\n",
    "    \n",
    "    return fig\n",
    "\n",
    "\n",
    "\n",
    "pio.renderers.default = 'vscode'\n",
    "fig = create_figure()\n",
    "fig.show()"
   ]
  },
  {
   "cell_type": "code",
   "execution_count": null,
   "id": "faa6b4c6",
   "metadata": {},
   "outputs": [],
   "source": []
  }
 ],
 "metadata": {
  "kernelspec": {
   "display_name": "Python 3 (ipykernel)",
   "language": "python",
   "name": "python3"
  },
  "language_info": {
   "codemirror_mode": {
    "name": "ipython",
    "version": 3
   },
   "file_extension": ".py",
   "mimetype": "text/x-python",
   "name": "python",
   "nbconvert_exporter": "python",
   "pygments_lexer": "ipython3",
   "version": "3.12.11"
  }
 },
 "nbformat": 4,
 "nbformat_minor": 5
}
