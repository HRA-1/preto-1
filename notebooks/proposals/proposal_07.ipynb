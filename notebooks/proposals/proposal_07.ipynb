{
 "cells": [
  {
   "cell_type": "code",
   "execution_count": 1,
   "id": "a39fe678",
   "metadata": {},
   "outputs": [
    {
     "data": {
      "application/vnd.plotly.v1+json": {
       "config": {
        "plotlyServerURL": "https://plot.ly"
       },
       "data": [
        {
         "marker": {
          "color": "#636EFA"
         },
         "name": "관련 경력",
         "type": "box",
         "visible": true,
         "x": [
          "IT",
          "Management Support",
          "Planning",
          "Production & Engineering",
          "Planning",
          "Sales & Marketing",
          "Production & Engineering",
          "Sales & Marketing",
          "Sales & Marketing",
          "Production & Engineering",
          "Production & Engineering",
          "Planning",
          "Planning",
          "Planning",
          "IT",
          "Production & Engineering",
          "Management Support",
          "Planning",
          "IT",
          "Sales & Marketing",
          "Sales & Marketing",
          "Production & Engineering",
          "IT",
          "Sales & Marketing",
          "Planning",
          "Planning",
          "Planning",
          "Production & Engineering",
          "Planning",
          "Management Support",
          "Sales & Marketing",
          "IT",
          "Sales & Marketing",
          "Planning",
          "Sales & Marketing",
          "Production & Engineering",
          "Planning",
          "IT",
          "Sales & Marketing",
          "Management Support",
          "Planning",
          "Management Support",
          "IT",
          "Planning",
          "IT",
          "Production & Engineering",
          "IT",
          "Production & Engineering",
          "Sales & Marketing",
          "Planning",
          "IT",
          "Production & Engineering",
          "IT",
          "IT",
          "Planning",
          "Sales & Marketing",
          "Planning",
          "Sales & Marketing",
          "Production & Engineering",
          "Sales & Marketing",
          "Sales & Marketing",
          "IT",
          "Planning",
          "Production & Engineering",
          "Sales & Marketing",
          "IT",
          "Production & Engineering",
          "IT",
          "Production & Engineering",
          "Production & Engineering",
          "IT",
          "Production & Engineering",
          "Production & Engineering",
          "Sales & Marketing",
          "IT",
          "IT",
          "IT",
          "Planning",
          "Planning",
          "Planning",
          "Sales & Marketing",
          "Management Support",
          "Sales & Marketing",
          "Sales & Marketing",
          "IT",
          "Production & Engineering",
          "Production & Engineering",
          "IT",
          "IT",
          "Sales & Marketing",
          "Planning",
          "Production & Engineering",
          "Planning",
          "Production & Engineering",
          "Sales & Marketing",
          "Production & Engineering",
          "Sales & Marketing",
          "Production & Engineering",
          "IT",
          "Production & Engineering",
          "IT",
          "Planning",
          "Planning",
          "Sales & Marketing",
          "IT",
          "Sales & Marketing",
          "Production & Engineering",
          "IT",
          "Sales & Marketing",
          "IT",
          "Planning",
          "Management Support",
          "Production & Engineering",
          "Sales & Marketing",
          "IT",
          "Planning",
          "Production & Engineering",
          "Sales & Marketing",
          "Sales & Marketing",
          "Production & Engineering",
          "Management Support",
          "Planning",
          "IT",
          "Management Support",
          "Sales & Marketing",
          "Production & Engineering",
          "IT",
          "Planning",
          "Management Support",
          "IT",
          "Sales & Marketing",
          "Management Support",
          "Sales & Marketing",
          "Sales & Marketing",
          "Sales & Marketing",
          "IT",
          "Planning",
          "IT",
          "Production & Engineering",
          "Planning",
          "IT",
          "Production & Engineering",
          "Sales & Marketing",
          "Sales & Marketing",
          "Sales & Marketing",
          "Production & Engineering",
          "IT",
          "IT",
          "Production & Engineering",
          "Planning",
          "Production & Engineering",
          "IT",
          "Management Support",
          "Management Support",
          "Planning",
          "Planning",
          "Production & Engineering",
          "Sales & Marketing",
          "IT",
          "IT",
          "Production & Engineering",
          "Sales & Marketing",
          "Management Support",
          "IT",
          "Planning",
          "Planning",
          "IT",
          "IT",
          "Management Support",
          "IT",
          "Sales & Marketing",
          "Production & Engineering"
         ],
         "y": {
          "bdata": "+DUcQx2VGUAHFWi2kwEjQMLf13AMdRRAsTMVyzW5I0BvBf1sioL7P9sDgvI4rxhAkul/TkDtHkBdHzkSOMAbQHCAd75d5RdAE+07Qi4YDkAFcW/0eSgtQK5mnpjVaRRAAqT4wRnZFUBERhOKvBwcQAIHeOfbVQ5AesXVzBOzCkC7ym+6eHP5P4SWMXHSc+8/VVVVVVVVBUDcj3+IQaLKP4adqViuyc0/YpCoBrLo4D9xDHVUZtgZQHgh3Qr62eQ/MJPY/AkL/T+OoY7KDDvzPyHdCvrZFBVAv8BkXR854j8TxL3R56EEQJjm7NjCCCZA1XoX0q2g7z/Kqbst798KQK+PHAkc4P0/rmaemNVpFEChPM4rrmYOQIZ0K+hnU9Q/jRWRNARIKUCHKafutrwPQLW1BwTlcQ5AfC/N2bGF8T+lIUCKH5zxP3Q8a6yIpBFABibr+siRIEAAOgG1ewYfQCd3+F6asxNAVD1aKURvAUArhegtUl8oQFk6x7PGiihAkW4F/WyKEkBI8YMzskvQPwiQ4gdnZAdA5LziauaJ+T+8uex1Q+PzP7sEcW/0eSBA3eF7ac6OHUC0xopIGgIUQOqozLAzFRtA4NdwDHVUFkDJLkHcG33eP05A7Z7BU/o/cLp4c9nrFkBgiTAf1pLiPy9qWozDlPM/XGq9C+lW8D9Gh4wmFHkhQIFmOxmwpwdAf1/DMdRR6T/fhXQr6GcjQNvJgD29qBlA6MrSOZ41BkB6xdXME7MKQKacutvy/iVApUq++mUSC0DbLABjfyUiQEVeDrbNAgBAnFdczTwxI0DbyYA9vagZQKWtPSAojwNAW1LC39dwHEAZEyc996n+P0jxgzOySyhAEUlDgBQ/GEBERhOKvBwkQEcCB3jn2/U/6GdTFNy4HUDq4s1lrxsKQAKk+MEZ2RVA0nOf6tFKIUBOQO2ewVMKQGQ0ocjLwQZAzE207wi5KECjQ0YTirzsP9qxhRGswhVAGeqozLAz1T+G16oNKtAkQDqeNVZE0hBALoxgFS61HkBQgWY7GbAXQBtUoNlOBixASRoCpPjB+T9OUXDj9uPPP0i3gn42RSFACzTbyYA9DUDyDzFIVAMJQDqeNVZE0vA/7QFBeZxX/D9D45Nk+p/zP+WrXyax+fM/uhX0sykKHkAjkoYAKX4QQMcnyfQ/JyhA69FKIXqL9D/HFkawCpf6PwOTdX3kSCBAtIyJk577FEAAxv5KhPkQQPXLJDZ/wiJAVKDZTgbsGUApuHH78Q8RQPhemrNjCxNA2cIIVuFSG0CtdyHdCvoZQGSoozLDzvQ/+eqXSWz+LEDgnW9X+U3XP9ZYEUlDgPQ/3+jzUKrkI0AWkTQESPEjQBWit0h9gRlAziuuZp6Y9T/l1N2W92/NPzcLwNhfiQBAV21QgWY7+T/xWrVBBZodQOU3Xby57BVAE8S90eehBECzdI5njRXhP1fQz6YouAFAvC3v3zrwAUD0sykKbtwOQHAd+JibaA9ArmaemNVpBEDDa9UGFWgmQDqeNVZE0iBA4J1vV/lNF0DQpii4cfshQLTGikgaAhRAg+G1aoMKBEAvalqMw5QTQAxM1vWRIxFAwNhfiTAf9j9wRnYJ4t4YQEIFmu1kwO4/kQuG16oNGkBPzOo0ykYkQCJAih+ckQ1AVNraA4LyCECx+RMWurIEQPy3DnzMTRRArIikIUCKzz94rdqgAs0WQN8i9QUm6wpASRoCpPjB6T9ZdMhoQpH3PzqeNVZE0vA/2z2Dp7S1F0AE5XFecTUjQC613oV0KyhABdTuGTylHUBD9BapLzAJQEHcG30eShVAsOEY6qjMIEA=",
          "dtype": "f8"
         }
        },
        {
         "marker": {
          "color": "#EF553B"
         },
         "name": "비관련 경력",
         "type": "box",
         "visible": true,
         "x": [
          "Planning",
          "Sales & Marketing",
          "Planning",
          "IT",
          "Sales & Marketing",
          "IT",
          "Sales & Marketing",
          "Planning",
          "IT",
          "Sales & Marketing",
          "Planning",
          "Sales & Marketing",
          "Management Support",
          "Sales & Marketing",
          "Sales & Marketing",
          "Sales & Marketing",
          "IT",
          "Planning",
          "Planning",
          "IT",
          "IT",
          "Planning",
          "Production & Engineering",
          "Planning",
          "Planning",
          "IT",
          "Sales & Marketing",
          "Management Support",
          "Sales & Marketing",
          "Sales & Marketing",
          "IT",
          "Production & Engineering",
          "Planning",
          "Production & Engineering",
          "IT",
          "IT",
          "Management Support",
          "Sales & Marketing",
          "IT",
          "IT",
          "IT",
          "Sales & Marketing",
          "IT",
          "Sales & Marketing",
          "Planning",
          "IT",
          "IT",
          "Planning",
          "Sales & Marketing",
          "Planning",
          "Sales & Marketing",
          "Sales & Marketing",
          "Planning",
          "Sales & Marketing",
          "Sales & Marketing",
          "Sales & Marketing",
          "IT",
          "IT",
          "Sales & Marketing",
          "IT",
          "IT",
          "Management Support",
          "IT",
          "IT",
          "Sales & Marketing",
          "Planning",
          "Sales & Marketing",
          "Planning",
          "Planning",
          "Management Support",
          "Sales & Marketing",
          "IT",
          "Planning",
          "Planning",
          "Sales & Marketing",
          "Sales & Marketing",
          "Sales & Marketing",
          "Planning",
          "Production & Engineering",
          "IT",
          "Production & Engineering",
          "Sales & Marketing",
          "Sales & Marketing",
          "IT",
          "IT",
          "Management Support",
          "Sales & Marketing",
          "Management Support",
          "Sales & Marketing",
          "IT",
          "Sales & Marketing",
          "IT",
          "Production & Engineering",
          "IT",
          "Production & Engineering",
          "Sales & Marketing",
          "Planning",
          "IT",
          "Planning",
          "Production & Engineering",
          "Production & Engineering",
          "Production & Engineering",
          "Production & Engineering",
          "Management Support",
          "Sales & Marketing",
          "Planning",
          "Sales & Marketing",
          "Production & Engineering",
          "Planning",
          "Sales & Marketing",
          "Sales & Marketing",
          "Management Support",
          "Planning",
          "IT",
          "Planning",
          "Sales & Marketing",
          "Management Support",
          "Planning",
          "Sales & Marketing",
          "Planning",
          "Sales & Marketing",
          "IT",
          "Planning",
          "Planning",
          "Sales & Marketing",
          "Planning",
          "Planning",
          "Sales & Marketing",
          "IT",
          "Sales & Marketing",
          "Planning",
          "Sales & Marketing",
          "Sales & Marketing",
          "Planning",
          "IT",
          "Planning",
          "Production & Engineering",
          "Production & Engineering",
          "Sales & Marketing",
          "Planning",
          "Sales & Marketing",
          "Production & Engineering",
          "Sales & Marketing",
          "Sales & Marketing",
          "Sales & Marketing",
          "Planning",
          "Planning",
          "Production & Engineering",
          "Planning",
          "Planning",
          "Sales & Marketing",
          "Sales & Marketing",
          "Production & Engineering",
          "Production & Engineering",
          "IT",
          "Planning",
          "Planning",
          "IT",
          "Sales & Marketing",
          "IT",
          "IT",
          "IT",
          "Planning",
          "Planning",
          "Sales & Marketing",
          "Production & Engineering",
          "IT",
          "Management Support",
          "Production & Engineering",
          "Management Support",
          "IT",
          "IT",
          "Management Support",
          "IT",
          "Planning",
          "IT",
          "Production & Engineering",
          "Sales & Marketing",
          "Production & Engineering",
          "IT",
          "Sales & Marketing",
          "Sales & Marketing",
          "Planning",
          "IT",
          "IT",
          "Planning",
          "Sales & Marketing",
          "Sales & Marketing",
          "Planning",
          "Production & Engineering",
          "Sales & Marketing",
          "Sales & Marketing",
          "Sales & Marketing",
          "Sales & Marketing",
          "IT",
          "Planning",
          "Sales & Marketing",
          "Sales & Marketing",
          "Planning",
          "Sales & Marketing",
          "Planning",
          "Production & Engineering",
          "Planning",
          "Management Support",
          "Sales & Marketing",
          "Sales & Marketing",
          "Planning",
          "IT",
          "Planning",
          "IT",
          "Sales & Marketing",
          "Sales & Marketing",
          "IT",
          "IT",
          "IT",
          "Planning",
          "IT",
          "Sales & Marketing",
          "Planning",
          "IT",
          "Planning",
          "Production & Engineering",
          "Sales & Marketing",
          "Sales & Marketing",
          "IT",
          "Management Support",
          "IT",
          "Management Support",
          "Planning",
          "Sales & Marketing",
          "Planning",
          "Planning",
          "Planning",
          "IT",
          "Planning",
          "IT",
          "IT",
          "Production & Engineering",
          "Sales & Marketing",
          "Sales & Marketing",
          "IT",
          "Sales & Marketing",
          "IT",
          "Production & Engineering",
          "IT",
          "IT",
          "Production & Engineering",
          "IT",
          "Production & Engineering",
          "Production & Engineering",
          "Management Support",
          "Planning",
          "Planning",
          "Sales & Marketing",
          "Production & Engineering",
          "Planning",
          "IT",
          "IT",
          "Production & Engineering",
          "Sales & Marketing",
          "IT",
          "Planning",
          "Planning",
          "Sales & Marketing",
          "Planning",
          "Sales & Marketing",
          "Production & Engineering",
          "Planning",
          "IT",
          "Planning",
          "Sales & Marketing",
          "Management Support",
          "Management Support",
          "IT",
          "Production & Engineering",
          "IT",
          "Production & Engineering",
          "Planning",
          "IT",
          "Sales & Marketing",
          "IT",
          "Planning",
          "Production & Engineering",
          "Sales & Marketing",
          "Sales & Marketing",
          "Production & Engineering",
          "IT",
          "Sales & Marketing",
          "IT",
          "Management Support",
          "IT",
          "IT",
          "Management Support",
          "IT",
          "Sales & Marketing",
          "IT",
          "Production & Engineering",
          "Planning",
          "Planning",
          "Management Support",
          "Management Support",
          "Planning",
          "Sales & Marketing",
          "Sales & Marketing",
          "Sales & Marketing",
          "Planning",
          "Production & Engineering",
          "Planning",
          "Production & Engineering",
          "Sales & Marketing",
          "Sales & Marketing",
          "Sales & Marketing"
         ],
         "y": {
          "bdata": "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",
          "dtype": "f8"
         }
        },
        {
         "marker": {
          "color": "#00CC96"
         },
         "name": "경력 없음",
         "type": "box",
         "visible": true,
         "x": [
          "Management Support",
          "IT",
          "Sales & Marketing",
          "Management Support",
          "Planning",
          "Sales & Marketing",
          "Sales & Marketing",
          "Sales & Marketing",
          "Production & Engineering",
          "Sales & Marketing",
          "Planning",
          "Production & Engineering",
          "Production & Engineering",
          "Planning",
          "Production & Engineering",
          "IT",
          "IT",
          "Production & Engineering",
          "Planning",
          "Production & Engineering",
          "Production & Engineering",
          "Production & Engineering",
          "Production & Engineering",
          "Management Support",
          "Planning",
          "Sales & Marketing",
          "Sales & Marketing",
          "Planning",
          "Sales & Marketing",
          "Planning",
          "Planning",
          "Sales & Marketing",
          "Planning",
          "Sales & Marketing",
          "IT",
          "Sales & Marketing",
          "Production & Engineering",
          "Planning",
          "Planning",
          "Production & Engineering",
          "Planning",
          "Sales & Marketing",
          "Planning",
          "Production & Engineering",
          "Production & Engineering",
          "Production & Engineering",
          "Sales & Marketing",
          "Production & Engineering",
          "Planning",
          "Sales & Marketing",
          "Management Support",
          "Management Support",
          "Planning",
          "Planning",
          "Production & Engineering",
          "Sales & Marketing",
          "Planning",
          "Sales & Marketing",
          "Sales & Marketing",
          "Sales & Marketing",
          "IT",
          "IT",
          "IT",
          "Production & Engineering",
          "Planning",
          "Production & Engineering",
          "IT",
          "Sales & Marketing",
          "Sales & Marketing",
          "Planning",
          "Sales & Marketing",
          "Planning",
          "IT",
          "IT",
          "Sales & Marketing",
          "Planning",
          "Sales & Marketing",
          "Management Support",
          "Sales & Marketing",
          "Planning",
          "Planning",
          "Planning",
          "Planning",
          "IT",
          "Production & Engineering",
          "Management Support",
          "Production & Engineering",
          "Production & Engineering",
          "Planning",
          "Planning",
          "Production & Engineering",
          "Management Support",
          "Planning",
          "Production & Engineering",
          "Planning",
          "Planning",
          "Planning",
          "Production & Engineering",
          "Planning",
          "Production & Engineering",
          "Sales & Marketing",
          "IT",
          "Production & Engineering",
          "Planning",
          "Production & Engineering",
          "Sales & Marketing",
          "Sales & Marketing",
          "Sales & Marketing",
          "Planning",
          "IT",
          "Planning",
          "Planning",
          "Sales & Marketing",
          "IT",
          "Sales & Marketing",
          "IT",
          "Production & Engineering",
          "Planning",
          "Planning",
          "IT",
          "Sales & Marketing",
          "Planning",
          "Management Support",
          "Production & Engineering",
          "Sales & Marketing",
          "Planning",
          "Production & Engineering",
          "Planning",
          "Sales & Marketing",
          "Sales & Marketing",
          "IT",
          "Planning",
          "Planning",
          "IT",
          "Planning",
          "Production & Engineering",
          "IT",
          "Sales & Marketing",
          "Production & Engineering",
          "IT",
          "IT",
          "Planning",
          "Production & Engineering",
          "Planning",
          "Sales & Marketing",
          "Management Support",
          "Sales & Marketing",
          "Sales & Marketing",
          "Sales & Marketing",
          "Sales & Marketing",
          "Sales & Marketing",
          "Sales & Marketing",
          "IT",
          "Sales & Marketing",
          "Sales & Marketing",
          "IT",
          "IT",
          "Sales & Marketing",
          "IT",
          "Sales & Marketing",
          "Sales & Marketing",
          "Production & Engineering",
          "Planning",
          "Production & Engineering",
          "Sales & Marketing",
          "Sales & Marketing",
          "Production & Engineering",
          "Production & Engineering",
          "Sales & Marketing",
          "IT",
          "Sales & Marketing",
          "Planning",
          "Planning",
          "Planning",
          "IT",
          "Production & Engineering",
          "Sales & Marketing",
          "Sales & Marketing",
          "IT",
          "Production & Engineering",
          "Planning",
          "IT",
          "Sales & Marketing",
          "IT",
          "Production & Engineering",
          "IT",
          "Sales & Marketing",
          "Sales & Marketing",
          "IT",
          "IT",
          "Production & Engineering",
          "IT",
          "IT",
          "Sales & Marketing",
          "Sales & Marketing",
          "IT",
          "Sales & Marketing",
          "Production & Engineering",
          "IT",
          "Sales & Marketing",
          "IT",
          "Sales & Marketing",
          "Sales & Marketing",
          "Sales & Marketing",
          "Planning",
          "Sales & Marketing",
          "Sales & Marketing",
          "Production & Engineering",
          "Sales & Marketing",
          "Sales & Marketing",
          "Sales & Marketing",
          "Production & Engineering",
          "Planning",
          "IT",
          "IT",
          "Sales & Marketing",
          "IT",
          "Planning",
          "Sales & Marketing",
          "Sales & Marketing",
          "Sales & Marketing",
          "Sales & Marketing",
          "Production & Engineering",
          "Planning",
          "Production & Engineering",
          "Production & Engineering",
          "Planning",
          "IT",
          "Planning",
          "Sales & Marketing",
          "IT",
          "Management Support",
          "Planning",
          "Planning",
          "IT",
          "Management Support",
          "Sales & Marketing",
          "Sales & Marketing",
          "IT",
          "Planning",
          "IT",
          "Planning",
          "Planning",
          "Production & Engineering",
          "Sales & Marketing",
          "Production & Engineering",
          "Production & Engineering",
          "Production & Engineering",
          "Sales & Marketing",
          "IT",
          "Production & Engineering",
          "Management Support",
          "Planning",
          "Production & Engineering",
          "Production & Engineering",
          "Sales & Marketing",
          "IT",
          "Production & Engineering",
          "Planning",
          "Sales & Marketing",
          "Planning",
          "Production & Engineering",
          "IT",
          "Planning",
          "Planning",
          "Production & Engineering",
          "Production & Engineering",
          "IT",
          "Sales & Marketing",
          "Planning",
          "Planning",
          "Planning",
          "Production & Engineering",
          "Planning",
          "Sales & Marketing",
          "Sales & Marketing",
          "Planning",
          "Production & Engineering",
          "Planning",
          "Production & Engineering",
          "Sales & Marketing",
          "Production & Engineering",
          "Planning",
          "IT",
          "Sales & Marketing",
          "Planning",
          "Sales & Marketing",
          "Planning",
          "IT",
          "IT",
          "IT",
          "Sales & Marketing",
          "Planning",
          "Planning",
          "Sales & Marketing",
          "IT",
          "Management Support",
          "Management Support",
          "Planning",
          "IT",
          "Planning",
          "IT",
          "Management Support",
          "IT",
          "Planning",
          "Production & Engineering",
          "IT",
          "Production & Engineering",
          "Production & Engineering",
          "Production & Engineering",
          "Sales & Marketing",
          "Production & Engineering",
          "Sales & Marketing",
          "Production & Engineering",
          "Management Support",
          "Planning",
          "IT",
          "Production & Engineering",
          "Management Support",
          "Management Support",
          "Planning",
          "Sales & Marketing",
          "Production & Engineering",
          "IT",
          "Sales & Marketing",
          "Sales & Marketing",
          "Production & Engineering",
          "Planning",
          "Planning",
          "IT",
          "Sales & Marketing",
          "Planning",
          "Management Support",
          "Sales & Marketing",
          "Planning",
          "Production & Engineering",
          "IT",
          "Planning",
          "IT",
          "Sales & Marketing",
          "Sales & Marketing",
          "Sales & Marketing",
          "Production & Engineering",
          "Management Support",
          "Sales & Marketing",
          "IT",
          "Planning",
          "Planning",
          "Planning",
          "Sales & Marketing",
          "Sales & Marketing",
          "Planning",
          "IT",
          "Management Support",
          "Management Support",
          "IT",
          "Production & Engineering",
          "IT",
          "Management Support",
          "Planning",
          "Sales & Marketing",
          "Sales & Marketing",
          "Planning",
          "Planning",
          "Production & Engineering",
          "Sales & Marketing",
          "Production & Engineering",
          "IT",
          "Planning",
          "Sales & Marketing",
          "Production & Engineering",
          "Planning",
          "IT",
          "IT",
          "Production & Engineering",
          "Planning",
          "Production & Engineering",
          "Planning",
          "Sales & Marketing",
          "Sales & Marketing",
          "IT",
          "IT",
          "Sales & Marketing",
          "Production & Engineering",
          "Sales & Marketing",
          "Planning",
          "IT",
          "Sales & Marketing",
          "Sales & Marketing",
          "Sales & Marketing",
          "Sales & Marketing",
          "Sales & Marketing",
          "IT",
          "Sales & Marketing",
          "Sales & Marketing",
          "IT",
          "IT",
          "Production & Engineering",
          "Sales & Marketing",
          "Production & Engineering",
          "Planning",
          "Production & Engineering",
          "IT",
          "Production & Engineering",
          "Planning",
          "Sales & Marketing",
          "Production & Engineering",
          "Planning",
          "Sales & Marketing",
          "Production & Engineering",
          "Sales & Marketing",
          "Planning",
          "IT",
          "Sales & Marketing",
          "Production & Engineering",
          "Production & Engineering",
          "Sales & Marketing",
          "Production & Engineering",
          "Sales & Marketing",
          "IT",
          "Planning",
          "Planning",
          "Production & Engineering",
          "IT",
          "IT",
          "Sales & Marketing",
          "Production & Engineering",
          "Planning",
          "Planning",
          "Management Support",
          "Production & Engineering",
          "Production & Engineering",
          "IT",
          "Production & Engineering",
          "IT",
          "IT",
          "Production & Engineering",
          "Planning",
          "Planning",
          "Sales & Marketing",
          "Sales & Marketing",
          "Sales & Marketing",
          "IT",
          "Sales & Marketing",
          "Sales & Marketing",
          "IT",
          "Planning",
          "Sales & Marketing",
          "IT",
          "Sales & Marketing",
          "Planning",
          "Sales & Marketing",
          "Planning",
          "Management Support",
          "Planning",
          "Planning",
          "Sales & Marketing",
          "IT",
          "Planning",
          "Production & Engineering",
          "Management Support",
          "IT",
          "IT",
          "Production & Engineering",
          "Production & Engineering",
          "IT",
          "Management Support",
          "IT",
          "Planning",
          "Sales & Marketing",
          "Management Support",
          "Sales & Marketing",
          "IT",
          "Planning",
          "Sales & Marketing",
          "IT",
          "Planning",
          "Production & Engineering",
          "Sales & Marketing",
          "Production & Engineering",
          "Sales & Marketing",
          "IT",
          "Sales & Marketing",
          "Sales & Marketing",
          "Sales & Marketing",
          "IT",
          "Production & Engineering"
         ],
         "y": {
          "bdata": "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",
          "dtype": "f8"
         }
        },
        {
         "marker": {
          "color": "#636EFA"
         },
         "name": "관련 경력",
         "type": "box",
         "visible": false,
         "x": [
          "Management Support",
          "Planning",
          "Planning",
          "Planning",
          "Management Support",
          "Planning",
          "Planning",
          "Management Support",
          "Planning",
          "Management Support",
          "Management Support",
          "Planning",
          "Planning",
          "Planning",
          "IT",
          "Planning",
          "Planning",
          "Management Support",
          "IT",
          "Planning",
          "Planning",
          "IT",
          "Planning",
          "Management Support",
          "IT",
          "Management Support",
          "Planning",
          "IT",
          "Management Support",
          "Management Support",
          "Management Support",
          "Planning",
          "IT",
          "Planning",
          "Management Support",
          "Management Support",
          "IT",
          "Management Support",
          "Planning",
          "Planning",
          "Management Support"
         ],
         "y": {
          "bdata": "BxVotpMBI0BvBf1sioL7P65mnpjVaRRAREYTirwcHEC7ym+6eHP5PzCT2PwJC/0/E8S90eehBECY5uzYwggmQI0VkTQESClAfC/N2bGF8T90PGusiKQRQAA6AbV7Bh9ASPGDM7JL0D/d4Xtpzo4dQHrF1cwTswpAW1LC39dwHEAZEyc996n+PxFJQ4AUPxhA0nOf6tFKIUDasYURrMIVQAs028mAPQ1A5atfJrH58z/HJ8n0PycoQOvRSiF6i/Q/tIyJk577FEDZwghW4VIbQK13Id0K+hlAZKijMsPO9D/56pdJbP4sQBWit0h9gRlANwvA2F+JAED0sykKbtwOQIPhtWqDCgRADEzW9ZEjEUBCBZrtZMDuP5ELhteqDRpArIikIUCKzz9JGgKk+MHpPzqeNVZE0vA/2z2Dp7S1F0AF1O4ZPKUdQA==",
          "dtype": "f8"
         }
        },
        {
         "marker": {
          "color": "#EF553B"
         },
         "name": "비관련 경력",
         "type": "box",
         "visible": false,
         "x": [
          "Planning",
          "IT",
          "IT",
          "Planning",
          "Management Support",
          "Planning",
          "Management Support",
          "Management Support",
          "IT",
          "Planning",
          "Planning",
          "Planning",
          "Management Support",
          "IT",
          "Planning",
          "Planning",
          "Management Support",
          "IT",
          "Planning",
          "Planning",
          "Planning",
          "Management Support",
          "Management Support",
          "Planning",
          "Planning",
          "Management Support",
          "Planning",
          "Management Support",
          "Management Support",
          "Planning",
          "Planning",
          "Planning",
          "Planning",
          "Planning",
          "Planning",
          "Planning",
          "Planning",
          "Planning",
          "IT",
          "Management Support",
          "Management Support",
          "Management Support",
          "Planning",
          "Planning",
          "Planning",
          "Management Support",
          "Planning",
          "IT",
          "IT",
          "Planning",
          "Management Support",
          "Management Support",
          "Planning",
          "Planning",
          "Planning",
          "IT",
          "Management Support",
          "Planning",
          "Planning",
          "IT",
          "IT",
          "IT",
          "Planning",
          "Planning",
          "Planning",
          "Management Support",
          "Management Support",
          "IT",
          "Management Support",
          "Management Support",
          "IT",
          "Planning",
          "Management Support",
          "Management Support",
          "Planning",
          "Planning",
          "Planning"
         ],
         "y": {
          "bdata": "wlPa2gOCEkChK0vneNb4P1KZYWcqliNAxv5KhPmw5j/UKBvxILQcQFdtUIFmO/k/4hjqqMywA0DQz6YouHEbQNpOBuzpRSVAih+ckV2CCEC4q/ymizcHQFLC39dwDAVA4qTnPtWjBUA7U7FckzsMQLAKl1rvQgpAJKqBLDpkBEAvQdwbfR4aQIGgPM4rrhZAmidmdRplE0CUx3nF1cwDQE8valqMw/Q/TrTvCLlgGEDHFkawCpciQO7wvTRnxxZAsVyTO3wvHUDn21V+08XrP0Pjk2T6nwNAvtHnoVTJ9z97QFAe5xUXQAGM/ZUI8xFANZBFh4wmJEBecTXzxKwmQGSoozLDzvQ/28mAPb2oIUCZ1WmUjXgAQE0o8nKwbbY/ovFJMv3PIUCuPSAoj/MaQHvd0PgkmR5Aa+aJWZ1GCUCQqAay6JDxPxnqqMywMwVAVVVVVVVV9T/fhXQr6GcTQJ8k0/+cgApAveJq5olZ/T9egrg3+jwEQOyGxifJ9CdAs9cNjU+SIUCwRJgPa0khQN9Lc3ZsYSRAAmr3DJ7SJkC94mrmiVntP8JCV5bO8RxAuSZ3+F6aA0DboALNdjIoQNZYEUlDgARASyF6i9QXCECl5z7Vo5UiQNvJgD29qCFAxPfSnB1bCEBCBZrtZMAeQF7lN128uSRAYLKujxwJJEBwRnYJ4t4YQHNN7vC9NBdAVn7TxZvLHkAGT2lrDwgaQJnE5k9Y6BpAHoSWMXHSE0DIokNGE4osQNdHjgQO8B5AYsqpuy3vH0BIt4J+NkUhQGN/JcJ8WBtA6KFUyVe/HEDGxEnPfaoXQA==",
          "dtype": "f8"
         }
        },
        {
         "marker": {
          "color": "#00CC96"
         },
         "name": "경력 없음",
         "type": "box",
         "visible": false,
         "x": [
          "Management Support",
          "Management Support",
          "Planning",
          "Planning",
          "IT",
          "Planning",
          "Management Support",
          "Planning",
          "Planning",
          "Planning",
          "Planning",
          "Management Support",
          "Management Support",
          "Planning",
          "IT",
          "Planning",
          "Planning",
          "IT",
          "Planning",
          "Management Support",
          "Planning",
          "Planning",
          "Planning",
          "Management Support",
          "Planning",
          "Planning",
          "Management Support",
          "Planning",
          "Planning",
          "Planning",
          "Planning",
          "Management Support",
          "Planning",
          "Planning",
          "Planning",
          "IT",
          "Planning",
          "Planning",
          "Management Support",
          "Planning",
          "Planning",
          "IT",
          "IT",
          "Planning",
          "Planning",
          "Planning",
          "Management Support",
          "Management Support",
          "Planning",
          "Management Support",
          "Planning",
          "Planning",
          "Planning",
          "Planning",
          "Planning",
          "Planning",
          "IT",
          "Planning",
          "Management Support",
          "Management Support",
          "Planning",
          "Management Support",
          "Planning",
          "Management Support",
          "Management Support",
          "Management Support",
          "Planning",
          "Management Support",
          "Planning",
          "IT",
          "Planning",
          "IT",
          "Management Support",
          "Planning",
          "Planning",
          "Management Support",
          "Management Support",
          "Management Support",
          "Planning",
          "Planning",
          "Planning",
          "Planning",
          "Planning",
          "IT",
          "IT",
          "Planning",
          "IT",
          "Planning",
          "Planning",
          "Planning",
          "Management Support",
          "Planning",
          "Planning",
          "Planning",
          "Planning",
          "Management Support",
          "Planning",
          "Management Support",
          "Management Support",
          "Management Support",
          "Planning",
          "IT"
         ],
         "y": {
          "bdata": "C8DYX4kw7z+3gn42RcEdQLgOfMxNtB9AEtVAFh0yGkC6snSOZ431P8XVzBOzOiVAQMQgUQ1k8T/WWBFJQ4DUP0jxgzOySwBAf1/DMdRR+T9k0SGjCUUeQNEyJk567gNAWddHjgQOIEAl0/+cgNotQOfs2MIIVilAKURvkfoC4z/PGisiaQjwPwKk+MEZ2SVABf1sioIbB0B0Amr3DJ7yP/mHGCSqgSRAiHujz0Op4j8cppy62/IeQOKk5z7VoxVAW+9CuhX0E0A4hjoqM+wcQJn+5wTU7glAuz5yJHCAF0Ds6UVNi3H4P0lDgBQ/OCtArF8msfkTFkCSXYK4N/oMQBSzOo2yER9ApFtBP5uiEECiVMlXv0wqQDUtxmHKqQtAqWkxDlNOJUAe5xVXM08kQJ2A2j2DpwRApRC9ReoLHEAHFWi2kwELQAxM1vWRIyFAmwVg7K9EGEAq0GwnA/YUQDJx0nOf6iFA0VukvsBkHUC7Z/CUtvYQQDgjuwRxbxRACgtdWTrHA0D9CQtdWToXQNeBj7mJ9h1AapSNeBBaFkBgTy9qWowTQBZXM0/M6gRAQx2VGXamIkCit0h9gckiQBVotpMBewpAbNUGFWi28z8ZEyc996kOQEEWHTKaUBRAYLKujxwJzD8BUvzgjOzCPzHl1N2W9x9A+cEZ2SWIK0CGdCvoZ1PkP0Pjk2T6n+M/vahpMQ5THkBzsG0WgLEPQJf3bx34mAtAgLG/EmE+JEBXbVCBZjv5PxMnPfepHh1A7xk8pa09EEDYcAx1VGYgQDqeNVZE0gBAw85ULNfkJkBl6RzPGisSQNRRmWFnKhZA02Icppy6G0BMEPdGn4cSQHeV33Tx5iJAiLWkhL+vEUB3ld908eYCQDL9zwmo3QNAoo7KDDtTIUBMEPdGn4cSQBGDRDWQRRdAJrH5Exa6EkAwMFnXR44UQB0JHOCdb/c/wQHe+XaVH0BkCyNYhUsdQFdtUIFmO7k/Yi0p4e9rGEAGw2vVBhUgQLQpCm7cfgxACKFlTJz0JEAd+JibaN/RP05A7Z7BU/o/yuO84mrmGUDbZgEY+yvhP6pHK4XoLSJA",
          "dtype": "f8"
         }
        },
        {
         "marker": {
          "color": "#636EFA"
         },
         "name": "관련 경력",
         "type": "box",
         "visible": false,
         "x": [
          "Sales & Marketing",
          "Sales & Marketing",
          "Sales & Marketing",
          "Planning",
          "Sales & Marketing",
          "IT",
          "Sales & Marketing",
          "Sales & Marketing",
          "Sales & Marketing",
          "Sales & Marketing",
          "IT",
          "Sales & Marketing",
          "Sales & Marketing",
          "Sales & Marketing",
          "IT",
          "Sales & Marketing",
          "IT",
          "Sales & Marketing",
          "IT",
          "Sales & Marketing",
          "Sales & Marketing",
          "Sales & Marketing",
          "IT",
          "Planning",
          "Sales & Marketing",
          "IT",
          "Sales & Marketing",
          "Sales & Marketing",
          "Sales & Marketing",
          "Sales & Marketing",
          "Sales & Marketing",
          "Sales & Marketing",
          "Sales & Marketing",
          "Sales & Marketing",
          "Sales & Marketing",
          "Sales & Marketing",
          "IT",
          "Sales & Marketing",
          "Sales & Marketing",
          "IT",
          "Planning",
          "Planning",
          "Sales & Marketing",
          "IT",
          "IT",
          "Sales & Marketing"
         ],
         "y": {
          "bdata": "2wOC8jivGEBdHzkSOMAbQHCAd75d5RdAhJYxcdJz7z+GnalYrsnNP3EMdVRm2BlA1XoX0q2g7z+hPM4rrmYOQLW1BwTlcQ5AkW4F/WyKEkC7BHFv9HkgQLTGikgaAhRA4NdwDHVUFkBOQO2ewVP6P2CJMB/WkuI/RoeMJhR5IUCBZjsZsKcHQNssAGN/JSJARV4Ots0CAEBI8YMzsksoQEcCB3jn2/U/LoxgFS61HkBOUXDj9uPPP0i3gn42RSFA8g8xSFQDCUA6njVWRNLwP+0BQXmcV/w/uhX0sykKHkADk3V95EggQFSg2U4G7BlAKbhx+/EPEUDgnW9X+U3XP+XU3Zb3b80/V21QgWY7+T/xWrVBBZodQOU3Xby57BVAcB34mJtoD0DDa9UGFWgmQOCdb1f5TRdAtMaKSBoCFEBPzOo0ykYkQCJAih+ckQ1AsfkTFrqyBEAutd6FdCsoQEP0FqkvMAlAQdwbfR5KFUA=",
          "dtype": "f8"
         }
        },
        {
         "marker": {
          "color": "#EF553B"
         },
         "name": "비관련 경력",
         "type": "box",
         "visible": false,
         "x": [
          "Sales & Marketing",
          "Sales & Marketing",
          "Sales & Marketing",
          "Sales & Marketing",
          "Sales & Marketing",
          "Sales & Marketing",
          "Sales & Marketing",
          "Planning",
          "Planning",
          "Sales & Marketing",
          "Sales & Marketing",
          "Sales & Marketing",
          "IT",
          "IT",
          "Sales & Marketing",
          "Sales & Marketing",
          "Sales & Marketing",
          "Sales & Marketing",
          "Sales & Marketing",
          "Sales & Marketing",
          "Sales & Marketing",
          "Sales & Marketing",
          "IT",
          "Sales & Marketing",
          "Sales & Marketing",
          "Planning",
          "Sales & Marketing",
          "Sales & Marketing",
          "Sales & Marketing",
          "Sales & Marketing",
          "Sales & Marketing",
          "Sales & Marketing",
          "IT",
          "IT",
          "Sales & Marketing",
          "Sales & Marketing",
          "Planning",
          "Sales & Marketing",
          "Sales & Marketing",
          "Planning",
          "Sales & Marketing",
          "Sales & Marketing",
          "Sales & Marketing",
          "Sales & Marketing",
          "Sales & Marketing",
          "Sales & Marketing",
          "Planning",
          "Sales & Marketing",
          "Sales & Marketing",
          "Sales & Marketing",
          "Sales & Marketing",
          "Sales & Marketing",
          "Sales & Marketing",
          "Sales & Marketing",
          "Sales & Marketing",
          "Sales & Marketing",
          "Sales & Marketing",
          "Sales & Marketing",
          "Sales & Marketing",
          "Sales & Marketing",
          "Sales & Marketing",
          "Sales & Marketing",
          "Sales & Marketing",
          "Sales & Marketing",
          "Sales & Marketing",
          "Sales & Marketing",
          "Sales & Marketing",
          "Sales & Marketing",
          "Sales & Marketing",
          "Sales & Marketing",
          "Sales & Marketing",
          "IT",
          "Sales & Marketing",
          "Sales & Marketing",
          "Sales & Marketing",
          "IT",
          "Sales & Marketing",
          "Sales & Marketing",
          "Sales & Marketing",
          "IT",
          "Planning",
          "Sales & Marketing",
          "Sales & Marketing",
          "Sales & Marketing",
          "Sales & Marketing",
          "IT",
          "Planning",
          "Sales & Marketing",
          "Sales & Marketing",
          "Sales & Marketing",
          "Sales & Marketing",
          "Sales & Marketing",
          "Sales & Marketing",
          "Sales & Marketing",
          "Sales & Marketing",
          "Sales & Marketing",
          "Sales & Marketing"
         ],
         "y": {
          "bdata": "F6kvMFnXF0D4NRxDHZXJP6twqfUupPs/nR1bGMEqHEDRviPkguEFQGuDCjTbyRBAXEE/m6LgFkCR+gKTdX0UQOMw5dTdlgdAsoURrMKl9j8VaLaTAXsaQFvvQroV9BNAoo7KDDtTIUAsrmaemNUpQIYRrMKl1htAbtx+/EMMAkDCQleWzvEcQMdQR2WGnSFArU6jbMSDIEBeqzaoQLPtP0ytdyHdCgpADxlNKPJyAEC3H/8Qg0QFQDAwWddHjhRAzo4tjGAVHkAheovUF5gkQMNr1QYVaAZAgwo028mADUBeDrbNAjAWQIurmSdmdfo/O7YwglW4FEC3vH/rwMf8P0w5dbfl/QtAA812MmBPH0BI8YMzskvQP5xXXM08MRtA611It4J+BkAzic2fsNAFQO7wvTRnx8Y/wK/hGOqoHEDn21V+08UrQCjycrBtFhBAP/4hBolqEEDrXUi3gn4GQEYTirwcbBtAz1Qs1+QO/z96UdNiHKYkQDLUUZlhZxpAkiOBA7zzHUBmrxsanyTzP7akhL+v4cg/pSFAih+c4T92pmK5JncYQFC7Z/CUtgZAULtn8JS2FkC2BwTlcV4RQKz8pos3ly1AGnamYrkmJ0B6KFXy1S8DQFmuyR2+lxZAHzkSOMA7/z8iowlFXg4mQNZYEUlDgOQ/kdGEIi8HC0CWCPNhLSkpQH1YS0r4+wpARcGN249/KEDwaziGOioDQKATULtn8OQ/ksAB3vl2JUAd+JibaN/RP9M5njVWRAJAyoA9vahpEUDr+siRwAEmQDu2MIJVuBRAsAqXWu9CIkAEgvI4r7gKQJ8k0/+cgPo/9wye0tYeEEDad4RcMLz2P0QMEtVAFt0/Y0UkDQFSHEBl6RzPGisiQJLAAd75dgVAjSYUeTnYBkBAYaErS+cgQGXAnl7UtOg/sESYD2tJGUA6x7PGikgaQDEOU07dbQlAftPFm8teF0BzE+07Qi7YP2ybBWDsryRAqECznQzY8z+q5KtfJrEZQDGCVbjUetc/gWY7GbCn9z8=",
          "dtype": "f8"
         }
        },
        {
         "marker": {
          "color": "#00CC96"
         },
         "name": "경력 없음",
         "type": "box",
         "visible": false,
         "x": [
          "Sales & Marketing",
          "Sales & Marketing",
          "Sales & Marketing",
          "Sales & Marketing",
          "Sales & Marketing",
          "Sales & Marketing",
          "Sales & Marketing",
          "Sales & Marketing",
          "Planning",
          "Planning",
          "Sales & Marketing",
          "Sales & Marketing",
          "Sales & Marketing",
          "Sales & Marketing",
          "Sales & Marketing",
          "IT",
          "Sales & Marketing",
          "Sales & Marketing",
          "Sales & Marketing",
          "Planning",
          "Planning",
          "Sales & Marketing",
          "Sales & Marketing",
          "Sales & Marketing",
          "Sales & Marketing",
          "Planning",
          "Planning",
          "Sales & Marketing",
          "Sales & Marketing",
          "Sales & Marketing",
          "Sales & Marketing",
          "Sales & Marketing",
          "Sales & Marketing",
          "Sales & Marketing",
          "Sales & Marketing",
          "Sales & Marketing",
          "Sales & Marketing",
          "Sales & Marketing",
          "Sales & Marketing",
          "Sales & Marketing",
          "Sales & Marketing",
          "Sales & Marketing",
          "Sales & Marketing",
          "Sales & Marketing",
          "IT",
          "Sales & Marketing",
          "Sales & Marketing",
          "Sales & Marketing",
          "Sales & Marketing",
          "IT",
          "Sales & Marketing",
          "Sales & Marketing",
          "Sales & Marketing",
          "IT",
          "Sales & Marketing",
          "Sales & Marketing",
          "Sales & Marketing",
          "Sales & Marketing",
          "Sales & Marketing",
          "Sales & Marketing",
          "Sales & Marketing",
          "Sales & Marketing",
          "Sales & Marketing",
          "Sales & Marketing",
          "Sales & Marketing",
          "Sales & Marketing",
          "Sales & Marketing",
          "Sales & Marketing",
          "Sales & Marketing",
          "Planning",
          "Sales & Marketing",
          "Sales & Marketing",
          "Sales & Marketing",
          "Sales & Marketing",
          "Sales & Marketing",
          "Sales & Marketing",
          "Planning",
          "IT",
          "Sales & Marketing",
          "Sales & Marketing",
          "Sales & Marketing",
          "Sales & Marketing",
          "Sales & Marketing",
          "Sales & Marketing",
          "Sales & Marketing",
          "Sales & Marketing",
          "Sales & Marketing",
          "Planning",
          "Sales & Marketing",
          "IT",
          "Sales & Marketing",
          "Sales & Marketing",
          "Sales & Marketing",
          "Sales & Marketing",
          "Planning",
          "Sales & Marketing",
          "Sales & Marketing",
          "Sales & Marketing",
          "Sales & Marketing",
          "Sales & Marketing",
          "Sales & Marketing",
          "Sales & Marketing",
          "Sales & Marketing",
          "IT",
          "Sales & Marketing",
          "Sales & Marketing",
          "Sales & Marketing",
          "Planning",
          "Sales & Marketing",
          "Sales & Marketing",
          "Sales & Marketing",
          "Sales & Marketing",
          "Sales & Marketing",
          "Sales & Marketing",
          "Sales & Marketing",
          "Planning",
          "Sales & Marketing",
          "Sales & Marketing",
          "Sales & Marketing",
          "Sales & Marketing",
          "Planning",
          "Planning",
          "Sales & Marketing",
          "Sales & Marketing",
          "Sales & Marketing",
          "Sales & Marketing",
          "Sales & Marketing",
          "Sales & Marketing"
         ],
         "y": {
          "bdata": "PHwvzdmxLUArhegtUl8QQC9qWozDlANAE8S90eehLEC7ofFJMv0fQNp3hFwwvPY/3jN4Slt7IEDkvOJq5okZQLN0jmeNFeE/1aOVQvQWIUBppRC9ReobQI54EFrGxCFAveJq5olZHUAanyTT/5wQQFZ+08Wby/4/EqzCpda7IEC/6eLNZa8LQEJoGRMnPRdAEM7ILkHcI0Ap4e9rOIYaQPP+rQMfcwNA1lgRSUOA1D+Bybo+ciQAQGlrDwjK4wxAF28ue93QCEDZX4kwH9biPxb0sykKbgxAXg62zQIwFkCEbbMAjP31P/YupFtBP+s/KFXy1S+TCEAG7OlFTYshQNUXmKzrIydAgE5A7Z7BE0DpuU/1aKXgP2AmsfkTFgpAIkCKH5yRDUCUZPqfE1ALQEu++mUSmw9ATBD3Rp+HEkBIjgQO8M4HQJ/7VI9WCiFAuKv8pos3B0CAd75d5Tf9P4/KDDtTsSxA14GPuYn2DUBKlXz1yyQGQAaJaiCLDiFAEtVAFh0y6j8CQXmcV1wlQCkb8SC0jBlAjGAVLrXeFUBaxsRJz30iQM5lrxsanyRABibr+siREEBpaw8IyuMMQMqAPb2oaQFAMYJVuNR61z+uZp6Y1Wn0P8T30pwdW/g/CKFlTJz0/D+1ewZPaWsfQJn+5wTU7ilAduBjbqJ9J0BY6MrSOZ4lQPUFJuv6yBFAQ+OTZPqfwz8CavcMntIGQLk3+jyUKglA0Amo3TN4GkClSr76ZRLrP2lrDwjK4xxAic2fsNCVFUC6T/VopRAlQCNYhUutdxFA1ReYrOsjF0DNdjJgTy8qQF/DMdRRmRFA4kFoGRMnDUDSraCfTVEQQCxL53jWWNE/xIPQMiZOIkCCVbjUehcqQNBDqZKvfglAo89DqZKvHkBcar0L6VYAQFxqvQvpVvA/F0awCpdaH0ALwNhfiTDvP5M7fC/N2SlAlfD3NRxD3T/gnW9X+U3XP9/o81Cq5BtAeTnYNgvACEB2Q+OTZPoPQB4hFwyvVbs/rIikIUCK/z8W9LMpCm78P2tJCX9fwwFAXAc+5ibaB0Cpkq9+mcQWQP9KhPmwlvQ/TrTvCLlgGEBXbVCBZju5PxfjMOXU3RZAfyXCfFhLGkCit0h9gckaQHAd+JibaA9Aj8oMO1OxDEBOUXDj9uPfP/xUj1YK0QtAmwVg7K9ECED13Kd6tFIoQBymnLrb8h5AJuv6yJHAEUASrMKl1rsQQIEDvPPtKh9Ah4wmFHk5KEBPL2pajMMEQJ4M2NOLmhZA+NKcHVsYEUDG/kqE+bD2PwjK47ziahZA9x0hFwyvBUDad4RcMLz2PwFS/OCM7PI/btx+/EMMIkA5TDl1t+UdQA==",
          "dtype": "f8"
         }
        },
        {
         "marker": {
          "color": "#636EFA"
         },
         "name": "관련 경력",
         "type": "box",
         "visible": false,
         "x": [
          "Planning",
          "Production & Engineering",
          "Production & Engineering",
          "Planning",
          "IT",
          "IT",
          "Planning",
          "Planning",
          "Planning",
          "Production & Engineering",
          "IT",
          "Planning",
          "IT",
          "IT",
          "Production & Engineering",
          "Planning",
          "Planning",
          "IT",
          "Production & Engineering",
          "Production & Engineering",
          "IT",
          "Planning",
          "Production & Engineering",
          "Production & Engineering",
          "Production & Engineering",
          "IT",
          "Production & Engineering",
          "Production & Engineering",
          "IT",
          "Planning",
          "IT",
          "Planning",
          "IT",
          "IT",
          "Production & Engineering",
          "Production & Engineering",
          "Production & Engineering",
          "IT"
         ],
         "y": {
          "bdata": "wt/XcAx1FECxMxXLNbkjQAVxb/R5KC1AAqT4wRnZFUACB3jn21UOQFVVVVVVVQVAjqGOygw78z8h3Qr62RQVQK5mnpjVaRRAhnQr6GdT1D+HKafutrwPQKUhQIofnPE/Bibr+siRIEAnd/hemrMTQFk6x7PGiihA6qjMsDMVG0AvalqMw5TzP9+FdCvoZyNAppy62/L+JUClSr76ZRILQOhnUxTcuB1AzE207wi5KECjQ0YTirzsPxnqqMywM9U/UIFmOxmwF0AbVKDZTgYsQEkaAqT4wfk/Q+OTZPqf8z8jkoYAKX4QQADG/kqE+RBA3+jzUKrkI0AWkTQESPEjQM4rrmaemPU/E8S90eehBEAvalqMw5QTQMDYX4kwH/Y/VNraA4LyCED8tw58zE0UQA==",
          "dtype": "f8"
         }
        },
        {
         "marker": {
          "color": "#EF553B"
         },
         "name": "비관련 경력",
         "type": "box",
         "visible": false,
         "x": [
          "IT",
          "Planning",
          "IT",
          "IT",
          "IT",
          "Production & Engineering",
          "Planning",
          "IT",
          "IT",
          "IT",
          "IT",
          "IT",
          "IT",
          "Planning",
          "IT",
          "Production & Engineering",
          "IT",
          "Production & Engineering",
          "IT",
          "IT",
          "IT",
          "Production & Engineering",
          "Production & Engineering",
          "Production & Engineering",
          "Production & Engineering",
          "Planning",
          "IT",
          "Planning",
          "Planning",
          "IT",
          "Planning",
          "Planning",
          "IT",
          "Production & Engineering",
          "Production & Engineering",
          "Production & Engineering",
          "IT",
          "Production & Engineering",
          "IT",
          "IT",
          "Production & Engineering",
          "Planning",
          "IT",
          "Planning",
          "Planning",
          "Planning",
          "Planning",
          "IT",
          "Planning",
          "IT",
          "Planning",
          "IT",
          "IT",
          "Production & Engineering",
          "IT",
          "Production & Engineering",
          "IT",
          "Production & Engineering",
          "IT",
          "Planning",
          "IT",
          "IT",
          "Production & Engineering",
          "IT",
          "IT",
          "IT",
          "Planning",
          "Production & Engineering"
         ],
         "y": {
          "bdata": "xxZGsAqXGkCj4Mbtxz8UQGZMnPTcpwpASPGDM7JLAEBu3H78QwwSQPMnLHRl6fw/Jfx9DcdQF0BJCX9fwzH0PzzfrvKbLv4/X/0yic2fAEABUvzgjOwCQKErS+d41ghAH9aSEv6+FkCz1w2NT5IhQB34mJto38E/l/dvHfiY+z9g7K9EmA8jQPUFJuv6yBFAqfUupFtBD0BymHLqbssjQCYl/H0Nx/A/GJis6yNHIkD2uqHxSTINQNjTi5oW4xBANNvJgD29GEDz/q0DH3MTQJf3bx34mAtAZcCeXtS06D/nT1joytIJQJQq+eqXSRxAgE5A7Z7BA0CE0DImTnomQPaRI4EDvANAtIyJk577BEDTnB1bGMEiQCtcar0L6QZARAwS1UAW7T8QlMd5xdUkQBiYrOsjRxJAOMA7367y6z9MOXW35f0bQBJywfBatRFAK/nql0lsDkCMw5RTd1sOQE8valqMwwRAs3SOZ40VIUA6njVWRNIQQO11Q+OTZBpAcIB3vl3lF0Bt7QFBeZwnQC3GYcqpuyVAoo7KDDtTEUAILWPipOcOQKK3SH2ByQpAQ/QWqS8wIUDipOc+1aPlP+nzUKrkqx9AQRYdMppQFECO249/iEEiQJXw9zUcQx1AId0K+tkUJUBr5olZnUYhQHySTP9zAiJAziuuZp6Y9T+Lq5knZnUKQMwkNn/CQvc/45Nk+p8TIEDkvOJq5on5Pw==",
          "dtype": "f8"
         }
        },
        {
         "marker": {
          "color": "#00CC96"
         },
         "name": "경력 없음",
         "type": "box",
         "visible": false,
         "x": [
          "IT",
          "Planning",
          "Production & Engineering",
          "IT",
          "Production & Engineering",
          "Production & Engineering",
          "Production & Engineering",
          "Planning",
          "Planning",
          "IT",
          "Production & Engineering",
          "Production & Engineering",
          "Planning",
          "Planning",
          "Production & Engineering",
          "IT",
          "Production & Engineering",
          "Production & Engineering",
          "Planning",
          "IT",
          "Planning",
          "IT",
          "Production & Engineering",
          "Production & Engineering",
          "IT",
          "Planning",
          "IT",
          "IT",
          "IT",
          "Production & Engineering",
          "Planning",
          "Planning",
          "IT",
          "Production & Engineering",
          "IT",
          "IT",
          "Production & Engineering",
          "Planning",
          "Production & Engineering",
          "Planning",
          "IT",
          "Planning",
          "IT",
          "IT",
          "Production & Engineering",
          "IT",
          "IT",
          "IT",
          "Planning",
          "IT",
          "IT",
          "IT",
          "Production & Engineering",
          "Planning",
          "Production & Engineering",
          "Planning",
          "Planning",
          "IT",
          "Planning",
          "IT",
          "IT",
          "Production & Engineering",
          "Production & Engineering",
          "IT",
          "Production & Engineering",
          "IT",
          "Planning",
          "Production & Engineering",
          "Production & Engineering",
          "Production & Engineering",
          "IT",
          "Planning",
          "Planning",
          "IT",
          "Planning",
          "IT",
          "IT",
          "IT",
          "IT",
          "Production & Engineering",
          "Production & Engineering",
          "Planning",
          "IT",
          "Production & Engineering",
          "Planning",
          "IT",
          "Planning",
          "IT",
          "Production & Engineering",
          "Production & Engineering",
          "IT",
          "Production & Engineering",
          "IT",
          "IT",
          "Planning",
          "IT",
          "Planning",
          "IT",
          "Production & Engineering",
          "Production & Engineering",
          "Production & Engineering",
          "Production & Engineering",
          "IT",
          "IT",
          "Planning",
          "Production & Engineering",
          "IT",
          "Production & Engineering",
          "Production & Engineering",
          "IT",
          "Production & Engineering",
          "IT",
          "IT",
          "IT",
          "IT",
          "Planning",
          "IT",
          "IT",
          "Production & Engineering",
          "Production & Engineering",
          "Planning",
          "IT",
          "Production & Engineering"
         ],
         "y": {
          "bdata": "TDl1t+X9G0CiGsiiQ0bjP1Rm2JmK5eo/8nKwbRaAAUCMmhbjMOX0P7/AZF0fOcI/Kbhx+/EPIUDBAd75dpUfQMjcRPuOkCtAFpE0BEjxE0C8kG4F/WwaQJV89cskNg9ATlFw4/bj3z+QuYn2HSEHQHhKW3tAUB5A+PsajqGOGkAue93Q+CTpP9ZplI14ECJAcvvxDzFIBECxMxXLNbkjQIfvpTk7thBAngzY04ua5j+tTqNsxIMAQIRcMLxWbfA/GgKk+MEZ+T+HY6ijMsMmQPM4r7iaeRJAtRiHKafuBkDSSiF6i9THP7hx+/EPMRhAQ/QWqS8wCUDwaziGOioDQEOAFD84IxtAcFf5TRdvHkA8367ymy7+P84rrmaemAVAg342RcGNK0CT2PwJC10hQK+4mnliVidAfGnOji2MIEA0eEpbe0AAQL5uaHySTB9AoTzOK65m/j8qbe0BQXn8P4sOGU0o8gJA4qTnPtWjJUCdutvy/q0jQN+u8psu3hxApDLDzlQsB0D4NRxDHZUJQPAIuWB4rRpAvC3v3zrwIUAG7OlFTYsRQOXU3Zb3b/0/4kFoGRMnDUDSSiF6i9TXPw2e0tYeEARAMYJVuNR6xz+eNVZE0hAoQBfjMOXU3eY/wfBatUEFCkBoUxTcuP0oQEIuGF6rNhhAyD/EIFENFEBOF28ue90QQB4hFwyvVcs/RAwS1UAWzT/CU9raA4ISQGO5Jnf4XhpAZcCeXtS06D8hFwyvVRsEQG4//iEGiRpACRzgnW9XGUBu3H78QwzSPzMmTnruUx1Av+nizWWvI0DnstcNjU/iP+zpRU2LcRhALK5mnpjVGUAUszqNshEfQAoLXVk6xwNAjbIRD0LL+D9HZYadqVgeQCP1BSbr+iBAsG0WgLG/8j88fC/N2bElQCD/EINENeA/R5+HUiVfHUAujGAVLrX+P4sOGU0o8gJAAMb+SoT5AEA4l71uaHwSQL5d5TddvClA0fgkmf7nLEBJCX9fwzEUQNQoG/EgtBxAkkz/cwJqF0BYv0xi8yccQGXAnl7UtNg/yoA9vahpIUBf/TKJzZ8QQDa5w/fSnO0/9IqrmSdmFUAY+ysR5sP6Pyv56pdJbB5AFvSzKQpuDEAmJfx9DcfwP+RZY0UkDSFA8fc1HEMdFUA7U7FckzsMQPH3NRxDHfU/iaQhQIof7D8c4J1vV/kdQEYTirwcbAtAvpfm7NjCKEALNNvJgD0dQKZzPGusiBRAtFKI3iL1JUDiQWgZEycNQKtwqfUupPs/6GdTFNy4HUDVQBYdMpoQQNlfiTAf1uI/",
          "dtype": "f8"
         }
        },
        {
         "marker": {
          "color": "#636EFA"
         },
         "name": "관련 경력",
         "type": "box",
         "visible": false,
         "x": [
          "IT",
          "Production & Engineering",
          "Production & Engineering",
          "Production & Engineering",
          "Sales & Marketing",
          "Production & Engineering",
          "Sales & Marketing",
          "Production & Engineering",
          "IT",
          "Sales & Marketing",
          "Production & Engineering",
          "IT",
          "IT",
          "Production & Engineering",
          "IT",
          "Production & Engineering",
          "Sales & Marketing",
          "Production & Engineering",
          "Production & Engineering",
          "Production & Engineering",
          "Production & Engineering",
          "IT",
          "IT",
          "Planning",
          "Sales & Marketing",
          "Production & Engineering",
          "Production & Engineering",
          "IT",
          "Sales & Marketing",
          "Sales & Marketing",
          "Production & Engineering",
          "Production & Engineering",
          "Production & Engineering",
          "Production & Engineering",
          "Production & Engineering",
          "Planning",
          "IT",
          "Production & Engineering",
          "Production & Engineering",
          "Sales & Marketing",
          "Production & Engineering",
          "IT",
          "Production & Engineering",
          "Sales & Marketing",
          "IT",
          "IT",
          "Production & Engineering"
         ],
         "y": {
          "bdata": "+DUcQx2VGUCS6X9OQO0eQBPtO0IuGA5AesXVzBOzCkDcj3+IQaLKP2KQqAay6OA/eCHdCvrZ5D+/wGRdHzniP8qpuy3v3wpAr48cCRzg/T9UPVopRG8BQCuF6C1SXyhACJDiB2dkB0DkvOJq5on5P7y57HVD4/M/yS5B3Bt93j9wunhz2esWQFxqvQvpVvA/f1/DMdRR6T/byYA9vagZQOjK0jmeNQZAnFdczTwxI0DbyYA9vagZQKWtPSAojwNAREYTirwcJEDq4s1lrxsKQAKk+MEZ2RVATkDtnsFTCkBkNKHIy8EGQIbXqg0q0CRAOp41VkTSEEDHFkawCpf6P/XLJDZ/wiJA+F6as2MLE0DWWBFJQ4D0P7N0jmeNFeE/V9DPpii4AUC8Le/fOvABQK5mnpjVaQRAOp41VkTSIEDQpii4cfshQHBGdgni3hhAeK3aoALNFkDfIvUFJusKQFl0yGhCkfc/BOVxXnE1I0Cw4RjqqMwgQA==",
          "dtype": "f8"
         }
        },
        {
         "marker": {
          "color": "#EF553B"
         },
         "name": "비관련 경력",
         "type": "box",
         "visible": false,
         "x": [
          "Planning",
          "Sales & Marketing",
          "Planning",
          "Planning",
          "IT",
          "Production & Engineering",
          "Production & Engineering",
          "Sales & Marketing",
          "Sales & Marketing",
          "IT",
          "IT",
          "IT",
          "Sales & Marketing",
          "Sales & Marketing",
          "Sales & Marketing",
          "IT",
          "Sales & Marketing",
          "Production & Engineering",
          "Production & Engineering",
          "Production & Engineering",
          "Sales & Marketing",
          "Sales & Marketing",
          "IT",
          "Production & Engineering",
          "Production & Engineering",
          "Planning",
          "Planning",
          "Planning",
          "Production & Engineering",
          "IT",
          "IT",
          "IT",
          "IT",
          "Planning",
          "Production & Engineering",
          "IT",
          "IT",
          "Sales & Marketing",
          "Production & Engineering",
          "IT",
          "IT",
          "IT",
          "Production & Engineering",
          "Planning",
          "Production & Engineering",
          "Planning",
          "IT",
          "IT",
          "Sales & Marketing",
          "IT",
          "Production & Engineering",
          "IT",
          "Planning",
          "IT",
          "Production & Engineering",
          "Production & Engineering",
          "Production & Engineering",
          "Production & Engineering",
          "Sales & Marketing",
          "Planning",
          "Production & Engineering",
          "IT",
          "Production & Engineering",
          "Production & Engineering",
          "Planning",
          "Production & Engineering",
          "IT",
          "Production & Engineering",
          "Sales & Marketing",
          "Production & Engineering"
         ],
         "y": {
          "bdata": "6m7L+7cOJEDPVCzX5A7/P/VopRC9RSJAZtiZiuWaLEDvQroV9LMhQAihZUyc9CxA09YeEJTHKUBSNuJBaBkDQHL78Q8xSCxA8g8xSFQD+T/i3ujzUKoUQAlW4VLrXSBA7vC9NGfH5j8miHujz0MpQJ1G2YgHoRVAoHbP4CltJUCV33Tx5rIXQOJBaBkTJx1Ao0NGE4q8DEBaY0UkDQECQPsrEebDWgJASPGDM7JL4D/RMiZOeu7zP8HwWrVBBfo/+hMWurJ0HkDLNbnD99LsP0rPfapHKxVA6kVNi3GYIkAqp+62vH8bQGlrDwjK4yxAHTKaUOTlIEBG6gtM1vUhQLKujxwJHBBA/lsHPuYmCkAk5ILhtWoTQJC5ifYdIcc/U07dbXn/FkDooVTJV78cQFhLSvj7Gh5Af/xDDBLVEEBlwJ5e1LToP9JKIXqL1Oc/5xVXM0/MGkBOF28ue93wP740Z8cWRhBAH3MT7TtCHkCqgSw6ZDQRQNBsJwP29BJA3yL1BSbrCkDKHb6X5uwIQK6gn01RcBNAkxL+voZjKEDpuU/1aKUoQJlhZyqWaxJAUjbiQWgZ4z/B8Fq1QQXqP00o8nKwbRZAMppQ5OVgK0AGiWogiw75P5hy6m7L+wdAM4nNn7DQ5T+jz0Opkq8OQI/KDDtTsQxAHfiYm2jfAUBjuSZ3+F4aQD/+IQaJahBA4qTnPtWj9T9rSQl/X8MRQFFw4/bjHxJAquSrXyaxCUA=",
          "dtype": "f8"
         }
        },
        {
         "marker": {
          "color": "#00CC96"
         },
         "name": "경력 없음",
         "type": "box",
         "visible": false,
         "x": [
          "Production & Engineering",
          "Production & Engineering",
          "Production & Engineering",
          "Production & Engineering",
          "Production & Engineering",
          "Sales & Marketing",
          "Sales & Marketing",
          "Planning",
          "Sales & Marketing",
          "Production & Engineering",
          "Planning",
          "Production & Engineering",
          "Production & Engineering",
          "Production & Engineering",
          "Sales & Marketing",
          "Sales & Marketing",
          "IT",
          "Sales & Marketing",
          "Sales & Marketing",
          "Sales & Marketing",
          "Production & Engineering",
          "Production & Engineering",
          "Production & Engineering",
          "Production & Engineering",
          "Production & Engineering",
          "Planning",
          "Production & Engineering",
          "Production & Engineering",
          "IT",
          "Production & Engineering",
          "Planning",
          "Planning",
          "Sales & Marketing",
          "Production & Engineering",
          "IT",
          "IT",
          "Production & Engineering",
          "Production & Engineering",
          "IT",
          "Sales & Marketing",
          "Sales & Marketing",
          "Sales & Marketing",
          "IT",
          "Sales & Marketing",
          "IT",
          "Production & Engineering",
          "Production & Engineering",
          "Production & Engineering",
          "Production & Engineering",
          "IT",
          "Sales & Marketing",
          "Sales & Marketing",
          "IT",
          "Production & Engineering",
          "Sales & Marketing",
          "Production & Engineering",
          "Production & Engineering",
          "Production & Engineering",
          "Production & Engineering",
          "IT",
          "Planning",
          "Sales & Marketing",
          "IT",
          "IT",
          "Planning",
          "IT",
          "Production & Engineering",
          "Sales & Marketing",
          "Production & Engineering",
          "Production & Engineering",
          "Production & Engineering",
          "Sales & Marketing",
          "Production & Engineering",
          "Production & Engineering",
          "Production & Engineering",
          "Sales & Marketing",
          "Planning",
          "Sales & Marketing",
          "Production & Engineering",
          "Planning",
          "Planning",
          "Production & Engineering",
          "Planning",
          "Sales & Marketing",
          "IT",
          "Sales & Marketing",
          "Production & Engineering",
          "Production & Engineering",
          "Production & Engineering",
          "Production & Engineering",
          "Production & Engineering",
          "Production & Engineering",
          "Planning",
          "IT",
          "Planning",
          "Production & Engineering",
          "Sales & Marketing",
          "Sales & Marketing",
          "Production & Engineering",
          "IT",
          "Sales & Marketing",
          "IT",
          "Production & Engineering",
          "Production & Engineering",
          "Production & Engineering",
          "Production & Engineering",
          "Sales & Marketing",
          "IT",
          "Production & Engineering",
          "Production & Engineering",
          "Production & Engineering",
          "Production & Engineering",
          "Production & Engineering",
          "Planning",
          "IT",
          "Production & Engineering",
          "Production & Engineering",
          "Sales & Marketing",
          "Sales & Marketing",
          "Sales & Marketing",
          "Sales & Marketing",
          "IT",
          "Planning",
          "Sales & Marketing",
          "IT",
          "Production & Engineering",
          "IT",
          "IT",
          "Sales & Marketing",
          "IT",
          "IT",
          "Production & Engineering",
          "Sales & Marketing",
          "Production & Engineering"
         ],
         "y": {
          "bdata": "CJDiB2dkJ0CUx3nF1czzP1CS6X9OQC1AOa+4mnliBkDp81Cq5KsPQNraA4LyOCdAMnHSc5/qEUD7KxHmw1oSQI0mFHk52BZAuKv8pos3F0BOF28ue90AQJbO8ayxIvI/QgWa7WTADkBgiTAf1pLyP1VVVVVVVfU/oBNQu2fw9D/x9zUcQx0VQGtJCX9fwxFADQFS/OCMLEAue93Q+CQJQJOvfpnE5h9AeTnYNgvACEDYDY1PkukfQAwS1UAWHQJAiHujz0OpAkD3DJ7S1h7gPwm5YHit2hBAaHySTP9zIkDbPYOntLUXQIh7o89DqeI/q3Cp9S6k+z8pRG+R+gLzPwIHeOfbVQ5AvyPkguG1GkA3qECznQwYQNeBj7mJ9t0/xUnPfapHG0B+cEZ2CeL+P8qAPb2oaQFAzxorImkIAEBz2euGxicZQJ8k0/+cgPo/pa09ICiPA0DPGisiaQgoQMcnyfQ/JxBAkKgGsuiQIUCpaTEOU04NQBnqqMywM+U/nJFdgrg3CkD4XpqzYwsTQG/0eShV8hVAJwP29KKmJUA7jbIRD0IjQLmaeWJWp/E/HOCdb1f5HUBjHKacutsiQD/Vo5VC9PY/EqzCpda74D9AJ6B2z+AZQIdjqKMywyZAOJe9bmh88j8dzxorImkYQHpR02IcpgxAK4XoLVJfEEBMOXW35f37P9yPf4hBoso/Amr3DJ7SBkB/mcTmT1ggQCMvB9tmAfg/ARj7KxHmK0DSraCfTVEgQIlqIIsOGR1A+tkUBTduJ0CPygw7U7H8P7zz7Sq/6RJArbEikoYAGUBSwt/XcAwtQBCUx3nF1RxAAJ2A2j2DJ0Cit0h9gckaQGUjHoSWMRFA4DrwMTfRHkCa7WTAnl4EQI/KDDtTsQxATe7wvTRnF0AIkOIHZ2QXQN8i9QUm6xpALNfkDt9LA0AoyfQ/J6AWQNFbpL7AZA1AbNUGFWi2A0BGTYtxmHIiQFwHPuYm2gdAhymn7ra8D0DFck3u8L0UQKNsxIPQMhZAV21QgWY7GUDcj3+IQaLKPy1j4qTnPgVA5Q7fS3N2HEAtAGN/JcIkQB4hFwyvVSNAS4T5sJaUEEBqWozDlFMHQO8ZPKWtPRBALSnh72s4JkB3MmBPL2r6Pw+lSr76ZdI/ih+ckV2CIEBOUXDj9uPvP/DOt6v8phtA9+MfYpCoFkB99cskNn8SQPrZFAU3bh9A/0qE+bCWBECr0ygb8SAUQEOAFD84IwtAtpMBe3pRE0B9WEtK+PvaP/BrOIY6KhNA+DUcQx2VyT+2pIS/r+EYQClEb5H6AhNAkQuG16oNIkCvGxqfJNMPQEcCB3jn2xVApSFAih+c8T+VfPXLJDYnQNssAGN/JRJAe3pR02IcFkDyDzFIVAMhQIFmOxmwpwdAXGq9C+lWEEDWWBFJQ4D0Pw==",
          "dtype": "f8"
         }
        }
       ],
       "layout": {
        "annotations": [
         {
          "align": "left",
          "showarrow": false,
          "text": "조직 선택:",
          "x": 0,
          "y": 1.08,
          "yref": "paper"
         }
        ],
        "boxmode": "group",
        "font": {
         "size": 14
        },
        "height": 700,
        "legend": {
         "title": {
          "text": "과거 경력 유형"
         }
        },
        "template": {
         "data": {
          "bar": [
           {
            "error_x": {
             "color": "#2a3f5f"
            },
            "error_y": {
             "color": "#2a3f5f"
            },
            "marker": {
             "line": {
              "color": "#E5ECF6",
              "width": 0.5
             },
             "pattern": {
              "fillmode": "overlay",
              "size": 10,
              "solidity": 0.2
             }
            },
            "type": "bar"
           }
          ],
          "barpolar": [
           {
            "marker": {
             "line": {
              "color": "#E5ECF6",
              "width": 0.5
             },
             "pattern": {
              "fillmode": "overlay",
              "size": 10,
              "solidity": 0.2
             }
            },
            "type": "barpolar"
           }
          ],
          "carpet": [
           {
            "aaxis": {
             "endlinecolor": "#2a3f5f",
             "gridcolor": "white",
             "linecolor": "white",
             "minorgridcolor": "white",
             "startlinecolor": "#2a3f5f"
            },
            "baxis": {
             "endlinecolor": "#2a3f5f",
             "gridcolor": "white",
             "linecolor": "white",
             "minorgridcolor": "white",
             "startlinecolor": "#2a3f5f"
            },
            "type": "carpet"
           }
          ],
          "choropleth": [
           {
            "colorbar": {
             "outlinewidth": 0,
             "ticks": ""
            },
            "type": "choropleth"
           }
          ],
          "contour": [
           {
            "colorbar": {
             "outlinewidth": 0,
             "ticks": ""
            },
            "colorscale": [
             [
              0,
              "#0d0887"
             ],
             [
              0.1111111111111111,
              "#46039f"
             ],
             [
              0.2222222222222222,
              "#7201a8"
             ],
             [
              0.3333333333333333,
              "#9c179e"
             ],
             [
              0.4444444444444444,
              "#bd3786"
             ],
             [
              0.5555555555555556,
              "#d8576b"
             ],
             [
              0.6666666666666666,
              "#ed7953"
             ],
             [
              0.7777777777777778,
              "#fb9f3a"
             ],
             [
              0.8888888888888888,
              "#fdca26"
             ],
             [
              1,
              "#f0f921"
             ]
            ],
            "type": "contour"
           }
          ],
          "contourcarpet": [
           {
            "colorbar": {
             "outlinewidth": 0,
             "ticks": ""
            },
            "type": "contourcarpet"
           }
          ],
          "heatmap": [
           {
            "colorbar": {
             "outlinewidth": 0,
             "ticks": ""
            },
            "colorscale": [
             [
              0,
              "#0d0887"
             ],
             [
              0.1111111111111111,
              "#46039f"
             ],
             [
              0.2222222222222222,
              "#7201a8"
             ],
             [
              0.3333333333333333,
              "#9c179e"
             ],
             [
              0.4444444444444444,
              "#bd3786"
             ],
             [
              0.5555555555555556,
              "#d8576b"
             ],
             [
              0.6666666666666666,
              "#ed7953"
             ],
             [
              0.7777777777777778,
              "#fb9f3a"
             ],
             [
              0.8888888888888888,
              "#fdca26"
             ],
             [
              1,
              "#f0f921"
             ]
            ],
            "type": "heatmap"
           }
          ],
          "histogram": [
           {
            "marker": {
             "pattern": {
              "fillmode": "overlay",
              "size": 10,
              "solidity": 0.2
             }
            },
            "type": "histogram"
           }
          ],
          "histogram2d": [
           {
            "colorbar": {
             "outlinewidth": 0,
             "ticks": ""
            },
            "colorscale": [
             [
              0,
              "#0d0887"
             ],
             [
              0.1111111111111111,
              "#46039f"
             ],
             [
              0.2222222222222222,
              "#7201a8"
             ],
             [
              0.3333333333333333,
              "#9c179e"
             ],
             [
              0.4444444444444444,
              "#bd3786"
             ],
             [
              0.5555555555555556,
              "#d8576b"
             ],
             [
              0.6666666666666666,
              "#ed7953"
             ],
             [
              0.7777777777777778,
              "#fb9f3a"
             ],
             [
              0.8888888888888888,
              "#fdca26"
             ],
             [
              1,
              "#f0f921"
             ]
            ],
            "type": "histogram2d"
           }
          ],
          "histogram2dcontour": [
           {
            "colorbar": {
             "outlinewidth": 0,
             "ticks": ""
            },
            "colorscale": [
             [
              0,
              "#0d0887"
             ],
             [
              0.1111111111111111,
              "#46039f"
             ],
             [
              0.2222222222222222,
              "#7201a8"
             ],
             [
              0.3333333333333333,
              "#9c179e"
             ],
             [
              0.4444444444444444,
              "#bd3786"
             ],
             [
              0.5555555555555556,
              "#d8576b"
             ],
             [
              0.6666666666666666,
              "#ed7953"
             ],
             [
              0.7777777777777778,
              "#fb9f3a"
             ],
             [
              0.8888888888888888,
              "#fdca26"
             ],
             [
              1,
              "#f0f921"
             ]
            ],
            "type": "histogram2dcontour"
           }
          ],
          "mesh3d": [
           {
            "colorbar": {
             "outlinewidth": 0,
             "ticks": ""
            },
            "type": "mesh3d"
           }
          ],
          "parcoords": [
           {
            "line": {
             "colorbar": {
              "outlinewidth": 0,
              "ticks": ""
             }
            },
            "type": "parcoords"
           }
          ],
          "pie": [
           {
            "automargin": true,
            "type": "pie"
           }
          ],
          "scatter": [
           {
            "fillpattern": {
             "fillmode": "overlay",
             "size": 10,
             "solidity": 0.2
            },
            "type": "scatter"
           }
          ],
          "scatter3d": [
           {
            "line": {
             "colorbar": {
              "outlinewidth": 0,
              "ticks": ""
             }
            },
            "marker": {
             "colorbar": {
              "outlinewidth": 0,
              "ticks": ""
             }
            },
            "type": "scatter3d"
           }
          ],
          "scattercarpet": [
           {
            "marker": {
             "colorbar": {
              "outlinewidth": 0,
              "ticks": ""
             }
            },
            "type": "scattercarpet"
           }
          ],
          "scattergeo": [
           {
            "marker": {
             "colorbar": {
              "outlinewidth": 0,
              "ticks": ""
             }
            },
            "type": "scattergeo"
           }
          ],
          "scattergl": [
           {
            "marker": {
             "colorbar": {
              "outlinewidth": 0,
              "ticks": ""
             }
            },
            "type": "scattergl"
           }
          ],
          "scattermap": [
           {
            "marker": {
             "colorbar": {
              "outlinewidth": 0,
              "ticks": ""
             }
            },
            "type": "scattermap"
           }
          ],
          "scattermapbox": [
           {
            "marker": {
             "colorbar": {
              "outlinewidth": 0,
              "ticks": ""
             }
            },
            "type": "scattermapbox"
           }
          ],
          "scatterpolar": [
           {
            "marker": {
             "colorbar": {
              "outlinewidth": 0,
              "ticks": ""
             }
            },
            "type": "scatterpolar"
           }
          ],
          "scatterpolargl": [
           {
            "marker": {
             "colorbar": {
              "outlinewidth": 0,
              "ticks": ""
             }
            },
            "type": "scatterpolargl"
           }
          ],
          "scatterternary": [
           {
            "marker": {
             "colorbar": {
              "outlinewidth": 0,
              "ticks": ""
             }
            },
            "type": "scatterternary"
           }
          ],
          "surface": [
           {
            "colorbar": {
             "outlinewidth": 0,
             "ticks": ""
            },
            "colorscale": [
             [
              0,
              "#0d0887"
             ],
             [
              0.1111111111111111,
              "#46039f"
             ],
             [
              0.2222222222222222,
              "#7201a8"
             ],
             [
              0.3333333333333333,
              "#9c179e"
             ],
             [
              0.4444444444444444,
              "#bd3786"
             ],
             [
              0.5555555555555556,
              "#d8576b"
             ],
             [
              0.6666666666666666,
              "#ed7953"
             ],
             [
              0.7777777777777778,
              "#fb9f3a"
             ],
             [
              0.8888888888888888,
              "#fdca26"
             ],
             [
              1,
              "#f0f921"
             ]
            ],
            "type": "surface"
           }
          ],
          "table": [
           {
            "cells": {
             "fill": {
              "color": "#EBF0F8"
             },
             "line": {
              "color": "white"
             }
            },
            "header": {
             "fill": {
              "color": "#C8D4E3"
             },
             "line": {
              "color": "white"
             }
            },
            "type": "table"
           }
          ]
         },
         "layout": {
          "annotationdefaults": {
           "arrowcolor": "#2a3f5f",
           "arrowhead": 0,
           "arrowwidth": 1
          },
          "autotypenumbers": "strict",
          "coloraxis": {
           "colorbar": {
            "outlinewidth": 0,
            "ticks": ""
           }
          },
          "colorscale": {
           "diverging": [
            [
             0,
             "#8e0152"
            ],
            [
             0.1,
             "#c51b7d"
            ],
            [
             0.2,
             "#de77ae"
            ],
            [
             0.3,
             "#f1b6da"
            ],
            [
             0.4,
             "#fde0ef"
            ],
            [
             0.5,
             "#f7f7f7"
            ],
            [
             0.6,
             "#e6f5d0"
            ],
            [
             0.7,
             "#b8e186"
            ],
            [
             0.8,
             "#7fbc41"
            ],
            [
             0.9,
             "#4d9221"
            ],
            [
             1,
             "#276419"
            ]
           ],
           "sequential": [
            [
             0,
             "#0d0887"
            ],
            [
             0.1111111111111111,
             "#46039f"
            ],
            [
             0.2222222222222222,
             "#7201a8"
            ],
            [
             0.3333333333333333,
             "#9c179e"
            ],
            [
             0.4444444444444444,
             "#bd3786"
            ],
            [
             0.5555555555555556,
             "#d8576b"
            ],
            [
             0.6666666666666666,
             "#ed7953"
            ],
            [
             0.7777777777777778,
             "#fb9f3a"
            ],
            [
             0.8888888888888888,
             "#fdca26"
            ],
            [
             1,
             "#f0f921"
            ]
           ],
           "sequentialminus": [
            [
             0,
             "#0d0887"
            ],
            [
             0.1111111111111111,
             "#46039f"
            ],
            [
             0.2222222222222222,
             "#7201a8"
            ],
            [
             0.3333333333333333,
             "#9c179e"
            ],
            [
             0.4444444444444444,
             "#bd3786"
            ],
            [
             0.5555555555555556,
             "#d8576b"
            ],
            [
             0.6666666666666666,
             "#ed7953"
            ],
            [
             0.7777777777777778,
             "#fb9f3a"
            ],
            [
             0.8888888888888888,
             "#fdca26"
            ],
            [
             1,
             "#f0f921"
            ]
           ]
          },
          "colorway": [
           "#636efa",
           "#EF553B",
           "#00cc96",
           "#ab63fa",
           "#FFA15A",
           "#19d3f3",
           "#FF6692",
           "#B6E880",
           "#FF97FF",
           "#FECB52"
          ],
          "font": {
           "color": "#2a3f5f"
          },
          "geo": {
           "bgcolor": "white",
           "lakecolor": "white",
           "landcolor": "#E5ECF6",
           "showlakes": true,
           "showland": true,
           "subunitcolor": "white"
          },
          "hoverlabel": {
           "align": "left"
          },
          "hovermode": "closest",
          "mapbox": {
           "style": "light"
          },
          "paper_bgcolor": "white",
          "plot_bgcolor": "#E5ECF6",
          "polar": {
           "angularaxis": {
            "gridcolor": "white",
            "linecolor": "white",
            "ticks": ""
           },
           "bgcolor": "#E5ECF6",
           "radialaxis": {
            "gridcolor": "white",
            "linecolor": "white",
            "ticks": ""
           }
          },
          "scene": {
           "xaxis": {
            "backgroundcolor": "#E5ECF6",
            "gridcolor": "white",
            "gridwidth": 2,
            "linecolor": "white",
            "showbackground": true,
            "ticks": "",
            "zerolinecolor": "white"
           },
           "yaxis": {
            "backgroundcolor": "#E5ECF6",
            "gridcolor": "white",
            "gridwidth": 2,
            "linecolor": "white",
            "showbackground": true,
            "ticks": "",
            "zerolinecolor": "white"
           },
           "zaxis": {
            "backgroundcolor": "#E5ECF6",
            "gridcolor": "white",
            "gridwidth": 2,
            "linecolor": "white",
            "showbackground": true,
            "ticks": "",
            "zerolinecolor": "white"
           }
          },
          "shapedefaults": {
           "line": {
            "color": "#2a3f5f"
           }
          },
          "ternary": {
           "aaxis": {
            "gridcolor": "white",
            "linecolor": "white",
            "ticks": ""
           },
           "baxis": {
            "gridcolor": "white",
            "linecolor": "white",
            "ticks": ""
           },
           "bgcolor": "#E5ECF6",
           "caxis": {
            "gridcolor": "white",
            "linecolor": "white",
            "ticks": ""
           }
          },
          "title": {
           "x": 0.05
          },
          "xaxis": {
           "automargin": true,
           "gridcolor": "white",
           "linecolor": "white",
           "ticks": "",
           "title": {
            "standoff": 15
           },
           "zerolinecolor": "white",
           "zerolinewidth": 2
          },
          "yaxis": {
           "automargin": true,
           "gridcolor": "white",
           "linecolor": "white",
           "ticks": "",
           "title": {
            "standoff": 15
           },
           "zerolinecolor": "white",
           "zerolinewidth": 2
          }
         }
        },
        "title": {
         "text": "첫 직무 및 경력 유형에 따른 재직기간 분포"
        },
        "updatemenus": [
         {
          "active": 0,
          "buttons": [
           {
            "args": [
             {
              "visible": [
               true,
               true,
               true,
               false,
               false,
               false,
               false,
               false,
               false,
               false,
               false,
               false,
               false,
               false,
               false
              ]
             }
            ],
            "label": "전체",
            "method": "update"
           },
           {
            "args": [
             {
              "visible": [
               false,
               false,
               false,
               true,
               true,
               true,
               false,
               false,
               false,
               false,
               false,
               false,
               false,
               false,
               false
              ]
             }
            ],
            "label": "Planning Division",
            "method": "update"
           },
           {
            "args": [
             {
              "visible": [
               false,
               false,
               false,
               false,
               false,
               false,
               true,
               true,
               true,
               false,
               false,
               false,
               false,
               false,
               false
              ]
             }
            ],
            "label": "Sales Division",
            "method": "update"
           },
           {
            "args": [
             {
              "visible": [
               false,
               false,
               false,
               false,
               false,
               false,
               false,
               false,
               false,
               true,
               true,
               true,
               false,
               false,
               false
              ]
             }
            ],
            "label": "Development Division",
            "method": "update"
           },
           {
            "args": [
             {
              "visible": [
               false,
               false,
               false,
               false,
               false,
               false,
               false,
               false,
               false,
               false,
               false,
               false,
               true,
               true,
               true
              ]
             }
            ],
            "label": "Operating Division",
            "method": "update"
           }
          ],
          "direction": "down",
          "pad": {
           "r": 10,
           "t": 10
          },
          "showactive": true,
          "x": 0.01,
          "xanchor": "left",
          "y": 1.1,
          "yanchor": "top"
         }
        ],
        "xaxis": {
         "title": {
          "text": "첫 직무 대분류"
         }
        },
        "yaxis": {
         "range": [
          0,
          16.41943874058864
         ],
         "title": {
          "text": "재직 기간 (년)"
         }
        }
       }
      }
     },
     "metadata": {},
     "output_type": "display_data"
    }
   ],
   "source": [
    "import pandas as pd\n",
    "import numpy as np\n",
    "import plotly.graph_objects as go\n",
    "import plotly.io as pio\n",
    "import plotly.express as px\n",
    "import datetime\n",
    "\n",
    "# --- 1. 데이터 임포트 ---\n",
    "from services.tables.HR_Core.career_info_table import career_info_df\n",
    "from services.tables.HR_Core.basic_info_table import emp_df\n",
    "from services.tables.HR_Core.department_info_table import department_info_df\n",
    "from services.tables.HR_Core.job_info_table import job_info_df\n",
    "from services.tables.HR_Core.job_table import job_df, job_df_indexed, parent_map_job\n",
    "from services.tables.HR_Core.department_table import division_order, dept_level_map, parent_map_dept, dept_name_map\n",
    "from services.helpers.utils import find_division_name_for_dept, get_level1_ancestor\n",
    "\n",
    "def create_figure():\n",
    "    \"\"\"\n",
    "    제안 7: 경력 유형 및 첫 직무별 재직기간 분석 그래프를 생성합니다.\n",
    "    \"\"\"\n",
    "    # --- 2. 데이터 준비 및 가공 ---\n",
    "    # 2-1. 직원별 경력 유형 및 재직기간\n",
    "    career_summary = career_info_df.groupby('EMP_ID')['CAREER_REL_YN'].apply(\n",
    "        lambda x: '관련 경력' if 'Y' in x.values else '비관련 경력'\n",
    "    ).reset_index().rename(columns={'CAREER_REL_YN': 'CAREER_TYPE'})\n",
    "    analysis_df = emp_df[['EMP_ID', 'DURATION']].copy()\n",
    "    analysis_df = pd.merge(analysis_df, career_summary, on='EMP_ID', how='left')\n",
    "    analysis_df['CAREER_TYPE'] = analysis_df['CAREER_TYPE'].fillna('경력 없음')\n",
    "    analysis_df['TENURE_YEARS'] = analysis_df['DURATION'] / 365.25\n",
    "\n",
    "    # 2-2. Division 및 첫 직무 대분류 정보 추가\n",
    "    first_dept = department_info_df.sort_values('DEP_APP_START_DATE').groupby('EMP_ID').first().reset_index()\n",
    "    first_job = job_info_df.sort_values('JOB_APP_START_DATE').groupby('EMP_ID').first().reset_index()\n",
    "    \n",
    "    first_dept['DIVISION_NAME'] = first_dept['DEP_ID'].apply(lambda x: find_division_name_for_dept(x, dept_level_map, parent_map_dept, dept_name_map))\n",
    "    job_l1_map = job_df[job_df['JOB_LEVEL'] == 1].set_index('JOB_ID')['JOB_NAME'].to_dict()\n",
    "    first_job['JOB_CATEGORY'] = first_job['JOB_ID'].apply(lambda x: job_l1_map.get(get_level1_ancestor(x, job_df_indexed, parent_map_job)))\n",
    "\n",
    "    analysis_df = pd.merge(analysis_df, first_dept[['EMP_ID', 'DIVISION_NAME']], on='EMP_ID', how='left')\n",
    "    analysis_df = pd.merge(analysis_df, first_job[['EMP_ID', 'JOB_CATEGORY']], on='EMP_ID', how='left')\n",
    "    analysis_df = analysis_df.dropna(subset=['DIVISION_NAME', 'JOB_CATEGORY'])\n",
    "\n",
    "    # x축 순서 지정\n",
    "    career_type_order = ['관련 경력', '비관련 경력', '경력 없음']\n",
    "    analysis_df['CAREER_TYPE'] = pd.Categorical(analysis_df['CAREER_TYPE'], categories=career_type_order, ordered=True)\n",
    "    analysis_df = analysis_df.sort_values('CAREER_TYPE')\n",
    "\n",
    "    # y축 범위 미리 계산\n",
    "    y_max = analysis_df['TENURE_YEARS'].max()\n",
    "    fixed_y_range = [0, y_max * 1.1]\n",
    "\n",
    "    # --- 3. Plotly 인터랙티브 그래프 생성 ---\n",
    "    fig = go.Figure()\n",
    "    division_list = ['전체'] + division_order\n",
    "    colors = px.colors.qualitative.Plotly\n",
    "\n",
    "    for div_name in division_list:\n",
    "        df_filtered_div = analysis_df if div_name == '전체' else analysis_df[analysis_df['DIVISION_NAME'] == div_name]\n",
    "\n",
    "        for i, career_type in enumerate(career_type_order):\n",
    "            df_filtered_career = df_filtered_div[df_filtered_div['CAREER_TYPE'] == career_type]\n",
    "            fig.add_trace(\n",
    "                go.Box(\n",
    "                    y=df_filtered_career['TENURE_YEARS'],\n",
    "                    x=df_filtered_career['JOB_CATEGORY'],\n",
    "                    name=career_type,\n",
    "                    marker_color=colors[i],\n",
    "                    visible=(div_name == '전체')\n",
    "                )\n",
    "            )\n",
    "\n",
    "    # --- 4. 드롭다운 메뉴 생성 및 레이아웃 업데이트 ---\n",
    "    buttons = []\n",
    "    for i, div_name in enumerate(division_list):\n",
    "        visibility_mask = [False] * (len(division_list) * len(career_type_order))\n",
    "        start_index = i * len(career_type_order)\n",
    "        for j in range(len(career_type_order)):\n",
    "            visibility_mask[start_index + j] = True\n",
    "        \n",
    "        buttons.append(\n",
    "            dict(label=div_name, method='update', args=[{'visible': visibility_mask}])\n",
    "        )\n",
    "\n",
    "    fig.update_layout(\n",
    "        updatemenus=[dict(\n",
    "            active=0, buttons=buttons, direction=\"down\",\n",
    "            pad={\"r\": 10, \"t\": 10}, showactive=True,\n",
    "            x=0.01, xanchor=\"left\", y=1.1, yanchor=\"top\"\n",
    "        )],\n",
    "        title_text='첫 직무 및 경력 유형에 따른 재직기간 분포',\n",
    "        xaxis_title='첫 직무 대분류',\n",
    "        yaxis_title='재직 기간 (년)',\n",
    "        font_size=14, height=700,\n",
    "        boxmode='group',\n",
    "        legend_title_text='과거 경력 유형',\n",
    "        annotations=[dict(text=\"조직 선택:\", showarrow=False, x=0, y=1.08, yref=\"paper\", align=\"left\")],\n",
    "        yaxis_range=fixed_y_range\n",
    "    )\n",
    "    \n",
    "    return fig\n",
    "\n",
    "# 이 파일을 직접 실행할 경우 그래프를 생성하여 보여줍니다.\n",
    "if __name__ == '__main__':\n",
    "    pio.renderers.default = 'vscode'\n",
    "    fig = create_figure()\n",
    "    fig.show()"
   ]
  },
  {
   "cell_type": "code",
   "execution_count": null,
   "id": "fcaad173",
   "metadata": {},
   "outputs": [],
   "source": []
  }
 ],
 "metadata": {
  "kernelspec": {
   "display_name": "Python 3 (ipykernel)",
   "language": "python",
   "name": "python3"
  },
  "language_info": {
   "codemirror_mode": {
    "name": "ipython",
    "version": 3
   },
   "file_extension": ".py",
   "mimetype": "text/x-python",
   "name": "python",
   "nbconvert_exporter": "python",
   "pygments_lexer": "ipython3",
   "version": "3.12.11"
  }
 },
 "nbformat": 4,
 "nbformat_minor": 5
}
