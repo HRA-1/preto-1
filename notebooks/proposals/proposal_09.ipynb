{
 "cells": [
  {
   "cell_type": "code",
   "execution_count": 5,
   "id": "5cf956c7",
   "metadata": {},
   "outputs": [
    {
     "data": {
      "application/vnd.plotly.v1+json": {
       "config": {
        "plotlyServerURL": "https://plot.ly"
       },
       "data": [
        {
         "line": {
          "color": "#636EFA"
         },
         "mode": "lines+markers+text",
         "name": "Planning Division",
         "text": [
          "0.0%",
          "2.17%",
          "0.0%",
          "2.67%",
          "1.14%",
          "2.0%",
          "6.03%",
          "6.4%",
          "3.88%",
          "1.43%",
          "6.94%",
          "3.12%",
          "7.32%",
          "1.28%"
         ],
         "textposition": "top center",
         "type": "scatter",
         "x": {
          "bdata": "3AcAAN0HAADeBwAA3wcAAOAHAADhBwAA4gcAAOMHAADkBwAA5QcAAOYHAADnBwAA6AcAAOkHAAA=",
          "dtype": "i4"
         },
         "y": {
          "bdata": "AAAAAAAAAAAWspCFLGQBQAAAAAAAAAAAVlVVVVVVBUAvuuiiiy7yPwAAAAAAAABA9zTCck8jGECamZmZmZkZQMAf8Af8AQ9At23btm3b9j9yHMdxHMcbQAAAAAAAAAlARO1K1K5EHUA0SIM0SIP0Pw==",
          "dtype": "f8"
         }
        },
        {
         "line": {
          "color": "#EF553B"
         },
         "mode": "lines+markers+text",
         "name": "Sales Division",
         "text": [
          "0.0%",
          "4.0%",
          "3.33%",
          "1.33%",
          "2.17%",
          "5.66%",
          "7.48%",
          "1.72%",
          "6.25%",
          "5.22%",
          "10.95%",
          "9.59%",
          "5.07%",
          "4.55%"
         ],
         "textposition": "top center",
         "type": "scatter",
         "x": {
          "bdata": "3AcAAN0HAADeBwAA3wcAAOAHAADhBwAA4gcAAOMHAADkBwAA5QcAAOYHAADnBwAA6AcAAOkHAAA=",
          "dtype": "i4"
         },
         "y": {
          "bdata": "AAAAAAAAAAAAAAAAAAAQQKuqqqqqqgpAVlVVVVVV9T8WspCFLGQBQIPxVvY5pBZAKkrjIxPoHUAaYbmnEZb7PwAAAAAAABlAX42J9EDlFECLhvjj1uUlQNmyZcuWLSNAxc8o8TNKFEAvuuiiiy4SQA==",
          "dtype": "f8"
         }
        },
        {
         "line": {
          "color": "#00CC96"
         },
         "mode": "lines+markers+text",
         "name": "Development Division",
         "text": [
          "1.75%",
          "1.41%",
          "0.0%",
          "1.94%",
          "1.92%",
          "2.75%",
          "3.51%",
          "9.76%",
          "5.65%",
          "9.45%",
          "10.32%",
          "7.69%",
          "7.3%",
          "5.38%"
         ],
         "textposition": "top center",
         "type": "scatter",
         "x": {
          "bdata": "3AcAAN0HAADeBwAA3wcAAOAHAADhBwAA4gcAAOMHAADkBwAA5QcAAOYHAADnBwAA6AcAAOkHAAA=",
          "dtype": "i4"
         },
         "y": {
          "bdata": "H8F9BPcR/D8h0QqbA4n2PwAAAAAAAAAAE0gl52UR/z9P7MRO7MT+P0xg036yBAZAH8F9BPcRDECD8zE4H4MjQJRSSimllBZAuVwul8vlIkAoiqIoiqIkQE/sxE7sxB5AYrOg2nMyHUCe2Imd2IkVQA==",
          "dtype": "f8"
         }
        },
        {
         "line": {
          "color": "#AB63FA"
         },
         "mode": "lines+markers+text",
         "name": "Operating Division",
         "text": [
          "0.0%",
          "1.96%",
          "1.56%",
          "1.37%",
          "3.41%",
          "5.38%",
          "8.25%",
          "5.41%",
          "2.59%",
          "4.76%",
          "7.87%",
          "3.82%",
          "5.97%",
          "5.79%"
         ],
         "textposition": "top center",
         "type": "scatter",
         "x": {
          "bdata": "3AcAAN0HAADeBwAA3wcAAOAHAADhBwAA4gcAAOMHAADkBwAA5QcAAOYHAADnBwAA6AcAAOkHAAA=",
          "dtype": "i4"
         },
         "y": {
          "bdata": "AAAAAAAAAABfX19fX1//PwAAAAAAAPk/r169evXq9T9FF1100UULQIEFFlhggRVA0FGBL65+IEDyWTeYIp8VQNQIyz2NsARAwzAMwzAME0Dg7/f7/X4fQOOElDzLiA5ASA9Uzm7hF0ANSoWJ9yMXQA==",
          "dtype": "f8"
         }
        },
        {
         "line": {
          "color": "#636EFA"
         },
         "mode": "lines+markers+text",
         "name": "Strategy Office",
         "text": [
          "0.0%",
          "0.0%",
          "0.0%",
          "2.33%",
          "0.0%",
          "4.0%",
          "5.08%",
          "6.15%",
          "6.15%",
          "2.9%",
          "7.89%",
          "5.43%",
          "6.45%",
          "1.14%"
         ],
         "textposition": "top center",
         "type": "scatter",
         "visible": false,
         "x": {
          "bdata": "3AcAAN0HAADeBwAA3wcAAOAHAADhBwAA4gcAAOMHAADkBwAA5QcAAOYHAADnBwAA6AcAAOkHAAA=",
          "dtype": "i4"
         },
         "y": {
          "bdata": "AAAAAAAAAAAAAAAAAAAAAAAAAAAAAAAAp6wpa8qaAkAAAAAAAAAAAAAAAAAAABBAxEndl8dWFEDZiZ3YiZ0YQNmJndiJnRhAc+3AXDswB0BDeQ3lNZQfQJze9KY3vRVAzjnnnHPOGUAvuuiiiy7yPw==",
          "dtype": "f8"
         }
        },
        {
         "line": {
          "color": "#EF553B"
         },
         "mode": "lines+markers+text",
         "name": "Finance Office",
         "text": [
          "0.0%",
          "5.0%",
          "0.0%",
          "3.12%",
          "2.5%",
          "0.0%",
          "7.02%",
          "6.67%",
          "1.56%",
          "0.0%",
          "5.88%",
          "0.0%",
          "8.45%",
          "1.47%"
         ],
         "textposition": "top center",
         "type": "scatter",
         "visible": false,
         "x": {
          "bdata": "3AcAAN0HAADeBwAA3wcAAOAHAADhBwAA4gcAAOMHAADkBwAA5QcAAOYHAADnBwAA6AcAAOkHAAA=",
          "dtype": "i4"
         },
         "y": {
          "bdata": "AAAAAAAAAAAAAAAAAAAUQAAAAAAAAAAAAAAAAAAACUAAAAAAAAAEQAAAAAAAAAAAH8F9BPcRHECrqqqqqqoaQAAAAAAAAPk/AAAAAAAAAACHh4eHh4cXQAAAAAAAAAAA2BxItMLmIECHh4eHh4f3Pw==",
          "dtype": "f8"
         }
        },
        {
         "line": {
          "color": "#636EFA"
         },
         "mode": "lines+markers+text",
         "name": "Marketing Office",
         "text": [
          "0.0%",
          "8.33%",
          "7.14%",
          "0.0%",
          "0.0%",
          "6.06%",
          "6.06%",
          "0.0%",
          "2.5%",
          "0.0%",
          "11.36%",
          "4.44%",
          "4.55%",
          "6.82%"
         ],
         "textposition": "top center",
         "type": "scatter",
         "visible": false,
         "x": {
          "bdata": "3AcAAN0HAADeBwAA3wcAAOAHAADhBwAA4gcAAOMHAADkBwAA5QcAAOYHAADnBwAA6AcAAOkHAAA=",
          "dtype": "i4"
         },
         "y": {
          "bdata": "AAAAAAAAAACqqqqqqqogQCRJkiRJkhxAAAAAAAAAAAAAAAAAAAAAAD744IMPPhhAPvjggw8+GEAAAAAAAAAAAAAAAAAAAARAAAAAAAAAAAC66KKLLromQHIcx3EcxxFAL7rooosuEkBFF1100UUbQA==",
          "dtype": "f8"
         }
        },
        {
         "line": {
          "color": "#EF553B"
         },
         "mode": "lines+markers+text",
         "name": "Domestic Sales Office",
         "text": [
          "0.0%",
          "4.76%",
          "4.55%",
          "0.0%",
          "3.33%",
          "6.25%",
          "8.11%",
          "0.0%",
          "9.76%",
          "9.76%",
          "10.53%",
          "20.0%",
          "7.69%",
          "2.56%"
         ],
         "textposition": "top center",
         "type": "scatter",
         "visible": false,
         "x": {
          "bdata": "3AcAAN0HAADeBwAA3wcAAOAHAADhBwAA4gcAAOMHAADkBwAA5QcAAOYHAADnBwAA6AcAAOkHAAA=",
          "dtype": "i4"
         },
         "y": {
          "bdata": "AAAAAAAAAADDMAzDMAwTQC+66KKLLhJAAAAAAAAAAACrqqqqqqoKQAAAAAAAABlAdoMp8lk3IEAAAAAAAAAAAIPzMTgfgyNAg/MxOB+DI0DXUF5DeQ0lQAAAAAAAADRAT+zETuzEHkA0SIM0SIMEQA==",
          "dtype": "f8"
         }
        },
        {
         "line": {
          "color": "#00CC96"
         },
         "mode": "lines+markers+text",
         "name": "Global Sales Office",
         "text": [
          "0.0%",
          "0.0%",
          "0.0%",
          "4.17%",
          "3.23%",
          "4.88%",
          "8.11%",
          "5.0%",
          "6.38%",
          "5.88%",
          "10.91%",
          "6.56%",
          "3.64%",
          "4.08%"
         ],
         "textposition": "top center",
         "type": "scatter",
         "visible": false,
         "x": {
          "bdata": "3AcAAN0HAADeBwAA3wcAAOAHAADhBwAA4gcAAOMHAADkBwAA5QcAAOYHAADnBwAA6AcAAOkHAAA=",
          "dtype": "i4"
         },
         "y": {
          "bdata": "AAAAAAAAAAAAAAAAAAAAAAAAAAAAAAAAqqqqqqqqEEDOOeecc84JQIPzMTgfgxNAdoMp8lk3IEAAAAAAAAAUQCZXEJMriBlAh4eHh4eHF0DRRRdddNElQPwUlwzBOhpAF1100UUXDUAVvJyCl1MQQA==",
          "dtype": "f8"
         }
        },
        {
         "line": {
          "color": "#636EFA"
         },
         "mode": "lines+markers+text",
         "name": "R&D Office",
         "text": [
          "2.63%",
          "0.0%",
          "0.0%",
          "0.0%",
          "0.0%",
          "4.29%",
          "1.41%",
          "8.0%",
          "2.63%",
          "10.13%",
          "8.22%",
          "10.0%",
          "9.09%",
          "5.41%"
         ],
         "textposition": "top center",
         "type": "scatter",
         "visible": false,
         "x": {
          "bdata": "3AcAAN0HAADeBwAA3wcAAOAHAADhBwAA4gcAAOMHAADkBwAA5QcAAOYHAADnBwAA6AcAAOkHAAA=",
          "dtype": "i4"
         },
         "y": {
          "bdata": "11BeQ3kNBUAAAAAAAAAAAAAAAAAAAAAAAAAAAAAAAAAAAAAAAAAAAEmSJEmSJBFAIdEKmwOJ9j8AAAAAAAAgQNdQXkN5DQVAgqh0ZM9AJEADBw4cOHAgQAAAAAAAACRAL7rooosuIkDyWTeYIp8VQA==",
          "dtype": "f8"
         }
        },
        {
         "line": {
          "color": "#EF553B"
         },
         "mode": "lines+markers+text",
         "name": "QA Office",
         "text": [
          "0.0%",
          "4.17%",
          "0.0%",
          "5.26%",
          "4.88%",
          "0.0%",
          "6.98%",
          "12.5%",
          "10.42%",
          "8.33%",
          "13.21%",
          "5.0%",
          "5.0%",
          "5.36%"
         ],
         "textposition": "top center",
         "type": "scatter",
         "visible": false,
         "x": {
          "bdata": "3AcAAN0HAADeBwAA3wcAAOAHAADhBwAA4gcAAOMHAADkBwAA5QcAAOYHAADnBwAA6AcAAOkHAAA=",
          "dtype": "i4"
         },
         "y": {
          "bdata": "AAAAAAAAAACqqqqqqqoQQAAAAAAAAAAA11BeQ3kNFUCD8zE4H4MTQAAAAAAAAAAA+oK+oC/oG0AAAAAAAAApQFZVVVVV1SRAqqqqqqqqIEAYb2WfQ2oqQAAAAAAAABRAAAAAAAAAFEDbtm3btm0VQA==",
          "dtype": "f8"
         }
        },
        {
         "line": {
          "color": "#636EFA"
         },
         "mode": "lines+markers+text",
         "name": "Engineering Office",
         "text": [
          "0.0%",
          "0.0%",
          "3.7%",
          "0.0%",
          "2.38%",
          "6.67%",
          "2.0%",
          "9.09%",
          "3.51%",
          "5.36%",
          "10.91%",
          "1.79%",
          "8.93%",
          "7.69%"
         ],
         "textposition": "top center",
         "type": "scatter",
         "visible": false,
         "x": {
          "bdata": "3AcAAN0HAADeBwAA3wcAAOAHAADhBwAA4gcAAOMHAADkBwAA5QcAAOYHAADnBwAA6AcAAOkHAAA=",
          "dtype": "i4"
         },
         "y": {
          "bdata": "AAAAAAAAAAAAAAAAAAAAABLaS2gvoQ1AAAAAAAAAAADDMAzDMAwDQKuqqqqqqhpAAAAAAAAAAEAvuuiiiy4iQB/BfQT3EQxA27Zt27ZtFUDRRRdddNElQCRJkiRJkvw/t23btm3bIUBP7MRO7MQeQA==",
          "dtype": "f8"
         }
        },
        {
         "line": {
          "color": "#EF553B"
         },
         "mode": "lines+markers+text",
         "name": "Production Office",
         "text": [
          "0.0%",
          "3.57%",
          "0.0%",
          "2.94%",
          "4.35%",
          "4.17%",
          "14.89%",
          "1.79%",
          "1.69%",
          "4.29%",
          "5.56%",
          "5.33%",
          "3.85%",
          "4.35%"
         ],
         "textposition": "top center",
         "type": "scatter",
         "visible": false,
         "x": {
          "bdata": "3AcAAN0HAADeBwAA3wcAAOAHAADhBwAA4gcAAOMHAADkBwAA5QcAAOYHAADnBwAA6AcAAOkHAAA=",
          "dtype": "i4"
         },
         "y": {
          "bdata": "AAAAAAAAAAAkSZIkSZIMQAAAAAAAAAAAh4eHh4eHB0AWspCFLGQRQKqqqqqqqhBAVxCTK4jJLUAkSZIkSZL8PwQNJ3VfHvs/SZIkSZIkEUCO4ziO4zgWQFZVVVVVVRVAT+zETuzEDkAWspCFLGQRQA==",
          "dtype": "f8"
         }
        }
       ],
       "layout": {
        "font": {
         "size": 14
        },
        "height": 700,
        "legend": {
         "title": {
          "text": "조직"
         }
        },
        "template": {
         "data": {
          "bar": [
           {
            "error_x": {
             "color": "#2a3f5f"
            },
            "error_y": {
             "color": "#2a3f5f"
            },
            "marker": {
             "line": {
              "color": "#E5ECF6",
              "width": 0.5
             },
             "pattern": {
              "fillmode": "overlay",
              "size": 10,
              "solidity": 0.2
             }
            },
            "type": "bar"
           }
          ],
          "barpolar": [
           {
            "marker": {
             "line": {
              "color": "#E5ECF6",
              "width": 0.5
             },
             "pattern": {
              "fillmode": "overlay",
              "size": 10,
              "solidity": 0.2
             }
            },
            "type": "barpolar"
           }
          ],
          "carpet": [
           {
            "aaxis": {
             "endlinecolor": "#2a3f5f",
             "gridcolor": "white",
             "linecolor": "white",
             "minorgridcolor": "white",
             "startlinecolor": "#2a3f5f"
            },
            "baxis": {
             "endlinecolor": "#2a3f5f",
             "gridcolor": "white",
             "linecolor": "white",
             "minorgridcolor": "white",
             "startlinecolor": "#2a3f5f"
            },
            "type": "carpet"
           }
          ],
          "choropleth": [
           {
            "colorbar": {
             "outlinewidth": 0,
             "ticks": ""
            },
            "type": "choropleth"
           }
          ],
          "contour": [
           {
            "colorbar": {
             "outlinewidth": 0,
             "ticks": ""
            },
            "colorscale": [
             [
              0,
              "#0d0887"
             ],
             [
              0.1111111111111111,
              "#46039f"
             ],
             [
              0.2222222222222222,
              "#7201a8"
             ],
             [
              0.3333333333333333,
              "#9c179e"
             ],
             [
              0.4444444444444444,
              "#bd3786"
             ],
             [
              0.5555555555555556,
              "#d8576b"
             ],
             [
              0.6666666666666666,
              "#ed7953"
             ],
             [
              0.7777777777777778,
              "#fb9f3a"
             ],
             [
              0.8888888888888888,
              "#fdca26"
             ],
             [
              1,
              "#f0f921"
             ]
            ],
            "type": "contour"
           }
          ],
          "contourcarpet": [
           {
            "colorbar": {
             "outlinewidth": 0,
             "ticks": ""
            },
            "type": "contourcarpet"
           }
          ],
          "heatmap": [
           {
            "colorbar": {
             "outlinewidth": 0,
             "ticks": ""
            },
            "colorscale": [
             [
              0,
              "#0d0887"
             ],
             [
              0.1111111111111111,
              "#46039f"
             ],
             [
              0.2222222222222222,
              "#7201a8"
             ],
             [
              0.3333333333333333,
              "#9c179e"
             ],
             [
              0.4444444444444444,
              "#bd3786"
             ],
             [
              0.5555555555555556,
              "#d8576b"
             ],
             [
              0.6666666666666666,
              "#ed7953"
             ],
             [
              0.7777777777777778,
              "#fb9f3a"
             ],
             [
              0.8888888888888888,
              "#fdca26"
             ],
             [
              1,
              "#f0f921"
             ]
            ],
            "type": "heatmap"
           }
          ],
          "histogram": [
           {
            "marker": {
             "pattern": {
              "fillmode": "overlay",
              "size": 10,
              "solidity": 0.2
             }
            },
            "type": "histogram"
           }
          ],
          "histogram2d": [
           {
            "colorbar": {
             "outlinewidth": 0,
             "ticks": ""
            },
            "colorscale": [
             [
              0,
              "#0d0887"
             ],
             [
              0.1111111111111111,
              "#46039f"
             ],
             [
              0.2222222222222222,
              "#7201a8"
             ],
             [
              0.3333333333333333,
              "#9c179e"
             ],
             [
              0.4444444444444444,
              "#bd3786"
             ],
             [
              0.5555555555555556,
              "#d8576b"
             ],
             [
              0.6666666666666666,
              "#ed7953"
             ],
             [
              0.7777777777777778,
              "#fb9f3a"
             ],
             [
              0.8888888888888888,
              "#fdca26"
             ],
             [
              1,
              "#f0f921"
             ]
            ],
            "type": "histogram2d"
           }
          ],
          "histogram2dcontour": [
           {
            "colorbar": {
             "outlinewidth": 0,
             "ticks": ""
            },
            "colorscale": [
             [
              0,
              "#0d0887"
             ],
             [
              0.1111111111111111,
              "#46039f"
             ],
             [
              0.2222222222222222,
              "#7201a8"
             ],
             [
              0.3333333333333333,
              "#9c179e"
             ],
             [
              0.4444444444444444,
              "#bd3786"
             ],
             [
              0.5555555555555556,
              "#d8576b"
             ],
             [
              0.6666666666666666,
              "#ed7953"
             ],
             [
              0.7777777777777778,
              "#fb9f3a"
             ],
             [
              0.8888888888888888,
              "#fdca26"
             ],
             [
              1,
              "#f0f921"
             ]
            ],
            "type": "histogram2dcontour"
           }
          ],
          "mesh3d": [
           {
            "colorbar": {
             "outlinewidth": 0,
             "ticks": ""
            },
            "type": "mesh3d"
           }
          ],
          "parcoords": [
           {
            "line": {
             "colorbar": {
              "outlinewidth": 0,
              "ticks": ""
             }
            },
            "type": "parcoords"
           }
          ],
          "pie": [
           {
            "automargin": true,
            "type": "pie"
           }
          ],
          "scatter": [
           {
            "fillpattern": {
             "fillmode": "overlay",
             "size": 10,
             "solidity": 0.2
            },
            "type": "scatter"
           }
          ],
          "scatter3d": [
           {
            "line": {
             "colorbar": {
              "outlinewidth": 0,
              "ticks": ""
             }
            },
            "marker": {
             "colorbar": {
              "outlinewidth": 0,
              "ticks": ""
             }
            },
            "type": "scatter3d"
           }
          ],
          "scattercarpet": [
           {
            "marker": {
             "colorbar": {
              "outlinewidth": 0,
              "ticks": ""
             }
            },
            "type": "scattercarpet"
           }
          ],
          "scattergeo": [
           {
            "marker": {
             "colorbar": {
              "outlinewidth": 0,
              "ticks": ""
             }
            },
            "type": "scattergeo"
           }
          ],
          "scattergl": [
           {
            "marker": {
             "colorbar": {
              "outlinewidth": 0,
              "ticks": ""
             }
            },
            "type": "scattergl"
           }
          ],
          "scattermap": [
           {
            "marker": {
             "colorbar": {
              "outlinewidth": 0,
              "ticks": ""
             }
            },
            "type": "scattermap"
           }
          ],
          "scattermapbox": [
           {
            "marker": {
             "colorbar": {
              "outlinewidth": 0,
              "ticks": ""
             }
            },
            "type": "scattermapbox"
           }
          ],
          "scatterpolar": [
           {
            "marker": {
             "colorbar": {
              "outlinewidth": 0,
              "ticks": ""
             }
            },
            "type": "scatterpolar"
           }
          ],
          "scatterpolargl": [
           {
            "marker": {
             "colorbar": {
              "outlinewidth": 0,
              "ticks": ""
             }
            },
            "type": "scatterpolargl"
           }
          ],
          "scatterternary": [
           {
            "marker": {
             "colorbar": {
              "outlinewidth": 0,
              "ticks": ""
             }
            },
            "type": "scatterternary"
           }
          ],
          "surface": [
           {
            "colorbar": {
             "outlinewidth": 0,
             "ticks": ""
            },
            "colorscale": [
             [
              0,
              "#0d0887"
             ],
             [
              0.1111111111111111,
              "#46039f"
             ],
             [
              0.2222222222222222,
              "#7201a8"
             ],
             [
              0.3333333333333333,
              "#9c179e"
             ],
             [
              0.4444444444444444,
              "#bd3786"
             ],
             [
              0.5555555555555556,
              "#d8576b"
             ],
             [
              0.6666666666666666,
              "#ed7953"
             ],
             [
              0.7777777777777778,
              "#fb9f3a"
             ],
             [
              0.8888888888888888,
              "#fdca26"
             ],
             [
              1,
              "#f0f921"
             ]
            ],
            "type": "surface"
           }
          ],
          "table": [
           {
            "cells": {
             "fill": {
              "color": "#EBF0F8"
             },
             "line": {
              "color": "white"
             }
            },
            "header": {
             "fill": {
              "color": "#C8D4E3"
             },
             "line": {
              "color": "white"
             }
            },
            "type": "table"
           }
          ]
         },
         "layout": {
          "annotationdefaults": {
           "arrowcolor": "#2a3f5f",
           "arrowhead": 0,
           "arrowwidth": 1
          },
          "autotypenumbers": "strict",
          "coloraxis": {
           "colorbar": {
            "outlinewidth": 0,
            "ticks": ""
           }
          },
          "colorscale": {
           "diverging": [
            [
             0,
             "#8e0152"
            ],
            [
             0.1,
             "#c51b7d"
            ],
            [
             0.2,
             "#de77ae"
            ],
            [
             0.3,
             "#f1b6da"
            ],
            [
             0.4,
             "#fde0ef"
            ],
            [
             0.5,
             "#f7f7f7"
            ],
            [
             0.6,
             "#e6f5d0"
            ],
            [
             0.7,
             "#b8e186"
            ],
            [
             0.8,
             "#7fbc41"
            ],
            [
             0.9,
             "#4d9221"
            ],
            [
             1,
             "#276419"
            ]
           ],
           "sequential": [
            [
             0,
             "#0d0887"
            ],
            [
             0.1111111111111111,
             "#46039f"
            ],
            [
             0.2222222222222222,
             "#7201a8"
            ],
            [
             0.3333333333333333,
             "#9c179e"
            ],
            [
             0.4444444444444444,
             "#bd3786"
            ],
            [
             0.5555555555555556,
             "#d8576b"
            ],
            [
             0.6666666666666666,
             "#ed7953"
            ],
            [
             0.7777777777777778,
             "#fb9f3a"
            ],
            [
             0.8888888888888888,
             "#fdca26"
            ],
            [
             1,
             "#f0f921"
            ]
           ],
           "sequentialminus": [
            [
             0,
             "#0d0887"
            ],
            [
             0.1111111111111111,
             "#46039f"
            ],
            [
             0.2222222222222222,
             "#7201a8"
            ],
            [
             0.3333333333333333,
             "#9c179e"
            ],
            [
             0.4444444444444444,
             "#bd3786"
            ],
            [
             0.5555555555555556,
             "#d8576b"
            ],
            [
             0.6666666666666666,
             "#ed7953"
            ],
            [
             0.7777777777777778,
             "#fb9f3a"
            ],
            [
             0.8888888888888888,
             "#fdca26"
            ],
            [
             1,
             "#f0f921"
            ]
           ]
          },
          "colorway": [
           "#636efa",
           "#EF553B",
           "#00cc96",
           "#ab63fa",
           "#FFA15A",
           "#19d3f3",
           "#FF6692",
           "#B6E880",
           "#FF97FF",
           "#FECB52"
          ],
          "font": {
           "color": "#2a3f5f"
          },
          "geo": {
           "bgcolor": "white",
           "lakecolor": "white",
           "landcolor": "#E5ECF6",
           "showlakes": true,
           "showland": true,
           "subunitcolor": "white"
          },
          "hoverlabel": {
           "align": "left"
          },
          "hovermode": "closest",
          "mapbox": {
           "style": "light"
          },
          "paper_bgcolor": "white",
          "plot_bgcolor": "#E5ECF6",
          "polar": {
           "angularaxis": {
            "gridcolor": "white",
            "linecolor": "white",
            "ticks": ""
           },
           "bgcolor": "#E5ECF6",
           "radialaxis": {
            "gridcolor": "white",
            "linecolor": "white",
            "ticks": ""
           }
          },
          "scene": {
           "xaxis": {
            "backgroundcolor": "#E5ECF6",
            "gridcolor": "white",
            "gridwidth": 2,
            "linecolor": "white",
            "showbackground": true,
            "ticks": "",
            "zerolinecolor": "white"
           },
           "yaxis": {
            "backgroundcolor": "#E5ECF6",
            "gridcolor": "white",
            "gridwidth": 2,
            "linecolor": "white",
            "showbackground": true,
            "ticks": "",
            "zerolinecolor": "white"
           },
           "zaxis": {
            "backgroundcolor": "#E5ECF6",
            "gridcolor": "white",
            "gridwidth": 2,
            "linecolor": "white",
            "showbackground": true,
            "ticks": "",
            "zerolinecolor": "white"
           }
          },
          "shapedefaults": {
           "line": {
            "color": "#2a3f5f"
           }
          },
          "ternary": {
           "aaxis": {
            "gridcolor": "white",
            "linecolor": "white",
            "ticks": ""
           },
           "baxis": {
            "gridcolor": "white",
            "linecolor": "white",
            "ticks": ""
           },
           "bgcolor": "#E5ECF6",
           "caxis": {
            "gridcolor": "white",
            "linecolor": "white",
            "ticks": ""
           }
          },
          "title": {
           "x": 0.05
          },
          "xaxis": {
           "automargin": true,
           "gridcolor": "white",
           "linecolor": "white",
           "ticks": "",
           "title": {
            "standoff": 15
           },
           "zerolinecolor": "white",
           "zerolinewidth": 2
          },
          "yaxis": {
           "automargin": true,
           "gridcolor": "white",
           "linecolor": "white",
           "ticks": "",
           "title": {
            "standoff": 15
           },
           "zerolinecolor": "white",
           "zerolinewidth": 2
          }
         }
        },
        "title": {
         "text": "연도별/조직별 직무 이동률(%) 변화 추이"
        },
        "updatemenus": [
         {
          "active": 0,
          "buttons": [
           {
            "args": [
             {
              "visible": [
               true,
               true,
               true,
               true,
               false,
               false,
               false,
               false,
               false,
               false,
               false,
               false,
               false
              ]
             }
            ],
            "label": "전체",
            "method": "update"
           },
           {
            "args": [
             {
              "visible": [
               false,
               false,
               false,
               false,
               true,
               true,
               false,
               false,
               false,
               false,
               false,
               false,
               false
              ]
             }
            ],
            "label": "Planning Division",
            "method": "update"
           },
           {
            "args": [
             {
              "visible": [
               false,
               false,
               false,
               false,
               false,
               false,
               true,
               true,
               true,
               false,
               false,
               false,
               false
              ]
             }
            ],
            "label": "Sales Division",
            "method": "update"
           },
           {
            "args": [
             {
              "visible": [
               false,
               false,
               false,
               false,
               false,
               false,
               false,
               false,
               false,
               true,
               true,
               false,
               false
              ]
             }
            ],
            "label": "Development Division",
            "method": "update"
           },
           {
            "args": [
             {
              "visible": [
               false,
               false,
               false,
               false,
               false,
               false,
               false,
               false,
               false,
               false,
               false,
               true,
               true
              ]
             }
            ],
            "label": "Operating Division",
            "method": "update"
           }
          ],
          "direction": "down",
          "pad": {
           "r": 10,
           "t": 10
          },
          "showactive": true,
          "x": 0.01,
          "xanchor": "left",
          "y": 1.1,
          "yanchor": "top"
         }
        ],
        "xaxis": {
         "title": {
          "text": "연도"
         },
         "type": "category"
        },
        "yaxis": {
         "range": [
          0,
          24
         ],
         "ticksuffix": "%",
         "title": {
          "text": "직무 이동률 (%)"
         }
        }
       }
      }
     },
     "metadata": {},
     "output_type": "display_data"
    }
   ],
   "source": [
    "import pandas as pd\n",
    "import numpy as np\n",
    "import plotly.graph_objects as go\n",
    "import plotly.io as pio\n",
    "import plotly.express as px\n",
    "import datetime\n",
    "\n",
    "# --- 1. 데이터 임포트 ---\n",
    "from services.tables.HR_Core.job_info_table import job_info_df\n",
    "from services.tables.HR_Core.basic_info_table import emp_df\n",
    "from services.tables.HR_Core.department_info_table import department_info_df\n",
    "from services.tables.HR_Core.department_table import (\n",
    "    dept_level_map, parent_map_dept, dept_name_map,\n",
    "    division_order, office_order\n",
    ")\n",
    "from services.helpers.utils import find_parents\n",
    "\n",
    "def create_figure():\n",
    "    \"\"\"\n",
    "    제안 9: 조직 활력도 진단 (연도별 직무 이동률) 그래프를 생성합니다.\n",
    "    \"\"\"\n",
    "    # --- 2. 데이터 준비 및 가공 ---\n",
    "    job_changes = job_info_df.copy()\n",
    "    job_changes = pd.merge(job_changes, emp_df[['EMP_ID', 'IN_DATE']], on='EMP_ID', how='left')\n",
    "    job_changes = job_changes[job_changes['JOB_APP_START_DATE'] > job_changes['IN_DATE']]\n",
    "    job_changes['YEAR'] = job_changes['JOB_APP_START_DATE'].dt.year\n",
    "\n",
    "    dept_info_sorted = department_info_df.sort_values(['DEP_APP_START_DATE', 'EMP_ID'])\n",
    "    job_changes_with_dept = pd.merge_asof(\n",
    "        job_changes.sort_values('JOB_APP_START_DATE'),\n",
    "        dept_info_sorted[['EMP_ID', 'DEP_APP_START_DATE', 'DEP_ID']],\n",
    "        left_on='JOB_APP_START_DATE', right_on='DEP_APP_START_DATE', by='EMP_ID', direction='backward'\n",
    "    )\n",
    "    parent_info = job_changes_with_dept['DEP_ID'].apply(lambda x: find_parents(x, dept_level_map, parent_map_dept, dept_name_map))\n",
    "    job_changes_with_dept = pd.concat([job_changes_with_dept, parent_info], axis=1)\n",
    "    job_changes_with_dept = job_changes_with_dept.dropna(subset=['DIVISION_NAME', 'OFFICE_NAME'])\n",
    "\n",
    "    analysis_records = []\n",
    "    all_years = sorted(job_changes_with_dept['YEAR'].unique())\n",
    "    for year in all_years:\n",
    "        year_start, year_end = pd.to_datetime(f'{year}-01-01'), pd.to_datetime(f'{year}-12-31')\n",
    "\n",
    "        active_in_year = emp_df[(emp_df['IN_DATE'] <= year_end) & (emp_df['OUT_DATE'].isnull() | (emp_df['OUT_DATE'] >= year_start))]\n",
    "        active_dept = pd.merge_asof(\n",
    "            active_in_year[['EMP_ID', 'IN_DATE']].sort_values('IN_DATE'),\n",
    "            department_info_df.sort_values('DEP_APP_START_DATE'),\n",
    "            left_on='IN_DATE', right_on='DEP_APP_START_DATE', by='EMP_ID', direction='backward'\n",
    "        )\n",
    "        parent_info_active = active_dept['DEP_ID'].apply(lambda x: find_parents(x, dept_level_map, parent_map_dept, dept_name_map))\n",
    "        active_dept = pd.concat([active_dept, parent_info_active], axis=1)\n",
    "        active_dept = active_dept.dropna(subset=['DIVISION_NAME', 'OFFICE_NAME'])\n",
    "\n",
    "        headcount_div = active_dept.groupby('DIVISION_NAME', observed=False).size()\n",
    "        headcount_office = active_dept.groupby(['DIVISION_NAME', 'OFFICE_NAME'], observed=False).size()\n",
    "\n",
    "        changes_in_year = job_changes_with_dept[job_changes_with_dept['YEAR'] == year]\n",
    "        changes_div = changes_in_year.groupby('DIVISION_NAME', observed=False).size()\n",
    "        changes_office = changes_in_year.groupby(['DIVISION_NAME', 'OFFICE_NAME'], observed=False).size()\n",
    "\n",
    "        for div_name, count in headcount_div.items():\n",
    "            change_count = changes_div.get(div_name, 0)\n",
    "            rate = (change_count / count) * 100 if count > 0 else 0\n",
    "            analysis_records.append({'YEAR': year, 'GROUP_TYPE': 'DIVISION', 'GROUP_NAME': div_name, 'MOBILITY_RATE': rate})\n",
    "\n",
    "        for (div_name, office_name), count in headcount_office.items():\n",
    "            change_count = changes_office.get((div_name, office_name), 0)\n",
    "            rate = (change_count / count) * 100 if count > 0 else 0\n",
    "            analysis_records.append({'YEAR': year, 'GROUP_TYPE': 'OFFICE', 'DIVISION_NAME': div_name, 'GROUP_NAME': office_name, 'MOBILITY_RATE': rate})\n",
    "\n",
    "    analysis_df = pd.DataFrame(analysis_records)\n",
    "\n",
    "    div_df = analysis_df[analysis_df['GROUP_TYPE'] == 'DIVISION'].copy()\n",
    "    office_df = analysis_df[analysis_df['GROUP_TYPE'] == 'OFFICE'].copy()\n",
    "\n",
    "    div_df['GROUP_NAME'] = pd.Categorical(div_df['GROUP_NAME'], categories=division_order, ordered=True)\n",
    "    office_df['DIVISION_NAME'] = pd.Categorical(office_df['DIVISION_NAME'], categories=division_order, ordered=True)\n",
    "    office_df['GROUP_NAME'] = pd.Categorical(office_df['GROUP_NAME'], categories=office_order, ordered=True)\n",
    "\n",
    "    # --- 3. Plotly 인터랙티브 그래프 생성 ---\n",
    "    y_max = analysis_df['MOBILITY_RATE'].max() if not analysis_df.empty else 0\n",
    "    fixed_y_range = [0, y_max * 1.2]\n",
    "\n",
    "    fig = go.Figure()\n",
    "    colors = px.colors.qualitative.Plotly\n",
    "    \n",
    "    for i, div_name in enumerate(division_order):\n",
    "        df_filtered = div_df[div_df['GROUP_NAME'] == div_name].sort_values('YEAR')\n",
    "        if not df_filtered.empty:\n",
    "            fig.add_trace(go.Scatter(x=df_filtered['YEAR'], y=df_filtered['MOBILITY_RATE'], mode='lines+markers+text', name=div_name,\n",
    "                                     line=dict(color=colors[i]), text=df_filtered['MOBILITY_RATE'].round(2).astype(str) + '%', textposition='top center'))\n",
    "    \n",
    "    office_traces_map = {}\n",
    "    trace_idx_counter = len(fig.data)\n",
    "    for div_name in division_order:\n",
    "        office_div_df = office_df[office_df['DIVISION_NAME'] == div_name]\n",
    "        \n",
    "        # --- 수정된 부분: office_order를 기준으로 순서 정렬 ---\n",
    "        offices_in_div_sorted = [o for o in office_order if o in office_div_df['GROUP_NAME'].unique()]\n",
    "        # --- 수정 완료 ---\n",
    "        \n",
    "        office_traces_map[div_name] = []\n",
    "        for j, office_name in enumerate(offices_in_div_sorted):\n",
    "            df_filtered = office_div_df[office_div_df['GROUP_NAME'] == office_name].sort_values('YEAR')\n",
    "            if not df_filtered.empty:\n",
    "                fig.add_trace(go.Scatter(x=df_filtered['YEAR'], y=df_filtered['MOBILITY_RATE'], mode='lines+markers+text', name=office_name, visible=False,\n",
    "                                         line=dict(color=colors[j % len(colors)]), text=df_filtered['MOBILITY_RATE'].round(2).astype(str) + '%', textposition='top center'))\n",
    "                office_traces_map[div_name].append(trace_idx_counter)\n",
    "                trace_idx_counter += 1\n",
    "    \n",
    "    buttons = [dict(label='전체', method='update', args=[{'visible': [True]*len(division_order) + [False]*(len(fig.data)-len(division_order))}])]\n",
    "    for div_name in division_order:\n",
    "        visibility_mask = [False] * len(fig.data)\n",
    "        for trace_idx in office_traces_map.get(div_name, []):\n",
    "            visibility_mask[trace_idx] = True\n",
    "        buttons.append(dict(label=f'{div_name}', method='update', args=[{'visible': visibility_mask}]))\n",
    "    \n",
    "    fig.update_layout(\n",
    "        updatemenus=[dict(active=0, buttons=buttons, direction=\"down\", pad={\"r\": 10, \"t\": 10}, showactive=True, x=0.01, xanchor=\"left\", y=1.1, yanchor=\"top\")],\n",
    "        title_text='연도별/조직별 직무 이동률(%) 변화 추이',\n",
    "        xaxis_title='연도', yaxis_title='직무 이동률 (%)',\n",
    "        font_size=14, height=700,\n",
    "        legend_title_text='조직',\n",
    "        xaxis=dict(type='category'), \n",
    "        yaxis=dict(ticksuffix=\"%\", range=fixed_y_range)\n",
    "    )\n",
    "    \n",
    "    return fig\n",
    "\n",
    "# 이 파일을 직접 실행할 경우 그래프를 생성하여 보여줍니다.\n",
    "pio.renderers.default = 'vscode'\n",
    "fig = create_figure()\n",
    "fig.show()"
   ]
  },
  {
   "cell_type": "code",
   "execution_count": null,
   "id": "ce406758",
   "metadata": {},
   "outputs": [],
   "source": []
  }
 ],
 "metadata": {
  "kernelspec": {
   "display_name": "Python 3 (ipykernel)",
   "language": "python",
   "name": "python3"
  },
  "language_info": {
   "codemirror_mode": {
    "name": "ipython",
    "version": 3
   },
   "file_extension": ".py",
   "mimetype": "text/x-python",
   "name": "python",
   "nbconvert_exporter": "python",
   "pygments_lexer": "ipython3",
   "version": "3.12.11"
  }
 },
 "nbformat": 4,
 "nbformat_minor": 5
}
