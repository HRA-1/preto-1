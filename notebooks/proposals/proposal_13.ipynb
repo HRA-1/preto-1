{
 "cells": [
  {
   "cell_type": "code",
   "execution_count": 1,
   "id": "1a2087d1",
   "metadata": {},
   "outputs": [
    {
     "name": "stderr",
     "output_type": "stream",
     "text": [
      "/app/src/services/tables/Time_Attendance/detailed_working_info_table.py:79: FutureWarning: Downcasting object dtype arrays on .fillna, .ffill, .bfill is deprecated and will change in a future version. Call result.infer_objects(copy=False) instead. To opt-in to the future behavior, set `pd.set_option('future.no_silent_downcasting', True)`\n",
      "  df['IS_VACATION'] = df['IS_VACATION'].fillna(False).astype(bool)\n"
     ]
    },
    {
     "data": {
      "application/vnd.plotly.v1+json": {
       "config": {
        "plotlyServerURL": "https://plot.ly"
       },
       "data": [
        {
         "line": {
          "color": "#636EFA"
         },
         "mode": "lines+markers",
         "name": "Planning Division",
         "type": "scatter",
         "x": [
          "2020-01",
          "2020-02",
          "2020-03",
          "2020-04",
          "2020-05",
          "2020-06",
          "2020-07",
          "2020-08",
          "2020-09",
          "2020-10",
          "2020-11",
          "2020-12",
          "2021-01",
          "2021-02",
          "2021-03",
          "2021-04",
          "2021-05",
          "2021-06",
          "2021-07",
          "2021-08",
          "2021-09",
          "2021-10",
          "2021-11",
          "2021-12",
          "2022-01",
          "2022-02",
          "2022-03",
          "2022-04",
          "2022-05",
          "2022-06",
          "2022-07",
          "2022-08",
          "2022-09",
          "2022-10",
          "2022-11",
          "2022-12",
          "2023-01",
          "2023-02",
          "2023-03",
          "2023-04",
          "2023-05",
          "2023-06",
          "2023-07",
          "2023-08",
          "2023-09",
          "2023-10",
          "2023-11",
          "2023-12",
          "2024-01",
          "2024-02",
          "2024-03",
          "2024-04",
          "2024-05",
          "2024-06",
          "2024-07",
          "2024-08",
          "2024-09",
          "2024-10",
          "2024-11",
          "2024-12",
          "2025-01",
          "2025-02",
          "2025-03",
          "2025-04",
          "2025-05",
          "2025-06",
          "2025-07",
          "2025-08"
         ],
         "y": {
          "bdata": "BKg6LuFpLkAZj/EYjzEvQKZruqZryitAkzEZkzGZKUApiqIoiqImQOsW1bfjISpA1qnHs2tGLED5koHiofcsQLQ927M9WytAlmVZlmXZKUDXsEA+FycqQM7ZnM3ZHC5AHVITjLdyKkCuM4zd9xYpQMs+h9QEYyxAXgizXQjzKkBVVVVVVYUpQEREREREpBNARm7kRm6EFEBf6IVe6EUVQG5/kKGywxNAjtzIjdwoEkBiJVZiJVYUQBERERERURNANLmvwpwoEUAxavjbFCMNQAfhLJXE5RBAvbF8VdQbEUAxDMMwDIMPQEBJBQOUVBFAPbq+tcejDUB8GmG5pxESQKeMK3LKeBFAmY/EhvmIEkB9JDbMR+ITQLkoSAmHixRAkRrR6ydvF0BegstdgssVQPBXkDk1KBlA8oslv1jSFUD0GGL0GGIXQFnuaYTlHhhAZKjsMHXZE0AvmfCSCS8VQPDMr3mnRRRA5MI+LuzjEUBERERERIQUQOp268MMlBJA9ZxVusIYEUDpdq2c8EwPQOeBMQe7/hFAyTURyDURDkD9DbpdKycRQLJRNMfoQA9AVsTwc8YnEUC9AdJClYwTQJVMyZRMyRBA47nHbTaeE0AjGlbQNaIPQAVnVHBGhRFAlgYm52TpEkAFYilSIJYQQAIncAIn4BFA8+bfDitvEkBuilHD36YQQLwun1KyOhBApi63P8hQFED6lm/5lm8GQA==",
          "dtype": "f8"
         }
        },
        {
         "line": {
          "color": "#EF553B"
         },
         "mode": "lines+markers",
         "name": "Sales Division",
         "type": "scatter",
         "x": [
          "2020-01",
          "2020-02",
          "2020-03",
          "2020-04",
          "2020-05",
          "2020-06",
          "2020-07",
          "2020-08",
          "2020-09",
          "2020-10",
          "2020-11",
          "2020-12",
          "2021-01",
          "2021-02",
          "2021-03",
          "2021-04",
          "2021-05",
          "2021-06",
          "2021-07",
          "2021-08",
          "2021-09",
          "2021-10",
          "2021-11",
          "2021-12",
          "2022-01",
          "2022-02",
          "2022-03",
          "2022-04",
          "2022-05",
          "2022-06",
          "2022-07",
          "2022-08",
          "2022-09",
          "2022-10",
          "2022-11",
          "2022-12",
          "2023-01",
          "2023-02",
          "2023-03",
          "2023-04",
          "2023-05",
          "2023-06",
          "2023-07",
          "2023-08",
          "2023-09",
          "2023-10",
          "2023-11",
          "2023-12",
          "2024-01",
          "2024-02",
          "2024-03",
          "2024-04",
          "2024-05",
          "2024-06",
          "2024-07",
          "2024-08",
          "2024-09",
          "2024-10",
          "2024-11",
          "2024-12",
          "2025-01",
          "2025-02",
          "2025-03",
          "2025-04",
          "2025-05",
          "2025-06",
          "2025-07",
          "2025-08"
         ],
         "y": {
          "bdata": "cWBcGwsHK0AFW7AFWzAlQLRRoEcbhSdAC/Roo0APJkAVpGtPQTomQF/xFV/xVSdAGXPXEvJBKUADwmF8q4gmQNkWtoVtYSZAVpDzwVoOKEAfuofuoXsmQEPZPpguVCdA8oslv1hyJUAiIiIiIgQkQAAAAAAAhSZA86B1wG0CJ0A9XKzJRDAkQCtFD3ujUgRAraysrKysBkAk1i+AbacEQNTDRGit8AZAkI+Pj49PB0A7OYZ+spMFQJmxyCyJGQlAh4eHh4eHA0DOtkqJcgYDQJ9YS8wwzglAS8+A2ioYBkAuQsFShrIKQOuXSIISewlAtAuITaUhAkAGOm2g0wYIQCQK5WYglwZAQacNdNpAB0C7PdYydMACQI4mzl20RwhAF0nt4Pc6BUDWufKAZL0EQPYsfjCcrwZA9Emf9ElfBkBTp0awGxgEQHF47T1FugVALIP/xBwZBkCBcpqs+mMIQJbFuh8ckwZA+3Y8lBBWBUCW3pJVPH0HQL5pymD1+AJAFCxlKKv2A0AP6qAO6iAFQLbIdSZg8ARASgXabV87BkAHe958uxUDQG2g0wY6bf4/DDejsdUvAkAHxyQP2dEDQLzUk/HbpQVAEY432K1FBEAOCgP12KD+P+5n8xSyaQBAYtTwtynGAUC1hXC8wW79P76eX+Hk6wJAa09nsjDiAkC+tXj01ZMCQBnEYTcGcQJAM7CGlDoDAkCz7uxdHgLyPw==",
          "dtype": "f8"
         }
        },
        {
         "line": {
          "color": "#00CC96"
         },
         "mode": "lines+markers",
         "name": "Development Division",
         "type": "scatter",
         "x": [
          "2020-01",
          "2020-02",
          "2020-03",
          "2020-04",
          "2020-05",
          "2020-06",
          "2020-07",
          "2020-08",
          "2020-09",
          "2020-10",
          "2020-11",
          "2020-12",
          "2021-01",
          "2021-02",
          "2021-03",
          "2021-04",
          "2021-05",
          "2021-06",
          "2021-07",
          "2021-08",
          "2021-09",
          "2021-10",
          "2021-11",
          "2021-12",
          "2022-01",
          "2022-02",
          "2022-03",
          "2022-04",
          "2022-05",
          "2022-06",
          "2022-07",
          "2022-08",
          "2022-09",
          "2022-10",
          "2022-11",
          "2022-12",
          "2023-01",
          "2023-02",
          "2023-03",
          "2023-04",
          "2023-05",
          "2023-06",
          "2023-07",
          "2023-08",
          "2023-09",
          "2023-10",
          "2023-11",
          "2023-12",
          "2024-01",
          "2024-02",
          "2024-03",
          "2024-04",
          "2024-05",
          "2024-06",
          "2024-07",
          "2024-08",
          "2024-09",
          "2024-10",
          "2024-11",
          "2024-12",
          "2025-01",
          "2025-02",
          "2025-03",
          "2025-04",
          "2025-05",
          "2025-06",
          "2025-07",
          "2025-08"
         ],
         "y": {
          "bdata": "H8b9uqRyLkAO4RAO4ZAnQKd0Sqd0yi1Acrm+fDWwMEAQbrx9SXMrQFwIGKWaPC9AmJpDKOWRMEBalEVZlOUsQJJhg7h5si5A5jkRhPQnLUA20GkDnTYvQH3FV3zFVy5A6dJftIAuLkCWKlAAaikpQDF7C7O3sC1AR4fg4n30LUDyV8SDJ38nQBEu0QnhEhZA4WFziwweFkAnfdInfVIUQMHknCwNTBFAeW+rJYv3EEAhRg5i5KAQQPYfYf8R9hNAcxT7HzBHEkBk81FrRjYUQIZXO/dneBJAm2C8lX0OEkAhQ2WHqcsSQN05BKoG0RRAAUO+x7SaEUCBEhwQX7wUQIbtkfRi2BFAXHHkj8MVEkA2guoZu/gNQFe9XKAKDRJA8kNX45rNE0BicBkj6UQQQMVO7MROLBNATbQ/1bbSE0Cn5kHu+tkTQJybm5ubGxVAa9Xz14YmEUA9PT09Pb0TQC1wQ2FNBRJAxU7sxE7sF0ALM8BPnDwVQCFIYM80VBJAigZrbSp+E0D8N63a4RgSQNbRg6OeUBRAgHIHKHeAEUBXfMVXfPUWQDEMwzAM4xJAydW68IRcFUBcSW0ltZUUQH7+tdXnXxRA5BdLfrHkFECk61t7PLoSQDWiclcjKhRAG0H1jF08FkCX/qIFdOkRQJkv8JaU+RBACelPDyBLFEDOPfMkWTYUQJC8nrL6HxNAivan2lZ6FEBeUchOE9ADQA==",
          "dtype": "f8"
         }
        },
        {
         "line": {
          "color": "#AB63FA"
         },
         "mode": "lines+markers",
         "name": "Operating Division",
         "type": "scatter",
         "x": [
          "2020-01",
          "2020-02",
          "2020-03",
          "2020-04",
          "2020-05",
          "2020-06",
          "2020-07",
          "2020-08",
          "2020-09",
          "2020-10",
          "2020-11",
          "2020-12",
          "2021-01",
          "2021-02",
          "2021-03",
          "2021-04",
          "2021-05",
          "2021-06",
          "2021-07",
          "2021-08",
          "2021-09",
          "2021-10",
          "2021-11",
          "2021-12",
          "2022-01",
          "2022-02",
          "2022-03",
          "2022-04",
          "2022-05",
          "2022-06",
          "2022-07",
          "2022-08",
          "2022-09",
          "2022-10",
          "2022-11",
          "2022-12",
          "2023-01",
          "2023-02",
          "2023-03",
          "2023-04",
          "2023-05",
          "2023-06",
          "2023-07",
          "2023-08",
          "2023-09",
          "2023-10",
          "2023-11",
          "2023-12",
          "2024-01",
          "2024-02",
          "2024-03",
          "2024-04",
          "2024-05",
          "2024-06",
          "2024-07",
          "2024-08",
          "2024-09",
          "2024-10",
          "2024-11",
          "2024-12",
          "2025-01",
          "2025-02",
          "2025-03",
          "2025-04",
          "2025-05",
          "2025-06",
          "2025-07",
          "2025-08"
         ],
         "y": {
          "bdata": "53me53kcRMCDQx8vOFRBwIFMihfIrELAhVPJVTh1Q8DV519bfd5BwH7OQVTcx0PA8RVf8RXVRMB39j3teedDwCaHEY5kMkTAWjkLN5q1Q8CdBOJCzelCwBbt+qBpUUXA+qqhrxq6QsBvc+w2x05CwAAAAAAAwkTAi6OahhlkQ8DLPY2w3ItDwEmksU9zg0XAb3znxnfuRcC/pcra8ftFwEUXXXTRZUbALL7iK77yRMAZhmEYhr1FwL+lytrx20bAD5tbZPCwBUCK99KJ99IDQABuSQBuSQZArkBlrkBlAkCPwvUoXA8GQCGz1yCz1wZA9Tfodq2cBUCJiIiIiIgEQNTl9gcZqgRAWtFIwDfvBUCcJnL4WHYGQCMB37yauARAhAyVHabuBkA20GkDnbYBQMz5s5w/ywdA+VcuKpBNAUArzj58hl0JQESVqe4/VARArAjgVbOKA0AW/vmjlWgIQKfHz1FyegZA7W2uzt7mBEBVVVVVVf0FQPpRfpQf5QNAk2n+M5nmA0CrXQSx2kUCQAAAAAAAZARAC7/kUZv2BkB2DvUjHMgGQDlq+xnCXgFAt9vGI53dBUBHR0dHR8cIQJCsc+UByQhAWiBl33/yDEAxzvkIUScJQP+MaTLAnAxA5h0CEInMBEAaIUC8rO4BQPQmydiADwdA+mdMkwHmB0Dd5mEkw3MHQIVf8qhNewRAIiIiIiKGBUBxrIvbaADzPw==",
          "dtype": "f8"
         }
        },
        {
         "line": {
          "color": "#636EFA"
         },
         "mode": "lines+markers",
         "name": "Strategy Office",
         "showlegend": false,
         "type": "scatter",
         "visible": false,
         "x": [
          "2020-01",
          "2020-02",
          "2020-03",
          "2020-04",
          "2020-05",
          "2020-06",
          "2020-07",
          "2020-08",
          "2020-09",
          "2020-10",
          "2020-11",
          "2020-12",
          "2021-01",
          "2021-02",
          "2021-03",
          "2021-04",
          "2021-05",
          "2021-06",
          "2021-07",
          "2021-08",
          "2021-09",
          "2021-10",
          "2021-11",
          "2021-12",
          "2022-01",
          "2022-02",
          "2022-03",
          "2022-04",
          "2022-05",
          "2022-06",
          "2022-07",
          "2022-08",
          "2022-09",
          "2022-10",
          "2022-11",
          "2022-12",
          "2023-01",
          "2023-02",
          "2023-03",
          "2023-04",
          "2023-05",
          "2023-06",
          "2023-07",
          "2023-08",
          "2023-09",
          "2023-10",
          "2023-11",
          "2023-12",
          "2024-01",
          "2024-02",
          "2024-03",
          "2024-04",
          "2024-05",
          "2024-06",
          "2024-07",
          "2024-08",
          "2024-09",
          "2024-10",
          "2024-11",
          "2024-12",
          "2025-01",
          "2025-02",
          "2025-03",
          "2025-04",
          "2025-05",
          "2025-06",
          "2025-07",
          "2025-08"
         ],
         "y": {
          "bdata": "cfPkOzIsMkAsUgaebs0yQGZmZmZmRjFAcE8A9wRwK0BQ5QVVXlAsQLrxnRvfOS1AHWWy4sCLLkAVQDtYqn0wQELcPPmODC9AkTLwdGs+LEAtlcRlI6guQB0KMOR7zDFADLZgC7bgLkBuV4Qq3nYtQFujNVqjVS5AN3IjN3KjLkAbQfWMXXwtQIT2EtpL6BtAF3qhF3rhHEA0SIM0SEMcQCSwZxrqCxxAF0t+seSXGECqOPvwGXYeQBT1b4Qy+hlAxi5e/7zBF0CpnrGL1z8TQOAETuAEDhZAAAAAAABgF0CamZmZmZkWQAUp4XBRkBlAK3feD61yFUCD28kzuB0YQL9fQebUoBhAVjQS8M0rGUDQaQOdNtAaQMDjDwc8/hpAKjtMXW6/IECduicGrmYdQIQ4slE0xyFAVVVVVVVZHkDf6q3e6q0gQKcBbRrQZiBATVRz798hGkBAQEBAQIAbQAMDAwMDgxlAfeF0wvhRF0DtKiMEiJcaQBLkKUGeEhhAIiIiIiKiGUDv7u7u7koTQOTCPi7sYxZApvVmMEHtE0CPPPLII48WQFlggQUW2BNAdrsMIWa3GUCdi987bnIdQAy2YAu24BhA/dMkg8Y/HUBrxBB4qUYYQImIiIiIiBxAz+B28gzuHUD3NMJyT6MaQGtdeEKu1hpA1PC3KUaNHUDOUklcNoIbQNpLaC+hPRhA0BuEs1QSHkBe/7xBOMsRQA==",
          "dtype": "f8"
         }
        },
        {
         "line": {
          "color": "#EF553B"
         },
         "mode": "lines+markers",
         "name": "Finance Office",
         "showlegend": false,
         "type": "scatter",
         "visible": false,
         "x": [
          "2020-01",
          "2020-02",
          "2020-03",
          "2020-04",
          "2020-05",
          "2020-06",
          "2020-07",
          "2020-08",
          "2020-09",
          "2020-10",
          "2020-11",
          "2020-12",
          "2021-01",
          "2021-02",
          "2021-03",
          "2021-04",
          "2021-05",
          "2021-06",
          "2021-07",
          "2021-08",
          "2021-09",
          "2021-10",
          "2021-11",
          "2021-12",
          "2022-01",
          "2022-02",
          "2022-03",
          "2022-04",
          "2022-05",
          "2022-06",
          "2022-07",
          "2022-08",
          "2022-09",
          "2022-10",
          "2022-11",
          "2022-12",
          "2023-01",
          "2023-02",
          "2023-03",
          "2023-04",
          "2023-05",
          "2023-06",
          "2023-07",
          "2023-08",
          "2023-09",
          "2023-10",
          "2023-11",
          "2023-12",
          "2024-01",
          "2024-02",
          "2024-03",
          "2024-04",
          "2024-05",
          "2024-06",
          "2024-07",
          "2024-08",
          "2024-09",
          "2024-10",
          "2024-11",
          "2024-12",
          "2025-01",
          "2025-02",
          "2025-03",
          "2025-04",
          "2025-05",
          "2025-06",
          "2025-07",
          "2025-08"
         ],
         "y": {
          "bdata": "r/AKr/AKKEDP7/zO73wlQAQ/8AM/8CJAXI/C9Sh8KEC8u7u7u2sgQEt+seQXOydAEL8D8TuQKkA6baDTBqopQEH8DsTvQCZAJrxkwkumJ0CjyDKKLCMlQM0jxjxizClAvMIrvMKrJUBH4XoUroclQEREREREBCtA+Yqv+IpvJkAXeZEXeRElQEEQBEEQBAhArMO3vTp8C0C7VQivW4UOQPVrME6/BgdAVII8JchTCEAzPvRUYBYHQAck61x5QApADrXsqZPhBUCeI1C01eADQHsdqdeR+gZAs6dOhkMtBUDm8UoTVmwDQMYUhP7RbQRAjuM4juP4/T9J0JaRYrsIQAy2YAu2QAVAMWr42xSjBEB90id90icFQF5jvm50zwdAJoZWbmJoA0AA9T7e0hwIQPqznD/LeQhAcAIncAInB0CMvMiLvMgEQBtAqgGkGgpAkQqpkAqpBEDFgyRUPEgIQMyzv7k8+wdAd4I4maRaA0D3/FcIDmkHQHTaQKcNdAZAwK8c8Wif/T9aCClPprYHQOmA3R5rGQpAmpmZmZlZA0BLFkC48fYJQMU4Q6HvsAZA9wJcJGd9AUCD5wgUbTUDQAa4SM76XgJAeUqQpwR5AUAiIiIiIiL4P0uQpwR5Svg/KfEzSvyM/D/EySTV2jX2P97HW5qDFwBAinIGRS7C/D/Qcv4s58/zP++hSPUeigBAmYzJmIzJBUBtTcrWpGzxPw==",
          "dtype": "f8"
         }
        },
        {
         "line": {
          "color": "#00CC96"
         },
         "mode": "lines+markers",
         "name": "Planning Division (직속)",
         "showlegend": false,
         "type": "scatter",
         "visible": false,
         "x": [
          "2020-01",
          "2020-02",
          "2020-03",
          "2020-04",
          "2020-05",
          "2020-06",
          "2020-07",
          "2020-08",
          "2020-09",
          "2020-10",
          "2020-11",
          "2020-12",
          "2021-01",
          "2021-02",
          "2021-03",
          "2021-04",
          "2021-05",
          "2021-06",
          "2021-07",
          "2021-08",
          "2021-09",
          "2021-10",
          "2021-11",
          "2021-12",
          "2022-01",
          "2022-02",
          "2022-03",
          "2022-04",
          "2022-05",
          "2022-06",
          "2022-07",
          "2022-08",
          "2022-09",
          "2022-10",
          "2022-11",
          "2022-12",
          "2023-01",
          "2023-02",
          "2023-03",
          "2023-04",
          "2023-05",
          "2023-06",
          "2023-07",
          "2023-08",
          "2023-09",
          "2023-10",
          "2023-11",
          "2023-12",
          "2024-01",
          "2024-02",
          "2024-03",
          "2024-04",
          "2024-05",
          "2024-06",
          "2024-07",
          "2024-08",
          "2024-09",
          "2024-10",
          "2024-11",
          "2024-12",
          "2025-01",
          "2025-02",
          "2025-03",
          "2025-04",
          "2025-05",
          "2025-06",
          "2025-07",
          "2025-08"
         ],
         "y": {
          "bdata": "7Ei9jtRrKEBR3ArFrRAxQP8s589y/ilAMJb8YsnvI0CCThvotEEgQPrFkl8suSRAMzMzMzOzJkCnDXTaQOckQLWBThvotCxAMJb8YsnvJUDkF0t+sWQmQO/u7u7uLiJAFK5H4XrUI0DKL5b8YskcQPUoXI/C9SZAq6qqqqqqKkAiIiIiIiImQGZmZmZmZu8/ByTrXHlA8j+tc+UByToDQEYNf5ti1ARAv1jyiyW/CECPwvUoXI8CQImIiIiIiApAAAAAAADAAEDv7u7u7i4DQFVVVVVVFQVAOY7jOI7jBkDv7u7u7u70PxEREREREek/ZJ0rD0jWB0C+hPYS2ksEQERERERERPw/589y/iznD0ApboXiVigUQOQpQZ4S5BVAP+mTPulTFkAMvdALvdATQGVRFmVRFhRAcAIncAInC0B3d3d3d3cRQO7Znu3ZnhFAx3Ecx3GcEkCf9Emf9MkRQBZswRZsQRRAEPzAD/zAEkDLoizKoiwUQLAFW7AF2w9ArH3D2jesAUBVVVVVVVUFQPukT/qkTw1A0GkDnTbQBUALxa1Q3Ar1P9s3rH3D2gVAzczMzMzM8T//LOfPcv74P79h7RvWvvE/MzMzMzMzCUBLfrHkF0sFQOF6FK5H4fg/VVVVVVVVAkDC9Shcj8L/PwvXo3A9CgZAAAAAAAAAAkAAAAAAAAADQMaSXyz5xfw/4m9TjBr+9j/Zgi3Ygi3oPw==",
          "dtype": "f8"
         }
        },
        {
         "line": {
          "color": "#636EFA"
         },
         "mode": "lines+markers",
         "name": "Marketing Office",
         "showlegend": false,
         "type": "scatter",
         "visible": false,
         "x": [
          "2020-01",
          "2020-02",
          "2020-03",
          "2020-04",
          "2020-05",
          "2020-06",
          "2020-07",
          "2020-08",
          "2020-09",
          "2020-10",
          "2020-11",
          "2020-12",
          "2021-01",
          "2021-02",
          "2021-03",
          "2021-04",
          "2021-05",
          "2021-06",
          "2021-07",
          "2021-08",
          "2021-09",
          "2021-10",
          "2021-11",
          "2021-12",
          "2022-01",
          "2022-02",
          "2022-03",
          "2022-04",
          "2022-05",
          "2022-06",
          "2022-07",
          "2022-08",
          "2022-09",
          "2022-10",
          "2022-11",
          "2022-12",
          "2023-01",
          "2023-02",
          "2023-03",
          "2023-04",
          "2023-05",
          "2023-06",
          "2023-07",
          "2023-08",
          "2023-09",
          "2023-10",
          "2023-11",
          "2023-12",
          "2024-01",
          "2024-02",
          "2024-03",
          "2024-04",
          "2024-05",
          "2024-06",
          "2024-07",
          "2024-08",
          "2024-09",
          "2024-10",
          "2024-11",
          "2024-12",
          "2025-01",
          "2025-02",
          "2025-03",
          "2025-04",
          "2025-05",
          "2025-06",
          "2025-07",
          "2025-08"
         ],
         "y": {
          "bdata": "0GkDnTYALkCx5BdLfkEkQMaSXyz55SZADnTaQKeNJEAGOm2g08YnQOmFXuiFXiZAV0mj2nKVLEAj7ViBMBIoQCIiIiIiIidAG5ejcTkaKEA+CtejcA0nQGoDnTbQSSpAMzMzMzOzIkDswhNyte4jQJDgPoL7SCRA0id90ie9JEBknSsPSNYgQNIrY/sdvf4/jX+aZND4C0ADYaQdKxAIQOyNStHD3gdAW7AFW7AFA0BHcB/BfQQLQCFX68ITcglARERERETEAUDC9Shcj0IBQEEMxEAMxAhAoID9CdifBkBQB3VQB3UJQF63CuF1qwZAQJNp/jOZAkCGCchomIAKQJJgKAmGkgRA663e6q3eDEDbRRCrXQQJQO34xo5v7ApAi6/4iq/4CED1Vm/1Vm8FQN/qrd7qrQRA9mM/9mM/BUAeJKHiQRIGQJf1flnvlwNAq5/piH3HBkAUbTV4jkAFQHGoZU+dDABAYRiGYRiGA0Ag+7Ef+7H/PwupkAqpkAFA+sWSXyx5BUB2fGPHN3YCQLUrUbsStQNA8iIv8iIvBECvm+a6aa73P9RBHdRBHfw/JO6IO+KOAEADmM0ygNkCQNTIzkuN7AhAQFDjDpdgCECmtkl1/cYGQD6VpThk7ANARSMB37yaBEBgLPnFkl/8P6VP+qRP+gZAoIrOMa8XBECXNLdOopIBQK5H4XoUrgNA5pA75pA7BECAUarJ487yPw==",
          "dtype": "f8"
         }
        },
        {
         "line": {
          "color": "#EF553B"
         },
         "mode": "lines+markers",
         "name": "Domestic Sales Office",
         "showlegend": false,
         "type": "scatter",
         "visible": false,
         "x": [
          "2020-01",
          "2020-02",
          "2020-03",
          "2020-04",
          "2020-05",
          "2020-06",
          "2020-07",
          "2020-08",
          "2020-09",
          "2020-10",
          "2020-11",
          "2020-12",
          "2021-01",
          "2021-02",
          "2021-03",
          "2021-04",
          "2021-05",
          "2021-06",
          "2021-07",
          "2021-08",
          "2021-09",
          "2021-10",
          "2021-11",
          "2021-12",
          "2022-01",
          "2022-02",
          "2022-03",
          "2022-04",
          "2022-05",
          "2022-06",
          "2022-07",
          "2022-08",
          "2022-09",
          "2022-10",
          "2022-11",
          "2022-12",
          "2023-01",
          "2023-02",
          "2023-03",
          "2023-04",
          "2023-05",
          "2023-06",
          "2023-07",
          "2023-08",
          "2023-09",
          "2023-10",
          "2023-11",
          "2023-12",
          "2024-01",
          "2024-02",
          "2024-03",
          "2024-04",
          "2024-05",
          "2024-06",
          "2024-07",
          "2024-08",
          "2024-09",
          "2024-10",
          "2024-11",
          "2024-12",
          "2025-01",
          "2025-02",
          "2025-03",
          "2025-04",
          "2025-05",
          "2025-06",
          "2025-07",
          "2025-08"
         ],
         "y": {
          "bdata": "hk9lKQ6ZJ0DHmxNKNHAlQLy7u7u7cylALtiCLdiKJUDZgi3Ygq0lQBxq2VMnwylAxks3iUGgJkBgLPnFkl8kQHqi/o1QRiZAL6fg5RQ8J0C9dJMYBJYoQNcL4mkwKyRACwsLCwsLJ0D3TKL3TKIjQCV70CV70ClA+sWSXyz5JEBjggfzRD0hQN0kBoGVQwRAFNvVpv8eBUCbC0lTKs7+P68AuddcSAZAREREREREBkDYgi3Ygu0AQBZswRZsgQpAuzegTFzpAkAavS1rdUz8P56dnZ2dnQdA65Q/6pQ/BkDQeiXQeiUMQDfijDfijA9AUUZvy1odAEAnfdInfdIFQNmCLdiCLQZAjMpRJisOBECKYkrbddb+P9n6L/FplQZA+gvoL6C/BEAAAAAAAEACQK86JFH3qglApkwAmWfKCkAbrdEarREDQArylCBPCQhAit4zid4zCUCioaGhoaELQIWFhYWFhQ1Ae6ahvhAkBEDUKiFb/yUIQJm/10asSwNA5pA75pA7+j/KHnTJHnT5Pz/wAz/wAwJA/aZR/KZRBEAqf9Qpf9T1P5VaqZVaqfg/MAQJ7JmGAkAbxM2T78gCQO46a0kUUwJAr66urq6u/j+e2Imd2InvP/n4+Pj4+Pw/mpmZmZmZ/T+iA3Z7rGUAQNCD1bSON/8/j3m9IJ4G/z+PO0vYzW8FQFVVVVVVVQRAArs91jJ0BED3AlwkZ331Pw==",
          "dtype": "f8"
         }
        },
        {
         "line": {
          "color": "#00CC96"
         },
         "mode": "lines+markers",
         "name": "Global Sales Office",
         "showlegend": false,
         "type": "scatter",
         "visible": false,
         "x": [
          "2020-01",
          "2020-02",
          "2020-03",
          "2020-04",
          "2020-05",
          "2020-06",
          "2020-07",
          "2020-08",
          "2020-09",
          "2020-10",
          "2020-11",
          "2020-12",
          "2021-01",
          "2021-02",
          "2021-03",
          "2021-04",
          "2021-05",
          "2021-06",
          "2021-07",
          "2021-08",
          "2021-09",
          "2021-10",
          "2021-11",
          "2021-12",
          "2022-01",
          "2022-02",
          "2022-03",
          "2022-04",
          "2022-05",
          "2022-06",
          "2022-07",
          "2022-08",
          "2022-09",
          "2022-10",
          "2022-11",
          "2022-12",
          "2023-01",
          "2023-02",
          "2023-03",
          "2023-04",
          "2023-05",
          "2023-06",
          "2023-07",
          "2023-08",
          "2023-09",
          "2023-10",
          "2023-11",
          "2023-12",
          "2024-01",
          "2024-02",
          "2024-03",
          "2024-04",
          "2024-05",
          "2024-06",
          "2024-07",
          "2024-08",
          "2024-09",
          "2024-10",
          "2024-11",
          "2024-12",
          "2025-01",
          "2025-02",
          "2025-03",
          "2025-04",
          "2025-05",
          "2025-06",
          "2025-07",
          "2025-08"
         ],
         "y": {
          "bdata": "AAAAAAAAKkA9PT09Pf0kQA0NDQ0NDSdAL7rooouuKECQpwR5ShAkQKKhoaGh4SZABUdPcPQEKUAQc/8w9w8pQA+k9kBqjyZApwR5SpCnKUBjWzq2peMjQCdpcZIWJylAtz/IUNkhJkCJiIiIiEgmQH3hdML40SJA2ubLAZatKUDMvuzLvmwpQAvXo3A9yghAC4GmEGgKB0Dx5BZPbvEKQIVUSIVUSAdAdYFPF/h0DUB02kCnDXQFQBERERERUQdAd3d3d3d3BUCkQRqkQRoKQDRBEzRBExBAIimSIimSBkASJmESJmEKQGZmZmZmpgZACUcyOYxwBkA5juM4jmMMQNFeQnsJ7QpASda58oBkBkAmtJfQXkL7P40a/jbFqAZA7IOmRbs+AkDVE/8FWT0HQD/lrRXzUwRAFaOGv00xAUAql3Ipl3IDQPXteCghrANAsW5RfTseAECp4W9TjBoJQKG9hPYSWghAK+wA+qbCCkCGJ+RqXXgQQLmKq7iKqwRA7+7u7u7uCkAUQiEUQiERQERERERERAxAvLu7u7u7C0BWIIy0Y4UQQHAq7AD6pgRAAcs2Xw6wA0DSjhUII+0HQN+oFD3sjQhAdqxAGGnHA0ATp37PLXH8P0oGjX+aZP4/MOgL+oK+AkB/lvNnOX/4P5J6HanXkQBAzczMzMzMAkARERERERH7P4u6oq6oK/4/4XoUrkfh+T902kCnDXTwPw==",
          "dtype": "f8"
         }
        },
        {
         "line": {
          "color": "#AB63FA"
         },
         "mode": "lines+markers",
         "name": "Sales Division (직속)",
         "showlegend": false,
         "type": "scatter",
         "visible": false,
         "x": [
          "2020-01",
          "2020-02",
          "2020-03",
          "2020-04",
          "2020-05",
          "2020-06",
          "2020-07",
          "2020-08",
          "2020-09",
          "2020-10",
          "2020-11",
          "2020-12",
          "2021-01",
          "2021-02",
          "2021-03",
          "2021-04",
          "2021-05",
          "2021-06",
          "2021-07",
          "2021-08",
          "2021-09",
          "2021-10",
          "2021-11",
          "2021-12",
          "2022-01",
          "2022-02",
          "2022-03",
          "2022-04",
          "2022-05",
          "2022-06",
          "2022-07",
          "2022-08",
          "2022-09",
          "2022-10",
          "2022-11",
          "2022-12",
          "2023-01",
          "2023-02",
          "2023-03",
          "2023-04",
          "2023-05",
          "2023-06",
          "2023-07",
          "2023-08",
          "2023-09",
          "2023-10",
          "2023-11",
          "2023-12",
          "2024-01",
          "2024-02",
          "2024-03",
          "2024-04",
          "2024-05",
          "2024-06",
          "2024-07",
          "2024-08",
          "2024-09",
          "2024-10",
          "2024-11",
          "2024-12",
          "2025-01",
          "2025-02",
          "2025-03",
          "2025-04",
          "2025-05",
          "2025-06",
          "2025-07",
          "2025-08"
         ],
         "y": {
          "bdata": "vLu7u7s7NUCrqqqqqqorQERERERERBpAERERERHRJUAzMzMzMzMsQGQ/9mM/9h1AdVAHdVCHK0DSJ33SJ70hQF3KpVzKJSJAfdInfdKnJUD0SZ/0SR8dQLy7u7u7+yNAgy3Ygi3YJUB/7Md+7McZQC7Ygi3YAi1AmpmZmZlZMkBswRZswdYuQD/pkz7pkwVAmpmZmZmZ5D8zMzMzMzPkP4mIiIiIiARAO6iDOqiDAkAP6qAO6qAIQFd8xVd8xQdAbMEWbMEWB0DBFmzBFmwJQN7d3d3d3fM/IiIiIiIi/D+jNVqjNVoJQM3MzMzMDABAiYiIiIiI9D/Xo3A9CtfxP1yPwvUoXAFAGTX8bYpRA0Dv7u7u7u4MQGELtmALtgxAi1HD36YYA0BhC7ZgC7YGQMBNMWr42wZAsAVbsAVbBECmGDX8bYoDQFVVVVVVVQlAsAVbsAVbCEAREREREZECQHWuPCBZ5/I/3t3d3d1d+z+eKw9I1rn+P4FknSsPSABAob2E9hLaBUDD36YYNfwHQPnbFKOGv/U/2YIt2IItAkCeKw9I1rkTQOtceUCyzv0/ERERERGRAUBERERERMT4PwAAAAAAgPg/wE0xavjbDEAb/jbFqOEHQERERERERPw/l9BeQnsJ/T9uilHD36YEQJb8YskvlgpA0xgwjQHTDECTTTbZZJMNQJqZmZmZmQFAA5020GkD/z8t+cWSXyzRPw==",
          "dtype": "f8"
         }
        },
        {
         "line": {
          "color": "#636EFA"
         },
         "mode": "lines+markers",
         "name": "R&D Office",
         "showlegend": false,
         "type": "scatter",
         "visible": false,
         "x": [
          "2020-01",
          "2020-02",
          "2020-03",
          "2020-04",
          "2020-05",
          "2020-06",
          "2020-07",
          "2020-08",
          "2020-09",
          "2020-10",
          "2020-11",
          "2020-12",
          "2021-01",
          "2021-02",
          "2021-03",
          "2021-04",
          "2021-05",
          "2021-06",
          "2021-07",
          "2021-08",
          "2021-09",
          "2021-10",
          "2021-11",
          "2021-12",
          "2022-01",
          "2022-02",
          "2022-03",
          "2022-04",
          "2022-05",
          "2022-06",
          "2022-07",
          "2022-08",
          "2022-09",
          "2022-10",
          "2022-11",
          "2022-12",
          "2023-01",
          "2023-02",
          "2023-03",
          "2023-04",
          "2023-05",
          "2023-06",
          "2023-07",
          "2023-08",
          "2023-09",
          "2023-10",
          "2023-11",
          "2023-12",
          "2024-01",
          "2024-02",
          "2024-03",
          "2024-04",
          "2024-05",
          "2024-06",
          "2024-07",
          "2024-08",
          "2024-09",
          "2024-10",
          "2024-11",
          "2024-12",
          "2025-01",
          "2025-02",
          "2025-03",
          "2025-04",
          "2025-05",
          "2025-06",
          "2025-07",
          "2025-08"
         ],
         "y": {
          "bdata": "rdUxwYOZMUB6ov6NUAYsQFFGb8tavTBAewuztzB7MECAewK4J0AxQImIiIiIiDJAz+B28gwuMkDDA8cQ7kUxQCKHj2U33jFAh6nL7Q/iMEDUjTVH3XgyQIC9SvvXKzFArTeDCWrHMkClkPnsK3EtQHGYDW2LZjJAO6iDOqirMUDHfuzHfgwrQBdswRZswSBA6sUNfp1eIEA9E9IzIT0cQOVSLuVSjhlA0GkDnTbQGkAJDYbQYAgZQBoMocEQmiBAx7TajiZ3GkCWSuKyEVQgQDX8bYpRwxpApVZqpVYqGkBitwxitwwcQNcsgtcsAiFANXncWcJuHkAREREREZEfQCXs5rcQMBpA7mrTf48cGUBNHneWsJsSQIJbBPRgNRtATtd0Tdf0G0D75w3CWaoSQMEP/MAPPBlAg3gazAo/G0DRd1g+Uw8aQFV0jnm9IBtA0Tnm9YJ4F0BTLuVSLuUZQKo4+/AZdhZA7ezs7OzsIUAJ/zjdAxwgQMS69Ji/1xtArVnXmnUtIEAS/xrxrxEbQPQG4SyVxB9AO6iDOqgjG0B5Qq7WhaciQMJIO1YgjB9Ae9gblaIHIkDnZGlgck4hQINWXypotSBAA15voz8UHUDu5BncTh4cQJeF73NZeBxAIiIiIiLCIEAvPebvtREZQL7lW77lGxpAllfQ+/YTHkAGXLEGXLEeQDeN4jeN4h1AWwWwWgUwIEC/WPKLJb8OQA==",
          "dtype": "f8"
         }
        },
        {
         "line": {
          "color": "#EF553B"
         },
         "mode": "lines+markers",
         "name": "QA Office",
         "showlegend": false,
         "type": "scatter",
         "visible": false,
         "x": [
          "2020-01",
          "2020-02",
          "2020-03",
          "2020-04",
          "2020-05",
          "2020-06",
          "2020-07",
          "2020-08",
          "2020-09",
          "2020-10",
          "2020-11",
          "2020-12",
          "2021-01",
          "2021-02",
          "2021-03",
          "2021-04",
          "2021-05",
          "2021-06",
          "2021-07",
          "2021-08",
          "2021-09",
          "2021-10",
          "2021-11",
          "2021-12",
          "2022-01",
          "2022-02",
          "2022-03",
          "2022-04",
          "2022-05",
          "2022-06",
          "2022-07",
          "2022-08",
          "2022-09",
          "2022-10",
          "2022-11",
          "2022-12",
          "2023-01",
          "2023-02",
          "2023-03",
          "2023-04",
          "2023-05",
          "2023-06",
          "2023-07",
          "2023-08",
          "2023-09",
          "2023-10",
          "2023-11",
          "2023-12",
          "2024-01",
          "2024-02",
          "2024-03",
          "2024-04",
          "2024-05",
          "2024-06",
          "2024-07",
          "2024-08",
          "2024-09",
          "2024-10",
          "2024-11",
          "2024-12",
          "2025-01",
          "2025-02",
          "2025-03",
          "2025-04",
          "2025-05",
          "2025-06",
          "2025-07",
          "2025-08"
         ],
         "y": {
          "bdata": "Xxnb7+iVJ0DFqOFvUywjQKVP+qRPWihAAH1TYQeQMUCEkXasQNgjQMSp33NLnChAPgrXo3CNLUBO13RN13QlQNmQDdmQjSdAhm7ohm6oJ0BstEZrtEYnQCMv8iIvMilAxTZ+WmxjJEBetwrhdSskQDCW/GLJLyVAZmZmZmbOKED5DLsC5F4kQCp4OQUvpwRARVmURVkUCkCESZiESZgKQCuA1SqA1QJAsAVbsAUb/T+UJ1PbpLr+P+QKYnIFMfk/LiPFdrXpA0DclzS3TqIAQDXucAlmpwVAEj+jxM8oBECFFZvHK00FQNXJcKhlT/8/dMkedMke/D8le9Ale9AHQPurv/qrPwVAr+marukaCUDWX/3VX/0JQMZjPMZjvAZAgNxrLiRNCUD0SZ/0SV8MQFuwBVuwJQpA7+7u7u7uCUAAAAAAAEANQDWYFX4qOg9A1GBW+KnoBkBmZmZmZsYNQCd90id9cgtArSRbRYGcCUByHMdxHGcFQFvHmxNKNAJA9Shcj8L1+D9Kn/RJn/QBQGwwTr8G4wBA8koTVmwe/z+2igI5I18CQL703ho2K/U/AkapJo87+z/BFmzBFqz8Py176mQ41Pw/pU/6pE8aDEBmZmZmZoYEQHKHSzA7nQlALEDuNReSB0B1TPBgnqgGQNB6JdB6JQJALYSUJ1PbBEAnw6GWPXUCQGCXVD6M+wFAq5QoZ1DkAEB88MEHH3zyPw==",
          "dtype": "f8"
         }
        },
        {
         "line": {
          "color": "#00CC96"
         },
         "mode": "lines+markers",
         "name": "Development Division (직속)",
         "showlegend": false,
         "type": "scatter",
         "visible": false,
         "x": [
          "2020-01",
          "2020-02",
          "2020-03",
          "2020-04",
          "2020-05",
          "2020-06",
          "2020-07",
          "2020-08",
          "2020-09",
          "2020-10",
          "2020-11",
          "2020-12",
          "2021-01",
          "2021-02",
          "2021-03",
          "2021-04",
          "2021-05",
          "2021-06",
          "2021-07",
          "2021-08",
          "2021-09",
          "2021-10",
          "2021-11",
          "2021-12",
          "2022-01",
          "2022-02",
          "2022-03",
          "2022-04",
          "2022-05",
          "2022-06",
          "2022-07",
          "2022-08",
          "2022-09",
          "2022-10",
          "2022-11",
          "2022-12",
          "2023-01",
          "2023-02",
          "2023-03",
          "2023-04",
          "2023-05",
          "2023-06",
          "2023-07",
          "2023-08",
          "2023-09",
          "2023-10",
          "2023-11",
          "2023-12",
          "2024-01",
          "2024-02",
          "2024-03",
          "2024-04",
          "2024-05",
          "2024-06",
          "2024-07",
          "2024-08",
          "2024-09",
          "2024-10",
          "2024-11",
          "2024-12",
          "2025-01",
          "2025-02",
          "2025-03",
          "2025-04",
          "2025-05",
          "2025-06",
          "2025-07",
          "2025-08"
         ],
         "y": {
          "bdata": "G+i0gU7bMEA20GkDnTYVQEfhehSuBzBAfrHkF0v+KEDGkl8s+cUOQHd3d3d3dyFA/WLJL5Z8KEBKn/RJn7QlQH3SJ33S5ylAhetRuB4FJEDptIFOG2gvQK5H4XoULitAagOdNtBpKEC/WPKLJb8fQLZgC7ZgiydAj8L1KFwPI0DyiyW/WPIdQH3FV3zFVwZARERERETE9T/BCZzACZwEQGy0Rmu0RgFAq6qqqqqq/T8REREREdEGQCIiIiIiYgJAd3d3d3f3C0AiIiIiIiICQJqZmZmZmf0/7+7u7u5uBkCJiIiIiIj6PzMzMzMzswZARERERETE+T8REREREREIQN7d3d3dXQtAREREREQEBkDSGq3RGq3xP2mN1miN1vg/vLu7u7u76T9VVVVVVdUBQCIiIiIiIgtAVVVVVVVVBkARERERERH6P1VVVVVVVQ1AJ33SJ33S+z/yiyW/WPL3P7y7u7u7uw1A6pM+6ZM+A0BbsAVbsAUBQERERERERPo/dVAHdVAH7T+hDuqgDur4P0RERERERPs/RERERETE9z8iIiIiIiLaP5qZmZmZGQFAmpmZmZkZ9z/tJbSX0F7qP6VP+qRP+uw/MzMzMzMz2T/v7u7u7u7WP2ZmZmZmZuk/x3Ecx3EcB0BswRZswRYDQJQ+6ZM+6fM/Uy7lUi7lCECrqqqqqqoOQMEWbMEWbPU/pw102kCn/T/yiyW/WPLbPw==",
          "dtype": "f8"
         }
        },
        {
         "line": {
          "color": "#636EFA"
         },
         "mode": "lines+markers",
         "name": "Engineering Office",
         "showlegend": false,
         "type": "scatter",
         "visible": false,
         "x": [
          "2020-01",
          "2020-02",
          "2020-03",
          "2020-04",
          "2020-05",
          "2020-06",
          "2020-07",
          "2020-08",
          "2020-09",
          "2020-10",
          "2020-11",
          "2020-12",
          "2021-01",
          "2021-02",
          "2021-03",
          "2021-04",
          "2021-05",
          "2021-06",
          "2021-07",
          "2021-08",
          "2021-09",
          "2021-10",
          "2021-11",
          "2021-12",
          "2022-01",
          "2022-02",
          "2022-03",
          "2022-04",
          "2022-05",
          "2022-06",
          "2022-07",
          "2022-08",
          "2022-09",
          "2022-10",
          "2022-11",
          "2022-12",
          "2023-01",
          "2023-02",
          "2023-03",
          "2023-04",
          "2023-05",
          "2023-06",
          "2023-07",
          "2023-08",
          "2023-09",
          "2023-10",
          "2023-11",
          "2023-12",
          "2024-01",
          "2024-02",
          "2024-03",
          "2024-04",
          "2024-05",
          "2024-06",
          "2024-07",
          "2024-08",
          "2024-09",
          "2024-10",
          "2024-11",
          "2024-12",
          "2025-01",
          "2025-02",
          "2025-03",
          "2025-04",
          "2025-05",
          "2025-06",
          "2025-07",
          "2025-08"
         ],
         "y": {
          "bdata": "MvB0a37oQ8ApA0+35mdAwANCyZ2i5ULAZA+6ZA/6Q8BnZ2dnZ8dBwFtaWlpaOkTAQfWMXbzORcBa58oDkpVDwODp1vywuEPANeCKNeAqQ8Cq8dJNYvBDwGfYFSD3+kbAKfQdls/UQsDjK77iKx5DwEOCtowU+0TAv8PymXqAQ8AviKfBrJBDwP6FT2UpzkXAO1KvI/VCRsDaZJNNNglHwAyg3sdbekbABlDv4y1NRcDv4y3NwQtGwJfQXkJ7KUfA+R7TajuaCUAGOm2g0wYKQKyYtIpJqwhA53me53leAkB1SKLuVYcGQCD7sR/7sQVArgtPyNW6BEABCtUSoFAEQLLmqBtrjgVA6ez5IJb1B0AcdLtWTngEQPDNq4lnxQNAwm8l/FbCBUCxjwv7uLAAQI9t6diWjgZAR8U+q/DAAUBgLPnFkt8IQAvXo3A9Cv0/TeTwsezG/z+1gU4b6DQHQNkh/5ZetQVAZdKwWBF2BECp7DB1uX0HQPZ8EMv6iQVAVHaYutx+DEDtMHW5/UEFQIa2RfP7FQhAbtu2bdu2DkDfD61y5/0MQEGx0JEPFAlARgyBl2rECEBncDt5BrcNQDbGpuVnYwpAq6qqqqoKEUARNJzUfXkKQDmBEziB0wxA/3qV9q9XAkAjLPc0wnICQM3MzMzMjAhAYhiGYRgGAED7mKuPufoEQOtceUCyzgNAX+iFXugFAkAhISEhISHxPw==",
          "dtype": "f8"
         }
        },
        {
         "line": {
          "color": "#EF553B"
         },
         "mode": "lines+markers",
         "name": "Production Office",
         "showlegend": false,
         "type": "scatter",
         "visible": false,
         "x": [
          "2020-01",
          "2020-02",
          "2020-03",
          "2020-04",
          "2020-05",
          "2020-06",
          "2020-07",
          "2020-08",
          "2020-09",
          "2020-10",
          "2020-11",
          "2020-12",
          "2021-01",
          "2021-02",
          "2021-03",
          "2021-04",
          "2021-05",
          "2021-06",
          "2021-07",
          "2021-08",
          "2021-09",
          "2021-10",
          "2021-11",
          "2021-12",
          "2022-01",
          "2022-02",
          "2022-03",
          "2022-04",
          "2022-05",
          "2022-06",
          "2022-07",
          "2022-08",
          "2022-09",
          "2022-10",
          "2022-11",
          "2022-12",
          "2023-01",
          "2023-02",
          "2023-03",
          "2023-04",
          "2023-05",
          "2023-06",
          "2023-07",
          "2023-08",
          "2023-09",
          "2023-10",
          "2023-11",
          "2023-12",
          "2024-01",
          "2024-02",
          "2024-03",
          "2024-04",
          "2024-05",
          "2024-06",
          "2024-07",
          "2024-08",
          "2024-09",
          "2024-10",
          "2024-11",
          "2024-12",
          "2025-01",
          "2025-02",
          "2025-03",
          "2025-04",
          "2025-05",
          "2025-06",
          "2025-07",
          "2025-08"
         ],
         "y": {
          "bdata": "iZsn35EhRMAMZ0AouVNCwGJvVIoelkLAAAAAAADYQsCUS7mUS8VBwF7/vEE420PAy2TFgRcVRMA5h3M4hzNEwEMv9EIvlETAx2V4XIYnRMCy2xy7zTFCwL9h7RvWnkPAMI0B0xiwQsAJFoFgEYhBwEZrtEZrvETAf7+CzKkBQ8DM7Q8yVC5DwOto8z7FRUXAXFdKI66uRcAV2CH/lp5FwJ0sDUzOaUbA63L7gwyNRMAbCfjm1YRFwA8/znuE3kbA9mM/9mP/AUB/7Md+7Ef+P2ZmZmZm5gRA7D/C/iPsAUBGBWdUcEYDQGZvYfYWZgdAprOYzmI6B0B6nud5nqcEQImIiIiIiAJAtv5LfFolBEB6337CLK8IQOBF5SiTFQVAVVVVVVXVB0A6nMM5nEMDQLefMMsr6AlAjLRjBcJIAUCgy8L3uSwKQJJRjkRnzwlAoQ7qoA5qCEBO4ARO4AQKQERERERERAlA8FeQOTUoB0CBb15NPCsFQNejcD0KVwJAYuBqtjyd9j+ffSXeQkv9PzX2MAvIFwFAUrgehetRAEBmZmZmZj4DQGvu/Ts0Ffk/Ju0xrEy/BUDClJgt4TwFQNmL59+1TgdA8fDw8PDwB0Btsskmm2wGQAAAAAAAgA1Anh+VScNiB0DWufKAZJ0BQFVVVVVV7QZAd3d3d3cfDEAAAAAAADAFQJxdZYQA8QJA9e14KCGsB0AkJCQkJCT0Pw==",
          "dtype": "f8"
         }
        },
        {
         "line": {
          "color": "#00CC96"
         },
         "mode": "lines+markers",
         "name": "Operating Division (직속)",
         "showlegend": false,
         "type": "scatter",
         "visible": false,
         "x": [
          "2020-01",
          "2020-02",
          "2020-03",
          "2020-04",
          "2020-05",
          "2020-06",
          "2020-07",
          "2020-08",
          "2020-09",
          "2020-10",
          "2020-11",
          "2020-12",
          "2021-01",
          "2021-02",
          "2021-03",
          "2021-04",
          "2021-05",
          "2021-06",
          "2021-07",
          "2021-08",
          "2021-09",
          "2021-10",
          "2021-11",
          "2021-12",
          "2022-01",
          "2022-02",
          "2022-03",
          "2022-04",
          "2022-05",
          "2022-06",
          "2022-07",
          "2022-08",
          "2022-09",
          "2022-10",
          "2022-11",
          "2022-12",
          "2023-01",
          "2023-02",
          "2023-03",
          "2023-04",
          "2023-05",
          "2023-06",
          "2023-07",
          "2023-08",
          "2023-09",
          "2023-10",
          "2023-11",
          "2023-12",
          "2024-01",
          "2024-02",
          "2024-03",
          "2024-04",
          "2024-05",
          "2024-06",
          "2024-07",
          "2024-08",
          "2024-09",
          "2024-10",
          "2024-11",
          "2024-12",
          "2025-01",
          "2025-02",
          "2025-03",
          "2025-04",
          "2025-05",
          "2025-06",
          "2025-07",
          "2025-08"
         ],
         "y": {
          "bdata": "F0t+seQXRsAiIiIiItJAwN7d3d3djUHAd3d3d3fHRMDe3d3d3Y1DwI7jOI7jmD7AAAAAAABAQsCF61G4HkVEwLy7u7u7W0XAd3d3d3dXRMBERERERPRAwGzBFmzBBkfAvLu7u7s7QsDqkz7pk85CwPEVX/EVX0PAsh/7sR/bRcC+4iu+4otGwHVQB3VQp0XAUAd1UAf1RcB3d3d3d+NCwN7d3d3d1UXAUAd1UAcVRsDHfuzHfqxFwD3P8zzP00TAERERERERBUDv7u7u7u7zP7y7u7u7O/8/VVVVVVXVBUDv7u7u7u4SQM3MzMzMDAtAIiIiIiJiAEBEREREREQFQFVVVVVVlQxAmpmZmZnZAkDv7u7u7u4GQNRBHdRBHQpA6pM+6ZM+C0AFW7AFW7D9P5Q+6ZM+6QFAB3VQB3VQ+z8FTuAETuAGQMd+7Md+7AdAhr9NMWr4+z9mZmZmZmYGQMdxHMdxHPM/7+7u7u7u5j8iIiIiIuIAQO/u7u7ubgNAd3d3d3f3BECJiIiIiIgHQImIiIiISAJA7+7u7u6uBkAOdNpApw30P5qZmZmZmek/NAZMY8A07j9R3ArFrVAEQHsdqdeReglAnTbQaQMdEUAwlvxiya8RQLy7u7u7uwVAREREREREA0AIH3zwwQcBQEGeEuQpQQBAexSuR+F6FEDGkl8s+cUZQJQ+6ZM+6RFAzczMzMzMCkAAAAAAAAD2Pw==",
          "dtype": "f8"
         }
        }
       ],
       "layout": {
        "annotations": [
         {
          "align": "left",
          "showarrow": false,
          "text": "조직 선택:",
          "x": 0,
          "y": 1.08,
          "yref": "paper"
         }
        ],
        "font": {
         "size": 14
        },
        "height": 700,
        "legend": {
         "title": {
          "text": "조직"
         }
        },
        "template": {
         "data": {
          "bar": [
           {
            "error_x": {
             "color": "#2a3f5f"
            },
            "error_y": {
             "color": "#2a3f5f"
            },
            "marker": {
             "line": {
              "color": "#E5ECF6",
              "width": 0.5
             },
             "pattern": {
              "fillmode": "overlay",
              "size": 10,
              "solidity": 0.2
             }
            },
            "type": "bar"
           }
          ],
          "barpolar": [
           {
            "marker": {
             "line": {
              "color": "#E5ECF6",
              "width": 0.5
             },
             "pattern": {
              "fillmode": "overlay",
              "size": 10,
              "solidity": 0.2
             }
            },
            "type": "barpolar"
           }
          ],
          "carpet": [
           {
            "aaxis": {
             "endlinecolor": "#2a3f5f",
             "gridcolor": "white",
             "linecolor": "white",
             "minorgridcolor": "white",
             "startlinecolor": "#2a3f5f"
            },
            "baxis": {
             "endlinecolor": "#2a3f5f",
             "gridcolor": "white",
             "linecolor": "white",
             "minorgridcolor": "white",
             "startlinecolor": "#2a3f5f"
            },
            "type": "carpet"
           }
          ],
          "choropleth": [
           {
            "colorbar": {
             "outlinewidth": 0,
             "ticks": ""
            },
            "type": "choropleth"
           }
          ],
          "contour": [
           {
            "colorbar": {
             "outlinewidth": 0,
             "ticks": ""
            },
            "colorscale": [
             [
              0,
              "#0d0887"
             ],
             [
              0.1111111111111111,
              "#46039f"
             ],
             [
              0.2222222222222222,
              "#7201a8"
             ],
             [
              0.3333333333333333,
              "#9c179e"
             ],
             [
              0.4444444444444444,
              "#bd3786"
             ],
             [
              0.5555555555555556,
              "#d8576b"
             ],
             [
              0.6666666666666666,
              "#ed7953"
             ],
             [
              0.7777777777777778,
              "#fb9f3a"
             ],
             [
              0.8888888888888888,
              "#fdca26"
             ],
             [
              1,
              "#f0f921"
             ]
            ],
            "type": "contour"
           }
          ],
          "contourcarpet": [
           {
            "colorbar": {
             "outlinewidth": 0,
             "ticks": ""
            },
            "type": "contourcarpet"
           }
          ],
          "heatmap": [
           {
            "colorbar": {
             "outlinewidth": 0,
             "ticks": ""
            },
            "colorscale": [
             [
              0,
              "#0d0887"
             ],
             [
              0.1111111111111111,
              "#46039f"
             ],
             [
              0.2222222222222222,
              "#7201a8"
             ],
             [
              0.3333333333333333,
              "#9c179e"
             ],
             [
              0.4444444444444444,
              "#bd3786"
             ],
             [
              0.5555555555555556,
              "#d8576b"
             ],
             [
              0.6666666666666666,
              "#ed7953"
             ],
             [
              0.7777777777777778,
              "#fb9f3a"
             ],
             [
              0.8888888888888888,
              "#fdca26"
             ],
             [
              1,
              "#f0f921"
             ]
            ],
            "type": "heatmap"
           }
          ],
          "histogram": [
           {
            "marker": {
             "pattern": {
              "fillmode": "overlay",
              "size": 10,
              "solidity": 0.2
             }
            },
            "type": "histogram"
           }
          ],
          "histogram2d": [
           {
            "colorbar": {
             "outlinewidth": 0,
             "ticks": ""
            },
            "colorscale": [
             [
              0,
              "#0d0887"
             ],
             [
              0.1111111111111111,
              "#46039f"
             ],
             [
              0.2222222222222222,
              "#7201a8"
             ],
             [
              0.3333333333333333,
              "#9c179e"
             ],
             [
              0.4444444444444444,
              "#bd3786"
             ],
             [
              0.5555555555555556,
              "#d8576b"
             ],
             [
              0.6666666666666666,
              "#ed7953"
             ],
             [
              0.7777777777777778,
              "#fb9f3a"
             ],
             [
              0.8888888888888888,
              "#fdca26"
             ],
             [
              1,
              "#f0f921"
             ]
            ],
            "type": "histogram2d"
           }
          ],
          "histogram2dcontour": [
           {
            "colorbar": {
             "outlinewidth": 0,
             "ticks": ""
            },
            "colorscale": [
             [
              0,
              "#0d0887"
             ],
             [
              0.1111111111111111,
              "#46039f"
             ],
             [
              0.2222222222222222,
              "#7201a8"
             ],
             [
              0.3333333333333333,
              "#9c179e"
             ],
             [
              0.4444444444444444,
              "#bd3786"
             ],
             [
              0.5555555555555556,
              "#d8576b"
             ],
             [
              0.6666666666666666,
              "#ed7953"
             ],
             [
              0.7777777777777778,
              "#fb9f3a"
             ],
             [
              0.8888888888888888,
              "#fdca26"
             ],
             [
              1,
              "#f0f921"
             ]
            ],
            "type": "histogram2dcontour"
           }
          ],
          "mesh3d": [
           {
            "colorbar": {
             "outlinewidth": 0,
             "ticks": ""
            },
            "type": "mesh3d"
           }
          ],
          "parcoords": [
           {
            "line": {
             "colorbar": {
              "outlinewidth": 0,
              "ticks": ""
             }
            },
            "type": "parcoords"
           }
          ],
          "pie": [
           {
            "automargin": true,
            "type": "pie"
           }
          ],
          "scatter": [
           {
            "fillpattern": {
             "fillmode": "overlay",
             "size": 10,
             "solidity": 0.2
            },
            "type": "scatter"
           }
          ],
          "scatter3d": [
           {
            "line": {
             "colorbar": {
              "outlinewidth": 0,
              "ticks": ""
             }
            },
            "marker": {
             "colorbar": {
              "outlinewidth": 0,
              "ticks": ""
             }
            },
            "type": "scatter3d"
           }
          ],
          "scattercarpet": [
           {
            "marker": {
             "colorbar": {
              "outlinewidth": 0,
              "ticks": ""
             }
            },
            "type": "scattercarpet"
           }
          ],
          "scattergeo": [
           {
            "marker": {
             "colorbar": {
              "outlinewidth": 0,
              "ticks": ""
             }
            },
            "type": "scattergeo"
           }
          ],
          "scattergl": [
           {
            "marker": {
             "colorbar": {
              "outlinewidth": 0,
              "ticks": ""
             }
            },
            "type": "scattergl"
           }
          ],
          "scattermap": [
           {
            "marker": {
             "colorbar": {
              "outlinewidth": 0,
              "ticks": ""
             }
            },
            "type": "scattermap"
           }
          ],
          "scattermapbox": [
           {
            "marker": {
             "colorbar": {
              "outlinewidth": 0,
              "ticks": ""
             }
            },
            "type": "scattermapbox"
           }
          ],
          "scatterpolar": [
           {
            "marker": {
             "colorbar": {
              "outlinewidth": 0,
              "ticks": ""
             }
            },
            "type": "scatterpolar"
           }
          ],
          "scatterpolargl": [
           {
            "marker": {
             "colorbar": {
              "outlinewidth": 0,
              "ticks": ""
             }
            },
            "type": "scatterpolargl"
           }
          ],
          "scatterternary": [
           {
            "marker": {
             "colorbar": {
              "outlinewidth": 0,
              "ticks": ""
             }
            },
            "type": "scatterternary"
           }
          ],
          "surface": [
           {
            "colorbar": {
             "outlinewidth": 0,
             "ticks": ""
            },
            "colorscale": [
             [
              0,
              "#0d0887"
             ],
             [
              0.1111111111111111,
              "#46039f"
             ],
             [
              0.2222222222222222,
              "#7201a8"
             ],
             [
              0.3333333333333333,
              "#9c179e"
             ],
             [
              0.4444444444444444,
              "#bd3786"
             ],
             [
              0.5555555555555556,
              "#d8576b"
             ],
             [
              0.6666666666666666,
              "#ed7953"
             ],
             [
              0.7777777777777778,
              "#fb9f3a"
             ],
             [
              0.8888888888888888,
              "#fdca26"
             ],
             [
              1,
              "#f0f921"
             ]
            ],
            "type": "surface"
           }
          ],
          "table": [
           {
            "cells": {
             "fill": {
              "color": "#EBF0F8"
             },
             "line": {
              "color": "white"
             }
            },
            "header": {
             "fill": {
              "color": "#C8D4E3"
             },
             "line": {
              "color": "white"
             }
            },
            "type": "table"
           }
          ]
         },
         "layout": {
          "annotationdefaults": {
           "arrowcolor": "#2a3f5f",
           "arrowhead": 0,
           "arrowwidth": 1
          },
          "autotypenumbers": "strict",
          "coloraxis": {
           "colorbar": {
            "outlinewidth": 0,
            "ticks": ""
           }
          },
          "colorscale": {
           "diverging": [
            [
             0,
             "#8e0152"
            ],
            [
             0.1,
             "#c51b7d"
            ],
            [
             0.2,
             "#de77ae"
            ],
            [
             0.3,
             "#f1b6da"
            ],
            [
             0.4,
             "#fde0ef"
            ],
            [
             0.5,
             "#f7f7f7"
            ],
            [
             0.6,
             "#e6f5d0"
            ],
            [
             0.7,
             "#b8e186"
            ],
            [
             0.8,
             "#7fbc41"
            ],
            [
             0.9,
             "#4d9221"
            ],
            [
             1,
             "#276419"
            ]
           ],
           "sequential": [
            [
             0,
             "#0d0887"
            ],
            [
             0.1111111111111111,
             "#46039f"
            ],
            [
             0.2222222222222222,
             "#7201a8"
            ],
            [
             0.3333333333333333,
             "#9c179e"
            ],
            [
             0.4444444444444444,
             "#bd3786"
            ],
            [
             0.5555555555555556,
             "#d8576b"
            ],
            [
             0.6666666666666666,
             "#ed7953"
            ],
            [
             0.7777777777777778,
             "#fb9f3a"
            ],
            [
             0.8888888888888888,
             "#fdca26"
            ],
            [
             1,
             "#f0f921"
            ]
           ],
           "sequentialminus": [
            [
             0,
             "#0d0887"
            ],
            [
             0.1111111111111111,
             "#46039f"
            ],
            [
             0.2222222222222222,
             "#7201a8"
            ],
            [
             0.3333333333333333,
             "#9c179e"
            ],
            [
             0.4444444444444444,
             "#bd3786"
            ],
            [
             0.5555555555555556,
             "#d8576b"
            ],
            [
             0.6666666666666666,
             "#ed7953"
            ],
            [
             0.7777777777777778,
             "#fb9f3a"
            ],
            [
             0.8888888888888888,
             "#fdca26"
            ],
            [
             1,
             "#f0f921"
            ]
           ]
          },
          "colorway": [
           "#636efa",
           "#EF553B",
           "#00cc96",
           "#ab63fa",
           "#FFA15A",
           "#19d3f3",
           "#FF6692",
           "#B6E880",
           "#FF97FF",
           "#FECB52"
          ],
          "font": {
           "color": "#2a3f5f"
          },
          "geo": {
           "bgcolor": "white",
           "lakecolor": "white",
           "landcolor": "#E5ECF6",
           "showlakes": true,
           "showland": true,
           "subunitcolor": "white"
          },
          "hoverlabel": {
           "align": "left"
          },
          "hovermode": "closest",
          "mapbox": {
           "style": "light"
          },
          "paper_bgcolor": "white",
          "plot_bgcolor": "#E5ECF6",
          "polar": {
           "angularaxis": {
            "gridcolor": "white",
            "linecolor": "white",
            "ticks": ""
           },
           "bgcolor": "#E5ECF6",
           "radialaxis": {
            "gridcolor": "white",
            "linecolor": "white",
            "ticks": ""
           }
          },
          "scene": {
           "xaxis": {
            "backgroundcolor": "#E5ECF6",
            "gridcolor": "white",
            "gridwidth": 2,
            "linecolor": "white",
            "showbackground": true,
            "ticks": "",
            "zerolinecolor": "white"
           },
           "yaxis": {
            "backgroundcolor": "#E5ECF6",
            "gridcolor": "white",
            "gridwidth": 2,
            "linecolor": "white",
            "showbackground": true,
            "ticks": "",
            "zerolinecolor": "white"
           },
           "zaxis": {
            "backgroundcolor": "#E5ECF6",
            "gridcolor": "white",
            "gridwidth": 2,
            "linecolor": "white",
            "showbackground": true,
            "ticks": "",
            "zerolinecolor": "white"
           }
          },
          "shapedefaults": {
           "line": {
            "color": "#2a3f5f"
           }
          },
          "ternary": {
           "aaxis": {
            "gridcolor": "white",
            "linecolor": "white",
            "ticks": ""
           },
           "baxis": {
            "gridcolor": "white",
            "linecolor": "white",
            "ticks": ""
           },
           "bgcolor": "#E5ECF6",
           "caxis": {
            "gridcolor": "white",
            "linecolor": "white",
            "ticks": ""
           }
          },
          "title": {
           "x": 0.05
          },
          "xaxis": {
           "automargin": true,
           "gridcolor": "white",
           "linecolor": "white",
           "ticks": "",
           "title": {
            "standoff": 15
           },
           "zerolinecolor": "white",
           "zerolinewidth": 2
          },
          "yaxis": {
           "automargin": true,
           "gridcolor": "white",
           "linecolor": "white",
           "ticks": "",
           "title": {
            "standoff": 15
           },
           "zerolinecolor": "white",
           "zerolinewidth": 2
          }
         }
        },
        "title": {
         "text": "조직별 월 평균 1인당 초과근무 시간 드릴다운 분석"
        },
        "updatemenus": [
         {
          "active": 0,
          "buttons": [
           {
            "args": [
             {
              "visible": [
               true,
               true,
               true,
               true,
               false,
               false,
               false,
               false,
               false,
               false,
               false,
               false,
               false,
               false,
               false,
               false,
               false
              ]
             },
             {
              "showlegend": true,
              "title": "전체 Division별 월 평균 초과근무 시간 추이"
             }
            ],
            "label": "전체",
            "method": "update"
           },
           {
            "args": [
             {
              "visible": [
               false,
               false,
               false,
               false,
               true,
               true,
               true,
               false,
               false,
               false,
               false,
               false,
               false,
               false,
               false,
               false,
               false
              ]
             },
             {
              "showlegend": false,
              "title": "Planning Division 내 Office별 월 평균 초과근무 시간 추이"
             }
            ],
            "label": "Planning Division",
            "method": "update"
           },
           {
            "args": [
             {
              "visible": [
               false,
               false,
               false,
               false,
               false,
               false,
               false,
               true,
               true,
               true,
               true,
               false,
               false,
               false,
               false,
               false,
               false
              ]
             },
             {
              "showlegend": false,
              "title": "Sales Division 내 Office별 월 평균 초과근무 시간 추이"
             }
            ],
            "label": "Sales Division",
            "method": "update"
           },
           {
            "args": [
             {
              "visible": [
               false,
               false,
               false,
               false,
               false,
               false,
               false,
               false,
               false,
               false,
               false,
               true,
               true,
               true,
               false,
               false,
               false
              ]
             },
             {
              "showlegend": false,
              "title": "Development Division 내 Office별 월 평균 초과근무 시간 추이"
             }
            ],
            "label": "Development Division",
            "method": "update"
           },
           {
            "args": [
             {
              "visible": [
               false,
               false,
               false,
               false,
               false,
               false,
               false,
               false,
               false,
               false,
               false,
               false,
               false,
               false,
               true,
               true,
               true
              ]
             },
             {
              "showlegend": false,
              "title": "Operating Division 내 Office별 월 평균 초과근무 시간 추이"
             }
            ],
            "label": "Operating Division",
            "method": "update"
           }
          ],
          "direction": "down",
          "pad": {
           "r": 10,
           "t": 10
          },
          "showactive": true,
          "x": 0.01,
          "xanchor": "left",
          "y": 1.1,
          "yanchor": "top"
         }
        ],
        "xaxis": {
         "range": [
          "2019-12",
          "2026-01"
         ],
         "title": {
          "text": "월(YYYY-MM)"
         }
        },
        "yaxis": {
         "range": [
          -53.07981481481481,
          27.989074074074075
         ],
         "title": {
          "text": "1인당 평균 초과근무 (시간)"
         }
        }
       }
      }
     },
     "metadata": {},
     "output_type": "display_data"
    }
   ],
   "source": [
    "import pandas as pd\n",
    "import numpy as np\n",
    "import plotly.graph_objects as go\n",
    "import plotly.io as pio\n",
    "import plotly.express as px\n",
    "import datetime\n",
    "\n",
    "# --- 1. 데이터 임포트 ---\n",
    "from services.tables.Time_Attendance.daily_working_info_table import daily_work_info_df\n",
    "from services.tables.HR_Core.department_info_table import department_info_df\n",
    "from services.tables.HR_Core.department_table import (\n",
    "    dept_level_map, parent_map_dept, dept_name_map,\n",
    "    division_order, office_order\n",
    ")\n",
    "from services.helpers.utils import find_parents\n",
    "\n",
    "def create_figure():\n",
    "    \"\"\"\n",
    "    제안 13: 조직 워라밸 변화 추이 그래프를 생성합니다.\n",
    "    \"\"\"\n",
    "    # --- 2. 데이터 준비 및 가공 ---\n",
    "    daily_work_df = daily_work_info_df.copy()\n",
    "    daily_work_df['DATE'] = pd.to_datetime(daily_work_df['DATE'])\n",
    "    daily_work_df['PAY_PERIOD'] = daily_work_df['DATE'].dt.strftime('%Y-%m')\n",
    "\n",
    "    dept_info_sorted = department_info_df.sort_values(['DEP_APP_START_DATE', 'EMP_ID'])\n",
    "    analysis_df = daily_work_df.sort_values(['DATE', 'EMP_ID'])\n",
    "    analysis_df = pd.merge_asof(\n",
    "        analysis_df, dept_info_sorted[['EMP_ID', 'DEP_APP_START_DATE', 'DEP_ID']],\n",
    "        left_on='DATE', right_on='DEP_APP_START_DATE', by='EMP_ID', direction='backward'\n",
    "    )\n",
    "    \n",
    "    parent_info = analysis_df['DEP_ID'].apply(lambda x: find_parents(x, dept_level_map, parent_map_dept, dept_name_map))\n",
    "    analysis_df = pd.concat([analysis_df, parent_info], axis=1)\n",
    "    analysis_df['OFFICE_NAME'] = analysis_df['OFFICE_NAME'].fillna('(Division 직속)')\n",
    "    analysis_df = analysis_df.dropna(subset=['DIVISION_NAME', 'OFFICE_NAME'])\n",
    "\n",
    "    analysis_df['DIVISION_NAME'] = pd.Categorical(analysis_df['DIVISION_NAME'], categories=division_order, ordered=True)\n",
    "    analysis_df = analysis_df.sort_values('DIVISION_NAME')\n",
    "\n",
    "    # --- 3. 계층별 데이터 집계 ---\n",
    "    div_monthly_summary = analysis_df.groupby(['DIVISION_NAME', 'PAY_PERIOD'], observed=True).agg(\n",
    "        TOTAL_OVERTIME_MINUTES=('OVERTIME_MINUTES', 'sum'), HEADCOUNT=('EMP_ID', 'nunique')\n",
    "    ).reset_index()\n",
    "    div_monthly_summary['AVG_OVERTIME_PER_PERSON'] = (div_monthly_summary['TOTAL_OVERTIME_MINUTES'] / div_monthly_summary['HEADCOUNT']) / 60\n",
    "\n",
    "    office_monthly_summary = analysis_df.groupby(['DIVISION_NAME', 'OFFICE_NAME', 'PAY_PERIOD'], observed=True).agg(\n",
    "        TOTAL_OVERTIME_MINUTES=('OVERTIME_MINUTES', 'sum'), HEADCOUNT=('EMP_ID', 'nunique')\n",
    "    ).reset_index()\n",
    "    office_monthly_summary['AVG_OVERTIME_PER_PERSON'] = (office_monthly_summary['TOTAL_OVERTIME_MINUTES'] / office_monthly_summary['HEADCOUNT']) / 60\n",
    "\n",
    "    # y축 범위 미리 계산\n",
    "    all_overtime_values = pd.concat([div_monthly_summary['AVG_OVERTIME_PER_PERSON'], office_monthly_summary['AVG_OVERTIME_PER_PERSON']])\n",
    "    y_min, y_max = all_overtime_values.min(), all_overtime_values.max()\n",
    "    y_padding = (y_max - y_min) * 0.1\n",
    "    fixed_y_range = [y_min - y_padding, y_max + y_padding]\n",
    "\n",
    "    # --- 4. Plotly 인터랙티브 그래프 생성 ---\n",
    "    fig = go.Figure()\n",
    "    colors = px.colors.qualitative.Plotly\n",
    "\n",
    "    # 1. Division 레벨 트레이스 추가\n",
    "    for i, div_name in enumerate(division_order):\n",
    "        df_filtered = div_monthly_summary[div_monthly_summary['DIVISION_NAME'] == div_name]\n",
    "        if not df_filtered.empty:\n",
    "            fig.add_trace(go.Scatter(\n",
    "                x=df_filtered['PAY_PERIOD'], y=df_filtered['AVG_OVERTIME_PER_PERSON'],\n",
    "                mode='lines+markers', name=div_name, line=dict(color=colors[i])\n",
    "            ))\n",
    "\n",
    "    # 2. Office 레벨 트레이스 추가\n",
    "    office_traces_map = {}\n",
    "    trace_idx_counter = len(fig.data)\n",
    "    for div_name in division_order:\n",
    "        office_df = office_monthly_summary[office_monthly_summary['DIVISION_NAME'] == div_name]\n",
    "        sorted_offices = [o for o in office_order if o in office_df['OFFICE_NAME'].unique()]\n",
    "        office_traces_map[div_name] = []\n",
    "        for j, office_name in enumerate(sorted_offices):\n",
    "            df_filtered = office_df[office_df['OFFICE_NAME'] == office_name]\n",
    "            if not df_filtered.empty:\n",
    "                fig.add_trace(go.Scatter(\n",
    "                    x=df_filtered['PAY_PERIOD'], y=df_filtered['AVG_OVERTIME_PER_PERSON'],\n",
    "                    mode='lines+markers', name=office_name, visible=False,\n",
    "                    line=dict(color=colors[j % len(colors)]),\n",
    "                    showlegend=False\n",
    "                ))\n",
    "                office_traces_map[div_name].append(trace_idx_counter)\n",
    "                trace_idx_counter += 1\n",
    "\n",
    "    # 3. 드롭다운 메뉴 버튼 생성\n",
    "    buttons = []\n",
    "    num_div_traces = len(division_order)\n",
    "    buttons.append(dict(label='전체', method='update',\n",
    "                        args=[{'visible': [True]*num_div_traces + [False]*(len(fig.data) - num_div_traces)},\n",
    "                              {'title': '전체 Division별 월 평균 초과근무 시간 추이', 'showlegend': True}]))\n",
    "    for div_name in division_order:\n",
    "        visibility_mask = [False] * len(fig.data)\n",
    "        for trace_idx in office_traces_map.get(div_name, []):\n",
    "            visibility_mask[trace_idx] = True\n",
    "        buttons.append(dict(label=f'{div_name}', method='update',\n",
    "                            args=[{'visible': visibility_mask},\n",
    "                                  {'title': f'{div_name} 내 Office별 월 평균 초과근무 시간 추이', 'showlegend': False}]))\n",
    "\n",
    "    # --- 4. 레이아웃 업데이트 ---\n",
    "    fig.update_layout(\n",
    "        updatemenus=[dict(\n",
    "            active=0, buttons=buttons, direction=\"down\",\n",
    "            pad={\"r\": 10, \"t\": 10}, showactive=True,\n",
    "            x=0.01, xanchor=\"left\", y=1.1, yanchor=\"top\"\n",
    "        )],\n",
    "        title_text='조직별 월 평균 1인당 초과근무 시간 드릴다운 분석',\n",
    "        xaxis_title='월(YYYY-MM)', yaxis_title='1인당 평균 초과근무 (시간)',\n",
    "        font_size=14, height=700,\n",
    "        legend_title_text='조직',\n",
    "        annotations=[dict(text=\"조직 선택:\", showarrow=False, x=0, y=1.08, yref=\"paper\", align=\"left\")],\n",
    "        xaxis_range=['2019-12', '2026-01'],\n",
    "        yaxis_range=fixed_y_range\n",
    "    )\n",
    "    \n",
    "    return fig\n",
    "\n",
    "\n",
    "\n",
    "    pio.renderers.default = 'vscode'\n",
    "    fig = create_figure()\n",
    "    fig.show()"
   ]
  },
  {
   "cell_type": "code",
   "execution_count": null,
   "id": "aab9e059",
   "metadata": {},
   "outputs": [],
   "source": []
  }
 ],
 "metadata": {
  "kernelspec": {
   "display_name": "Python 3 (ipykernel)",
   "language": "python",
   "name": "python3"
  },
  "language_info": {
   "codemirror_mode": {
    "name": "ipython",
    "version": 3
   },
   "file_extension": ".py",
   "mimetype": "text/x-python",
   "name": "python",
   "nbconvert_exporter": "python",
   "pygments_lexer": "ipython3",
   "version": "3.12.11"
  }
 },
 "nbformat": 4,
 "nbformat_minor": 5
}
