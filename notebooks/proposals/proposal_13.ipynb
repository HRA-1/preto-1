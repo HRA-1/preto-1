{
 "cells": [
  {
   "cell_type": "code",
   "execution_count": 4,
   "id": "aab9e059",
   "metadata": {},
   "outputs": [
    {
     "data": {
      "application/vnd.plotly.v1+json": {
       "config": {
        "plotlyServerURL": "https://plot.ly"
       },
       "data": [
        {
         "legendgroup": "divisions",
         "line": {
          "color": "#636EFA"
         },
         "mode": "lines+markers",
         "name": "Planning Division",
         "type": "scatter",
         "x": [
          "2020-01",
          "2020-02",
          "2020-03",
          "2020-04",
          "2020-05",
          "2020-06",
          "2020-07",
          "2020-08",
          "2020-09",
          "2020-10",
          "2020-11",
          "2020-12",
          "2021-01",
          "2021-02",
          "2021-03",
          "2021-04",
          "2021-05",
          "2021-06",
          "2021-07",
          "2021-08",
          "2021-09",
          "2021-10",
          "2021-11",
          "2021-12",
          "2022-01",
          "2022-02",
          "2022-03",
          "2022-04",
          "2022-05",
          "2022-06",
          "2022-07",
          "2022-08",
          "2022-09",
          "2022-10",
          "2022-11",
          "2022-12",
          "2023-01",
          "2023-02",
          "2023-03",
          "2023-04",
          "2023-05",
          "2023-06",
          "2023-07",
          "2023-08",
          "2023-09",
          "2023-10",
          "2023-11",
          "2023-12",
          "2024-01",
          "2024-02",
          "2024-03",
          "2024-04",
          "2024-05",
          "2024-06",
          "2024-07",
          "2024-08",
          "2024-09",
          "2024-10",
          "2024-11",
          "2024-12",
          "2025-01",
          "2025-02",
          "2025-03",
          "2025-04",
          "2025-05",
          "2025-06",
          "2025-07",
          "2025-08"
         ],
         "y": {
          "bdata": "2m5QbL0dF0D+1HjpJjEUQCscJspcUBZAk9TCvZf6FUBJ8NYYBwIUQASNBkKF5xRAJXvQJXtQF0AsOIX8rIwUQPJQQli3qBNAJhhvZZ9DFEAi5z67gNgUQHqe53me5xZApBbuvdT/FEBrpVZqpRYWQPwn5sj0shhAkzAJkzBJGEBljKQTeZgTQIRSm2A9KBlAcGiXs/eGGEAREREREREYQPQ8z/M8jxdAzzsM8bzDFEB3+iMWcKcVQKN5OJqHoxZAoCYZNP5pFEDAmToEnKkSQMluIruJbBVA8V2TC5raEkCLw2xoW7QUQAZpkAZpkBZA0W+2Dv1mFkD8X6pQtf8XQM7Wod9sXRhAAAAAAACAFkBd43YxYfAVQDCoLYX9ghhAzO0PMlT2GEDJt/9NQfcVQHec5Xec5RpAYCz5xZL/FECg6Xug6XsbQOHcbkK/bBpA/5CfuqNUF0D/IT91R6kXQJF4FYlXURVA7BjklsOOFUAbllOyYTkXQMJpPSec1hVApPHE+UaaFUD9elpS0K8UQK5Wq9VqtRNAWStgrYA1FUCQrHPlAUkVQAAAAAAAchNATI3svNTIFkAA0dyZanYUQIm3q+4dEhZAOdc8gaDwGEBhGIZhGIYUQPdyNdSErBVA97/bzVQRFkCQlRQqUfUUQCIiIiIiohRAYS+ef9c6FUBN9ZFvMuIVQOSjLkKUhhdAyi+W/GLJEkAM+7iwjwsLQA==",
          "dtype": "f8"
         }
        },
        {
         "legendgroup": "divisions",
         "line": {
          "color": "#EF553B"
         },
         "mode": "lines+markers",
         "name": "Sales Division",
         "type": "scatter",
         "x": [
          "2020-01",
          "2020-02",
          "2020-03",
          "2020-04",
          "2020-05",
          "2020-06",
          "2020-07",
          "2020-08",
          "2020-09",
          "2020-10",
          "2020-11",
          "2020-12",
          "2021-01",
          "2021-02",
          "2021-03",
          "2021-04",
          "2021-05",
          "2021-06",
          "2021-07",
          "2021-08",
          "2021-09",
          "2021-10",
          "2021-11",
          "2021-12",
          "2022-01",
          "2022-02",
          "2022-03",
          "2022-04",
          "2022-05",
          "2022-06",
          "2022-07",
          "2022-08",
          "2022-09",
          "2022-10",
          "2022-11",
          "2022-12",
          "2023-01",
          "2023-02",
          "2023-03",
          "2023-04",
          "2023-05",
          "2023-06",
          "2023-07",
          "2023-08",
          "2023-09",
          "2023-10",
          "2023-11",
          "2023-12",
          "2024-01",
          "2024-02",
          "2024-03",
          "2024-04",
          "2024-05",
          "2024-06",
          "2024-07",
          "2024-08",
          "2024-09",
          "2024-10",
          "2024-11",
          "2024-12",
          "2025-01",
          "2025-02",
          "2025-03",
          "2025-04",
          "2025-05",
          "2025-06",
          "2025-07",
          "2025-08"
         ],
         "y": {
          "bdata": "bXuoWvjnBUCKRCKRSCQGQLOM+S/LmANA9mzP9mzPB0DRflOeSyAFQDlYUNLx6QhA91Ckeg9FCEDuKUjXnoIEQFUzolk1IwhAZx8+w64AB0AJ8IwAzwgHQN7d3d3d3QNAJ8eWfnJsA0BuP6jc9oP+P5qZmZmZCQdAM59ilw7QB0B3aCoyUU0EQI1FZknMWARATyAofEMiA0AEiJfVza4GQHxGzw2u6ARAOzi5+NjoBkDSTzA4tpYGQHJSWti4wAVA9VXC2CyoAEBS7k8Rt2kFQPTm260YKwVAQdFWg+cIBUC2YAu2YAsFQD8HITeTvQRA7c+H0xAqBUA9ZEf/SogGQJWc4Gbi9wlAv6Mk7V0NBEDU91GzJkcIQKCzvGOYxwlANGHF5vFKB0A+0srkCYgEQK9Pa15TJQhAfpToY7JYAkBZa6pNEuIEQCVDs1fASAZABy7JNegxBEB/a4IANlwIQFK+cDphfAVA0HL+LOfPCEBag8nWVfEHQFL2/SePRgVAxMPDw8ODCUDt7Ozs7CwGQLS0tLS0tAdAD0NycLV3CUDLSdsOO/MHQGHF5vFKEwZAFl/xFV/xCkAWAoPxvZEJQK+R+Y2GoAZABFKUqCe5CEARV+B/0bMGQH4nZYxftwhALQQG43sjB0COgHVHssQCQDptoNMGugNAt8Aj13dSCEDxM0r8jBIGQJWySra9owZAT09PT0+PA0AVo4a/TTH2Pw==",
          "dtype": "f8"
         }
        },
        {
         "legendgroup": "divisions",
         "line": {
          "color": "#00CC96"
         },
         "mode": "lines+markers",
         "name": "Development Division",
         "type": "scatter",
         "x": [
          "2020-01",
          "2020-02",
          "2020-03",
          "2020-04",
          "2020-05",
          "2020-06",
          "2020-07",
          "2020-08",
          "2020-09",
          "2020-10",
          "2020-11",
          "2020-12",
          "2021-01",
          "2021-02",
          "2021-03",
          "2021-04",
          "2021-05",
          "2021-06",
          "2021-07",
          "2021-08",
          "2021-09",
          "2021-10",
          "2021-11",
          "2021-12",
          "2022-01",
          "2022-02",
          "2022-03",
          "2022-04",
          "2022-05",
          "2022-06",
          "2022-07",
          "2022-08",
          "2022-09",
          "2022-10",
          "2022-11",
          "2022-12",
          "2023-01",
          "2023-02",
          "2023-03",
          "2023-04",
          "2023-05",
          "2023-06",
          "2023-07",
          "2023-08",
          "2023-09",
          "2023-10",
          "2023-11",
          "2023-12",
          "2024-01",
          "2024-02",
          "2024-03",
          "2024-04",
          "2024-05",
          "2024-06",
          "2024-07",
          "2024-08",
          "2024-09",
          "2024-10",
          "2024-11",
          "2024-12",
          "2025-01",
          "2025-02",
          "2025-03",
          "2025-04",
          "2025-05",
          "2025-06",
          "2025-07",
          "2025-08"
         ],
         "y": {
          "bdata": "JZNuJZNuGkAc0j8b0j8VQBkqO0xd7hVArWgk4Ju3FkDgO25yXUYXQPNOi0QKnhhAgJj7h7n/FkDkwj4u7KMXQI0xxhhjzBZAmYzJmIxJFkCGYRiGYRgUQMX+snvysBhA3m632+12FUCFvC5SiXsSQHd3d3d3ARlAjuM4juM4F0CcEW9GvBkSQIuO5PIf0hJANU3TNE3TE0C6qaGdmxoXQEcaT5xvJBhAoiiKoiiKFkAwhzIIcygYQD4tKejX0xZAc+UByTpXFUD/MPcPc38UQOEIwDirNhlAAwmKH2PuF0A9LNSa5h0ZQEqSJEmSJBhAhgdIaHiAF0BUbvtB5bYYQA1yy2HHoBRAEFg5tMh2FUDz/dR46SYUQJBqAKkGkBRABhVC9JGBFkDHcRzHcZwTQDYJPoteExpAFPTraUlBFEDHTmU+DQUXQBJjHjHmERdANoYTqxksFED33nvvvXcXQMttP6jc9hVAZmZmZmYQGECs7h0SVQQVQIoQze5dJhNAetA64DYhFUD/J6E3ScYUQOxm0pXKQRRAcfsOYVOAEEBfR+p1pF4UQMvA0635YQ9Arq2tra2tEkAeHD+m/m4RQEzyobR64RNAJN9kxFFbEkAKHQaIUqwSQHHq99wSpxNAohSLllXwEUDdjFOYErMSQD01C6Ts+w1ABBaT00g1EkBj+FL8kewVQLpi+FL8kRJAFPTraUnBFECrqqqqqqoJQA==",
          "dtype": "f8"
         }
        },
        {
         "legendgroup": "divisions",
         "line": {
          "color": "#AB63FA"
         },
         "mode": "lines+markers",
         "name": "Operating Division",
         "type": "scatter",
         "x": [
          "2020-01",
          "2020-02",
          "2020-03",
          "2020-04",
          "2020-05",
          "2020-06",
          "2020-07",
          "2020-08",
          "2020-09",
          "2020-10",
          "2020-11",
          "2020-12",
          "2021-01",
          "2021-02",
          "2021-03",
          "2021-04",
          "2021-05",
          "2021-06",
          "2021-07",
          "2021-08",
          "2021-09",
          "2021-10",
          "2021-11",
          "2021-12",
          "2022-01",
          "2022-02",
          "2022-03",
          "2022-04",
          "2022-05",
          "2022-06",
          "2022-07",
          "2022-08",
          "2022-09",
          "2022-10",
          "2022-11",
          "2022-12",
          "2023-01",
          "2023-02",
          "2023-03",
          "2023-04",
          "2023-05",
          "2023-06",
          "2023-07",
          "2023-08",
          "2023-09",
          "2023-10",
          "2023-11",
          "2023-12",
          "2024-01",
          "2024-02",
          "2024-03",
          "2024-04",
          "2024-05",
          "2024-06",
          "2024-07",
          "2024-08",
          "2024-09",
          "2024-10",
          "2024-11",
          "2024-12",
          "2025-01",
          "2025-02",
          "2025-03",
          "2025-04",
          "2025-05",
          "2025-06",
          "2025-07",
          "2025-08"
         ],
         "y": {
          "bdata": "ERERERE+R8Bawm5+C2FEwImbNLuoz0bAjDiYwRG9RcAB2IecRJpFwJ9XUpTboEbAwj2vpCj3R8DhdML40RZGwK9iKPPjEUbAIbH7yZX4RcAlJSUlJaVFwANTcwilXEfAG7WjBMTZRMCPS3habnZEwJmESZiEoUbAVWj0q17eRcBpI7o92ZZEwDmO4ziOI0fAHISzVBJnRcBJTTDeyj5GwCVRTGm7DkbA69vxUEL4RcC2TZMPEntGwGELtmALNkfAHCOY6O9kA0AnBdAOlmr9P6VP+qRP+vw/kNM9wLEI/z+W/GLJL5YCQGmWndTPVQRAQwZIPDVk/D9yA45HHTcAQLi1jh4c9QBAQC1VoADUAkDzZzl/lvMDQPRJn/RJHwhABetBqU2wBkB2e12gbbcHQDVgnVID1gVAoy8roerPB0Ac6LSBThsIQPEVX/EVPwNAz0nyefScBkAKg+80BXYGQPUE+kpaTwJAL0BY2eoCBkDcbZLbbZIDQMQxDcQxDQBAnElQHzFZ/z+wtoWXv5kCQL21Yn7KWwNAJEmSJEnyB0AAAAAAAAAKQF0R58cBBAdAXBFrBrwVBUBeEVPmFTEHQAHGfw5g/AVA4z8HMP5zCkB9xVd8xZcHQJnGgGkMmAxA0id90id9CEC3mr7RuVcGQDaImyffkQRA+npZA2+oBEBADtr8OrwAQO1boCFrEgNAVY69SEFGBEAab8QZb8T1Pw==",
          "dtype": "f8"
         }
        },
        {
         "legendgroup": "Planning Division",
         "line": {
          "color": "#636EFA"
         },
         "mode": "lines+markers",
         "name": "Strategy Office",
         "type": "scatter",
         "visible": false,
         "x": [
          "2020-01",
          "2020-02",
          "2020-03",
          "2020-04",
          "2020-05",
          "2020-06",
          "2020-07",
          "2020-08",
          "2020-09",
          "2020-10",
          "2020-11",
          "2020-12",
          "2021-01",
          "2021-02",
          "2021-03",
          "2021-04",
          "2021-05",
          "2021-06",
          "2021-07",
          "2021-08",
          "2021-09",
          "2021-10",
          "2021-11",
          "2021-12",
          "2022-01",
          "2022-02",
          "2022-03",
          "2022-04",
          "2022-05",
          "2022-06",
          "2022-07",
          "2022-08",
          "2022-09",
          "2022-10",
          "2022-11",
          "2022-12",
          "2023-01",
          "2023-02",
          "2023-03",
          "2023-04",
          "2023-05",
          "2023-06",
          "2023-07",
          "2023-08",
          "2023-09",
          "2023-10",
          "2023-11",
          "2023-12",
          "2024-01",
          "2024-02",
          "2024-03",
          "2024-04",
          "2024-05",
          "2024-06",
          "2024-07",
          "2024-08",
          "2024-09",
          "2024-10",
          "2024-11",
          "2024-12",
          "2025-01",
          "2025-02",
          "2025-03",
          "2025-04",
          "2025-05",
          "2025-06",
          "2025-07",
          "2025-08"
         ],
         "y": {
          "bdata": "OY7jOI5jHUBnRSMB37wYQEuNPcwC8hpAZeH7XBY+HEDcTp7B7WQaQBWhirddERtAxg1+nV7cHUCZZ8oEkHkbQH+zdeg3WxpARRNNNNHEGkBVVVVVVZUaQJb8YskvFh5A1SGJulcdG0B7FK5H4XodQDJUdpi6vCBAEpZ7GmE5H0Ch1ZcKWv0aQDmO4ziOoyBAVfDnEUDZIECttdZaay0gQHqCoyc4OiBA3t3d3d2VG0BFURRFURQfQAblYFAOhh9AmpmZmZmFGkAzMzMzM8MaQO/u7u7uuh1A0M/Pz8/PF0DJjv6VEEMbQLRGa7RGaxxAFmzBFmyBHUC9Mrbf0asfQB+32Xju8R9AMMf0TwZzG0AVIPeaC0kbQNmCLdiCLR9AxoBpDJhGIECFV3iFV3gaQLlaF56QyyBAKUMbV/0DGEBl0PinSUYgQLy7u7u7eyBA5ao9ncnCHEDyT5MMGr8bQGn80ySDRhtA6hIFX5auG0Bj+x29MjYdQIv5KW+tGB5AfVNhB9C3H0CVNKotV8kdQNvv6JWxfR1Axajhb1PMHECQrHPlAekfQAu40x+xABxAgkQrbA4kHkCO4ziO49gcQLCd8D8Gdh1Ayt8VHS9cIEDLA5J1rnwaQI/lvdoi1xtAi3zWDaZIHEAJPw95fBkbQHlxHjqGlxxAX+AuSjLnHUCmLrc/yFAcQEjWufKARCBAA/XYoDBQHEAlq3j6PmoSQA==",
          "dtype": "f8"
         }
        },
        {
         "legendgroup": "Planning Division",
         "line": {
          "color": "#EF553B"
         },
         "mode": "lines+markers",
         "name": "Finance Office",
         "type": "scatter",
         "visible": false,
         "x": [
          "2020-01",
          "2020-02",
          "2020-03",
          "2020-04",
          "2020-05",
          "2020-06",
          "2020-07",
          "2020-08",
          "2020-09",
          "2020-10",
          "2020-11",
          "2020-12",
          "2021-01",
          "2021-02",
          "2021-03",
          "2021-04",
          "2021-05",
          "2021-06",
          "2021-07",
          "2021-08",
          "2021-09",
          "2021-10",
          "2021-11",
          "2021-12",
          "2022-01",
          "2022-02",
          "2022-03",
          "2022-04",
          "2022-05",
          "2022-06",
          "2022-07",
          "2022-08",
          "2022-09",
          "2022-10",
          "2022-11",
          "2022-12",
          "2023-01",
          "2023-02",
          "2023-03",
          "2023-04",
          "2023-05",
          "2023-06",
          "2023-07",
          "2023-08",
          "2023-09",
          "2023-10",
          "2023-11",
          "2023-12",
          "2024-01",
          "2024-02",
          "2024-03",
          "2024-04",
          "2024-05",
          "2024-06",
          "2024-07",
          "2024-08",
          "2024-09",
          "2024-10",
          "2024-11",
          "2024-12",
          "2025-01",
          "2025-02",
          "2025-03",
          "2025-04",
          "2025-05",
          "2025-06",
          "2025-07",
          "2025-08"
         ],
         "y": {
          "bdata": "4IH4HYjfC0C/WPKLJb8KQMuyLMuyLA9Aq/dQpHoPC0D/mUzzn8kGQEVRFEVRFAlAtmALtmALDkBfgIvkrO8HQLpBCyHlyQZAsskmm2wyBkAPU5fbH2QKQFOX2x9kqApApwR5SpAnCkAEeUqQpwQIQI75utE9/wlAYcXm8UoTD0AnfdInfVIFQGnLSLFdbQ5A9Emf9Em/CUCxm99CwCgLQNyyVscEDwlAhwRtGSm2B0AREREREZECQDMzMzMzUwZA/tR46SYxCUDxNJgVfioAQC/dJAaBlQVABTG5gphcB0DUNqmu35gFQG+PtQwdsAtAj9TrSL2OBUB/c3n2N5cFQE7gBE7gBAZAJiCjYQIyDECCpZMcWDoJQHRDN3RDNwlAMOgL+oK+BkB/c3n2N5cLQCIiIiIiIg5AGQ0TkNEwD0AvgljtIogSQKRlfOipwA5AERERERGxDUD+hU9lKQ4RQFD6pE/6xAdA9EIv9EKvCUCAYxH+cboNQFs4A0LJnQRAS63USq3U/D8u3/It3/L+P0LJnaKFM/g/NwhnqSQuBkCVByTrXHn8P/xtilHD3/4/HPD4wwGPC0CPurHmqBsEQPfCJlLUWgpAd3d3d3d3D0A3HpwmcvgKQFsCFKolQAxAaSeJdpJoC0B3d3d3d3cJQLy7u7u7OwRAFofZ0LZoBECEe2ETKWoLQLqA19voDwlAgGWbLwdY+j82Yl16zN/7Pw==",
          "dtype": "f8"
         }
        },
        {
         "legendgroup": "Sales Division",
         "line": {
          "color": "#636EFA"
         },
         "mode": "lines+markers",
         "name": "Marketing Office",
         "type": "scatter",
         "visible": false,
         "x": [
          "2020-01",
          "2020-02",
          "2020-03",
          "2020-04",
          "2020-05",
          "2020-06",
          "2020-07",
          "2020-08",
          "2020-09",
          "2020-10",
          "2020-11",
          "2020-12",
          "2021-01",
          "2021-02",
          "2021-03",
          "2021-04",
          "2021-05",
          "2021-06",
          "2021-07",
          "2021-08",
          "2021-09",
          "2021-10",
          "2021-11",
          "2021-12",
          "2022-01",
          "2022-02",
          "2022-03",
          "2022-04",
          "2022-05",
          "2022-06",
          "2022-07",
          "2022-08",
          "2022-09",
          "2022-10",
          "2022-11",
          "2022-12",
          "2023-01",
          "2023-02",
          "2023-03",
          "2023-04",
          "2023-05",
          "2023-06",
          "2023-07",
          "2023-08",
          "2023-09",
          "2023-10",
          "2023-11",
          "2023-12",
          "2024-01",
          "2024-02",
          "2024-03",
          "2024-04",
          "2024-05",
          "2024-06",
          "2024-07",
          "2024-08",
          "2024-09",
          "2024-10",
          "2024-11",
          "2024-12",
          "2025-01",
          "2025-02",
          "2025-03",
          "2025-04",
          "2025-05",
          "2025-06",
          "2025-07",
          "2025-08"
         ],
         "y": {
          "bdata": "wGT5S5a/CkAB4mV1s6sCQPN2hsS8nQVABVuwBVuwB0De3d3d3d39P2ELtmALtgdAz87Ozs7OBEDBwMDAwMAEQBcXFxcXFwpA9Emf9EkfA0Cjhr9NMWr/P2kvob2E9gFASYM0SIM0BkDNzMzMzMwEQAHLNl8OsAtA53d+53d+D0BVVVVVVdUOQOF6FK5HIQpAcSSTwwhHBEC064OmRbsMQPa+JgRl7wdAoWnRrg+aDECwbPPlAMsIQJY49XtuiQRA/GW9X9b7AUDGZEzGZEwGQNejcD0KVwNAL/IiL/IiBUBQ+qRP+qQGQLRGa7RGawVApwR5SpAnAkCSeh2p1xEBQI0B0xgwjQNAVmwerzRh9z+0jA89FZj9PwHfvJp4VgJAFY0EfPNqAkCQbmMKQv/6Pz1eacKKzQNA1q4xXze6AUCTSaq1a8z/Pyd90id90gVAcF5NPCsaA0CcVxPPikYKQG6KUcPfpvw/F1100UWXCECsw7e9OnwLQMcC5XMsUARAx3Ecx3EcDUCcTFKtXWMKQJxXE8+KRgxAO3zbq8O3DUAQBEEQBEENQAeLfrDoBwdAtkqJcgZFE0BjyS+W/GIPQJJq7RrzdQ1ALefPcv6sDUAttvHTYhsLQKzDt706fAlAHcdxHMdRDUCwBVuwBfsDQPByCl5OwQVAZU+dDIdaDEBRy546GQ4FQHmOQNFWgwRAGTX8bYpRA0D6rxAc0jL+Pw==",
          "dtype": "f8"
         }
        },
        {
         "legendgroup": "Sales Division",
         "line": {
          "color": "#EF553B"
         },
         "mode": "lines+markers",
         "name": "Domestic Sales Office",
         "type": "scatter",
         "visible": false,
         "x": [
          "2020-01",
          "2020-02",
          "2020-03",
          "2020-04",
          "2020-05",
          "2020-06",
          "2020-07",
          "2020-08",
          "2020-09",
          "2020-10",
          "2020-11",
          "2020-12",
          "2021-01",
          "2021-02",
          "2021-03",
          "2021-04",
          "2021-05",
          "2021-06",
          "2021-07",
          "2021-08",
          "2021-09",
          "2021-10",
          "2021-11",
          "2021-12",
          "2022-01",
          "2022-02",
          "2022-03",
          "2022-04",
          "2022-05",
          "2022-06",
          "2022-07",
          "2022-08",
          "2022-09",
          "2022-10",
          "2022-11",
          "2022-12",
          "2023-01",
          "2023-02",
          "2023-03",
          "2023-04",
          "2023-05",
          "2023-06",
          "2023-07",
          "2023-08",
          "2023-09",
          "2023-10",
          "2023-11",
          "2023-12",
          "2024-01",
          "2024-02",
          "2024-03",
          "2024-04",
          "2024-05",
          "2024-06",
          "2024-07",
          "2024-08",
          "2024-09",
          "2024-10",
          "2024-11",
          "2024-12",
          "2025-01",
          "2025-02",
          "2025-03",
          "2025-04",
          "2025-05",
          "2025-06",
          "2025-07",
          "2025-08"
         ],
         "y": {
          "bdata": "1q4xXze6BUCtc+UByToJQLrygGSdKwdAhgnIaJiACkDi214dvu0LQKx2EcRqFw9AHPKGvCFvEEAbl6NxORoNQMzRuByNywtAoNMGOm1gD0BiJ3ZiJ3YOQFAIhVAIhQpAY37KWyvmB0AvzkPH8OICQNRDPdRDPQZAAAAAAADABkAsUbsStSsJQDEZkzEZkwZAL8/+5vLsCUDbkrakLWkHQG3jp8U2fghAuiVO/Z5bAUDnljj1e24FQNqxAmGkHQBAQRhpxwqE+z8e4zEe4zEAQIdzOIdzOANAusdtNp57+D/+C7J64r/4Pws7gL6psPc/mpmZmZlZAkAc6LSBTtsKQCyotIJKKwpAbFK2JmVrBkCLLKPIMooMQJNfLPnF0gtAoCkEmkKgA0ADnTbQaYP/P36x5BdLvgNAkwwa/zTJ7D/jnyYZNP71P33WDabIZ/U//Wgb5Qun8z/v7u7u7u4BQBoaGhoaGgpAcnJycnJyB0DgyWp5YwQFQD4K16NwPQRAhpz77AJiB0ASwrpF9e0IQFWQOLz2ngxAVVVVVVVVDEDRw96oFD0LQGTQ+KdJBglAqYAKqIAKCkAEP/ADP/AHQIse9kal6AlA0goqraDSDkB+XtvntX0KQEfhehSuRxFApNQZWENKBUDks24wRT4FQMX8lLdWzANAz5UHJOtcCUAWbMEWbEEMQHUG1pBSZwxA23uKdBUkBkBjY2NjY2P7Pw==",
          "dtype": "f8"
         }
        },
        {
         "legendgroup": "Sales Division",
         "line": {
          "color": "#00CC96"
         },
         "mode": "lines+markers",
         "name": "Global Sales Office",
         "type": "scatter",
         "visible": false,
         "x": [
          "2020-01",
          "2020-02",
          "2020-03",
          "2020-04",
          "2020-05",
          "2020-06",
          "2020-07",
          "2020-08",
          "2020-09",
          "2020-10",
          "2020-11",
          "2020-12",
          "2021-01",
          "2021-02",
          "2021-03",
          "2021-04",
          "2021-05",
          "2021-06",
          "2021-07",
          "2021-08",
          "2021-09",
          "2021-10",
          "2021-11",
          "2021-12",
          "2022-01",
          "2022-02",
          "2022-03",
          "2022-04",
          "2022-05",
          "2022-06",
          "2022-07",
          "2022-08",
          "2022-09",
          "2022-10",
          "2022-11",
          "2022-12",
          "2023-01",
          "2023-02",
          "2023-03",
          "2023-04",
          "2023-05",
          "2023-06",
          "2023-07",
          "2023-08",
          "2023-09",
          "2023-10",
          "2023-11",
          "2023-12",
          "2024-01",
          "2024-02",
          "2024-03",
          "2024-04",
          "2024-05",
          "2024-06",
          "2024-07",
          "2024-08",
          "2024-09",
          "2024-10",
          "2024-11",
          "2024-12",
          "2025-01",
          "2025-02",
          "2025-03",
          "2025-04",
          "2025-05",
          "2025-06",
          "2025-07",
          "2025-08"
         ],
         "y": {
          "bdata": "QJm40r0BA0ADCDfevqQFQEdMeyID6f0/9Uqg9UqgBUBuGMNtGMMDQDnjjTjjjQRAxU7sxE5sA0B2Yid2Yif7P6EXeqEX+gNA2/TfI4cEA0CGI6Y9kYEGQC+Ip8Gs8P8/xG4ZxG4Z/D8FVEAFVEDxP4TZLoTZLgRA6YVe6IXeAkDslkHslkHwP/Tz8/Pz8/s/fdInfdIn+T9u5EZu5MYBQLcMYrcMYv8/U0lcNoLqBkChvYT2EtoFQN9jWm1HkwpA7uQZ3E6eAUDDfCQ2zEcIQKcNdNpApwdAPfw47xF6CkAFdsi/pVcJQGviWdFIwAlAUjfWHHVjCUCpG2uOurEHQKkba466sQ5AAidwAicwCUBstEZrtMYMQM3MzMzMTA5AcQ7ncA5nDkDP9mzP9mwOQPDIsEHcPA9AAYZ8j2m1CkDLC6q8oMoPQHTaQKcNdA5AvUE4SyVxC0DEyEGMHMQKQMZb2eeQmghAob2E9hLaCUAREREREREHQJdyKZdyqQZAUAd1UAf1B0AbrdEarREBQGQ/9mM/9gBAHOi0gU6bBEBMjE+Zdg4CQOYat4sJgwNACpzACZxAAkD3+3S/T/cFQIptl9h2if0/k/sqzIkOAEAZNfxtilEAQKpn7OL1zwBAlD7pkz7pAkCC6hm7eP3/P2SdKw9I1gFARTJOJONEBEDv7u7u7u4CQItSpihligRAP/ZjP/YjAkBbozVaozXpPw==",
          "dtype": "f8"
         }
        },
        {
         "legendgroup": "Development Division",
         "line": {
          "color": "#636EFA"
         },
         "mode": "lines+markers",
         "name": "R&D Office",
         "type": "scatter",
         "visible": false,
         "x": [
          "2020-01",
          "2020-02",
          "2020-03",
          "2020-04",
          "2020-05",
          "2020-06",
          "2020-07",
          "2020-08",
          "2020-09",
          "2020-10",
          "2020-11",
          "2020-12",
          "2021-01",
          "2021-02",
          "2021-03",
          "2021-04",
          "2021-05",
          "2021-06",
          "2021-07",
          "2021-08",
          "2021-09",
          "2021-10",
          "2021-11",
          "2021-12",
          "2022-01",
          "2022-02",
          "2022-03",
          "2022-04",
          "2022-05",
          "2022-06",
          "2022-07",
          "2022-08",
          "2022-09",
          "2022-10",
          "2022-11",
          "2022-12",
          "2023-01",
          "2023-02",
          "2023-03",
          "2023-04",
          "2023-05",
          "2023-06",
          "2023-07",
          "2023-08",
          "2023-09",
          "2023-10",
          "2023-11",
          "2023-12",
          "2024-01",
          "2024-02",
          "2024-03",
          "2024-04",
          "2024-05",
          "2024-06",
          "2024-07",
          "2024-08",
          "2024-09",
          "2024-10",
          "2024-11",
          "2024-12",
          "2025-01",
          "2025-02",
          "2025-03",
          "2025-04",
          "2025-05",
          "2025-06",
          "2025-07",
          "2025-08"
         ],
         "y": {
          "bdata": "jRr+NsUII0DWufKAZP0dQM26l1HFrB9AaS+hvYQGIUANXf5AxtAfQLH9jl4ZWyFAdR1uD1LXHUAHJOtceSAfQKnrcHuQuh5A61x5QLIuIEC68oBknasaQB39KyGGAiFAWoDNZ5wFG0DLNl8OsKwXQFlDSp2BtR5AXmnCis3jH0BZ8oslv9gYQMWJWYJzpxpAjWCiv5PVG0Dsx37sxz4gQE9Wyxsj2CBAFxcXFxc3IECuY2fax4ggQL69vb29vR1ACgoKCgqKHEDZi+fftU4aQGc5f5bzJyFAwsHBwcEBH0Cvrq6urq4fQDDARXLW9x5AWfKLJb9YH0Dsx37sx34gQAQEBAQExBtAK3xexlpTG0B2AxZV+LwbQFmZfmuCAB1AtvolkqDEHkDBY3mvtsgaQA2hkm4UsyJAvO1rJ/yPG0CVhpz77AIhQIcUJ2YJzh9A//7+/v4+G0ApKSkpKUkgQPLx8fHxsR9AcHBwcHBwIUBTU1NTU9MeQHPv36GpSBtAejtDYt7OHkAH9AqJvuQeQDaSimD5QR9AIF5WN7tKGEAhISEhIWEeQHQEirYaPBhAus8uIDaVG0BJ1OwdgEQZQHEEK3gSRx1ALJx8Pb/CGkBTcrEvLCUbQHPDZKcsNxxA/B29MrZfF0BXSaPacpUZQGcBNp9xFhNASZpScfbhF0DCFPmsG0wdQOAlssr7XRhApdA8S2/JHED3AlwkZ30SQA==",
          "dtype": "f8"
         }
        },
        {
         "legendgroup": "Development Division",
         "line": {
          "color": "#EF553B"
         },
         "mode": "lines+markers",
         "name": "QA Office",
         "type": "scatter",
         "visible": false,
         "x": [
          "2020-01",
          "2020-02",
          "2020-03",
          "2020-04",
          "2020-05",
          "2020-06",
          "2020-07",
          "2020-08",
          "2020-09",
          "2020-10",
          "2020-11",
          "2020-12",
          "2021-01",
          "2021-02",
          "2021-03",
          "2021-04",
          "2021-05",
          "2021-06",
          "2021-07",
          "2021-08",
          "2021-09",
          "2021-10",
          "2021-11",
          "2021-12",
          "2022-01",
          "2022-02",
          "2022-03",
          "2022-04",
          "2022-05",
          "2022-06",
          "2022-07",
          "2022-08",
          "2022-09",
          "2022-10",
          "2022-11",
          "2022-12",
          "2023-01",
          "2023-02",
          "2023-03",
          "2023-04",
          "2023-05",
          "2023-06",
          "2023-07",
          "2023-08",
          "2023-09",
          "2023-10",
          "2023-11",
          "2023-12",
          "2024-01",
          "2024-02",
          "2024-03",
          "2024-04",
          "2024-05",
          "2024-06",
          "2024-07",
          "2024-08",
          "2024-09",
          "2024-10",
          "2024-11",
          "2024-12",
          "2025-01",
          "2025-02",
          "2025-03",
          "2025-04",
          "2025-05",
          "2025-06",
          "2025-07",
          "2025-08"
         ],
         "y": {
          "bdata": "Rr703ho2AUDHmxNKNHD/PyCocYdLMPs/3t3d3d3d9j/G+tBYHxoFQMoCCDfevgJAvxNpvhNpCkDHeIzHeIwKQOXk5OTk5AZA4/XPG4SzAUAtlcRlI6gGQKG9hPYS2ghAda48IFnnC0Dx+ucNwlkGQLUdTe6rMBFAWxeekKt1CUBf8RVf8VUDQGmN1miNVgJAD+qgDuqgA0BzsjQwOScHQLRGa7RGawhAnTKuyCnjBUDO1qHfbB0LQE4ZV+SUcQ1AN9YcdWPNCUBplTvvh1YLQLWV1FZSWw1Ar2/t8ej6DkCMtGMFwkgRQC88IVfrwg9AxduuCFW8C0Ch8U+TDBoNQApQqJYAhQhAvLu7u7t7DEDBCZzACZwFQOVSLuVS7gRAQG8QzlJJB0C0nD/L+bMEQOtsqc6W6gZApFVMWsWkBUAJFoFgEQgCQGlyX4U50QdAd3d3d3d3B0A5gRM4gdMIQN9pCuyQfwVAc/uDDJWdB0CE30r4rYQEQB3UQR3UQQVARERERERMBkDNzMzMzFwEQDMzMzMzewFAG0b7TXkuAUAAAAAAAHgDQLSN8oXTCfs/IhPV3Pt3AkDfv0NTkYkBQDMzMzMzUwJAY0XY+VGZAEB/uZNQoBEBQE48KxoJeAJAIwHfvJp4BkAVjQR882oEQI+bXJdxLgRAd3d3d3c3BUDLpVzKpVwIQK6ktpLaSgZAxpJfLPnFBEDygiovqPL2Pw==",
          "dtype": "f8"
         }
        },
        {
         "legendgroup": "Operating Division",
         "line": {
          "color": "#636EFA"
         },
         "mode": "lines+markers",
         "name": "Engineering Office",
         "type": "scatter",
         "visible": false,
         "x": [
          "2020-01",
          "2020-02",
          "2020-03",
          "2020-04",
          "2020-05",
          "2020-06",
          "2020-07",
          "2020-08",
          "2020-09",
          "2020-10",
          "2020-11",
          "2020-12",
          "2021-01",
          "2021-02",
          "2021-03",
          "2021-04",
          "2021-05",
          "2021-06",
          "2021-07",
          "2021-08",
          "2021-09",
          "2021-10",
          "2021-11",
          "2021-12",
          "2022-01",
          "2022-02",
          "2022-03",
          "2022-04",
          "2022-05",
          "2022-06",
          "2022-07",
          "2022-08",
          "2022-09",
          "2022-10",
          "2022-11",
          "2022-12",
          "2023-01",
          "2023-02",
          "2023-03",
          "2023-04",
          "2023-05",
          "2023-06",
          "2023-07",
          "2023-08",
          "2023-09",
          "2023-10",
          "2023-11",
          "2023-12",
          "2024-01",
          "2024-02",
          "2024-03",
          "2024-04",
          "2024-05",
          "2024-06",
          "2024-07",
          "2024-08",
          "2024-09",
          "2024-10",
          "2024-11",
          "2024-12",
          "2025-01",
          "2025-02",
          "2025-03",
          "2025-04",
          "2025-05",
          "2025-06",
          "2025-07",
          "2025-08"
         ],
         "y": {
          "bdata": "3t3d3d09R8CamZmZmQlFwK8AuddcmEfAD+aJ+jeSRsBJUyrOPrxFwG1Xm/57JEbAeRrMCj/VR8COUEZvywpGwBpvxBlvJEbAYfQfqHGHRcATzE7nQ+VFwDmO4ziOs0fAtlVKlDMIRcBDWsaHngpFwBPEySTVukbAR+w7NttKRcAHH3zwwW9FwJqZmZmZGUfA2XdstlVKRcBUgjwlyINGwG9jCkL/OEXAYjF49VwgRcCk+wufyhJGwE7reHNCaUbA+6RP+qSvC0DSJ33SJ10GQJ/0SZ/0yQhAYQu2YAv2BUAnfdInffIMQIlpT2QgvQtA2YIt2IKNA0CqLMUhY68FQK3vBbhIzgBAYcXm8UoTBEAAAAAAAAADQMBFctb3AgNAMYB6H29pBkClRDmDIhcJQJ4jULTV4ABAHcdxHMeRB0ClT/qkT/oKQLy7u7u7OwZAVg4tsp3vCkDuQpjtQpgJQFsdEzyYJwRAXNbqmODBB0CKiYmJiYkFQPf39/f39wFAhNkuhNkuCEBNovdMovcIQOF6FK5H4QtAqlT/qVT/EUBrpVZqpVYRQEqYhEmYBA9AQfWMXbz+C0BCewntJbQNQIzd8Hw05w5AHc7hHM4hEkCxEzuxE7sLQGVlZWVlZRBAPpGB9P5cEED1n0r1n0oHQGZmZmZmZgZAUnH24TPsBkCRYrva9N8FQJQ+6ZM+6QVA+6RP+qQvCUCDLdiCLVj3Pw==",
          "dtype": "f8"
         }
        },
        {
         "legendgroup": "Operating Division",
         "line": {
          "color": "#EF553B"
         },
         "mode": "lines+markers",
         "name": "Production Office",
         "type": "scatter",
         "visible": false,
         "x": [
          "2020-01",
          "2020-02",
          "2020-03",
          "2020-04",
          "2020-05",
          "2020-06",
          "2020-07",
          "2020-08",
          "2020-09",
          "2020-10",
          "2020-11",
          "2020-12",
          "2021-01",
          "2021-02",
          "2021-03",
          "2021-04",
          "2021-05",
          "2021-06",
          "2021-07",
          "2021-08",
          "2021-09",
          "2021-10",
          "2021-11",
          "2021-12",
          "2022-01",
          "2022-02",
          "2022-03",
          "2022-04",
          "2022-05",
          "2022-06",
          "2022-07",
          "2022-08",
          "2022-09",
          "2022-10",
          "2022-11",
          "2022-12",
          "2023-01",
          "2023-02",
          "2023-03",
          "2023-04",
          "2023-05",
          "2023-06",
          "2023-07",
          "2023-08",
          "2023-09",
          "2023-10",
          "2023-11",
          "2023-12",
          "2024-01",
          "2024-02",
          "2024-03",
          "2024-04",
          "2024-05",
          "2024-06",
          "2024-07",
          "2024-08",
          "2024-09",
          "2024-10",
          "2024-11",
          "2024-12",
          "2025-01",
          "2025-02",
          "2025-03",
          "2025-04",
          "2025-05",
          "2025-06",
          "2025-07",
          "2025-08"
         ],
         "y": {
          "bdata": "bRUFckY+R8B3d3d3d7FDwK3jzQkl+kXAXm3675HjRMDDT0XnmHdFwH3SJ33SH0fAHcdxHMcZSMCfqQdWFyNGwOXQItv5/kXA+Yqv+IpXRsDOn+X8WW5FwPG4DI/LEEfAz1sM6by1RMBSN9YcdQNEwLf0qs01jkbAkSg19jBLRsD1BQpLW/9DwGZmZmZmKkfAukPmDpl7RcDuUN0O1Q1GwBAyVHaYskbAWXPUjTWnRsAql3Ipl9JGwD3P8zzPd0fALQ1MzsnS+D/R6ksFrb7wPy105APFQuc/k+IFMile9D+VO++HVrnzPyCT4gUyKfw/SijQiO318z8jwDMCPCP4P8ExhHthEwFArt7qrd7qAUCrqqqqqqIEQOqnn3766QtAIiIiIiLiBkAduCTXoMcGQBsuF5ljPQlAlc6JD2/8B0Ci+Vx/vAwGQJqZmZmZAQFAp4GvqxZjA0Afw8r0WxMEQO/u7u7u7gBA6z4NfF21BEAaGRkZGRkCQDs6Ojo6Ov0/mpmZmZnJ8T/e3d3d3Q37P4QCjdhev/g/Tq7LOBe/+z8zMzMzM/MCQJLGE+cbaQBALuVSLuVS/j+bJcanTDsBQOJZ0UjAN/w/kfnsK/EWAkCCThvotAEEQFbhgWMI9whAf+zHfuxHAUCpgzqog3oFQN+w9g1r3wJAvuqQRN2rAkCgNwhnqST4PwdLtTcpgABA+rOcP8v5/z8uG0H1jF30Pw==",
          "dtype": "f8"
         }
        }
       ],
       "layout": {
        "annotations": [
         {
          "align": "left",
          "showarrow": false,
          "text": "조직 선택:",
          "x": 0,
          "y": 1.08,
          "yref": "paper"
         }
        ],
        "font": {
         "size": 14
        },
        "height": 700,
        "legend": {
         "title": {
          "text": "조직"
         }
        },
        "template": {
         "data": {
          "bar": [
           {
            "error_x": {
             "color": "#2a3f5f"
            },
            "error_y": {
             "color": "#2a3f5f"
            },
            "marker": {
             "line": {
              "color": "#E5ECF6",
              "width": 0.5
             },
             "pattern": {
              "fillmode": "overlay",
              "size": 10,
              "solidity": 0.2
             }
            },
            "type": "bar"
           }
          ],
          "barpolar": [
           {
            "marker": {
             "line": {
              "color": "#E5ECF6",
              "width": 0.5
             },
             "pattern": {
              "fillmode": "overlay",
              "size": 10,
              "solidity": 0.2
             }
            },
            "type": "barpolar"
           }
          ],
          "carpet": [
           {
            "aaxis": {
             "endlinecolor": "#2a3f5f",
             "gridcolor": "white",
             "linecolor": "white",
             "minorgridcolor": "white",
             "startlinecolor": "#2a3f5f"
            },
            "baxis": {
             "endlinecolor": "#2a3f5f",
             "gridcolor": "white",
             "linecolor": "white",
             "minorgridcolor": "white",
             "startlinecolor": "#2a3f5f"
            },
            "type": "carpet"
           }
          ],
          "choropleth": [
           {
            "colorbar": {
             "outlinewidth": 0,
             "ticks": ""
            },
            "type": "choropleth"
           }
          ],
          "contour": [
           {
            "colorbar": {
             "outlinewidth": 0,
             "ticks": ""
            },
            "colorscale": [
             [
              0,
              "#0d0887"
             ],
             [
              0.1111111111111111,
              "#46039f"
             ],
             [
              0.2222222222222222,
              "#7201a8"
             ],
             [
              0.3333333333333333,
              "#9c179e"
             ],
             [
              0.4444444444444444,
              "#bd3786"
             ],
             [
              0.5555555555555556,
              "#d8576b"
             ],
             [
              0.6666666666666666,
              "#ed7953"
             ],
             [
              0.7777777777777778,
              "#fb9f3a"
             ],
             [
              0.8888888888888888,
              "#fdca26"
             ],
             [
              1,
              "#f0f921"
             ]
            ],
            "type": "contour"
           }
          ],
          "contourcarpet": [
           {
            "colorbar": {
             "outlinewidth": 0,
             "ticks": ""
            },
            "type": "contourcarpet"
           }
          ],
          "heatmap": [
           {
            "colorbar": {
             "outlinewidth": 0,
             "ticks": ""
            },
            "colorscale": [
             [
              0,
              "#0d0887"
             ],
             [
              0.1111111111111111,
              "#46039f"
             ],
             [
              0.2222222222222222,
              "#7201a8"
             ],
             [
              0.3333333333333333,
              "#9c179e"
             ],
             [
              0.4444444444444444,
              "#bd3786"
             ],
             [
              0.5555555555555556,
              "#d8576b"
             ],
             [
              0.6666666666666666,
              "#ed7953"
             ],
             [
              0.7777777777777778,
              "#fb9f3a"
             ],
             [
              0.8888888888888888,
              "#fdca26"
             ],
             [
              1,
              "#f0f921"
             ]
            ],
            "type": "heatmap"
           }
          ],
          "histogram": [
           {
            "marker": {
             "pattern": {
              "fillmode": "overlay",
              "size": 10,
              "solidity": 0.2
             }
            },
            "type": "histogram"
           }
          ],
          "histogram2d": [
           {
            "colorbar": {
             "outlinewidth": 0,
             "ticks": ""
            },
            "colorscale": [
             [
              0,
              "#0d0887"
             ],
             [
              0.1111111111111111,
              "#46039f"
             ],
             [
              0.2222222222222222,
              "#7201a8"
             ],
             [
              0.3333333333333333,
              "#9c179e"
             ],
             [
              0.4444444444444444,
              "#bd3786"
             ],
             [
              0.5555555555555556,
              "#d8576b"
             ],
             [
              0.6666666666666666,
              "#ed7953"
             ],
             [
              0.7777777777777778,
              "#fb9f3a"
             ],
             [
              0.8888888888888888,
              "#fdca26"
             ],
             [
              1,
              "#f0f921"
             ]
            ],
            "type": "histogram2d"
           }
          ],
          "histogram2dcontour": [
           {
            "colorbar": {
             "outlinewidth": 0,
             "ticks": ""
            },
            "colorscale": [
             [
              0,
              "#0d0887"
             ],
             [
              0.1111111111111111,
              "#46039f"
             ],
             [
              0.2222222222222222,
              "#7201a8"
             ],
             [
              0.3333333333333333,
              "#9c179e"
             ],
             [
              0.4444444444444444,
              "#bd3786"
             ],
             [
              0.5555555555555556,
              "#d8576b"
             ],
             [
              0.6666666666666666,
              "#ed7953"
             ],
             [
              0.7777777777777778,
              "#fb9f3a"
             ],
             [
              0.8888888888888888,
              "#fdca26"
             ],
             [
              1,
              "#f0f921"
             ]
            ],
            "type": "histogram2dcontour"
           }
          ],
          "mesh3d": [
           {
            "colorbar": {
             "outlinewidth": 0,
             "ticks": ""
            },
            "type": "mesh3d"
           }
          ],
          "parcoords": [
           {
            "line": {
             "colorbar": {
              "outlinewidth": 0,
              "ticks": ""
             }
            },
            "type": "parcoords"
           }
          ],
          "pie": [
           {
            "automargin": true,
            "type": "pie"
           }
          ],
          "scatter": [
           {
            "fillpattern": {
             "fillmode": "overlay",
             "size": 10,
             "solidity": 0.2
            },
            "type": "scatter"
           }
          ],
          "scatter3d": [
           {
            "line": {
             "colorbar": {
              "outlinewidth": 0,
              "ticks": ""
             }
            },
            "marker": {
             "colorbar": {
              "outlinewidth": 0,
              "ticks": ""
             }
            },
            "type": "scatter3d"
           }
          ],
          "scattercarpet": [
           {
            "marker": {
             "colorbar": {
              "outlinewidth": 0,
              "ticks": ""
             }
            },
            "type": "scattercarpet"
           }
          ],
          "scattergeo": [
           {
            "marker": {
             "colorbar": {
              "outlinewidth": 0,
              "ticks": ""
             }
            },
            "type": "scattergeo"
           }
          ],
          "scattergl": [
           {
            "marker": {
             "colorbar": {
              "outlinewidth": 0,
              "ticks": ""
             }
            },
            "type": "scattergl"
           }
          ],
          "scattermap": [
           {
            "marker": {
             "colorbar": {
              "outlinewidth": 0,
              "ticks": ""
             }
            },
            "type": "scattermap"
           }
          ],
          "scattermapbox": [
           {
            "marker": {
             "colorbar": {
              "outlinewidth": 0,
              "ticks": ""
             }
            },
            "type": "scattermapbox"
           }
          ],
          "scatterpolar": [
           {
            "marker": {
             "colorbar": {
              "outlinewidth": 0,
              "ticks": ""
             }
            },
            "type": "scatterpolar"
           }
          ],
          "scatterpolargl": [
           {
            "marker": {
             "colorbar": {
              "outlinewidth": 0,
              "ticks": ""
             }
            },
            "type": "scatterpolargl"
           }
          ],
          "scatterternary": [
           {
            "marker": {
             "colorbar": {
              "outlinewidth": 0,
              "ticks": ""
             }
            },
            "type": "scatterternary"
           }
          ],
          "surface": [
           {
            "colorbar": {
             "outlinewidth": 0,
             "ticks": ""
            },
            "colorscale": [
             [
              0,
              "#0d0887"
             ],
             [
              0.1111111111111111,
              "#46039f"
             ],
             [
              0.2222222222222222,
              "#7201a8"
             ],
             [
              0.3333333333333333,
              "#9c179e"
             ],
             [
              0.4444444444444444,
              "#bd3786"
             ],
             [
              0.5555555555555556,
              "#d8576b"
             ],
             [
              0.6666666666666666,
              "#ed7953"
             ],
             [
              0.7777777777777778,
              "#fb9f3a"
             ],
             [
              0.8888888888888888,
              "#fdca26"
             ],
             [
              1,
              "#f0f921"
             ]
            ],
            "type": "surface"
           }
          ],
          "table": [
           {
            "cells": {
             "fill": {
              "color": "#EBF0F8"
             },
             "line": {
              "color": "white"
             }
            },
            "header": {
             "fill": {
              "color": "#C8D4E3"
             },
             "line": {
              "color": "white"
             }
            },
            "type": "table"
           }
          ]
         },
         "layout": {
          "annotationdefaults": {
           "arrowcolor": "#2a3f5f",
           "arrowhead": 0,
           "arrowwidth": 1
          },
          "autotypenumbers": "strict",
          "coloraxis": {
           "colorbar": {
            "outlinewidth": 0,
            "ticks": ""
           }
          },
          "colorscale": {
           "diverging": [
            [
             0,
             "#8e0152"
            ],
            [
             0.1,
             "#c51b7d"
            ],
            [
             0.2,
             "#de77ae"
            ],
            [
             0.3,
             "#f1b6da"
            ],
            [
             0.4,
             "#fde0ef"
            ],
            [
             0.5,
             "#f7f7f7"
            ],
            [
             0.6,
             "#e6f5d0"
            ],
            [
             0.7,
             "#b8e186"
            ],
            [
             0.8,
             "#7fbc41"
            ],
            [
             0.9,
             "#4d9221"
            ],
            [
             1,
             "#276419"
            ]
           ],
           "sequential": [
            [
             0,
             "#0d0887"
            ],
            [
             0.1111111111111111,
             "#46039f"
            ],
            [
             0.2222222222222222,
             "#7201a8"
            ],
            [
             0.3333333333333333,
             "#9c179e"
            ],
            [
             0.4444444444444444,
             "#bd3786"
            ],
            [
             0.5555555555555556,
             "#d8576b"
            ],
            [
             0.6666666666666666,
             "#ed7953"
            ],
            [
             0.7777777777777778,
             "#fb9f3a"
            ],
            [
             0.8888888888888888,
             "#fdca26"
            ],
            [
             1,
             "#f0f921"
            ]
           ],
           "sequentialminus": [
            [
             0,
             "#0d0887"
            ],
            [
             0.1111111111111111,
             "#46039f"
            ],
            [
             0.2222222222222222,
             "#7201a8"
            ],
            [
             0.3333333333333333,
             "#9c179e"
            ],
            [
             0.4444444444444444,
             "#bd3786"
            ],
            [
             0.5555555555555556,
             "#d8576b"
            ],
            [
             0.6666666666666666,
             "#ed7953"
            ],
            [
             0.7777777777777778,
             "#fb9f3a"
            ],
            [
             0.8888888888888888,
             "#fdca26"
            ],
            [
             1,
             "#f0f921"
            ]
           ]
          },
          "colorway": [
           "#636efa",
           "#EF553B",
           "#00cc96",
           "#ab63fa",
           "#FFA15A",
           "#19d3f3",
           "#FF6692",
           "#B6E880",
           "#FF97FF",
           "#FECB52"
          ],
          "font": {
           "color": "#2a3f5f"
          },
          "geo": {
           "bgcolor": "white",
           "lakecolor": "white",
           "landcolor": "#E5ECF6",
           "showlakes": true,
           "showland": true,
           "subunitcolor": "white"
          },
          "hoverlabel": {
           "align": "left"
          },
          "hovermode": "closest",
          "mapbox": {
           "style": "light"
          },
          "paper_bgcolor": "white",
          "plot_bgcolor": "#E5ECF6",
          "polar": {
           "angularaxis": {
            "gridcolor": "white",
            "linecolor": "white",
            "ticks": ""
           },
           "bgcolor": "#E5ECF6",
           "radialaxis": {
            "gridcolor": "white",
            "linecolor": "white",
            "ticks": ""
           }
          },
          "scene": {
           "xaxis": {
            "backgroundcolor": "#E5ECF6",
            "gridcolor": "white",
            "gridwidth": 2,
            "linecolor": "white",
            "showbackground": true,
            "ticks": "",
            "zerolinecolor": "white"
           },
           "yaxis": {
            "backgroundcolor": "#E5ECF6",
            "gridcolor": "white",
            "gridwidth": 2,
            "linecolor": "white",
            "showbackground": true,
            "ticks": "",
            "zerolinecolor": "white"
           },
           "zaxis": {
            "backgroundcolor": "#E5ECF6",
            "gridcolor": "white",
            "gridwidth": 2,
            "linecolor": "white",
            "showbackground": true,
            "ticks": "",
            "zerolinecolor": "white"
           }
          },
          "shapedefaults": {
           "line": {
            "color": "#2a3f5f"
           }
          },
          "ternary": {
           "aaxis": {
            "gridcolor": "white",
            "linecolor": "white",
            "ticks": ""
           },
           "baxis": {
            "gridcolor": "white",
            "linecolor": "white",
            "ticks": ""
           },
           "bgcolor": "#E5ECF6",
           "caxis": {
            "gridcolor": "white",
            "linecolor": "white",
            "ticks": ""
           }
          },
          "title": {
           "x": 0.05
          },
          "xaxis": {
           "automargin": true,
           "gridcolor": "white",
           "linecolor": "white",
           "ticks": "",
           "title": {
            "standoff": 15
           },
           "zerolinecolor": "white",
           "zerolinewidth": 2
          },
          "yaxis": {
           "automargin": true,
           "gridcolor": "white",
           "linecolor": "white",
           "ticks": "",
           "title": {
            "standoff": 15
           },
           "zerolinecolor": "white",
           "zerolinewidth": 2
          }
         }
        },
        "title": {
         "text": "조직별 월 평균 1인당 초과근무 시간 드릴다운 분석"
        },
        "updatemenus": [
         {
          "active": 0,
          "buttons": [
           {
            "args": [
             {
              "visible": [
               true,
               true,
               true,
               true,
               false,
               false,
               false,
               false,
               false,
               false,
               false,
               false,
               false
              ]
             },
             {
              "title": "전체 Division별 월 평균 초과근무 시간 추이"
             }
            ],
            "label": "전체",
            "method": "update"
           },
           {
            "args": [
             {
              "visible": [
               false,
               false,
               false,
               false,
               true,
               true,
               false,
               false,
               false,
               false,
               false,
               false,
               false
              ]
             },
             {
              "title": "Planning Division 내 Office별 월 평균 초과근무 시간 추이"
             }
            ],
            "label": "Planning Division",
            "method": "update"
           },
           {
            "args": [
             {
              "visible": [
               false,
               false,
               false,
               false,
               false,
               false,
               true,
               true,
               true,
               false,
               false,
               false,
               false
              ]
             },
             {
              "title": "Sales Division 내 Office별 월 평균 초과근무 시간 추이"
             }
            ],
            "label": "Sales Division",
            "method": "update"
           },
           {
            "args": [
             {
              "visible": [
               false,
               false,
               false,
               false,
               false,
               false,
               false,
               false,
               false,
               true,
               true,
               false,
               false
              ]
             },
             {
              "title": "Development Division 내 Office별 월 평균 초과근무 시간 추이"
             }
            ],
            "label": "Development Division",
            "method": "update"
           },
           {
            "args": [
             {
              "visible": [
               false,
               false,
               false,
               false,
               false,
               false,
               false,
               false,
               false,
               false,
               false,
               true,
               true
              ]
             },
             {
              "title": "Operating Division 내 Office별 월 평균 초과근무 시간 추이"
             }
            ],
            "label": "Operating Division",
            "method": "update"
           }
          ],
          "direction": "down",
          "pad": {
           "r": 10,
           "t": 10
          },
          "showactive": true,
          "x": 0.01,
          "xanchor": "left",
          "y": 1.1,
          "yanchor": "top"
         }
        ],
        "xaxis": {
         "range": [
          "2019-12",
          "2026-01"
         ],
         "title": {
          "text": "월(YYYY-MM)"
         }
        },
        "yaxis": {
         "range": [
          -53.97324074074075,
          15.288981481481484
         ],
         "title": {
          "text": "1인당 평균 초과근무 (시간)"
         }
        }
       }
      }
     },
     "metadata": {},
     "output_type": "display_data"
    }
   ],
   "source": [
    "import pandas as pd\n",
    "import numpy as np\n",
    "import plotly.graph_objects as go\n",
    "import plotly.io as pio\n",
    "import plotly.express as px\n",
    "import datetime\n",
    "\n",
    "# --- 1. 데이터 임포트 ---\n",
    "from services.tables.Time_Attendance.daily_working_info_table import daily_work_info_df\n",
    "from services.tables.HR_Core.department_info_table import department_info_df\n",
    "from services.tables.HR_Core.department_table import (\n",
    "    dept_level_map, parent_map_dept, dept_name_map,\n",
    "    division_order, office_order\n",
    ")\n",
    "from services.helpers.utils import find_parents\n",
    "\n",
    "def create_figure():\n",
    "    \"\"\"\n",
    "    제안 13: 조직 워라밸 변화 추이 그래프를 생성합니다.\n",
    "    \"\"\"\n",
    "    # --- 2. 데이터 준비 및 가공 ---\n",
    "    daily_work_df = daily_work_info_df.copy()\n",
    "    daily_work_df['DATE'] = pd.to_datetime(daily_work_df['DATE'])\n",
    "    daily_work_df['PAY_PERIOD'] = daily_work_df['DATE'].dt.strftime('%Y-%m')\n",
    "    dept_info_sorted = department_info_df.sort_values(['DEP_APP_START_DATE', 'EMP_ID'])\n",
    "    analysis_df = daily_work_df.sort_values(['DATE', 'EMP_ID'])\n",
    "    analysis_df = pd.merge_asof(\n",
    "        analysis_df, dept_info_sorted[['EMP_ID', 'DEP_APP_START_DATE', 'DEP_ID']],\n",
    "        left_on='DATE', right_on='DEP_APP_START_DATE', by='EMP_ID', direction='backward'\n",
    "    )\n",
    "    parent_info = analysis_df['DEP_ID'].apply(lambda x: find_parents(x, dept_level_map, parent_map_dept, dept_name_map))\n",
    "    analysis_df = pd.concat([analysis_df, parent_info], axis=1)\n",
    "    analysis_df['OFFICE_NAME'] = analysis_df['OFFICE_NAME'].fillna('(Division 직속)')\n",
    "    analysis_df = analysis_df.dropna(subset=['DIVISION_NAME', 'OFFICE_NAME'])\n",
    "    analysis_df['DIVISION_NAME'] = pd.Categorical(analysis_df['DIVISION_NAME'], categories=division_order, ordered=True)\n",
    "    analysis_df = analysis_df.sort_values('DIVISION_NAME')\n",
    "\n",
    "    # --- 3. 계층별 데이터 집계 ---\n",
    "    div_monthly_summary = analysis_df.groupby(['DIVISION_NAME', 'PAY_PERIOD'], observed=True).agg(\n",
    "        TOTAL_OVERTIME_MINUTES=('OVERTIME_MINUTES', 'sum'), HEADCOUNT=('EMP_ID', 'nunique')\n",
    "    ).reset_index()\n",
    "    div_monthly_summary['AVG_OVERTIME_PER_PERSON'] = (div_monthly_summary['TOTAL_OVERTIME_MINUTES'] / div_monthly_summary['HEADCOUNT']) / 60\n",
    "    office_monthly_summary = analysis_df.groupby(['DIVISION_NAME', 'OFFICE_NAME', 'PAY_PERIOD'], observed=True).agg(\n",
    "        TOTAL_OVERTIME_MINUTES=('OVERTIME_MINUTES', 'sum'), HEADCOUNT=('EMP_ID', 'nunique')\n",
    "    ).reset_index()\n",
    "    office_monthly_summary['AVG_OVERTIME_PER_PERSON'] = (office_monthly_summary['TOTAL_OVERTIME_MINUTES'] / office_monthly_summary['HEADCOUNT']) / 60\n",
    "    \n",
    "    all_overtime_values = pd.concat([div_monthly_summary['AVG_OVERTIME_PER_PERSON'], office_monthly_summary['AVG_OVERTIME_PER_PERSON']])\n",
    "    y_min, y_max = (all_overtime_values.min(), all_overtime_values.max()) if not all_overtime_values.empty else (0, 0)\n",
    "    y_padding = (y_max - y_min) * 0.1 if (y_max - y_min) > 0 else 10\n",
    "    fixed_y_range = [y_min - y_padding, y_max + y_padding]\n",
    "\n",
    "    # --- 4. Plotly 인터랙티브 그래프 생성 ---\n",
    "    fig = go.Figure()\n",
    "    colors = px.colors.qualitative.Plotly\n",
    "\n",
    "    for i, div_name in enumerate(division_order):\n",
    "        df_filtered = div_monthly_summary[div_monthly_summary['DIVISION_NAME'] == div_name]\n",
    "        if not df_filtered.empty:\n",
    "            fig.add_trace(go.Scatter(x=df_filtered['PAY_PERIOD'], y=df_filtered['AVG_OVERTIME_PER_PERSON'], mode='lines+markers', name=div_name, line=dict(color=colors[i]), legendgroup='divisions'))\n",
    "\n",
    "    office_traces_map = {}\n",
    "    for i, div_name in enumerate(division_order):\n",
    "        office_df = office_monthly_summary[office_monthly_summary['DIVISION_NAME'] == div_name]\n",
    "        sorted_offices = [o for o in office_order if o in office_df['OFFICE_NAME'].unique()]\n",
    "        office_traces_map[div_name] = []\n",
    "        for j, office_name in enumerate(sorted_offices):\n",
    "            df_filtered = office_df[office_df['OFFICE_NAME'] == office_name]\n",
    "            if not df_filtered.empty:\n",
    "                fig.add_trace(go.Scatter(x=df_filtered['PAY_PERIOD'], y=df_filtered['AVG_OVERTIME_PER_PERSON'], mode='lines+markers', name=office_name, visible=False, line=dict(color=colors[j % len(colors)]), legendgroup=div_name))\n",
    "    \n",
    "    buttons = []\n",
    "    visible_div = [True]*len(division_order) + [False]*(len(fig.data)-len(division_order))\n",
    "    buttons.append(dict(label='전체', method='update', args=[{'visible': visible_div}, {'title': '전체 Division별 월 평균 초과근무 시간 추이'}]))\n",
    "\n",
    "    trace_idx_counter = len(division_order)\n",
    "    for div_name in division_order:\n",
    "        visibility_mask = [False] * len(fig.data)\n",
    "        # --- 수정된 부분: office_summary -> office_monthly_summary ---\n",
    "        offices_in_div = [o for o in office_order if o in office_monthly_summary[office_monthly_summary['DIVISION_NAME'] == div_name]['OFFICE_NAME'].unique()]\n",
    "        # --- 수정 완료 ---\n",
    "        num_offices = len(offices_in_div)\n",
    "        for i in range(num_offices):\n",
    "            visibility_mask[trace_idx_counter + i] = True\n",
    "        \n",
    "        buttons.append(dict(label=f'{div_name}', method='update', args=[{'visible': visibility_mask}, {'title': f'{div_name} 내 Office별 월 평균 초과근무 시간 추이'}]))\n",
    "        trace_idx_counter += num_offices\n",
    "\n",
    "    fig.update_layout(\n",
    "        updatemenus=[dict(active=0, buttons=buttons, direction=\"down\", pad={\"r\": 10, \"t\": 10}, showactive=True, x=0.01, xanchor=\"left\", y=1.1, yanchor=\"top\")],\n",
    "        title_text='조직별 월 평균 1인당 초과근무 시간 드릴다운 분석',\n",
    "        xaxis_title='월(YYYY-MM)', yaxis_title='1인당 평균 초과근무 (시간)',\n",
    "        font_size=14, height=700,\n",
    "        legend_title_text='조직',\n",
    "        annotations=[dict(text=\"조직 선택:\", showarrow=False, x=0, y=1.08, yref=\"paper\", align=\"left\")],\n",
    "        xaxis_range=['2019-12', '2026-01'],\n",
    "        yaxis_range=fixed_y_range\n",
    "    )\n",
    "    \n",
    "    return fig\n",
    "\n",
    "# 이 파일을 직접 실행할 경우 그래프를 생성하여 보여줍니다.\n",
    "pio.renderers.default = 'vscode'\n",
    "fig = create_figure()\n",
    "fig.show()"
   ]
  },
  {
   "cell_type": "code",
   "execution_count": null,
   "id": "84fbe5c9",
   "metadata": {},
   "outputs": [],
   "source": []
  }
 ],
 "metadata": {
  "kernelspec": {
   "display_name": "Python 3 (ipykernel)",
   "language": "python",
   "name": "python3"
  },
  "language_info": {
   "codemirror_mode": {
    "name": "ipython",
    "version": 3
   },
   "file_extension": ".py",
   "mimetype": "text/x-python",
   "name": "python",
   "nbconvert_exporter": "python",
   "pygments_lexer": "ipython3",
   "version": "3.12.11"
  }
 },
 "nbformat": 4,
 "nbformat_minor": 5
}
